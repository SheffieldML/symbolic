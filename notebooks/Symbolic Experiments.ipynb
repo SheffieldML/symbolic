{
 "metadata": {
  "name": "",
  "signature": "sha256:2be406ec17b1e13377d7e902b84bd8cebd19bd322ad65b21c73b92369bad9f3a"
 },
 "nbformat": 3,
 "nbformat_minor": 0,
 "worksheets": [
  {
   "cells": [
    {
     "cell_type": "code",
     "collapsed": false,
     "input": [
      "import GPy\n",
      "import numpy as np\n",
      "import sympy as sym; sym.init_printing()"
     ],
     "language": "python",
     "metadata": {},
     "outputs": [],
     "prompt_number": 1
    },
    {
     "cell_type": "code",
     "collapsed": false,
     "input": [
      "kern = GPy.kern.Eq(1, lengthscale=2.0, variance=1.0)\n",
      "print kern\n",
      "kern.variables['theta']"
     ],
     "language": "python",
     "metadata": {},
     "outputs": [
      {
       "ename": "AttributeError",
       "evalue": "'module' object has no attribute 'functions'",
       "output_type": "pyerr",
       "traceback": [
        "\u001b[0;31m---------------------------------------------------------------------------\u001b[0m\n\u001b[0;31mAttributeError\u001b[0m                            Traceback (most recent call last)",
        "\u001b[0;32m<ipython-input-2-1953b7316867>\u001b[0m in \u001b[0;36m<module>\u001b[0;34m()\u001b[0m\n\u001b[0;32m----> 1\u001b[0;31m \u001b[0mkern\u001b[0m \u001b[0;34m=\u001b[0m \u001b[0mGPy\u001b[0m\u001b[0;34m.\u001b[0m\u001b[0mkern\u001b[0m\u001b[0;34m.\u001b[0m\u001b[0mEq\u001b[0m\u001b[0;34m(\u001b[0m\u001b[0;36m1\u001b[0m\u001b[0;34m,\u001b[0m \u001b[0mlengthscale\u001b[0m\u001b[0;34m=\u001b[0m\u001b[0;36m2.0\u001b[0m\u001b[0;34m,\u001b[0m \u001b[0mvariance\u001b[0m\u001b[0;34m=\u001b[0m\u001b[0;36m1.0\u001b[0m\u001b[0;34m)\u001b[0m\u001b[0;34m\u001b[0m\u001b[0m\n\u001b[0m\u001b[1;32m      2\u001b[0m \u001b[0;32mprint\u001b[0m \u001b[0mkern\u001b[0m\u001b[0;34m\u001b[0m\u001b[0m\n\u001b[1;32m      3\u001b[0m \u001b[0mkern\u001b[0m\u001b[0;34m.\u001b[0m\u001b[0mvariables\u001b[0m\u001b[0;34m[\u001b[0m\u001b[0;34m'theta'\u001b[0m\u001b[0;34m]\u001b[0m\u001b[0;34m\u001b[0m\u001b[0m\n",
        "\u001b[0;32m/Users/neil/SheffieldML/GPy/GPy/core/parameterization/parameterized.pyc\u001b[0m in \u001b[0;36m__call__\u001b[0;34m(self, *args, **kw)\u001b[0m\n\u001b[1;32m     14\u001b[0m \u001b[0;32mclass\u001b[0m \u001b[0mParametersChangedMeta\u001b[0m\u001b[0;34m(\u001b[0m\u001b[0mtype\u001b[0m\u001b[0;34m)\u001b[0m\u001b[0;34m:\u001b[0m\u001b[0;34m\u001b[0m\u001b[0m\n\u001b[1;32m     15\u001b[0m     \u001b[0;32mdef\u001b[0m \u001b[0m__call__\u001b[0m\u001b[0;34m(\u001b[0m\u001b[0mself\u001b[0m\u001b[0;34m,\u001b[0m \u001b[0;34m*\u001b[0m\u001b[0margs\u001b[0m\u001b[0;34m,\u001b[0m \u001b[0;34m**\u001b[0m\u001b[0mkw\u001b[0m\u001b[0;34m)\u001b[0m\u001b[0;34m:\u001b[0m\u001b[0;34m\u001b[0m\u001b[0m\n\u001b[0;32m---> 16\u001b[0;31m         \u001b[0minstance\u001b[0m \u001b[0;34m=\u001b[0m \u001b[0msuper\u001b[0m\u001b[0;34m(\u001b[0m\u001b[0mParametersChangedMeta\u001b[0m\u001b[0;34m,\u001b[0m \u001b[0mself\u001b[0m\u001b[0;34m)\u001b[0m\u001b[0;34m.\u001b[0m\u001b[0m__call__\u001b[0m\u001b[0;34m(\u001b[0m\u001b[0;34m*\u001b[0m\u001b[0margs\u001b[0m\u001b[0;34m,\u001b[0m \u001b[0;34m**\u001b[0m\u001b[0mkw\u001b[0m\u001b[0;34m)\u001b[0m\u001b[0;34m\u001b[0m\u001b[0m\n\u001b[0m\u001b[1;32m     17\u001b[0m         \u001b[0minstance\u001b[0m\u001b[0;34m.\u001b[0m\u001b[0mparameters_changed\u001b[0m\u001b[0;34m(\u001b[0m\u001b[0;34m)\u001b[0m\u001b[0;34m\u001b[0m\u001b[0m\n\u001b[1;32m     18\u001b[0m         \u001b[0;32mreturn\u001b[0m \u001b[0minstance\u001b[0m\u001b[0;34m\u001b[0m\u001b[0m\n",
        "\u001b[0;32m/Users/neil/SheffieldML/GPy/GPy/kern/_src/eq.pyc\u001b[0m in \u001b[0;36m__init__\u001b[0;34m(self, input_dim, output_dim, variance, lengthscale, name)\u001b[0m\n\u001b[1;32m     27\u001b[0m         \u001b[0mf\u001b[0m \u001b[0;34m=\u001b[0m \u001b[0mvariance\u001b[0m\u001b[0;34m*\u001b[0m\u001b[0msym\u001b[0m\u001b[0;34m.\u001b[0m\u001b[0mexp\u001b[0m\u001b[0;34m(\u001b[0m\u001b[0;34m-\u001b[0m\u001b[0mdist\u001b[0m\u001b[0;34m/\u001b[0m\u001b[0;34m(\u001b[0m\u001b[0;36m2\u001b[0m\u001b[0;34m*\u001b[0m\u001b[0mlengthscale\u001b[0m\u001b[0;34m**\u001b[0m\u001b[0;36m2\u001b[0m\u001b[0;34m)\u001b[0m\u001b[0;34m)\u001b[0m\u001b[0;34m\u001b[0m\u001b[0m\n\u001b[1;32m     28\u001b[0m         \u001b[0;31m# extra input dim is to signify the output dimension.\u001b[0m\u001b[0;34m\u001b[0m\u001b[0;34m\u001b[0m\u001b[0m\n\u001b[0;32m---> 29\u001b[0;31m         \u001b[0msuper\u001b[0m\u001b[0;34m(\u001b[0m\u001b[0mEq\u001b[0m\u001b[0;34m,\u001b[0m \u001b[0mself\u001b[0m\u001b[0;34m)\u001b[0m\u001b[0;34m.\u001b[0m\u001b[0m__init__\u001b[0m\u001b[0;34m(\u001b[0m\u001b[0minput_dim\u001b[0m\u001b[0;34m=\u001b[0m\u001b[0minput_dim\u001b[0m\u001b[0;34m,\u001b[0m \u001b[0mk\u001b[0m\u001b[0;34m=\u001b[0m\u001b[0mf\u001b[0m\u001b[0;34m,\u001b[0m \u001b[0moutput_dim\u001b[0m\u001b[0;34m=\u001b[0m\u001b[0moutput_dim\u001b[0m\u001b[0;34m,\u001b[0m \u001b[0mparameters\u001b[0m\u001b[0;34m=\u001b[0m\u001b[0mparameters\u001b[0m\u001b[0;34m,\u001b[0m \u001b[0mname\u001b[0m\u001b[0;34m=\u001b[0m\u001b[0mname\u001b[0m\u001b[0;34m)\u001b[0m\u001b[0;34m\u001b[0m\u001b[0m\n\u001b[0m\u001b[1;32m     30\u001b[0m \u001b[0;34m\u001b[0m\u001b[0m\n",
        "\u001b[0;32m/Users/neil/SheffieldML/GPy/GPy/kern/_src/symbolic.pyc\u001b[0m in \u001b[0;36m__init__\u001b[0;34m(self, input_dim, k, output_dim, name, parameters, active_dims, operators, func_modules)\u001b[0m\n\u001b[1;32m     17\u001b[0m         \u001b[0mkdiag\u001b[0m \u001b[0;34m=\u001b[0m \u001b[0mk\u001b[0m\u001b[0;34m\u001b[0m\u001b[0m\n\u001b[1;32m     18\u001b[0m         \u001b[0mself\u001b[0m\u001b[0;34m.\u001b[0m\u001b[0mcacheable\u001b[0m \u001b[0;34m=\u001b[0m \u001b[0;34m[\u001b[0m\u001b[0;34m'X'\u001b[0m\u001b[0;34m,\u001b[0m \u001b[0;34m'Z'\u001b[0m\u001b[0;34m]\u001b[0m\u001b[0;34m\u001b[0m\u001b[0m\n\u001b[0;32m---> 19\u001b[0;31m         \u001b[0mSymbolic_core\u001b[0m\u001b[0;34m.\u001b[0m\u001b[0m__init__\u001b[0m\u001b[0;34m(\u001b[0m\u001b[0mself\u001b[0m\u001b[0;34m,\u001b[0m \u001b[0;34m{\u001b[0m\u001b[0;34m'k'\u001b[0m\u001b[0;34m:\u001b[0m\u001b[0mk\u001b[0m\u001b[0;34m,\u001b[0m\u001b[0;34m'kdiag'\u001b[0m\u001b[0;34m:\u001b[0m\u001b[0mkdiag\u001b[0m\u001b[0;34m}\u001b[0m\u001b[0;34m,\u001b[0m \u001b[0mcacheable\u001b[0m\u001b[0;34m=\u001b[0m\u001b[0mself\u001b[0m\u001b[0;34m.\u001b[0m\u001b[0mcacheable\u001b[0m\u001b[0;34m,\u001b[0m \u001b[0mderivatives\u001b[0m \u001b[0;34m=\u001b[0m \u001b[0;34m[\u001b[0m\u001b[0;34m'X'\u001b[0m\u001b[0;34m,\u001b[0m \u001b[0;34m'theta'\u001b[0m\u001b[0;34m]\u001b[0m\u001b[0;34m,\u001b[0m \u001b[0mparameters\u001b[0m\u001b[0;34m=\u001b[0m\u001b[0mparameters\u001b[0m\u001b[0;34m,\u001b[0m \u001b[0mfunc_modules\u001b[0m\u001b[0;34m=\u001b[0m\u001b[0mfunc_modules\u001b[0m\u001b[0;34m)\u001b[0m\u001b[0;34m\u001b[0m\u001b[0m\n\u001b[0m\u001b[1;32m     20\u001b[0m         \u001b[0mself\u001b[0m\u001b[0;34m.\u001b[0m\u001b[0moutput_dim\u001b[0m \u001b[0;34m=\u001b[0m \u001b[0moutput_dim\u001b[0m\u001b[0;34m\u001b[0m\u001b[0m\n\u001b[1;32m     21\u001b[0m \u001b[0;34m\u001b[0m\u001b[0m\n",
        "\u001b[0;32m/Users/neil/SheffieldML/GPy/GPy/core/symbolic.pyc\u001b[0m in \u001b[0;36m__init__\u001b[0;34m(self, expressions, cacheable, derivatives, parameters, func_modules)\u001b[0m\n\u001b[1;32m     34\u001b[0m                           \u001b[0;34m'erfcx'\u001b[0m\u001b[0;34m:\u001b[0m\u001b[0mscipy\u001b[0m\u001b[0;34m.\u001b[0m\u001b[0mspecial\u001b[0m\u001b[0;34m.\u001b[0m\u001b[0merfcx\u001b[0m\u001b[0;34m,\u001b[0m\u001b[0;34m\u001b[0m\u001b[0m\n\u001b[1;32m     35\u001b[0m                           \u001b[0;34m'polygamma'\u001b[0m\u001b[0;34m:\u001b[0m\u001b[0mscipy\u001b[0m\u001b[0;34m.\u001b[0m\u001b[0mspecial\u001b[0m\u001b[0;34m.\u001b[0m\u001b[0mpolygamma\u001b[0m\u001b[0;34m,\u001b[0m\u001b[0;34m\u001b[0m\u001b[0m\n\u001b[0;32m---> 36\u001b[0;31m                           \u001b[0;34m'normcdf'\u001b[0m\u001b[0;34m:\u001b[0m\u001b[0mGPy\u001b[0m\u001b[0;34m.\u001b[0m\u001b[0mutil\u001b[0m\u001b[0;34m.\u001b[0m\u001b[0mfunctions\u001b[0m\u001b[0;34m.\u001b[0m\u001b[0mnormcdf\u001b[0m\u001b[0;34m,\u001b[0m\u001b[0;34m\u001b[0m\u001b[0m\n\u001b[0m\u001b[1;32m     37\u001b[0m                           \u001b[0;34m'normcdfln'\u001b[0m\u001b[0;34m:\u001b[0m\u001b[0mGPy\u001b[0m\u001b[0;34m.\u001b[0m\u001b[0mutil\u001b[0m\u001b[0;34m.\u001b[0m\u001b[0mfunctions\u001b[0m\u001b[0;34m.\u001b[0m\u001b[0mnormcdfln\u001b[0m\u001b[0;34m,\u001b[0m\u001b[0;34m\u001b[0m\u001b[0m\n\u001b[1;32m     38\u001b[0m                           \u001b[0;34m'logistic'\u001b[0m\u001b[0;34m:\u001b[0m\u001b[0mGPy\u001b[0m\u001b[0;34m.\u001b[0m\u001b[0mutil\u001b[0m\u001b[0;34m.\u001b[0m\u001b[0mfunctions\u001b[0m\u001b[0;34m.\u001b[0m\u001b[0mlogistic\u001b[0m\u001b[0;34m,\u001b[0m\u001b[0;34m\u001b[0m\u001b[0m\n",
        "\u001b[0;31mAttributeError\u001b[0m: 'module' object has no attribute 'functions'"
       ]
      }
     ],
     "prompt_number": 2
    },
    {
     "cell_type": "code",
     "collapsed": false,
     "input": [
      "print kern.code_update_cache()"
     ],
     "language": "python",
     "metadata": {},
     "outputs": [
      {
       "output_type": "stream",
       "stream": "stdout",
       "text": [
        "if X is not None:\n",
        "\tX= np.atleast_2d(X)\tself.x_0 = X[:, 0][:, None]\n",
        "if Z is not None:\n",
        "\tZ= np.atleast_2d(Z)\tself.z_0 = Z[:, 0][None, :]\n",
        "self.cache0 = (self.x_0 - self.z_0)\n",
        "self.cache1 = (self.cache0**2)\n",
        "self.cache2 = (exp(-self.cache1/(2*self.sub0)))\n",
        "self.cache3 = (self.cache2*self.variance)\n",
        "\n"
       ]
      }
     ],
     "prompt_number": 3
    },
    {
     "cell_type": "code",
     "collapsed": false,
     "input": [
      "print kern.code_parameters_changed()"
     ],
     "language": "python",
     "metadata": {},
     "outputs": [
      {
       "output_type": "stream",
       "stream": "stdout",
       "text": [
        "self.sub0 = (self.lengthscale**2)\n",
        "\n"
       ]
      }
     ],
     "prompt_number": 4
    },
    {
     "cell_type": "code",
     "collapsed": false,
     "input": [
      "kern.K(np.random.normal(size=(10, 1)))"
     ],
     "language": "python",
     "metadata": {},
     "outputs": [
      {
       "metadata": {},
       "output_type": "pyout",
       "prompt_number": 5,
       "text": [
        "array([[ 1.        ,  0.92512242,  0.99983213,  0.56053288,  0.98173962,\n",
        "         0.63544646,  0.46182622,  0.78940503,  0.70015847,  0.52669331],\n",
        "       [ 0.92512242,  1.        ,  0.93167831,  0.79280044,  0.84197632,\n",
        "         0.85594896,  0.69769406,  0.95793346,  0.46421984,  0.76169916],\n",
        "       [ 0.99983213,  0.93167831,  1.        ,  0.57159809,  0.9781278 ,\n",
        "         0.64652349,  0.4723867 ,  0.79928152,  0.68929367,  0.53764581],\n",
        "       [ 0.56053288,  0.79280044,  0.57159809,  1.        ,  0.44759389,\n",
        "         0.99237939,  0.98614354,  0.92739537,  0.15821484,  0.9984111 ],\n",
        "       [ 0.98173962,  0.84197632,  0.9781278 ,  0.44759389,  1.        ,\n",
        "         0.51960724,  0.35713555,  0.67913459,  0.80833523,  0.41604356],\n",
        "       [ 0.63544646,  0.85594896,  0.64652349,  0.99237939,  0.51960724,\n",
        "         1.        ,  0.95861456,  0.96560555,  0.19910465,  0.98391529],\n",
        "       [ 0.46182622,  0.69769406,  0.4723867 ,  0.98614354,  0.35713555,\n",
        "         0.95861456,  1.        ,  0.85710941,  0.11320568,  0.99389604],\n",
        "       [ 0.78940503,  0.95793346,  0.79928152,  0.92739537,  0.67913459,\n",
        "         0.96560555,  0.85710941,  1.        ,  0.30925654,  0.90586815],\n",
        "       [ 0.70015847,  0.46421984,  0.68929367,  0.15821484,  0.80833523,\n",
        "         0.19910465,  0.11320568,  0.30925654,  1.        ,  0.14175054],\n",
        "       [ 0.52669331,  0.76169916,  0.53764581,  0.9984111 ,  0.41604356,\n",
        "         0.98391529,  0.99389604,  0.90586815,  0.14175054,  1.        ]])"
       ]
      }
     ],
     "prompt_number": 5
    },
    {
     "cell_type": "code",
     "collapsed": false,
     "input": [
      "kern.variance = 2.0\n",
      "kern.Kdiag(np.random.normal(size=(10, 1)))"
     ],
     "language": "python",
     "metadata": {},
     "outputs": [
      {
       "metadata": {},
       "output_type": "pyout",
       "prompt_number": 6,
       "text": [
        "\u001b[1mEq.variance\u001b[0;0m:\n",
        "Param([[ 2.],\n",
        "       [ 2.],\n",
        "       [ 2.],\n",
        "       [ 2.],\n",
        "       [ 2.],\n",
        "       [ 2.],\n",
        "       [ 2.],\n",
        "       [ 2.],\n",
        "       [ 2.],\n",
        "       [ 2.]])"
       ]
      }
     ],
     "prompt_number": 6
    },
    {
     "cell_type": "code",
     "collapsed": false,
     "input": [
      "x_0, x_1, z_0, f, scale, offset, y, m, c = sym.var('x_0, z_0, x_1, f, scale, offset, y, m, c')\n",
      "#symbolic = {}\n",
      "#symbolic['function'] = x_0 - z_0*scale + sym.exp(-(y-f)**2*scale)\n",
      "#symbolic['derivative'] = {}\n",
      "#symbolic['derivative']['f'] = sym.diff(symbolic['function'], f)\n",
      "#symbolic['derivative']['scale'] = sym.diff(symbolic['function'], scale)\n",
      "#code = GPy.util.symbolic.gen_code(symbolic, cacheable=[scale])"
     ],
     "language": "python",
     "metadata": {},
     "outputs": [],
     "prompt_number": 7
    },
    {
     "cell_type": "code",
     "collapsed": false,
     "input": [
      "kern.expressions['parameters_changed']"
     ],
     "language": "python",
     "metadata": {},
     "outputs": [
      {
       "latex": [
        "$$\\begin{Bmatrix}sub0 : lengthscale^{2}\\end{Bmatrix}$$"
       ],
       "metadata": {},
       "output_type": "pyout",
       "png": "[encoded data removed]",
       "prompt_number": 8,
       "text": [
        "\u23a7                 2\u23ab\n",
        "\u23a8sub0: lengthscale \u23ac\n",
        "\u23a9                  \u23ad"
       ]
      }
     ],
     "prompt_number": 8
    },
    {
     "cell_type": "code",
     "collapsed": false,
     "input": [
      "scale.name.split('a')[0]"
     ],
     "language": "python",
     "metadata": {},
     "outputs": [
      {
       "metadata": {},
       "output_type": "pyout",
       "prompt_number": 9,
       "text": [
        "'sc'"
       ]
      }
     ],
     "prompt_number": 9
    },
    {
     "cell_type": "code",
     "collapsed": false,
     "input": [
      "m = GPy.mappings.Symbolic(1, 2, (-scale*(x_0+scale*offset)**4 + 2*x_0 + scale*offset), name='cat')"
     ],
     "language": "python",
     "metadata": {},
     "outputs": [
      {
       "output_type": "stream",
       "stream": "stdout",
       "text": [
        "[x_0, offset, scale]\n"
       ]
      }
     ],
     "prompt_number": 10
    },
    {
     "cell_type": "code",
     "collapsed": false,
     "input": [
      "m.parameters_changed()\n",
      "m.cache0"
     ],
     "language": "python",
     "metadata": {},
     "outputs": [
      {
       "metadata": {},
       "output_type": "pyout",
       "prompt_number": 11,
       "text": [
        "array([[-0.10316425],\n",
        "       [-0.05741423],\n",
        "       [ 1.05860494]])"
       ]
      }
     ],
     "prompt_number": 11
    },
    {
     "cell_type": "code",
     "collapsed": false,
     "input": [
      "X= np.array([[1.0], [0.2], [0.3]])\n",
      "X.shape\n",
      "print m.f(X)\n",
      "m.update_gradients(np.ones_like(X), X)\n",
      "m.cache0"
     ],
     "language": "python",
     "metadata": {},
     "outputs": [
      {
       "output_type": "stream",
       "stream": "stdout",
       "text": [
        "[[-13.    ]\n",
        " [ -0.6736]\n",
        " [ -1.2561]]\n"
       ]
      },
      {
       "metadata": {},
       "output_type": "pyout",
       "prompt_number": 12,
       "text": [
        "array([[ 2. ],\n",
        "       [ 1.2],\n",
        "       [ 1.3]])"
       ]
      }
     ],
     "prompt_number": 12
    },
    {
     "cell_type": "code",
     "collapsed": false,
     "input": [
      "gradients_X = m.gradients_X(np.ones_like(X), X)"
     ],
     "language": "python",
     "metadata": {},
     "outputs": [],
     "prompt_number": 13
    },
    {
     "cell_type": "code",
     "collapsed": false,
     "input": [
      "m.scale = 9\n",
      "m.parameters_changed()\n",
      "print m.sub0\n",
      "print m.cache3\n",
      "print m.code['f']['derivative']['x_0']\n",
      "print gradients_X"
     ],
     "language": "python",
     "metadata": {},
     "outputs": [
      {
       "output_type": "stream",
       "stream": "stdout",
       "text": [
        "[ 9.]\n",
        "[[-9000.   ]\n",
        " [-7008.192]\n",
        " [-7239.213]]\n",
        "(4*cache3 + 2)\n",
        "[[-30.   ]\n",
        " [ -4.912]\n",
        " [ -6.788]]\n"
       ]
      }
     ],
     "prompt_number": 14
    },
    {
     "cell_type": "code",
     "collapsed": false,
     "input": [
      "print m"
     ],
     "language": "python",
     "metadata": {},
     "outputs": [
      {
       "output_type": "stream",
       "stream": "stdout",
       "text": [
        "  cat.    |  Value  |  Constraint  |  Prior  |  Tied to\n",
        "  \u001b[1moffset\u001b[0;0m  |    1.0  |              |         |         \n",
        "  \u001b[1mscale \u001b[0;0m  |    9.0  |              |         |         \n"
       ]
      }
     ],
     "prompt_number": 15
    },
    {
     "cell_type": "code",
     "collapsed": false,
     "input": [
      "m.code['f']['derivative'].items()"
     ],
     "language": "python",
     "metadata": {},
     "outputs": [
      {
       "metadata": {},
       "output_type": "pyout",
       "prompt_number": 16,
       "text": [
        "[('scale', '(-4*cache1*sub0 + cache2 + offset)'),\n",
        " ('x_0', '(4*cache3 + 2)'),\n",
        " ('offset', '(scale*(4*cache3 + 1))')]"
       ]
      }
     ],
     "prompt_number": 16
    },
    {
     "cell_type": "code",
     "collapsed": false,
     "input": [
      "m.expressions['f']['derivative']"
     ],
     "language": "python",
     "metadata": {},
     "outputs": [
      {
       "latex": [
        "$$\\begin{Bmatrix}offset : scale \\left(4 cache_{3} + 1\\right), & scale : - 4 cache_{1} sub_{0} + cache_{2} + offset, & x_0 : 4 cache_{3} + 2\\end{Bmatrix}$$"
       ],
       "metadata": {},
       "output_type": "pyout",
       "png": "[encoded data removed]",
       "prompt_number": 17,
       "text": [
        "{offset: scale\u22c5(4\u22c5cache\u2083 + 1), scale: -4\u22c5cache\u2081\u22c5sub\u2080 + cache\u2082 + offset, x_0: 4\n",
        "\u22c5cache\u2083 + 2}"
       ]
      }
     ],
     "prompt_number": 17
    },
    {
     "cell_type": "code",
     "collapsed": false,
     "input": [
      "m.parameters_changed()"
     ],
     "language": "python",
     "metadata": {},
     "outputs": [],
     "prompt_number": 18
    },
    {
     "cell_type": "code",
     "collapsed": false,
     "input": [
      "m.update_cache(X=np.random.normal(size=(10, 1)))"
     ],
     "language": "python",
     "metadata": {},
     "outputs": [],
     "prompt_number": 19
    },
    {
     "cell_type": "code",
     "collapsed": false,
     "input": [
      "getattr(m, 'code')"
     ],
     "language": "python",
     "metadata": {},
     "outputs": [
      {
       "metadata": {},
       "output_type": "pyout",
       "prompt_number": 20,
       "text": [
        "{'f': {'derivative': {'offset': '(scale*(4*cache3 + 1))',\n",
        "   'scale': '(-4*cache1*sub0 + cache2 + offset)',\n",
        "   'x_0': '(4*cache3 + 2)'},\n",
        "  'function': '(cache2*scale + sub0 + 2*x_0)'},\n",
        " 'parameters_changed': {'sub0': '(offset*scale)'},\n",
        " 'update_cache': {'cache0': '(offset*scale + x_0)',\n",
        "  'cache1': '(cache0**3)',\n",
        "  'cache2': '(-cache0**4)',\n",
        "  'cache3': '(-cache1*scale)'}}"
       ]
      }
     ],
     "prompt_number": 20
    },
    {
     "cell_type": "code",
     "collapsed": false,
     "input": [
      "m.code['parameters_changed'].items()"
     ],
     "language": "python",
     "metadata": {},
     "outputs": [
      {
       "metadata": {},
       "output_type": "pyout",
       "prompt_number": 21,
       "text": [
        "[('sub0', '(offset*scale)')]"
       ]
      }
     ],
     "prompt_number": 21
    },
    {
     "cell_type": "code",
     "collapsed": false,
     "input": [
      "b = m.code_parameters_changed()\n",
      "print b"
     ],
     "language": "python",
     "metadata": {},
     "outputs": [
      {
       "output_type": "stream",
       "stream": "stdout",
       "text": [
        "self.sub0 = (self.offset*self.scale)\n",
        "\n"
       ]
      }
     ],
     "prompt_number": 22
    },
    {
     "cell_type": "code",
     "collapsed": false,
     "input": [
      "#m.update_cache(np.random.normal(size=(10, 1)))\n",
      "m.f()"
     ],
     "language": "python",
     "metadata": {},
     "outputs": [
      {
       "metadata": {},
       "output_type": "pyout",
       "prompt_number": 23,
       "text": [
        "array([[-24013.64414674],\n",
        "       [-32201.53714306],\n",
        "       [-45505.94338765],\n",
        "       [-58122.33904775],\n",
        "       [-92819.12829443],\n",
        "       [-41629.32878083],\n",
        "       [-85419.86621443],\n",
        "       [-53111.84893016],\n",
        "       [-88850.08174345],\n",
        "       [-53899.97619828]])"
       ]
      }
     ],
     "prompt_number": 23
    },
    {
     "cell_type": "code",
     "collapsed": false,
     "input": [
      "a = m.code_update_cache()\n",
      "print a"
     ],
     "language": "python",
     "metadata": {},
     "outputs": [
      {
       "output_type": "stream",
       "stream": "stdout",
       "text": [
        "if X is not None:\n",
        "\tX= np.atleast_2d(X)\tself.x_0 = X[:, 0][:, None]\n",
        "self.cache0 = (self.offset*self.scale + self.x_0)\n",
        "self.cache1 = (self.cache0**3)\n",
        "self.cache2 = (-self.cache0**4)\n",
        "self.cache3 = (-self.cache1*self.scale)\n",
        "\n"
       ]
      }
     ],
     "prompt_number": 24
    },
    {
     "cell_type": "code",
     "collapsed": false,
     "input": [
      "print m.code_update_gradients('f')"
     ],
     "language": "python",
     "metadata": {},
     "outputs": [
      {
       "output_type": "stream",
       "stream": "stdout",
       "text": [
        "self.offset.gradient = (partial*((self.scale*(4*self.cache3 + 1)))).sum()\n",
        "self.scale.gradient = (partial*((-4*self.cache1*self.sub0 + self.cache2 + self.offset))).sum()\n",
        "\n"
       ]
      }
     ],
     "prompt_number": 25
    },
    {
     "cell_type": "code",
     "collapsed": false,
     "input": [
      "print m.code_function('f')"
     ],
     "language": "python",
     "metadata": {},
     "outputs": [
      {
       "output_type": "stream",
       "stream": "stdout",
       "text": [
        "self.update_cache(X)\n",
        "return (self.cache2*self.scale + self.sub0 + 2*self.x_0)\n"
       ]
      }
     ],
     "prompt_number": 26
    },
    {
     "cell_type": "code",
     "collapsed": false,
     "input": [
      "print m.code_gradients_cacheable('f', 'X')"
     ],
     "language": "python",
     "metadata": {},
     "outputs": [
      {
       "output_type": "stream",
       "stream": "stdout",
       "text": [
        "gradients_X = np.zeros_like(X)\n",
        "self.update_cache(X)\n",
        "gradients_X[:, 0:0+1] = partial*(4*self.cache3 + 2)\n",
        "return gradients_X\n",
        "\n"
       ]
      }
     ],
     "prompt_number": 27
    },
    {
     "cell_type": "code",
     "collapsed": false,
     "input": [],
     "language": "python",
     "metadata": {},
     "outputs": [],
     "prompt_number": 27
    }
   ],
   "metadata": {}
  }
 ]
}