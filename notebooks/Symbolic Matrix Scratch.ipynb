{
 "metadata": {
  "name": "",
  "signature": "sha256:cf5e0c5f6d42fc637657c5aa5549b4516d06fef3699c89df18fe202ce21c106d"
 },
 "nbformat": 3,
 "nbformat_minor": 0,
 "worksheets": [
  {
   "cells": [
    {
     "cell_type": "code",
     "collapsed": false,
     "input": [
      "import sympy as sym; sym.init_printing()\n",
      "import GPy"
     ],
     "language": "python",
     "metadata": {},
     "outputs": [],
     "prompt_number": 1
    },
    {
     "cell_type": "code",
     "collapsed": false,
     "input": [
      "num_data = 4\n",
      "num_features = 2\n",
      "num_basis = num_features\n",
      "W = GPy.util.symbolic.create_matrix('W', num_basis, 1)\n",
      "X = GPy.util.symbolic.create_matrix('X', num_data, num_features)\n",
      "y = X*W\n",
      "y.jacobian(W)\n",
      "y"
     ],
     "language": "python",
     "metadata": {},
     "outputs": [
      {
       "latex": [
        "$$\\left[\\begin{smallmatrix}{}w_{0,0} x_{0,0} + w_{1,0} x_{0,1}\\\\w_{0,0} x_{1,0} + w_{1,0} x_{1,1}\\\\w_{0,0} x_{2,0} + w_{1,0} x_{2,1}\\\\w_{0,0} x_{3,0} + w_{1,0} x_{3,1}\\end{smallmatrix}\\right]$$"
       ],
       "metadata": {},
       "output_type": "pyout",
       "png": "[encoded data removed]",
       "prompt_number": 9,
       "text": [
        "\u23a1w_0,0\u22c5x_0,0 + w_1,0\u22c5x_0,1\u23a4\n",
        "\u23a2                         \u23a5\n",
        "\u23a2w_0,0\u22c5x_1,0 + w_1,0\u22c5x_1,1\u23a5\n",
        "\u23a2                         \u23a5\n",
        "\u23a2w_0,0\u22c5x_2,0 + w_1,0\u22c5x_2,1\u23a5\n",
        "\u23a2                         \u23a5\n",
        "\u23a3w_0,0\u22c5x_3,0 + w_1,0\u22c5x_3,1\u23a6"
       ]
      }
     ],
     "prompt_number": 9
    },
    {
     "cell_type": "code",
     "collapsed": false,
     "input": [
      "L = GPy.util.symbolic.create_matrix('L', 1, 3)\n",
      "f_0 = sym.symbols('f_0')\n",
      "y_0, y_1 = sym.symbols('y_0, y_1')\n",
      "L[0,0] = GPy.util.symbolic.normcdfln(f_0)\n",
      "L.sum()\n",
      "L.row_index = 0\n",
      "L.col_index = y_0 + y_1\n",
      "L.atoms()\n",
      "L.submatrix?"
     ],
     "language": "python",
     "metadata": {},
     "outputs": [],
     "prompt_number": 3
    },
    {
     "cell_type": "code",
     "collapsed": false,
     "input": [
      "import numpy as np\n",
      "np.sum?"
     ],
     "language": "python",
     "metadata": {},
     "outputs": [],
     "prompt_number": 5
    },
    {
     "cell_type": "code",
     "collapsed": false,
     "input": [
      "def matrix_sum(X):\n",
      "    return (X.vec().T*sym.ones(X.shape[0]*X.shape[1], 1))[0, 0]\n",
      "def matrix_select(X, i, j):\n",
      "    return X[i,j]\n",
      "def matrix_diag(X):\n",
      "    if X.is_square:\n",
      "        D = sym.zeros(X.shape[0], 1)\n",
      "        for i in xrange(D.shape[0]):\n",
      "            D[i] = X[i, i]\n",
      "        return D\n",
      "    else:\n",
      "        raise ValueError, 'Matrix Must be Square for Diagonalization'\n",
      "XXT = X*X.T\n",
      "D = matrix_diag(XXT)\n",
      "DO = D*sym.ones(1,X.shape[0])\n",
      "D2 = DO - 2*XXT + DO.T\n",
      "K = D2.applyfunc(lambda arg: sym.exp(-arg)) + XXT\n",
      "matrix_select(K, 0, 1).diff(X[0, 1])"
     ],
     "language": "python",
     "metadata": {},
     "outputs": [
      {
       "metadata": {},
       "output_type": "pyout",
       "prompt_number": 5,
       "text": [
        "x_1,1 + (-2*x_0,1 + 2*x_1,1)*exp(-x_0,0**2 + 2*x_0,0*x_1,0 - x_0,1**2 + 2*x_0,1*x_1,1 - x_1,0**2 - x_1,1**2)"
       ]
      }
     ],
     "prompt_number": 5
    },
    {
     "cell_type": "code",
     "collapsed": false,
     "input": [
      "K[0,0].atoms()"
     ],
     "language": "python",
     "metadata": {},
     "outputs": [
      {
       "metadata": {},
       "output_type": "pyout",
       "prompt_number": 6,
       "text": [
        "{1, 2, x_0,0, x_0,1}"
       ]
      }
     ],
     "prompt_number": 6
    },
    {
     "cell_type": "code",
     "collapsed": false,
     "input": [
      "matrix_select(X, 0, 1)\n",
      "(matrix_sum(X)-matrix_select(X, 0, 1)).diff(X[1, 1])\n",
      "#s = sym.zeros(X.shape[0], X.shape[1])\n",
      "#"
     ],
     "language": "python",
     "metadata": {},
     "outputs": [
      {
       "metadata": {},
       "output_type": "pyout",
       "prompt_number": 7,
       "text": [
        "1"
       ]
      }
     ],
     "prompt_number": 7
    },
    {
     "cell_type": "code",
     "collapsed": false,
     "input": [
      "#X = sym.ones(3, 3)\n",
      "i, j = sym.var('i_0, j_0')\n",
      "expr = GPy.util.symbolic.selector(XXT, i_0, j_0)\n",
      "expr.atoms()"
     ],
     "language": "python",
     "metadata": {},
     "outputs": [
      {
       "metadata": {},
       "output_type": "pyout",
       "prompt_number": 8,
       "text": [
        "{2, 4, i_0, j_0, x_0,0, x_0,1, x_1,0, x_1,1, x_2,0, x_2,1, x_3,0, x_3,1}"
       ]
      }
     ],
     "prompt_number": 8
    },
    {
     "cell_type": "code",
     "collapsed": false,
     "input": [
      "dexpr = sym.diff(expr,X[1, 1], evaluate=True)"
     ],
     "language": "python",
     "metadata": {},
     "outputs": [],
     "prompt_number": 9
    },
    {
     "cell_type": "code",
     "collapsed": false,
     "input": [
      "dexpr"
     ],
     "language": "python",
     "metadata": {},
     "outputs": [
      {
       "metadata": {},
       "output_type": "pyout",
       "prompt_number": 10,
       "text": [
        "Matrix([\n",
        "[                                                                                                                                                                                                                                                                                                                                                                                                                                                                                          0,   x_0,1*selector(Matrix([\n",
        "[      x_0,0**2 + x_0,1**2, x_0,0*x_1,0 + x_0,1*x_1,1, x_0,0*x_2,0 + x_0,1*x_2,1, x_0,0*x_3,0 + x_0,1*x_3,1],\n",
        "[x_0,0*x_1,0 + x_0,1*x_1,1,       x_1,0**2 + x_1,1**2, x_1,0*x_2,0 + x_1,1*x_2,1, x_1,0*x_3,0 + x_1,1*x_3,1],\n",
        "[x_0,0*x_2,0 + x_0,1*x_2,1, x_1,0*x_2,0 + x_1,1*x_2,1,       x_2,0**2 + x_2,1**2, x_2,0*x_3,0 + x_2,1*x_3,1],\n",
        "[x_0,0*x_3,0 + x_0,1*x_3,1, x_1,0*x_3,0 + x_1,1*x_3,1, x_2,0*x_3,0 + x_2,1*x_3,1,       x_3,0**2 + x_3,1**2]]), i_0, j_0),                                                                                                                                                                                                                                                                                                                                                                                                                                                                                           0,                                                                                                                                                                                                                                                                                                                                                                                                                                                                                           0],\n",
        "[x_0,1*selector(Matrix([\n",
        "[      x_0,0**2 + x_0,1**2, x_0,0*x_1,0 + x_0,1*x_1,1, x_0,0*x_2,0 + x_0,1*x_2,1, x_0,0*x_3,0 + x_0,1*x_3,1],\n",
        "[x_0,0*x_1,0 + x_0,1*x_1,1,       x_1,0**2 + x_1,1**2, x_1,0*x_2,0 + x_1,1*x_2,1, x_1,0*x_3,0 + x_1,1*x_3,1],\n",
        "[x_0,0*x_2,0 + x_0,1*x_2,1, x_1,0*x_2,0 + x_1,1*x_2,1,       x_2,0**2 + x_2,1**2, x_2,0*x_3,0 + x_2,1*x_3,1],\n",
        "[x_0,0*x_3,0 + x_0,1*x_3,1, x_1,0*x_3,0 + x_1,1*x_3,1, x_2,0*x_3,0 + x_2,1*x_3,1,       x_3,0**2 + x_3,1**2]]), i_0, j_0), 2*x_1,1*selector(Matrix([\n",
        "[      x_0,0**2 + x_0,1**2, x_0,0*x_1,0 + x_0,1*x_1,1, x_0,0*x_2,0 + x_0,1*x_2,1, x_0,0*x_3,0 + x_0,1*x_3,1],\n",
        "[x_0,0*x_1,0 + x_0,1*x_1,1,       x_1,0**2 + x_1,1**2, x_1,0*x_2,0 + x_1,1*x_2,1, x_1,0*x_3,0 + x_1,1*x_3,1],\n",
        "[x_0,0*x_2,0 + x_0,1*x_2,1, x_1,0*x_2,0 + x_1,1*x_2,1,       x_2,0**2 + x_2,1**2, x_2,0*x_3,0 + x_2,1*x_3,1],\n",
        "[x_0,0*x_3,0 + x_0,1*x_3,1, x_1,0*x_3,0 + x_1,1*x_3,1, x_2,0*x_3,0 + x_2,1*x_3,1,       x_3,0**2 + x_3,1**2]]), i_0, j_0), x_2,1*selector(Matrix([\n",
        "[      x_0,0**2 + x_0,1**2, x_0,0*x_1,0 + x_0,1*x_1,1, x_0,0*x_2,0 + x_0,1*x_2,1, x_0,0*x_3,0 + x_0,1*x_3,1],\n",
        "[x_0,0*x_1,0 + x_0,1*x_1,1,       x_1,0**2 + x_1,1**2, x_1,0*x_2,0 + x_1,1*x_2,1, x_1,0*x_3,0 + x_1,1*x_3,1],\n",
        "[x_0,0*x_2,0 + x_0,1*x_2,1, x_1,0*x_2,0 + x_1,1*x_2,1,       x_2,0**2 + x_2,1**2, x_2,0*x_3,0 + x_2,1*x_3,1],\n",
        "[x_0,0*x_3,0 + x_0,1*x_3,1, x_1,0*x_3,0 + x_1,1*x_3,1, x_2,0*x_3,0 + x_2,1*x_3,1,       x_3,0**2 + x_3,1**2]]), i_0, j_0), x_3,1*selector(Matrix([\n",
        "[      x_0,0**2 + x_0,1**2, x_0,0*x_1,0 + x_0,1*x_1,1, x_0,0*x_2,0 + x_0,1*x_2,1, x_0,0*x_3,0 + x_0,1*x_3,1],\n",
        "[x_0,0*x_1,0 + x_0,1*x_1,1,       x_1,0**2 + x_1,1**2, x_1,0*x_2,0 + x_1,1*x_2,1, x_1,0*x_3,0 + x_1,1*x_3,1],\n",
        "[x_0,0*x_2,0 + x_0,1*x_2,1, x_1,0*x_2,0 + x_1,1*x_2,1,       x_2,0**2 + x_2,1**2, x_2,0*x_3,0 + x_2,1*x_3,1],\n",
        "[x_0,0*x_3,0 + x_0,1*x_3,1, x_1,0*x_3,0 + x_1,1*x_3,1, x_2,0*x_3,0 + x_2,1*x_3,1,       x_3,0**2 + x_3,1**2]]), i_0, j_0)],\n",
        "[                                                                                                                                                                                                                                                                                                                                                                                                                                                                                          0,   x_2,1*selector(Matrix([\n",
        "[      x_0,0**2 + x_0,1**2, x_0,0*x_1,0 + x_0,1*x_1,1, x_0,0*x_2,0 + x_0,1*x_2,1, x_0,0*x_3,0 + x_0,1*x_3,1],\n",
        "[x_0,0*x_1,0 + x_0,1*x_1,1,       x_1,0**2 + x_1,1**2, x_1,0*x_2,0 + x_1,1*x_2,1, x_1,0*x_3,0 + x_1,1*x_3,1],\n",
        "[x_0,0*x_2,0 + x_0,1*x_2,1, x_1,0*x_2,0 + x_1,1*x_2,1,       x_2,0**2 + x_2,1**2, x_2,0*x_3,0 + x_2,1*x_3,1],\n",
        "[x_0,0*x_3,0 + x_0,1*x_3,1, x_1,0*x_3,0 + x_1,1*x_3,1, x_2,0*x_3,0 + x_2,1*x_3,1,       x_3,0**2 + x_3,1**2]]), i_0, j_0),                                                                                                                                                                                                                                                                                                                                                                                                                                                                                           0,                                                                                                                                                                                                                                                                                                                                                                                                                                                                                           0],\n",
        "[                                                                                                                                                                                                                                                                                                                                                                                                                                                                                          0,   x_3,1*selector(Matrix([\n",
        "[      x_0,0**2 + x_0,1**2, x_0,0*x_1,0 + x_0,1*x_1,1, x_0,0*x_2,0 + x_0,1*x_2,1, x_0,0*x_3,0 + x_0,1*x_3,1],\n",
        "[x_0,0*x_1,0 + x_0,1*x_1,1,       x_1,0**2 + x_1,1**2, x_1,0*x_2,0 + x_1,1*x_2,1, x_1,0*x_3,0 + x_1,1*x_3,1],\n",
        "[x_0,0*x_2,0 + x_0,1*x_2,1, x_1,0*x_2,0 + x_1,1*x_2,1,       x_2,0**2 + x_2,1**2, x_2,0*x_3,0 + x_2,1*x_3,1],\n",
        "[x_0,0*x_3,0 + x_0,1*x_3,1, x_1,0*x_3,0 + x_1,1*x_3,1, x_2,0*x_3,0 + x_2,1*x_3,1,       x_3,0**2 + x_3,1**2]]), i_0, j_0),                                                                                                                                                                                                                                                                                                                                                                                                                                                                                           0,                                                                                                                                                                                                                                                                                                                                                                                                                                                                                           0]])"
       ]
      }
     ],
     "prompt_number": 10
    },
    {
     "cell_type": "code",
     "collapsed": false,
     "input": [
      "expr.atoms()"
     ],
     "language": "python",
     "metadata": {},
     "outputs": [
      {
       "latex": [
        "$$\\left\\{2, 4, i_{0}, j_{0}, x_{0,0}, x_{0,1}, x_{1,0}, x_{1,1}, x_{2,0}, x_{2,1}, x_{3,0}, x_{3,1}\\right\\}$$"
       ],
       "metadata": {},
       "output_type": "pyout",
       "png": "[encoded data removed]",
       "prompt_number": 11,
       "text": [
        "set([2, 4, i\u2080, j\u2080, x_0,0, x_0,1, x_1,0, x_1,1, x_2,0, x_2,1, x_3,0, x_3,1])"
       ]
      }
     ],
     "prompt_number": 11
    },
    {
     "cell_type": "code",
     "collapsed": false,
     "input": [
      "X.values()"
     ],
     "language": "python",
     "metadata": {},
     "outputs": [
      {
       "latex": [
        "$$\\begin{bmatrix}x_{0,0}, & x_{0,1}, & x_{1,0}, & x_{1,1}, & x_{2,0}, & x_{2,1}, & x_{3,0}, & x_{3,1}\\end{bmatrix}$$"
       ],
       "metadata": {},
       "output_type": "pyout",
       "png": "[encoded data removed]",
       "prompt_number": 15,
       "text": [
        "[x_0,0, x_0,1, x_1,0, x_1,1, x_2,0, x_2,1, x_3,0, x_3,1]"
       ]
      }
     ],
     "prompt_number": 15
    },
    {
     "cell_type": "code",
     "collapsed": false,
     "input": [
      "expr.atoms()"
     ],
     "language": "python",
     "metadata": {},
     "outputs": [
      {
       "latex": [
        "$$\\left\\{2, 4, i_{0}, j_{0}, x_{0,0}, x_{0,1}, x_{1,0}, x_{1,1}, x_{2,0}, x_{2,1}, x_{3,0}, x_{3,1}\\right\\}$$"
       ],
       "metadata": {},
       "output_type": "pyout",
       "png": "[encoded data removed]",
       "prompt_number": 19,
       "text": [
        "set([2, 4, i\u2080, j\u2080, x_0,0, x_0,1, x_1,0, x_1,1, x_2,0, x_2,1, x_3,0, x_3,1])"
       ]
      }
     ],
     "prompt_number": 19
    },
    {
     "cell_type": "code",
     "collapsed": false,
     "input": [
      "X.applyfunc(lambda x: sym.diff(x, X[0, 0]))"
     ],
     "language": "python",
     "metadata": {},
     "outputs": [
      {
       "metadata": {},
       "output_type": "pyout",
       "prompt_number": 14,
       "text": [
        "Matrix([\n",
        "[1, 0],\n",
        "[0, 0],\n",
        "[0, 0],\n",
        "[0, 0]])"
       ]
      }
     ],
     "prompt_number": 14
    },
    {
     "cell_type": "code",
     "collapsed": false,
     "input": [
      "X.values"
     ],
     "language": "python",
     "metadata": {},
     "outputs": [
      {
       "metadata": {},
       "output_type": "pyout",
       "prompt_number": 15,
       "text": [
        "<bound method MutableDenseMatrix.values of Matrix([\n",
        "[x_0,0, x_0,1],\n",
        "[x_1,0, x_1,1],\n",
        "[x_2,0, x_2,1],\n",
        "[x_3,0, x_3,1]])>"
       ]
      }
     ],
     "prompt_number": 15
    },
    {
     "cell_type": "code",
     "collapsed": false,
     "input": [
      "X.values()"
     ],
     "language": "python",
     "metadata": {},
     "outputs": [
      {
       "metadata": {},
       "output_type": "pyout",
       "prompt_number": 16,
       "text": [
        "[x_0,0, x_0,1, x_1,0, x_1,1, x_2,0, x_2,1, x_3,0, x_3,1]"
       ]
      }
     ],
     "prompt_number": 16
    },
    {
     "cell_type": "code",
     "collapsed": false,
     "input": [
      "X.diff(X[0,0])"
     ],
     "language": "python",
     "metadata": {},
     "outputs": [
      {
       "metadata": {},
       "output_type": "pyout",
       "prompt_number": 24,
       "text": [
        "Matrix([\n",
        "[1, 0],\n",
        "[0, 0],\n",
        "[0, 0],\n",
        "[0, 0]])"
       ]
      }
     ],
     "prompt_number": 24
    },
    {
     "cell_type": "code",
     "collapsed": false,
     "input": [
      "(X*X.T).values()"
     ],
     "language": "python",
     "metadata": {},
     "outputs": [
      {
       "metadata": {},
       "output_type": "pyout",
       "prompt_number": 28,
       "text": [
        "[x_0,0**2 + x_0,1**2,\n",
        " x_0,0*x_1,0 + x_0,1*x_1,1,\n",
        " x_0,0*x_2,0 + x_0,1*x_2,1,\n",
        " x_0,0*x_3,0 + x_0,1*x_3,1,\n",
        " x_0,0*x_1,0 + x_0,1*x_1,1,\n",
        " x_1,0**2 + x_1,1**2,\n",
        " x_1,0*x_2,0 + x_1,1*x_2,1,\n",
        " x_1,0*x_3,0 + x_1,1*x_3,1,\n",
        " x_0,0*x_2,0 + x_0,1*x_2,1,\n",
        " x_1,0*x_2,0 + x_1,1*x_2,1,\n",
        " x_2,0**2 + x_2,1**2,\n",
        " x_2,0*x_3,0 + x_2,1*x_3,1,\n",
        " x_0,0*x_3,0 + x_0,1*x_3,1,\n",
        " x_1,0*x_3,0 + x_1,1*x_3,1,\n",
        " x_2,0*x_3,0 + x_2,1*x_3,1,\n",
        " x_3,0**2 + x_3,1**2]"
       ]
      }
     ],
     "prompt_number": 28
    },
    {
     "cell_type": "code",
     "collapsed": false,
     "input": [
      "a = []\n",
      "for e in X:\n",
      "    a+=e.atoms()"
     ],
     "language": "python",
     "metadata": {},
     "outputs": [],
     "prompt_number": 30
    },
    {
     "cell_type": "code",
     "collapsed": false,
     "input": [
      "a"
     ],
     "language": "python",
     "metadata": {},
     "outputs": [
      {
       "metadata": {},
       "output_type": "pyout",
       "prompt_number": 31,
       "text": [
        "[x_0,0, x_0,1, x_1,0, x_1,1, x_2,0, x_2,1, x_3,0, x_3,1]"
       ]
      }
     ],
     "prompt_number": 31
    },
    {
     "cell_type": "code",
     "collapsed": false,
     "input": [
      "[e2 for e in X for e2 in e.atoms()]"
     ],
     "language": "python",
     "metadata": {},
     "outputs": [
      {
       "metadata": {},
       "output_type": "pyout",
       "prompt_number": 36,
       "text": [
        "[x_0,0, x_0,1, x_1,0, x_1,1, x_2,0, x_2,1, x_3,0, x_3,1]"
       ]
      }
     ],
     "prompt_number": 36
    },
    {
     "cell_type": "code",
     "collapsed": false,
     "input": [
      "X"
     ],
     "language": "python",
     "metadata": {},
     "outputs": [
      {
       "metadata": {},
       "output_type": "pyout",
       "prompt_number": 35,
       "text": [
        "Matrix([\n",
        "[x_0,0, x_0,1],\n",
        "[x_1,0, x_1,1],\n",
        "[x_2,0, x_2,1],\n",
        "[x_3,0, x_3,1]])"
       ]
      }
     ],
     "prompt_number": 35
    },
    {
     "cell_type": "code",
     "collapsed": false,
     "input": [
      "sym.utilities.lambdify(X, 'numpy')(1, 2, 3,4,5,6, 7, 8)"
     ],
     "language": "python",
     "metadata": {},
     "outputs": [
      {
       "ename": "TypeError",
       "evalue": "reload() argument must be module",
       "output_type": "pyerr",
       "traceback": [
        "\u001b[0;31m---------------------------------------------------------------------------\u001b[0m\n\u001b[0;31mTypeError\u001b[0m                                 Traceback (most recent call last)",
        "\u001b[0;32m<ipython-input-46-0a88ca0770e1>\u001b[0m in \u001b[0;36m<module>\u001b[0;34m()\u001b[0m\n\u001b[0;32m----> 1\u001b[0;31m \u001b[0mreload\u001b[0m\u001b[0;34m(\u001b[0m\u001b[0;34m'numpy'\u001b[0m\u001b[0;34m)\u001b[0m\u001b[0;34m\u001b[0m\u001b[0m\n\u001b[0m\u001b[1;32m      2\u001b[0m \u001b[0msym\u001b[0m\u001b[0;34m.\u001b[0m\u001b[0mutilities\u001b[0m\u001b[0;34m.\u001b[0m\u001b[0mlambdify\u001b[0m\u001b[0;34m(\u001b[0m\u001b[0mX\u001b[0m\u001b[0;34m,\u001b[0m \u001b[0;34m'numpy'\u001b[0m\u001b[0;34m)\u001b[0m\u001b[0;34m(\u001b[0m\u001b[0;36m1\u001b[0m\u001b[0;34m,\u001b[0m \u001b[0;36m2\u001b[0m\u001b[0;34m,\u001b[0m \u001b[0;36m3\u001b[0m\u001b[0;34m,\u001b[0m\u001b[0;36m4\u001b[0m\u001b[0;34m,\u001b[0m\u001b[0;36m5\u001b[0m\u001b[0;34m,\u001b[0m\u001b[0;36m6\u001b[0m\u001b[0;34m,\u001b[0m \u001b[0;36m7\u001b[0m\u001b[0;34m,\u001b[0m \u001b[0;36m8\u001b[0m\u001b[0;34m)\u001b[0m\u001b[0;34m\u001b[0m\u001b[0m\n",
        "\u001b[0;31mTypeError\u001b[0m: reload() argument must be module"
       ]
      }
     ],
     "prompt_number": 46
    },
    {
     "cell_type": "code",
     "collapsed": false,
     "input": [],
     "language": "python",
     "metadata": {},
     "outputs": []
    }
   ],
   "metadata": {}
  }
 ]
}