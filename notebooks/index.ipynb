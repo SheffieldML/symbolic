{
 "metadata": {
  "name": "",
  "signature": "sha256:03c1d54be65205fa0131c24b2db0b338e6cf7d103a73a82c5bd32e642c85b1b5"
 },
 "nbformat": 3,
 "nbformat_minor": 0,
 "worksheets": [
  {
   "cells": [
    {
     "cell_type": "markdown",
     "metadata": {},
     "source": [
      "## Likelihood Function Examples\n",
      "\n",
      "* [Symbolic Laplace Demo](Symbolic Laplace Demo.ipynb) Comparison of the Laplace approximation with a symbolic likelihood with one using a standard likelihood.\n",
      "* [Olympics Data with Skew Exponential Likelihood](Skew Exponential Likelihood.ipynb) Model the olympics marathon data with a skewed exponential likelihood (see miscelaneous notes below).\n",
      "* [Olympics Data with Skew Normal Likelihood](Skew Normal Likelihood.ipynb) Model the Olympics marathon data with a skewed normal likelihood.\n",
      "* [Null Category Noise Model](Null Category Noise Model.ipynb)\n",
      "* [Negative Binomial Likelihood](Negative Binomial Likelihood.ipynb)\n",
      "\n",
      "\n",
      "## Covariance Function Examples\n",
      "* [Symbolic Exponentiated Quadratic Mauna Loa](Symbolic Exponentiated Quadratic Mauna Loa.ipynb) Demonstration of the symbolic exponentiated quadratic covariance on the Mauna Loa data.\n",
      "* [Olympics with Heat Equation Multiple Outputs](Olympics Heat Equation Multiple Ouptuts.ipynb)\n",
      "* [Olympics with ODE1-EQ Covariance](Olympics First Order Differential Equation.ipynb)\n",
      "\n",
      "## Mapping Function Examples\n",
      "\n",
      "* None yet\n",
      "\n",
      "## Miscellaneous Notes\n",
      "\n",
      "* [Skewed Symbolic Workings](Skewed Symbolic Workings.ipynb) Maths for creating a skewed exponential likelihood for demonstrating the symbolic functionality.\n",
      "* [Experiments with Matrix Functions](Symbolic Matrix Scratch.ipynb) Jottings for trying to create matrix functions for use with symbolic tools for multiple output covariances and functions as well as ordinal likelihoods etc.\n",
      "* [Common Sub Expressions](Common Sub Expressions.ipynb) Common sub expression elimination is crucial for writing efficient code and making it easy for spotting numerical problems. This section was early playing in this area."
     ]
    },
    {
     "cell_type": "code",
     "collapsed": false,
     "input": [],
     "language": "python",
     "metadata": {},
     "outputs": []
    },
    {
     "cell_type": "code",
     "collapsed": false,
     "input": [],
     "language": "python",
     "metadata": {},
     "outputs": []
    }
   ],
   "metadata": {}
  }
 ]
}