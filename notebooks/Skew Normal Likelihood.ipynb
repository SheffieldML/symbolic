{
 "metadata": {
  "name": "",
  "signature": "sha256:6c6b3b2c3f60c1fb9220484150cba416067224eaa9fd4097af907eedeacc00d9"
 },
 "nbformat": 3,
 "nbformat_minor": 0,
 "worksheets": [
  {
   "cells": [
    {
     "cell_type": "markdown",
     "metadata": {},
     "source": [
      "# Skew Normal Likelihood for Olympic Marathon Data\n",
      "\n",
      "### April 19th 2014, Neil Lawrence"
     ]
    },
    {
     "cell_type": "markdown",
     "metadata": {},
     "source": [
      "In this notebook we demonstrate the skew normal likelihood on the olympic marathon data. This is a symbolic based likelihood."
     ]
    },
    {
     "cell_type": "code",
     "collapsed": false,
     "input": [
      "%pylab inline\n",
      "import sympy as sym; sym.init_printing()\n",
      "import numpy as np\n",
      "import pylab as pb\n",
      "import GPy\n",
      "import pods\n",
      "import symbolic\n"
     ],
     "language": "python",
     "metadata": {},
     "outputs": [
      {
       "output_type": "stream",
       "stream": "stdout",
       "text": [
        "Populating the interactive namespace from numpy and matplotlib\n"
       ]
      }
     ],
     "prompt_number": 1
    },
    {
     "cell_type": "markdown",
     "metadata": {},
     "source": [
      "Now we set up the skew normal likelihood. This distribution is dependent on a scale parameter and a skew parameter. Here we are initializing the scale parameter to 1 and the skew parameter to 1 (slight positive skew). The scale parameter needs to be constrained positive, the skew parameter can go negative if a negative skew is possible. "
     ]
    },
    {
     "cell_type": "code",
     "collapsed": false,
     "input": [
      "likelihood = symbolic.likelihoods.Skew_normal()\n",
      "likelihood.scale = 1\n",
      "likelihood.scale.constrain_positive()\n",
      "likelihood.skew = 1\n",
      "print likelihood"
     ],
     "language": "python",
     "metadata": {},
     "outputs": [
      {
       "output_type": "stream",
       "stream": "stdout",
       "text": [
        "Whoop\n",
        "  Skew_normal.  |  Value  |  Constraint  |  Prior  |  Tied to\n",
        "  \u001b[1mscale       \u001b[0;0m  |    1.0  |     +ve      |         |         \n",
        "  \u001b[1mshape       \u001b[0;0m  |    1.0  |              |         |         "
       ]
      },
      {
       "output_type": "stream",
       "stream": "stdout",
       "text": [
        "\n"
       ]
      }
     ],
     "prompt_number": 2
    },
    {
     "cell_type": "code",
     "collapsed": false,
     "input": [
      "print likelihood.code_function('log_pdf')\n",
      "\n"
     ],
     "language": "python",
     "metadata": {},
     "outputs": [
      {
       "output_type": "stream",
       "stream": "stdout",
       "text": [
        "self.update_cache(F, Y)\n",
        "return (self.cache7*self.sub0 + self.sub0*log(2*pi) - log(self.scale) + normcdfln(self.cache6*self.sub5) + log(2))\n"
       ]
      }
     ],
     "prompt_number": 3
    },
    {
     "cell_type": "code",
     "collapsed": false,
     "input": [
      "print likelihood.code_function"
     ],
     "language": "python",
     "metadata": {},
     "outputs": [
      {
       "output_type": "stream",
       "stream": "stdout",
       "text": [
        "<bound method Skew_normal.code_function of <GPy.likelihoods.skew_normal.Skew_normal object at 0x10e4e5490>>\n"
       ]
      }
     ],
     "prompt_number": 4
    },
    {
     "cell_type": "markdown",
     "metadata": {},
     "source": [
      "For all the symbolic likelihoods we implement a log pdf this can be visualized from the model as follows"
     ]
    },
    {
     "cell_type": "code",
     "collapsed": false,
     "input": [
      "likelihood.expressions['log_pdf']['function']"
     ],
     "language": "python",
     "metadata": {},
     "outputs": [
      {
       "latex": [
        "$$cache_{7} sub_{0} + sub_{0} \\log{\\left (2 \\pi \\right )} - \\log{\\left (scale \\right )} + \\operatorname{normcdfln}{\\left (cache_{6} sub_{5} \\right )} + \\log{\\left (2 \\right )}$$"
       ],
       "metadata": {},
       "output_type": "pyout",
       "png": "[encoded data removed]",
       "prompt_number": 5,
       "text": [
        "cache\u2087\u22c5sub\u2080 + sub\u2080\u22c5log(2\u22c5\u03c0) - log(scale) + normcdfln(cache\u2086\u22c5sub\u2085) + log(2)"
       ]
      }
     ],
     "prompt_number": 5
    },
    {
     "cell_type": "code",
     "collapsed": false,
     "input": [
      "likelihood.expressions['update_cache']['cache7']"
     ],
     "language": "python",
     "metadata": {},
     "outputs": [
      {
       "latex": [
        "$$\\frac{cache_{0}^{2}}{sub_{2}}$$"
       ],
       "metadata": {},
       "output_type": "pyout",
       "png": "[encoded data removed]",
       "prompt_number": 6,
       "text": [
        "      2\n",
        "cache\u2080 \n",
        "\u2500\u2500\u2500\u2500\u2500\u2500\u2500\n",
        "  sub\u2082 "
       ]
      }
     ],
     "prompt_number": 6
    },
    {
     "cell_type": "code",
     "collapsed": false,
     "input": [
      "likelihood.expressions['update_cache']['cache6']"
     ],
     "language": "python",
     "metadata": {},
     "outputs": [
      {
       "latex": [
        "$$\\frac{cache_{0}}{scale}$$"
       ],
       "metadata": {},
       "output_type": "pyout",
       "png": "[encoded data removed]",
       "prompt_number": 7,
       "text": [
        "cache\u2080\n",
        "\u2500\u2500\u2500\u2500\u2500\u2500\n",
        "scale "
       ]
      }
     ],
     "prompt_number": 7
    },
    {
     "cell_type": "code",
     "collapsed": false,
     "input": [
      "likelihood.expressions['parameters_changed']['sub5']"
     ],
     "language": "python",
     "metadata": {},
     "outputs": [
      {
       "latex": [
        "$$- shape$$"
       ],
       "metadata": {},
       "output_type": "pyout",
       "png": "[encoded data removed]",
       "prompt_number": 8,
       "text": [
        "-shape"
       ]
      }
     ],
     "prompt_number": 8
    },
    {
     "cell_type": "markdown",
     "metadata": {},
     "source": [
      "Here the log pdf has been converted into a function that depends on pre-computed functions, automatically included by the model.is written in the form of a special function: the log cdf of the normal distribution. This is a more numerically stable way to compute the log pdf than by calling log(normcdf(x)) directly because it makes use of the scaled complementry error function (erfcx(x)). This also ensures that the second derivatives are computed in terms of this funciton which helps retain some numerical stability. "
     ]
    },
    {
     "cell_type": "code",
     "collapsed": false,
     "input": [
      "print likelihood.code_function('log_pdf')\n",
      "print likelihood.code_gradients_cacheable('log_pdf', 'F')"
     ],
     "language": "python",
     "metadata": {},
     "outputs": [
      {
       "output_type": "stream",
       "stream": "stdout",
       "text": [
        "self.update_cache(F, Y)\n",
        "return (self.cache7*self.sub0 + self.sub0*log(2*pi) - log(self.scale) + normcdfln(self.cache6*self.sub5) + log(2))\n",
        "gradients_F = np.zeros_like(F)\n",
        "self.update_cache(F, Y)\n",
        "gradients_F[:, 0:0+1] = partial*((-self.cache6 + self.cache9*self.sub5/sqrt(pi))/self.scale)\n",
        "return gradients_F\n",
        "\n"
       ]
      }
     ],
     "prompt_number": 9
    },
    {
     "cell_type": "code",
     "collapsed": false,
     "input": [
      "likelihood.expressions"
     ],
     "language": "python",
     "metadata": {},
     "outputs": [
      {
       "output_type": "stream",
       "stream": "stderr",
       "text": [
        "/Users/neil/Library/Enthought/Canopy_64bit/User/lib/python2.7/site-packages/IPython/core/formatters.py:239: FormatterWarning: Exception in image/png formatter: 'latex' exited abnormally with the following output:\n",
        "This is pdfTeX, Version 3.1415926-2.5-1.40.14 (TeX Live 2013)\n",
        " restricted \\write18 enabled.\n",
        "entering extended mode\n",
        "(./texput.tex\n",
        "LaTeX2e <2011/06/27>\n",
        "Babel <3.9f> and hyphenation patterns for 78 languages loaded.\n",
        "(/usr/local/texlive/2013/texmf-dist/tex/latex/base/article.cls\n",
        "Document Class: article 2007/10/19 v1.4h Standard LaTeX document class\n",
        "(/usr/local/texlive/2013/texmf-dist/tex/latex/base/size10.clo))\n",
        "(/usr/local/texlive/2013/texmf-dist/tex/latex/amsmath/amsmath.sty\n",
        "For additional information on amsmath, use the `?' option.\n",
        "(/usr/local/texlive/2013/texmf-dist/tex/latex/amsmath/amstext.sty\n",
        "(/usr/local/texlive/2013/texmf-dist/tex/latex/amsmath/amsgen.sty))\n",
        "(/usr/local/texlive/2013/texmf-dist/tex/latex/amsmath/amsbsy.sty)\n",
        "(/usr/local/texlive/2013/texmf-dist/tex/latex/amsmath/amsopn.sty))\n",
        "(/usr/local/texlive/2013/texmf-dist/tex/latex/amsfonts/amsfonts.sty)\n",
        "No file texput.aux.\n",
        "(/usr/local/texlive/2013/texmf-dist/tex/latex/amsfonts/umsa.fd)\n",
        "(/usr/local/texlive/2013/texmf-dist/tex/latex/amsfonts/umsb.fd)\n",
        "! Extra alignment tab has been changed to \\cr.\n",
        "<recently read> \\endtemplate \n",
        "                             \n",
        "l.4 ...& cache7 : \\frac{cache_{0}^{2}}{sub_{2}}, &\n",
        "                                                   cache8 : \\frac{1}{4 cache...\n",
        "No pages of output.\n",
        "Transcript written on texput.log.\n",
        "\n",
        "  FormatterWarning,\n"
       ]
      },
      {
       "latex": [
        "$$\\begin{Bmatrix}log_pdf : \\begin{Bmatrix}derivative : \\begin{Bmatrix}f_0 : \\frac{1}{scale} \\left(- cache_{6} + \\frac{cache_{9} sub_{5}}{\\sqrt{\\pi}}\\right), & scale : \\frac{1}{scale} \\left(cache_{10} cache_{6} shape sub_{1} + 1.0 cache_{7} - 1\\right), & shape : cache_{6} cache_{9} sub_{7}\\end{Bmatrix}, & function : cache_{7} sub_{0} + sub_{0} \\log{\\left (2 \\pi \\right )} - \\log{\\left (scale \\right )} + \\operatorname{normcdfln}{\\left (cache_{6} sub_{5} \\right )} + \\log{\\left (2 \\right )}, & second_derivative : \\begin{Bmatrix}f_0 : \\frac{cache_{11} sub_{7} - 2.0}{2 sub_{2}}, & scale : - \\frac{sub_{0}}{sub_{2}} \\left(- cache_{11} cache_{6} sub_{7} + \\frac{1}{scale} \\left(4.0 f_{0} - 4.0 y_{0}\\right) + \\frac{sub_{5} sub_{6}}{cache_{1}} sub_{7}\\right), & shape : \\frac{cache_{10}}{2 scale} \\left(- sub_{6} + \\frac{cache_{3} cache_{6}}{cache_{1}} sub_{5}\\right)\\end{Bmatrix}, & third_derivative : \\begin{Bmatrix}f_0 : \\frac{cache_{8} sub_{8}}{sub_{3}} \\left(- cache_{4} cache_{9} + cache_{5}\\right), & scale : \\frac{1}{4 sub_{3}} \\left(\\frac{4 cache_{11}}{\\sqrt{\\pi}} + 8.0 + \\frac{cache_{5} cache_{6}}{cache_{2}} sub_{4} sub_{7} + \\frac{cache_{4} cache_{6}}{cache_{1}^{2}} cache_{9} sub_{8}\\right), & shape : \\frac{cache_{8} shape}{\\sqrt{\\pi} sub_{2}} \\left(2 cache_{1} cache_{6} shape sub_{6} + cache_{4} cache_{6} cache_{9} sub_{5} + cache_{5} cache_{6} shape + 16 sub_{7}\\right)\\end{Bmatrix}\\end{Bmatrix}, & parameters_changed : \\begin{Bmatrix}sub0 : -0.5, & sub1 : 2^{- sub_{0}}, & sub2 : scale^{2}, & sub3 : scale^{3}, & sub4 : shape^{3}, & sub5 : - shape, & sub6 : 2 sub_{1}, & sub7 : - \\frac{1}{\\sqrt{\\pi}}, & sub8 : \\frac{sub_{4}}{\\sqrt{\\pi}}\\end{Bmatrix}, & update_cache : \\begin{Bmatrix}cache0 : f_{0} - y_{0}, & cache1 : \\operatorname{erfcx}{\\left (- \\frac{cache_{0} sub_{0}}{scale} shape sub_{1} \\right )}, & cache10 : \\frac{1}{\\sqrt{\\pi} cache_{1}}, & cache11 : \\frac{cache_{3} shape^{2}}{cache_{2}}, & cache2 : cache_{1}^{2}, & cache3 : - \\frac{cache_{0} cache_{1}}{scale} shape sub_{1} + \\frac{4}{\\sqrt{\\pi}}, & cache4 : cache_{3}^{2}, & cache5 : - \\frac{cache_{0} cache_{3}}{scale} shape + 2 cache_{1} sub_{1}, & cache6 : \\frac{cache_{0}}{scale}, & cache7 : \\frac{cache_{0}^{2}}{sub_{2}}, & cache8 : \\frac{1}{4 cache_{2}}, & cache9 : \\frac{sub_{1}}{cache_{1}}\\end{Bmatrix}\\end{Bmatrix}$$"
       ],
       "metadata": {},
       "output_type": "pyout",
       "prompt_number": 10,
       "text": [
        "\u23a7         \u23a7            \u23a7               cache\u2089\u22c5sub\u2085                            \n",
        "\u23aa         \u23aa            \u23aa     -cache\u2086 + \u2500\u2500\u2500\u2500\u2500\u2500\u2500\u2500\u2500\u2500\u2500                            \n",
        "\u23aa         \u23aa            \u23aa                    ___                               \n",
        "\u23aa         \u23a8            \u23a8                  \u2572\u2571 \u03c0             cache\u2081\u2080\u22c5cache\u2086\u22c5shap\n",
        "\u23a8log_pdf: \u23aaderivative: \u23aaf_0: \u2500\u2500\u2500\u2500\u2500\u2500\u2500\u2500\u2500\u2500\u2500\u2500\u2500\u2500\u2500\u2500\u2500\u2500\u2500\u2500\u2500, scale: \u2500\u2500\u2500\u2500\u2500\u2500\u2500\u2500\u2500\u2500\u2500\u2500\u2500\u2500\u2500\u2500\u2500\u2500\u2500\n",
        "\u23aa         \u23aa            \u23aa             scale                                   s\n",
        "\u23aa         \u23a9            \u23a9                                                      \n",
        "\u23aa                                                                             \n",
        "\u23a9                                                                             \n",
        "\n",
        "                                                  \u23ab                           \n",
        "                                                  \u23aa                           \n",
        "                                                  \u23aa                           \n",
        "e\u22c5sub\u2081 + 1.0\u22c5cache\u2087 - 1                           \u23ac                           \n",
        "\u2500\u2500\u2500\u2500\u2500\u2500\u2500\u2500\u2500\u2500\u2500\u2500\u2500\u2500\u2500\u2500\u2500\u2500\u2500\u2500\u2500\u2500\u2500, shape: cache\u2086\u22c5cache\u2089\u22c5sub\u2087\u23aa, function: cache\u2087\u22c5sub\u2080 + s\n",
        "cale                                              \u23aa                           \n",
        "                                                  \u23ad                           \n",
        "                                                                              \n",
        "                                                                              \n",
        "\n",
        "                                                                              \n",
        "                                                                              \n",
        "                                                                              \n",
        "                                                                              \n",
        "ub\u2080\u22c5log(2\u22c5\u03c0) - log(scale) + normcdfln(cache\u2086\u22c5sub\u2085) + log(2), second_derivative\n",
        "                                                                              \n",
        "                                                                              \n",
        "                                                                              \n",
        "                                                                              \n",
        "\n",
        "                                                                              \n",
        "  \u23a7                                      \u239b                       4.0\u22c5f\u2080 - 4.0\u22c5\n",
        "  \u23aa                                -sub\u2080\u22c5\u239c-cache\u2081\u2081\u22c5cache\u2086\u22c5sub\u2087 + \u2500\u2500\u2500\u2500\u2500\u2500\u2500\u2500\u2500\u2500\u2500\u2500\u2500\n",
        "  \u23a8     cache\u2081\u2081\u22c5sub\u2087 - 2.0               \u239d                            scale   \n",
        ": \u23aaf_0: \u2500\u2500\u2500\u2500\u2500\u2500\u2500\u2500\u2500\u2500\u2500\u2500\u2500\u2500\u2500\u2500\u2500\u2500, scale: \u2500\u2500\u2500\u2500\u2500\u2500\u2500\u2500\u2500\u2500\u2500\u2500\u2500\u2500\u2500\u2500\u2500\u2500\u2500\u2500\u2500\u2500\u2500\u2500\u2500\u2500\u2500\u2500\u2500\u2500\u2500\u2500\u2500\u2500\u2500\u2500\u2500\u2500\u2500\u2500\u2500\u2500\u2500\n",
        "  \u23a9           2\u22c5sub\u2082                                             sub\u2082         \n",
        "                                                                              \n",
        "                                                                              \n",
        "                                                                              \n",
        "\n",
        "                                                                              \n",
        "y\u2080   sub\u2085\u22c5sub\u2086\u22c5sub\u2087\u239e                  \u239b        cache\u2083\u22c5cache\u2086\u22c5sub\u2085\u239e\u23ab           \n",
        "\u2500\u2500 + \u2500\u2500\u2500\u2500\u2500\u2500\u2500\u2500\u2500\u2500\u2500\u2500\u2500\u2500\u239f          cache\u2081\u2080\u22c5\u239c-sub\u2086 + \u2500\u2500\u2500\u2500\u2500\u2500\u2500\u2500\u2500\u2500\u2500\u2500\u2500\u2500\u2500\u2500\u2500\u2500\u239f\u23aa           \n",
        "         cache\u2081    \u23a0                  \u239d              cache\u2081      \u23a0\u23ac           \n",
        "\u2500\u2500\u2500\u2500\u2500\u2500\u2500\u2500\u2500\u2500\u2500\u2500\u2500\u2500\u2500\u2500\u2500\u2500\u2500\u2500\u2500, shape: \u2500\u2500\u2500\u2500\u2500\u2500\u2500\u2500\u2500\u2500\u2500\u2500\u2500\u2500\u2500\u2500\u2500\u2500\u2500\u2500\u2500\u2500\u2500\u2500\u2500\u2500\u2500\u2500\u2500\u2500\u2500\u2500\u2500\u2500\u2500\u2500\u23aa, third_der\n",
        "                                            2\u22c5scale               \u23ad           \n",
        "                                                                              \n",
        "                                                                              \n",
        "                                                                              \n",
        "\n",
        "         \u23a7                                                   4\u22c5cache\u2081\u2081        \n",
        "         \u23aa                                                   \u2500\u2500\u2500\u2500\u2500\u2500\u2500\u2500\u2500 + 8.0 +\n",
        "         \u23aa                                                       ___          \n",
        "         \u23a8     cache\u2088\u22c5sub\u2088\u22c5(-cache\u2084\u22c5cache\u2089 + cache\u2085)           \u2572\u2571 \u03c0           \n",
        "ivative: \u23aaf_0: \u2500\u2500\u2500\u2500\u2500\u2500\u2500\u2500\u2500\u2500\u2500\u2500\u2500\u2500\u2500\u2500\u2500\u2500\u2500\u2500\u2500\u2500\u2500\u2500\u2500\u2500\u2500\u2500\u2500\u2500\u2500\u2500\u2500\u2500\u2500\u2500\u2500, scale: \u2500\u2500\u2500\u2500\u2500\u2500\u2500\u2500\u2500\u2500\u2500\u2500\u2500\u2500\u2500\u2500\u2500\n",
        "         \u23aa                      sub\u2083                                          \n",
        "         \u23a9                                                                    \n",
        "                                                                              \n",
        "                                                                              \n",
        "\n",
        " cache\u2085\u22c5cache\u2086\u22c5sub\u2084\u22c5sub\u2087   cache\u2084\u22c5cache\u2086\u22c5cache\u2089\u22c5sub\u2088                          \n",
        " \u2500\u2500\u2500\u2500\u2500\u2500\u2500\u2500\u2500\u2500\u2500\u2500\u2500\u2500\u2500\u2500\u2500\u2500\u2500\u2500\u2500\u2500\u2500 + \u2500\u2500\u2500\u2500\u2500\u2500\u2500\u2500\u2500\u2500\u2500\u2500\u2500\u2500\u2500\u2500\u2500\u2500\u2500\u2500\u2500\u2500\u2500\u2500\u2500                          \n",
        "          cache\u2082                          2                                   \n",
        "                                    cache\u2081                   cache\u2088\u22c5shape\u22c5(2\u22c5c\n",
        "\u2500\u2500\u2500\u2500\u2500\u2500\u2500\u2500\u2500\u2500\u2500\u2500\u2500\u2500\u2500\u2500\u2500\u2500\u2500\u2500\u2500\u2500\u2500\u2500\u2500\u2500\u2500\u2500\u2500\u2500\u2500\u2500\u2500\u2500\u2500\u2500\u2500\u2500\u2500\u2500\u2500\u2500\u2500\u2500\u2500\u2500\u2500\u2500\u2500\u2500\u2500\u2500, shape: \u2500\u2500\u2500\u2500\u2500\u2500\u2500\u2500\u2500\u2500\u2500\u2500\u2500\u2500\u2500\u2500\u2500\n",
        "               4\u22c5sub\u2083                                                         \n",
        "                                                                              \n",
        "                                                                              \n",
        "                                                                              \n",
        "\n",
        "                                                                              \n",
        "                                                                              \n",
        "                                                                              \n",
        "ache\u2081\u22c5cache\u2086\u22c5shape\u22c5sub\u2086 + cache\u2084\u22c5cache\u2086\u22c5cache\u2089\u22c5sub\u2085 + cache\u2085\u22c5cache\u2086\u22c5shape + 16\n",
        "\u2500\u2500\u2500\u2500\u2500\u2500\u2500\u2500\u2500\u2500\u2500\u2500\u2500\u2500\u2500\u2500\u2500\u2500\u2500\u2500\u2500\u2500\u2500\u2500\u2500\u2500\u2500\u2500\u2500\u2500\u2500\u2500\u2500\u2500\u2500\u2500\u2500\u2500\u2500\u2500\u2500\u2500\u2500\u2500\u2500\u2500\u2500\u2500\u2500\u2500\u2500\u2500\u2500\u2500\u2500\u2500\u2500\u2500\u2500\u2500\u2500\u2500\u2500\u2500\u2500\u2500\u2500\u2500\u2500\u2500\u2500\u2500\u2500\u2500\u2500\u2500\u2500\u2500\n",
        "                               ___                                            \n",
        "                             \u2572\u2571 \u03c0 \u22c5sub\u2082                                       \n",
        "                                                                              \n",
        "                                                                              \n",
        "\n",
        "      \u23ab\u23ab                                                                      \n",
        "      \u23aa\u23aa                                                                      \n",
        "      \u23aa\u23aa                                                                      \n",
        "\u22c5sub\u2087)\u23ac\u23ac                      \u23a7                   -sub\u2080             2         \n",
        "\u2500\u2500\u2500\u2500\u2500\u2500\u23aa\u23aa, parameters_changed: \u23aasub0: -0.5, sub1: 2     , sub2: scale , sub3: s\n",
        "      \u23aa\u23aa                      \u23a8                                               \n",
        "      \u23ad\u23ad                      \u23aa                                               \n",
        "                              \u23a9                                               \n",
        "                                                                              \n",
        "\n",
        "                                                                              \n",
        "                                                                              \n",
        "                                                                              \n",
        "    3             3                                     -1           sub\u2084\u23ab    \n",
        "cale , sub4: shape , sub5: -shape, sub6: 2\u22c5sub\u2081, sub7: \u2500\u2500\u2500\u2500\u2500, sub8: \u2500\u2500\u2500\u2500\u2500\u23aa, up\n",
        "                                                         ___          ___\u23ac    \n",
        "                                                       \u2572\u2571 \u03c0         \u2572\u2571 \u03c0 \u23aa    \n",
        "                                                                         \u23ad    \n",
        "                                                                              \n",
        "\n",
        "                                                                              \n",
        "                                                                              \n",
        "            \u23a7                                                                 \n",
        "            \u23aa                              \u239b-cache\u2080\u22c5shape\u22c5sub\u2080\u22c5sub\u2081 \u239e         \n",
        "date_cache: \u23a8cache0: f\u2080 - y\u2080, cache1: erfcx\u239c\u2500\u2500\u2500\u2500\u2500\u2500\u2500\u2500\u2500\u2500\u2500\u2500\u2500\u2500\u2500\u2500\u2500\u2500\u2500\u2500\u2500\u2500\u2500\u2500\u239f, cache10\n",
        "            \u23aa                              \u239d         scale          \u23a0         \n",
        "            \u23a9                                                                 \n",
        "                                                                              \n",
        "                                                                              \n",
        "\n",
        "                                                                              \n",
        "                                                                              \n",
        "                                     2                                        \n",
        "       1                 cache\u2083\u22c5shape                 2            cache\u2080\u22c5cach\n",
        ": \u2500\u2500\u2500\u2500\u2500\u2500\u2500\u2500\u2500\u2500\u2500\u2500, cache11: \u2500\u2500\u2500\u2500\u2500\u2500\u2500\u2500\u2500\u2500\u2500\u2500\u2500, cache2: cache\u2081 , cache3: - \u2500\u2500\u2500\u2500\u2500\u2500\u2500\u2500\u2500\u2500\u2500\n",
        "    ___                      cache\u2082                                         sc\n",
        "  \u2572\u2571 \u03c0 \u22c5cache\u2081                                                                \n",
        "                                                                              \n",
        "                                                                              \n",
        "\n",
        "                                                                              \n",
        "                                                                              \n",
        "                                                                              \n",
        "e\u2081\u22c5shape\u22c5sub\u2081     4                  2            cache\u2080\u22c5cache\u2083\u22c5shape         \n",
        "\u2500\u2500\u2500\u2500\u2500\u2500\u2500\u2500\u2500\u2500\u2500\u2500\u2500 + \u2500\u2500\u2500\u2500\u2500, cache4: cache\u2083 , cache5: - \u2500\u2500\u2500\u2500\u2500\u2500\u2500\u2500\u2500\u2500\u2500\u2500\u2500\u2500\u2500\u2500\u2500\u2500\u2500 + 2\u22c5cach\n",
        "ale               ___                                    scale                \n",
        "                \u2572\u2571 \u03c0                                                          \n",
        "                                                                              \n",
        "                                                                              \n",
        "\n",
        "                                                                           \u23ab\n",
        "                                                                           \u23aa\n",
        "                                       2                                  \u23ab\u23aa\n",
        "                 cache\u2080          cache\u2080              1               sub\u2081 \u23aa\u23aa\n",
        "e\u2081\u22c5sub\u2081, cache6: \u2500\u2500\u2500\u2500\u2500\u2500, cache7: \u2500\u2500\u2500\u2500\u2500\u2500\u2500, cache8: \u2500\u2500\u2500\u2500\u2500\u2500\u2500\u2500, cache9: \u2500\u2500\u2500\u2500\u2500\u2500\u23ac\u23ac\n",
        "                 scale             sub\u2082           4\u22c5cache\u2082          cache\u2081\u23aa\u23aa\n",
        "                                                                          \u23ad\u23aa\n",
        "                                                                           \u23aa\n",
        "                                                                           \u23ad"
       ]
      }
     ],
     "prompt_number": 10
    },
    {
     "cell_type": "code",
     "collapsed": false,
     "input": [
      "likelihood.code['log_pdf']['function']"
     ],
     "language": "python",
     "metadata": {},
     "outputs": [
      {
       "metadata": {},
       "output_type": "pyout",
       "prompt_number": 11,
       "text": [
        "'(cache7*sub0 + sub0*log(2*pi) - log(scale) + normcdfln(cache6*sub5) + log(2))'"
       ]
      }
     ],
     "prompt_number": 11
    },
    {
     "cell_type": "markdown",
     "metadata": {},
     "source": [
      "We can also print the likelihood to check the parameters."
     ]
    },
    {
     "cell_type": "code",
     "collapsed": false,
     "input": [
      "print likelihood"
     ],
     "language": "python",
     "metadata": {},
     "outputs": [
      {
       "output_type": "stream",
       "stream": "stdout",
       "text": [
        "  Skew_normal.  |  Value  |  Constraint  |  Prior  |  Tied to\n",
        "  \u001b[1mscale       \u001b[0;0m  |    1.0  |     +ve      |         |         \n",
        "  \u001b[1mshape       \u001b[0;0m  |    1.0  |              |         |         \n"
       ]
      }
     ],
     "prompt_number": 12
    },
    {
     "cell_type": "markdown",
     "metadata": {},
     "source": [
      "And finally we can plot the likelihoood to see its skewed form."
     ]
    },
    {
     "cell_type": "code",
     "collapsed": false,
     "input": [
      "likelihood.scale = 1\n",
      "likelihood.shape = 0.10\n",
      "xs = linspace(-2, 2, 100)\n",
      "ys = []\n",
      "for x in xs: \n",
      "    ys.append(likelihood.pdf(0, x))\n",
      "plt.plot(np.asarray(xs), np.asarray(ys))"
     ],
     "language": "python",
     "metadata": {},
     "outputs": [
      {
       "metadata": {},
       "output_type": "pyout",
       "prompt_number": 13,
       "text": [
        "[<matplotlib.lines.Line2D at 0x10ea13a50>]"
       ]
      },
      {
       "metadata": {},
       "output_type": "display_data",
       "png": "[encoded data removed]",
       "text": [
        "<matplotlib.figure.Figure at 0x10e54e890>"
       ]
      }
     ],
     "prompt_number": 13
    },
    {
     "cell_type": "markdown",
     "metadata": {},
     "source": [
      "Now we load in the olympic marathon data. We will aim to predict *log* times. By using a skew likelihood we are acknowledging the fact that while it's quite possible for a runner to go slower (due to weather or difficult courses) it is harder for a runner to go faster than the limits of human ability. "
     ]
    },
    {
     "cell_type": "code",
     "collapsed": false,
     "input": [
      "data = pods.datasets.olympic_marathon_men()\n",
      "X = data['X']\n",
      "y = np.log(data['Y'])\n",
      "# Build a covariance function which allows for a non-zero mean.\n",
      "kern = GPy.kern.RBF(1, name='trend', lengthscale=10., variance=4.) + GPy.kern.Bias(1, name='offset', variance=4) \n",
      "inference = GPy.inference.latent_function_inference.laplace.Laplace()\n",
      "model = GPy.core.GP(X, y, likelihood=likelihood, kernel=kern, inference_method=inference)\n"
     ],
     "language": "python",
     "metadata": {},
     "outputs": [
      {
       "output_type": "stream",
       "stream": "stderr",
       "text": [
        "/Users/neil/SheffieldML/GPy/GPy/inference/latent_function_inference/laplace.py:133: UserWarning: f_hat now fine again\n",
        "  warnings.warn(\"f_hat now fine again\")\n"
       ]
      }
     ],
     "prompt_number": 14
    },
    {
     "cell_type": "markdown",
     "metadata": {},
     "source": [
      "We can now print the model and check its gradients."
     ]
    },
    {
     "cell_type": "code",
     "collapsed": false,
     "input": [
      "print model\n",
      "model.checkgrad(verbose=True)"
     ],
     "language": "python",
     "metadata": {},
     "outputs": [
      {
       "output_type": "stream",
       "stream": "stdout",
       "text": [
        "  gp.                    |  Value  |  Constraint  |  Prior  |  Tied to\n",
        "  \u001b[1madd.trend.variance   \u001b[0;0m  |    4.0  |     +ve      |         |         \n",
        "  \u001b[1madd.trend.lengthscale\u001b[0;0m  |   10.0  |     +ve      |         |         \n",
        "  \u001b[1madd.offset.variance  \u001b[0;0m  |    4.0  |     +ve      |         |         \n",
        "  \u001b[1mSkew_normal.scale    \u001b[0;0m  |    1.0  |     +ve      |         |         \n",
        "  \u001b[1mSkew_normal.shape    \u001b[0;0m  |    0.1  |              |         |         \n",
        "              Name              |     Ratio     |  Difference   |  Analytical   |   Numerical   \n",
        "------------------------------------------------------------------------------------------------\n",
        "\u001b[92m gp.add.trend.variance[0] \u001b[0m      |   1.000004    |   0.000004    |   1.060915    |   1.060919    "
       ]
      },
      {
       "output_type": "stream",
       "stream": "stdout",
       "text": [
        "\n",
        "\u001b[92m gp.add.trend.lengthscale[0] \u001b[0m   |   0.999985    |   0.000010    |   -0.649111   |   -0.649101   "
       ]
      },
      {
       "output_type": "stream",
       "stream": "stdout",
       "text": [
        "\n",
        "\u001b[92m gp.add.offset.variance[0] \u001b[0m     |   1.000159    |   0.000012    |   0.073221    |   0.073232    "
       ]
      },
      {
       "output_type": "stream",
       "stream": "stdout",
       "text": [
        "\n",
        "\u001b[92m gp.Skew_normal.scale[0] \u001b[0m       |   1.000002    |   0.000017    |   10.992369   |   10.992386   "
       ]
      },
      {
       "output_type": "stream",
       "stream": "stdout",
       "text": [
        "\n",
        "\u001b[92m gp.Skew_normal.shape[0] \u001b[0m       |   1.000033    |   0.000043    |   -1.292406   |   -1.292448   "
       ]
      },
      {
       "output_type": "stream",
       "stream": "stdout",
       "text": [
        "\n"
       ]
      },
      {
       "metadata": {},
       "output_type": "pyout",
       "prompt_number": 15,
       "text": [
        "True"
       ]
      }
     ],
     "prompt_number": 15
    },
    {
     "cell_type": "markdown",
     "metadata": {},
     "source": [
      "And make a plot of the predictions with the initial model."
     ]
    },
    {
     "cell_type": "code",
     "collapsed": false,
     "input": [
      "model.plot_f()"
     ],
     "language": "python",
     "metadata": {},
     "outputs": [
      {
       "metadata": {},
       "output_type": "display_data",
       "png": "[encoded data removed]",
       "text": [
        "<matplotlib.figure.Figure at 0x10ea40c90>"
       ]
      }
     ],
     "prompt_number": 16
    },
    {
     "cell_type": "markdown",
     "metadata": {},
     "source": [
      "Now we will optimize the model for 100 iterations of scaled conjugate gradients."
     ]
    },
    {
     "cell_type": "code",
     "collapsed": false,
     "input": [
      "model.optimize(messages=True, max_iters=100)"
     ],
     "language": "python",
     "metadata": {},
     "outputs": [
      {
       "output_type": "stream",
       "stream": "stdout",
       "text": [
        " I     F              Scale          |g|        \n",
        "\r"
       ]
      },
      {
       "output_type": "stream",
       "stream": "stdout",
       "text": [
        "001   3.741605e+01   2.560905e+00   1.240547e+02"
       ]
      },
      {
       "output_type": "stream",
       "stream": "stdout",
       "text": [
        " \r",
        "002   2.222378e+01   1.024362e+01   1.240547e+02"
       ]
      },
      {
       "output_type": "stream",
       "stream": "stdout",
       "text": [
        " \r",
        "003  -4.044755e-01   5.121809e+00   1.493758e+02"
       ]
      },
      {
       "output_type": "stream",
       "stream": "stdout",
       "text": [
        " \r",
        "004  -4.775958e+00   2.560905e+00   1.708391e+01"
       ]
      },
      {
       "output_type": "stream",
       "stream": "stdout",
       "text": [
        " \r",
        "005  -4.775958e+00   5.385192e+00   4.897727e+01"
       ]
      },
      {
       "output_type": "stream",
       "stream": "stdout",
       "text": [
        " \n",
        "\r"
       ]
      },
      {
       "output_type": "stream",
       "stream": "stdout",
       "text": [
        "006  -6.285537e+00   2.154077e+01   4.897727e+01"
       ]
      },
      {
       "output_type": "stream",
       "stream": "stdout",
       "text": [
        " \r",
        "007  -7.112485e+00   3.152629e+02   1.763374e+01"
       ]
      },
      {
       "output_type": "stream",
       "stream": "stdout",
       "text": [
        " \r",
        "008  -7.250192e+00   1.576315e+02   2.274822e+01"
       ]
      },
      {
       "output_type": "stream",
       "stream": "stdout",
       "text": [
        " \r",
        "009  -7.465893e+00   7.881573e+01   2.052162e+01"
       ]
      },
      {
       "output_type": "stream",
       "stream": "stdout",
       "text": [
        " \r",
        "010  -7.663746e+00   3.940787e+01   1.744659e+01"
       ]
      },
      {
       "output_type": "stream",
       "stream": "stdout",
       "text": [
        " \r",
        "011  -8.042558e+00   1.970393e+01   1.529100e+01"
       ]
      },
      {
       "output_type": "stream",
       "stream": "stdout",
       "text": [
        " \r",
        "012  -8.820686e+00   9.851967e+00   1.275000e+01"
       ]
      },
      {
       "output_type": "stream",
       "stream": "stdout",
       "text": [
        " \r",
        "013  -9.055671e+00   4.925983e+00   1.215113e+01"
       ]
      },
      {
       "output_type": "stream",
       "stream": "stdout",
       "text": [
        " \r",
        "014  -1.406748e+01   6.423656e+01   1.210693e+01"
       ]
      },
      {
       "output_type": "stream",
       "stream": "stdout",
       "text": [
        " \r",
        "015  -1.455984e+01   1.121498e+02   1.580045e+01"
       ]
      },
      {
       "output_type": "stream",
       "stream": "stdout",
       "text": [
        " \n",
        "\r"
       ]
      },
      {
       "output_type": "stream",
       "stream": "stdout",
       "text": [
        "016  -1.468784e+01   5.607488e+01   1.396379e+01"
       ]
      },
      {
       "output_type": "stream",
       "stream": "stdout",
       "text": [
        " \r",
        "017  -1.485137e+01   2.803744e+01   1.385668e+01"
       ]
      },
      {
       "output_type": "stream",
       "stream": "stdout",
       "text": [
        " \r",
        "018  -1.596873e+01   1.401872e+01   1.380964e+01"
       ]
      },
      {
       "output_type": "stream",
       "stream": "stdout",
       "text": [
        " \r",
        "019  -1.803984e+01   7.009359e+00   1.449593e+01"
       ]
      },
      {
       "output_type": "stream",
       "stream": "stdout",
       "text": [
        " \r",
        "020  -2.224012e+01   1.821556e+02   1.646606e+01"
       ]
      },
      {
       "output_type": "stream",
       "stream": "stdout",
       "text": [
        " \r",
        "021  -2.257186e+01   1.132901e+03   5.507857e+01"
       ]
      },
      {
       "output_type": "stream",
       "stream": "stdout",
       "text": [
        " \r",
        "022  -2.258852e+01   5.664506e+02   4.796251e+01"
       ]
      },
      {
       "output_type": "stream",
       "stream": "stdout",
       "text": [
        " \r",
        "023  -2.292939e+01   2.832253e+02   4.708876e+01"
       ]
      },
      {
       "output_type": "stream",
       "stream": "stdout",
       "text": [
        " \r",
        "024  -2.313699e+01   6.129204e+02   3.170875e+01"
       ]
      },
      {
       "output_type": "stream",
       "stream": "stdout",
       "text": [
        " \r",
        "025  -2.316934e+01   3.064602e+02   2.556550e+01"
       ]
      },
      {
       "output_type": "stream",
       "stream": "stdout",
       "text": [
        " \r",
        "026  -2.319396e+01   1.532301e+02   2.482687e+01"
       ]
      },
      {
       "output_type": "stream",
       "stream": "stdout",
       "text": [
        " \r",
        "027  -2.346671e+01   7.661505e+01   2.429036e+01"
       ]
      },
      {
       "output_type": "stream",
       "stream": "stdout",
       "text": [
        " \r",
        "028  -2.394462e+01   1.120481e+02   1.949099e+01"
       ]
      },
      {
       "output_type": "stream",
       "stream": "stdout",
       "text": [
        " \r",
        "029  -2.402427e+01   5.602403e+01   1.662183e+01"
       ]
      },
      {
       "output_type": "stream",
       "stream": "stdout",
       "text": [
        " \r",
        "030  -2.462048e+01   1.030644e+02   1.656451e+01"
       ]
      },
      {
       "output_type": "stream",
       "stream": "stdout",
       "text": [
        " \r",
        "031  -2.493768e+01   5.153218e+01   1.623642e+01"
       ]
      },
      {
       "output_type": "stream",
       "stream": "stdout",
       "text": [
        " \r",
        "032  -2.503977e+01   2.576609e+01   1.609725e+01"
       ]
      },
      {
       "output_type": "stream",
       "stream": "stdout",
       "text": [
        " \r",
        "033  -2.521882e+01   1.288305e+01   1.604886e+01"
       ]
      },
      {
       "output_type": "stream",
       "stream": "stdout",
       "text": [
        " \r",
        "034  -2.689255e+01   6.441523e+00   1.595964e+01"
       ]
      },
      {
       "output_type": "stream",
       "stream": "stdout",
       "text": [
        " \r",
        "035  -3.119255e+01   3.863030e+01   1.485859e+01"
       ]
      },
      {
       "output_type": "stream",
       "stream": "stdout",
       "text": [
        " \r",
        "036  -3.143320e+01   1.931515e+01   9.260071e+00"
       ]
      },
      {
       "output_type": "stream",
       "stream": "stdout",
       "text": [
        " \n",
        "\r"
       ]
      },
      {
       "output_type": "stream",
       "stream": "stdout",
       "text": [
        "037  -3.168720e+01   9.657576e+00   8.752563e+00"
       ]
      },
      {
       "output_type": "stream",
       "stream": "stderr",
       "text": [
        "/Users/neil/Library/Enthought/Canopy_64bit/User/lib/python2.7/site-packages/numpy/__init__.py:1: RuntimeWarning: invalid value encountered in divide\n",
        "  \"\"\"\n",
        "/Users/neil/Library/Enthought/Canopy_64bit/User/lib/python2.7/site-packages/numpy/__init__.py:1: RuntimeWarning: overflow encountered in square\n",
        "  \"\"\"\n"
       ]
      },
      {
       "output_type": "stream",
       "stream": "stdout",
       "text": [
        " \r",
        "038  -3.168720e+01   4.828788e+00   8.188141e+00"
       ]
      },
      {
       "output_type": "stream",
       "stream": "stdout",
       "text": [
        " \r",
        "039  -3.223696e+01   1.931515e+01   8.188141e+00"
       ]
      },
      {
       "output_type": "stream",
       "stream": "stdout",
       "text": [
        " \r",
        "040  -3.278594e+01   9.657576e+00   6.830815e+00"
       ]
      },
      {
       "output_type": "stream",
       "stream": "stdout",
       "text": [
        " \r",
        "041  -3.373414e+01   3.335888e+01   5.266250e+00"
       ]
      },
      {
       "output_type": "stream",
       "stream": "stdout",
       "text": [
        " \r",
        "042  -3.390164e+01   1.667944e+01   1.971633e+00"
       ]
      },
      {
       "output_type": "stream",
       "stream": "stdout",
       "text": [
        " \r",
        "043  -3.408512e+01   2.946625e+01   1.441257e+00"
       ]
      },
      {
       "output_type": "stream",
       "stream": "stdout",
       "text": [
        " \r",
        "044  -3.409588e+01   1.473313e+01   9.238656e-01"
       ]
      },
      {
       "output_type": "stream",
       "stream": "stdout",
       "text": [
        " \r",
        "045  -3.409768e+01   7.366563e+00   8.650375e-01"
       ]
      },
      {
       "output_type": "stream",
       "stream": "stdout",
       "text": [
        " \r",
        "046  -3.412999e+01   3.683281e+00   8.576140e-01"
       ]
      },
      {
       "output_type": "stream",
       "stream": "stdout",
       "text": [
        " \r",
        "047  -3.449565e+01   2.284443e+01   7.526694e-01"
       ]
      },
      {
       "output_type": "stream",
       "stream": "stdout",
       "text": [
        " \r",
        "048  -3.454331e+01   3.062261e+01   5.448047e-01"
       ]
      },
      {
       "output_type": "stream",
       "stream": "stdout",
       "text": [
        " \r",
        "049  -3.458277e+01   1.479290e+02   4.748924e-01"
       ]
      },
      {
       "output_type": "stream",
       "stream": "stdout",
       "text": [
        " \r",
        "050  -3.458925e+01   2.599763e+02   3.756106e-01"
       ]
      },
      {
       "output_type": "stream",
       "stream": "stdout",
       "text": [
        " \r",
        "051  -3.459295e+01   1.299882e+02   3.505553e-01"
       ]
      },
      {
       "output_type": "stream",
       "stream": "stdout",
       "text": [
        " \r",
        "052  -3.459619e+01   6.499408e+01   3.412298e-01"
       ]
      },
      {
       "output_type": "stream",
       "stream": "stdout",
       "text": [
        " \r",
        "053  -3.460629e+01   3.249704e+01   3.339977e-01"
       ]
      },
      {
       "output_type": "stream",
       "stream": "stdout",
       "text": [
        " \r",
        "054  -3.463337e+01   3.661001e+01   3.142822e-01"
       ]
      },
      {
       "output_type": "stream",
       "stream": "stdout",
       "text": [
        " \r",
        "055  -3.465559e+01   7.716145e+01   2.732095e-01"
       ]
      },
      {
       "output_type": "stream",
       "stream": "stdout",
       "text": [
        " \r",
        "056  -3.466535e+01   8.275555e+01   2.491376e-01"
       ]
      },
      {
       "output_type": "stream",
       "stream": "stdout",
       "text": [
        " \r",
        "057  -3.467750e+01   4.137778e+01   2.402593e-01"
       ]
      },
      {
       "output_type": "stream",
       "stream": "stdout",
       "text": [
        " \r",
        "058  -3.472107e+01   2.068889e+01   2.306107e-01"
       ]
      },
      {
       "output_type": "stream",
       "stream": "stdout",
       "text": [
        " \r",
        "059  -3.474828e+01   1.034444e+01   2.028947e-01"
       ]
      },
      {
       "output_type": "stream",
       "stream": "stdout",
       "text": [
        " \r",
        "060  -3.480703e+01   1.858899e+01   1.911067e-01"
       ]
      },
      {
       "output_type": "stream",
       "stream": "stdout",
       "text": [
        " \r",
        "061  -3.483688e+01   5.756181e+01   1.706259e-01"
       ]
      },
      {
       "output_type": "stream",
       "stream": "stdout",
       "text": [
        " \r",
        "062  -3.484658e+01   2.878090e+01   1.621009e-01"
       ]
      },
      {
       "output_type": "stream",
       "stream": "stdout",
       "text": [
        " \r",
        "063  -3.486075e+01   1.439045e+01   1.594388e-01"
       ]
      },
      {
       "output_type": "stream",
       "stream": "stdout",
       "text": [
        " \r",
        "064  -3.488138e+01   7.195226e+00   1.556653e-01"
       ]
      },
      {
       "output_type": "stream",
       "stream": "stdout",
       "text": [
        " \r",
        "065  -3.494902e+01   3.597613e+00   1.503555e-01"
       ]
      },
      {
       "output_type": "stream",
       "stream": "stdout",
       "text": [
        " \r",
        "066  -3.506665e+01   4.566646e+00   1.343869e-01"
       ]
      },
      {
       "output_type": "stream",
       "stream": "stdout",
       "text": [
        " \r",
        "067  -3.512466e+01   1.888219e+01   1.242217e-01"
       ]
      },
      {
       "output_type": "stream",
       "stream": "stdout",
       "text": [
        " \r",
        "068  -3.513231e+01   1.670255e+02   2.160130e+00"
       ]
      },
      {
       "output_type": "stream",
       "stream": "stdout",
       "text": [
        " \r",
        "069  -3.515610e+01   8.351275e+01   2.314709e+00"
       ]
      },
      {
       "output_type": "stream",
       "stream": "stdout",
       "text": [
        " \r",
        "070  -3.516430e+01   1.194293e+03   6.123930e-01"
       ]
      },
      {
       "output_type": "stream",
       "stream": "stdout",
       "text": [
        " \r",
        "071  -3.516454e+01   5.971465e+02   1.487306e-01"
       ]
      },
      {
       "output_type": "stream",
       "stream": "stdout",
       "text": [
        " \r",
        "072  -3.516461e+01   2.985733e+02   1.451504e-01"
       ]
      },
      {
       "output_type": "stream",
       "stream": "stdout",
       "text": [
        " \r",
        "073  -3.516553e+01   6.771922e+02   1.438371e-01"
       ]
      },
      {
       "output_type": "stream",
       "stream": "stdout",
       "text": [
        " \r",
        "074  -3.516593e+01   9.413584e+02   1.252126e-01"
       ]
      },
      {
       "output_type": "stream",
       "stream": "stdout",
       "text": [
        " \r",
        "075  -3.516648e+01   4.706792e+02   1.197795e-01"
       ]
      },
      {
       "output_type": "stream",
       "stream": "stdout",
       "text": [
        " \r",
        "076  -3.516681e+01   2.353396e+02   1.137296e-01"
       ]
      },
      {
       "output_type": "stream",
       "stream": "stdout",
       "text": [
        " \r",
        "077  -3.516705e+01   1.176698e+02   1.108620e-01"
       ]
      },
      {
       "output_type": "stream",
       "stream": "stdout",
       "text": [
        " \r",
        "078  -3.516768e+01   5.883490e+01   1.090959e-01"
       ]
      },
      {
       "output_type": "stream",
       "stream": "stdout",
       "text": [
        " \r",
        "079  -3.516778e+01   2.941745e+01   1.050577e-01"
       ]
      },
      {
       "output_type": "stream",
       "stream": "stdout",
       "text": [
        " \r",
        "080  -3.516969e+01   1.470872e+01   1.046033e-01"
       ]
      },
      {
       "output_type": "stream",
       "stream": "stdout",
       "text": [
        " \r",
        "081  -3.516969e+01   7.354362e+00   9.754001e-02"
       ]
      },
      {
       "output_type": "stream",
       "stream": "stdout",
       "text": [
        " \n",
        "\r"
       ]
      },
      {
       "output_type": "stream",
       "stream": "stdout",
       "text": [
        "082  -3.517593e+01   2.941745e+01   9.754001e-02"
       ]
      },
      {
       "output_type": "stream",
       "stream": "stdout",
       "text": [
        " \r",
        "083  -3.518971e+01   1.470872e+01   9.424451e-02"
       ]
      },
      {
       "output_type": "stream",
       "stream": "stdout",
       "text": [
        " \r",
        "084  -3.520802e+01   9.925443e+02   9.346523e-02"
       ]
      },
      {
       "output_type": "stream",
       "stream": "stdout",
       "text": [
        " \r",
        "085  -3.520843e+01   4.962721e+02   1.053772e-01"
       ]
      },
      {
       "output_type": "stream",
       "stream": "stdout",
       "text": [
        " \r",
        "086  -3.520919e+01   8.214861e+02   1.031488e-01"
       ]
      },
      {
       "output_type": "stream",
       "stream": "stdout",
       "text": [
        " \r",
        "087  -3.520962e+01   4.107431e+02   9.964536e-02"
       ]
      },
      {
       "output_type": "stream",
       "stream": "stdout",
       "text": [
        " \r",
        "088  -3.521042e+01   2.053715e+02   9.803863e-02"
       ]
      },
      {
       "output_type": "stream",
       "stream": "stdout",
       "text": [
        " \r",
        "089  -3.521208e+01   6.443714e+02   9.551489e-02"
       ]
      },
      {
       "output_type": "stream",
       "stream": "stdout",
       "text": [
        " \r",
        "090  -3.521275e+01   3.221857e+02   9.185874e-02"
       ]
      },
      {
       "output_type": "stream",
       "stream": "stdout",
       "text": [
        " \r",
        "091  -3.521355e+01   1.610928e+02   9.100658e-02"
       ]
      },
      {
       "output_type": "stream",
       "stream": "stdout",
       "text": [
        " \r",
        "092  -3.521613e+01   8.054642e+01   9.022799e-02"
       ]
      },
      {
       "output_type": "stream",
       "stream": "stdout",
       "text": [
        " \r",
        "093  -3.522264e+01   4.027321e+01   8.866911e-02"
       ]
      },
      {
       "output_type": "stream",
       "stream": "stdout",
       "text": [
        " \r",
        "094  -3.522885e+01   2.013661e+01   8.761034e-02"
       ]
      },
      {
       "output_type": "stream",
       "stream": "stdout",
       "text": [
        " \r",
        "095  -3.524231e+01   1.006830e+01   8.674479e-02"
       ]
      },
      {
       "output_type": "stream",
       "stream": "stdout",
       "text": [
        " \r",
        "096  -3.526327e+01   5.034151e+00   8.511943e-02"
       ]
      },
      {
       "output_type": "stream",
       "stream": "stdout",
       "text": [
        " \r",
        "097  -3.526344e+01   2.517076e+00   8.357589e-02"
       ]
      },
      {
       "output_type": "stream",
       "stream": "stdout",
       "text": [
        " \r",
        "098  -3.526914e+01   1.258538e+00   8.345449e-02"
       ]
      },
      {
       "output_type": "stream",
       "stream": "stdout",
       "text": [
        " \r",
        "099  -3.545434e+01   1.446104e+01   8.188671e-02"
       ]
      },
      {
       "output_type": "stream",
       "stream": "stdout",
       "text": [
        " \r",
        "100  -3.545789e+01   7.230522e+00   3.441820e-01"
       ]
      },
      {
       "output_type": "stream",
       "stream": "stdout",
       "text": [
        " \r",
        "100  -3.545789e+01   3.615261e+00   2.250432e-01"
       ]
      },
      {
       "output_type": "stream",
       "stream": "stdout",
       "text": [
        " \n",
        "maxiter exceeded\n"
       ]
      },
      {
       "output_type": "stream",
       "stream": "stderr",
       "text": [
        "/Users/neil/Library/Enthought/Canopy_64bit/User/lib/python2.7/site-packages/numpy/__init__.py:1: RuntimeWarning: invalid value encountered in multiply\n",
        "  \"\"\"\n"
       ]
      }
     ],
     "prompt_number": 17
    },
    {
     "cell_type": "markdown",
     "metadata": {},
     "source": [
      "And of course we can plot the updated model and the new form of the likleihood."
     ]
    },
    {
     "cell_type": "code",
     "collapsed": false,
     "input": [
      "print likelihood\n",
      "xs = linspace(-0.5, 0.5, 100)\n",
      "ys = []\n",
      "for x in xs: \n",
      "    ys.append(likelihood.pdf(0, x))\n",
      "plt.plot(np.asarray(xs), np.asarray(ys))"
     ],
     "language": "python",
     "metadata": {},
     "outputs": [
      {
       "output_type": "stream",
       "stream": "stdout",
       "text": [
        "  Skew_normal.  |       Value       |  Constraint  |  Prior  |  Tied to\n",
        "  \u001b[1mscale       \u001b[0;0m  |  0.0592149705164  |     +ve      |         |         \n",
        "  \u001b[1mshape       \u001b[0;0m  |    4.18073713213  |              |         |         \n"
       ]
      },
      {
       "metadata": {},
       "output_type": "pyout",
       "prompt_number": 18,
       "text": [
        "[<matplotlib.lines.Line2D at 0x10ea92510>]"
       ]
      },
      {
       "metadata": {},
       "output_type": "display_data",
       "png": "[encoded data removed]",
       "text": [
        "<matplotlib.figure.Figure at 0x10ea70210>"
       ]
      }
     ],
     "prompt_number": 18
    },
    {
     "cell_type": "markdown",
     "metadata": {},
     "source": [
      "This is now more skewed than the original and has a smaller scale. The updated predictions can also be shown."
     ]
    },
    {
     "cell_type": "code",
     "collapsed": false,
     "input": [
      "model.plot_f()\n",
      "print model"
     ],
     "language": "python",
     "metadata": {},
     "outputs": [
      {
       "output_type": "stream",
       "stream": "stdout",
       "text": [
        "  gp.                    |       Value       |  Constraint  |  Prior  |  Tied to\n",
        "  \u001b[1madd.trend.variance   \u001b[0;0m  |  0.0160322354098  |     +ve      |         |         \n",
        "  \u001b[1madd.trend.lengthscale\u001b[0;0m  |    15.8963811628  |     +ve      |         |         \n",
        "  \u001b[1madd.offset.variance  \u001b[0;0m  |    3.35877669904  |     +ve      |         |         \n",
        "  \u001b[1mSkew_normal.scale    \u001b[0;0m  |  0.0592149705164  |     +ve      |         |         \n",
        "  \u001b[1mSkew_normal.shape    \u001b[0;0m  |    4.18073713213  |              |         |         \n"
       ]
      },
      {
       "metadata": {},
       "output_type": "display_data",
       "png": "[encoded data removed]",
       "text": [
        "<matplotlib.figure.Figure at 0x10ea904d0>"
       ]
      }
     ],
     "prompt_number": 19
    },
    {
     "cell_type": "markdown",
     "metadata": {},
     "source": [
      "Finally, as a sanity check we look at the final model gradient."
     ]
    },
    {
     "cell_type": "code",
     "collapsed": false,
     "input": [
      "model.checkgrad(verbose=True)\n"
     ],
     "language": "python",
     "metadata": {},
     "outputs": [
      {
       "output_type": "stream",
       "stream": "stdout",
       "text": [
        "              Name              |     Ratio     |  Difference   |  Analytical   |   Numerical   \n",
        "------------------------------------------------------------------------------------------------\n",
        "\u001b[91m gp.add.trend.variance[0] \u001b[0m      |   33.716210   |   0.677400    |   -0.020705   |   -0.698105   "
       ]
      },
      {
       "output_type": "stream",
       "stream": "stdout",
       "text": [
        "\n",
        "\u001b[91m gp.add.trend.lengthscale[0] \u001b[0m   |   33.276088   |   6.761135    |   -0.209478   |   -6.970613   "
       ]
      },
      {
       "output_type": "stream",
       "stream": "stdout",
       "text": [
        "\n",
        "\u001b[91m gp.add.offset.variance[0] \u001b[0m     |  -45.405152   |   3.737772    |   0.080546    |   -3.657225   "
       ]
      },
      {
       "output_type": "stream",
       "stream": "stdout",
       "text": [
        "\n",
        "\u001b[91m gp.Skew_normal.scale[0] \u001b[0m       |   1.151703    |   0.061684    |   -0.406610   |   -0.468294   "
       ]
      },
      {
       "output_type": "stream",
       "stream": "stdout",
       "text": [
        "\n",
        "\u001b[91m gp.Skew_normal.shape[0] \u001b[0m       |   6.616032    |   0.530271    |   -0.094421   |   -0.624692   "
       ]
      },
      {
       "output_type": "stream",
       "stream": "stdout",
       "text": [
        "\n"
       ]
      },
      {
       "metadata": {},
       "output_type": "pyout",
       "prompt_number": 20,
       "text": [
        "False"
       ]
      }
     ],
     "prompt_number": 20
    },
    {
     "cell_type": "markdown",
     "metadata": {},
     "source": [
      "A little worringly the final model gradient's do not check numerically. We need to do further investigation to check where this problem is arising."
     ]
    }
   ],
   "metadata": {}
  }
 ]
}