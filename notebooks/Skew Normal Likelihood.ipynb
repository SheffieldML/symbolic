{
 "metadata": {
  "name": "",
  "signature": "sha256:a8e9bb27aa0ecd52c85020835a550adf9d1fd21a38f735ddde32ccf8557b2a72"
 },
 "nbformat": 3,
 "nbformat_minor": 0,
 "worksheets": [
  {
   "cells": [
    {
     "cell_type": "markdown",
     "metadata": {},
     "source": [
      "# Skew Normal Likelihood for Olympic Marathon Data\n",
      "\n",
      "### April 19th 2014, Neil Lawrence"
     ]
    },
    {
     "cell_type": "markdown",
     "metadata": {},
     "source": [
      "In this notebook we demonstrate the skew normal likelihood on the olympic marathon data. This is a symbolic based likelihood."
     ]
    },
    {
     "cell_type": "code",
     "collapsed": false,
     "input": [
      "%pylab inline\n",
      "import sympy as sym; sym.init_printing()\n",
      "import numpy as np\n",
      "import pylab as pb\n",
      "import GPy\n",
      "import pods\n",
      "import symbolic\n"
     ],
     "language": "python",
     "metadata": {},
     "outputs": [
      {
       "output_type": "stream",
       "stream": "stdout",
       "text": [
        "Populating the interactive namespace from numpy and matplotlib\n"
       ]
      }
     ],
     "prompt_number": 1
    },
    {
     "cell_type": "markdown",
     "metadata": {},
     "source": [
      "Now we set up the skew normal likelihood. This distribution is dependent on a scale parameter and a skew parameter. Here we are initializing the scale parameter to 1 and the skew parameter to 1 (slight positive skew). The scale parameter needs to be constrained positive, the skew parameter can go negative if a negative skew is possible. "
     ]
    },
    {
     "cell_type": "code",
     "collapsed": false,
     "input": [
      "likelihood = symbolic.likelihoods.Skew_normal()\n",
      "likelihood.scale = 1\n",
      "likelihood.scale.constrain_positive()\n",
      "likelihood.skew = 1\n",
      "print likelihood"
     ],
     "language": "python",
     "metadata": {},
     "outputs": [
      {
       "output_type": "stream",
       "stream": "stdout",
       "text": [
        "  Skew_normal.  |  Value  |  Constraint  |  Prior  |  Tied to\n",
        "  \u001b[1mscale       \u001b[0;0m  |    1.0  |     +ve      |         |         \n",
        "  \u001b[1mshape       \u001b[0;0m  |    1.0  |              |         |         \n"
       ]
      }
     ],
     "prompt_number": 2
    },
    {
     "cell_type": "code",
     "collapsed": false,
     "input": [
      "print likelihood.code['log_pdf']"
     ],
     "language": "python",
     "metadata": {},
     "outputs": [
      {
       "output_type": "stream",
       "stream": "stdout",
       "text": [
        "{'function': '(cache7*sub0 + sub0*log(2*pi) - log(scale) + normcdfln(cache6*sub5) + log(2))', 'derivative': {'shape': '(cache6*cache9*sub7)', 'scale': '((cache10*cache6*shape*sub1 + 1.0*cache7 - 1)/scale)', 'f_0': '((-cache6 + cache9*sub5/sqrt(pi))/scale)'}, 'second_derivative': {'shape': '(cache10*(-sub6 + cache3*cache6*sub5/cache1)/(2*scale))', 'scale': '(-sub0*(-cache11*cache6*sub7 + (4.0*f_0 - 4.0*y_0)/scale + sub5*sub6*sub7/cache1)/sub2)', 'f_0': '((cache11*sub7 - 2.0)/(2*sub2))'}, 'third_derivative': {'shape': '(cache8*shape*(2*cache1*cache6*shape*sub6 + cache4*cache6*cache9*sub5 + cache5*cache6*shape + 16*sub7)/(sqrt(pi)*sub2))', 'scale': '((4*cache11/sqrt(pi) + 8.0 + cache5*cache6*sub4*sub7/cache2 + cache4*cache6*cache9*sub8/cache1**2)/(4*sub3))', 'f_0': '(cache8*sub8*(-cache4*cache9 + cache5)/sub3)'}}\n"
       ]
      }
     ],
     "prompt_number": 3
    },
    {
     "cell_type": "code",
     "collapsed": false,
     "input": [
      "print likelihood.code_function"
     ],
     "language": "python",
     "metadata": {},
     "outputs": [
      {
       "output_type": "stream",
       "stream": "stdout",
       "text": [
        "<bound method Skew_normal.code_function of <symbolic.likelihoods.skew_normal.Skew_normal object at 0x104221990>>\n"
       ]
      }
     ],
     "prompt_number": 4
    },
    {
     "cell_type": "markdown",
     "metadata": {},
     "source": [
      "For all the symbolic likelihoods we implement a log pdf this can be visualized from the model as follows"
     ]
    },
    {
     "cell_type": "code",
     "collapsed": false,
     "input": [
      "likelihood.expressions['log_pdf']['function']"
     ],
     "language": "python",
     "metadata": {},
     "outputs": [
      {
       "latex": [
        "$$cache_{7} sub_{0} + sub_{0} \\log{\\left (2 \\pi \\right )} - \\log{\\left (scale \\right )} + \\operatorname{normcdfln}{\\left (cache_{6} sub_{5} \\right )} + \\log{\\left (2 \\right )}$$"
       ],
       "metadata": {},
       "output_type": "pyout",
       "png": "[encoded data removed]",
       "prompt_number": 5,
       "text": [
        "cache\u2087\u22c5sub\u2080 + sub\u2080\u22c5log(2\u22c5\u03c0) - log(scale) + normcdfln(cache\u2086\u22c5sub\u2085) + log(2)"
       ]
      }
     ],
     "prompt_number": 5
    },
    {
     "cell_type": "code",
     "collapsed": false,
     "input": [
      "likelihood.expressions['update_cache']['cache7']"
     ],
     "language": "python",
     "metadata": {},
     "outputs": [
      {
       "latex": [
        "$$\\frac{cache_{0}^{2}}{sub_{2}}$$"
       ],
       "metadata": {},
       "output_type": "pyout",
       "png": "[encoded data removed]",
       "prompt_number": 6,
       "text": [
        "      2\n",
        "cache\u2080 \n",
        "\u2500\u2500\u2500\u2500\u2500\u2500\u2500\n",
        "  sub\u2082 "
       ]
      }
     ],
     "prompt_number": 6
    },
    {
     "cell_type": "code",
     "collapsed": false,
     "input": [
      "likelihood.expressions['update_cache']['cache6']"
     ],
     "language": "python",
     "metadata": {},
     "outputs": [
      {
       "latex": [
        "$$\\frac{cache_{0}}{scale}$$"
       ],
       "metadata": {},
       "output_type": "pyout",
       "png": "[encoded data removed]",
       "prompt_number": 7,
       "text": [
        "cache\u2080\n",
        "\u2500\u2500\u2500\u2500\u2500\u2500\n",
        "scale "
       ]
      }
     ],
     "prompt_number": 7
    },
    {
     "cell_type": "code",
     "collapsed": false,
     "input": [
      "likelihood.expressions['parameters_changed']['sub5']"
     ],
     "language": "python",
     "metadata": {},
     "outputs": [
      {
       "latex": [
        "$$- shape$$"
       ],
       "metadata": {},
       "output_type": "pyout",
       "png": "[encoded data removed]",
       "prompt_number": 8,
       "text": [
        "-shape"
       ]
      }
     ],
     "prompt_number": 8
    },
    {
     "cell_type": "markdown",
     "metadata": {},
     "source": [
      "Here the log pdf has been converted into a function that depends on pre-computed functions, automatically included by the model.is written in the form of a special function: the log cdf of the normal distribution. This is a more numerically stable way to compute the log pdf than by calling log(normcdf(x)) directly because it makes use of the scaled complementry error function (erfcx(x)). This also ensures that the second derivatives are computed in terms of this funciton which helps retain some numerical stability. "
     ]
    },
    {
     "cell_type": "code",
     "collapsed": false,
     "input": [
      "print likelihood.code_function('log_pdf')\n",
      "print likelihood.code_gradients_cacheable('log_pdf', 'F')"
     ],
     "language": "python",
     "metadata": {},
     "outputs": [
      {
       "output_type": "stream",
       "stream": "stdout",
       "text": [
        "self.update_cache(F, Y)\n",
        "return (self.cache7*self.sub0 + self.sub0*log(2*pi) - log(self.scale) + normcdfln(self.cache6*self.sub5) + log(2))\n",
        "gradients_F = np.zeros_like(F)\n",
        "self.update_cache(F, Y)\n",
        "gradients_F[:, 0:0+1] = partial*((-self.cache6 + self.cache9*self.sub5/sqrt(pi))/self.scale)\n",
        "return gradients_F\n",
        "\n"
       ]
      }
     ],
     "prompt_number": 9
    },
    {
     "cell_type": "code",
     "collapsed": false,
     "input": [
      "likelihood.expressions"
     ],
     "language": "python",
     "metadata": {},
     "outputs": [
      {
       "output_type": "stream",
       "stream": "stderr",
       "text": [
        "/Users/neil/Library/Enthought/Canopy_64bit/User/lib/python2.7/site-packages/IPython/core/formatters.py:239: FormatterWarning: Exception in image/png formatter: 'latex' exited abnormally with the following output:\n",
        "This is pdfTeX, Version 3.1415926-2.5-1.40.14 (TeX Live 2013)\n",
        " restricted \\write18 enabled.\n",
        "entering extended mode\n",
        "(./texput.tex\n",
        "LaTeX2e <2011/06/27>\n",
        "Babel <3.9f> and hyphenation patterns for 78 languages loaded.\n",
        "(/usr/local/texlive/2013/texmf-dist/tex/latex/base/article.cls\n",
        "Document Class: article 2007/10/19 v1.4h Standard LaTeX document class\n",
        "(/usr/local/texlive/2013/texmf-dist/tex/latex/base/size10.clo))\n",
        "(/usr/local/texlive/2013/texmf-dist/tex/latex/amsmath/amsmath.sty\n",
        "For additional information on amsmath, use the `?' option.\n",
        "(/usr/local/texlive/2013/texmf-dist/tex/latex/amsmath/amstext.sty\n",
        "(/usr/local/texlive/2013/texmf-dist/tex/latex/amsmath/amsgen.sty))\n",
        "(/usr/local/texlive/2013/texmf-dist/tex/latex/amsmath/amsbsy.sty)\n",
        "(/usr/local/texlive/2013/texmf-dist/tex/latex/amsmath/amsopn.sty))\n",
        "(/usr/local/texlive/2013/texmf-dist/tex/latex/amsfonts/amsfonts.sty)\n",
        "No file texput.aux.\n",
        "(/usr/local/texlive/2013/texmf-dist/tex/latex/amsfonts/umsa.fd)\n",
        "(/usr/local/texlive/2013/texmf-dist/tex/latex/amsfonts/umsb.fd)\n",
        "! Extra alignment tab has been changed to \\cr.\n",
        "<recently read> \\endtemplate \n",
        "                             \n",
        "l.4 ...& cache7 : \\frac{cache_{0}^{2}}{sub_{2}}, &\n",
        "                                                   cache8 : \\frac{1}{4 cache...\n",
        "No pages of output.\n",
        "Transcript written on texput.log.\n",
        "\n",
        "  FormatterWarning,\n"
       ]
      },
      {
       "latex": [
        "$$\\begin{Bmatrix}log_pdf : \\begin{Bmatrix}derivative : \\begin{Bmatrix}f_0 : \\frac{1}{scale} \\left(- cache_{6} + \\frac{cache_{9} sub_{5}}{\\sqrt{\\pi}}\\right), & scale : \\frac{1}{scale} \\left(cache_{10} cache_{6} shape sub_{1} + 1.0 cache_{7} - 1\\right), & shape : cache_{6} cache_{9} sub_{7}\\end{Bmatrix}, & function : cache_{7} sub_{0} + sub_{0} \\log{\\left (2 \\pi \\right )} - \\log{\\left (scale \\right )} + \\operatorname{normcdfln}{\\left (cache_{6} sub_{5} \\right )} + \\log{\\left (2 \\right )}, & second_derivative : \\begin{Bmatrix}f_0 : \\frac{cache_{11} sub_{7} - 2.0}{2 sub_{2}}, & scale : - \\frac{sub_{0}}{sub_{2}} \\left(- cache_{11} cache_{6} sub_{7} + \\frac{1}{scale} \\left(4.0 f_{0} - 4.0 y_{0}\\right) + \\frac{sub_{5} sub_{6}}{cache_{1}} sub_{7}\\right), & shape : \\frac{cache_{10}}{2 scale} \\left(- sub_{6} + \\frac{cache_{3} cache_{6}}{cache_{1}} sub_{5}\\right)\\end{Bmatrix}, & third_derivative : \\begin{Bmatrix}f_0 : \\frac{cache_{8} sub_{8}}{sub_{3}} \\left(- cache_{4} cache_{9} + cache_{5}\\right), & scale : \\frac{1}{4 sub_{3}} \\left(\\frac{4 cache_{11}}{\\sqrt{\\pi}} + 8.0 + \\frac{cache_{5} cache_{6}}{cache_{2}} sub_{4} sub_{7} + \\frac{cache_{4} cache_{6}}{cache_{1}^{2}} cache_{9} sub_{8}\\right), & shape : \\frac{cache_{8} shape}{\\sqrt{\\pi} sub_{2}} \\left(2 cache_{1} cache_{6} shape sub_{6} + cache_{4} cache_{6} cache_{9} sub_{5} + cache_{5} cache_{6} shape + 16 sub_{7}\\right)\\end{Bmatrix}\\end{Bmatrix}, & parameters_changed : \\begin{Bmatrix}sub0 : -0.5, & sub1 : 2^{- sub_{0}}, & sub2 : scale^{2}, & sub3 : scale^{3}, & sub4 : shape^{3}, & sub5 : - shape, & sub6 : 2 sub_{1}, & sub7 : - \\frac{1}{\\sqrt{\\pi}}, & sub8 : \\frac{sub_{4}}{\\sqrt{\\pi}}\\end{Bmatrix}, & update_cache : \\begin{Bmatrix}cache0 : f_{0} - y_{0}, & cache1 : \\operatorname{erfcx}{\\left (- \\frac{cache_{0} sub_{0}}{scale} shape sub_{1} \\right )}, & cache10 : \\frac{1}{\\sqrt{\\pi} cache_{1}}, & cache11 : \\frac{cache_{3} shape^{2}}{cache_{2}}, & cache2 : cache_{1}^{2}, & cache3 : - \\frac{cache_{0} cache_{1}}{scale} shape sub_{1} + \\frac{4}{\\sqrt{\\pi}}, & cache4 : cache_{3}^{2}, & cache5 : - \\frac{cache_{0} cache_{3}}{scale} shape + 2 cache_{1} sub_{1}, & cache6 : \\frac{cache_{0}}{scale}, & cache7 : \\frac{cache_{0}^{2}}{sub_{2}}, & cache8 : \\frac{1}{4 cache_{2}}, & cache9 : \\frac{sub_{1}}{cache_{1}}\\end{Bmatrix}\\end{Bmatrix}$$"
       ],
       "metadata": {},
       "output_type": "pyout",
       "prompt_number": 10,
       "text": [
        "\u23a7         \u23a7            \u23a7               cache\u2089\u22c5sub\u2085                            \n",
        "\u23aa         \u23aa            \u23aa     -cache\u2086 + \u2500\u2500\u2500\u2500\u2500\u2500\u2500\u2500\u2500\u2500\u2500                            \n",
        "\u23aa         \u23aa            \u23aa                    ___                               \n",
        "\u23aa         \u23a8            \u23a8                  \u2572\u2571 \u03c0             cache\u2081\u2080\u22c5cache\u2086\u22c5shap\n",
        "\u23a8log_pdf: \u23aaderivative: \u23aaf_0: \u2500\u2500\u2500\u2500\u2500\u2500\u2500\u2500\u2500\u2500\u2500\u2500\u2500\u2500\u2500\u2500\u2500\u2500\u2500\u2500\u2500, scale: \u2500\u2500\u2500\u2500\u2500\u2500\u2500\u2500\u2500\u2500\u2500\u2500\u2500\u2500\u2500\u2500\u2500\u2500\u2500\n",
        "\u23aa         \u23aa            \u23aa             scale                                   s\n",
        "\u23aa         \u23a9            \u23a9                                                      \n",
        "\u23aa                                                                             \n",
        "\u23a9                                                                             \n",
        "\n",
        "                                                  \u23ab                           \n",
        "                                                  \u23aa                           \n",
        "                                                  \u23aa                           \n",
        "e\u22c5sub\u2081 + 1.0\u22c5cache\u2087 - 1                           \u23ac                           \n",
        "\u2500\u2500\u2500\u2500\u2500\u2500\u2500\u2500\u2500\u2500\u2500\u2500\u2500\u2500\u2500\u2500\u2500\u2500\u2500\u2500\u2500\u2500\u2500, shape: cache\u2086\u22c5cache\u2089\u22c5sub\u2087\u23aa, function: cache\u2087\u22c5sub\u2080 + s\n",
        "cale                                              \u23aa                           \n",
        "                                                  \u23ad                           \n",
        "                                                                              \n",
        "                                                                              \n",
        "\n",
        "                                                                              \n",
        "                                                                              \n",
        "                                                                              \n",
        "                                                                              \n",
        "ub\u2080\u22c5log(2\u22c5\u03c0) - log(scale) + normcdfln(cache\u2086\u22c5sub\u2085) + log(2), second_derivative\n",
        "                                                                              \n",
        "                                                                              \n",
        "                                                                              \n",
        "                                                                              \n",
        "\n",
        "                                                                              \n",
        "  \u23a7                                      \u239b                       4.0\u22c5f\u2080 - 4.0\u22c5\n",
        "  \u23aa                                -sub\u2080\u22c5\u239c-cache\u2081\u2081\u22c5cache\u2086\u22c5sub\u2087 + \u2500\u2500\u2500\u2500\u2500\u2500\u2500\u2500\u2500\u2500\u2500\u2500\u2500\n",
        "  \u23a8     cache\u2081\u2081\u22c5sub\u2087 - 2.0               \u239d                            scale   \n",
        ": \u23aaf_0: \u2500\u2500\u2500\u2500\u2500\u2500\u2500\u2500\u2500\u2500\u2500\u2500\u2500\u2500\u2500\u2500\u2500\u2500, scale: \u2500\u2500\u2500\u2500\u2500\u2500\u2500\u2500\u2500\u2500\u2500\u2500\u2500\u2500\u2500\u2500\u2500\u2500\u2500\u2500\u2500\u2500\u2500\u2500\u2500\u2500\u2500\u2500\u2500\u2500\u2500\u2500\u2500\u2500\u2500\u2500\u2500\u2500\u2500\u2500\u2500\u2500\u2500\n",
        "  \u23a9           2\u22c5sub\u2082                                             sub\u2082         \n",
        "                                                                              \n",
        "                                                                              \n",
        "                                                                              \n",
        "\n",
        "                                                                              \n",
        "y\u2080   sub\u2085\u22c5sub\u2086\u22c5sub\u2087\u239e                  \u239b        cache\u2083\u22c5cache\u2086\u22c5sub\u2085\u239e\u23ab           \n",
        "\u2500\u2500 + \u2500\u2500\u2500\u2500\u2500\u2500\u2500\u2500\u2500\u2500\u2500\u2500\u2500\u2500\u239f          cache\u2081\u2080\u22c5\u239c-sub\u2086 + \u2500\u2500\u2500\u2500\u2500\u2500\u2500\u2500\u2500\u2500\u2500\u2500\u2500\u2500\u2500\u2500\u2500\u2500\u239f\u23aa           \n",
        "         cache\u2081    \u23a0                  \u239d              cache\u2081      \u23a0\u23ac           \n",
        "\u2500\u2500\u2500\u2500\u2500\u2500\u2500\u2500\u2500\u2500\u2500\u2500\u2500\u2500\u2500\u2500\u2500\u2500\u2500\u2500\u2500, shape: \u2500\u2500\u2500\u2500\u2500\u2500\u2500\u2500\u2500\u2500\u2500\u2500\u2500\u2500\u2500\u2500\u2500\u2500\u2500\u2500\u2500\u2500\u2500\u2500\u2500\u2500\u2500\u2500\u2500\u2500\u2500\u2500\u2500\u2500\u2500\u2500\u23aa, third_der\n",
        "                                            2\u22c5scale               \u23ad           \n",
        "                                                                              \n",
        "                                                                              \n",
        "                                                                              \n",
        "\n",
        "         \u23a7                                                   4\u22c5cache\u2081\u2081        \n",
        "         \u23aa                                                   \u2500\u2500\u2500\u2500\u2500\u2500\u2500\u2500\u2500 + 8.0 +\n",
        "         \u23aa                                                       ___          \n",
        "         \u23a8     cache\u2088\u22c5sub\u2088\u22c5(-cache\u2084\u22c5cache\u2089 + cache\u2085)           \u2572\u2571 \u03c0           \n",
        "ivative: \u23aaf_0: \u2500\u2500\u2500\u2500\u2500\u2500\u2500\u2500\u2500\u2500\u2500\u2500\u2500\u2500\u2500\u2500\u2500\u2500\u2500\u2500\u2500\u2500\u2500\u2500\u2500\u2500\u2500\u2500\u2500\u2500\u2500\u2500\u2500\u2500\u2500\u2500\u2500, scale: \u2500\u2500\u2500\u2500\u2500\u2500\u2500\u2500\u2500\u2500\u2500\u2500\u2500\u2500\u2500\u2500\u2500\n",
        "         \u23aa                      sub\u2083                                          \n",
        "         \u23a9                                                                    \n",
        "                                                                              \n",
        "                                                                              \n",
        "\n",
        " cache\u2085\u22c5cache\u2086\u22c5sub\u2084\u22c5sub\u2087   cache\u2084\u22c5cache\u2086\u22c5cache\u2089\u22c5sub\u2088                          \n",
        " \u2500\u2500\u2500\u2500\u2500\u2500\u2500\u2500\u2500\u2500\u2500\u2500\u2500\u2500\u2500\u2500\u2500\u2500\u2500\u2500\u2500\u2500\u2500 + \u2500\u2500\u2500\u2500\u2500\u2500\u2500\u2500\u2500\u2500\u2500\u2500\u2500\u2500\u2500\u2500\u2500\u2500\u2500\u2500\u2500\u2500\u2500\u2500\u2500                          \n",
        "          cache\u2082                          2                                   \n",
        "                                    cache\u2081                   cache\u2088\u22c5shape\u22c5(2\u22c5c\n",
        "\u2500\u2500\u2500\u2500\u2500\u2500\u2500\u2500\u2500\u2500\u2500\u2500\u2500\u2500\u2500\u2500\u2500\u2500\u2500\u2500\u2500\u2500\u2500\u2500\u2500\u2500\u2500\u2500\u2500\u2500\u2500\u2500\u2500\u2500\u2500\u2500\u2500\u2500\u2500\u2500\u2500\u2500\u2500\u2500\u2500\u2500\u2500\u2500\u2500\u2500\u2500\u2500, shape: \u2500\u2500\u2500\u2500\u2500\u2500\u2500\u2500\u2500\u2500\u2500\u2500\u2500\u2500\u2500\u2500\u2500\n",
        "               4\u22c5sub\u2083                                                         \n",
        "                                                                              \n",
        "                                                                              \n",
        "                                                                              \n",
        "\n",
        "                                                                              \n",
        "                                                                              \n",
        "                                                                              \n",
        "ache\u2081\u22c5cache\u2086\u22c5shape\u22c5sub\u2086 + cache\u2084\u22c5cache\u2086\u22c5cache\u2089\u22c5sub\u2085 + cache\u2085\u22c5cache\u2086\u22c5shape + 16\n",
        "\u2500\u2500\u2500\u2500\u2500\u2500\u2500\u2500\u2500\u2500\u2500\u2500\u2500\u2500\u2500\u2500\u2500\u2500\u2500\u2500\u2500\u2500\u2500\u2500\u2500\u2500\u2500\u2500\u2500\u2500\u2500\u2500\u2500\u2500\u2500\u2500\u2500\u2500\u2500\u2500\u2500\u2500\u2500\u2500\u2500\u2500\u2500\u2500\u2500\u2500\u2500\u2500\u2500\u2500\u2500\u2500\u2500\u2500\u2500\u2500\u2500\u2500\u2500\u2500\u2500\u2500\u2500\u2500\u2500\u2500\u2500\u2500\u2500\u2500\u2500\u2500\u2500\u2500\n",
        "                               ___                                            \n",
        "                             \u2572\u2571 \u03c0 \u22c5sub\u2082                                       \n",
        "                                                                              \n",
        "                                                                              \n",
        "\n",
        "      \u23ab\u23ab                                                                      \n",
        "      \u23aa\u23aa                                                                      \n",
        "      \u23aa\u23aa                                                                      \n",
        "\u22c5sub\u2087)\u23ac\u23ac                      \u23a7                   -sub\u2080             2         \n",
        "\u2500\u2500\u2500\u2500\u2500\u2500\u23aa\u23aa, parameters_changed: \u23aasub0: -0.5, sub1: 2     , sub2: scale , sub3: s\n",
        "      \u23aa\u23aa                      \u23a8                                               \n",
        "      \u23ad\u23ad                      \u23aa                                               \n",
        "                              \u23a9                                               \n",
        "                                                                              \n",
        "\n",
        "                                                                              \n",
        "                                                                              \n",
        "                                                                              \n",
        "    3             3                                     -1           sub\u2084\u23ab    \n",
        "cale , sub4: shape , sub5: -shape, sub6: 2\u22c5sub\u2081, sub7: \u2500\u2500\u2500\u2500\u2500, sub8: \u2500\u2500\u2500\u2500\u2500\u23aa, up\n",
        "                                                         ___          ___\u23ac    \n",
        "                                                       \u2572\u2571 \u03c0         \u2572\u2571 \u03c0 \u23aa    \n",
        "                                                                         \u23ad    \n",
        "                                                                              \n",
        "\n",
        "                                                                              \n",
        "                                                                              \n",
        "            \u23a7                                                                 \n",
        "            \u23aa                              \u239b-cache\u2080\u22c5shape\u22c5sub\u2080\u22c5sub\u2081 \u239e         \n",
        "date_cache: \u23a8cache0: f\u2080 - y\u2080, cache1: erfcx\u239c\u2500\u2500\u2500\u2500\u2500\u2500\u2500\u2500\u2500\u2500\u2500\u2500\u2500\u2500\u2500\u2500\u2500\u2500\u2500\u2500\u2500\u2500\u2500\u2500\u239f, cache10\n",
        "            \u23aa                              \u239d         scale          \u23a0         \n",
        "            \u23a9                                                                 \n",
        "                                                                              \n",
        "                                                                              \n",
        "\n",
        "                                                                              \n",
        "                                                                              \n",
        "                                     2                                        \n",
        "       1                 cache\u2083\u22c5shape                 2            cache\u2080\u22c5cach\n",
        ": \u2500\u2500\u2500\u2500\u2500\u2500\u2500\u2500\u2500\u2500\u2500\u2500, cache11: \u2500\u2500\u2500\u2500\u2500\u2500\u2500\u2500\u2500\u2500\u2500\u2500\u2500, cache2: cache\u2081 , cache3: - \u2500\u2500\u2500\u2500\u2500\u2500\u2500\u2500\u2500\u2500\u2500\n",
        "    ___                      cache\u2082                                         sc\n",
        "  \u2572\u2571 \u03c0 \u22c5cache\u2081                                                                \n",
        "                                                                              \n",
        "                                                                              \n",
        "\n",
        "                                                                              \n",
        "                                                                              \n",
        "                                                                              \n",
        "e\u2081\u22c5shape\u22c5sub\u2081     4                  2            cache\u2080\u22c5cache\u2083\u22c5shape         \n",
        "\u2500\u2500\u2500\u2500\u2500\u2500\u2500\u2500\u2500\u2500\u2500\u2500\u2500 + \u2500\u2500\u2500\u2500\u2500, cache4: cache\u2083 , cache5: - \u2500\u2500\u2500\u2500\u2500\u2500\u2500\u2500\u2500\u2500\u2500\u2500\u2500\u2500\u2500\u2500\u2500\u2500\u2500 + 2\u22c5cach\n",
        "ale               ___                                    scale                \n",
        "                \u2572\u2571 \u03c0                                                          \n",
        "                                                                              \n",
        "                                                                              \n",
        "\n",
        "                                                                           \u23ab\n",
        "                                                                           \u23aa\n",
        "                                       2                                  \u23ab\u23aa\n",
        "                 cache\u2080          cache\u2080              1               sub\u2081 \u23aa\u23aa\n",
        "e\u2081\u22c5sub\u2081, cache6: \u2500\u2500\u2500\u2500\u2500\u2500, cache7: \u2500\u2500\u2500\u2500\u2500\u2500\u2500, cache8: \u2500\u2500\u2500\u2500\u2500\u2500\u2500\u2500, cache9: \u2500\u2500\u2500\u2500\u2500\u2500\u23ac\u23ac\n",
        "                 scale             sub\u2082           4\u22c5cache\u2082          cache\u2081\u23aa\u23aa\n",
        "                                                                          \u23ad\u23aa\n",
        "                                                                           \u23aa\n",
        "                                                                           \u23ad"
       ]
      }
     ],
     "prompt_number": 10
    },
    {
     "cell_type": "code",
     "collapsed": false,
     "input": [
      "likelihood.code['log_pdf']['function']"
     ],
     "language": "python",
     "metadata": {},
     "outputs": [
      {
       "metadata": {},
       "output_type": "pyout",
       "prompt_number": 11,
       "text": [
        "'(cache7*sub0 + sub0*log(2*pi) - log(scale) + normcdfln(cache6*sub5) + log(2))'"
       ]
      }
     ],
     "prompt_number": 11
    },
    {
     "cell_type": "markdown",
     "metadata": {},
     "source": [
      "We can also print the likelihood to check the parameters."
     ]
    },
    {
     "cell_type": "code",
     "collapsed": false,
     "input": [
      "print likelihood"
     ],
     "language": "python",
     "metadata": {},
     "outputs": [
      {
       "output_type": "stream",
       "stream": "stdout",
       "text": [
        "  Skew_normal.  |  Value  |  Constraint  |  Prior  |  Tied to\n",
        "  \u001b[1mscale       \u001b[0;0m  |    1.0  |     +ve      |         |         \n",
        "  \u001b[1mshape       \u001b[0;0m  |    1.0  |              |         |         \n"
       ]
      }
     ],
     "prompt_number": 12
    },
    {
     "cell_type": "markdown",
     "metadata": {},
     "source": [
      "And finally we can plot the likelihoood to see its skewed form."
     ]
    },
    {
     "cell_type": "code",
     "collapsed": false,
     "input": [
      "likelihood.scale = 1\n",
      "likelihood.shape = 0.10\n",
      "xs = linspace(-2, 2, 100)\n",
      "ys = []\n",
      "for x in xs: \n",
      "    ys.append(likelihood.pdf(0, x))\n",
      "plt.plot(np.asarray(xs), np.asarray(ys))"
     ],
     "language": "python",
     "metadata": {},
     "outputs": [
      {
       "metadata": {},
       "output_type": "pyout",
       "prompt_number": 14,
       "text": [
        "[<matplotlib.lines.Line2D at 0x1104090d0>]"
       ]
      },
      {
       "metadata": {},
       "output_type": "display_data",
       "png": "[encoded data removed]",
       "text": [
        "<matplotlib.figure.Figure at 0x110289910>"
       ]
      }
     ],
     "prompt_number": 14
    },
    {
     "cell_type": "markdown",
     "metadata": {},
     "source": [
      "Now we load in the olympic marathon data. We will aim to predict *log* times. By using a skew likelihood we are acknowledging the fact that while it's quite possible for a runner to go slower (due to weather or difficult courses) it is harder for a runner to go faster than the limits of human ability. "
     ]
    },
    {
     "cell_type": "code",
     "collapsed": false,
     "input": [
      "data = pods.datasets.olympic_marathon_men()\n",
      "X = data['X']\n",
      "y = np.log(data['Y'])\n",
      "# Build a covariance function which allows for a non-zero mean.\n",
      "kern = GPy.kern.RBF(1, name='trend', lengthscale=10., variance=4.) + GPy.kern.Bias(1, name='offset', variance=4) \n",
      "inference = GPy.inference.latent_function_inference.laplace.Laplace()\n",
      "model = GPy.core.GP(X, y, likelihood=likelihood, kernel=kern, inference_method=inference)\n"
     ],
     "language": "python",
     "metadata": {},
     "outputs": [
      {
       "output_type": "stream",
       "stream": "stderr",
       "text": [
        "/Users/neil/SheffieldML/GPy/GPy/inference/latent_function_inference/laplace.py:134: UserWarning: f_hat now fine again\n",
        "  warnings.warn(\"f_hat now fine again\")\n"
       ]
      }
     ],
     "prompt_number": 15
    },
    {
     "cell_type": "markdown",
     "metadata": {},
     "source": [
      "We can now print the model and check its gradients."
     ]
    },
    {
     "cell_type": "code",
     "collapsed": false,
     "input": [
      "print model\n",
      "model.checkgrad(verbose=True)"
     ],
     "language": "python",
     "metadata": {},
     "outputs": [
      {
       "output_type": "stream",
       "stream": "stdout",
       "text": [
        "\n",
        "Name                 : gp\n",
        "Log-likelihood       : -37.4160491565\n",
        "Number of Parameters : 5\n",
        "Parameters:\n",
        "  gp.                    |  Value  |  Constraint  |  Prior  |  Tied to\n",
        "  \u001b[1madd.trend.variance   \u001b[0;0m  |    4.0  |     +ve      |         |         \n",
        "  \u001b[1madd.trend.lengthscale\u001b[0;0m  |   10.0  |     +ve      |         |         \n",
        "  \u001b[1madd.offset.variance  \u001b[0;0m  |    4.0  |     +ve      |         |         \n",
        "  \u001b[1mSkew_normal.scale    \u001b[0;0m  |    1.0  |     +ve      |         |         \n",
        "  \u001b[1mSkew_normal.shape    \u001b[0;0m  |    0.1  |              |         |         \n",
        "               Name               |     Ratio     |  Difference   |  Analytical   |   Numerical   \n",
        "--------------------------------------------------------------------------------------------------\n",
        "\u001b[92m gp.add.trend.variance[[0]] \u001b[0m      |   1.000004    |   0.000004    |   1.060915    |   1.060919    "
       ]
      },
      {
       "output_type": "stream",
       "stream": "stdout",
       "text": [
        "\n",
        "\u001b[92m gp.add.trend.lengthscale[[0]] \u001b[0m   |   0.999985    |   0.000010    |   -0.649111   |   -0.649101   "
       ]
      },
      {
       "output_type": "stream",
       "stream": "stdout",
       "text": [
        "\n",
        "\u001b[92m gp.add.offset.variance[[0]] \u001b[0m     |   1.000159    |   0.000012    |   0.073221    |   0.073232    "
       ]
      },
      {
       "output_type": "stream",
       "stream": "stdout",
       "text": [
        "\n",
        "\u001b[92m gp.Skew_normal.scale[[0]] \u001b[0m       |   1.000001    |   0.000008    |   10.992369   |   10.992377   "
       ]
      },
      {
       "output_type": "stream",
       "stream": "stdout",
       "text": [
        "\n",
        "\u001b[92m gp.Skew_normal.shape[[0]] \u001b[0m       |   1.000032    |   0.000041    |   -1.292406   |   -1.292447   "
       ]
      },
      {
       "output_type": "stream",
       "stream": "stdout",
       "text": [
        "\n"
       ]
      },
      {
       "metadata": {},
       "output_type": "pyout",
       "prompt_number": 16,
       "text": [
        "True"
       ]
      }
     ],
     "prompt_number": 16
    },
    {
     "cell_type": "markdown",
     "metadata": {},
     "source": [
      "And make a plot of the predictions with the initial model."
     ]
    },
    {
     "cell_type": "code",
     "collapsed": false,
     "input": [
      "model.plot_f()"
     ],
     "language": "python",
     "metadata": {},
     "outputs": [
      {
       "metadata": {},
       "output_type": "pyout",
       "prompt_number": 17,
       "text": [
        "{'gpplot': [[<matplotlib.lines.Line2D at 0x1107f0f90>],\n",
        "  [<matplotlib.patches.Polygon at 0x1107f4210>],\n",
        "  [<matplotlib.lines.Line2D at 0x1107f4850>],\n",
        "  [<matplotlib.lines.Line2D at 0x1107f4d90>]]}"
       ]
      },
      {
       "metadata": {},
       "output_type": "display_data",
       "png": "[encoded data removed]",
       "text": [
        "<matplotlib.figure.Figure at 0x10fcda950>"
       ]
      }
     ],
     "prompt_number": 17
    },
    {
     "cell_type": "markdown",
     "metadata": {},
     "source": [
      "Now we will optimize the model for 100 iterations of scaled conjugate gradients."
     ]
    },
    {
     "cell_type": "code",
     "collapsed": false,
     "input": [
      "model.optimize(messages=True, max_iters=100)"
     ],
     "language": "python",
     "metadata": {},
     "outputs": [],
     "prompt_number": 18
    },
    {
     "cell_type": "markdown",
     "metadata": {},
     "source": [
      "And of course we can plot the updated model and the new form of the likleihood."
     ]
    },
    {
     "cell_type": "code",
     "collapsed": false,
     "input": [
      "print likelihood\n",
      "xs = linspace(-0.5, 0.5, 100)\n",
      "ys = []\n",
      "for x in xs: \n",
      "    ys.append(likelihood.pdf(0, x))\n",
      "plt.plot(np.asarray(xs), np.asarray(ys))"
     ],
     "language": "python",
     "metadata": {},
     "outputs": [
      {
       "output_type": "stream",
       "stream": "stdout",
       "text": [
        "  Skew_normal.  |       Value       |  Constraint  |  Prior  |  Tied to\n",
        "  \u001b[1mscale       \u001b[0;0m  |  0.0884999872424  |     +ve      |         |         \n",
        "  \u001b[1mshape       \u001b[0;0m  |   0.443489624474  |              |         |         \n"
       ]
      },
      {
       "metadata": {},
       "output_type": "pyout",
       "prompt_number": 19,
       "text": [
        "[<matplotlib.lines.Line2D at 0x111020610>]"
       ]
      },
      {
       "metadata": {},
       "output_type": "display_data",
       "png": "[encoded data removed]",
       "text": [
        "<matplotlib.figure.Figure at 0x1107dfd50>"
       ]
      }
     ],
     "prompt_number": 19
    },
    {
     "cell_type": "markdown",
     "metadata": {},
     "source": [
      "This is now more skewed than the original and has a smaller scale. The updated predictions can also be shown."
     ]
    },
    {
     "cell_type": "code",
     "collapsed": false,
     "input": [
      "model.plot_f()\n",
      "print model"
     ],
     "language": "python",
     "metadata": {},
     "outputs": [
      {
       "output_type": "stream",
       "stream": "stdout",
       "text": [
        "\n",
        "Name                 : gp\n",
        "Log-likelihood       : -3.75406941034\n",
        "Number of Parameters : 5\n",
        "Parameters:\n",
        "  gp.                    |       Value       |  Constraint  |  Prior  |  Tied to\n",
        "  \u001b[1madd.trend.variance   \u001b[0;0m  |     3.7239831705  |     +ve      |         |         \n",
        "  \u001b[1madd.trend.lengthscale\u001b[0;0m  |    10.1725106397  |     +ve      |         |         \n",
        "  \u001b[1madd.offset.variance  \u001b[0;0m  |    3.98089959997  |     +ve      |         |         \n",
        "  \u001b[1mSkew_normal.scale    \u001b[0;0m  |  0.0884999872424  |     +ve      |         |         \n",
        "  \u001b[1mSkew_normal.shape    \u001b[0;0m  |   0.443489624474  |              |         |         \n"
       ]
      },
      {
       "metadata": {},
       "output_type": "display_data",
       "png": "[encoded data removed]",
       "text": [
        "<matplotlib.figure.Figure at 0x110803050>"
       ]
      }
     ],
     "prompt_number": 20
    },
    {
     "cell_type": "markdown",
     "metadata": {},
     "source": [
      "Finally, as a sanity check we look at the final model gradient."
     ]
    },
    {
     "cell_type": "code",
     "collapsed": false,
     "input": [
      "model.checkgrad(verbose=True)\n"
     ],
     "language": "python",
     "metadata": {},
     "outputs": [
      {
       "output_type": "stream",
       "stream": "stdout",
       "text": [
        "              Name              |     Ratio     |  Difference   |  Analytical   |   Numerical   \n",
        "------------------------------------------------------------------------------------------------\n",
        "\u001b[91m gp.add.trend.variance[0] \u001b[0m      |   33.716210   |   0.677400    |   -0.020705   |   -0.698105   "
       ]
      },
      {
       "output_type": "stream",
       "stream": "stdout",
       "text": [
        "\n",
        "\u001b[91m gp.add.trend.lengthscale[0] \u001b[0m   |   33.276088   |   6.761135    |   -0.209478   |   -6.970613   "
       ]
      },
      {
       "output_type": "stream",
       "stream": "stdout",
       "text": [
        "\n",
        "\u001b[91m gp.add.offset.variance[0] \u001b[0m     |  -45.405152   |   3.737772    |   0.080546    |   -3.657225   "
       ]
      },
      {
       "output_type": "stream",
       "stream": "stdout",
       "text": [
        "\n",
        "\u001b[91m gp.Skew_normal.scale[0] \u001b[0m       |   1.151703    |   0.061684    |   -0.406610   |   -0.468294   "
       ]
      },
      {
       "output_type": "stream",
       "stream": "stdout",
       "text": [
        "\n",
        "\u001b[91m gp.Skew_normal.shape[0] \u001b[0m       |   6.616032    |   0.530271    |   -0.094421   |   -0.624692   "
       ]
      },
      {
       "output_type": "stream",
       "stream": "stdout",
       "text": [
        "\n"
       ]
      },
      {
       "metadata": {},
       "output_type": "pyout",
       "prompt_number": 20,
       "text": [
        "False"
       ]
      }
     ],
     "prompt_number": 20
    },
    {
     "cell_type": "markdown",
     "metadata": {},
     "source": [
      "A little worringly the final model gradient's do not check numerically. We need to do further investigation to check where this problem is arising."
     ]
    }
   ],
   "metadata": {}
  }
 ]
}