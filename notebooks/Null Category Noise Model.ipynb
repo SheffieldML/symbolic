{
 "metadata": {
  "name": "",
  "signature": "sha256:aaa62727ae5ae3bfc9652c775f6c439736642d5085e1c5907d0a157504988384"
 },
 "nbformat": 3,
 "nbformat_minor": 0,
 "worksheets": [
  {
   "cells": [
    {
     "cell_type": "markdown",
     "metadata": {},
     "source": [
      "# Null Category Noise Model for Semi Supervised Learning\n",
      "\n",
      "### 1st April 2014, Neil D. Lawrence"
     ]
    },
    {
     "cell_type": "code",
     "collapsed": false,
     "input": [
      "%pylab inline\n",
      "import sympy as sym\n",
      "from sympy.utilities.lambdify import lambdify, implemented_function\n",
      "\n",
      "import GPy\n",
      "from symbolic.util.symbolic import gammaln\n",
      "import numpy as np\n",
      "import pylab as pb\n"
     ],
     "language": "python",
     "metadata": {},
     "outputs": [
      {
       "output_type": "stream",
       "stream": "stdout",
       "text": [
        "Populating the interactive namespace from numpy and matplotlib\n"
       ]
      }
     ],
     "prompt_number": 1
    },
    {
     "cell_type": "code",
     "collapsed": false,
     "input": [
      "likelihood=symbolic.likelihoods.Null_category()"
     ],
     "language": "python",
     "metadata": {},
     "outputs": []
    },
    {
     "cell_type": "code",
     "collapsed": false,
     "input": [
      "print likelihood"
     ],
     "language": "python",
     "metadata": {},
     "outputs": [
      {
       "output_type": "stream",
       "stream": "stdout",
       "text": [
        "  Null_category.  |  Value  |  Constraint  |  Prior  |  Tied to\n",
        "  \u001b[1mp             \u001b[0;0m  |    0.5  |   0.0,1.0    |         |         \n",
        "  \u001b[1mwidth         \u001b[0;0m  |    1.0  |    fixed     |         |         \n"
       ]
      }
     ],
     "prompt_number": 3
    },
    {
     "cell_type": "code",
     "collapsed": false,
     "input": [
      "data = GPy.util.datasets.crescent_data()\n",
      "X = data['X']\n",
      "y = data['Y']\n",
      "kern = GPy.kern.RBF(2, name='trend',variance=100) + GPy.kern.Bias(2, name='offset') \n",
      "inference = GPy.inference.latent_function_inference.laplace.Laplace()\n",
      "model = GPy.core.GP(X, y, likelihood=likelihood, kernel=kern, inference_method=inference)"
     ],
     "language": "python",
     "metadata": {},
     "outputs": [],
     "prompt_number": 6
    },
    {
     "cell_type": "code",
     "collapsed": false,
     "input": [],
     "language": "python",
     "metadata": {},
     "outputs": []
    },
    {
     "cell_type": "code",
     "collapsed": false,
     "input": [
      "X = np.linspace(-4, 4, 100)[:, None]\n",
      "y = np.random.poisson(lam=X*X/3)\n",
      "#y = np.asarray(data['Y'], dtype='float')\n"
     ],
     "language": "python",
     "metadata": {},
     "outputs": [
      {
       "output_type": "stream",
       "stream": "stderr",
       "text": [
        "/Users/neill/SheffieldML/GPy/GPy/inference/latent_function_inference/laplace.py:129: UserWarning: f_hat now fine again\n",
        "  warnings.warn(\"f_hat now fine again\")\n"
       ]
      }
     ],
     "prompt_number": 5
    },
    {
     "cell_type": "code",
     "collapsed": false,
     "input": [
      "model.checkgrad(verbose=True)"
     ],
     "language": "python",
     "metadata": {},
     "outputs": [
      {
       "output_type": "stream",
       "stream": "stdout",
       "text": [
        "                 Name                  |     Ratio     |  Difference   |  Analytical   |   Numerical   \n",
        "-------------------------------------------------------------------------------------------------------\n",
        "\u001b[91m gp.add.trend.variance[0] \u001b[0m             |   0.406596    |   0.030223    |   0.050931    |   0.020708    \n",
        "\u001b[92m gp.add.trend.lengthscale[0] \u001b[0m          |   0.999985    |   0.000133    |   -8.810461   |   -8.810328   "
       ]
      },
      {
       "output_type": "stream",
       "stream": "stdout",
       "text": [
        "\n",
        "\u001b[92m gp.add.offset.variance[0] \u001b[0m            |   0.986349    |   0.000174    |   0.012731    |   0.012557    \n",
        "\u001b[91m gp.Negative_binomial.dispersion[0] \u001b[0m   |   1.002387    |   0.019006    |   -7.962915   |   -7.981921   "
       ]
      },
      {
       "output_type": "stream",
       "stream": "stdout",
       "text": [
        "\n"
       ]
      },
      {
       "metadata": {},
       "output_type": "pyout",
       "prompt_number": 6,
       "text": [
        "False"
       ]
      }
     ],
     "prompt_number": 6
    },
    {
     "cell_type": "code",
     "collapsed": false,
     "input": [
      "model.plot_f()"
     ],
     "language": "python",
     "metadata": {},
     "outputs": [
      {
       "metadata": {},
       "output_type": "display_data",
       "png": "[encoded data removed]"
      }
     ],
     "prompt_number": 7
    },
    {
     "cell_type": "code",
     "collapsed": false,
     "input": [
      "model.optimize(messages=True,max_iters=400)"
     ],
     "language": "python",
     "metadata": {},
     "outputs": [
      {
       "output_type": "stream",
       "stream": "stdout",
       "text": [
        " I     F              Scale          |g|        \n",
        "\r",
        "001   1.514288e+02   1.000000e+00   1.410350e+02"
       ]
      },
      {
       "output_type": "stream",
       "stream": "stdout",
       "text": [
        " \r",
        "002   1.505943e+02   5.000000e-01   3.599124e+00"
       ]
      },
      {
       "output_type": "stream",
       "stream": "stdout",
       "text": [
        " \n",
        "\r"
       ]
      },
      {
       "output_type": "stream",
       "stream": "stdout",
       "text": [
        "003   1.505337e+02   2.500000e-01   2.301555e+00"
       ]
      },
      {
       "output_type": "stream",
       "stream": "stdout",
       "text": [
        " \r",
        "004   1.505337e+02   3.773762e+00   2.185552e+00"
       ]
      },
      {
       "output_type": "stream",
       "stream": "stdout",
       "text": [
        " \r",
        "005   1.503503e+02   1.509505e+01   2.185552e+00"
       ]
      },
      {
       "output_type": "stream",
       "stream": "stdout",
       "text": [
        " \r",
        "006   1.501196e+02   2.623537e+01   1.853247e+00"
       ]
      },
      {
       "output_type": "stream",
       "stream": "stdout",
       "text": [
        " \n",
        "\r",
        "007   1.499892e+02   1.311769e+01   1.435438e+00"
       ]
      },
      {
       "output_type": "stream",
       "stream": "stdout",
       "text": [
        " \r",
        "008   1.498172e+02   2.700117e+01   1.206962e+00"
       ]
      },
      {
       "output_type": "stream",
       "stream": "stdout",
       "text": [
        " \r",
        "009   1.497471e+02   1.350059e+01   9.180394e-01"
       ]
      },
      {
       "output_type": "stream",
       "stream": "stdout",
       "text": [
        " \r",
        "010   1.495828e+02   6.750293e+00   8.100857e-01"
       ]
      },
      {
       "output_type": "stream",
       "stream": "stdout",
       "text": [
        " \r",
        "011   1.493885e+02   3.375147e+00   5.772047e-01"
       ]
      },
      {
       "output_type": "stream",
       "stream": "stdout",
       "text": [
        " \r",
        "012   1.490838e+02   1.687573e+00   3.677035e-01"
       ]
      },
      {
       "output_type": "stream",
       "stream": "stdout",
       "text": [
        " \r",
        "013   1.486414e+02   8.437866e-01   1.799839e-01"
       ]
      },
      {
       "output_type": "stream",
       "stream": "stdout",
       "text": [
        " \r",
        "014   1.486414e+02   1.047892e+01   1.499024e-01"
       ]
      },
      {
       "output_type": "stream",
       "stream": "stdout",
       "text": [
        " \r",
        "015   1.486367e+02   4.191566e+01   1.499024e-01"
       ]
      },
      {
       "output_type": "stream",
       "stream": "stdout",
       "text": [
        " \r",
        "016   1.486297e+02   2.095783e+01   1.401162e-01"
       ]
      },
      {
       "output_type": "stream",
       "stream": "stdout",
       "text": [
        " \r",
        "017   1.485728e+02   1.047892e+01   1.256854e-01"
       ]
      },
      {
       "output_type": "stream",
       "stream": "stdout",
       "text": [
        " \r",
        "018   1.485663e+02   5.239458e+00   3.603882e-02"
       ]
      },
      {
       "output_type": "stream",
       "stream": "stdout",
       "text": [
        " \r",
        "019   1.485377e+02   2.619729e+00   3.502662e-02"
       ]
      },
      {
       "output_type": "stream",
       "stream": "stdout",
       "text": [
        " \n",
        "\r",
        "020   1.484378e+02   1.309864e+00   3.054743e-02"
       ]
      },
      {
       "output_type": "stream",
       "stream": "stdout",
       "text": [
        " \r",
        "021   1.484090e+02   6.549322e-01   1.862871e-02"
       ]
      },
      {
       "output_type": "stream",
       "stream": "stdout",
       "text": [
        " \r",
        "022   1.483967e+02   3.274661e-01   1.628005e-02"
       ]
      },
      {
       "output_type": "stream",
       "stream": "stdout",
       "text": [
        " \r",
        "023   1.483733e+02   1.637331e-01   1.454614e-02"
       ]
      },
      {
       "output_type": "stream",
       "stream": "stdout",
       "text": [
        " \r",
        "024   1.482877e+02   8.186653e-02   1.257062e-02"
       ]
      },
      {
       "output_type": "stream",
       "stream": "stdout",
       "text": [
        " \r",
        "025   1.482877e+02   5.289958e-01   7.439342e-03"
       ]
      },
      {
       "output_type": "stream",
       "stream": "stdout",
       "text": [
        " \r",
        "026   1.482834e+02   2.115983e+00   7.439342e-03"
       ]
      },
      {
       "output_type": "stream",
       "stream": "stdout",
       "text": [
        " \r",
        "027   1.482772e+02   3.231601e+00   6.586226e-03"
       ]
      },
      {
       "output_type": "stream",
       "stream": "stdout",
       "text": [
        " \n",
        "\r",
        "028   1.482734e+02   1.615800e+00   6.266057e-03"
       ]
      },
      {
       "output_type": "stream",
       "stream": "stdout",
       "text": [
        " \r",
        "029   1.482672e+02   8.079001e-01   6.073285e-03"
       ]
      },
      {
       "output_type": "stream",
       "stream": "stdout",
       "text": [
        " \r",
        "030   1.482566e+02   4.039501e-01   5.764069e-03"
       ]
      },
      {
       "output_type": "stream",
       "stream": "stdout",
       "text": [
        " \r",
        "031   1.482319e+02   1.357498e+00   5.264300e-03"
       ]
      },
      {
       "output_type": "stream",
       "stream": "stdout",
       "text": [
        " \r",
        "032   1.482260e+02   6.787488e-01   4.215483e-03"
       ]
      },
      {
       "output_type": "stream",
       "stream": "stdout",
       "text": [
        " \r",
        "033   1.481962e+02   3.393744e-01   3.987948e-03"
       ]
      },
      {
       "output_type": "stream",
       "stream": "stdout",
       "text": [
        " \r",
        "034   1.481319e+02   1.696872e-01   2.980377e-03"
       ]
      },
      {
       "output_type": "stream",
       "stream": "stdout",
       "text": [
        " \r",
        "035   1.481287e+02   8.484359e-02   8.748222e-02"
       ]
      },
      {
       "output_type": "stream",
       "stream": "stdout",
       "text": [
        " \r",
        "036   1.481287e+02   4.510494e+01   8.289630e-02"
       ]
      },
      {
       "output_type": "stream",
       "stream": "stdout",
       "text": [
        " \r",
        "037   1.481280e+02   1.804198e+02   8.289630e-02"
       ]
      },
      {
       "output_type": "stream",
       "stream": "stdout",
       "text": [
        " \r",
        "038   1.481270e+02   9.020988e+01   8.110363e-02"
       ]
      },
      {
       "output_type": "stream",
       "stream": "stdout",
       "text": [
        " \r",
        "039   1.481247e+02   4.510494e+01   7.804859e-02"
       ]
      },
      {
       "output_type": "stream",
       "stream": "stdout",
       "text": [
        " \r",
        "040   1.481212e+02   2.255247e+01   7.121497e-02"
       ]
      },
      {
       "output_type": "stream",
       "stream": "stdout",
       "text": [
        " \r",
        "041   1.481204e+02   1.127624e+01   6.089175e-02"
       ]
      },
      {
       "output_type": "stream",
       "stream": "stdout",
       "text": [
        " \r",
        "042   1.481026e+02   5.638118e+00   5.863045e-02"
       ]
      },
      {
       "output_type": "stream",
       "stream": "stdout",
       "text": [
        " \r",
        "043   1.481012e+02   2.819059e+00   7.490636e-03"
       ]
      },
      {
       "output_type": "stream",
       "stream": "stdout",
       "text": [
        " \r",
        "044   1.480994e+02   3.009951e+00   4.410705e-03"
       ]
      },
      {
       "output_type": "stream",
       "stream": "stdout",
       "text": [
        " \r",
        "045   1.480988e+02   1.504976e+00   9.315007e-04"
       ]
      },
      {
       "output_type": "stream",
       "stream": "stdout",
       "text": [
        " \n",
        "\r",
        "046   1.480976e+02   7.524878e-01   9.187951e-04"
       ]
      },
      {
       "output_type": "stream",
       "stream": "stdout",
       "text": [
        " \r",
        "047   1.480961e+02   3.762439e-01   9.062344e-04"
       ]
      },
      {
       "output_type": "stream",
       "stream": "stdout",
       "text": [
        " \r",
        "048   1.480945e+02   1.881220e-01   8.907652e-04"
       ]
      },
      {
       "output_type": "stream",
       "stream": "stdout",
       "text": [
        " \r",
        "049   1.480866e+02   9.406098e-02   8.747787e-04"
       ]
      },
      {
       "output_type": "stream",
       "stream": "stdout",
       "text": [
        " \r",
        "050   1.480727e+02   4.408228e+00   8.061217e-04"
       ]
      },
      {
       "output_type": "stream",
       "stream": "stdout",
       "text": [
        " \r",
        "051   1.480711e+02   2.204114e+00   7.566283e-03"
       ]
      },
      {
       "output_type": "stream",
       "stream": "stdout",
       "text": [
        " \r",
        "052   1.480694e+02   4.312645e+00   5.714567e-03"
       ]
      },
      {
       "output_type": "stream",
       "stream": "stdout",
       "text": [
        " \r",
        "053   1.480690e+02   4.312645e+00   1.210403e-03"
       ]
      },
      {
       "output_type": "stream",
       "stream": "stdout",
       "text": [
        " \r",
        "054   1.480688e+02   2.156322e+00   7.683275e-04"
       ]
      },
      {
       "output_type": "stream",
       "stream": "stdout",
       "text": [
        " \r",
        "055   1.480680e+02   1.078161e+00   7.176335e-04"
       ]
      },
      {
       "output_type": "stream",
       "stream": "stdout",
       "text": [
        " \r",
        "056   1.480652e+02   5.390806e-01   6.818487e-04"
       ]
      },
      {
       "output_type": "stream",
       "stream": "stdout",
       "text": [
        " \r",
        "057   1.480652e+02   2.695403e-01   1.125520e-03"
       ]
      },
      {
       "output_type": "stream",
       "stream": "stdout",
       "text": [
        " \r",
        "058   1.480649e+02   1.347702e-01   1.025618e-03"
       ]
      },
      {
       "output_type": "stream",
       "stream": "stdout",
       "text": [
        " \r",
        "059   1.480644e+02   6.738508e-02   7.740959e-04"
       ]
      },
      {
       "output_type": "stream",
       "stream": "stdout",
       "text": [
        " \r",
        "060   1.480599e+02   3.369254e-02   6.289642e-04"
       ]
      },
      {
       "output_type": "stream",
       "stream": "stdout",
       "text": [
        " \r",
        "061   1.480314e+02   6.527207e-02   6.040306e-04"
       ]
      },
      {
       "output_type": "stream",
       "stream": "stdout",
       "text": [
        " \r",
        "062   1.480116e+02   1.044717e-01   1.283064e-02"
       ]
      },
      {
       "output_type": "stream",
       "stream": "stdout",
       "text": [
        " \r",
        "063   1.480060e+02   1.827899e-01   2.312007e-02"
       ]
      },
      {
       "output_type": "stream",
       "stream": "stdout",
       "text": [
        " \r",
        "064   1.480042e+02   9.139494e-02   2.475679e-02"
       ]
      },
      {
       "output_type": "stream",
       "stream": "stdout",
       "text": [
        " \r",
        "065   1.480042e+02   3.178307e+00   1.973381e-02"
       ]
      },
      {
       "output_type": "stream",
       "stream": "stdout",
       "text": [
        " \r",
        "066   1.480023e+02   1.271323e+01   1.973381e-02"
       ]
      },
      {
       "output_type": "stream",
       "stream": "stdout",
       "text": [
        " \r",
        "067   1.479991e+02   6.356613e+00   1.417247e-02"
       ]
      },
      {
       "output_type": "stream",
       "stream": "stdout",
       "text": [
        " \r",
        "068   1.479982e+02   3.178307e+00   5.103191e-03"
       ]
      },
      {
       "output_type": "stream",
       "stream": "stdout",
       "text": [
        " \r",
        "069   1.479982e+02   1.589153e+00   2.671442e-03"
       ]
      },
      {
       "output_type": "stream",
       "stream": "stdout",
       "text": [
        " \r",
        "070   1.479977e+02   7.945767e-01   2.557223e-03"
       ]
      },
      {
       "output_type": "stream",
       "stream": "stdout",
       "text": [
        " \r",
        "071   1.479977e+02   6.441098e+01   1.367946e-03"
       ]
      },
      {
       "output_type": "stream",
       "stream": "stdout",
       "text": [
        " \r",
        "072   1.479977e+02   2.576439e+02   1.367946e-03"
       ]
      },
      {
       "output_type": "stream",
       "stream": "stdout",
       "text": [
        " \r",
        "073   1.479976e+02   1.288220e+02   1.353497e-03"
       ]
      },
      {
       "output_type": "stream",
       "stream": "stdout",
       "text": [
        " \r",
        "074   1.479976e+02   6.441098e+01   1.330992e-03"
       ]
      },
      {
       "output_type": "stream",
       "stream": "stdout",
       "text": [
        " \r",
        "075   1.479976e+02   1.834186e+02   1.286418e-03"
       ]
      },
      {
       "output_type": "stream",
       "stream": "stdout",
       "text": [
        " \r",
        "076   1.479976e+02   9.170931e+01   1.205662e-03"
       ]
      },
      {
       "output_type": "stream",
       "stream": "stdout",
       "text": [
        " \r",
        "077   1.479975e+02   4.585465e+01   1.178658e-03"
       ]
      },
      {
       "output_type": "stream",
       "stream": "stdout",
       "text": [
        " \r",
        "078   1.479975e+02   2.292733e+01   1.125674e-03"
       ]
      },
      {
       "output_type": "stream",
       "stream": "stdout",
       "text": [
        " \r",
        "079   1.479974e+02   1.146366e+01   1.023552e-03"
       ]
      },
      {
       "output_type": "stream",
       "stream": "stdout",
       "text": [
        " \r",
        "080   1.479974e+02   5.731832e+00   9.177866e-04"
       ]
      },
      {
       "output_type": "stream",
       "stream": "stdout",
       "text": [
        " \r",
        "081   1.479971e+02   2.865916e+00   7.839965e-04"
       ]
      },
      {
       "output_type": "stream",
       "stream": "stdout",
       "text": [
        " \r",
        "082   1.479963e+02   1.432958e+00   4.274851e-04"
       ]
      },
      {
       "output_type": "stream",
       "stream": "stdout",
       "text": [
        " \r",
        "083   1.479956e+02   7.164790e-01   4.562051e-04"
       ]
      },
      {
       "output_type": "stream",
       "stream": "stdout",
       "text": [
        " \r",
        "084   1.479955e+02   3.582395e-01   9.053542e-04"
       ]
      },
      {
       "output_type": "stream",
       "stream": "stdout",
       "text": [
        " \r",
        "085   1.479955e+02   1.791197e-01   8.794755e-04"
       ]
      },
      {
       "output_type": "stream",
       "stream": "stdout",
       "text": [
        " \r",
        "086   1.479955e+02   8.955987e-02   8.664026e-04"
       ]
      },
      {
       "output_type": "stream",
       "stream": "stdout",
       "text": [
        " \r",
        "087   1.479955e+02   4.477994e-02   8.443381e-04"
       ]
      },
      {
       "output_type": "stream",
       "stream": "stdout",
       "text": [
        " \r",
        "088   1.479955e+02   2.238997e-02   8.239007e-04"
       ]
      },
      {
       "output_type": "stream",
       "stream": "stdout",
       "text": [
        " \r",
        "089   1.479955e+02   4.136531e+00   8.145996e-04"
       ]
      },
      {
       "output_type": "stream",
       "stream": "stdout",
       "text": [
        " \r",
        "090   1.479954e+02   1.654612e+01   8.145996e-04"
       ]
      },
      {
       "output_type": "stream",
       "stream": "stdout",
       "text": [
        " \r",
        "091   1.479953e+02   8.273061e+00   7.166068e-04"
       ]
      },
      {
       "output_type": "stream",
       "stream": "stdout",
       "text": [
        " \r",
        "092   1.479952e+02   4.136531e+00   5.764263e-04"
       ]
      },
      {
       "output_type": "stream",
       "stream": "stdout",
       "text": [
        " \r",
        "093   1.479949e+02   2.068265e+00   4.458380e-04"
       ]
      },
      {
       "output_type": "stream",
       "stream": "stdout",
       "text": [
        " \r",
        "094   1.479944e+02   1.034133e+00   3.708186e-04"
       ]
      },
      {
       "output_type": "stream",
       "stream": "stdout",
       "text": [
        " \r",
        "095   1.479937e+02   5.170663e-01   3.697878e-04"
       ]
      },
      {
       "output_type": "stream",
       "stream": "stdout",
       "text": [
        " \r",
        "096   1.479935e+02   2.585332e-01   3.703104e-04"
       ]
      },
      {
       "output_type": "stream",
       "stream": "stdout",
       "text": [
        " \r",
        "097   1.479906e+02   1.292666e-01   3.686579e-04"
       ]
      },
      {
       "output_type": "stream",
       "stream": "stdout",
       "text": [
        " \r",
        "098   1.479903e+02   3.295267e-01   4.080073e-04"
       ]
      },
      {
       "output_type": "stream",
       "stream": "stdout",
       "text": [
        " \r",
        "099   1.479903e+02   1.318107e+00   1.623830e-02"
       ]
      },
      {
       "output_type": "stream",
       "stream": "stdout",
       "text": [
        " \r",
        "100   1.479903e+02   4.519218e+01   1.658176e-02"
       ]
      },
      {
       "output_type": "stream",
       "stream": "stdout",
       "text": [
        " \r",
        "101   1.479901e+02   1.807687e+02   1.658176e-02"
       ]
      },
      {
       "output_type": "stream",
       "stream": "stdout",
       "text": [
        " \r",
        "102   1.479900e+02   9.038435e+01   1.622815e-02"
       ]
      },
      {
       "output_type": "stream",
       "stream": "stdout",
       "text": [
        " \r",
        "103   1.479898e+02   4.519218e+01   1.594409e-02"
       ]
      },
      {
       "output_type": "stream",
       "stream": "stdout",
       "text": [
        " \r",
        "104   1.479889e+02   2.259609e+01   1.513701e-02"
       ]
      },
      {
       "output_type": "stream",
       "stream": "stdout",
       "text": [
        " \r",
        "105   1.479877e+02   1.129804e+01   1.261179e-02"
       ]
      },
      {
       "output_type": "stream",
       "stream": "stdout",
       "text": [
        " \r",
        "106   1.479876e+02   5.649022e+00   9.049876e-03"
       ]
      },
      {
       "output_type": "stream",
       "stream": "stdout",
       "text": [
        " \r",
        "107   1.479867e+02   2.824511e+00   8.755575e-03"
       ]
      },
      {
       "output_type": "stream",
       "stream": "stdout",
       "text": [
        " \r",
        "108   1.479844e+02   6.139435e+00   6.208838e-03"
       ]
      },
      {
       "output_type": "stream",
       "stream": "stdout",
       "text": [
        " \r",
        "109   1.479843e+02   3.069718e+00   3.663109e-04"
       ]
      },
      {
       "output_type": "stream",
       "stream": "stdout",
       "text": [
        " \r",
        "110   1.479841e+02   1.534859e+00   3.612823e-04"
       ]
      },
      {
       "output_type": "stream",
       "stream": "stdout",
       "text": [
        " \r",
        "111   1.479838e+02   7.674294e-01   3.590280e-04"
       ]
      },
      {
       "output_type": "stream",
       "stream": "stdout",
       "text": [
        " \r",
        "112   1.479828e+02   3.837147e-01   3.587856e-04"
       ]
      },
      {
       "output_type": "stream",
       "stream": "stdout",
       "text": [
        " \r",
        "113   1.479810e+02   1.918574e-01   3.580183e-04"
       ]
      },
      {
       "output_type": "stream",
       "stream": "stdout",
       "text": [
        " \r",
        "114   1.479796e+02   9.592868e-02   3.565491e-04"
       ]
      },
      {
       "output_type": "stream",
       "stream": "stdout",
       "text": [
        " \r",
        "115   1.479780e+02   4.796434e-02   3.560882e-04"
       ]
      },
      {
       "output_type": "stream",
       "stream": "stdout",
       "text": [
        " \r",
        "116   1.479779e+02   2.398217e-02   3.751572e-04"
       ]
      },
      {
       "output_type": "stream",
       "stream": "stdout",
       "text": [
        " \r",
        "117   1.479779e+02   8.838113e+00   3.710686e-04"
       ]
      },
      {
       "output_type": "stream",
       "stream": "stdout",
       "text": [
        " \r",
        "118   1.479779e+02   3.535245e+01   3.710686e-04"
       ]
      },
      {
       "output_type": "stream",
       "stream": "stdout",
       "text": [
        " \r",
        "119   1.479779e+02   1.767623e+01   3.692712e-04"
       ]
      },
      {
       "output_type": "stream",
       "stream": "stdout",
       "text": [
        " \r",
        "120   1.479779e+02   8.838113e+00   3.668962e-04"
       ]
      },
      {
       "output_type": "stream",
       "stream": "stdout",
       "text": [
        " \r",
        "121   1.479778e+02   4.419057e+00   3.649096e-04"
       ]
      },
      {
       "output_type": "stream",
       "stream": "stdout",
       "text": [
        " \r",
        "122   1.479777e+02   2.209528e+00   3.628672e-04"
       ]
      },
      {
       "output_type": "stream",
       "stream": "stdout",
       "text": [
        " \r",
        "123   1.479776e+02   1.104764e+00   3.552320e-04"
       ]
      },
      {
       "output_type": "stream",
       "stream": "stdout",
       "text": [
        " \r",
        "124   1.479771e+02   5.523821e-01   3.541810e-04"
       ]
      },
      {
       "output_type": "stream",
       "stream": "stdout",
       "text": [
        " \r",
        "125   1.479758e+02   1.072527e+00   3.537984e-04"
       ]
      },
      {
       "output_type": "stream",
       "stream": "stdout",
       "text": [
        " \r",
        "126   1.479750e+02   5.362633e-01   3.558801e-04"
       ]
      },
      {
       "output_type": "stream",
       "stream": "stdout",
       "text": [
        " \n",
        "\r",
        "127   1.479738e+02   5.370060e-01   3.682521e-04"
       ]
      },
      {
       "output_type": "stream",
       "stream": "stdout",
       "text": [
        " \r",
        "128   1.479724e+02   8.837229e+00   6.034307e-04"
       ]
      },
      {
       "output_type": "stream",
       "stream": "stdout",
       "text": [
        " \r",
        "129   1.479723e+02   4.418614e+00   1.065873e-03"
       ]
      },
      {
       "output_type": "stream",
       "stream": "stdout",
       "text": [
        " \r",
        "130   1.479723e+02   2.209307e+00   1.014392e-03"
       ]
      },
      {
       "output_type": "stream",
       "stream": "stdout",
       "text": [
        " \r",
        "131   1.479718e+02   1.112605e+01   9.804643e-04"
       ]
      },
      {
       "output_type": "stream",
       "stream": "stdout",
       "text": [
        " \r",
        "132   1.479717e+02   5.563027e+00   4.101910e-04"
       ]
      },
      {
       "output_type": "stream",
       "stream": "stdout",
       "text": [
        " \r",
        "133   1.479717e+02   2.781514e+00   4.059624e-04"
       ]
      },
      {
       "output_type": "stream",
       "stream": "stdout",
       "text": [
        " \r",
        "134   1.479717e+02   1.390757e+00   3.992432e-04"
       ]
      },
      {
       "output_type": "stream",
       "stream": "stdout",
       "text": [
        " \r",
        "135   1.479709e+02   6.953784e-01   3.935361e-04"
       ]
      },
      {
       "output_type": "stream",
       "stream": "stdout",
       "text": [
        " \r",
        "136   1.479709e+02   3.476892e-01   7.231508e-04"
       ]
      },
      {
       "output_type": "stream",
       "stream": "stdout",
       "text": [
        " \r",
        "137   1.479704e+02   1.738446e-01   7.137303e-04"
       ]
      },
      {
       "output_type": "stream",
       "stream": "stdout",
       "text": [
        " \r",
        "138   1.479704e+02   2.304649e-01   7.161711e-04"
       ]
      },
      {
       "output_type": "stream",
       "stream": "stdout",
       "text": [
        " \r",
        "139   1.479699e+02   9.218598e-01   7.161711e-04"
       ]
      },
      {
       "output_type": "stream",
       "stream": "stdout",
       "text": [
        " \r",
        "140   1.479689e+02   4.609299e-01   6.234708e-04"
       ]
      },
      {
       "output_type": "stream",
       "stream": "stdout",
       "text": [
        " \r",
        "141   1.479689e+02   2.437191e+01   5.718418e-04"
       ]
      },
      {
       "output_type": "stream",
       "stream": "stdout",
       "text": [
        " \r",
        "142   1.479689e+02   9.748762e+01   5.718418e-04"
       ]
      },
      {
       "output_type": "stream",
       "stream": "stdout",
       "text": [
        " \r",
        "143   1.479689e+02   4.874381e+01   5.627857e-04"
       ]
      },
      {
       "output_type": "stream",
       "stream": "stdout",
       "text": [
        " \r",
        "144   1.479689e+02   5.787612e+01   5.516397e-04"
       ]
      },
      {
       "output_type": "stream",
       "stream": "stdout",
       "text": [
        " \r",
        "145   1.479688e+02   2.893806e+01   5.282747e-04"
       ]
      },
      {
       "output_type": "stream",
       "stream": "stdout",
       "text": [
        " \r",
        "146   1.479688e+02   1.446903e+01   5.088190e-04"
       ]
      },
      {
       "output_type": "stream",
       "stream": "stdout",
       "text": [
        " \r",
        "147   1.479687e+02   7.234514e+00   4.664828e-04"
       ]
      },
      {
       "output_type": "stream",
       "stream": "stdout",
       "text": [
        " \r",
        "148   1.479686e+02   3.617257e+00   4.191260e-04"
       ]
      },
      {
       "output_type": "stream",
       "stream": "stdout",
       "text": [
        " \r",
        "149   1.479684e+02   5.754698e+00   3.588307e-04"
       ]
      },
      {
       "output_type": "stream",
       "stream": "stdout",
       "text": [
        " \r",
        "150   1.479683e+02   2.877349e+00   3.488056e-04"
       ]
      },
      {
       "output_type": "stream",
       "stream": "stdout",
       "text": [
        " \r",
        "151   1.479681e+02   1.438674e+00   3.485077e-04"
       ]
      },
      {
       "output_type": "stream",
       "stream": "stdout",
       "text": [
        " \r",
        "152   1.479676e+02   7.193372e-01   3.479805e-04"
       ]
      },
      {
       "output_type": "stream",
       "stream": "stdout",
       "text": [
        " \r",
        "153   1.479666e+02   3.596686e-01   3.477523e-04"
       ]
      },
      {
       "output_type": "stream",
       "stream": "stdout",
       "text": [
        " \r",
        "154   1.479646e+02   1.798343e-01   3.471777e-04"
       ]
      },
      {
       "output_type": "stream",
       "stream": "stdout",
       "text": [
        " \r",
        "155   1.479447e+02   8.991715e-02   3.461757e-04"
       ]
      },
      {
       "output_type": "stream",
       "stream": "stdout",
       "text": [
        " \r",
        "156   1.479436e+02   4.495857e-02   3.634422e-04"
       ]
      },
      {
       "output_type": "stream",
       "stream": "stdout",
       "text": [
        " \r",
        "157   1.479436e+02   1.401348e+01   8.063939e-04"
       ]
      },
      {
       "output_type": "stream",
       "stream": "stdout",
       "text": [
        " \r",
        "158   1.479436e+02   5.605393e+01   8.063939e-04"
       ]
      },
      {
       "output_type": "stream",
       "stream": "stdout",
       "text": [
        " \r",
        "159   1.479435e+02   2.802696e+01   7.967388e-04"
       ]
      },
      {
       "output_type": "stream",
       "stream": "stdout",
       "text": [
        " \r",
        "160   1.479435e+02   1.401348e+01   7.467479e-04"
       ]
      },
      {
       "output_type": "stream",
       "stream": "stdout",
       "text": [
        " \r",
        "161   1.479434e+02   7.006741e+00   6.556472e-04"
       ]
      },
      {
       "output_type": "stream",
       "stream": "stdout",
       "text": [
        " \r",
        "162   1.479433e+02   3.503371e+00   5.738392e-04"
       ]
      },
      {
       "output_type": "stream",
       "stream": "stdout",
       "text": [
        " \r",
        "163   1.479428e+02   1.751685e+00   4.222890e-04"
       ]
      },
      {
       "output_type": "stream",
       "stream": "stdout",
       "text": [
        " \r",
        "164   1.479425e+02   8.758426e-01   3.764284e-04"
       ]
      },
      {
       "output_type": "stream",
       "stream": "stdout",
       "text": [
        " \r",
        "165   1.479417e+02   4.379213e-01   3.391568e-04"
       ]
      },
      {
       "output_type": "stream",
       "stream": "stdout",
       "text": [
        " \r",
        "166   1.479402e+02   1.506045e+01   3.460648e-04"
       ]
      },
      {
       "output_type": "stream",
       "stream": "stdout",
       "text": [
        " \r",
        "167   1.479401e+02   7.530224e+00   5.815334e-04"
       ]
      },
      {
       "output_type": "stream",
       "stream": "stdout",
       "text": [
        " \r",
        "168   1.479400e+02   5.592943e+01   4.962734e-04"
       ]
      },
      {
       "output_type": "stream",
       "stream": "stdout",
       "text": [
        " \r",
        "169   1.479400e+02   2.796471e+01   3.947224e-04"
       ]
      },
      {
       "output_type": "stream",
       "stream": "stdout",
       "text": [
        " \r",
        "170   1.479399e+02   8.122989e+01   3.858904e-04"
       ]
      },
      {
       "output_type": "stream",
       "stream": "stdout",
       "text": [
        " \r",
        "171   1.479399e+02   4.061495e+01   3.762606e-04"
       ]
      },
      {
       "output_type": "stream",
       "stream": "stdout",
       "text": [
        " \r",
        "172   1.479399e+02   2.030747e+01   3.734812e-04"
       ]
      },
      {
       "output_type": "stream",
       "stream": "stdout",
       "text": [
        " \r",
        "173   1.479399e+02   1.015374e+01   3.710504e-04"
       ]
      },
      {
       "output_type": "stream",
       "stream": "stdout",
       "text": [
        " \r",
        "174   1.479399e+02   5.076868e+00   3.631249e-04"
       ]
      },
      {
       "output_type": "stream",
       "stream": "stdout",
       "text": [
        " \r",
        "175   1.479398e+02   2.538434e+00   3.610305e-04"
       ]
      },
      {
       "output_type": "stream",
       "stream": "stdout",
       "text": [
        " \r",
        "176   1.479396e+02   1.269217e+00   3.458681e-04"
       ]
      },
      {
       "output_type": "stream",
       "stream": "stdout",
       "text": [
        " \r",
        "177   1.479373e+02   6.346085e-01   3.376448e-04"
       ]
      },
      {
       "output_type": "stream",
       "stream": "stdout",
       "text": [
        " \r",
        "178   1.479372e+02   3.173043e-01   3.752615e-04"
       ]
      },
      {
       "output_type": "stream",
       "stream": "stdout",
       "text": [
        " \r",
        "179   1.479372e+02   1.586521e-01   3.596370e-04"
       ]
      },
      {
       "output_type": "stream",
       "stream": "stdout",
       "text": [
        " \r",
        "180   1.479366e+02   6.346085e-01   3.596370e-04"
       ]
      },
      {
       "output_type": "stream",
       "stream": "stdout",
       "text": [
        " \r",
        "181   1.479363e+02   3.173043e-01   4.316433e-04"
       ]
      },
      {
       "output_type": "stream",
       "stream": "stdout",
       "text": [
        " \r",
        "182   1.479351e+02   1.586521e-01   3.491823e-04"
       ]
      },
      {
       "output_type": "stream",
       "stream": "stdout",
       "text": [
        " \r",
        "183   1.479351e+02   6.780527e+00   5.994677e-04"
       ]
      },
      {
       "output_type": "stream",
       "stream": "stdout",
       "text": [
        " \r",
        "184   1.479351e+02   2.712211e+01   5.994677e-04"
       ]
      },
      {
       "output_type": "stream",
       "stream": "stdout",
       "text": [
        " \r",
        "185   1.479350e+02   1.356105e+01   5.816044e-04"
       ]
      },
      {
       "output_type": "stream",
       "stream": "stdout",
       "text": [
        " \r",
        "186   1.479350e+02   6.780527e+00   5.492406e-04"
       ]
      },
      {
       "output_type": "stream",
       "stream": "stdout",
       "text": [
        " \r",
        "187   1.479350e+02   3.390263e+00   5.138681e-04"
       ]
      },
      {
       "output_type": "stream",
       "stream": "stdout",
       "text": [
        " \r",
        "188   1.479350e+02   1.695132e+00   4.981056e-04"
       ]
      },
      {
       "output_type": "stream",
       "stream": "stdout",
       "text": [
        " \r",
        "189   1.479345e+02   3.765722e+01   4.837399e-04"
       ]
      },
      {
       "output_type": "stream",
       "stream": "stdout",
       "text": [
        " \r",
        "190   1.479345e+02   1.882861e+01   4.127411e-04"
       ]
      },
      {
       "output_type": "stream",
       "stream": "stdout",
       "text": [
        " \r",
        "191   1.479345e+02   9.414306e+00   4.084804e-04"
       ]
      },
      {
       "output_type": "stream",
       "stream": "stdout",
       "text": [
        " \r",
        "192   1.479344e+02   1.758305e+01   3.972313e-04"
       ]
      },
      {
       "output_type": "stream",
       "stream": "stdout",
       "text": [
        " \r",
        "193   1.479344e+02   8.791523e+00   3.652862e-04"
       ]
      },
      {
       "output_type": "stream",
       "stream": "stdout",
       "text": [
        " \r",
        "194   1.479343e+02   2.309192e+01   3.583022e-04"
       ]
      },
      {
       "output_type": "stream",
       "stream": "stdout",
       "text": [
        " \r",
        "195   1.479343e+02   1.154596e+01   3.461236e-04"
       ]
      },
      {
       "output_type": "stream",
       "stream": "stdout",
       "text": [
        " \r",
        "196   1.479343e+02   5.772981e+00   3.437743e-04"
       ]
      },
      {
       "output_type": "stream",
       "stream": "stdout",
       "text": [
        " \r",
        "197   1.479341e+02   2.886490e+00   3.426457e-04"
       ]
      },
      {
       "output_type": "stream",
       "stream": "stdout",
       "text": [
        " \r",
        "198   1.479339e+02   1.443245e+00   3.377652e-04"
       ]
      },
      {
       "output_type": "stream",
       "stream": "stdout",
       "text": [
        " \r",
        "199   1.479334e+02   7.216226e-01   3.362970e-04"
       ]
      },
      {
       "output_type": "stream",
       "stream": "stdout",
       "text": [
        " \r",
        "200   1.479325e+02   1.472301e+00   3.362379e-04"
       ]
      },
      {
       "output_type": "stream",
       "stream": "stdout",
       "text": [
        " \r",
        "201   1.479320e+02   7.361507e-01   3.365295e-04"
       ]
      },
      {
       "output_type": "stream",
       "stream": "stdout",
       "text": [
        " \r",
        "202   1.479311e+02   3.680753e-01   3.364582e-04"
       ]
      },
      {
       "output_type": "stream",
       "stream": "stdout",
       "text": [
        " \r",
        "203   1.479299e+02   1.840377e-01   3.396452e-04"
       ]
      },
      {
       "output_type": "stream",
       "stream": "stdout",
       "text": [
        " \r",
        "204   1.479291e+02   4.329725e-01   4.023349e-04"
       ]
      },
      {
       "output_type": "stream",
       "stream": "stdout",
       "text": [
        " \r",
        "205   1.479290e+02   4.329725e-01   8.753732e-03"
       ]
      },
      {
       "output_type": "stream",
       "stream": "stdout",
       "text": [
        " \r",
        "206   1.479290e+02   3.308551e+00   9.342704e-03"
       ]
      },
      {
       "output_type": "stream",
       "stream": "stdout",
       "text": [
        " \r",
        "207   1.479282e+02   1.323420e+01   9.342704e-03"
       ]
      },
      {
       "output_type": "stream",
       "stream": "stdout",
       "text": [
        " \r",
        "208   1.479265e+02   6.617101e+00   7.498789e-03"
       ]
      },
      {
       "output_type": "stream",
       "stream": "stdout",
       "text": [
        " \r",
        "209   1.479258e+02   2.855883e+01   2.765758e-03"
       ]
      },
      {
       "output_type": "stream",
       "stream": "stdout",
       "text": [
        " \r",
        "210   1.479256e+02   1.427942e+01   1.158080e-03"
       ]
      },
      {
       "output_type": "stream",
       "stream": "stdout",
       "text": [
        " \r",
        "211   1.479255e+02   1.048485e+02   8.684731e-04"
       ]
      },
      {
       "output_type": "stream",
       "stream": "stdout",
       "text": [
        " \r",
        "212   1.479255e+02   5.242425e+01   6.746604e-04"
       ]
      },
      {
       "output_type": "stream",
       "stream": "stdout",
       "text": [
        " \r",
        "213   1.479255e+02   2.621213e+01   6.557323e-04"
       ]
      },
      {
       "output_type": "stream",
       "stream": "stdout",
       "text": [
        " \r",
        "214   1.479254e+02   1.310606e+01   6.465024e-04"
       ]
      },
      {
       "output_type": "stream",
       "stream": "stdout",
       "text": [
        " \r",
        "215   1.479254e+02   6.553032e+00   5.847121e-04"
       ]
      },
      {
       "output_type": "stream",
       "stream": "stdout",
       "text": [
        " \r",
        "216   1.479252e+02   1.742139e+01   4.854478e-04"
       ]
      },
      {
       "output_type": "stream",
       "stream": "stdout",
       "text": [
        " \r",
        "217   1.479252e+02   8.710694e+00   3.816433e-04"
       ]
      },
      {
       "output_type": "stream",
       "stream": "stdout",
       "text": [
        " \r",
        "218   1.479251e+02   4.355347e+00   3.623566e-04"
       ]
      },
      {
       "output_type": "stream",
       "stream": "stdout",
       "text": [
        " \r",
        "219   1.479249e+02   4.624779e+00   3.454846e-04"
       ]
      },
      {
       "output_type": "stream",
       "stream": "stdout",
       "text": [
        " \r",
        "220   1.479248e+02   5.430162e+00   3.364941e-04"
       ]
      },
      {
       "output_type": "stream",
       "stream": "stdout",
       "text": [
        " \r",
        "221   1.479247e+02   2.715081e+00   3.354961e-04"
       ]
      },
      {
       "output_type": "stream",
       "stream": "stdout",
       "text": [
        " \r",
        "222   1.479244e+02   1.357540e+00   3.354029e-04"
       ]
      },
      {
       "output_type": "stream",
       "stream": "stdout",
       "text": [
        " \r",
        "223   1.479240e+02   6.787702e-01   3.353201e-04"
       ]
      },
      {
       "output_type": "stream",
       "stream": "stdout",
       "text": [
        " \r",
        "224   1.479230e+02   3.393851e-01   3.352948e-04"
       ]
      },
      {
       "output_type": "stream",
       "stream": "stdout",
       "text": [
        " \r",
        "225   1.479216e+02   1.696926e-01   3.352564e-04"
       ]
      },
      {
       "output_type": "stream",
       "stream": "stdout",
       "text": [
        " \r",
        "226   1.479183e+02   8.484628e-02   3.355890e-04"
       ]
      },
      {
       "output_type": "stream",
       "stream": "stdout",
       "text": [
        " \r",
        "227   1.479180e+02   4.242314e-02   4.120781e-04"
       ]
      },
      {
       "output_type": "stream",
       "stream": "stdout",
       "text": [
        " \r",
        "228   1.479118e+02   2.121157e-02   3.370166e-04"
       ]
      },
      {
       "output_type": "stream",
       "stream": "stdout",
       "text": [
        " \r",
        "229   1.479118e+02   7.274332e+00   1.893441e-03"
       ]
      },
      {
       "output_type": "stream",
       "stream": "stdout",
       "text": [
        " \r",
        "230   1.479118e+02   2.909733e+01   1.893441e-03"
       ]
      },
      {
       "output_type": "stream",
       "stream": "stdout",
       "text": [
        " \r",
        "231   1.479117e+02   4.791698e+01   1.848777e-03"
       ]
      },
      {
       "output_type": "stream",
       "stream": "stdout",
       "text": [
        " \r",
        "232   1.479116e+02   2.395849e+01   1.561306e-03"
       ]
      },
      {
       "output_type": "stream",
       "stream": "stdout",
       "text": [
        " \r",
        "233   1.479115e+02   4.075712e+01   1.420075e-03"
       ]
      },
      {
       "output_type": "stream",
       "stream": "stdout",
       "text": [
        " \r",
        "234   1.479115e+02   2.037856e+01   1.173508e-03"
       ]
      },
      {
       "output_type": "stream",
       "stream": "stdout",
       "text": [
        " \r",
        "235   1.479114e+02   5.471329e+01   1.127847e-03"
       ]
      },
      {
       "output_type": "stream",
       "stream": "stdout",
       "text": [
        " \r",
        "236   1.479114e+02   2.735664e+01   9.180891e-04"
       ]
      },
      {
       "output_type": "stream",
       "stream": "stdout",
       "text": [
        " \r",
        "237   1.479113e+02   1.332330e+02   8.893045e-04"
       ]
      },
      {
       "output_type": "stream",
       "stream": "stdout",
       "text": [
        " \r",
        "238   1.479113e+02   6.661648e+01   7.777979e-04"
       ]
      },
      {
       "output_type": "stream",
       "stream": "stdout",
       "text": [
        " \r",
        "239   1.479113e+02   1.613811e+02   7.581415e-04"
       ]
      },
      {
       "output_type": "stream",
       "stream": "stdout",
       "text": [
        " \r",
        "240   1.479113e+02   8.069054e+01   7.220264e-04"
       ]
      },
      {
       "output_type": "stream",
       "stream": "stdout",
       "text": [
        " \r",
        "241   1.479112e+02   4.034527e+01   7.080065e-04"
       ]
      },
      {
       "output_type": "stream",
       "stream": "stdout",
       "text": [
        " \r",
        "242   1.479112e+02   2.017263e+01   6.510187e-04"
       ]
      },
      {
       "output_type": "stream",
       "stream": "stdout",
       "text": [
        " \r",
        "243   1.479111e+02   1.008632e+01   6.019277e-04"
       ]
      },
      {
       "output_type": "stream",
       "stream": "stdout",
       "text": [
        " \r",
        "244   1.479111e+02   5.043159e+00   5.337555e-04"
       ]
      },
      {
       "output_type": "stream",
       "stream": "stdout",
       "text": [
        " \r",
        "245   1.479109e+02   5.581523e+01   4.929103e-04"
       ]
      },
      {
       "output_type": "stream",
       "stream": "stdout",
       "text": [
        " \r",
        "246   1.479109e+02   2.790761e+01   3.630071e-04"
       ]
      },
      {
       "output_type": "stream",
       "stream": "stdout",
       "text": [
        " \r",
        "247   1.479109e+02   1.395381e+01   3.605129e-04"
       ]
      },
      {
       "output_type": "stream",
       "stream": "stdout",
       "text": [
        " \r",
        "248   1.479108e+02   6.976904e+00   3.553746e-04"
       ]
      },
      {
       "output_type": "stream",
       "stream": "stdout",
       "text": [
        " \r",
        "249   1.479108e+02   3.488452e+00   3.478506e-04"
       ]
      },
      {
       "output_type": "stream",
       "stream": "stdout",
       "text": [
        " \r",
        "250   1.479106e+02   5.732013e+00   3.457494e-04"
       ]
      },
      {
       "output_type": "stream",
       "stream": "stdout",
       "text": [
        " \r",
        "251   1.479105e+02   2.866007e+00   3.353243e-04"
       ]
      },
      {
       "output_type": "stream",
       "stream": "stdout",
       "text": [
        " \r",
        "252   1.479102e+02   1.433003e+00   3.351124e-04"
       ]
      },
      {
       "output_type": "stream",
       "stream": "stdout",
       "text": [
        " \r",
        "253   1.479098e+02   7.165016e-01   3.350609e-04"
       ]
      },
      {
       "output_type": "stream",
       "stream": "stdout",
       "text": [
        " \r",
        "254   1.479087e+02   3.582508e-01   3.350723e-04"
       ]
      },
      {
       "output_type": "stream",
       "stream": "stdout",
       "text": [
        " \r",
        "255   1.479069e+02   1.791254e-01   3.351353e-04"
       ]
      },
      {
       "output_type": "stream",
       "stream": "stdout",
       "text": [
        " \r",
        "256   1.479032e+02   4.238292e+00   3.367128e-04"
       ]
      },
      {
       "output_type": "stream",
       "stream": "stdout",
       "text": [
        " \r",
        "257   1.479032e+02   2.119146e+00   6.947188e-04"
       ]
      },
      {
       "output_type": "stream",
       "stream": "stdout",
       "text": [
        " \r",
        "258   1.479032e+02   1.059573e+00   6.849164e-04"
       ]
      },
      {
       "output_type": "stream",
       "stream": "stdout",
       "text": [
        " \r",
        "259   1.479032e+02   5.297865e-01   6.727787e-04"
       ]
      },
      {
       "output_type": "stream",
       "stream": "stdout",
       "text": [
        " \r",
        "260   1.479032e+02   2.648932e-01   6.646157e-04"
       ]
      },
      {
       "output_type": "stream",
       "stream": "stdout",
       "text": [
        " \r",
        "261   1.479030e+02   1.324466e-01   6.388641e-04"
       ]
      },
      {
       "output_type": "stream",
       "stream": "stdout",
       "text": [
        " \r",
        "262   1.479030e+02   6.622331e-02   4.078992e-04"
       ]
      },
      {
       "output_type": "stream",
       "stream": "stdout",
       "text": [
        " \r",
        "263   1.479030e+02   3.311165e-02   4.038993e-04"
       ]
      },
      {
       "output_type": "stream",
       "stream": "stdout",
       "text": [
        " \r",
        "264   1.479029e+02   1.655583e-02   3.897344e-04"
       ]
      },
      {
       "output_type": "stream",
       "stream": "stdout",
       "text": [
        " \r",
        "265   1.479029e+02   3.737481e+00   3.806773e-04"
       ]
      },
      {
       "output_type": "stream",
       "stream": "stdout",
       "text": [
        " \r",
        "266   1.479029e+02   1.494992e+01   3.806773e-04"
       ]
      },
      {
       "output_type": "stream",
       "stream": "stdout",
       "text": [
        " \r",
        "267   1.479029e+02   7.474962e+00   3.695930e-04"
       ]
      },
      {
       "output_type": "stream",
       "stream": "stdout",
       "text": [
        " \r",
        "268   1.479028e+02   3.737481e+00   3.632539e-04"
       ]
      },
      {
       "output_type": "stream",
       "stream": "stdout",
       "text": [
        " \r",
        "269   1.479026e+02   1.868740e+00   3.447221e-04"
       ]
      },
      {
       "output_type": "stream",
       "stream": "stdout",
       "text": [
        " \r",
        "270   1.479025e+02   9.343702e-01   3.356876e-04"
       ]
      },
      {
       "output_type": "stream",
       "stream": "stdout",
       "text": [
        " \r",
        "271   1.479016e+02   4.671851e-01   3.354797e-04"
       ]
      },
      {
       "output_type": "stream",
       "stream": "stdout",
       "text": [
        " \r",
        "272   1.479006e+02   2.335925e-01   3.358808e-04"
       ]
      },
      {
       "output_type": "stream",
       "stream": "stdout",
       "text": [
        " \r",
        "273   1.478979e+02   1.418544e+01   3.397903e-04"
       ]
      },
      {
       "output_type": "stream",
       "stream": "stdout",
       "text": [
        " \r",
        "274   1.478978e+02   2.221944e+01   8.717530e-04"
       ]
      },
      {
       "output_type": "stream",
       "stream": "stdout",
       "text": [
        " \r",
        "275   1.478978e+02   1.110972e+01   6.742007e-04"
       ]
      },
      {
       "output_type": "stream",
       "stream": "stdout",
       "text": [
        " \r",
        "276   1.478977e+02   3.557245e+01   6.476161e-04"
       ]
      },
      {
       "output_type": "stream",
       "stream": "stdout",
       "text": [
        " \r",
        "277   1.478977e+02   1.778623e+01   5.052809e-04"
       ]
      },
      {
       "output_type": "stream",
       "stream": "stdout",
       "text": [
        " \r",
        "278   1.478976e+02   8.893113e+00   4.779798e-04"
       ]
      },
      {
       "output_type": "stream",
       "stream": "stdout",
       "text": [
        " \r",
        "279   1.478974e+02   4.446557e+00   4.298793e-04"
       ]
      },
      {
       "output_type": "stream",
       "stream": "stdout",
       "text": [
        " \r",
        "280   1.478972e+02   2.223278e+00   3.359426e-04"
       ]
      },
      {
       "output_type": "stream",
       "stream": "stdout",
       "text": [
        " \r",
        "281   1.478969e+02   1.111639e+00   3.358749e-04"
       ]
      },
      {
       "output_type": "stream",
       "stream": "stdout",
       "text": [
        " \r",
        "282   1.478963e+02   5.558196e-01   3.358822e-04"
       ]
      },
      {
       "output_type": "stream",
       "stream": "stdout",
       "text": [
        " \r",
        "283   1.478950e+02   2.779098e-01   3.359448e-04"
       ]
      },
      {
       "output_type": "stream",
       "stream": "stdout",
       "text": [
        " \r",
        "284   1.478948e+02   1.389549e-01   3.362146e-04"
       ]
      },
      {
       "output_type": "stream",
       "stream": "stdout",
       "text": [
        " \r",
        "285   1.478925e+02   6.947745e-02   3.360962e-04"
       ]
      },
      {
       "output_type": "stream",
       "stream": "stdout",
       "text": [
        " \r",
        "286   1.478832e+02   2.352112e-01   3.371114e-04"
       ]
      },
      {
       "output_type": "stream",
       "stream": "stdout",
       "text": [
        " \r",
        "287   1.478832e+02   1.176056e-01   1.668752e-03"
       ]
      },
      {
       "output_type": "stream",
       "stream": "stdout",
       "text": [
        " \r",
        "288   1.478832e+02   2.751598e+01   1.648601e-03"
       ]
      },
      {
       "output_type": "stream",
       "stream": "stdout",
       "text": [
        " \r",
        "289   1.478832e+02   1.100639e+02   1.648601e-03"
       ]
      },
      {
       "output_type": "stream",
       "stream": "stdout",
       "text": [
        " \r",
        "290   1.478832e+02   5.503196e+01   1.601689e-03"
       ]
      },
      {
       "output_type": "stream",
       "stream": "stdout",
       "text": [
        " \r",
        "291   1.478831e+02   2.751598e+01   1.517158e-03"
       ]
      },
      {
       "output_type": "stream",
       "stream": "stdout",
       "text": [
        " \r",
        "292   1.478831e+02   1.375799e+01   1.313452e-03"
       ]
      },
      {
       "output_type": "stream",
       "stream": "stdout",
       "text": [
        " \r",
        "293   1.478830e+02   6.878996e+00   1.247614e-03"
       ]
      },
      {
       "output_type": "stream",
       "stream": "stdout",
       "text": [
        " \r",
        "294   1.478825e+02   3.439498e+00   1.224644e-03"
       ]
      },
      {
       "output_type": "stream",
       "stream": "stdout",
       "text": [
        " \r",
        "295   1.478822e+02   5.195538e+00   4.747635e-04"
       ]
      },
      {
       "output_type": "stream",
       "stream": "stdout",
       "text": [
        " \r",
        "296   1.478821e+02   2.597769e+00   3.406202e-04"
       ]
      },
      {
       "output_type": "stream",
       "stream": "stdout",
       "text": [
        " \r",
        "297   1.478820e+02   1.298884e+00   3.386078e-04"
       ]
      },
      {
       "output_type": "stream",
       "stream": "stdout",
       "text": [
        " \r",
        "298   1.478816e+02   6.494422e-01   3.381091e-04"
       ]
      },
      {
       "output_type": "stream",
       "stream": "stdout",
       "text": [
        " \r",
        "299   1.478805e+02   3.247211e-01   3.382097e-04"
       ]
      },
      {
       "output_type": "stream",
       "stream": "stdout",
       "text": [
        " \r",
        "300   1.478805e+02   1.623606e-01   3.431914e-04"
       ]
      },
      {
       "output_type": "stream",
       "stream": "stdout",
       "text": [
        " \r",
        "301   1.478765e+02   3.133406e+00   3.405120e-04"
       ]
      },
      {
       "output_type": "stream",
       "stream": "stdout",
       "text": [
        " \r",
        "302   1.478761e+02   1.566703e+00   1.094665e-03"
       ]
      },
      {
       "output_type": "stream",
       "stream": "stdout",
       "text": [
        " \r",
        "303   1.478757e+02   5.344427e+00   7.094367e-04"
       ]
      },
      {
       "output_type": "stream",
       "stream": "stdout",
       "text": [
        " \r",
        "304   1.478756e+02   2.672213e+00   6.256276e-04"
       ]
      },
      {
       "output_type": "stream",
       "stream": "stdout",
       "text": [
        " \r",
        "305   1.478752e+02   2.854347e+00   6.226731e-04"
       ]
      },
      {
       "output_type": "stream",
       "stream": "stdout",
       "text": [
        " \r",
        "306   1.478751e+02   1.427173e+00   3.417664e-04"
       ]
      },
      {
       "output_type": "stream",
       "stream": "stdout",
       "text": [
        " \r",
        "307   1.478746e+02   7.135867e-01   3.405036e-04"
       ]
      },
      {
       "output_type": "stream",
       "stream": "stdout",
       "text": [
        " \r",
        "308   1.478742e+02   3.567934e-01   3.410614e-04"
       ]
      },
      {
       "output_type": "stream",
       "stream": "stdout",
       "text": [
        " \r",
        "309   1.478730e+02   1.783967e-01   3.397089e-04"
       ]
      },
      {
       "output_type": "stream",
       "stream": "stdout",
       "text": [
        " \r",
        "310   1.478729e+02   8.919834e-02   3.518864e-04"
       ]
      },
      {
       "output_type": "stream",
       "stream": "stdout",
       "text": [
        " \r",
        "311   1.478668e+02   4.459917e-02   3.417729e-04"
       ]
      },
      {
       "output_type": "stream",
       "stream": "stdout",
       "text": [
        " \r",
        "312   1.478668e+02   2.832944e-01   2.333077e-03"
       ]
      },
      {
       "output_type": "stream",
       "stream": "stdout",
       "text": [
        " \r",
        "313   1.478659e+02   1.133178e+00   2.333077e-03"
       ]
      },
      {
       "output_type": "stream",
       "stream": "stdout",
       "text": [
        " \r",
        "314   1.478659e+02   5.665888e-01   1.332509e-03"
       ]
      },
      {
       "output_type": "stream",
       "stream": "stdout",
       "text": [
        " \r",
        "315   1.478659e+02   2.541714e+00   1.230151e-03"
       ]
      },
      {
       "output_type": "stream",
       "stream": "stdout",
       "text": [
        " \r",
        "316   1.478657e+02   1.016685e+01   1.230151e-03"
       ]
      },
      {
       "output_type": "stream",
       "stream": "stdout",
       "text": [
        " \r",
        "317   1.478655e+02   5.083427e+00   9.300969e-04"
       ]
      },
      {
       "output_type": "stream",
       "stream": "stdout",
       "text": [
        " \r",
        "318   1.478654e+02   2.541714e+00   4.922545e-04"
       ]
      },
      {
       "output_type": "stream",
       "stream": "stdout",
       "text": [
        " \r",
        "319   1.478653e+02   1.270857e+00   4.581386e-04"
       ]
      },
      {
       "output_type": "stream",
       "stream": "stdout",
       "text": [
        " \r",
        "320   1.478648e+02   3.273428e+01   4.117391e-04"
       ]
      },
      {
       "output_type": "stream",
       "stream": "stdout",
       "text": [
        " \r",
        "321   1.478648e+02   1.636714e+01   4.595772e-04"
       ]
      },
      {
       "output_type": "stream",
       "stream": "stdout",
       "text": [
        " \r",
        "322   1.478648e+02   4.526321e+01   4.521093e-04"
       ]
      },
      {
       "output_type": "stream",
       "stream": "stdout",
       "text": [
        " \r",
        "323   1.478647e+02   2.263161e+01   4.157684e-04"
       ]
      },
      {
       "output_type": "stream",
       "stream": "stdout",
       "text": [
        " \r",
        "324   1.478647e+02   2.735578e+01   4.052348e-04"
       ]
      },
      {
       "output_type": "stream",
       "stream": "stdout",
       "text": [
        " \r",
        "325   1.478647e+02   4.023672e+01   3.895920e-04"
       ]
      },
      {
       "output_type": "stream",
       "stream": "stdout",
       "text": [
        " \r",
        "326   1.478647e+02   2.011836e+01   3.796895e-04"
       ]
      },
      {
       "output_type": "stream",
       "stream": "stdout",
       "text": [
        " \r",
        "327   1.478646e+02   3.976883e+01   3.746733e-04"
       ]
      },
      {
       "output_type": "stream",
       "stream": "stdout",
       "text": [
        " \r",
        "328   1.478646e+02   1.988442e+01   3.655299e-04"
       ]
      },
      {
       "output_type": "stream",
       "stream": "stdout",
       "text": [
        " \r",
        "329   1.478645e+02   9.942208e+00   3.624309e-04"
       ]
      },
      {
       "output_type": "stream",
       "stream": "stdout",
       "text": [
        " \r",
        "330   1.478644e+02   3.011296e+01   3.487103e-04"
       ]
      },
      {
       "output_type": "stream",
       "stream": "stdout",
       "text": [
        " \r",
        "331   1.478644e+02   1.505648e+01   3.448227e-04"
       ]
      },
      {
       "output_type": "stream",
       "stream": "stdout",
       "text": [
        " \r",
        "332   1.478644e+02   7.528239e+00   3.441063e-04"
       ]
      },
      {
       "output_type": "stream",
       "stream": "stdout",
       "text": [
        " \r",
        "333   1.478643e+02   3.764120e+00   3.428373e-04"
       ]
      },
      {
       "output_type": "stream",
       "stream": "stdout",
       "text": [
        " \r",
        "334   1.478641e+02   1.882060e+00   3.416853e-04"
       ]
      },
      {
       "output_type": "stream",
       "stream": "stdout",
       "text": [
        " \r",
        "335   1.478638e+02   9.410299e-01   3.410365e-04"
       ]
      },
      {
       "output_type": "stream",
       "stream": "stdout",
       "text": [
        " \r",
        "336   1.478631e+02   4.705149e-01   3.410617e-04"
       ]
      },
      {
       "output_type": "stream",
       "stream": "stdout",
       "text": [
        " \r",
        "337   1.478617e+02   2.352575e-01   3.412115e-04"
       ]
      },
      {
       "output_type": "stream",
       "stream": "stdout",
       "text": [
        " \r",
        "338   1.478582e+02   1.176287e-01   3.416871e-04"
       ]
      },
      {
       "output_type": "stream",
       "stream": "stdout",
       "text": [
        " \r",
        "339   1.478580e+02   5.881437e-02   3.725171e-04"
       ]
      },
      {
       "output_type": "stream",
       "stream": "stdout",
       "text": [
        " \r",
        "340   1.478388e+02   2.940718e-02   3.442780e-04"
       ]
      },
      {
       "output_type": "stream",
       "stream": "stdout",
       "text": [
        " \r",
        "341   1.478388e+02   2.866447e+00   2.637476e-02"
       ]
      },
      {
       "output_type": "stream",
       "stream": "stdout",
       "text": [
        " \r",
        "342   1.478360e+02   1.146579e+01   2.637476e-02"
       ]
      },
      {
       "output_type": "stream",
       "stream": "stdout",
       "text": [
        " \r",
        "343   1.478336e+02   5.732893e+00   1.796770e-02"
       ]
      },
      {
       "output_type": "stream",
       "stream": "stdout",
       "text": [
        " \r",
        "344   1.478307e+02   1.225576e+02   1.087281e-02"
       ]
      },
      {
       "output_type": "stream",
       "stream": "stdout",
       "text": [
        " \r",
        "345   1.478307e+02   6.127882e+01   2.718630e-03"
       ]
      },
      {
       "output_type": "stream",
       "stream": "stdout",
       "text": [
        " \r",
        "346   1.478306e+02   3.063941e+01   2.597186e-03"
       ]
      },
      {
       "output_type": "stream",
       "stream": "stdout",
       "text": [
        " \r",
        "347   1.478306e+02   1.531970e+01   2.361244e-03"
       ]
      },
      {
       "output_type": "stream",
       "stream": "stdout",
       "text": [
        " \r",
        "348   1.478302e+02   7.659852e+00   2.304747e-03"
       ]
      },
      {
       "output_type": "stream",
       "stream": "stdout",
       "text": [
        " \r",
        "349   1.478296e+02   3.829926e+00   1.283204e-03"
       ]
      },
      {
       "output_type": "stream",
       "stream": "stdout",
       "text": [
        " \r",
        "350   1.478294e+02   1.914963e+00   3.562776e-04"
       ]
      },
      {
       "output_type": "stream",
       "stream": "stdout",
       "text": [
        " \r",
        "351   1.478291e+02   1.992623e+00   3.499293e-04"
       ]
      },
      {
       "output_type": "stream",
       "stream": "stdout",
       "text": [
        " \n",
        "\r",
        "352   1.478287e+02   9.963117e-01   3.498345e-04"
       ]
      },
      {
       "output_type": "stream",
       "stream": "stdout",
       "text": [
        " \r",
        "353   1.478280e+02   4.981559e-01   3.498791e-04"
       ]
      },
      {
       "output_type": "stream",
       "stream": "stdout",
       "text": [
        " \r",
        "354   1.478266e+02   2.490779e-01   3.501415e-04"
       ]
      },
      {
       "output_type": "stream",
       "stream": "stdout",
       "text": [
        " \r",
        "355   1.478235e+02   1.245390e-01   3.522325e-04"
       ]
      },
      {
       "output_type": "stream",
       "stream": "stdout",
       "text": [
        " \r",
        "356   1.478234e+02   6.226948e-02   6.247164e-04"
       ]
      },
      {
       "output_type": "stream",
       "stream": "stdout",
       "text": [
        " \r",
        "357   1.478234e+02   2.272067e+01   5.707674e-04"
       ]
      },
      {
       "output_type": "stream",
       "stream": "stdout",
       "text": [
        " \r",
        "358   1.478234e+02   9.088266e+01   5.707674e-04"
       ]
      },
      {
       "output_type": "stream",
       "stream": "stdout",
       "text": [
        " \r",
        "359   1.478234e+02   4.544133e+01   5.612312e-04"
       ]
      },
      {
       "output_type": "stream",
       "stream": "stdout",
       "text": [
        " \r",
        "360   1.478233e+02   6.631209e+01   5.469033e-04"
       ]
      },
      {
       "output_type": "stream",
       "stream": "stdout",
       "text": [
        " \r",
        "361   1.478233e+02   3.315604e+01   5.223758e-04"
       ]
      },
      {
       "output_type": "stream",
       "stream": "stdout",
       "text": [
        " \r",
        "362   1.478233e+02   6.823071e+01   5.070358e-04"
       ]
      },
      {
       "output_type": "stream",
       "stream": "stdout",
       "text": [
        " \r",
        "363   1.478233e+02   3.411536e+01   4.806293e-04"
       ]
      },
      {
       "output_type": "stream",
       "stream": "stdout",
       "text": [
        " \r",
        "364   1.478233e+02   1.705768e+01   4.762361e-04"
       ]
      },
      {
       "output_type": "stream",
       "stream": "stdout",
       "text": [
        " \r",
        "365   1.478231e+02   8.528839e+00   4.544192e-04"
       ]
      },
      {
       "output_type": "stream",
       "stream": "stdout",
       "text": [
        " \r",
        "366   1.478231e+02   4.264419e+00   3.799589e-04"
       ]
      },
      {
       "output_type": "stream",
       "stream": "stdout",
       "text": [
        " \r",
        "367   1.478231e+02   2.132210e+00   3.746900e-04"
       ]
      },
      {
       "output_type": "stream",
       "stream": "stdout",
       "text": [
        " \r",
        "368   1.478227e+02   7.813514e+00   3.702427e-04"
       ]
      },
      {
       "output_type": "stream",
       "stream": "stdout",
       "text": [
        " \r",
        "369   1.478226e+02   8.036584e+00   3.544931e-04"
       ]
      },
      {
       "output_type": "stream",
       "stream": "stdout",
       "text": [
        " \r",
        "370   1.478226e+02   4.018292e+00   3.529184e-04"
       ]
      },
      {
       "output_type": "stream",
       "stream": "stdout",
       "text": [
        " \r",
        "371   1.478224e+02   2.009146e+00   3.523277e-04"
       ]
      },
      {
       "output_type": "stream",
       "stream": "stdout",
       "text": [
        " \r",
        "372   1.478221e+02   1.004573e+00   3.518223e-04"
       ]
      },
      {
       "output_type": "stream",
       "stream": "stdout",
       "text": [
        " \r",
        "373   1.478214e+02   5.022865e-01   3.518565e-04"
       ]
      },
      {
       "output_type": "stream",
       "stream": "stdout",
       "text": [
        " \r",
        "374   1.478200e+02   2.511432e-01   3.520743e-04"
       ]
      },
      {
       "output_type": "stream",
       "stream": "stdout",
       "text": [
        " \r",
        "375   1.478172e+02   3.389399e-01   3.525412e-04"
       ]
      },
      {
       "output_type": "stream",
       "stream": "stdout",
       "text": [
        " \r",
        "376   1.478152e+02   3.530525e+00   3.566613e-04"
       ]
      },
      {
       "output_type": "stream",
       "stream": "stdout",
       "text": [
        " \r",
        "377   1.478149e+02   1.765263e+00   5.439744e-04"
       ]
      },
      {
       "output_type": "stream",
       "stream": "stdout",
       "text": [
        " \r",
        "378   1.478149e+02   8.826314e-01   3.780419e-04"
       ]
      },
      {
       "output_type": "stream",
       "stream": "stdout",
       "text": [
        " \r",
        "379   1.478148e+02   4.413157e-01   3.731008e-04"
       ]
      },
      {
       "output_type": "stream",
       "stream": "stdout",
       "text": [
        " \r",
        "380   1.478134e+02   5.876211e+00   3.697672e-04"
       ]
      },
      {
       "output_type": "stream",
       "stream": "stdout",
       "text": [
        " \r",
        "381   1.478132e+02   6.561550e+01   8.685422e-04"
       ]
      },
      {
       "output_type": "stream",
       "stream": "stdout",
       "text": [
        " \r",
        "382   1.478132e+02   3.280775e+01   7.053955e-04"
       ]
      },
      {
       "output_type": "stream",
       "stream": "stdout",
       "text": [
        " \r",
        "383   1.478131e+02   1.640388e+01   6.701406e-04"
       ]
      },
      {
       "output_type": "stream",
       "stream": "stdout",
       "text": [
        " \r",
        "384   1.478130e+02   8.201938e+00   6.099718e-04"
       ]
      },
      {
       "output_type": "stream",
       "stream": "stdout",
       "text": [
        " \r",
        "385   1.478130e+02   4.100969e+00   4.686272e-04"
       ]
      },
      {
       "output_type": "stream",
       "stream": "stdout",
       "text": [
        " \r",
        "386   1.478129e+02   2.050485e+00   4.643994e-04"
       ]
      },
      {
       "output_type": "stream",
       "stream": "stdout",
       "text": [
        " \r",
        "387   1.478129e+02   1.025242e+00   4.342657e-04"
       ]
      },
      {
       "output_type": "stream",
       "stream": "stdout",
       "text": [
        " \r",
        "388   1.478122e+02   1.070389e+00   4.098682e-04"
       ]
      },
      {
       "output_type": "stream",
       "stream": "stdout",
       "text": [
        " \r",
        "389   1.478122e+02   5.351943e-01   5.493951e-04"
       ]
      },
      {
       "output_type": "stream",
       "stream": "stdout",
       "text": [
        " \r",
        "390   1.478120e+02   1.670294e+00   5.235367e-04"
       ]
      },
      {
       "output_type": "stream",
       "stream": "stdout",
       "text": [
        " \r",
        "391   1.478113e+02   6.681174e+00   4.002671e-03"
       ]
      },
      {
       "output_type": "stream",
       "stream": "stdout",
       "text": [
        " \r",
        "392   1.478113e+02   3.340587e+00   2.150835e-03"
       ]
      },
      {
       "output_type": "stream",
       "stream": "stdout",
       "text": [
        " \r",
        "393   1.478105e+02   1.902200e+01   2.030024e-03"
       ]
      },
      {
       "output_type": "stream",
       "stream": "stdout",
       "text": [
        " \r",
        "394   1.478105e+02   9.510998e+00   3.741385e-04"
       ]
      },
      {
       "output_type": "stream",
       "stream": "stdout",
       "text": [
        " \r",
        "395   1.478104e+02   4.755499e+00   3.725210e-04"
       ]
      },
      {
       "output_type": "stream",
       "stream": "stdout",
       "text": [
        " \r",
        "396   1.478103e+02   4.961595e+00   3.629322e-04"
       ]
      },
      {
       "output_type": "stream",
       "stream": "stdout",
       "text": [
        " \r",
        "397   1.478102e+02   2.480798e+00   3.567119e-04"
       ]
      },
      {
       "output_type": "stream",
       "stream": "stdout",
       "text": [
        " \r",
        "398   1.478078e+02   1.240399e+00   3.560897e-04"
       ]
      },
      {
       "output_type": "stream",
       "stream": "stdout",
       "text": [
        " \r",
        "399   1.478072e+02   5.314838e+00   3.886875e-04"
       ]
      },
      {
       "output_type": "stream",
       "stream": "stdout",
       "text": [
        " \r",
        "400   1.478070e+02   2.657419e+00   4.193399e-04"
       ]
      },
      {
       "output_type": "stream",
       "stream": "stdout",
       "text": [
        " \r",
        "400   1.478070e+02   1.328710e+00   3.772587e-04"
       ]
      },
      {
       "output_type": "stream",
       "stream": "stdout",
       "text": [
        " \n",
        "maxiter exceeded\n"
       ]
      }
     ],
     "prompt_number": 8
    },
    {
     "cell_type": "code",
     "collapsed": false,
     "input": [
      "print model"
     ],
     "language": "python",
     "metadata": {},
     "outputs": [
      {
       "output_type": "stream",
       "stream": "stdout",
       "text": [
        "  gp.                           |      Value       |  Constraint  |  Prior  |  Tied to\n",
        "  \u001b[1madd.trend.variance          \u001b[0;0m  |   86.0401399887  |     +ve      |         |         \n",
        "  \u001b[1madd.trend.lengthscale       \u001b[0;0m  |   3.87495182249  |     +ve      |         |         \n",
        "  \u001b[1madd.offset.variance         \u001b[0;0m  |  0.136340337266  |     +ve      |         |         \n",
        "  \u001b[1mNegative_binomial.dispersion\u001b[0;0m  |   18.9477342513  |     +ve      |         |         \n"
       ]
      }
     ],
     "prompt_number": 9
    },
    {
     "cell_type": "code",
     "collapsed": false,
     "input": [
      "model.plot_f()"
     ],
     "language": "python",
     "metadata": {},
     "outputs": [
      {
       "metadata": {},
       "output_type": "display_data",
       "png": "[encoded data removed]"
      }
     ],
     "prompt_number": 10
    },
    {
     "cell_type": "code",
     "collapsed": false,
     "input": [
      "print model\n",
      "model.checkgrad(verbose=True)"
     ],
     "language": "python",
     "metadata": {},
     "outputs": [
      {
       "output_type": "stream",
       "stream": "stdout",
       "text": [
        "  gp.                           |      Value       |  Constraint  |  Prior  |  Tied to\n",
        "  \u001b[1madd.trend.variance          \u001b[0;0m  |   86.0401399887  |     +ve      |         |         \n",
        "  \u001b[1madd.trend.lengthscale       \u001b[0;0m  |   3.87495182249  |     +ve      |         |         \n",
        "  \u001b[1madd.offset.variance         \u001b[0;0m  |  0.136340337266  |     +ve      |         |         \n",
        "  \u001b[1mNegative_binomial.dispersion\u001b[0;0m  |   18.9477342513  |     +ve      |         |         \n",
        "                 Name                  |     Ratio     |  Difference   |  Analytical   |   Numerical   \n",
        "-------------------------------------------------------------------------------------------------------\n",
        "\u001b[91m gp.add.trend.variance[0] \u001b[0m             |   1.692579    |   0.012870    |   0.018582    |   0.031452    \n",
        "\u001b[91m gp.add.trend.lengthscale[0] \u001b[0m          |   9.637507    |   0.038059    |   -0.004406   |   -0.042465   "
       ]
      },
      {
       "output_type": "stream",
       "stream": "stdout",
       "text": [
        "\n",
        "\u001b[91m gp.add.offset.variance[0] \u001b[0m            |   5.824180    |   0.006908    |   0.001432    |   0.008340    \n",
        "\u001b[92m gp.Negative_binomial.dispersion[0] \u001b[0m   |   1.004979    |   0.000016    |   -0.003239   |   -0.003256   "
       ]
      },
      {
       "output_type": "stream",
       "stream": "stdout",
       "text": [
        "\n"
       ]
      },
      {
       "metadata": {},
       "output_type": "pyout",
       "prompt_number": 12,
       "text": [
        "False"
       ]
      }
     ],
     "prompt_number": 12
    },
    {
     "cell_type": "code",
     "collapsed": false,
     "input": [],
     "language": "python",
     "metadata": {},
     "outputs": []
    }
   ],
   "metadata": {}
  }
 ]
}