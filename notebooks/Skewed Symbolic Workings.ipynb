{
 "metadata": {
  "name": "",
  "signature": "sha256:88743fba2a05c5a030951d4dcfe950dbe254446340a4a54a7b50de2b7cfdd7ef"
 },
 "nbformat": 3,
 "nbformat_minor": 0,
 "worksheets": [
  {
   "cells": [
    {
     "cell_type": "markdown",
     "metadata": {},
     "source": [
      "# Skewed Symbolic Workings\n",
      "\n",
      "### 29th March 2014 Neil D. Lawrence"
     ]
    },
    {
     "cell_type": "code",
     "collapsed": false,
     "input": [
      "%pylab inline\n",
      "import GPy\n",
      "import sympy as sym\n",
      "from scipy.special import erf\n",
      "import numpy as np\n",
      "import pylab as pb\n",
      "from sympy.plotting import plot\n"
     ],
     "language": "python",
     "metadata": {},
     "outputs": [
      {
       "output_type": "stream",
       "stream": "stdout",
       "text": [
        "Populating the interactive namespace from numpy and matplotlib\n"
       ]
      },
      {
       "output_type": "stream",
       "stream": "stderr",
       "text": [
        "WARNING: pylab import has clobbered these variables: ['plot', 'f']\n",
        "`%pylab --no-import-all` prevents importing * from pylab and numpy\n"
       ]
      }
     ],
     "prompt_number": 27
    },
    {
     "cell_type": "code",
     "collapsed": false,
     "input": [
      "x = sym.Symbol('x', real=True)\n",
      "sigma = sym.Symbol('sigma', positive=True, real=True)\n",
      "lam = sym.Symbol('lam', positive=True, real=True)\n",
      "f = 0.5*(sym.erf(x)+1)*sym.exp(-x)"
     ],
     "language": "python",
     "metadata": {},
     "outputs": [],
     "prompt_number": 28
    },
    {
     "cell_type": "code",
     "collapsed": false,
     "input": [
      "#sym.integrate(f, (x, -sym.oo, sym.oo))"
     ],
     "language": "python",
     "metadata": {},
     "outputs": [],
     "prompt_number": 29
    },
    {
     "cell_type": "code",
     "collapsed": false,
     "input": [
      "g = 1/(2*sym.pi*sigma*sigma)**0.5 * sym.exp(-x**2/(2*sigma*sigma))"
     ],
     "language": "python",
     "metadata": {},
     "outputs": [],
     "prompt_number": 30
    },
    {
     "cell_type": "code",
     "collapsed": false,
     "input": [
      "(sym.integrate(g, (x, -sym.oo, sym.oo))/sym.integrate(g*sym.exp(-x), (x, -sym.oo, sym.oo))).simplify()"
     ],
     "language": "python",
     "metadata": {},
     "outputs": [
      {
       "metadata": {},
       "output_type": "pyout",
       "prompt_number": 31,
       "text": [
        "2*sqrt(2)*pi**1.0*sigma**1.0*exp(-sigma**2/2)/(-sqrt(2)*pi*sigma*erf(sqrt(2)*sigma/2) + sqrt(2)*pi*sigma + 2**0.5*pi**1.0*sigma**1.0*(erf(sqrt(2)*sigma/2) + 1))"
       ]
      }
     ],
     "prompt_number": 31
    },
    {
     "cell_type": "code",
     "collapsed": false,
     "input": [
      "sym.integrate(g*sym.exp(-lam*x)*sym.exp(-lam**2*sigma**2/2), (x, -sym.oo, sym.oo)).simplify()"
     ],
     "language": "python",
     "metadata": {},
     "outputs": [
      {
       "metadata": {},
       "output_type": "pyout",
       "prompt_number": 49,
       "text": [
        "1"
       ]
      }
     ],
     "prompt_number": 49
    },
    {
     "cell_type": "code",
     "collapsed": false,
     "input": [
      "sym.integrate(GPy.util.symbolic.cum_gaussian(x/sigma)*sym.exp(-lam*x)*sym.exp(-lam**2*sigma**2/2), (x, -sym.oo, sym.oo)).simplify()"
     ],
     "language": "python",
     "metadata": {},
     "outputs": [
      {
       "metadata": {},
       "output_type": "pyout",
       "prompt_number": 44,
       "text": [
        "Integral(exp(-lam*(lam*sigma**2 + 2*x)/2)*cum_gaussian(x/sigma), (x, -oo, oo))"
       ]
      }
     ],
     "prompt_number": 44
    },
    {
     "cell_type": "code",
     "collapsed": false,
     "input": [
      "sym.diff(sym.diff(GPy.util.symbolic.ln_cum_gaussian(x)))"
     ],
     "language": "python",
     "metadata": {},
     "outputs": [
      {
       "metadata": {},
       "output_type": "pyout",
       "prompt_number": 45,
       "text": [
        "-0.5*sqrt(2)*x*exp(-0.5*x**2)/(sqrt(pi)*cum_gaussian(x)) - exp(-1.0*x**2)/(2*pi*cum_gaussian(x)**2)"
       ]
      }
     ],
     "prompt_number": 45
    },
    {
     "cell_type": "code",
     "collapsed": false,
     "input": [
      "sym.integrate(sym.diff(sym.diff(sym.diff(GPy.util.symbolic.cum_gaussian(x)))), (x, -sym.oo, sym.oo))"
     ],
     "language": "python",
     "metadata": {},
     "outputs": [
      {
       "metadata": {},
       "output_type": "pyout",
       "prompt_number": 48,
       "text": [
        "0"
       ]
      }
     ],
     "prompt_number": 48
    },
    {
     "cell_type": "code",
     "collapsed": false,
     "input": [
      "cumGaussian = 0.5*(sym.erf(x/(sym.sqrt(2)*sigma)) + 1)"
     ],
     "language": "python",
     "metadata": {},
     "outputs": [],
     "prompt_number": 34
    },
    {
     "cell_type": "code",
     "collapsed": false,
     "input": [
      "# This is the skewed likelihood.\n",
      "p = cumGaussian*sym.exp(-lam*x)/lam * sym.exp(-((lam*sigma)**2)/2)"
     ],
     "language": "python",
     "metadata": {},
     "outputs": [],
     "prompt_number": 35
    },
    {
     "cell_type": "code",
     "collapsed": false,
     "input": [
      "from sympy.utilities.lambdify import lambdify"
     ],
     "language": "python",
     "metadata": {},
     "outputs": [],
     "prompt_number": 36
    },
    {
     "cell_type": "code",
     "collapsed": false,
     "input": [
      "a = lambdify((x, lam, sigma), p, 'numpy')"
     ],
     "language": "python",
     "metadata": {},
     "outputs": [],
     "prompt_number": 37
    }
   ],
   "metadata": {}
  }
 ]
}