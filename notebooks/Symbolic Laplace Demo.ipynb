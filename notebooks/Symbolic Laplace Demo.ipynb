{
 "metadata": {
  "name": "",
  "signature": "sha256:d64e1eb37482ff88f64d51eaeaa5abce77548147f04f054c826fd9fdb82a8673"
 },
 "nbformat": 3,
 "nbformat_minor": 0,
 "worksheets": [
  {
   "cells": [
    {
     "cell_type": "markdown",
     "metadata": {},
     "source": [
      "# Laplace Approximation with Symbolic Likelihood\n",
      "\n",
      "### 29th March 2014 Neil D. Lawrence"
     ]
    },
    {
     "cell_type": "code",
     "collapsed": false,
     "input": [
      "%pylab inline\n",
      "import sympy as sym\n",
      "from sympy.utilities.lambdify import lambdify, implemented_function\n",
      "\n",
      "import GPy\n",
      "from symbolic.util.symbolic import gammaln\n",
      "import numpy as np\n",
      "import pylab as pb\n",
      "import symbolic\n",
      "import pods"
     ],
     "language": "python",
     "metadata": {},
     "outputs": [
      {
       "output_type": "stream",
       "stream": "stdout",
       "text": [
        "Populating the interactive namespace from numpy and matplotlib\n"
       ]
      }
     ],
     "prompt_number": 1
    },
    {
     "cell_type": "code",
     "collapsed": false,
     "input": [
      "likelihood1 = GPy.likelihoods.StudentT()\n",
      "likelihood2 = symbolic.likelihoods.SstudentT()\n"
     ],
     "language": "python",
     "metadata": {},
     "outputs": [],
     "prompt_number": 2
    },
    {
     "cell_type": "code",
     "collapsed": false,
     "input": [
      "print likelihood2"
     ],
     "language": "python",
     "metadata": {},
     "outputs": [
      {
       "output_type": "stream",
       "stream": "stdout",
       "text": [
        "  SstudentT.  |  Value  |  Constraint  |  Prior  |  Tied to\n",
        "  \u001b[1mnu        \u001b[0;0m  |    5.0  |              |         |         \n",
        "  \u001b[1mt_scale2  \u001b[0;0m  |    1.0  |              |         |         \n"
       ]
      }
     ],
     "prompt_number": 3
    },
    {
     "cell_type": "code",
     "collapsed": false,
     "input": [
      "print likelihood2.expressions['log_pdf']['function']"
     ],
     "language": "python",
     "metadata": {},
     "outputs": [
      {
       "output_type": "stream",
       "stream": "stdout",
       "text": [
        "cache3*sub0*sub3 + sub0*log(pi*nu*t_scale2) - gammaln(sub4) + gammaln(-sub0*sub3)\n"
       ]
      }
     ],
     "prompt_number": 4
    },
    {
     "cell_type": "code",
     "collapsed": false,
     "input": [
      "data = pods.datasets.olympic_marathon_men()\n",
      "X = data['X']\n",
      "y = data['Y']\n",
      "kern1 = GPy.kern.RBF(1, name='trend', lengthscale=40, variance=4) + GPy.kern.Bias(1, name='offset', variance=100) \n",
      "kern2 = GPy.kern.RBF(1, name='trend', lengthscale=40, variance=4) + GPy.kern.Bias(1, name='offset', variance=100) \n",
      "inference1 = GPy.inference.latent_function_inference.laplace.Laplace()\n",
      "inference2 = GPy.inference.latent_function_inference.laplace.Laplace()\n",
      "model1 = GPy.core.GP(X, y, likelihood=likelihood1, kernel=kern1, inference_method=inference1)\n",
      "model2 = GPy.core.GP(X, y, likelihood=likelihood2, kernel=kern2, inference_method=inference2)\n",
      "\n",
      "model2.likelihood.nu = model1.likelihood.deg_free\n",
      "model2.likelihood.nu.constrain_positive()\n",
      "model2.likelihood.t_scale2 = model1.likelihood.t_scale2\n",
      "model2.likelihood.t_scale2.constrain_positive()"
     ],
     "language": "python",
     "metadata": {},
     "outputs": [
      {
       "output_type": "stream",
       "stream": "stderr",
       "text": [
        "/Users/neil/SheffieldML/GPy/GPy/inference/latent_function_inference/laplace.py:134: UserWarning: f_hat now fine again\n",
        "  warnings.warn(\"f_hat now fine again\")\n"
       ]
      },
      {
       "ename": "NameError",
       "evalue": "name 'self' is not defined",
       "output_type": "pyerr",
       "traceback": [
        "\u001b[0;31m---------------------------------------------------------------------------\u001b[0m\n\u001b[0;31mNameError\u001b[0m                                 Traceback (most recent call last)",
        "\u001b[0;32m<ipython-input-5-45e65577f2f5>\u001b[0m in \u001b[0;36m<module>\u001b[0;34m()\u001b[0m\n\u001b[1;32m      7\u001b[0m \u001b[0minference2\u001b[0m \u001b[0;34m=\u001b[0m \u001b[0mGPy\u001b[0m\u001b[0;34m.\u001b[0m\u001b[0minference\u001b[0m\u001b[0;34m.\u001b[0m\u001b[0mlatent_function_inference\u001b[0m\u001b[0;34m.\u001b[0m\u001b[0mlaplace\u001b[0m\u001b[0;34m.\u001b[0m\u001b[0mLaplace\u001b[0m\u001b[0;34m(\u001b[0m\u001b[0;34m)\u001b[0m\u001b[0;34m\u001b[0m\u001b[0m\n\u001b[1;32m      8\u001b[0m \u001b[0mmodel1\u001b[0m \u001b[0;34m=\u001b[0m \u001b[0mGPy\u001b[0m\u001b[0;34m.\u001b[0m\u001b[0mcore\u001b[0m\u001b[0;34m.\u001b[0m\u001b[0mGP\u001b[0m\u001b[0;34m(\u001b[0m\u001b[0mX\u001b[0m\u001b[0;34m,\u001b[0m \u001b[0my\u001b[0m\u001b[0;34m,\u001b[0m \u001b[0mlikelihood\u001b[0m\u001b[0;34m=\u001b[0m\u001b[0mlikelihood1\u001b[0m\u001b[0;34m,\u001b[0m \u001b[0mkernel\u001b[0m\u001b[0;34m=\u001b[0m\u001b[0mkern1\u001b[0m\u001b[0;34m,\u001b[0m \u001b[0minference_method\u001b[0m\u001b[0;34m=\u001b[0m\u001b[0minference1\u001b[0m\u001b[0;34m)\u001b[0m\u001b[0;34m\u001b[0m\u001b[0m\n\u001b[0;32m----> 9\u001b[0;31m \u001b[0mmodel2\u001b[0m \u001b[0;34m=\u001b[0m \u001b[0mGPy\u001b[0m\u001b[0;34m.\u001b[0m\u001b[0mcore\u001b[0m\u001b[0;34m.\u001b[0m\u001b[0mGP\u001b[0m\u001b[0;34m(\u001b[0m\u001b[0mX\u001b[0m\u001b[0;34m,\u001b[0m \u001b[0my\u001b[0m\u001b[0;34m,\u001b[0m \u001b[0mlikelihood\u001b[0m\u001b[0;34m=\u001b[0m\u001b[0mlikelihood2\u001b[0m\u001b[0;34m,\u001b[0m \u001b[0mkernel\u001b[0m\u001b[0;34m=\u001b[0m\u001b[0mkern2\u001b[0m\u001b[0;34m,\u001b[0m \u001b[0minference_method\u001b[0m\u001b[0;34m=\u001b[0m\u001b[0minference2\u001b[0m\u001b[0;34m)\u001b[0m\u001b[0;34m\u001b[0m\u001b[0m\n\u001b[0m\u001b[1;32m     10\u001b[0m \u001b[0;34m\u001b[0m\u001b[0m\n\u001b[1;32m     11\u001b[0m \u001b[0mmodel2\u001b[0m\u001b[0;34m.\u001b[0m\u001b[0mlikelihood\u001b[0m\u001b[0;34m.\u001b[0m\u001b[0mnu\u001b[0m \u001b[0;34m=\u001b[0m \u001b[0mmodel1\u001b[0m\u001b[0;34m.\u001b[0m\u001b[0mlikelihood\u001b[0m\u001b[0;34m.\u001b[0m\u001b[0mdeg_free\u001b[0m\u001b[0;34m\u001b[0m\u001b[0m\n",
        "\u001b[0;32m/Users/neil/SheffieldML/GPy/GPy/core/parameterization/parameterized.pyc\u001b[0m in \u001b[0;36m__call__\u001b[0;34m(self, *args, **kw)\u001b[0m\n\u001b[1;32m     24\u001b[0m         \u001b[0mself\u001b[0m\u001b[0;34m.\u001b[0m\u001b[0m_highest_parent_\u001b[0m\u001b[0;34m.\u001b[0m\u001b[0m_connect_fixes\u001b[0m\u001b[0;34m(\u001b[0m\u001b[0;34m)\u001b[0m\u001b[0;34m\u001b[0m\u001b[0m\n\u001b[1;32m     25\u001b[0m         \u001b[0mlogger\u001b[0m\u001b[0;34m.\u001b[0m\u001b[0mdebug\u001b[0m\u001b[0;34m(\u001b[0m\u001b[0;34m\"calling parameters changed\"\u001b[0m\u001b[0;34m)\u001b[0m\u001b[0;34m\u001b[0m\u001b[0m\n\u001b[0;32m---> 26\u001b[0;31m         \u001b[0mself\u001b[0m\u001b[0;34m.\u001b[0m\u001b[0mparameters_changed\u001b[0m\u001b[0;34m(\u001b[0m\u001b[0;34m)\u001b[0m\u001b[0;34m\u001b[0m\u001b[0m\n\u001b[0m\u001b[1;32m     27\u001b[0m         \u001b[0;32mreturn\u001b[0m \u001b[0mself\u001b[0m\u001b[0;34m\u001b[0m\u001b[0m\n\u001b[1;32m     28\u001b[0m \u001b[0;34m\u001b[0m\u001b[0m\n",
        "\u001b[0;32m/Users/neil/SheffieldML/GPy/GPy/core/gp.pyc\u001b[0m in \u001b[0;36mparameters_changed\u001b[0;34m(self)\u001b[0m\n\u001b[1;32m     95\u001b[0m \u001b[0;34m\u001b[0m\u001b[0m\n\u001b[1;32m     96\u001b[0m     \u001b[0;32mdef\u001b[0m \u001b[0mparameters_changed\u001b[0m\u001b[0;34m(\u001b[0m\u001b[0mself\u001b[0m\u001b[0;34m)\u001b[0m\u001b[0;34m:\u001b[0m\u001b[0;34m\u001b[0m\u001b[0m\n\u001b[0;32m---> 97\u001b[0;31m         \u001b[0mself\u001b[0m\u001b[0;34m.\u001b[0m\u001b[0mposterior\u001b[0m\u001b[0;34m,\u001b[0m \u001b[0mself\u001b[0m\u001b[0;34m.\u001b[0m\u001b[0m_log_marginal_likelihood\u001b[0m\u001b[0;34m,\u001b[0m \u001b[0mself\u001b[0m\u001b[0;34m.\u001b[0m\u001b[0mgrad_dict\u001b[0m \u001b[0;34m=\u001b[0m \u001b[0mself\u001b[0m\u001b[0;34m.\u001b[0m\u001b[0minference_method\u001b[0m\u001b[0;34m.\u001b[0m\u001b[0minference\u001b[0m\u001b[0;34m(\u001b[0m\u001b[0mself\u001b[0m\u001b[0;34m.\u001b[0m\u001b[0mkern\u001b[0m\u001b[0;34m,\u001b[0m \u001b[0mself\u001b[0m\u001b[0;34m.\u001b[0m\u001b[0mX\u001b[0m\u001b[0;34m,\u001b[0m \u001b[0mself\u001b[0m\u001b[0;34m.\u001b[0m\u001b[0mlikelihood\u001b[0m\u001b[0;34m,\u001b[0m \u001b[0mself\u001b[0m\u001b[0;34m.\u001b[0m\u001b[0mY_normalized\u001b[0m\u001b[0;34m,\u001b[0m \u001b[0mself\u001b[0m\u001b[0;34m.\u001b[0m\u001b[0mY_metadata\u001b[0m\u001b[0;34m)\u001b[0m\u001b[0;34m\u001b[0m\u001b[0m\n\u001b[0m\u001b[1;32m     98\u001b[0m         \u001b[0mself\u001b[0m\u001b[0;34m.\u001b[0m\u001b[0mlikelihood\u001b[0m\u001b[0;34m.\u001b[0m\u001b[0mupdate_gradients\u001b[0m\u001b[0;34m(\u001b[0m\u001b[0mself\u001b[0m\u001b[0;34m.\u001b[0m\u001b[0mgrad_dict\u001b[0m\u001b[0;34m[\u001b[0m\u001b[0;34m'dL_dthetaL'\u001b[0m\u001b[0;34m]\u001b[0m\u001b[0;34m)\u001b[0m\u001b[0;34m\u001b[0m\u001b[0m\n\u001b[1;32m     99\u001b[0m         \u001b[0mself\u001b[0m\u001b[0;34m.\u001b[0m\u001b[0mkern\u001b[0m\u001b[0;34m.\u001b[0m\u001b[0mupdate_gradients_full\u001b[0m\u001b[0;34m(\u001b[0m\u001b[0mself\u001b[0m\u001b[0;34m.\u001b[0m\u001b[0mgrad_dict\u001b[0m\u001b[0;34m[\u001b[0m\u001b[0;34m'dL_dK'\u001b[0m\u001b[0;34m]\u001b[0m\u001b[0;34m,\u001b[0m \u001b[0mself\u001b[0m\u001b[0;34m.\u001b[0m\u001b[0mX\u001b[0m\u001b[0;34m)\u001b[0m\u001b[0;34m\u001b[0m\u001b[0m\n",
        "\u001b[0;32m/Users/neil/SheffieldML/GPy/GPy/inference/latent_function_inference/laplace.pyc\u001b[0m in \u001b[0;36minference\u001b[0;34m(self, kern, X, likelihood, Y, Y_metadata)\u001b[0m\n\u001b[1;32m     52\u001b[0m             \u001b[0mKi_f_init\u001b[0m \u001b[0;34m=\u001b[0m \u001b[0mself\u001b[0m\u001b[0;34m.\u001b[0m\u001b[0m_previous_Ki_fhat\u001b[0m\u001b[0;34m\u001b[0m\u001b[0m\n\u001b[1;32m     53\u001b[0m \u001b[0;34m\u001b[0m\u001b[0m\n\u001b[0;32m---> 54\u001b[0;31m         \u001b[0mf_hat\u001b[0m\u001b[0;34m,\u001b[0m \u001b[0mKi_fhat\u001b[0m \u001b[0;34m=\u001b[0m \u001b[0mself\u001b[0m\u001b[0;34m.\u001b[0m\u001b[0mrasm_mode\u001b[0m\u001b[0;34m(\u001b[0m\u001b[0mK\u001b[0m\u001b[0;34m,\u001b[0m \u001b[0mY\u001b[0m\u001b[0;34m,\u001b[0m \u001b[0mlikelihood\u001b[0m\u001b[0;34m,\u001b[0m \u001b[0mKi_f_init\u001b[0m\u001b[0;34m,\u001b[0m \u001b[0mY_metadata\u001b[0m\u001b[0;34m=\u001b[0m\u001b[0mY_metadata\u001b[0m\u001b[0;34m)\u001b[0m\u001b[0;34m\u001b[0m\u001b[0m\n\u001b[0m\u001b[1;32m     55\u001b[0m         \u001b[0mself\u001b[0m\u001b[0;34m.\u001b[0m\u001b[0mf_hat\u001b[0m \u001b[0;34m=\u001b[0m \u001b[0mf_hat\u001b[0m\u001b[0;34m\u001b[0m\u001b[0m\n\u001b[1;32m     56\u001b[0m         \u001b[0mself\u001b[0m\u001b[0;34m.\u001b[0m\u001b[0mKi_fhat\u001b[0m \u001b[0;34m=\u001b[0m  \u001b[0mKi_fhat\u001b[0m\u001b[0;34m\u001b[0m\u001b[0m\n",
        "\u001b[0;32m/Users/neil/SheffieldML/GPy/GPy/inference/latent_function_inference/laplace.pyc\u001b[0m in \u001b[0;36mrasm_mode\u001b[0;34m(self, K, Y, likelihood, Ki_f_init, Y_metadata)\u001b[0m\n\u001b[1;32m     92\u001b[0m         \u001b[0miteration\u001b[0m \u001b[0;34m=\u001b[0m \u001b[0;36m0\u001b[0m\u001b[0;34m\u001b[0m\u001b[0m\n\u001b[1;32m     93\u001b[0m         \u001b[0;32mwhile\u001b[0m \u001b[0mdifference\u001b[0m \u001b[0;34m>\u001b[0m \u001b[0mself\u001b[0m\u001b[0;34m.\u001b[0m\u001b[0m_mode_finding_tolerance\u001b[0m \u001b[0;32mand\u001b[0m \u001b[0miteration\u001b[0m \u001b[0;34m<\u001b[0m \u001b[0mself\u001b[0m\u001b[0;34m.\u001b[0m\u001b[0m_mode_finding_max_iter\u001b[0m\u001b[0;34m:\u001b[0m\u001b[0;34m\u001b[0m\u001b[0m\n\u001b[0;32m---> 94\u001b[0;31m             \u001b[0mW\u001b[0m \u001b[0;34m=\u001b[0m \u001b[0;34m-\u001b[0m\u001b[0mlikelihood\u001b[0m\u001b[0;34m.\u001b[0m\u001b[0md2logpdf_df2\u001b[0m\u001b[0;34m(\u001b[0m\u001b[0mf\u001b[0m\u001b[0;34m,\u001b[0m \u001b[0mY\u001b[0m\u001b[0;34m,\u001b[0m \u001b[0mY_metadata\u001b[0m\u001b[0;34m=\u001b[0m\u001b[0mY_metadata\u001b[0m\u001b[0;34m)\u001b[0m\u001b[0;34m\u001b[0m\u001b[0m\n\u001b[0m\u001b[1;32m     95\u001b[0m             \u001b[0;32mif\u001b[0m \u001b[0mnp\u001b[0m\u001b[0;34m.\u001b[0m\u001b[0many\u001b[0m\u001b[0;34m(\u001b[0m\u001b[0mnp\u001b[0m\u001b[0;34m.\u001b[0m\u001b[0misnan\u001b[0m\u001b[0;34m(\u001b[0m\u001b[0mW\u001b[0m\u001b[0;34m)\u001b[0m\u001b[0;34m)\u001b[0m\u001b[0;34m:\u001b[0m\u001b[0;34m\u001b[0m\u001b[0m\n\u001b[1;32m     96\u001b[0m                 \u001b[0;32mraise\u001b[0m \u001b[0mValueError\u001b[0m\u001b[0;34m(\u001b[0m\u001b[0;34m'One or more element(s) of W is NaN'\u001b[0m\u001b[0;34m)\u001b[0m\u001b[0;34m\u001b[0m\u001b[0m\n",
        "\u001b[0;32m/Users/neil/SheffieldML/GPy/GPy/likelihoods/likelihood.pyc\u001b[0m in \u001b[0;36md2logpdf_df2\u001b[0;34m(self, f, y, Y_metadata)\u001b[0m\n\u001b[1;32m    307\u001b[0m         \"\"\"\n\u001b[1;32m    308\u001b[0m         \u001b[0minv_link_f\u001b[0m \u001b[0;34m=\u001b[0m \u001b[0mself\u001b[0m\u001b[0;34m.\u001b[0m\u001b[0mgp_link\u001b[0m\u001b[0;34m.\u001b[0m\u001b[0mtransf\u001b[0m\u001b[0;34m(\u001b[0m\u001b[0mf\u001b[0m\u001b[0;34m)\u001b[0m\u001b[0;34m\u001b[0m\u001b[0m\n\u001b[0;32m--> 309\u001b[0;31m         \u001b[0md2logpdf_dlink2\u001b[0m \u001b[0;34m=\u001b[0m \u001b[0mself\u001b[0m\u001b[0;34m.\u001b[0m\u001b[0md2logpdf_dlink2\u001b[0m\u001b[0;34m(\u001b[0m\u001b[0minv_link_f\u001b[0m\u001b[0;34m,\u001b[0m \u001b[0my\u001b[0m\u001b[0;34m,\u001b[0m \u001b[0mY_metadata\u001b[0m\u001b[0;34m=\u001b[0m\u001b[0mY_metadata\u001b[0m\u001b[0;34m)\u001b[0m\u001b[0;34m\u001b[0m\u001b[0m\n\u001b[0m\u001b[1;32m    310\u001b[0m         \u001b[0mdlink_df\u001b[0m \u001b[0;34m=\u001b[0m \u001b[0mself\u001b[0m\u001b[0;34m.\u001b[0m\u001b[0mgp_link\u001b[0m\u001b[0;34m.\u001b[0m\u001b[0mdtransf_df\u001b[0m\u001b[0;34m(\u001b[0m\u001b[0mf\u001b[0m\u001b[0;34m)\u001b[0m\u001b[0;34m\u001b[0m\u001b[0m\n\u001b[1;32m    311\u001b[0m         \u001b[0mdlogpdf_dlink\u001b[0m \u001b[0;34m=\u001b[0m \u001b[0mself\u001b[0m\u001b[0;34m.\u001b[0m\u001b[0mdlogpdf_dlink\u001b[0m\u001b[0;34m(\u001b[0m\u001b[0minv_link_f\u001b[0m\u001b[0;34m,\u001b[0m \u001b[0my\u001b[0m\u001b[0;34m,\u001b[0m \u001b[0mY_metadata\u001b[0m\u001b[0;34m=\u001b[0m\u001b[0mY_metadata\u001b[0m\u001b[0;34m)\u001b[0m\u001b[0;34m\u001b[0m\u001b[0m\n",
        "\u001b[0;32m/Users/neil/SheffieldML/symbolic/likelihoods/symbolic.pyc\u001b[0m in \u001b[0;36md2logpdf_dlink2\u001b[0;34m(self, f, y, Y_metadata)\u001b[0m\n\u001b[1;32m    196\u001b[0m         \"\"\"\n\u001b[1;32m    197\u001b[0m         \u001b[0;32massert\u001b[0m \u001b[0mnp\u001b[0m\u001b[0;34m.\u001b[0m\u001b[0matleast_1d\u001b[0m\u001b[0;34m(\u001b[0m\u001b[0mf\u001b[0m\u001b[0;34m)\u001b[0m\u001b[0;34m.\u001b[0m\u001b[0mshape\u001b[0m \u001b[0;34m==\u001b[0m \u001b[0mnp\u001b[0m\u001b[0;34m.\u001b[0m\u001b[0matleast_1d\u001b[0m\u001b[0;34m(\u001b[0m\u001b[0my\u001b[0m\u001b[0;34m)\u001b[0m\u001b[0;34m.\u001b[0m\u001b[0mshape\u001b[0m\u001b[0;34m\u001b[0m\u001b[0m\n\u001b[0;32m--> 198\u001b[0;31m         \u001b[0mself\u001b[0m\u001b[0;34m.\u001b[0m\u001b[0meval_update_cache\u001b[0m\u001b[0;34m(\u001b[0m\u001b[0mF\u001b[0m\u001b[0;34m=\u001b[0m\u001b[0mf\u001b[0m\u001b[0;34m,\u001b[0m \u001b[0mY\u001b[0m\u001b[0;34m=\u001b[0m\u001b[0my\u001b[0m\u001b[0;34m,\u001b[0m \u001b[0mY_metadata\u001b[0m\u001b[0;34m=\u001b[0m\u001b[0mY_metadata\u001b[0m\u001b[0;34m)\u001b[0m\u001b[0;34m\u001b[0m\u001b[0m\n\u001b[0m\u001b[1;32m    199\u001b[0m         \u001b[0;32mif\u001b[0m \u001b[0mself\u001b[0m\u001b[0;34m.\u001b[0m\u001b[0mmissing_data\u001b[0m\u001b[0;34m:\u001b[0m\u001b[0;34m\u001b[0m\u001b[0m\n\u001b[1;32m    200\u001b[0m             return np.where(np.isnan(y), \n",
        "\u001b[0;32m/Users/neil/SheffieldML/symbolic/likelihoods/symbolic.pyc\u001b[0m in \u001b[0;36meval_update_cache\u001b[0;34m(self, Y, **kwargs)\u001b[0m\n\u001b[1;32m     72\u001b[0m         \u001b[0;31m# TODO: place checks for inf/nan in here\u001b[0m\u001b[0;34m\u001b[0m\u001b[0;34m\u001b[0m\u001b[0m\n\u001b[1;32m     73\u001b[0m         \u001b[0;31m# for all provided keywords\u001b[0m\u001b[0;34m\u001b[0m\u001b[0;34m\u001b[0m\u001b[0m\n\u001b[0;32m---> 74\u001b[0;31m         \u001b[0mSymbolic_core\u001b[0m\u001b[0;34m.\u001b[0m\u001b[0meval_update_cache\u001b[0m\u001b[0;34m(\u001b[0m\u001b[0mself\u001b[0m\u001b[0;34m,\u001b[0m \u001b[0mY\u001b[0m\u001b[0;34m=\u001b[0m\u001b[0mY\u001b[0m\u001b[0;34m,\u001b[0m \u001b[0;34m**\u001b[0m\u001b[0mkwargs\u001b[0m\u001b[0;34m)\u001b[0m\u001b[0;34m\u001b[0m\u001b[0m\n\u001b[0m\u001b[1;32m     75\u001b[0m         \u001b[0;31m# Y = np.atleast_2d(Y)\u001b[0m\u001b[0;34m\u001b[0m\u001b[0;34m\u001b[0m\u001b[0m\n\u001b[1;32m     76\u001b[0m         \u001b[0;31m# for variable, code in sorted(self.code['parameters_changed'].iteritems()):\u001b[0m\u001b[0;34m\u001b[0m\u001b[0;34m\u001b[0m\u001b[0m\n",
        "\u001b[0;32m/Users/neil/SheffieldML/symbolic/core/symbolic.pyc\u001b[0m in \u001b[0;36meval_update_cache\u001b[0;34m(self, **kwargs)\u001b[0m\n\u001b[1;32m    141\u001b[0m \u001b[0;34m\u001b[0m\u001b[0m\n\u001b[1;32m    142\u001b[0m         \u001b[0;32mfor\u001b[0m \u001b[0mvar\u001b[0m\u001b[0;34m,\u001b[0m \u001b[0mcode\u001b[0m \u001b[0;32min\u001b[0m \u001b[0mself\u001b[0m\u001b[0;34m.\u001b[0m\u001b[0mvariable_sort\u001b[0m\u001b[0;34m(\u001b[0m\u001b[0mself\u001b[0m\u001b[0;34m.\u001b[0m\u001b[0mcode\u001b[0m\u001b[0;34m[\u001b[0m\u001b[0;34m'parameters_changed'\u001b[0m\u001b[0;34m]\u001b[0m\u001b[0;34m)\u001b[0m\u001b[0;34m:\u001b[0m\u001b[0;34m\u001b[0m\u001b[0m\n\u001b[0;32m--> 143\u001b[0;31m             \u001b[0mself\u001b[0m\u001b[0;34m.\u001b[0m\u001b[0m_set_attribute\u001b[0m\u001b[0;34m(\u001b[0m\u001b[0mvar\u001b[0m\u001b[0;34m,\u001b[0m \u001b[0meval\u001b[0m\u001b[0;34m(\u001b[0m\u001b[0mcode\u001b[0m\u001b[0;34m,\u001b[0m \u001b[0mself\u001b[0m\u001b[0;34m.\u001b[0m\u001b[0mnamespace\u001b[0m\u001b[0;34m)\u001b[0m\u001b[0;34m)\u001b[0m\u001b[0;34m\u001b[0m\u001b[0m\n\u001b[0m\u001b[1;32m    144\u001b[0m \u001b[0;34m\u001b[0m\u001b[0m\n\u001b[1;32m    145\u001b[0m         \u001b[0;32mfor\u001b[0m \u001b[0mvar\u001b[0m\u001b[0;34m,\u001b[0m \u001b[0mvalue\u001b[0m \u001b[0;32min\u001b[0m \u001b[0mkwargs\u001b[0m\u001b[0;34m.\u001b[0m\u001b[0mitems\u001b[0m\u001b[0;34m(\u001b[0m\u001b[0;34m)\u001b[0m\u001b[0;34m:\u001b[0m\u001b[0;34m\u001b[0m\u001b[0m\n",
        "\u001b[0;32m/Users/neil/Library/Enthought/Canopy_64bit/User/lib/python2.7/site-packages/numpy/__init__.pyc\u001b[0m in \u001b[0;36m<module>\u001b[0;34m()\u001b[0m\n",
        "\u001b[0;31mNameError\u001b[0m: name 'self' is not defined"
       ]
      }
     ],
     "prompt_number": 5
    },
    {
     "cell_type": "code",
     "collapsed": false,
     "input": [
      "%debug"
     ],
     "language": "python",
     "metadata": {},
     "outputs": [
      {
       "output_type": "stream",
       "stream": "stdout",
       "text": [
        "> \u001b[0;32m<string>\u001b[0m(1)\u001b[0;36m<module>\u001b[0;34m()\u001b[0m\n",
        "\n"
       ]
      },
      {
       "name": "stdout",
       "output_type": "stream",
       "stream": "stdout",
       "text": [
        "ipdb> up\n"
       ]
      },
      {
       "output_type": "stream",
       "stream": "stdout",
       "text": [
        "> \u001b[0;32m/Users/neil/SheffieldML/symbolic/core/symbolic.py\u001b[0m(143)\u001b[0;36meval_update_cache\u001b[0;34m()\u001b[0m\n",
        "\u001b[0;32m    142 \u001b[0;31m        \u001b[0;32mfor\u001b[0m \u001b[0mvar\u001b[0m\u001b[0;34m,\u001b[0m \u001b[0mcode\u001b[0m \u001b[0;32min\u001b[0m \u001b[0mself\u001b[0m\u001b[0;34m.\u001b[0m\u001b[0mvariable_sort\u001b[0m\u001b[0;34m(\u001b[0m\u001b[0mself\u001b[0m\u001b[0;34m.\u001b[0m\u001b[0mcode\u001b[0m\u001b[0;34m[\u001b[0m\u001b[0;34m'parameters_changed'\u001b[0m\u001b[0;34m]\u001b[0m\u001b[0;34m)\u001b[0m\u001b[0;34m:\u001b[0m\u001b[0;34m\u001b[0m\u001b[0m\n",
        "\u001b[0m\u001b[0;32m--> 143 \u001b[0;31m            \u001b[0mself\u001b[0m\u001b[0;34m.\u001b[0m\u001b[0m_set_attribute\u001b[0m\u001b[0;34m(\u001b[0m\u001b[0mvar\u001b[0m\u001b[0;34m,\u001b[0m \u001b[0meval\u001b[0m\u001b[0;34m(\u001b[0m\u001b[0mcode\u001b[0m\u001b[0;34m,\u001b[0m \u001b[0mself\u001b[0m\u001b[0;34m.\u001b[0m\u001b[0mnamespace\u001b[0m\u001b[0;34m)\u001b[0m\u001b[0;34m)\u001b[0m\u001b[0;34m\u001b[0m\u001b[0m\n",
        "\u001b[0m\u001b[0;32m    144 \u001b[0;31m\u001b[0;34m\u001b[0m\u001b[0m\n",
        "\u001b[0m\n"
       ]
      },
      {
       "name": "stdout",
       "output_type": "stream",
       "stream": "stdout",
       "text": [
        "ipdb> code\n"
       ]
      },
      {
       "output_type": "stream",
       "stream": "stdout",
       "text": [
        "'(self.nu**2)'\n"
       ]
      },
      {
       "name": "stdout",
       "output_type": "stream",
       "stream": "stdout",
       "text": [
        "ipdb> self.nu\n"
       ]
      },
      {
       "output_type": "stream",
       "stream": "stdout",
       "text": [
        "\u001b[1mgp.SstudentT.nu\u001b[0;0m:\n",
        "Param([ 5.])\n"
       ]
      }
     ]
    },
    {
     "cell_type": "code",
     "collapsed": false,
     "input": [
      "likelihood2._gen_code()"
     ],
     "language": "python",
     "metadata": {},
     "outputs": [
      {
       "metadata": {},
       "output_type": "pyout",
       "prompt_number": 8,
       "text": [
        "<bound method SstudentT._gen_code of <symbolic.likelihoods.sstudent_t.SstudentT object at 0x10fd72050>>"
       ]
      }
     ],
     "prompt_number": 8
    },
    {
     "cell_type": "code",
     "collapsed": false,
     "input": [
      "%debug"
     ],
     "language": "python",
     "metadata": {},
     "outputs": [
      {
       "output_type": "stream",
       "stream": "stdout",
       "text": [
        "> \u001b[0;32m<string>\u001b[0m(1)\u001b[0;36m<module>\u001b[0;34m()\u001b[0m\n",
        "\n"
       ]
      },
      {
       "name": "stdout",
       "output_type": "stream",
       "stream": "stdout",
       "text": [
        "ipdb> var\n"
       ]
      },
      {
       "output_type": "stream",
       "stream": "stdout",
       "text": [
        "<function var at 0x10a6c3f50>\n"
       ]
      },
      {
       "name": "stdout",
       "output_type": "stream",
       "stream": "stdout",
       "text": [
        "ipdb> code\n"
       ]
      },
      {
       "output_type": "stream",
       "stream": "stdout",
       "text": [
        "{'log_pdf': {'function': '(cache3*sub0*sub3 + sub0*log(pi*nu*t_scale2) - gammaln(sub4) + gammaln(-sub0*sub3))', 'derivative': {'f_0': '(1.0*cache0*cache8*sub5/t_scale2)', 'nu': '(cache3*sub0 + cache6*cache8*sub0/t_scale2 + sub0*polygamma(0, sub4) - sub0*polygamma(0, -nu*sub0 - sub0) + sub0/nu)', 't_scale2': '((cache1*cache8*sub0*sub5/t_scale2 + sub0)/t_scale2)'}, 'second_derivative': {'f_0': '(cache9*sub5*(sub0 + cache7/cache2)/t_scale2)', 'nu': '(cache0*cache10*(1.0*cache6*cache8/t_scale2 + sub5 - 1)/nu)', 't_scale2': '(cache5*cache9*sub5*(-sub0 + cache7*sub0/cache2))'}, 'third_derivative': {'f_0': '(4*cache5*sub3*(2.0*cache7*cache8 + 1.5)/(cache4*sub1))', 'nu': '(cache10*(4.0*cache11*sub5/nu**2 + 5.0*cache6*cache8/t_scale2 + sub5 - 1.0 + 2.0*cache7/cache2)/nu)', 't_scale2': '(cache9*sub5*(2.0*cache11/sub1 + 2.5*cache7*cache8 - sub0)/sub2)'}}, 'update_cache': {'cache10': '(1/(cache2*t_scale2))', 'cache11': '(cache0**4/(cache4*sub2))', 'cache8': '(-1/cache2)', 'cache9': '(2/cache2)', 'cache4': '(cache2**2)', 'cache5': '(cache0/sub2)', 'cache6': '(cache1*sub3/sub1)', 'cache7': '(cache1/(nu*t_scale2))', 'cache0': '(f_0 - y_0)', 'cache1': '(cache0**2)', 'cache2': '(cache1/(nu*t_scale2) + 1)', 'cache3': '(log(cache2))'}, 'parameters_changed': {'sub4': '(-nu*sub0)', 'sub5': '(sub3/nu)', 'sub2': '(t_scale2**2)', 'sub3': '(nu + 1)', 'sub0': '(-0.500000000000000)', 'sub1': '(nu**2)'}}\n"
       ]
      },
      {
       "name": "stdout",
       "output_type": "stream",
       "stream": "stdout",
       "text": [
        "ipdb> nu\n"
       ]
      },
      {
       "output_type": "stream",
       "stream": "stdout",
       "text": [
        "*** NameError: name 'nu' is not defined\n"
       ]
      },
      {
       "name": "stdout",
       "output_type": "stream",
       "stream": "stdout",
       "text": [
        "ipdb> var\n"
       ]
      },
      {
       "output_type": "stream",
       "stream": "stdout",
       "text": [
        "<function var at 0x10a6c3f50>\n"
       ]
      },
      {
       "name": "stdout",
       "output_type": "stream",
       "stream": "stdout",
       "text": [
        "ipdb> self.namespace\n"
       ]
      },
      {
       "output_type": "stream",
       "stream": "stdout",
       "text": [
        "*** NameError: name 'self' is not defined\n"
       ]
      },
      {
       "name": "stdout",
       "output_type": "stream",
       "stream": "stdout",
       "text": [
        "ipdb> up\n"
       ]
      },
      {
       "output_type": "stream",
       "stream": "stdout",
       "text": [
        "> \u001b[0;32m/Users/neil/SheffieldML/symbolic/core/symbolic.py\u001b[0m(143)\u001b[0;36meval_update_cache\u001b[0;34m()\u001b[0m\n",
        "\u001b[0;32m    142 \u001b[0;31m        \u001b[0;32mfor\u001b[0m \u001b[0mvar\u001b[0m\u001b[0;34m,\u001b[0m \u001b[0mcode\u001b[0m \u001b[0;32min\u001b[0m \u001b[0mself\u001b[0m\u001b[0;34m.\u001b[0m\u001b[0mvariable_sort\u001b[0m\u001b[0;34m(\u001b[0m\u001b[0mself\u001b[0m\u001b[0;34m.\u001b[0m\u001b[0mcode\u001b[0m\u001b[0;34m[\u001b[0m\u001b[0;34m'parameters_changed'\u001b[0m\u001b[0;34m]\u001b[0m\u001b[0;34m)\u001b[0m\u001b[0;34m:\u001b[0m\u001b[0;34m\u001b[0m\u001b[0m\n",
        "\u001b[0m\u001b[0;32m--> 143 \u001b[0;31m            \u001b[0mself\u001b[0m\u001b[0;34m.\u001b[0m\u001b[0m_set_attribute\u001b[0m\u001b[0;34m(\u001b[0m\u001b[0mvar\u001b[0m\u001b[0;34m,\u001b[0m \u001b[0meval\u001b[0m\u001b[0;34m(\u001b[0m\u001b[0mcode\u001b[0m\u001b[0;34m,\u001b[0m \u001b[0mself\u001b[0m\u001b[0;34m.\u001b[0m\u001b[0mnamespace\u001b[0m\u001b[0;34m)\u001b[0m\u001b[0;34m)\u001b[0m\u001b[0;34m\u001b[0m\u001b[0m\n",
        "\u001b[0m\u001b[0;32m    144 \u001b[0;31m\u001b[0;34m\u001b[0m\u001b[0m\n",
        "\u001b[0m\n"
       ]
      },
      {
       "name": "stdout",
       "output_type": "stream",
       "stream": "stdout",
       "text": [
        "ipdb> self.namespace\n"
       ]
      },
      {
       "output_type": "stream",
       "stream": "stdout",
       "text": [
        "{'disp': <function disp at 0x10a764aa0>, 'union1d': <function union1d at 0x10a789a28>, 'all': <function all at 0x10a6c37d0>, 'code': {'log_pdf': {'function': '(cache3*sub0*sub3 + sub0*log(pi*nu*t_scale2) - gammaln(sub4) + gammaln(-sub0*sub3))', 'derivative': {'f_0': '(1.0*cache0*cache8*sub5/t_scale2)', 'nu': '(cache3*sub0 + cache6*cache8*sub0/t_scale2 + sub0*polygamma(0, sub4) - sub0*polygamma(0, -nu*sub0 - sub0) + sub0/nu)', 't_scale2': '((cache1*cache8*sub0*sub5/t_scale2 + sub0)/t_scale2)'}, 'second_derivative': {'f_0': '(cache9*sub5*(sub0 + cache7/cache2)/t_scale2)', 'nu': '(cache0*cache10*(1.0*cache6*cache8/t_scale2 + sub5 - 1)/nu)', 't_scale2': '(cache5*cache9*sub5*(-sub0 + cache7*sub0/cache2))'}, 'third_derivative': {'f_0': '(4*cache5*sub3*(2.0*cache7*cache8 + 1.5)/(cache4*sub1))', 'nu': '(cache10*(4.0*cache11*sub5/nu**2 + 5.0*cache6*cache8/t_scale2 + sub5 - 1.0 + 2.0*cache7/cache2)/nu)', 't_scale2': '(cache9*sub5*(2.0*cache11/sub1 + 2.5*cache7*cache8 - sub0)/sub2)'}}, 'update_cache': {'cache10': '(1/(cache2*t_scale2))', 'cache11': '(cache0**4/(cache4*sub2))', 'cache8': '(-1/cache2)', 'cache9': '(2/cache2)', 'cache4': '(cache2**2)', 'cache5': '(cache0/sub2)', 'cache6': '(cache1*sub3/sub1)', 'cache7': '(cache1/(nu*t_scale2))', 'cache0': '(f_0 - y_0)', 'cache1': '(cache0**2)', 'cache2': '(cache1/(nu*t_scale2) + 1)', 'cache3': '(log(cache2))'}, 'parameters_changed': {'sub4': '(-nu*sub0)', 'sub5': '(sub3/nu)', 'sub2': '(t_scale2**2)', 'sub3': '(nu + 1)', 'sub0': '(-0.500000000000000)', 'sub1': '(nu**2)'}}, 'issubsctype': <function issubsctype at 0x1049601b8>, 'savez': <function savez at 0x10a7aade8>, 'atleast_2d': <function atleast_2d at 0x10a6e3a28>, 'acosh': <ufunc 'arccosh'>, 'restoredot': <built-in function restoredot>, 'expressions': {'log_pdf': {'function': cache3*sub0*sub3 + sub0*log(pi*nu*t_scale2) - gammaln(sub4) + gammaln(-sub0*sub3), 'derivative': {'f_0': 1.0*cache0*cache8*sub5/t_scale2, 'nu': cache3*sub0 + cache6*cache8*sub0/t_scale2 + sub0*polygamma(0, sub4) - sub0*polygamma(0, -nu*sub0 - sub0) + sub0/nu, 't_scale2': (cache1*cache8*sub0*sub5/t_scale2 + sub0)/t_scale2}, 'second_derivative': {'f_0': cache9*sub5*(sub0 + cache7/cache2)/t_scale2, 'nu': cache0*cache10*(1.0*cache6*cache8/t_scale2 + sub5 - 1)/nu, 't_scale2': cache5*cache9*sub5*(-sub0 + cache7*sub0/cache2)}, 'third_derivative': {'f_0': 4*cache5*sub3*(2.0*cache7*cache8 + 1.5)/(cache4*sub1), 'nu': cache10*(4.0*cache11*sub5/nu**2 + 5.0*cache6*cache8/t_scale2 + sub5 - 1.0 + 2.0*cache7/cache2)/nu, 't_scale2': cache9*sub5*(2.0*cache11/sub1 + 2.5*cache7*cache8 - sub0)/sub2}}, 'update_cache': {'cache10': 1/(cache2*t_scale2), 'cache11': cache0**4/(cache4*sub2), 'cache8': -1/cache2, 'cache9': 2/cache2, 'cache4': cache2**2, 'cache5': cache0/sub2, 'cache6': cache1*sub3/sub1, 'cache7': cache1/(nu*t_scale2), 'cache0': f_0 - y_0, 'cache1': cache0**2, 'cache2': cache1/(nu*t_scale2) + 1, 'cache3': log(cache2)}, 'parameters_changed': {'sub4': -nu*sub0, 'sub5': sub3/nu, 'sub2': t_scale2**2, 'sub3': nu + 1, 'sub0': -0.500000000000000, 'sub1': nu**2}}, 'ptp': <function ptp at 0x10a6c3938>, 'unicode_': <type 'numpy.unicode_'>, 'ix_': <function ix_ at 0x10a768c08>, 'mirr': <function mirr at 0x10a7abde8>, 'blackman': <function blackman at 0x10a764de8>, 'FLOATING_POINT_SUPPORT': 1, 'division': _Feature((2, 2, 0, 'alpha', 2), (3, 0, 0, 'alpha', 0), 8192), 'busdaycalendar': <type 'numpy.busdaycalendar'>, 'pkgload': <function pkgload at 0x1047431b8>, 'void': <type 'numpy.void'>, 'unicode0': <type 'numpy.unicode_'>, 'ERR_RAISE': 2, 'void0': <type 'numpy.void'>, 'tri': <function tri at 0x10a740cf8>, 'diag_indices': <function diag_indices at 0x10a76a758>, 'array_equal': <function array_equal at 0x10a6c6410>, 'True_': True, 'indices': <function indices at 0x10a6c4ed8>, 'loads': <built-in function loads>, 'round': <function round_ at 0x10a6c3de8>, 'set_numeric_ops': <built-in function set_numeric_ops>, 'pmt': <function pmt at 0x10a7ab938>, 'nanstd': <function nanstd at 0x10a76ade8>, '_mat': <module 'numpy.matrixlib' from '/Users/neil/Library/Enthought/Canopy_64bit/User/lib/python2.7/site-packages/numpy/matrixlib/__init__.pyc'>, 'cosh': <ufunc 'cosh'>, 'object0': <type 'numpy.object_'>, 'argpartition': <function argpartition at 0x10496ade8>, 'expression_order': (1, 3, 3, 3, 4, 4, 4, 5, 5, 5), 'FPE_OVERFLOW': 2, 'RAISE': 2, 'index_exp': <numpy.lib.index_tricks.IndexExpression object at 0x10a75ffd0>, 'append': <function append at 0x10a765758>, 'compat': <module 'numpy.compat' from '/Users/neil/Library/Enthought/Canopy_64bit/User/lib/python2.7/site-packages/numpy/compat/__init__.pyc'>, 'asin': <ufunc 'arcsin'>, 'nanargmax': <function nanargmax at 0x10a76ac08>, 'hstack': <function hstack at 0x10a6e3b90>, 'typename': <function typename at 0x10a740050>, 'diag': <function diag at 0x10a740c08>, 'rollaxis': <function rollaxis at 0x104961f50>, 'ERR_WARN': 1, 'polyfit': <function polyfit at 0x10a7887d0>, 'version': <module 'numpy.version' from '/Users/neil/Library/Enthought/Canopy_64bit/User/lib/python2.7/site-packages/numpy/version.pyc'>, 'memmap': <class 'numpy.core.memmap.memmap'>, 'nan_to_num': <function nan_to_num at 0x10a73fe60>, 'complex64': <type 'numpy.complex64'>, 'fmax': <ufunc 'fmax'>, 'spacing': <ufunc 'spacing'>, 'sinh': <ufunc 'sinh'>, '__git_revision__': '62a7575fd82ddf028517780c01fecf7e0cca27aa', 'PackageLoader': <class 'numpy._import_tools.PackageLoader'>, 'sinc': <function sinc at 0x10a7652a8>, 'trunc': <ufunc 'trunc'>, 'vstack': <function vstack at 0x10a6e3b18>, 'ERR_PRINT': 4, 'asscalar': <function asscalar at 0x10a73ff50>, '_name': 'SstudentT', 'less_equal': <ufunc 'less_equal'>, 'BUFSIZE': 8192, 'object_': <type 'numpy.object_'>, 'divide': <ufunc 'divide'>, 'csingle': <type 'numpy.complex64'>, 'dtype': <type 'numpy.dtype'>, 'unsignedinteger': <type 'numpy.unsignedinteger'>, 'fastCopyAndTranspose': <built-in function _fastCopyAndTranspose>, 'missing_data': False, 'bitwise_and': <ufunc 'bitwise_and'>, 'uintc': <type 'numpy.uint32'>, 'select': <function select at 0x10a764488>, 'deg2rad': <ufunc 'deg2rad'>, 'bytes_': <type 'numpy.string_'>, 'eye': <function eye at 0x10a740b90>, 'kron': <function kron at 0x10a76f6e0>, 'newbuffer': <built-in function newbuffer>, 'negative': <ufunc 'negative'>, 'busday_offset': <built-in function busday_offset>, 'mintypecode': <function mintypecode at 0x10a73fa28>, 'MAXDIMS': 32, 'sort': <function sort at 0x10496ae60>, 'einsum': <built-in function einsum>, 'uint0': <type 'numpy.uint64'>, 'zeros_like': <function zeros_like at 0x1049615f0>, 'int_asbuffer': <built-in function int_asbuffer>, 'uint8': <type 'numpy.uint8'>, 'chararray': <class 'numpy.core.defchararray.chararray'>, 'linspace': <function linspace at 0x10a6dc398>, 'resize': <function resize at 0x10a6c3140>, 'uint64': <type 'numpy.uint64'>, 'ma': <module 'numpy.ma' from '/Users/neil/Library/Enthought/Canopy_64bit/User/lib/python2.7/site-packages/numpy/ma/__init__.pyc'>, 'true_divide': <ufunc 'true_divide'>, 'erf': <ufunc 'erf'>, 'minimum': <ufunc 'minimum'>, 'Inf': inf, 'finfo': <class 'numpy.core.getlimits.finfo'>, 'expression_keys': (['log_pdf', 'function'], ['log_pdf', 'derivative', 'f_0'], ['log_pdf', 'derivative', 't_scale2'], ['log_pdf', 'derivative', 'nu'], ['log_pdf', 'second_derivative', 'f_0'], ['log_pdf', 'second_derivative', 't_scale2'], ['log_pdf', 'second_derivative', 'nu'], ['log_pdf', 'third_derivative', 'f_0'], ['log_pdf', 'third_derivative', 't_scale2'], ['log_pdf', 'third_derivative', 'nu']), 'triu_indices': <function triu_indices at 0x10a757140>, 'Min': <function amin at 0x10a6c3a28>, 'add_newdoc': <function add_newdoc at 0x10a765578>, 'seterrcall': <function seterrcall at 0x10a6c66e0>, 'logical_or': <ufunc 'logical_or'>, 'Abs': <ufunc 'absolute'>, 'WRAP': 1, 'tan': <ufunc 'tan'>, 'absolute': <ufunc 'absolute'>, 'array_repr': <function array_repr at 0x10a6c47d0>, 'get_array_wrap': <function get_array_wrap at 0x10a76f668>, 'namespace': {...}, 'polymul': <function polymul at 0x10a7889b0>, '_param_slices_': [], 'tile': <function tile at 0x10a76f758>, 'erfc': <ufunc 'erfc'>, 'array_str': <function array_str at 0x10a6c4de8>, 'setdiff1d': <function setdiff1d at 0x10a789aa0>, 'sin': <ufunc 'sin'>, 'longlong': <type 'numpy.int64'>, 'product': <function product at 0x10a6c35f0>, 'int16': <type 'numpy.int16'>, 'str_': <type 'numpy.string_'>, 'mat': <function asmatrix at 0x10a7659b0>, 'fv': <function fv at 0x10a7ab8c0>, 'ImmutableMatrix': <class 'numpy.matrixlib.defmatrix.matrix'>, 'max': <function amax at 0x10a6c39b0>, 'asanyarray': <function asanyarray at 0x104961938>, 'uint': <type 'numpy.uint64'>, 'npv': <function npv at 0x10a7abd70>, 'logaddexp': <ufunc 'logaddexp'>, 'flatnonzero': <function flatnonzero at 0x104961c08>, 'amin': <function amin at 0x10a6c3a28>, 'I': 1j, 'correlate': <function correlate at 0x104961cf8>, 'fromstring': <built-in function fromstring>, 'left_shift': <ufunc 'left_shift'>, 'searchsorted': <function searchsorted at 0x10a6c30c8>, 'atan2': <ufunc 'arctan2'>, 'log_concave': False, 'int64': <type 'numpy.int64'>, 'gamma': <ufunc 'gamma'>, 'may_share_memory': <built-in function may_share_memory>, 'atanh': <ufunc 'arctanh'>, 'dsplit': <function dsplit at 0x10a76f578>, 'intersect1d': <function intersect1d at 0x10a7898c0>, 'can_cast': <built-in function can_cast>, 'ppmt': <function ppmt at 0x10a7abb18>, 'show_config': <function show at 0x10473ed70>, 'cumsum': <function cumsum at 0x10a6c3848>, 'roots': <function roots at 0x10a788668>, 'outer': <function outer at 0x104961de8>, 'CLIP': 0, 'ln': <ufunc 'log'>, 'fix': <function fix at 0x10a73f8c0>, 'busday_count': <built-in function busday_count>, 'timedelta64': <type 'numpy.timedelta64'>, 'degrees': <ufunc 'degrees'>, 'choose': <function choose at 0x10496ab18>, 'FPE_INVALID': 8, 'recfromcsv': <function recfromcsv at 0x10a7ab410>, 'fill_diagonal': <function fill_diagonal at 0x10a76a1b8>, 'empty_like': <built-in function empty_like>, 'logaddexp2': <ufunc 'logaddexp2'>, 'greater': <ufunc 'greater'>, 'histogram2d': <function histogram2d at 0x10a740ed8>, 'polyint': <function polyint at 0x10a7886e0>, 'rank': <function rank at 0x10a6c3c80>, 'datetime64': <type 'numpy.datetime64'>, 'ep_analytic': False, 'complexfloating': <type 'numpy.complexfloating'>, 'ndindex': <class 'numpy.lib.index_tricks.ndindex'>, 'ctypeslib': <module 'numpy.ctypeslib' from '/Users/neil/Library/Enthought/Canopy_64bit/User/lib/python2.7/site-packages/numpy/ctypeslib.pyc'>, 'PZERO': 0.0, 'isfortran': <function isfortran at 0x104961b18>, 'asfarray': <function asfarray at 0x10a73faa0>, 'radians': <ufunc 'radians'>, 'fliplr': <function fliplr at 0x10a740a28>, 'alen': <function alen at 0x10a6c3aa0>, 'recarray': <class 'numpy.core.records.recarray'>, 'fmod': <ufunc 'fmod'>, 'mean': <function mean at 0x10a6c3e60>, 'square': <ufunc 'square'>, 'ogrid': <numpy.lib.index_tricks.nd_grid object at 0x10a75fdd0>, 'nanargmin': <function nanargmin at 0x10a76ab90>, 'r_': <numpy.lib.index_tricks.RClass object at 0x10a75fe50>, 'diag_indices_from': <function diag_indices_from at 0x10a76a7d0>, 'hanning': <function hanning at 0x10a764ed8>, 's_': <numpy.lib.index_tricks.IndexExpression object at 0x10a76c090>, 'allclose': <function allclose at 0x10a6c6320>, 'extract': <function extract at 0x10a7649b0>, 'float16': <type 'numpy.float16'>, 'ulonglong': <type 'numpy.uint64'>, 'matrix': <class 'numpy.matrixlib.defmatrix.matrix'>, 'asarray': <function asarray at 0x1049618c0>, 'poly1d': <class 'numpy.lib.polynomial.poly1d'>, 're': <function real at 0x10a73fb18>, 'promote_types': <built-in function promote_types>, 'rec': <module 'numpy.core.records' from '/Users/neil/Library/Enthought/Canopy_64bit/User/lib/python2.7/site-packages/numpy/core/records.pyc'>, 'datetime_as_string': <built-in function datetime_as_string>, 'uint32': <type 'numpy.uint32'>, 'math': <module 'math' from '/Applications/Canopy.app/appdata/canopy-1.3.0.1715.macosx-x86_64/Canopy.app/Contents/lib/python2.7/lib-dynload/math.so'>, 'log2': <ufunc 'log2'>, '__builtins__': {'bytearray': <type 'bytearray'>, 'IndexError': <type 'exceptions.IndexError'>, 'all': <built-in function all>, 'help': Type help() for interactive help, or help(object) for help about object., 'vars': <built-in function vars>, 'SyntaxError': <type 'exceptions.SyntaxError'>, '__IPYTHON__active': 'Deprecated, check for __IPYTHON__', 'unicode': <type 'unicode'>, 'UnicodeDecodeError': <type 'exceptions.UnicodeDecodeError'>, 'memoryview': <type 'memoryview'>, 'isinstance': <built-in function isinstance>, 'copyright': Copyright (c) 2001-2013 Python Software Foundation.\n",
        "All Rights Reserved.\n",
        "\n",
        "Copyright (c) 2000 BeOpen.com.\n",
        "All Rights Reserved.\n",
        "\n",
        "Copyright (c) 1995-2001 Corporation for National Research Initiatives.\n",
        "All Rights Reserved.\n",
        "\n",
        "Copyright (c) 1991-1995 Stichting Mathematisch Centrum, Amsterdam.\n",
        "All Rights Reserved., 'NameError': <type 'exceptions.NameError'>, 'BytesWarning': <type 'exceptions.BytesWarning'>, 'dict': <type 'dict'>, 'input': <function <lambda> at 0x110237488>, 'oct': <built-in function oct>, 'bin': <built-in function bin>, 'SystemExit': <type 'exceptions.SystemExit'>, 'StandardError': <type 'exceptions.StandardError'>, 'format': <built-in function format>, 'repr': <built-in function repr>, 'sorted': <built-in function sorted>, 'False': False, 'RuntimeWarning': <type 'exceptions.RuntimeWarning'>, 'list': <type 'list'>, 'iter': <built-in function iter>, 'reload': <built-in function reload>, 'Warning': <type 'exceptions.Warning'>, '__package__': None, 'round': <built-in function round>, 'dir': <built-in function dir>, 'cmp': <built-in function cmp>, 'set': <type 'set'>, 'bytes': <type 'str'>, 'reduce': <built-in function reduce>, 'intern': <built-in function intern>, 'issubclass': <built-in function issubclass>, 'Ellipsis': Ellipsis, 'EOFError': <type 'exceptions.EOFError'>, 'locals': <built-in function locals>, 'BufferError': <type 'exceptions.BufferError'>, 'slice': <type 'slice'>, 'FloatingPointError': <type 'exceptions.FloatingPointError'>, 'sum': <built-in function sum>, 'getattr': <built-in function getattr>, 'abs': <built-in function abs>, 'print': <built-in function print>, 'True': True, 'FutureWarning': <type 'exceptions.FutureWarning'>, 'ImportWarning': <type 'exceptions.ImportWarning'>, 'None': None, 'hash': <built-in function hash>, 'ReferenceError': <type 'exceptions.ReferenceError'>, 'len': <built-in function len>, 'credits':     Thanks to CWI, CNRI, BeOpen.com, Zope Corporation and a cast of thousands\n",
        "    for supporting Python development.  See www.python.org for more information., 'frozenset': <type 'frozenset'>, '__name__': '__builtin__', 'ord': <built-in function ord>, 'super': <type 'super'>, 'TypeError': <type 'exceptions.TypeError'>, 'license': Type license() to see the full license text, 'KeyboardInterrupt': <type 'exceptions.KeyboardInterrupt'>, 'UserWarning': <type 'exceptions.UserWarning'>, 'filter': <built-in function filter>, 'range': <built-in function range>, 'staticmethod': <type 'staticmethod'>, 'SystemError': <type 'exceptions.SystemError'>, 'BaseException': <type 'exceptions.BaseException'>, 'pow': <built-in function pow>, 'RuntimeError': <type 'exceptions.RuntimeError'>, 'float': <type 'float'>, 'MemoryError': <type 'exceptions.MemoryError'>, 'StopIteration': <type 'exceptions.StopIteration'>, 'globals': <built-in function globals>, 'divmod': <built-in function divmod>, 'enumerate': <type 'enumerate'>, 'apply': <built-in function apply>, 'LookupError': <type 'exceptions.LookupError'>, 'open': <built-in function open>, 'basestring': <type 'basestring'>, 'UnicodeError': <type 'exceptions.UnicodeError'>, 'zip': <built-in function zip>, 'hex': <built-in function hex>, 'long': <type 'long'>, 'next': <built-in function next>, 'ImportError': <type 'exceptions.ImportError'>, 'chr': <built-in function chr>, 'xrange': <type 'xrange'>, 'type': <type 'type'>, '__doc__': \"Built-in functions, exceptions, and other objects.\\n\\nNoteworthy: None is the `nil' object; Ellipsis represents `...' in slices.\", 'Exception': <type 'exceptions.Exception'>, '__IPYTHON__': True, 'tuple': <type 'tuple'>, 'UnicodeTranslateError': <type 'exceptions.UnicodeTranslateError'>, 'reversed': <type 'reversed'>, 'UnicodeEncodeError': <type 'exceptions.UnicodeEncodeError'>, 'IOError': <type 'exceptions.IOError'>, 'hasattr': <built-in function hasattr>, 'delattr': <built-in function delattr>, 'setattr': <built-in function setattr>, 'raw_input': <function <lambda> at 0x110237500>, 'SyntaxWarning': <type 'exceptions.SyntaxWarning'>, 'compile': <built-in function compile>, 'ArithmeticError': <type 'exceptions.ArithmeticError'>, 'str': <type 'str'>, 'property': <type 'property'>, 'dreload': <function reload at 0x102de0de8>, 'GeneratorExit': <type 'exceptions.GeneratorExit'>, 'int': <type 'int'>, '__import__': <built-in function __import__>, 'KeyError': <type 'exceptions.KeyError'>, 'coerce': <built-in function coerce>, 'PendingDeprecationWarning': <type 'exceptions.PendingDeprecationWarning'>, 'file': <type 'file'>, 'EnvironmentError': <type 'exceptions.EnvironmentError'>, 'unichr': <built-in function unichr>, 'id': <built-in function id>, 'OSError': <type 'exceptions.OSError'>, 'DeprecationWarning': <type 'exceptions.DeprecationWarning'>, 'min': <built-in function min>, 'UnicodeWarning': <type 'exceptions.UnicodeWarning'>, 'execfile': <built-in function execfile>, 'any': <built-in function any>, 'complex': <type 'complex'>, 'bool': <type 'bool'>, 'get_ipython': <bound method ZMQInteractiveShell.get_ipython of <IPython.kernel.zmq.zmqshell.ZMQInteractiveShell object at 0x102dde850>>, 'ValueError': <type 'exceptions.ValueError'>, 'NotImplemented': NotImplemented, 'map': <built-in function map>, 'buffer': <type 'buffer'>, 'max': <built-in function max>, 'object': <type 'object'>, 'TabError': <type 'exceptions.TabError'>, 'callable': <built-in function callable>, 'ZeroDivisionError': <type 'exceptions.ZeroDivisionError'>, 'eval': <built-in function eval>, '__debug__': True, 'IndentationError': <type 'exceptions.IndentationError'>, 'AssertionError': <type 'exceptions.AssertionError'>, 'classmethod': <type 'classmethod'>, 'UnboundLocalError': <type 'exceptions.UnboundLocalError'>, 'NotImplementedError': <type 'exceptions.NotImplementedError'>, 'AttributeError': <type 'exceptions.AttributeError'>, 'OverflowError': <type 'exceptions.OverflowError'>}, 'cumproduct': <function cumproduct at 0x10a6c38c0>, 'diagonal': <function diagonal at 0x10a6c3230>, 'atleast_1d': <function atleast_1d at 0x10a6e3578>, 'meshgrid': <function meshgrid at 0x10a7655f0>, 'column_stack': <function column_stack at 0x10a76f230>, 'put': <function put at 0x10496ac08>, 'byte': <type 'numpy.int8'>, 'remainder': <ufunc 'remainder'>, 'row_stack': <function vstack at 0x10a6e3b18>, 'expm1': <ufunc 'expm1'>, 'nper': <function nper at 0x10a7ab9b0>, 'ndfromtxt': <function ndfromtxt at 0x10a7ab2a8>, 'place': <function place at 0x10a764a28>, 'DataSource': <class 'numpy.lib._datasource.DataSource'>, 'newaxis': None, 'arccos': <ufunc 'arccos'>, 'signedinteger': <type 'numpy.signedinteger'>, 'ndim': <function ndim at 0x10a6c3c08>, 'rint': <ufunc 'rint'>, 'variables': {'Y': [y_0], 'theta': [nu, t_scale2], 'cache': [cache0, cache1, cache2, cache3, cache4, cache5, cache6, cache7, cache8, cache9, cache10, cache11], 'sub': [sub0, sub1, sub2, sub3, sub4, sub5], 'F': [f_0]}, 'number': <type 'numpy.number'>, 'arctan2': <ufunc 'arctan2'>, 'little_endian': True, 'ldexp': <ufunc 'ldexp'>, 'lookfor': <function lookfor at 0x10a757b18>, 'normcdfln': <function normcdfln at 0x10e1e0aa0>, 'array': <built-in function array>, 'vsplit': <function vsplit at 0x10a76f500>, '_fixes_': None, 'common_type': <function common_type at 0x10a7400c8>, 'size': 2, 'logical_xor': <ufunc 'logical_xor'>, 'geterrcall': <function geterrcall at 0x10a6c6758>, 'logisticln': <function logisticln at 0x10e1e0938>, 'sometrue': <function sometrue at 0x10a6c3668>, 'exp2': <ufunc 'exp2'>, 'bool8': <type 'numpy.bool_'>, 'msort': <function msort at 0x10a765320>, 'alltrue': <function alltrue at 0x10a6c36e0>, 'zeros': <built-in function zeros>, '_Parameterizable__visited': False, 'False_': False, '__NUMPY_SETUP__': False, 'ceiling': <ufunc 'ceil'>, 'nansum': <function nansum at 0x10a76ac80>, 'bool_': <type 'numpy.bool_'>, 'inexact': <type 'numpy.inexact'>, 'broadcast': <type 'numpy.broadcast'>, 'copyto': <built-in function copyto>, 'short': <type 'numpy.int16'>, 'arctanh': <ufunc 'arctanh'>, 'typecodes': {'All': '?bhilqpBHILQPefdgFDGSUVOMm', 'Complex': 'FDG', 'AllFloat': 'efdgFDG', 'Integer': 'bhilqp', 'UnsignedInteger': 'BHILQP', 'Float': 'efdg', 'Character': 'c', 'Datetime': 'Mm', 'AllInteger': 'bBhHiIlLqQpP'}, 'rot90': <function rot90 at 0x10a740b18>, 'savetxt': <function savetxt at 0x10a7ab140>, 'sign': <ufunc 'sign'>, 'ubyte': <type 'numpy.uint8'>, 'std': <function std at 0x10a6c3ed8>, 'not_equal': <ufunc 'not_equal'>, 'fromfunction': <function fromfunction at 0x10a6c4f50>, 'tril_indices_from': <function tril_indices_from at 0x10a7570c8>, '__config__': <module 'numpy.__config__' from '/Users/neil/Library/Enthought/Canopy_64bit/User/lib/python2.7/site-packages/numpy/__config__.pyc'>, 'double': <type 'numpy.float64'>, 'require': <function require at 0x104961aa0>, 'rate': <function rate at 0x10a7abc80>, 'typeNA': {<type 'numpy.timedelta64'>: 'Timedelta64', <type 'numpy.bool_'>: 'Bool', <type 'numpy.complex64'>: 'Complex32', 'Int32': <type 'numpy.int32'>, 'Complex64': <type 'numpy.complex128'>, <type 'numpy.string_'>: 'String0', <type 'numpy.complex128'>: 'Complex64', 'c16': 'Complex64', 'D': 'Complex64', 'H': 'UInt16', <type 'numpy.unicode_'>: 'Unicode0', 'L': 'UInt64', <type 'numpy.complex256'>: 'Complex128', 'd': 'Float64', <type 'numpy.void'>: 'Void0', 'h': 'Int16', 'l': 'Int64', 'c32': 'Complex128', <type 'numpy.int8'>: 'Int8', 'Timedelta64': <type 'numpy.timedelta64'>, 'b1': 'Bool', <type 'numpy.int16'>: 'Int16', 'M8': 'Datetime64', 'String0': <type 'numpy.string_'>, 'I': 'UInt32', <type 'numpy.int32'>: 'Int32', '?': 'Bool', 'Void0': <type 'numpy.void'>, 'G': 'Complex128', 'O': 'Object0', 'UInt8': <type 'numpy.uint8'>, 'S': 'String0', <type 'numpy.int64'>: 'Int64', 'UInt64': <type 'numpy.uint64'>, 'g': 'Float128', <type 'numpy.int64'>: 'Int64', 'Float16': <type 'numpy.float16'>, <type 'numpy.uint8'>: 'UInt8', 'Bool': <type 'numpy.bool_'>, 'f4': 'Float32', <type 'numpy.uint16'>: 'UInt16', 'u8': <type 'numpy.uint64'>, 'u4': <type 'numpy.uint32'>, 'Unicode0': <type 'numpy.unicode_'>, 'u1': <type 'numpy.uint8'>, 'u2': <type 'numpy.uint16'>, <type 'numpy.uint32'>: 'UInt32', 'Datetime64': <type 'numpy.datetime64'>, 'Int8': <type 'numpy.int8'>, 'B': 'UInt8', 'F': 'Complex32', <type 'numpy.uint64'>: 'UInt64', 'c8': 'Complex32', 'Int64': <type 'numpy.int64'>, 'Complex32': <type 'numpy.complex64'>, 'V': 'Void0', 'b': 'Int8', 'f': 'Float32', <type 'numpy.uint64'>: 'UInt64', 'm8': 'Timedelta64', 'f16': 'Float128', 'UInt32': <type 'numpy.uint32'>, 'f2': 'Float16', <type 'numpy.float16'>: 'Float16', 'f8': 'Float64', <type 'numpy.datetime64'>: 'Datetime64', 'Complex128': <type 'numpy.complex256'>, <type 'numpy.float32'>: 'Float32', 'Object0': <type 'numpy.object_'>, 'Int16': <type 'numpy.int16'>, 'Float64': <type 'numpy.float64'>, 'UInt16': <type 'numpy.uint16'>, 'Float32': <type 'numpy.float32'>, <type 'numpy.float64'>: 'Float64', 'i8': <type 'numpy.int64'>, 'i1': <type 'numpy.int8'>, 'i2': <type 'numpy.int16'>, 'M': 'Datetime64', 'i4': <type 'numpy.int32'>, 'Q': 'UInt64', <type 'numpy.float128'>: 'Float128', 'U': 'Unicode0', 'e': 'Float16', 'i': 'Int32', 'm': 'Timedelta64', 'q': 'Int64', 'Float128': <type 'numpy.float128'>, <type 'numpy.object_'>: 'Object0'}, 'str': <type 'str'>, 'getbuffer': <built-in function getbuffer>, 'abs': <ufunc 'absolute'>, 'clip': <function clip at 0x10a6c3500>, 'savez_compressed': <function savez_compressed at 0x10a7aae60>, 'frompyfunc': <built-in function frompyfunc>, 'triu_indices_from': <function triu_indices_from at 0x10a7571b8>, 'conjugate': <ufunc 'conjugate'>, 'alterdot': <built-in function alterdot>, 'asfortranarray': <function asfortranarray at 0x104961a28>, 'binary_repr': <function binary_repr at 0x10a6c60c8>, 'angle': <function angle at 0x10a7646e0>, 'sub0': -0.5, 'lib': <module 'numpy.lib' from '/Users/neil/Library/Enthought/Canopy_64bit/User/lib/python2.7/site-packages/numpy/lib/__init__.pyc'>, 'min': <function amin at 0x10a6c3a28>, 'unwrap': <function unwrap at 0x10a764758>, 'apply_over_axes': <function apply_over_axes at 0x10a76f140>, 'ERR_LOG': 5, 'right_shift': <ufunc 'right_shift'>, 'take': <function take at 0x10496aa28>, 'get_numarray_include': <function get_numarray_include at 0x10a757578>, 'trace': <function trace at 0x10a6c32a8>, 'warnings': <module 'warnings' from '/Applications/Canopy.app/appdata/canopy-1.3.0.1715.macosx-x86_64/Canopy.app/Contents/lib/python2.7/warnings.pyc'>, 'any': <function any at 0x10a6c3758>, 'who': <function who at 0x10a7578c0>, 'compress': <function compress at 0x10a6c3488>, 'histogramdd': <function histogramdd at 0x10a7642a8>, 'multiply': <ufunc 'multiply'>, 'mask_indices': <function mask_indices at 0x10a740f50>, 'amax': <function amax at 0x10a6c39b0>, 'logical_not': <ufunc 'logical_not'>, 'average': <function average at 0x10a764320>, 'partition': <function partition at 0x10496ad70>, 'polygamma': <function polygamma at 0x10d0a1c80>, 'nbytes': {<type 'numpy.int8'>: 1, <type 'numpy.uint8'>: 1, <type 'numpy.float16'>: 2, <type 'numpy.timedelta64'>: 8, <type 'numpy.bool_'>: 1, <type 'numpy.int16'>: 2, <type 'numpy.uint16'>: 2, <type 'numpy.float32'>: 4, <type 'numpy.complex64'>: 8, <type 'numpy.string_'>: 0, <type 'numpy.int32'>: 4, <type 'numpy.uint32'>: 4, <type 'numpy.float64'>: 8, <type 'numpy.complex128'>: 16, <type 'numpy.unicode_'>: 0, <type 'numpy.int64'>: 8, <type 'numpy.uint64'>: 8, <type 'numpy.float128'>: 16, <type 'numpy.complex256'>: 32, <type 'numpy.void'>: 0, <type 'numpy.int64'>: 8, <type 'numpy.uint64'>: 8, <type 'numpy.datetime64'>: 8, <type 'numpy.object_'>: 8}, 'exp': <ufunc 'exp'>, 'use_fastnumpy': False, 'dot': <built-in function dot>, 'maximum_sctype': <function maximum_sctype at 0x104957ed8>, '_added_names_': set(['nu', 't_scale2']), 'longfloat': <type 'numpy.float128'>, 'random': <module 'numpy.random' from '/Users/neil/Library/Enthought/Canopy_64bit/User/lib/python2.7/site-packages/numpy/random/__init__.pyc'>, 'copy': <function copy at 0x10a764500>, 'parameters': [\u001b[1mgp.SstudentT.nu\u001b[0;0m:\n",
        "Param([ 5.]), \u001b[1mgp.SstudentT.t_scale2\u001b[0;0m:\n",
        "Param([ 1.])], 'FPE_UNDERFLOW': 4, 'frexp': <ufunc 'frexp'>, 'errstate': <class 'numpy.core.numeric.errstate'>, 'nanmin': <function nanmin at 0x10a76aaa0>, 'swapaxes': <function swapaxes at 0x10496ac80>, 'SHIFT_OVERFLOW': 3, 'complex256': <type 'numpy.complex256'>, 'fft': <module 'numpy.fft' from '/Users/neil/Library/Enthought/Canopy_64bit/User/lib/python2.7/site-packages/numpy/fft/__init__.pyc'>, 'ModuleDeprecationWarning': <class 'numpy.ModuleDeprecationWarning'>, 'digitize': <built-in function digitize>, '__file__': '/Users/neil/Library/Enthought/Canopy_64bit/User/lib/python2.7/site-packages/numpy/__init__.pyc', 'NZERO': -0.0, 'ceil': <ufunc 'ceil'>, 'ones': <function ones at 0x104961668>, 'add_newdoc_ufunc': <built-in function add_newdoc_ufunc>, 'deprecate': <function deprecate at 0x10a757668>, 'median': <function median at 0x10a765398>, 'geterr': <function geterr at 0x10a6c6578>, 'convolve': <function convolve at 0x104961d70>, '_param_array_': None, 'logistic': <function logistic at 0x10e1e09b0>, 'isreal': <function isreal at 0x10a73fc80>, 'where': <built-in function where>, 'isfinite': <ufunc 'isfinite'>, 'SHIFT_UNDERFLOW': 6, 'MachAr': <class 'numpy.core.machar.MachAr'>, 'argmax': <function argmax at 0x10496af50>, 'testing': <module 'numpy.testing' from '/Users/neil/Library/Enthought/Canopy_64bit/User/lib/python2.7/site-packages/numpy/testing/__init__.pyc'>, 'deprecate_with_doc': <function <lambda> at 0x10a7577d0>, 'full': <function full at 0x104961758>, 'polyder': <function polyder at 0x10a788758>, 'arg': <function angle at 0x10a7646e0>, 'rad2deg': <ufunc 'rad2deg'>, 'isnan': <ufunc 'isnan'>, '__all__': ['add_newdocs', 'ModuleDeprecationWarning', '__version__', 'pkgload', 'PackageLoader', 'show_config', 'char', 'rec', 'memmap', 'newaxis', 'ndarray', 'flatiter', 'nditer', 'nested_iters', 'ufunc', 'arange', 'array', 'zeros', 'count_nonzero', 'empty', 'broadcast', 'dtype', 'fromstring', 'fromfile', 'frombuffer', 'int_asbuffer', 'where', 'argwhere', 'copyto', 'concatenate', 'fastCopyAndTranspose', 'lexsort', 'set_numeric_ops', 'can_cast', 'promote_types', 'min_scalar_type', 'result_type', 'asarray', 'asanyarray', 'ascontiguousarray', 'asfortranarray', 'isfortran', 'empty_like', 'zeros_like', 'ones_like', 'correlate', 'convolve', 'inner', 'dot', 'einsum', 'outer', 'vdot', 'alterdot', 'restoredot', 'roll', 'rollaxis', 'cross', 'tensordot', 'array2string', 'get_printoptions', 'set_printoptions', 'array_repr', 'array_str', 'set_string_function', 'little_endian', 'require', 'fromiter', 'array_equal', 'array_equiv', 'indices', 'fromfunction', 'isclose', 'load', 'loads', 'isscalar', 'binary_repr', 'base_repr', 'ones', 'identity', 'allclose', 'compare_chararrays', 'putmask', 'seterr', 'geterr', 'setbufsize', 'getbufsize', 'seterrcall', 'geterrcall', 'errstate', 'flatnonzero', 'Inf', 'inf', 'infty', 'Infinity', 'nan', 'NaN', 'False_', 'True_', 'bitwise_not', 'CLIP', 'RAISE', 'WRAP', 'MAXDIMS', 'BUFSIZE', 'ALLOW_THREADS', 'ComplexWarning', 'may_share_memory', 'full', 'full_like', 'getbuffer', 'newbuffer', 'less', 'ERR_CALL', 'UFUNC_BUFSIZE_DEFAULT', 'NAN', 'arctan', 'divide', 'FPE_UNDERFLOW', 'frexp', 'add', 'degrees', 'FPE_INVALID', 'ERR_DEFAULT', 'SHIFT_OVERFLOW', 'FLOATING_POINT_SUPPORT', 'logaddexp2', 'greater', 'ERR_PRINT', 'NZERO', 'ceil', 'mod', 'PZERO', 'radians', 'modf', 'isfinite', 'square', 'SHIFT_UNDERFLOW', 'cosh', 'hypot', 'logical_and', 'rad2deg', 'isnan', 'ERR_WARN', 'NINF', 'ERR_RAISE', 'deg2rad', 'ERR_DEFAULT2', 'log2', 'seterrobj', 'power', 'fmax', 'copysign', 'spacing', 'fmod', 'FPE_DIVIDEBYZERO', 'subtract', 'trunc', 'frompyfunc', 'expm1', 'arccosh', 'equal', 'fmin', 'exp2', 'less_equal', 'geterrobj', 'arcsinh', 'rint', 'arctan2', 'ldexp', 'bitwise_or', 'UFUNC_PYVALS_NAME', 'bitwise_and', 'logical_xor', 'log', 'remainder', 'invert', 'negative', 'SHIFT_INVALID', 'pi', 'log10', 'arcsin', 'cos', 'SHIFT_DIVIDEBYZERO', 'arctanh', 'e', 'sign', 'not_equal', 'reciprocal', 'tanh', 'true_divide', 'maximum', 'minimum', 'FPE_OVERFLOW', 'euler_gamma', 'log1p', 'logical_or', 'signbit', 'conjugate', 'tan', 'conj', 'absolute', 'bitwise_xor', 'fabs', 'floor', 'ERR_IGNORE', 'sqrt', 'ERR_LOG', 'right_shift', 'floor_divide', 'sin', 'nextafter', 'arccos', 'isinf', 'multiply', 'logaddexp', 'sinh', 'logical_not', 'greater_equal', 'left_shift', 'PINF', 'exp', 'sctypeDict', 'sctypeNA', 'typeDict', 'typeNA', 'sctypes', 'ScalarType', 'obj2sctype', 'cast', 'nbytes', 'sctype2char', 'maximum_sctype', 'issctype', 'typecodes', 'find_common_type', 'issubdtype', 'datetime_data', 'datetime_as_string', 'busday_offset', 'busday_count', 'is_busday', 'busdaycalendar', 'complex_', 'clongfloat', 'uintp', 'intc', 'int32', 'unsignedinteger', 'longdouble', 'bool8', 'number', 'object0', 'single', 'complex64', 'intp', 'complexfloating', 'float128', 'floating', 'int16', 'cfloat', 'uint0', 'float16', 'uintc', 'ulonglong', 'longcomplex', 'generic', 'datetime64', 'int_', 'cdouble', 'character', 'complex128', 'csingle', 'uint16', 'flexible', 'ubyte', 'longfloat', 'uint32', 'string0', 'unicode_', 'longlong', 'complex256', 'str_', 'void', 'inexact', 'uint8', 'string_', 'unicode0', 'uint', 'int0', 'half', 'integer', 'byte', 'int8', 'void0', 'uint64', 'short', 'bool_', 'float64', 'timedelta64', 'double', 'ushort', 'float32', 'float_', 'int64', 'clongdouble', 'singlecomplex', 'signedinteger', 'bytes_', 'object_', 'alen', 'all', 'alltrue', 'amax', 'amin', 'any', 'argmax', 'argmin', 'argpartition', 'argsort', 'around', 'choose', 'clip', 'compress', 'cumprod', 'cumproduct', 'cumsum', 'diagonal', 'mean', 'ndim', 'nonzero', 'partition', 'prod', 'product', 'ptp', 'put', 'rank', 'ravel', 'repeat', 'reshape', 'resize', 'round_', 'searchsorted', 'shape', 'size', 'sometrue', 'sort', 'squeeze', 'std', 'sum', 'swapaxes', 'take', 'trace', 'transpose', 'var', 'alen', 'all', 'alltrue', 'amax', 'amin', 'any', 'argmax', 'argmin', 'argpartition', 'argsort', 'around', 'choose', 'clip', 'compress', 'cumprod', 'cumproduct', 'cumsum', 'diagonal', 'mean', 'ndim', 'nonzero', 'partition', 'prod', 'product', 'ptp', 'put', 'rank', 'ravel', 'repeat', 'reshape', 'resize', 'round_', 'searchsorted', 'shape', 'size', 'sometrue', 'sort', 'squeeze', 'std', 'sum', 'swapaxes', 'take', 'trace', 'transpose', 'var', 'record', 'recarray', 'format_parser', 'chararray', 'logspace', 'linspace', 'MachAr', 'finfo', 'iinfo', 'atleast_1d', 'atleast_2d', 'atleast_3d', 'vstack', 'hstack', 'matrix', 'bmat', 'mat', 'asmatrix', 'emath', 'math', 'iscomplexobj', 'isrealobj', 'imag', 'iscomplex', 'isreal', 'nan_to_num', 'real', 'real_if_close', 'typename', 'asfarray', 'mintypecode', 'asscalar', 'common_type', 'ravel_multi_index', 'unravel_index', 'mgrid', 'ogrid', 'r_', 'c_', 's_', 'index_exp', 'ix_', 'ndenumerate', 'ndindex', 'fill_diagonal', 'diag_indices', 'diag_indices_from', 'select', 'piecewise', 'trim_zeros', 'copy', 'iterable', 'percentile', 'diff', 'gradient', 'angle', 'unwrap', 'sort_complex', 'disp', 'extract', 'place', 'vectorize', 'asarray_chkfinite', 'average', 'histogram', 'histogramdd', 'bincount', 'digitize', 'cov', 'corrcoef', 'msort', 'median', 'sinc', 'hamming', 'hanning', 'bartlett', 'blackman', 'kaiser', 'trapz', 'i0', 'add_newdoc', 'add_docstring', 'meshgrid', 'delete', 'insert', 'append', 'interp', 'add_newdoc_ufunc', 'column_stack', 'row_stack', 'dstack', 'array_split', 'split', 'hsplit', 'vsplit', 'dsplit', 'apply_over_axes', 'expand_dims', 'apply_along_axis', 'kron', 'tile', 'get_array_wrap', 'broadcast_arrays', 'diag', 'diagflat', 'eye', 'fliplr', 'flipud', 'rot90', 'tri', 'triu', 'tril', 'vander', 'histogram2d', 'mask_indices', 'tril_indices', 'tril_indices_from', 'triu_indices', 'triu_indices_from', 'fix', 'isneginf', 'isposinf', 'pad', 'poly', 'roots', 'polyint', 'polyder', 'polyadd', 'polysub', 'polymul', 'polydiv', 'polyval', 'poly1d', 'polyfit', 'RankWarning', 'issubclass_', 'issubsctype', 'issubdtype', 'deprecate', 'deprecate_with_doc', 'get_numarray_include', 'get_include', 'info', 'source', 'who', 'lookfor', 'byte_bounds', 'safe_eval', 'ediff1d', 'intersect1d', 'setxor1d', 'union1d', 'setdiff1d', 'unique', 'in1d', 'savetxt', 'loadtxt', 'genfromtxt', 'ndfromtxt', 'mafromtxt', 'recfromtxt', 'recfromcsv', 'load', 'loads', 'save', 'savez', 'savez_compressed', 'packbits', 'unpackbits', 'fromregex', 'DataSource', 'fv', 'pmt', 'nper', 'ipmt', 'ppmt', 'pv', 'rate', 'irr', 'npv', 'mirr', 'nansum', 'nanmax', 'nanmin', 'nanargmax', 'nanargmin', 'nanmean', 'nanvar', 'nanstd', 'linalg', 'fft', 'random', 'ctypeslib', 'ma'], 'irr': <function irr at 0x10a7abcf8>, 'sctypeDict': {0: <type 'numpy.bool_'>, 1: <type 'numpy.int8'>, 2: <type 'numpy.uint8'>, 3: <type 'numpy.int16'>, 4: <type 'numpy.uint16'>, 5: <type 'numpy.int32'>, 6: <type 'numpy.uint32'>, 7: <type 'numpy.int64'>, 8: <type 'numpy.uint64'>, 9: <type 'numpy.int64'>, 10: <type 'numpy.uint64'>, 11: <type 'numpy.float32'>, 12: <type 'numpy.float64'>, 13: <type 'numpy.float128'>, 14: <type 'numpy.complex64'>, 15: <type 'numpy.complex128'>, 16: <type 'numpy.complex256'>, 17: <type 'numpy.object_'>, 18: <type 'numpy.string_'>, 19: <type 'numpy.unicode_'>, 20: <type 'numpy.void'>, 21: <type 'numpy.datetime64'>, 'unicode': <type 'numpy.unicode_'>, 23: <type 'numpy.float16'>, 'cfloat': <type 'numpy.complex128'>, 'longfloat': <type 'numpy.float128'>, 'Int32': <type 'numpy.int32'>, 'Complex64': <type 'numpy.complex128'>, 'unicode_': <type 'numpy.unicode_'>, 'complex': <type 'numpy.complex128'>, 'timedelta64': <type 'numpy.timedelta64'>, 'uint16': <type 'numpy.uint16'>, 'c16': <type 'numpy.complex128'>, 'float32': <type 'numpy.float32'>, 'complex256': <type 'numpy.complex256'>, 'D': <type 'numpy.complex128'>, 'H': <type 'numpy.uint16'>, 'void': <type 'numpy.void'>, 'unicode0': <type 'numpy.unicode_'>, 'L': <type 'numpy.uint64'>, 'P': <type 'numpy.uint64'>, 'half': <type 'numpy.float16'>, 'void0': <type 'numpy.void'>, 'd': <type 'numpy.float64'>, 'h': <type 'numpy.int16'>, 'l': <type 'numpy.int64'>, 'p': <type 'numpy.int64'>, 'c32': <type 'numpy.complex256'>, 22: <type 'numpy.timedelta64'>, 'O8': <type 'numpy.object_'>, 'Timedelta64': <type 'numpy.timedelta64'>, 'object0': <type 'numpy.object_'>, 'b1': <type 'numpy.bool_'>, 'float128': <type 'numpy.float128'>, 'M8': <type 'numpy.datetime64'>, 'String0': <type 'numpy.string_'>, 'float16': <type 'numpy.float16'>, 'ulonglong': <type 'numpy.uint64'>, 'i1': <type 'numpy.int8'>, 'uint32': <type 'numpy.uint32'>, '?': <type 'numpy.bool_'>, 'Void0': <type 'numpy.void'>, 'complex64': <type 'numpy.complex64'>, 'G': <type 'numpy.complex256'>, 'O': <type 'numpy.object_'>, 'UInt8': <type 'numpy.uint8'>, 'S': <type 'numpy.string_'>, 'byte': <type 'numpy.int8'>, 'UInt64': <type 'numpy.uint64'>, 'g': <type 'numpy.float128'>, 'float64': <type 'numpy.float64'>, 'ushort': <type 'numpy.uint16'>, 'float_': <type 'numpy.float64'>, 'uint': <type 'numpy.uint64'>, 'object_': <type 'numpy.object_'>, 'Float16': <type 'numpy.float16'>, 'complex_': <type 'numpy.complex128'>, 'Unicode0': <type 'numpy.unicode_'>, 'uintp': <type 'numpy.uint64'>, 'intc': <type 'numpy.int32'>, 'csingle': <type 'numpy.complex64'>, 'datetime64': <type 'numpy.datetime64'>, 'float': <type 'numpy.float64'>, 'bool8': <type 'numpy.bool_'>, 'Bool': <type 'numpy.bool_'>, 'intp': <type 'numpy.int64'>, 'uintc': <type 'numpy.uint32'>, 'bytes_': <type 'numpy.string_'>, 'u8': <type 'numpy.uint64'>, 'u4': <type 'numpy.uint32'>, 'int_': <type 'numpy.int64'>, 'cdouble': <type 'numpy.complex128'>, 'u1': <type 'numpy.uint8'>, 'complex128': <type 'numpy.complex128'>, 'u2': <type 'numpy.uint16'>, 'f8': <type 'numpy.float64'>, 'Datetime64': <type 'numpy.datetime64'>, 'ubyte': <type 'numpy.uint8'>, 'm8': <type 'numpy.timedelta64'>, 'B': <type 'numpy.uint8'>, 'uint0': <type 'numpy.uint64'>, 'F': <type 'numpy.complex64'>, 'bool_': <type 'numpy.bool_'>, 'uint8': <type 'numpy.uint8'>, 'c8': <type 'numpy.complex64'>, 'Int64': <type 'numpy.int64'>, 'Int8': <type 'numpy.int8'>, 'Complex32': <type 'numpy.complex64'>, 'V': <type 'numpy.void'>, 'int8': <type 'numpy.int8'>, 'uint64': <type 'numpy.uint64'>, 'b': <type 'numpy.int8'>, 'f': <type 'numpy.float32'>, 'double': <type 'numpy.float64'>, 'UInt32': <type 'numpy.uint32'>, 'clongdouble': <type 'numpy.complex256'>, 'str': <type 'numpy.string_'>, 'f16': <type 'numpy.float128'>, 'f2': <type 'numpy.float16'>, 'f4': <type 'numpy.float32'>, 'int32': <type 'numpy.int32'>, 'int': <type 'numpy.int64'>, 'longdouble': <type 'numpy.float128'>, 'Complex128': <type 'numpy.complex256'>, 'single': <type 'numpy.float32'>, 'string': <type 'numpy.string_'>, 'q': <type 'numpy.int64'>, 'Int16': <type 'numpy.int16'>, 'Float64': <type 'numpy.float64'>, 'longcomplex': <type 'numpy.complex256'>, 'UInt16': <type 'numpy.uint16'>, 'bool': <type 'numpy.bool_'>, 'Float32': <type 'numpy.float32'>, 'string0': <type 'numpy.string_'>, 'longlong': <type 'numpy.int64'>, 'i8': <type 'numpy.int64'>, 'int16': <type 'numpy.int16'>, 'str_': <type 'numpy.string_'>, 'I': <type 'numpy.uint32'>, 'object': <type 'numpy.object_'>, 'M': <type 'numpy.datetime64'>, 'i4': <type 'numpy.int32'>, 'singlecomplex': <type 'numpy.complex64'>, 'Q': <type 'numpy.uint64'>, 'string_': <type 'numpy.string_'>, 'U': <type 'numpy.unicode_'>, 'a': <type 'numpy.string_'>, 'short': <type 'numpy.int16'>, 'e': <type 'numpy.float16'>, 'i': <type 'numpy.int32'>, 'clongfloat': <type 'numpy.complex256'>, 'm': <type 'numpy.timedelta64'>, 'Object0': <type 'numpy.object_'>, 'int64': <type 'numpy.int64'>, 'Float128': <type 'numpy.float128'>, 'i2': <type 'numpy.int16'>, 'int0': <type 'numpy.int64'>}, 'erfcx': <ufunc 'erfcx'>, 'NINF': -inf, 'min_scalar_type': <built-in function min_scalar_type>, 'count_nonzero': <built-in function count_nonzero>, 'sort_complex': <function sort_complex at 0x10a7647d0>, 'nested_iters': <built-in function nested_iters>, 'concatenate': <built-in function concatenate>, 'ERR_DEFAULT2': 521, 'vdot': <built-in function vdot>, 'bincount': <built-in function bincount>, 'copysign': <ufunc 'copysign'>, 'sctypes': {'int': [<type 'numpy.int8'>, <type 'numpy.int16'>, <type 'numpy.int32'>, <type 'numpy.int64'>], 'float': [<type 'numpy.float16'>, <type 'numpy.float32'>, <type 'numpy.float64'>, <type 'numpy.float128'>], 'uint': [<type 'numpy.uint8'>, <type 'numpy.uint16'>, <type 'numpy.uint32'>, <type 'numpy.uint64'>], 'complex': [<type 'numpy.complex64'>, <type 'numpy.complex128'>, <type 'numpy.complex256'>], 'others': [<type 'bool'>, <type 'object'>, <type 'str'>, <type 'unicode'>, <type 'numpy.void'>]}, 'transpose': <function transpose at 0x10496acf8>, 'corrcoef': <function corrcoef at 0x10a764d70>, 'fromregex': <function fromregex at 0x10a7ab1b8>, 'vectorize': <class 'numpy.lib.function_base.vectorize'>, 'set_printoptions': <function set_printoptions at 0x10a6c40c8>, 'isrealobj': <function isrealobj at 0x10a73fd70>, 'trim_zeros': <function trim_zeros at 0x10a764848>, 'unravel_index': <built-in function unravel_index>, 'cos': <ufunc 'cos'>, 'float64': <type 'numpy.float64'>, 'normcdf': <function normcdf at 0x10e1e0a28>, 'arccosh': <ufunc 'arccosh'>, 'ushort': <type 'numpy.uint16'>, 'equal': <ufunc 'equal'>, 'cumprod': <function cumprod at 0x10a6c3b90>, 'float_': <type 'numpy.float64'>, 'vander': <function vander at 0x10a740e60>, 'geterrobj': <built-in function geterrobj>, 'load': <function load at 0x10a7aa758>, 'fromiter': <built-in function fromiter>, 'tril': <function tril at 0x10a740d70>, 'issubclass_': <function issubclass_ at 0x104960140>, 'bitwise_or': <ufunc 'bitwise_or'>, 'polynomial': <module 'numpy.polynomial' from '/Users/neil/Library/Enthought/Canopy_64bit/User/lib/python2.7/site-packages/numpy/polynomial/__init__.pyc'>, 'diff': <function diff at 0x10a7645f0>, 'iterable': <function iterable at 0x10a757488>, 'array_split': <function array_split at 0x10a76f398>, 'get_include': <function get_include at 0x10a757500>, 'pv': <function pv at 0x10a7abb90>, 'tensordot': <function tensordot at 0x104961e60>, 'piecewise': <function piecewise at 0x10a764410>, 'invert': <ufunc 'invert'>, 'UFUNC_PYVALS_NAME': 'UFUNC_PYVALS', 'SHIFT_INVALID': 9, 'c_': <numpy.lib.index_tricks.CClass object at 0x10a75ff10>, 'flexible': <type 'numpy.flexible'>, 'pi': 3.141592653589793, '__doc__': '\\nNumPy\\n=====\\n\\nProvides\\n  1. An array object of arbitrary homogeneous items\\n  2. Fast mathematical operations over arrays\\n  3. Linear Algebra, Fourier Transforms, Random Number Generation\\n\\nHow to use the documentation\\n----------------------------\\nDocumentation is available in two forms: docstrings provided\\nwith the code, and a loose standing reference guide, available from\\n`the NumPy homepage <http://www.scipy.org>`_.\\n\\nWe recommend exploring the docstrings using\\n`IPython <http://ipython.scipy.org>`_, an advanced Python shell with\\nTAB-completion and introspection capabilities.  See below for further\\ninstructions.\\n\\nThe docstring examples assume that `numpy` has been imported as `np`::\\n\\n  >>> import numpy as np\\n\\nCode snippets are indicated by three greater-than signs::\\n\\n  >>> x = 42\\n  >>> x = x + 1\\n\\nUse the built-in ``help`` function to view a function\\'s docstring::\\n\\n  >>> help(np.sort)\\n  ... # doctest: +SKIP\\n\\nFor some objects, ``np.info(obj)`` may provide additional help.  This is\\nparticularly true if you see the line \"Help on ufunc object:\" at the top\\nof the help() page.  Ufuncs are implemented in C, not Python, for speed.\\nThe native Python help() does not know how to view their help, but our\\nnp.info() function does.\\n\\nTo search for documents containing a keyword, do::\\n\\n  >>> np.lookfor(\\'keyword\\')\\n  ... # doctest: +SKIP\\n\\nGeneral-purpose documents like a glossary and help on the basic concepts\\nof numpy are available under the ``doc`` sub-module::\\n\\n  >>> from numpy import doc\\n  >>> help(doc)\\n  ... # doctest: +SKIP\\n\\nAvailable subpackages\\n---------------------\\ndoc\\n    Topical documentation on broadcasting, indexing, etc.\\nlib\\n    Basic functions used by several sub-packages.\\nrandom\\n    Core Random Tools\\nlinalg\\n    Core Linear Algebra Tools\\nfft\\n    Core FFT routines\\npolynomial\\n    Polynomial tools\\ntesting\\n    Numpy testing tools\\nf2py\\n    Fortran to Python Interface Generator.\\ndistutils\\n    Enhancements to distutils with support for\\n    Fortran compilers support and more.\\n\\nUtilities\\n---------\\ntest\\n    Run numpy unittests\\nshow_config\\n    Show numpy build configuration\\ndual\\n    Overwrite certain functions with high-performance Scipy tools\\nmatlib\\n    Make everything matrices.\\n__version__\\n    Numpy version string\\n\\nViewing documentation using IPython\\n-----------------------------------\\nStart IPython with the NumPy profile (``ipython -p numpy``), which will\\nimport `numpy` under the alias `np`.  Then, use the ``cpaste`` command to\\npaste examples into the shell.  To see which functions are available in\\n`numpy`, type ``np.<TAB>`` (where ``<TAB>`` refers to the TAB key), or use\\n``np.*cos*?<ENTER>`` (where ``<ENTER>`` refers to the ENTER key) to narrow\\ndown the list.  To view the docstring for a function, use\\n``np.cos?<ENTER>`` (to view the docstring) and ``np.cos??<ENTER>`` (to view\\nthe source code).\\n\\nCopies vs. in-place operation\\n-----------------------------\\nMost of the functions in `numpy` return a copy of the array argument\\n(e.g., `np.sort`).  In-place versions of these functions are often\\navailable as array methods, i.e. ``x = np.array([1,2,3]); x.sort()``.\\nExceptions to this rule are documented.\\n\\n', 'empty': <built-in function empty>, 'find_common_type': <function find_common_type at 0x1049610c8>, 'isposinf': <function isposinf at 0x10a73f938>, 'arcsin': <ufunc 'arcsin'>, 'sctypeNA': {<type 'numpy.timedelta64'>: 'Timedelta64', <type 'numpy.bool_'>: 'Bool', <type 'numpy.complex64'>: 'Complex32', 'Int32': <type 'numpy.int32'>, 'Complex64': <type 'numpy.complex128'>, <type 'numpy.string_'>: 'String0', <type 'numpy.complex128'>: 'Complex64', 'c16': 'Complex64', 'D': 'Complex64', 'H': 'UInt16', <type 'numpy.unicode_'>: 'Unicode0', 'L': 'UInt64', <type 'numpy.complex256'>: 'Complex128', 'd': 'Float64', <type 'numpy.void'>: 'Void0', 'h': 'Int16', 'l': 'Int64', 'c32': 'Complex128', <type 'numpy.int8'>: 'Int8', 'Timedelta64': <type 'numpy.timedelta64'>, 'b1': 'Bool', <type 'numpy.int16'>: 'Int16', 'M8': 'Datetime64', 'String0': <type 'numpy.string_'>, 'I': 'UInt32', <type 'numpy.int32'>: 'Int32', '?': 'Bool', 'Void0': <type 'numpy.void'>, 'G': 'Complex128', 'O': 'Object0', 'UInt8': <type 'numpy.uint8'>, 'S': 'String0', <type 'numpy.int64'>: 'Int64', 'UInt64': <type 'numpy.uint64'>, 'g': 'Float128', <type 'numpy.int64'>: 'Int64', 'Float16': <type 'numpy.float16'>, <type 'numpy.uint8'>: 'UInt8', 'Bool': <type 'numpy.bool_'>, 'f4': 'Float32', <type 'numpy.uint16'>: 'UInt16', 'u8': <type 'numpy.uint64'>, 'u4': <type 'numpy.uint32'>, 'Unicode0': <type 'numpy.unicode_'>, 'u1': <type 'numpy.uint8'>, 'u2': <type 'numpy.uint16'>, <type 'numpy.uint32'>: 'UInt32', 'Datetime64': <type 'numpy.datetime64'>, 'Int8': <type 'numpy.int8'>, 'B': 'UInt8', 'F': 'Complex32', <type 'numpy.uint64'>: 'UInt64', 'c8': 'Complex32', 'Int64': <type 'numpy.int64'>, 'Complex32': <type 'numpy.complex64'>, 'V': 'Void0', 'b': 'Int8', 'f': 'Float32', <type 'numpy.uint64'>: 'UInt64', 'm8': 'Timedelta64', 'f16': 'Float128', 'UInt32': <type 'numpy.uint32'>, 'f2': 'Float16', <type 'numpy.float16'>: 'Float16', 'f8': 'Float64', <type 'numpy.datetime64'>: 'Datetime64', 'Complex128': <type 'numpy.complex256'>, <type 'numpy.float32'>: 'Float32', 'Object0': <type 'numpy.object_'>, 'Int16': <type 'numpy.int16'>, 'Float64': <type 'numpy.float64'>, 'UInt16': <type 'numpy.uint16'>, 'Float32': <type 'numpy.float32'>, <type 'numpy.float64'>: 'Float64', 'i8': <type 'numpy.int64'>, 'i1': <type 'numpy.int8'>, 'i2': <type 'numpy.int16'>, 'M': 'Datetime64', 'i4': <type 'numpy.int32'>, 'Q': 'UInt64', <type 'numpy.float128'>: 'Float128', 'U': 'Unicode0', 'e': 'Float16', 'i': 'Int32', 'm': 'Timedelta64', 'q': 'Int64', 'Float128': <type 'numpy.float128'>, <type 'numpy.object_'>: 'Object0'}, 'imag': <function imag at 0x10a73fb90>, 'sctype2char': <function sctype2char at 0x104960398>, 'singlecomplex': <type 'numpy.complex64'>, 'SHIFT_DIVIDEBYZERO': 0, 'observers': [(-100, <weakref at 0x10fd71c58; to 'SstudentT' at 0x10fd72050>, <bound method SstudentT._parameters_changed_notification of <symbolic.likelihoods.sstudent_t.SstudentT object at 0x10fd72050>>), (-inf, <weakref at 0x110234208; to 'GP' at 0x110230990>, <bound method GP._pass_through_notify_observers of <GPy.core.gp.GP object at 0x110230990>>)], 'matrixlib': <module 'numpy.matrixlib' from '/Users/neil/Library/Enthought/Canopy_64bit/User/lib/python2.7/site-packages/numpy/matrixlib/__init__.pyc'>, 'apply_along_axis': <function apply_along_axis at 0x10a76f0c8>, 'logger': <logging.Logger object at 0x10fd727d0>, 'reciprocal': <ufunc 'reciprocal'>, 'tanh': <ufunc 'tanh'>, 'dstack': <function dstack at 0x10a76f2a8>, 'cov': <function cov at 0x10a764b18>, 'cast': {<type 'numpy.int8'>: <function <lambda> at 0x104960410>, <type 'numpy.uint8'>: <function <lambda> at 0x104960488>, <type 'numpy.float16'>: <function <lambda> at 0x104960500>, <type 'numpy.timedelta64'>: <function <lambda> at 0x104960578>, <type 'numpy.bool_'>: <function <lambda> at 0x1049605f0>, <type 'numpy.int16'>: <function <lambda> at 0x104960668>, <type 'numpy.uint16'>: <function <lambda> at 0x1049606e0>, <type 'numpy.float32'>: <function <lambda> at 0x104960758>, <type 'numpy.complex64'>: <function <lambda> at 0x1049607d0>, <type 'numpy.string_'>: <function <lambda> at 0x104960848>, <type 'numpy.int32'>: <function <lambda> at 0x1049608c0>, <type 'numpy.uint32'>: <function <lambda> at 0x104960938>, <type 'numpy.float64'>: <function <lambda> at 0x1049609b0>, <type 'numpy.complex128'>: <function <lambda> at 0x104960a28>, <type 'numpy.unicode_'>: <function <lambda> at 0x104960aa0>, <type 'numpy.int64'>: <function <lambda> at 0x104960b18>, <type 'numpy.uint64'>: <function <lambda> at 0x104960b90>, <type 'numpy.float128'>: <function <lambda> at 0x104960c08>, <type 'numpy.complex256'>: <function <lambda> at 0x104960c80>, <type 'numpy.void'>: <function <lambda> at 0x104960cf8>, <type 'numpy.int64'>: <function <lambda> at 0x104960d70>, <type 'numpy.uint64'>: <function <lambda> at 0x104960de8>, <type 'numpy.datetime64'>: <function <lambda> at 0x104960e60>, <type 'numpy.object_'>: <function <lambda> at 0x104960ed8>}, 'logspace': <function logspace at 0x10a6e31b8>, 'packbits': <built-in function packbits>, 'issctype': <function issctype at 0x104960050>, 'mgrid': <numpy.lib.index_tricks.nd_grid object at 0x10a75fcd0>, 'atan': <ufunc 'arctan'>, 'longdouble': <type 'numpy.float128'>, 'signbit': <ufunc 'signbit'>, 'im': <function imag at 0x10a73fb90>, 'dual': <module 'numpy.dual' from '/Users/neil/Library/Enthought/Canopy_64bit/User/lib/python2.7/site-packages/numpy/dual.pyc'>, 'conj': <ufunc 'conjugate'>, 'asmatrix': <function asmatrix at 0x10a7659b0>, 'inf': inf, 'flatiter': <type 'numpy.flatiter'>, 'bitwise_xor': <ufunc 'bitwise_xor'>, 'fabs': <ufunc 'fabs'>, 'generic': <type 'numpy.generic'>, 'reshape': <function reshape at 0x10496aaa0>, 'NaN': nan, 'cross': <function cross at 0x10496a0c8>, 'sqrt': <ufunc 'sqrt'>, '__package__': 'numpy', 'longcomplex': <type 'numpy.complex256'>, 'complex': <type 'complex'>, 'pad': <function pad at 0x10a7aff50>, 'split': <function split at 0x10a76f410>, 'floor_divide': <ufunc 'floor_divide'>, '__version__': '1.8.1', 'format_parser': <class numpy.core.records.format_parser at 0x104975c18>, 'nextafter': <ufunc 'nextafter'>, 'polyval': <function polyval at 0x10a788848>, 'infty': inf, 'flipud': <function flipud at 0x10a740aa0>, 'i0': <function i0 at 0x10a7651b8>, 'iscomplexobj': <function iscomplexobj at 0x10a73fcf8>, 'sys': <module 'sys' (built-in)>, 'array2string': <function array2string at 0x10a6c4488>, 'mafromtxt': <function mafromtxt at 0x10a7ab320>, 'bartlett': <function bartlett at 0x10a764e60>, 'polydiv': <function polydiv at 0x10a788a28>, 'MutableDenseMatrix': <class 'numpy.matrixlib.defmatrix.matrix'>, 'identity': <function identity at 0x10a6c62a8>, 'safe_eval': <function safe_eval at 0x10a757c80>, 'greater_equal': <ufunc 'greater_equal'>, 'floor': <ufunc 'floor'>, 'trapz': <function trapz at 0x10a765500>, 'PINF': inf, 'recfromtxt': <function recfromtxt at 0x10a7ab398>, 'add_newdocs': <module 'numpy.add_newdocs' from '/Users/neil/Library/Enthought/Canopy_64bit/User/lib/python2.7/site-packages/numpy/add_newdocs.pyc'>, 'priors': <GPy.core.parameterization.index_operations.ParameterIndexOperations object at 0x10fd724d0>, 'RankWarning': <class 'numpy.lib.polynomial.RankWarning'>, 'ascontiguousarray': <function ascontiguousarray at 0x1049619b0>, 'distutils': <module 'numpy.distutils' from '/Users/neil/Library/Enthought/Canopy_64bit/User/lib/python2.7/site-packages/numpy/distutils/__init__.pyc'>, 'less': <ufunc 'less'>, 'putmask': <built-in function putmask>, 'UFUNC_BUFSIZE_DEFAULT': 8192, 'unicode': <type 'unicode'>, 'half': <type 'numpy.float16'>, 'NAN': nan, 'absolute_import': _Feature((2, 5, 0, 'alpha', 1), (3, 0, 0, 'alpha', 0), 16384), 'typeDict': {0: <type 'numpy.bool_'>, 1: <type 'numpy.int8'>, 2: <type 'numpy.uint8'>, 3: <type 'numpy.int16'>, 4: <type 'numpy.uint16'>, 5: <type 'numpy.int32'>, 6: <type 'numpy.uint32'>, 7: <type 'numpy.int64'>, 8: <type 'numpy.uint64'>, 9: <type 'numpy.int64'>, 10: <type 'numpy.uint64'>, 11: <type 'numpy.float32'>, 12: <type 'numpy.float64'>, 13: <type 'numpy.float128'>, 14: <type 'numpy.complex64'>, 15: <type 'numpy.complex128'>, 16: <type 'numpy.complex256'>, 17: <type 'numpy.object_'>, 18: <type 'numpy.string_'>, 19: <type 'numpy.unicode_'>, 20: <type 'numpy.void'>, 21: <type 'numpy.datetime64'>, 'unicode': <type 'numpy.unicode_'>, 23: <type 'numpy.float16'>, 'cfloat': <type 'numpy.complex128'>, 'longfloat': <type 'numpy.float128'>, 'Int32': <type 'numpy.int32'>, 'Complex64': <type 'numpy.complex128'>, 'unicode_': <type 'numpy.unicode_'>, 'complex': <type 'numpy.complex128'>, 'timedelta64': <type 'numpy.timedelta64'>, 'uint16': <type 'numpy.uint16'>, 'c16': <type 'numpy.complex128'>, 'float32': <type 'numpy.float32'>, 'complex256': <type 'numpy.complex256'>, 'D': <type 'numpy.complex128'>, 'H': <type 'numpy.uint16'>, 'void': <type 'numpy.void'>, 'unicode0': <type 'numpy.unicode_'>, 'L': <type 'numpy.uint64'>, 'P': <type 'numpy.uint64'>, 'half': <type 'numpy.float16'>, 'void0': <type 'numpy.void'>, 'd': <type 'numpy.float64'>, 'h': <type 'numpy.int16'>, 'l': <type 'numpy.int64'>, 'p': <type 'numpy.int64'>, 'c32': <type 'numpy.complex256'>, 22: <type 'numpy.timedelta64'>, 'O8': <type 'numpy.object_'>, 'Timedelta64': <type 'numpy.timedelta64'>, 'object0': <type 'numpy.object_'>, 'b1': <type 'numpy.bool_'>, 'float128': <type 'numpy.float128'>, 'M8': <type 'numpy.datetime64'>, 'String0': <type 'numpy.string_'>, 'float16': <type 'numpy.float16'>, 'ulonglong': <type 'numpy.uint64'>, 'i1': <type 'numpy.int8'>, 'uint32': <type 'numpy.uint32'>, '?': <type 'numpy.bool_'>, 'Void0': <type 'numpy.void'>, 'complex64': <type 'numpy.complex64'>, 'G': <type 'numpy.complex256'>, 'O': <type 'numpy.object_'>, 'UInt8': <type 'numpy.uint8'>, 'S': <type 'numpy.string_'>, 'byte': <type 'numpy.int8'>, 'UInt64': <type 'numpy.uint64'>, 'g': <type 'numpy.float128'>, 'float64': <type 'numpy.float64'>, 'ushort': <type 'numpy.uint16'>, 'float_': <type 'numpy.float64'>, 'uint': <type 'numpy.uint64'>, 'object_': <type 'numpy.object_'>, 'Float16': <type 'numpy.float16'>, 'complex_': <type 'numpy.complex128'>, 'Unicode0': <type 'numpy.unicode_'>, 'uintp': <type 'numpy.uint64'>, 'intc': <type 'numpy.int32'>, 'csingle': <type 'numpy.complex64'>, 'datetime64': <type 'numpy.datetime64'>, 'float': <type 'numpy.float64'>, 'bool8': <type 'numpy.bool_'>, 'Bool': <type 'numpy.bool_'>, 'intp': <type 'numpy.int64'>, 'uintc': <type 'numpy.uint32'>, 'bytes_': <type 'numpy.string_'>, 'u8': <type 'numpy.uint64'>, 'u4': <type 'numpy.uint32'>, 'int_': <type 'numpy.int64'>, 'cdouble': <type 'numpy.complex128'>, 'u1': <type 'numpy.uint8'>, 'complex128': <type 'numpy.complex128'>, 'u2': <type 'numpy.uint16'>, 'f8': <type 'numpy.float64'>, 'Datetime64': <type 'numpy.datetime64'>, 'ubyte': <type 'numpy.uint8'>, 'm8': <type 'numpy.timedelta64'>, 'B': <type 'numpy.uint8'>, 'uint0': <type 'numpy.uint64'>, 'F': <type 'numpy.complex64'>, 'bool_': <type 'numpy.bool_'>, 'uint8': <type 'numpy.uint8'>, 'c8': <type 'numpy.complex64'>, 'Int64': <type 'numpy.int64'>, 'Int8': <type 'numpy.int8'>, 'Complex32': <type 'numpy.complex64'>, 'V': <type 'numpy.void'>, 'int8': <type 'numpy.int8'>, 'uint64': <type 'numpy.uint64'>, 'b': <type 'numpy.int8'>, 'f': <type 'numpy.float32'>, 'double': <type 'numpy.float64'>, 'UInt32': <type 'numpy.uint32'>, 'clongdouble': <type 'numpy.complex256'>, 'str': <type 'numpy.string_'>, 'f16': <type 'numpy.float128'>, 'f2': <type 'numpy.float16'>, 'f4': <type 'numpy.float32'>, 'int32': <type 'numpy.int32'>, 'int': <type 'numpy.int64'>, 'longdouble': <type 'numpy.float128'>, 'Complex128': <type 'numpy.complex256'>, 'single': <type 'numpy.float32'>, 'string': <type 'numpy.string_'>, 'q': <type 'numpy.int64'>, 'Int16': <type 'numpy.int16'>, 'Float64': <type 'numpy.float64'>, 'longcomplex': <type 'numpy.complex256'>, 'UInt16': <type 'numpy.uint16'>, 'bool': <type 'numpy.bool_'>, 'Float32': <type 'numpy.float32'>, 'string0': <type 'numpy.string_'>, 'longlong': <type 'numpy.int64'>, 'i8': <type 'numpy.int64'>, 'int16': <type 'numpy.int16'>, 'str_': <type 'numpy.string_'>, 'I': <type 'numpy.uint32'>, 'object': <type 'numpy.object_'>, 'M': <type 'numpy.datetime64'>, 'i4': <type 'numpy.int32'>, 'singlecomplex': <type 'numpy.complex64'>, 'Q': <type 'numpy.uint64'>, 'string_': <type 'numpy.string_'>, 'U': <type 'numpy.unicode_'>, 'a': <type 'numpy.string_'>, 'short': <type 'numpy.int16'>, 'e': <type 'numpy.float16'>, 'i': <type 'numpy.int32'>, 'clongfloat': <type 'numpy.complex256'>, 'm': <type 'numpy.timedelta64'>, 'Object0': <type 'numpy.object_'>, 'int64': <type 'numpy.int64'>, 'Float128': <type 'numpy.float128'>, 'i2': <type 'numpy.int16'>, 'int0': <type 'numpy.int64'>}, '__path__': ['/Users/neil/Library/Enthought/Canopy_64bit/User/lib/python2.7/site-packages/numpy'], 'shape': <function shape at 0x10a6c3410>, 'setbufsize': <function setbufsize at 0x10a6c65f0>, 'cfloat': <type 'numpy.complex128'>, 'Matrix': <class 'numpy.matrixlib.defmatrix.matrix'>, 'isscalar': <function isscalar at 0x10a6c6050>, 'character': <type 'numpy.character'>, 'bench': <bound method NoseTester.bench of <numpy.testing.nosetester.NoseTester object at 0x102d9c6d0>>, 'source': <function source at 0x10a757aa0>, 'add': <ufunc 'add'>, 'uint16': <type 'numpy.uint16'>, 'gp_link': <GPy.likelihoods.link_functions.Identity object at 0x10fd721d0>, 'bool': <type 'bool'>, 'ufunc': <type 'numpy.ufunc'>, 'save': <function save at 0x10a7aad70>, 'nanvar': <function nanvar at 0x10a76ad70>, 'ravel': <function ravel at 0x10a6c3320>, 'float32': <type 'numpy.float32'>, 'real': <function real at 0x10a73fb18>, 'int32': <type 'numpy.int32'>, 'tril_indices': <function tril_indices at 0x10a757050>, 'around': <function around at 0x10a6c3d70>, 'lexsort': <built-in function lexsort>, 'complex_': <type 'numpy.complex128'>, 'ComplexWarning': <class 'numpy.core.numeric.ComplexWarning'>, 'ipmt': <function ipmt at 0x10a7aba28>, '_import_tools': <module 'numpy._import_tools' from '/Users/neil/Library/Enthought/Canopy_64bit/User/lib/python2.7/site-packages/numpy/_import_tools.pyc'>, 'atleast_3d': <function atleast_3d at 0x10a6e3aa0>, 'isneginf': <function isneginf at 0x10a73f9b0>, 'integer': <type 'numpy.integer'>, 'unique': <function unique at 0x10a789848>, 'mod': <ufunc 'remainder'>, 'insert': <function insert at 0x10a7656e0>, 'bitwise_not': <ufunc 'invert'>, 'getbufsize': <function getbufsize at 0x10a6c6668>, 'array_equiv': <function array_equiv at 0x10a6c6488>, 'arange': <built-in function arange>, 'asarray_chkfinite': <function asarray_chkfinite at 0x10a764398>, 'in1d': <function in1d at 0x10a7899b0>, 'interp': <function interp at 0x10a764668>, 'hypot': <ufunc 'hypot'>, 'logical_and': <ufunc 'logical_and'>, 'get_printoptions': <function get_printoptions at 0x10a6c41b8>, 'diagflat': <function diagflat at 0x10a740c80>, 'float128': <type 'numpy.float128'>, 'byte_bounds': <function byte_bounds at 0x10a757848>, 'iinfo': <class 'numpy.core.getlimits.iinfo'>, 'kaiser': <function kaiser at 0x10a765230>, 'ERR_IGNORE': 0, 'polysub': <function polysub at 0x10a788938>, 'fromfile': <built-in function fromfile>, 'prod': <function prod at 0x10a6c3b18>, 'nanmax': <function nanmax at 0x10a76ab18>, 'gammaln': <ufunc 'gammaln'>, 'core': <module 'numpy.core' from '/Users/neil/Library/Enthought/Canopy_64bit/User/lib/python2.7/site-packages/numpy/core/__init__.pyc'>, 'object': <type 'object'>, 'seterrobj': <built-in function seterrobj>, 'power': <ufunc 'power'>, 'nditer': <type 'numpy.nditer'>, 'percentile': <function percentile at 0x10a765410>, 'FPE_DIVIDEBYZERO': 1, '__name__': 'numpy', 'subtract': <ufunc 'subtract'>, 'print_function': _Feature((2, 6, 0, 'alpha', 2), (3, 0, 0, 'alpha', 0), 65536), '_optimizer_copy_': None, 'oo': inf, 'nanmean': <function nanmean at 0x10a76acf8>, 'frombuffer': <built-in function frombuffer>, 'iscomplex': <function iscomplex at 0x10a73fc08>, 'add_docstring': <built-in function add_docstring>, 'argsort': <function argsort at 0x10496aed8>, '_default_constraint_': None, 'fmin': <ufunc 'fmin'>, 'acos': <ufunc 'arccos'>, 'constraints': <GPy.core.parameterization.index_operations.ParameterIndexOperations object at 0x10fd72490>, 'ones_like': <function ones_like at 0x1049616e0>, 'is_busday': <built-in function is_busday>, 'arcsinh': <ufunc 'arcsinh'>, 'intc': <type 'numpy.int32'>, 'float': <type 'float'>, 'poly': <function poly at 0x10a7885f0>, 'ndenumerate': <class 'numpy.lib.index_tricks.ndenumerate'>, 'intp': <type 'numpy.int64'>, '_optimizer_copy_transformed': False, 'unpackbits': <built-in function unpackbits>, 'Infinity': inf, 'log': <ufunc 'log'>, 'disable_rtld_global': <function disable_rtld_global at 0x10473ec08>, 'cdouble': <type 'numpy.complex128'>, 'complex128': <type 'numpy.complex128'>, 'long': <type 'long'>, 'round_': <function round_ at 0x10a6c3de8>, 'broadcast_arrays': <function broadcast_arrays at 0x10a768b90>, 'inner': <built-in function inner>, 'var': <function var at 0x10a6c3f50>, 'int_': <type 'numpy.int64'>, 'log10': <ufunc 'log10'>, 'uintp': <type 'numpy.uint64'>, 'linalg': <module 'numpy.linalg' from '/Users/neil/Library/Enthought/Canopy_64bit/User/lib/python2.7/site-packages/numpy/linalg/__init__.pyc'>, 'histogram': <function histogram at 0x10a764230>, 'issubdtype': <function issubdtype at 0x104960230>, 'int0': <type 'numpy.int64'>, 'squeeze': <function squeeze at 0x10a6c31b8>, 'int8': <type 'numpy.int8'>, 'info': <function info at 0x10a757a28>, 'seterr': <function seterr at 0x10a6c6500>, 'argmin': <function argmin at 0x10a6c3050>, 'genfromtxt': <function genfromtxt at 0x10a7ab230>, 'maximum': <ufunc 'maximum'>, 'record': <class 'numpy.core.records.record'>, 'obj2sctype': <function obj2sctype at 0x1049600c8>, 'clongdouble': <type 'numpy.complex256'>, 'sum': <function sum at 0x10a6c3578>, 'euler_gamma': 0.5772156649015329, 'log1p': <ufunc 'log1p'>, 'delete': <function delete at 0x10a765668>, 'setxor1d': <function setxor1d at 0x10a789938>, 'int': <type 'int'>, 'ediff1d': <function ediff1d at 0x10a788b18>, 'asinh': <ufunc 'arcsinh'>, 'char': <module 'numpy.core.defchararray' from '/Users/neil/Library/Enthought/Canopy_64bit/User/lib/python2.7/site-packages/numpy/core/defchararray.pyc'>, 'single': <type 'numpy.float32'>, 'loadtxt': <function loadtxt at 0x10a7ab050>, 'hsplit': <function hsplit at 0x10a76f488>, 'ScalarType': (<type 'int'>, <type 'float'>, <type 'complex'>, <type 'long'>, <type 'bool'>, <type 'str'>, <type 'unicode'>, <type 'buffer'>, <type 'numpy.int8'>, <type 'numpy.uint8'>, <type 'numpy.float16'>, <type 'numpy.timedelta64'>, <type 'numpy.bool_'>, <type 'numpy.int16'>, <type 'numpy.uint16'>, <type 'numpy.float32'>, <type 'numpy.complex64'>, <type 'numpy.string_'>, <type 'numpy.int32'>, <type 'numpy.uint32'>, <type 'numpy.float64'>, <type 'numpy.complex128'>, <type 'numpy.unicode_'>, <type 'numpy.int64'>, <type 'numpy.uint64'>, <type 'numpy.float128'>, <type 'numpy.complex256'>, <type 'numpy.void'>, <type 'numpy.int64'>, <type 'numpy.uint64'>, <type 'numpy.datetime64'>, <type 'numpy.object_'>), 'triu': <function triu at 0x10a740de8>, 'floating': <type 'numpy.floating'>, 'cacheable_vars': [f_0, y_0], 'expand_dims': <function expand_dims at 0x10a76f1b8>, 'cacheable': ['F', 'Y'], 'Tester': <class 'numpy.testing.nosetester.NoseTester'>, 'polyadd': <function polyadd at 0x10a7888c0>, 'Max': <function amax at 0x10a6c39b0>, 'nan': nan, 'modf': <ufunc 'modf'>, 'emath': <module 'numpy.lib.scimath' from '/Users/neil/Library/Enthought/Canopy_64bit/User/lib/python2.7/site-packages/numpy/lib/scimath.pyc'>, 'arctan': <ufunc 'arctan'>, 'bmat': <function bmat at 0x10a768a28>, 'isclose': <function isclose at 0x10a6c6398>, 'ERR_DEFAULT': 0, 'test': <bound method NoseTester.test of <numpy.testing.nosetester.NoseTester object at 0x102d9c3d0>>, 'enable_rtld_global': <function enable_rtld_global at 0x10473eb90>, 'roll': <function roll at 0x104961ed8>, 'string0': <type 'numpy.string_'>, 'compare_chararrays': <built-in function compare_chararrays>, 'nonzero': <function nonzero at 0x10a6c3398>, 'real_if_close': <function real_if_close at 0x10a73fed8>, 'repeat': <function repeat at 0x10496ab90>, 'E': 2.718281828459045, 'hamming': <function hamming at 0x10a764f50>, 'ALLOW_THREADS': 1, 'ravel_multi_index': <built-in function ravel_multi_index>, 'string_': <type 'numpy.string_'>, 'isinf': <ufunc 'isinf'>, 'ndarray': <type 'numpy.ndarray'>, 'e': 2.718281828459045, 'ERR_CALL': 3, 'datetime_data': <built-in function datetime_data>, 'expression_list': (-(0.5*nu + 0.5)*log(1 + (-f_0 + y_0)**2/(nu*t_scale2)) - 0.5*log(pi*nu*t_scale2) - gammaln(0.5*nu) + gammaln(0.5*nu + 0.5), -(2*f_0 - 2*y_0)*(0.5*nu + 0.5)/(nu*t_scale2*(1 + (-f_0 + y_0)**2/(nu*t_scale2))), -0.5/t_scale2 + (-f_0 + y_0)**2*(0.5*nu + 0.5)/(nu*t_scale2**2*(1 + (-f_0 + y_0)**2/(nu*t_scale2))), -0.5*log(1 + (-f_0 + y_0)**2/(nu*t_scale2)) - 0.5*polygamma(0, 0.5*nu) + 0.5*polygamma(0, 0.5*nu + 0.5) - 0.5/nu + (-f_0 + y_0)**2*(0.5*nu + 0.5)/(nu**2*t_scale2*(1 + (-f_0 + y_0)**2/(nu*t_scale2))), -2*(0.5*nu + 0.5)/(nu*t_scale2*(1 + (-f_0 + y_0)**2/(nu*t_scale2))) + (2*f_0 - 2*y_0)**2*(0.5*nu + 0.5)/(nu**2*t_scale2**2*(1 + (-f_0 + y_0)**2/(nu*t_scale2))**2), (2*f_0 - 2*y_0)*(0.5*nu + 0.5)/(nu*t_scale2**2*(1 + (-f_0 + y_0)**2/(nu*t_scale2))) - (-f_0 + y_0)**2*(2*f_0 - 2*y_0)*(0.5*nu + 0.5)/(nu**2*t_scale2**3*(1 + (-f_0 + y_0)**2/(nu*t_scale2))**2), -0.5*(2*f_0 - 2*y_0)/(nu*t_scale2*(1 + (-f_0 + y_0)**2/(nu*t_scale2))) + (2*f_0 - 2*y_0)*(0.5*nu + 0.5)/(nu**2*t_scale2*(1 + (-f_0 + y_0)**2/(nu*t_scale2))) - (-f_0 + y_0)**2*(2*f_0 - 2*y_0)*(0.5*nu + 0.5)/(nu**3*t_scale2**2*(1 + (-f_0 + y_0)**2/(nu*t_scale2))**2), 2*(2*f_0 - 2*y_0)*(0.5*nu + 0.5)/(nu**2*t_scale2**2*(1 + (-f_0 + y_0)**2/(nu*t_scale2))**2) + (8*f_0 - 8*y_0)*(0.5*nu + 0.5)/(nu**2*t_scale2**2*(1 + (-f_0 + y_0)**2/(nu*t_scale2))**2) - 2*(2*f_0 - 2*y_0)**3*(0.5*nu + 0.5)/(nu**3*t_scale2**3*(1 + (-f_0 + y_0)**2/(nu*t_scale2))**3), 2*(0.5*nu + 0.5)/(nu*t_scale2**2*(1 + (-f_0 + y_0)**2/(nu*t_scale2))) - 2*(-f_0 + y_0)**2*(0.5*nu + 0.5)/(nu**2*t_scale2**3*(1 + (-f_0 + y_0)**2/(nu*t_scale2))**2) - 2*(2*f_0 - 2*y_0)**2*(0.5*nu + 0.5)/(nu**2*t_scale2**3*(1 + (-f_0 + y_0)**2/(nu*t_scale2))**2) + 2*(-f_0 + y_0)**2*(2*f_0 - 2*y_0)**2*(0.5*nu + 0.5)/(nu**3*t_scale2**4*(1 + (-f_0 + y_0)**2/(nu*t_scale2))**3), -1.0/(nu*t_scale2*(1 + (-f_0 + y_0)**2/(nu*t_scale2))) + 2*(0.5*nu + 0.5)/(nu**2*t_scale2*(1 + (-f_0 + y_0)**2/(nu*t_scale2))) + 0.5*(2*f_0 - 2*y_0)**2/(nu**2*t_scale2**2*(1 + (-f_0 + y_0)**2/(nu*t_scale2))**2) - 2*(-f_0 + y_0)**2*(0.5*nu + 0.5)/(nu**3*t_scale2**2*(1 + (-f_0 + y_0)**2/(nu*t_scale2))**2) - 2*(2*f_0 - 2*y_0)**2*(0.5*nu + 0.5)/(nu**3*t_scale2**2*(1 + (-f_0 + y_0)**2/(nu*t_scale2))**2) + 2*(-f_0 + y_0)**2*(2*f_0 - 2*y_0)**2*(0.5*nu + 0.5)/(nu**4*t_scale2**3*(1 + (-f_0 + y_0)**2/(nu*t_scale2))**3)), 'clongfloat': <type 'numpy.complex256'>, 'full_like': <function full_like at 0x1049617d0>, 'result_type': <built-in function result_type>, 'gradient': <function gradient at 0x10a764578>, 'base_repr': <function base_repr at 0x10a6c6140>, 'argwhere': <function argwhere at 0x104961b90>, 'set_string_function': <function set_string_function at 0x10a6c4e60>}\n"
       ]
      },
      {
       "name": "stdout",
       "output_type": "stream",
       "stream": "stdout",
       "text": [
        "ipdb> var\n"
       ]
      },
      {
       "output_type": "stream",
       "stream": "stdout",
       "text": [
        "'sub1'\n"
       ]
      },
      {
       "name": "stdout",
       "output_type": "stream",
       "stream": "stdout",
       "text": [
        "ipdb> self\n"
       ]
      },
      {
       "output_type": "stream",
       "stream": "stdout",
       "text": [
        "<symbolic.likelihoods.sstudent_t.SstudentT object at 0x10fd72050>\n"
       ]
      },
      {
       "name": "stdout",
       "output_type": "stream",
       "stream": "stdout",
       "text": [
        "ipdb> self.nu\n"
       ]
      },
      {
       "output_type": "stream",
       "stream": "stdout",
       "text": [
        "\u001b[1mgp.SstudentT.nu\u001b[0;0m:\n",
        "Param([ 5.])\n"
       ]
      },
      {
       "name": "stdout",
       "output_type": "stream",
       "stream": "stdout",
       "text": [
        "ipdb> self.SstudentT\n"
       ]
      },
      {
       "output_type": "stream",
       "stream": "stdout",
       "text": [
        "*** AttributeError: 'SstudentT' object has no attribute 'SstudentT'\n"
       ]
      },
      {
       "name": "stdout",
       "output_type": "stream",
       "stream": "stdout",
       "text": [
        "ipdb> self.namespace\n"
       ]
      },
      {
       "output_type": "stream",
       "stream": "stdout",
       "text": [
        "{'disp': <function disp at 0x10a764aa0>, 'union1d': <function union1d at 0x10a789a28>, 'all': <function all at 0x10a6c37d0>, 'code': {'log_pdf': {'function': '(cache3*sub0*sub3 + sub0*log(pi*nu*t_scale2) - gammaln(sub4) + gammaln(-sub0*sub3))', 'derivative': {'f_0': '(1.0*cache0*cache8*sub5/t_scale2)', 'nu': '(cache3*sub0 + cache6*cache8*sub0/t_scale2 + sub0*polygamma(0, sub4) - sub0*polygamma(0, -nu*sub0 - sub0) + sub0/nu)', 't_scale2': '((cache1*cache8*sub0*sub5/t_scale2 + sub0)/t_scale2)'}, 'second_derivative': {'f_0': '(cache9*sub5*(sub0 + cache7/cache2)/t_scale2)', 'nu': '(cache0*cache10*(1.0*cache6*cache8/t_scale2 + sub5 - 1)/nu)', 't_scale2': '(cache5*cache9*sub5*(-sub0 + cache7*sub0/cache2))'}, 'third_derivative': {'f_0': '(4*cache5*sub3*(2.0*cache7*cache8 + 1.5)/(cache4*sub1))', 'nu': '(cache10*(4.0*cache11*sub5/nu**2 + 5.0*cache6*cache8/t_scale2 + sub5 - 1.0 + 2.0*cache7/cache2)/nu)', 't_scale2': '(cache9*sub5*(2.0*cache11/sub1 + 2.5*cache7*cache8 - sub0)/sub2)'}}, 'update_cache': {'cache10': '(1/(cache2*t_scale2))', 'cache11': '(cache0**4/(cache4*sub2))', 'cache8': '(-1/cache2)', 'cache9': '(2/cache2)', 'cache4': '(cache2**2)', 'cache5': '(cache0/sub2)', 'cache6': '(cache1*sub3/sub1)', 'cache7': '(cache1/(nu*t_scale2))', 'cache0': '(f_0 - y_0)', 'cache1': '(cache0**2)', 'cache2': '(cache1/(nu*t_scale2) + 1)', 'cache3': '(log(cache2))'}, 'parameters_changed': {'sub4': '(-nu*sub0)', 'sub5': '(sub3/nu)', 'sub2': '(t_scale2**2)', 'sub3': '(nu + 1)', 'sub0': '(-0.500000000000000)', 'sub1': '(nu**2)'}}, 'issubsctype': <function issubsctype at 0x1049601b8>, 'savez': <function savez at 0x10a7aade8>, 'atleast_2d': <function atleast_2d at 0x10a6e3a28>, 'acosh': <ufunc 'arccosh'>, 'restoredot': <built-in function restoredot>, 'expressions': {'log_pdf': {'function': cache3*sub0*sub3 + sub0*log(pi*nu*t_scale2) - gammaln(sub4) + gammaln(-sub0*sub3), 'derivative': {'f_0': 1.0*cache0*cache8*sub5/t_scale2, 'nu': cache3*sub0 + cache6*cache8*sub0/t_scale2 + sub0*polygamma(0, sub4) - sub0*polygamma(0, -nu*sub0 - sub0) + sub0/nu, 't_scale2': (cache1*cache8*sub0*sub5/t_scale2 + sub0)/t_scale2}, 'second_derivative': {'f_0': cache9*sub5*(sub0 + cache7/cache2)/t_scale2, 'nu': cache0*cache10*(1.0*cache6*cache8/t_scale2 + sub5 - 1)/nu, 't_scale2': cache5*cache9*sub5*(-sub0 + cache7*sub0/cache2)}, 'third_derivative': {'f_0': 4*cache5*sub3*(2.0*cache7*cache8 + 1.5)/(cache4*sub1), 'nu': cache10*(4.0*cache11*sub5/nu**2 + 5.0*cache6*cache8/t_scale2 + sub5 - 1.0 + 2.0*cache7/cache2)/nu, 't_scale2': cache9*sub5*(2.0*cache11/sub1 + 2.5*cache7*cache8 - sub0)/sub2}}, 'update_cache': {'cache10': 1/(cache2*t_scale2), 'cache11': cache0**4/(cache4*sub2), 'cache8': -1/cache2, 'cache9': 2/cache2, 'cache4': cache2**2, 'cache5': cache0/sub2, 'cache6': cache1*sub3/sub1, 'cache7': cache1/(nu*t_scale2), 'cache0': f_0 - y_0, 'cache1': cache0**2, 'cache2': cache1/(nu*t_scale2) + 1, 'cache3': log(cache2)}, 'parameters_changed': {'sub4': -nu*sub0, 'sub5': sub3/nu, 'sub2': t_scale2**2, 'sub3': nu + 1, 'sub0': -0.500000000000000, 'sub1': nu**2}}, 'ptp': <function ptp at 0x10a6c3938>, 'unicode_': <type 'numpy.unicode_'>, 'ix_': <function ix_ at 0x10a768c08>, 'mirr': <function mirr at 0x10a7abde8>, 'blackman': <function blackman at 0x10a764de8>, 'FLOATING_POINT_SUPPORT': 1, 'division': _Feature((2, 2, 0, 'alpha', 2), (3, 0, 0, 'alpha', 0), 8192), 'busdaycalendar': <type 'numpy.busdaycalendar'>, 'pkgload': <function pkgload at 0x1047431b8>, 'void': <type 'numpy.void'>, 'unicode0': <type 'numpy.unicode_'>, 'ERR_RAISE': 2, 'void0': <type 'numpy.void'>, 'tri': <function tri at 0x10a740cf8>, 'diag_indices': <function diag_indices at 0x10a76a758>, 'array_equal': <function array_equal at 0x10a6c6410>, 'True_': True, 'indices': <function indices at 0x10a6c4ed8>, 'loads': <built-in function loads>, 'round': <function round_ at 0x10a6c3de8>, 'set_numeric_ops': <built-in function set_numeric_ops>, 'pmt': <function pmt at 0x10a7ab938>, 'nanstd': <function nanstd at 0x10a76ade8>, '_mat': <module 'numpy.matrixlib' from '/Users/neil/Library/Enthought/Canopy_64bit/User/lib/python2.7/site-packages/numpy/matrixlib/__init__.pyc'>, 'cosh': <ufunc 'cosh'>, 'object0': <type 'numpy.object_'>, 'argpartition': <function argpartition at 0x10496ade8>, 'expression_order': (1, 3, 3, 3, 4, 4, 4, 5, 5, 5), 'FPE_OVERFLOW': 2, 'RAISE': 2, 'index_exp': <numpy.lib.index_tricks.IndexExpression object at 0x10a75ffd0>, 'append': <function append at 0x10a765758>, 'compat': <module 'numpy.compat' from '/Users/neil/Library/Enthought/Canopy_64bit/User/lib/python2.7/site-packages/numpy/compat/__init__.pyc'>, 'asin': <ufunc 'arcsin'>, 'nanargmax': <function nanargmax at 0x10a76ac08>, 'hstack': <function hstack at 0x10a6e3b90>, 'typename': <function typename at 0x10a740050>, 'diag': <function diag at 0x10a740c08>, 'rollaxis': <function rollaxis at 0x104961f50>, 'ERR_WARN': 1, 'polyfit': <function polyfit at 0x10a7887d0>, 'version': <module 'numpy.version' from '/Users/neil/Library/Enthought/Canopy_64bit/User/lib/python2.7/site-packages/numpy/version.pyc'>, 'memmap': <class 'numpy.core.memmap.memmap'>, 'nan_to_num': <function nan_to_num at 0x10a73fe60>, 'complex64': <type 'numpy.complex64'>, 'fmax': <ufunc 'fmax'>, 'spacing': <ufunc 'spacing'>, 'sinh': <ufunc 'sinh'>, '__git_revision__': '62a7575fd82ddf028517780c01fecf7e0cca27aa', 'PackageLoader': <class 'numpy._import_tools.PackageLoader'>, 'sinc': <function sinc at 0x10a7652a8>, 'trunc': <ufunc 'trunc'>, 'vstack': <function vstack at 0x10a6e3b18>, 'ERR_PRINT': 4, 'asscalar': <function asscalar at 0x10a73ff50>, '_name': 'SstudentT', 'less_equal': <ufunc 'less_equal'>, 'BUFSIZE': 8192, 'object_': <type 'numpy.object_'>, 'divide': <ufunc 'divide'>, 'csingle': <type 'numpy.complex64'>, 'dtype': <type 'numpy.dtype'>, 'unsignedinteger': <type 'numpy.unsignedinteger'>, 'fastCopyAndTranspose': <built-in function _fastCopyAndTranspose>, 'missing_data': False, 'bitwise_and': <ufunc 'bitwise_and'>, 'uintc': <type 'numpy.uint32'>, 'select': <function select at 0x10a764488>, 'deg2rad': <ufunc 'deg2rad'>, 'bytes_': <type 'numpy.string_'>, 'eye': <function eye at 0x10a740b90>, 'kron': <function kron at 0x10a76f6e0>, 'newbuffer': <built-in function newbuffer>, 'negative': <ufunc 'negative'>, 'busday_offset': <built-in function busday_offset>, 'mintypecode': <function mintypecode at 0x10a73fa28>, 'MAXDIMS': 32, 'sort': <function sort at 0x10496ae60>, 'einsum': <built-in function einsum>, 'uint0': <type 'numpy.uint64'>, 'zeros_like': <function zeros_like at 0x1049615f0>, 'int_asbuffer': <built-in function int_asbuffer>, 'uint8': <type 'numpy.uint8'>, 'chararray': <class 'numpy.core.defchararray.chararray'>, 'linspace': <function linspace at 0x10a6dc398>, 'resize': <function resize at 0x10a6c3140>, 'uint64': <type 'numpy.uint64'>, 'ma': <module 'numpy.ma' from '/Users/neil/Library/Enthought/Canopy_64bit/User/lib/python2.7/site-packages/numpy/ma/__init__.pyc'>, 'true_divide': <ufunc 'true_divide'>, 'erf': <ufunc 'erf'>, 'minimum': <ufunc 'minimum'>, 'Inf': inf, 'finfo': <class 'numpy.core.getlimits.finfo'>, 'expression_keys': (['log_pdf', 'function'], ['log_pdf', 'derivative', 'f_0'], ['log_pdf', 'derivative', 't_scale2'], ['log_pdf', 'derivative', 'nu'], ['log_pdf', 'second_derivative', 'f_0'], ['log_pdf', 'second_derivative', 't_scale2'], ['log_pdf', 'second_derivative', 'nu'], ['log_pdf', 'third_derivative', 'f_0'], ['log_pdf', 'third_derivative', 't_scale2'], ['log_pdf', 'third_derivative', 'nu']), 'triu_indices': <function triu_indices at 0x10a757140>, 'Min': <function amin at 0x10a6c3a28>, 'add_newdoc': <function add_newdoc at 0x10a765578>, 'seterrcall': <function seterrcall at 0x10a6c66e0>, 'logical_or': <ufunc 'logical_or'>, 'Abs': <ufunc 'absolute'>, 'WRAP': 1, 'tan': <ufunc 'tan'>, 'absolute': <ufunc 'absolute'>, 'array_repr': <function array_repr at 0x10a6c47d0>, 'get_array_wrap': <function get_array_wrap at 0x10a76f668>, 'namespace': {...}, 'polymul': <function polymul at 0x10a7889b0>, '_param_slices_': [], 'tile': <function tile at 0x10a76f758>, 'erfc': <ufunc 'erfc'>, 'array_str': <function array_str at 0x10a6c4de8>, 'setdiff1d': <function setdiff1d at 0x10a789aa0>, 'sin': <ufunc 'sin'>, 'longlong': <type 'numpy.int64'>, 'product': <function product at 0x10a6c35f0>, 'int16': <type 'numpy.int16'>, 'str_': <type 'numpy.string_'>, 'mat': <function asmatrix at 0x10a7659b0>, 'fv': <function fv at 0x10a7ab8c0>, 'ImmutableMatrix': <class 'numpy.matrixlib.defmatrix.matrix'>, 'max': <function amax at 0x10a6c39b0>, 'asanyarray': <function asanyarray at 0x104961938>, 'uint': <type 'numpy.uint64'>, 'npv': <function npv at 0x10a7abd70>, 'logaddexp': <ufunc 'logaddexp'>, 'flatnonzero': <function flatnonzero at 0x104961c08>, 'amin': <function amin at 0x10a6c3a28>, 'I': 1j, 'correlate': <function correlate at 0x104961cf8>, 'fromstring': <built-in function fromstring>, 'left_shift': <ufunc 'left_shift'>, 'searchsorted': <function searchsorted at 0x10a6c30c8>, 'atan2': <ufunc 'arctan2'>, 'log_concave': False, 'int64': <type 'numpy.int64'>, 'gamma': <ufunc 'gamma'>, 'may_share_memory': <built-in function may_share_memory>, 'atanh': <ufunc 'arctanh'>, 'dsplit': <function dsplit at 0x10a76f578>, 'intersect1d': <function intersect1d at 0x10a7898c0>, 'can_cast': <built-in function can_cast>, 'ppmt': <function ppmt at 0x10a7abb18>, 'show_config': <function show at 0x10473ed70>, 'cumsum': <function cumsum at 0x10a6c3848>, 'roots': <function roots at 0x10a788668>, 'outer': <function outer at 0x104961de8>, 'CLIP': 0, 'ln': <ufunc 'log'>, 'fix': <function fix at 0x10a73f8c0>, 'busday_count': <built-in function busday_count>, 'timedelta64': <type 'numpy.timedelta64'>, 'degrees': <ufunc 'degrees'>, 'choose': <function choose at 0x10496ab18>, 'FPE_INVALID': 8, 'recfromcsv': <function recfromcsv at 0x10a7ab410>, 'fill_diagonal': <function fill_diagonal at 0x10a76a1b8>, 'empty_like': <built-in function empty_like>, 'logaddexp2': <ufunc 'logaddexp2'>, 'greater': <ufunc 'greater'>, 'histogram2d': <function histogram2d at 0x10a740ed8>, 'polyint': <function polyint at 0x10a7886e0>, 'rank': <function rank at 0x10a6c3c80>, 'datetime64': <type 'numpy.datetime64'>, 'ep_analytic': False, 'complexfloating': <type 'numpy.complexfloating'>, 'ndindex': <class 'numpy.lib.index_tricks.ndindex'>, 'ctypeslib': <module 'numpy.ctypeslib' from '/Users/neil/Library/Enthought/Canopy_64bit/User/lib/python2.7/site-packages/numpy/ctypeslib.pyc'>, 'PZERO': 0.0, 'isfortran': <function isfortran at 0x104961b18>, 'asfarray': <function asfarray at 0x10a73faa0>, 'radians': <ufunc 'radians'>, 'fliplr': <function fliplr at 0x10a740a28>, 'alen': <function alen at 0x10a6c3aa0>, 'recarray': <class 'numpy.core.records.recarray'>, 'fmod': <ufunc 'fmod'>, 'mean': <function mean at 0x10a6c3e60>, 'square': <ufunc 'square'>, 'ogrid': <numpy.lib.index_tricks.nd_grid object at 0x10a75fdd0>, 'nanargmin': <function nanargmin at 0x10a76ab90>, 'r_': <numpy.lib.index_tricks.RClass object at 0x10a75fe50>, 'diag_indices_from': <function diag_indices_from at 0x10a76a7d0>, 'hanning': <function hanning at 0x10a764ed8>, 's_': <numpy.lib.index_tricks.IndexExpression object at 0x10a76c090>, 'allclose': <function allclose at 0x10a6c6320>, 'extract': <function extract at 0x10a7649b0>, 'float16': <type 'numpy.float16'>, 'ulonglong': <type 'numpy.uint64'>, 'matrix': <class 'numpy.matrixlib.defmatrix.matrix'>, 'asarray': <function asarray at 0x1049618c0>, 'poly1d': <class 'numpy.lib.polynomial.poly1d'>, 're': <function real at 0x10a73fb18>, 'promote_types': <built-in function promote_types>, 'rec': <module 'numpy.core.records' from '/Users/neil/Library/Enthought/Canopy_64bit/User/lib/python2.7/site-packages/numpy/core/records.pyc'>, 'datetime_as_string': <built-in function datetime_as_string>, 'uint32': <type 'numpy.uint32'>, 'math': <module 'math' from '/Applications/Canopy.app/appdata/canopy-1.3.0.1715.macosx-x86_64/Canopy.app/Contents/lib/python2.7/lib-dynload/math.so'>, 'log2': <ufunc 'log2'>, '__builtins__': {'bytearray': <type 'bytearray'>, 'IndexError': <type 'exceptions.IndexError'>, 'all': <built-in function all>, 'help': Type help() for interactive help, or help(object) for help about object., 'vars': <built-in function vars>, 'SyntaxError': <type 'exceptions.SyntaxError'>, '__IPYTHON__active': 'Deprecated, check for __IPYTHON__', 'unicode': <type 'unicode'>, 'UnicodeDecodeError': <type 'exceptions.UnicodeDecodeError'>, 'memoryview': <type 'memoryview'>, 'isinstance': <built-in function isinstance>, 'copyright': Copyright (c) 2001-2013 Python Software Foundation.\n",
        "All Rights Reserved.\n",
        "\n",
        "Copyright (c) 2000 BeOpen.com.\n",
        "All Rights Reserved.\n",
        "\n",
        "Copyright (c) 1995-2001 Corporation for National Research Initiatives.\n",
        "All Rights Reserved.\n",
        "\n",
        "Copyright (c) 1991-1995 Stichting Mathematisch Centrum, Amsterdam.\n",
        "All Rights Reserved., 'NameError': <type 'exceptions.NameError'>, 'BytesWarning': <type 'exceptions.BytesWarning'>, 'dict': <type 'dict'>, 'input': <function <lambda> at 0x110237488>, 'oct': <built-in function oct>, 'bin': <built-in function bin>, 'SystemExit': <type 'exceptions.SystemExit'>, 'StandardError': <type 'exceptions.StandardError'>, 'format': <built-in function format>, 'repr': <built-in function repr>, 'sorted': <built-in function sorted>, 'False': False, 'RuntimeWarning': <type 'exceptions.RuntimeWarning'>, 'list': <type 'list'>, 'iter': <built-in function iter>, 'reload': <built-in function reload>, 'Warning': <type 'exceptions.Warning'>, '__package__': None, 'round': <built-in function round>, 'dir': <built-in function dir>, 'cmp': <built-in function cmp>, 'set': <type 'set'>, 'bytes': <type 'str'>, 'reduce': <built-in function reduce>, 'intern': <built-in function intern>, 'issubclass': <built-in function issubclass>, 'Ellipsis': Ellipsis, 'EOFError': <type 'exceptions.EOFError'>, 'locals': <built-in function locals>, 'BufferError': <type 'exceptions.BufferError'>, 'slice': <type 'slice'>, 'FloatingPointError': <type 'exceptions.FloatingPointError'>, 'sum': <built-in function sum>, 'getattr': <built-in function getattr>, 'abs': <built-in function abs>, 'print': <built-in function print>, 'True': True, 'FutureWarning': <type 'exceptions.FutureWarning'>, 'ImportWarning': <type 'exceptions.ImportWarning'>, 'None': None, 'hash': <built-in function hash>, 'ReferenceError': <type 'exceptions.ReferenceError'>, 'len': <built-in function len>, 'credits':     Thanks to CWI, CNRI, BeOpen.com, Zope Corporation and a cast of thousands\n",
        "    for supporting Python development.  See www.python.org for more information., 'frozenset': <type 'frozenset'>, '__name__': '__builtin__', 'ord': <built-in function ord>, 'super': <type 'super'>, 'TypeError': <type 'exceptions.TypeError'>, 'license': Type license() to see the full license text, 'KeyboardInterrupt': <type 'exceptions.KeyboardInterrupt'>, 'UserWarning': <type 'exceptions.UserWarning'>, 'filter': <built-in function filter>, 'range': <built-in function range>, 'staticmethod': <type 'staticmethod'>, 'SystemError': <type 'exceptions.SystemError'>, 'BaseException': <type 'exceptions.BaseException'>, 'pow': <built-in function pow>, 'RuntimeError': <type 'exceptions.RuntimeError'>, 'float': <type 'float'>, 'MemoryError': <type 'exceptions.MemoryError'>, 'StopIteration': <type 'exceptions.StopIteration'>, 'globals': <built-in function globals>, 'divmod': <built-in function divmod>, 'enumerate': <type 'enumerate'>, 'apply': <built-in function apply>, 'LookupError': <type 'exceptions.LookupError'>, 'open': <built-in function open>, 'basestring': <type 'basestring'>, 'UnicodeError': <type 'exceptions.UnicodeError'>, 'zip': <built-in function zip>, 'hex': <built-in function hex>, 'long': <type 'long'>, 'next': <built-in function next>, 'ImportError': <type 'exceptions.ImportError'>, 'chr': <built-in function chr>, 'xrange': <type 'xrange'>, 'type': <type 'type'>, '__doc__': \"Built-in functions, exceptions, and other objects.\\n\\nNoteworthy: None is the `nil' object; Ellipsis represents `...' in slices.\", 'Exception': <type 'exceptions.Exception'>, '__IPYTHON__': True, 'tuple': <type 'tuple'>, 'UnicodeTranslateError': <type 'exceptions.UnicodeTranslateError'>, 'reversed': <type 'reversed'>, 'UnicodeEncodeError': <type 'exceptions.UnicodeEncodeError'>, 'IOError': <type 'exceptions.IOError'>, 'hasattr': <built-in function hasattr>, 'delattr': <built-in function delattr>, 'setattr': <built-in function setattr>, 'raw_input': <function <lambda> at 0x110237500>, 'SyntaxWarning': <type 'exceptions.SyntaxWarning'>, 'compile': <built-in function compile>, 'ArithmeticError': <type 'exceptions.ArithmeticError'>, 'str': <type 'str'>, 'property': <type 'property'>, 'dreload': <function reload at 0x102de0de8>, 'GeneratorExit': <type 'exceptions.GeneratorExit'>, 'int': <type 'int'>, '__import__': <built-in function __import__>, 'KeyError': <type 'exceptions.KeyError'>, 'coerce': <built-in function coerce>, 'PendingDeprecationWarning': <type 'exceptions.PendingDeprecationWarning'>, 'file': <type 'file'>, 'EnvironmentError': <type 'exceptions.EnvironmentError'>, 'unichr': <built-in function unichr>, 'id': <built-in function id>, 'OSError': <type 'exceptions.OSError'>, 'DeprecationWarning': <type 'exceptions.DeprecationWarning'>, 'min': <built-in function min>, 'UnicodeWarning': <type 'exceptions.UnicodeWarning'>, 'execfile': <built-in function execfile>, 'any': <built-in function any>, 'complex': <type 'complex'>, 'bool': <type 'bool'>, 'get_ipython': <bound method ZMQInteractiveShell.get_ipython of <IPython.kernel.zmq.zmqshell.ZMQInteractiveShell object at 0x102dde850>>, 'ValueError': <type 'exceptions.ValueError'>, 'NotImplemented': NotImplemented, 'map': <built-in function map>, 'buffer': <type 'buffer'>, 'max': <built-in function max>, 'object': <type 'object'>, 'TabError': <type 'exceptions.TabError'>, 'callable': <built-in function callable>, 'ZeroDivisionError': <type 'exceptions.ZeroDivisionError'>, 'eval': <built-in function eval>, '__debug__': True, 'IndentationError': <type 'exceptions.IndentationError'>, 'AssertionError': <type 'exceptions.AssertionError'>, 'classmethod': <type 'classmethod'>, 'UnboundLocalError': <type 'exceptions.UnboundLocalError'>, 'NotImplementedError': <type 'exceptions.NotImplementedError'>, 'AttributeError': <type 'exceptions.AttributeError'>, 'OverflowError': <type 'exceptions.OverflowError'>}, 'cumproduct': <function cumproduct at 0x10a6c38c0>, 'diagonal': <function diagonal at 0x10a6c3230>, 'atleast_1d': <function atleast_1d at 0x10a6e3578>, 'meshgrid': <function meshgrid at 0x10a7655f0>, 'column_stack': <function column_stack at 0x10a76f230>, 'put': <function put at 0x10496ac08>, 'byte': <type 'numpy.int8'>, 'remainder': <ufunc 'remainder'>, 'row_stack': <function vstack at 0x10a6e3b18>, 'expm1': <ufunc 'expm1'>, 'nper': <function nper at 0x10a7ab9b0>, 'ndfromtxt': <function ndfromtxt at 0x10a7ab2a8>, 'place': <function place at 0x10a764a28>, 'DataSource': <class 'numpy.lib._datasource.DataSource'>, 'newaxis': None, 'arccos': <ufunc 'arccos'>, 'signedinteger': <type 'numpy.signedinteger'>, 'ndim': <function ndim at 0x10a6c3c08>, 'rint': <ufunc 'rint'>, 'variables': {'Y': [y_0], 'theta': [nu, t_scale2], 'cache': [cache0, cache1, cache2, cache3, cache4, cache5, cache6, cache7, cache8, cache9, cache10, cache11], 'sub': [sub0, sub1, sub2, sub3, sub4, sub5], 'F': [f_0]}, 'number': <type 'numpy.number'>, 'arctan2': <ufunc 'arctan2'>, 'little_endian': True, 'ldexp': <ufunc 'ldexp'>, 'lookfor': <function lookfor at 0x10a757b18>, 'normcdfln': <function normcdfln at 0x10e1e0aa0>, 'array': <built-in function array>, 'vsplit': <function vsplit at 0x10a76f500>, '_fixes_': None, 'common_type': <function common_type at 0x10a7400c8>, 'size': 2, 'logical_xor': <ufunc 'logical_xor'>, 'geterrcall': <function geterrcall at 0x10a6c6758>, 'logisticln': <function logisticln at 0x10e1e0938>, 'sometrue': <function sometrue at 0x10a6c3668>, 'exp2': <ufunc 'exp2'>, 'bool8': <type 'numpy.bool_'>, 'msort': <function msort at 0x10a765320>, 'alltrue': <function alltrue at 0x10a6c36e0>, 'zeros': <built-in function zeros>, '_Parameterizable__visited': False, 'False_': False, '__NUMPY_SETUP__': False, 'ceiling': <ufunc 'ceil'>, 'nansum': <function nansum at 0x10a76ac80>, 'bool_': <type 'numpy.bool_'>, 'inexact': <type 'numpy.inexact'>, 'broadcast': <type 'numpy.broadcast'>, 'copyto': <built-in function copyto>, 'short': <type 'numpy.int16'>, 'arctanh': <ufunc 'arctanh'>, 'typecodes': {'All': '?bhilqpBHILQPefdgFDGSUVOMm', 'Complex': 'FDG', 'AllFloat': 'efdgFDG', 'Integer': 'bhilqp', 'UnsignedInteger': 'BHILQP', 'Float': 'efdg', 'Character': 'c', 'Datetime': 'Mm', 'AllInteger': 'bBhHiIlLqQpP'}, 'rot90': <function rot90 at 0x10a740b18>, 'savetxt': <function savetxt at 0x10a7ab140>, 'sign': <ufunc 'sign'>, 'ubyte': <type 'numpy.uint8'>, 'std': <function std at 0x10a6c3ed8>, 'not_equal': <ufunc 'not_equal'>, 'fromfunction': <function fromfunction at 0x10a6c4f50>, 'tril_indices_from': <function tril_indices_from at 0x10a7570c8>, '__config__': <module 'numpy.__config__' from '/Users/neil/Library/Enthought/Canopy_64bit/User/lib/python2.7/site-packages/numpy/__config__.pyc'>, 'double': <type 'numpy.float64'>, 'require': <function require at 0x104961aa0>, 'rate': <function rate at 0x10a7abc80>, 'typeNA': {<type 'numpy.timedelta64'>: 'Timedelta64', <type 'numpy.bool_'>: 'Bool', <type 'numpy.complex64'>: 'Complex32', 'Int32': <type 'numpy.int32'>, 'Complex64': <type 'numpy.complex128'>, <type 'numpy.string_'>: 'String0', <type 'numpy.complex128'>: 'Complex64', 'c16': 'Complex64', 'D': 'Complex64', 'H': 'UInt16', <type 'numpy.unicode_'>: 'Unicode0', 'L': 'UInt64', <type 'numpy.complex256'>: 'Complex128', 'd': 'Float64', <type 'numpy.void'>: 'Void0', 'h': 'Int16', 'l': 'Int64', 'c32': 'Complex128', <type 'numpy.int8'>: 'Int8', 'Timedelta64': <type 'numpy.timedelta64'>, 'b1': 'Bool', <type 'numpy.int16'>: 'Int16', 'M8': 'Datetime64', 'String0': <type 'numpy.string_'>, 'I': 'UInt32', <type 'numpy.int32'>: 'Int32', '?': 'Bool', 'Void0': <type 'numpy.void'>, 'G': 'Complex128', 'O': 'Object0', 'UInt8': <type 'numpy.uint8'>, 'S': 'String0', <type 'numpy.int64'>: 'Int64', 'UInt64': <type 'numpy.uint64'>, 'g': 'Float128', <type 'numpy.int64'>: 'Int64', 'Float16': <type 'numpy.float16'>, <type 'numpy.uint8'>: 'UInt8', 'Bool': <type 'numpy.bool_'>, 'f4': 'Float32', <type 'numpy.uint16'>: 'UInt16', 'u8': <type 'numpy.uint64'>, 'u4': <type 'numpy.uint32'>, 'Unicode0': <type 'numpy.unicode_'>, 'u1': <type 'numpy.uint8'>, 'u2': <type 'numpy.uint16'>, <type 'numpy.uint32'>: 'UInt32', 'Datetime64': <type 'numpy.datetime64'>, 'Int8': <type 'numpy.int8'>, 'B': 'UInt8', 'F': 'Complex32', <type 'numpy.uint64'>: 'UInt64', 'c8': 'Complex32', 'Int64': <type 'numpy.int64'>, 'Complex32': <type 'numpy.complex64'>, 'V': 'Void0', 'b': 'Int8', 'f': 'Float32', <type 'numpy.uint64'>: 'UInt64', 'm8': 'Timedelta64', 'f16': 'Float128', 'UInt32': <type 'numpy.uint32'>, 'f2': 'Float16', <type 'numpy.float16'>: 'Float16', 'f8': 'Float64', <type 'numpy.datetime64'>: 'Datetime64', 'Complex128': <type 'numpy.complex256'>, <type 'numpy.float32'>: 'Float32', 'Object0': <type 'numpy.object_'>, 'Int16': <type 'numpy.int16'>, 'Float64': <type 'numpy.float64'>, 'UInt16': <type 'numpy.uint16'>, 'Float32': <type 'numpy.float32'>, <type 'numpy.float64'>: 'Float64', 'i8': <type 'numpy.int64'>, 'i1': <type 'numpy.int8'>, 'i2': <type 'numpy.int16'>, 'M': 'Datetime64', 'i4': <type 'numpy.int32'>, 'Q': 'UInt64', <type 'numpy.float128'>: 'Float128', 'U': 'Unicode0', 'e': 'Float16', 'i': 'Int32', 'm': 'Timedelta64', 'q': 'Int64', 'Float128': <type 'numpy.float128'>, <type 'numpy.object_'>: 'Object0'}, 'str': <type 'str'>, 'getbuffer': <built-in function getbuffer>, 'abs': <ufunc 'absolute'>, 'clip': <function clip at 0x10a6c3500>, 'savez_compressed': <function savez_compressed at 0x10a7aae60>, 'frompyfunc': <built-in function frompyfunc>, 'triu_indices_from': <function triu_indices_from at 0x10a7571b8>, 'conjugate': <ufunc 'conjugate'>, 'alterdot': <built-in function alterdot>, 'asfortranarray': <function asfortranarray at 0x104961a28>, 'binary_repr': <function binary_repr at 0x10a6c60c8>, 'angle': <function angle at 0x10a7646e0>, 'sub0': -0.5, 'lib': <module 'numpy.lib' from '/Users/neil/Library/Enthought/Canopy_64bit/User/lib/python2.7/site-packages/numpy/lib/__init__.pyc'>, 'min': <function amin at 0x10a6c3a28>, 'unwrap': <function unwrap at 0x10a764758>, 'apply_over_axes': <function apply_over_axes at 0x10a76f140>, 'ERR_LOG': 5, 'right_shift': <ufunc 'right_shift'>, 'take': <function take at 0x10496aa28>, 'get_numarray_include': <function get_numarray_include at 0x10a757578>, 'trace': <function trace at 0x10a6c32a8>, 'warnings': <module 'warnings' from '/Applications/Canopy.app/appdata/canopy-1.3.0.1715.macosx-x86_64/Canopy.app/Contents/lib/python2.7/warnings.pyc'>, 'any': <function any at 0x10a6c3758>, 'who': <function who at 0x10a7578c0>, 'compress': <function compress at 0x10a6c3488>, 'histogramdd': <function histogramdd at 0x10a7642a8>, 'multiply': <ufunc 'multiply'>, 'mask_indices': <function mask_indices at 0x10a740f50>, 'amax': <function amax at 0x10a6c39b0>, 'logical_not': <ufunc 'logical_not'>, 'average': <function average at 0x10a764320>, 'partition': <function partition at 0x10496ad70>, 'polygamma': <function polygamma at 0x10d0a1c80>, 'nbytes': {<type 'numpy.int8'>: 1, <type 'numpy.uint8'>: 1, <type 'numpy.float16'>: 2, <type 'numpy.timedelta64'>: 8, <type 'numpy.bool_'>: 1, <type 'numpy.int16'>: 2, <type 'numpy.uint16'>: 2, <type 'numpy.float32'>: 4, <type 'numpy.complex64'>: 8, <type 'numpy.string_'>: 0, <type 'numpy.int32'>: 4, <type 'numpy.uint32'>: 4, <type 'numpy.float64'>: 8, <type 'numpy.complex128'>: 16, <type 'numpy.unicode_'>: 0, <type 'numpy.int64'>: 8, <type 'numpy.uint64'>: 8, <type 'numpy.float128'>: 16, <type 'numpy.complex256'>: 32, <type 'numpy.void'>: 0, <type 'numpy.int64'>: 8, <type 'numpy.uint64'>: 8, <type 'numpy.datetime64'>: 8, <type 'numpy.object_'>: 8}, 'exp': <ufunc 'exp'>, 'use_fastnumpy': False, 'dot': <built-in function dot>, 'maximum_sctype': <function maximum_sctype at 0x104957ed8>, '_added_names_': set(['nu', 't_scale2']), 'longfloat': <type 'numpy.float128'>, 'random': <module 'numpy.random' from '/Users/neil/Library/Enthought/Canopy_64bit/User/lib/python2.7/site-packages/numpy/random/__init__.pyc'>, 'copy': <function copy at 0x10a764500>, 'parameters': [\u001b[1mgp.SstudentT.nu\u001b[0;0m:\n",
        "Param([ 5.]), \u001b[1mgp.SstudentT.t_scale2\u001b[0;0m:\n",
        "Param([ 1.])], 'FPE_UNDERFLOW': 4, 'frexp': <ufunc 'frexp'>, 'errstate': <class 'numpy.core.numeric.errstate'>, 'nanmin': <function nanmin at 0x10a76aaa0>, 'swapaxes': <function swapaxes at 0x10496ac80>, 'SHIFT_OVERFLOW': 3, 'complex256': <type 'numpy.complex256'>, 'fft': <module 'numpy.fft' from '/Users/neil/Library/Enthought/Canopy_64bit/User/lib/python2.7/site-packages/numpy/fft/__init__.pyc'>, 'ModuleDeprecationWarning': <class 'numpy.ModuleDeprecationWarning'>, 'digitize': <built-in function digitize>, '__file__': '/Users/neil/Library/Enthought/Canopy_64bit/User/lib/python2.7/site-packages/numpy/__init__.pyc', 'NZERO': -0.0, 'ceil': <ufunc 'ceil'>, 'ones': <function ones at 0x104961668>, 'add_newdoc_ufunc': <built-in function add_newdoc_ufunc>, 'deprecate': <function deprecate at 0x10a757668>, 'median': <function median at 0x10a765398>, 'geterr': <function geterr at 0x10a6c6578>, 'convolve': <function convolve at 0x104961d70>, '_param_array_': None, 'logistic': <function logistic at 0x10e1e09b0>, 'isreal': <function isreal at 0x10a73fc80>, 'where': <built-in function where>, 'isfinite': <ufunc 'isfinite'>, 'SHIFT_UNDERFLOW': 6, 'MachAr': <class 'numpy.core.machar.MachAr'>, 'argmax': <function argmax at 0x10496af50>, 'testing': <module 'numpy.testing' from '/Users/neil/Library/Enthought/Canopy_64bit/User/lib/python2.7/site-packages/numpy/testing/__init__.pyc'>, 'deprecate_with_doc': <function <lambda> at 0x10a7577d0>, 'full': <function full at 0x104961758>, 'polyder': <function polyder at 0x10a788758>, 'arg': <function angle at 0x10a7646e0>, 'rad2deg': <ufunc 'rad2deg'>, 'isnan': <ufunc 'isnan'>, '__all__': ['add_newdocs', 'ModuleDeprecationWarning', '__version__', 'pkgload', 'PackageLoader', 'show_config', 'char', 'rec', 'memmap', 'newaxis', 'ndarray', 'flatiter', 'nditer', 'nested_iters', 'ufunc', 'arange', 'array', 'zeros', 'count_nonzero', 'empty', 'broadcast', 'dtype', 'fromstring', 'fromfile', 'frombuffer', 'int_asbuffer', 'where', 'argwhere', 'copyto', 'concatenate', 'fastCopyAndTranspose', 'lexsort', 'set_numeric_ops', 'can_cast', 'promote_types', 'min_scalar_type', 'result_type', 'asarray', 'asanyarray', 'ascontiguousarray', 'asfortranarray', 'isfortran', 'empty_like', 'zeros_like', 'ones_like', 'correlate', 'convolve', 'inner', 'dot', 'einsum', 'outer', 'vdot', 'alterdot', 'restoredot', 'roll', 'rollaxis', 'cross', 'tensordot', 'array2string', 'get_printoptions', 'set_printoptions', 'array_repr', 'array_str', 'set_string_function', 'little_endian', 'require', 'fromiter', 'array_equal', 'array_equiv', 'indices', 'fromfunction', 'isclose', 'load', 'loads', 'isscalar', 'binary_repr', 'base_repr', 'ones', 'identity', 'allclose', 'compare_chararrays', 'putmask', 'seterr', 'geterr', 'setbufsize', 'getbufsize', 'seterrcall', 'geterrcall', 'errstate', 'flatnonzero', 'Inf', 'inf', 'infty', 'Infinity', 'nan', 'NaN', 'False_', 'True_', 'bitwise_not', 'CLIP', 'RAISE', 'WRAP', 'MAXDIMS', 'BUFSIZE', 'ALLOW_THREADS', 'ComplexWarning', 'may_share_memory', 'full', 'full_like', 'getbuffer', 'newbuffer', 'less', 'ERR_CALL', 'UFUNC_BUFSIZE_DEFAULT', 'NAN', 'arctan', 'divide', 'FPE_UNDERFLOW', 'frexp', 'add', 'degrees', 'FPE_INVALID', 'ERR_DEFAULT', 'SHIFT_OVERFLOW', 'FLOATING_POINT_SUPPORT', 'logaddexp2', 'greater', 'ERR_PRINT', 'NZERO', 'ceil', 'mod', 'PZERO', 'radians', 'modf', 'isfinite', 'square', 'SHIFT_UNDERFLOW', 'cosh', 'hypot', 'logical_and', 'rad2deg', 'isnan', 'ERR_WARN', 'NINF', 'ERR_RAISE', 'deg2rad', 'ERR_DEFAULT2', 'log2', 'seterrobj', 'power', 'fmax', 'copysign', 'spacing', 'fmod', 'FPE_DIVIDEBYZERO', 'subtract', 'trunc', 'frompyfunc', 'expm1', 'arccosh', 'equal', 'fmin', 'exp2', 'less_equal', 'geterrobj', 'arcsinh', 'rint', 'arctan2', 'ldexp', 'bitwise_or', 'UFUNC_PYVALS_NAME', 'bitwise_and', 'logical_xor', 'log', 'remainder', 'invert', 'negative', 'SHIFT_INVALID', 'pi', 'log10', 'arcsin', 'cos', 'SHIFT_DIVIDEBYZERO', 'arctanh', 'e', 'sign', 'not_equal', 'reciprocal', 'tanh', 'true_divide', 'maximum', 'minimum', 'FPE_OVERFLOW', 'euler_gamma', 'log1p', 'logical_or', 'signbit', 'conjugate', 'tan', 'conj', 'absolute', 'bitwise_xor', 'fabs', 'floor', 'ERR_IGNORE', 'sqrt', 'ERR_LOG', 'right_shift', 'floor_divide', 'sin', 'nextafter', 'arccos', 'isinf', 'multiply', 'logaddexp', 'sinh', 'logical_not', 'greater_equal', 'left_shift', 'PINF', 'exp', 'sctypeDict', 'sctypeNA', 'typeDict', 'typeNA', 'sctypes', 'ScalarType', 'obj2sctype', 'cast', 'nbytes', 'sctype2char', 'maximum_sctype', 'issctype', 'typecodes', 'find_common_type', 'issubdtype', 'datetime_data', 'datetime_as_string', 'busday_offset', 'busday_count', 'is_busday', 'busdaycalendar', 'complex_', 'clongfloat', 'uintp', 'intc', 'int32', 'unsignedinteger', 'longdouble', 'bool8', 'number', 'object0', 'single', 'complex64', 'intp', 'complexfloating', 'float128', 'floating', 'int16', 'cfloat', 'uint0', 'float16', 'uintc', 'ulonglong', 'longcomplex', 'generic', 'datetime64', 'int_', 'cdouble', 'character', 'complex128', 'csingle', 'uint16', 'flexible', 'ubyte', 'longfloat', 'uint32', 'string0', 'unicode_', 'longlong', 'complex256', 'str_', 'void', 'inexact', 'uint8', 'string_', 'unicode0', 'uint', 'int0', 'half', 'integer', 'byte', 'int8', 'void0', 'uint64', 'short', 'bool_', 'float64', 'timedelta64', 'double', 'ushort', 'float32', 'float_', 'int64', 'clongdouble', 'singlecomplex', 'signedinteger', 'bytes_', 'object_', 'alen', 'all', 'alltrue', 'amax', 'amin', 'any', 'argmax', 'argmin', 'argpartition', 'argsort', 'around', 'choose', 'clip', 'compress', 'cumprod', 'cumproduct', 'cumsum', 'diagonal', 'mean', 'ndim', 'nonzero', 'partition', 'prod', 'product', 'ptp', 'put', 'rank', 'ravel', 'repeat', 'reshape', 'resize', 'round_', 'searchsorted', 'shape', 'size', 'sometrue', 'sort', 'squeeze', 'std', 'sum', 'swapaxes', 'take', 'trace', 'transpose', 'var', 'alen', 'all', 'alltrue', 'amax', 'amin', 'any', 'argmax', 'argmin', 'argpartition', 'argsort', 'around', 'choose', 'clip', 'compress', 'cumprod', 'cumproduct', 'cumsum', 'diagonal', 'mean', 'ndim', 'nonzero', 'partition', 'prod', 'product', 'ptp', 'put', 'rank', 'ravel', 'repeat', 'reshape', 'resize', 'round_', 'searchsorted', 'shape', 'size', 'sometrue', 'sort', 'squeeze', 'std', 'sum', 'swapaxes', 'take', 'trace', 'transpose', 'var', 'record', 'recarray', 'format_parser', 'chararray', 'logspace', 'linspace', 'MachAr', 'finfo', 'iinfo', 'atleast_1d', 'atleast_2d', 'atleast_3d', 'vstack', 'hstack', 'matrix', 'bmat', 'mat', 'asmatrix', 'emath', 'math', 'iscomplexobj', 'isrealobj', 'imag', 'iscomplex', 'isreal', 'nan_to_num', 'real', 'real_if_close', 'typename', 'asfarray', 'mintypecode', 'asscalar', 'common_type', 'ravel_multi_index', 'unravel_index', 'mgrid', 'ogrid', 'r_', 'c_', 's_', 'index_exp', 'ix_', 'ndenumerate', 'ndindex', 'fill_diagonal', 'diag_indices', 'diag_indices_from', 'select', 'piecewise', 'trim_zeros', 'copy', 'iterable', 'percentile', 'diff', 'gradient', 'angle', 'unwrap', 'sort_complex', 'disp', 'extract', 'place', 'vectorize', 'asarray_chkfinite', 'average', 'histogram', 'histogramdd', 'bincount', 'digitize', 'cov', 'corrcoef', 'msort', 'median', 'sinc', 'hamming', 'hanning', 'bartlett', 'blackman', 'kaiser', 'trapz', 'i0', 'add_newdoc', 'add_docstring', 'meshgrid', 'delete', 'insert', 'append', 'interp', 'add_newdoc_ufunc', 'column_stack', 'row_stack', 'dstack', 'array_split', 'split', 'hsplit', 'vsplit', 'dsplit', 'apply_over_axes', 'expand_dims', 'apply_along_axis', 'kron', 'tile', 'get_array_wrap', 'broadcast_arrays', 'diag', 'diagflat', 'eye', 'fliplr', 'flipud', 'rot90', 'tri', 'triu', 'tril', 'vander', 'histogram2d', 'mask_indices', 'tril_indices', 'tril_indices_from', 'triu_indices', 'triu_indices_from', 'fix', 'isneginf', 'isposinf', 'pad', 'poly', 'roots', 'polyint', 'polyder', 'polyadd', 'polysub', 'polymul', 'polydiv', 'polyval', 'poly1d', 'polyfit', 'RankWarning', 'issubclass_', 'issubsctype', 'issubdtype', 'deprecate', 'deprecate_with_doc', 'get_numarray_include', 'get_include', 'info', 'source', 'who', 'lookfor', 'byte_bounds', 'safe_eval', 'ediff1d', 'intersect1d', 'setxor1d', 'union1d', 'setdiff1d', 'unique', 'in1d', 'savetxt', 'loadtxt', 'genfromtxt', 'ndfromtxt', 'mafromtxt', 'recfromtxt', 'recfromcsv', 'load', 'loads', 'save', 'savez', 'savez_compressed', 'packbits', 'unpackbits', 'fromregex', 'DataSource', 'fv', 'pmt', 'nper', 'ipmt', 'ppmt', 'pv', 'rate', 'irr', 'npv', 'mirr', 'nansum', 'nanmax', 'nanmin', 'nanargmax', 'nanargmin', 'nanmean', 'nanvar', 'nanstd', 'linalg', 'fft', 'random', 'ctypeslib', 'ma'], 'irr': <function irr at 0x10a7abcf8>, 'sctypeDict': {0: <type 'numpy.bool_'>, 1: <type 'numpy.int8'>, 2: <type 'numpy.uint8'>, 3: <type 'numpy.int16'>, 4: <type 'numpy.uint16'>, 5: <type 'numpy.int32'>, 6: <type 'numpy.uint32'>, 7: <type 'numpy.int64'>, 8: <type 'numpy.uint64'>, 9: <type 'numpy.int64'>, 10: <type 'numpy.uint64'>, 11: <type 'numpy.float32'>, 12: <type 'numpy.float64'>, 13: <type 'numpy.float128'>, 14: <type 'numpy.complex64'>, 15: <type 'numpy.complex128'>, 16: <type 'numpy.complex256'>, 17: <type 'numpy.object_'>, 18: <type 'numpy.string_'>, 19: <type 'numpy.unicode_'>, 20: <type 'numpy.void'>, 21: <type 'numpy.datetime64'>, 'unicode': <type 'numpy.unicode_'>, 23: <type 'numpy.float16'>, 'cfloat': <type 'numpy.complex128'>, 'longfloat': <type 'numpy.float128'>, 'Int32': <type 'numpy.int32'>, 'Complex64': <type 'numpy.complex128'>, 'unicode_': <type 'numpy.unicode_'>, 'complex': <type 'numpy.complex128'>, 'timedelta64': <type 'numpy.timedelta64'>, 'uint16': <type 'numpy.uint16'>, 'c16': <type 'numpy.complex128'>, 'float32': <type 'numpy.float32'>, 'complex256': <type 'numpy.complex256'>, 'D': <type 'numpy.complex128'>, 'H': <type 'numpy.uint16'>, 'void': <type 'numpy.void'>, 'unicode0': <type 'numpy.unicode_'>, 'L': <type 'numpy.uint64'>, 'P': <type 'numpy.uint64'>, 'half': <type 'numpy.float16'>, 'void0': <type 'numpy.void'>, 'd': <type 'numpy.float64'>, 'h': <type 'numpy.int16'>, 'l': <type 'numpy.int64'>, 'p': <type 'numpy.int64'>, 'c32': <type 'numpy.complex256'>, 22: <type 'numpy.timedelta64'>, 'O8': <type 'numpy.object_'>, 'Timedelta64': <type 'numpy.timedelta64'>, 'object0': <type 'numpy.object_'>, 'b1': <type 'numpy.bool_'>, 'float128': <type 'numpy.float128'>, 'M8': <type 'numpy.datetime64'>, 'String0': <type 'numpy.string_'>, 'float16': <type 'numpy.float16'>, 'ulonglong': <type 'numpy.uint64'>, 'i1': <type 'numpy.int8'>, 'uint32': <type 'numpy.uint32'>, '?': <type 'numpy.bool_'>, 'Void0': <type 'numpy.void'>, 'complex64': <type 'numpy.complex64'>, 'G': <type 'numpy.complex256'>, 'O': <type 'numpy.object_'>, 'UInt8': <type 'numpy.uint8'>, 'S': <type 'numpy.string_'>, 'byte': <type 'numpy.int8'>, 'UInt64': <type 'numpy.uint64'>, 'g': <type 'numpy.float128'>, 'float64': <type 'numpy.float64'>, 'ushort': <type 'numpy.uint16'>, 'float_': <type 'numpy.float64'>, 'uint': <type 'numpy.uint64'>, 'object_': <type 'numpy.object_'>, 'Float16': <type 'numpy.float16'>, 'complex_': <type 'numpy.complex128'>, 'Unicode0': <type 'numpy.unicode_'>, 'uintp': <type 'numpy.uint64'>, 'intc': <type 'numpy.int32'>, 'csingle': <type 'numpy.complex64'>, 'datetime64': <type 'numpy.datetime64'>, 'float': <type 'numpy.float64'>, 'bool8': <type 'numpy.bool_'>, 'Bool': <type 'numpy.bool_'>, 'intp': <type 'numpy.int64'>, 'uintc': <type 'numpy.uint32'>, 'bytes_': <type 'numpy.string_'>, 'u8': <type 'numpy.uint64'>, 'u4': <type 'numpy.uint32'>, 'int_': <type 'numpy.int64'>, 'cdouble': <type 'numpy.complex128'>, 'u1': <type 'numpy.uint8'>, 'complex128': <type 'numpy.complex128'>, 'u2': <type 'numpy.uint16'>, 'f8': <type 'numpy.float64'>, 'Datetime64': <type 'numpy.datetime64'>, 'ubyte': <type 'numpy.uint8'>, 'm8': <type 'numpy.timedelta64'>, 'B': <type 'numpy.uint8'>, 'uint0': <type 'numpy.uint64'>, 'F': <type 'numpy.complex64'>, 'bool_': <type 'numpy.bool_'>, 'uint8': <type 'numpy.uint8'>, 'c8': <type 'numpy.complex64'>, 'Int64': <type 'numpy.int64'>, 'Int8': <type 'numpy.int8'>, 'Complex32': <type 'numpy.complex64'>, 'V': <type 'numpy.void'>, 'int8': <type 'numpy.int8'>, 'uint64': <type 'numpy.uint64'>, 'b': <type 'numpy.int8'>, 'f': <type 'numpy.float32'>, 'double': <type 'numpy.float64'>, 'UInt32': <type 'numpy.uint32'>, 'clongdouble': <type 'numpy.complex256'>, 'str': <type 'numpy.string_'>, 'f16': <type 'numpy.float128'>, 'f2': <type 'numpy.float16'>, 'f4': <type 'numpy.float32'>, 'int32': <type 'numpy.int32'>, 'int': <type 'numpy.int64'>, 'longdouble': <type 'numpy.float128'>, 'Complex128': <type 'numpy.complex256'>, 'single': <type 'numpy.float32'>, 'string': <type 'numpy.string_'>, 'q': <type 'numpy.int64'>, 'Int16': <type 'numpy.int16'>, 'Float64': <type 'numpy.float64'>, 'longcomplex': <type 'numpy.complex256'>, 'UInt16': <type 'numpy.uint16'>, 'bool': <type 'numpy.bool_'>, 'Float32': <type 'numpy.float32'>, 'string0': <type 'numpy.string_'>, 'longlong': <type 'numpy.int64'>, 'i8': <type 'numpy.int64'>, 'int16': <type 'numpy.int16'>, 'str_': <type 'numpy.string_'>, 'I': <type 'numpy.uint32'>, 'object': <type 'numpy.object_'>, 'M': <type 'numpy.datetime64'>, 'i4': <type 'numpy.int32'>, 'singlecomplex': <type 'numpy.complex64'>, 'Q': <type 'numpy.uint64'>, 'string_': <type 'numpy.string_'>, 'U': <type 'numpy.unicode_'>, 'a': <type 'numpy.string_'>, 'short': <type 'numpy.int16'>, 'e': <type 'numpy.float16'>, 'i': <type 'numpy.int32'>, 'clongfloat': <type 'numpy.complex256'>, 'm': <type 'numpy.timedelta64'>, 'Object0': <type 'numpy.object_'>, 'int64': <type 'numpy.int64'>, 'Float128': <type 'numpy.float128'>, 'i2': <type 'numpy.int16'>, 'int0': <type 'numpy.int64'>}, 'erfcx': <ufunc 'erfcx'>, 'NINF': -inf, 'min_scalar_type': <built-in function min_scalar_type>, 'count_nonzero': <built-in function count_nonzero>, 'sort_complex': <function sort_complex at 0x10a7647d0>, 'nested_iters': <built-in function nested_iters>, 'concatenate': <built-in function concatenate>, 'ERR_DEFAULT2': 521, 'vdot': <built-in function vdot>, 'bincount': <built-in function bincount>, 'copysign': <ufunc 'copysign'>, 'sctypes': {'int': [<type 'numpy.int8'>, <type 'numpy.int16'>, <type 'numpy.int32'>, <type 'numpy.int64'>], 'float': [<type 'numpy.float16'>, <type 'numpy.float32'>, <type 'numpy.float64'>, <type 'numpy.float128'>], 'uint': [<type 'numpy.uint8'>, <type 'numpy.uint16'>, <type 'numpy.uint32'>, <type 'numpy.uint64'>], 'complex': [<type 'numpy.complex64'>, <type 'numpy.complex128'>, <type 'numpy.complex256'>], 'others': [<type 'bool'>, <type 'object'>, <type 'str'>, <type 'unicode'>, <type 'numpy.void'>]}, 'transpose': <function transpose at 0x10496acf8>, 'corrcoef': <function corrcoef at 0x10a764d70>, 'fromregex': <function fromregex at 0x10a7ab1b8>, 'vectorize': <class 'numpy.lib.function_base.vectorize'>, 'set_printoptions': <function set_printoptions at 0x10a6c40c8>, 'isrealobj': <function isrealobj at 0x10a73fd70>, 'trim_zeros': <function trim_zeros at 0x10a764848>, 'unravel_index': <built-in function unravel_index>, 'cos': <ufunc 'cos'>, 'float64': <type 'numpy.float64'>, 'normcdf': <function normcdf at 0x10e1e0a28>, 'arccosh': <ufunc 'arccosh'>, 'ushort': <type 'numpy.uint16'>, 'equal': <ufunc 'equal'>, 'cumprod': <function cumprod at 0x10a6c3b90>, 'float_': <type 'numpy.float64'>, 'vander': <function vander at 0x10a740e60>, 'geterrobj': <built-in function geterrobj>, 'load': <function load at 0x10a7aa758>, 'fromiter': <built-in function fromiter>, 'tril': <function tril at 0x10a740d70>, 'issubclass_': <function issubclass_ at 0x104960140>, 'bitwise_or': <ufunc 'bitwise_or'>, 'polynomial': <module 'numpy.polynomial' from '/Users/neil/Library/Enthought/Canopy_64bit/User/lib/python2.7/site-packages/numpy/polynomial/__init__.pyc'>, 'diff': <function diff at 0x10a7645f0>, 'iterable': <function iterable at 0x10a757488>, 'array_split': <function array_split at 0x10a76f398>, 'get_include': <function get_include at 0x10a757500>, 'pv': <function pv at 0x10a7abb90>, 'tensordot': <function tensordot at 0x104961e60>, 'piecewise': <function piecewise at 0x10a764410>, 'invert': <ufunc 'invert'>, 'UFUNC_PYVALS_NAME': 'UFUNC_PYVALS', 'SHIFT_INVALID': 9, 'c_': <numpy.lib.index_tricks.CClass object at 0x10a75ff10>, 'flexible': <type 'numpy.flexible'>, 'pi': 3.141592653589793, '__doc__': '\\nNumPy\\n=====\\n\\nProvides\\n  1. An array object of arbitrary homogeneous items\\n  2. Fast mathematical operations over arrays\\n  3. Linear Algebra, Fourier Transforms, Random Number Generation\\n\\nHow to use the documentation\\n----------------------------\\nDocumentation is available in two forms: docstrings provided\\nwith the code, and a loose standing reference guide, available from\\n`the NumPy homepage <http://www.scipy.org>`_.\\n\\nWe recommend exploring the docstrings using\\n`IPython <http://ipython.scipy.org>`_, an advanced Python shell with\\nTAB-completion and introspection capabilities.  See below for further\\ninstructions.\\n\\nThe docstring examples assume that `numpy` has been imported as `np`::\\n\\n  >>> import numpy as np\\n\\nCode snippets are indicated by three greater-than signs::\\n\\n  >>> x = 42\\n  >>> x = x + 1\\n\\nUse the built-in ``help`` function to view a function\\'s docstring::\\n\\n  >>> help(np.sort)\\n  ... # doctest: +SKIP\\n\\nFor some objects, ``np.info(obj)`` may provide additional help.  This is\\nparticularly true if you see the line \"Help on ufunc object:\" at the top\\nof the help() page.  Ufuncs are implemented in C, not Python, for speed.\\nThe native Python help() does not know how to view their help, but our\\nnp.info() function does.\\n\\nTo search for documents containing a keyword, do::\\n\\n  >>> np.lookfor(\\'keyword\\')\\n  ... # doctest: +SKIP\\n\\nGeneral-purpose documents like a glossary and help on the basic concepts\\nof numpy are available under the ``doc`` sub-module::\\n\\n  >>> from numpy import doc\\n  >>> help(doc)\\n  ... # doctest: +SKIP\\n\\nAvailable subpackages\\n---------------------\\ndoc\\n    Topical documentation on broadcasting, indexing, etc.\\nlib\\n    Basic functions used by several sub-packages.\\nrandom\\n    Core Random Tools\\nlinalg\\n    Core Linear Algebra Tools\\nfft\\n    Core FFT routines\\npolynomial\\n    Polynomial tools\\ntesting\\n    Numpy testing tools\\nf2py\\n    Fortran to Python Interface Generator.\\ndistutils\\n    Enhancements to distutils with support for\\n    Fortran compilers support and more.\\n\\nUtilities\\n---------\\ntest\\n    Run numpy unittests\\nshow_config\\n    Show numpy build configuration\\ndual\\n    Overwrite certain functions with high-performance Scipy tools\\nmatlib\\n    Make everything matrices.\\n__version__\\n    Numpy version string\\n\\nViewing documentation using IPython\\n-----------------------------------\\nStart IPython with the NumPy profile (``ipython -p numpy``), which will\\nimport `numpy` under the alias `np`.  Then, use the ``cpaste`` command to\\npaste examples into the shell.  To see which functions are available in\\n`numpy`, type ``np.<TAB>`` (where ``<TAB>`` refers to the TAB key), or use\\n``np.*cos*?<ENTER>`` (where ``<ENTER>`` refers to the ENTER key) to narrow\\ndown the list.  To view the docstring for a function, use\\n``np.cos?<ENTER>`` (to view the docstring) and ``np.cos??<ENTER>`` (to view\\nthe source code).\\n\\nCopies vs. in-place operation\\n-----------------------------\\nMost of the functions in `numpy` return a copy of the array argument\\n(e.g., `np.sort`).  In-place versions of these functions are often\\navailable as array methods, i.e. ``x = np.array([1,2,3]); x.sort()``.\\nExceptions to this rule are documented.\\n\\n', 'empty': <built-in function empty>, 'find_common_type': <function find_common_type at 0x1049610c8>, 'isposinf': <function isposinf at 0x10a73f938>, 'arcsin': <ufunc 'arcsin'>, 'sctypeNA': {<type 'numpy.timedelta64'>: 'Timedelta64', <type 'numpy.bool_'>: 'Bool', <type 'numpy.complex64'>: 'Complex32', 'Int32': <type 'numpy.int32'>, 'Complex64': <type 'numpy.complex128'>, <type 'numpy.string_'>: 'String0', <type 'numpy.complex128'>: 'Complex64', 'c16': 'Complex64', 'D': 'Complex64', 'H': 'UInt16', <type 'numpy.unicode_'>: 'Unicode0', 'L': 'UInt64', <type 'numpy.complex256'>: 'Complex128', 'd': 'Float64', <type 'numpy.void'>: 'Void0', 'h': 'Int16', 'l': 'Int64', 'c32': 'Complex128', <type 'numpy.int8'>: 'Int8', 'Timedelta64': <type 'numpy.timedelta64'>, 'b1': 'Bool', <type 'numpy.int16'>: 'Int16', 'M8': 'Datetime64', 'String0': <type 'numpy.string_'>, 'I': 'UInt32', <type 'numpy.int32'>: 'Int32', '?': 'Bool', 'Void0': <type 'numpy.void'>, 'G': 'Complex128', 'O': 'Object0', 'UInt8': <type 'numpy.uint8'>, 'S': 'String0', <type 'numpy.int64'>: 'Int64', 'UInt64': <type 'numpy.uint64'>, 'g': 'Float128', <type 'numpy.int64'>: 'Int64', 'Float16': <type 'numpy.float16'>, <type 'numpy.uint8'>: 'UInt8', 'Bool': <type 'numpy.bool_'>, 'f4': 'Float32', <type 'numpy.uint16'>: 'UInt16', 'u8': <type 'numpy.uint64'>, 'u4': <type 'numpy.uint32'>, 'Unicode0': <type 'numpy.unicode_'>, 'u1': <type 'numpy.uint8'>, 'u2': <type 'numpy.uint16'>, <type 'numpy.uint32'>: 'UInt32', 'Datetime64': <type 'numpy.datetime64'>, 'Int8': <type 'numpy.int8'>, 'B': 'UInt8', 'F': 'Complex32', <type 'numpy.uint64'>: 'UInt64', 'c8': 'Complex32', 'Int64': <type 'numpy.int64'>, 'Complex32': <type 'numpy.complex64'>, 'V': 'Void0', 'b': 'Int8', 'f': 'Float32', <type 'numpy.uint64'>: 'UInt64', 'm8': 'Timedelta64', 'f16': 'Float128', 'UInt32': <type 'numpy.uint32'>, 'f2': 'Float16', <type 'numpy.float16'>: 'Float16', 'f8': 'Float64', <type 'numpy.datetime64'>: 'Datetime64', 'Complex128': <type 'numpy.complex256'>, <type 'numpy.float32'>: 'Float32', 'Object0': <type 'numpy.object_'>, 'Int16': <type 'numpy.int16'>, 'Float64': <type 'numpy.float64'>, 'UInt16': <type 'numpy.uint16'>, 'Float32': <type 'numpy.float32'>, <type 'numpy.float64'>: 'Float64', 'i8': <type 'numpy.int64'>, 'i1': <type 'numpy.int8'>, 'i2': <type 'numpy.int16'>, 'M': 'Datetime64', 'i4': <type 'numpy.int32'>, 'Q': 'UInt64', <type 'numpy.float128'>: 'Float128', 'U': 'Unicode0', 'e': 'Float16', 'i': 'Int32', 'm': 'Timedelta64', 'q': 'Int64', 'Float128': <type 'numpy.float128'>, <type 'numpy.object_'>: 'Object0'}, 'imag': <function imag at 0x10a73fb90>, 'sctype2char': <function sctype2char at 0x104960398>, 'singlecomplex': <type 'numpy.complex64'>, 'SHIFT_DIVIDEBYZERO': 0, 'observers': [(-100, <weakref at 0x10fd71c58; to 'SstudentT' at 0x10fd72050>, <bound method SstudentT._parameters_changed_notification of <symbolic.likelihoods.sstudent_t.SstudentT object at 0x10fd72050>>), (-inf, <weakref at 0x110234208; to 'GP' at 0x110230990>, <bound method GP._pass_through_notify_observers of <GPy.core.gp.GP object at 0x110230990>>)], 'matrixlib': <module 'numpy.matrixlib' from '/Users/neil/Library/Enthought/Canopy_64bit/User/lib/python2.7/site-packages/numpy/matrixlib/__init__.pyc'>, 'apply_along_axis': <function apply_along_axis at 0x10a76f0c8>, 'logger': <logging.Logger object at 0x10fd727d0>, 'reciprocal': <ufunc 'reciprocal'>, 'tanh': <ufunc 'tanh'>, 'dstack': <function dstack at 0x10a76f2a8>, 'cov': <function cov at 0x10a764b18>, 'cast': {<type 'numpy.int8'>: <function <lambda> at 0x104960410>, <type 'numpy.uint8'>: <function <lambda> at 0x104960488>, <type 'numpy.float16'>: <function <lambda> at 0x104960500>, <type 'numpy.timedelta64'>: <function <lambda> at 0x104960578>, <type 'numpy.bool_'>: <function <lambda> at 0x1049605f0>, <type 'numpy.int16'>: <function <lambda> at 0x104960668>, <type 'numpy.uint16'>: <function <lambda> at 0x1049606e0>, <type 'numpy.float32'>: <function <lambda> at 0x104960758>, <type 'numpy.complex64'>: <function <lambda> at 0x1049607d0>, <type 'numpy.string_'>: <function <lambda> at 0x104960848>, <type 'numpy.int32'>: <function <lambda> at 0x1049608c0>, <type 'numpy.uint32'>: <function <lambda> at 0x104960938>, <type 'numpy.float64'>: <function <lambda> at 0x1049609b0>, <type 'numpy.complex128'>: <function <lambda> at 0x104960a28>, <type 'numpy.unicode_'>: <function <lambda> at 0x104960aa0>, <type 'numpy.int64'>: <function <lambda> at 0x104960b18>, <type 'numpy.uint64'>: <function <lambda> at 0x104960b90>, <type 'numpy.float128'>: <function <lambda> at 0x104960c08>, <type 'numpy.complex256'>: <function <lambda> at 0x104960c80>, <type 'numpy.void'>: <function <lambda> at 0x104960cf8>, <type 'numpy.int64'>: <function <lambda> at 0x104960d70>, <type 'numpy.uint64'>: <function <lambda> at 0x104960de8>, <type 'numpy.datetime64'>: <function <lambda> at 0x104960e60>, <type 'numpy.object_'>: <function <lambda> at 0x104960ed8>}, 'logspace': <function logspace at 0x10a6e31b8>, 'packbits': <built-in function packbits>, 'issctype': <function issctype at 0x104960050>, 'mgrid': <numpy.lib.index_tricks.nd_grid object at 0x10a75fcd0>, 'atan': <ufunc 'arctan'>, 'longdouble': <type 'numpy.float128'>, 'signbit': <ufunc 'signbit'>, 'im': <function imag at 0x10a73fb90>, 'dual': <module 'numpy.dual' from '/Users/neil/Library/Enthought/Canopy_64bit/User/lib/python2.7/site-packages/numpy/dual.pyc'>, 'conj': <ufunc 'conjugate'>, 'asmatrix': <function asmatrix at 0x10a7659b0>, 'inf': inf, 'flatiter': <type 'numpy.flatiter'>, 'bitwise_xor': <ufunc 'bitwise_xor'>, 'fabs': <ufunc 'fabs'>, 'generic': <type 'numpy.generic'>, 'reshape': <function reshape at 0x10496aaa0>, 'NaN': nan, 'cross': <function cross at 0x10496a0c8>, 'sqrt': <ufunc 'sqrt'>, '__package__': 'numpy', 'longcomplex': <type 'numpy.complex256'>, 'complex': <type 'complex'>, 'pad': <function pad at 0x10a7aff50>, 'split': <function split at 0x10a76f410>, 'floor_divide': <ufunc 'floor_divide'>, '__version__': '1.8.1', 'format_parser': <class numpy.core.records.format_parser at 0x104975c18>, 'nextafter': <ufunc 'nextafter'>, 'polyval': <function polyval at 0x10a788848>, 'infty': inf, 'flipud': <function flipud at 0x10a740aa0>, 'i0': <function i0 at 0x10a7651b8>, 'iscomplexobj': <function iscomplexobj at 0x10a73fcf8>, 'sys': <module 'sys' (built-in)>, 'array2string': <function array2string at 0x10a6c4488>, 'mafromtxt': <function mafromtxt at 0x10a7ab320>, 'bartlett': <function bartlett at 0x10a764e60>, 'polydiv': <function polydiv at 0x10a788a28>, 'MutableDenseMatrix': <class 'numpy.matrixlib.defmatrix.matrix'>, 'identity': <function identity at 0x10a6c62a8>, 'safe_eval': <function safe_eval at 0x10a757c80>, 'greater_equal': <ufunc 'greater_equal'>, 'floor': <ufunc 'floor'>, 'trapz': <function trapz at 0x10a765500>, 'PINF': inf, 'recfromtxt': <function recfromtxt at 0x10a7ab398>, 'add_newdocs': <module 'numpy.add_newdocs' from '/Users/neil/Library/Enthought/Canopy_64bit/User/lib/python2.7/site-packages/numpy/add_newdocs.pyc'>, 'priors': <GPy.core.parameterization.index_operations.ParameterIndexOperations object at 0x10fd724d0>, 'RankWarning': <class 'numpy.lib.polynomial.RankWarning'>, 'ascontiguousarray': <function ascontiguousarray at 0x1049619b0>, 'distutils': <module 'numpy.distutils' from '/Users/neil/Library/Enthought/Canopy_64bit/User/lib/python2.7/site-packages/numpy/distutils/__init__.pyc'>, 'less': <ufunc 'less'>, 'putmask': <built-in function putmask>, 'UFUNC_BUFSIZE_DEFAULT': 8192, 'unicode': <type 'unicode'>, 'half': <type 'numpy.float16'>, 'NAN': nan, 'absolute_import': _Feature((2, 5, 0, 'alpha', 1), (3, 0, 0, 'alpha', 0), 16384), 'typeDict': {0: <type 'numpy.bool_'>, 1: <type 'numpy.int8'>, 2: <type 'numpy.uint8'>, 3: <type 'numpy.int16'>, 4: <type 'numpy.uint16'>, 5: <type 'numpy.int32'>, 6: <type 'numpy.uint32'>, 7: <type 'numpy.int64'>, 8: <type 'numpy.uint64'>, 9: <type 'numpy.int64'>, 10: <type 'numpy.uint64'>, 11: <type 'numpy.float32'>, 12: <type 'numpy.float64'>, 13: <type 'numpy.float128'>, 14: <type 'numpy.complex64'>, 15: <type 'numpy.complex128'>, 16: <type 'numpy.complex256'>, 17: <type 'numpy.object_'>, 18: <type 'numpy.string_'>, 19: <type 'numpy.unicode_'>, 20: <type 'numpy.void'>, 21: <type 'numpy.datetime64'>, 'unicode': <type 'numpy.unicode_'>, 23: <type 'numpy.float16'>, 'cfloat': <type 'numpy.complex128'>, 'longfloat': <type 'numpy.float128'>, 'Int32': <type 'numpy.int32'>, 'Complex64': <type 'numpy.complex128'>, 'unicode_': <type 'numpy.unicode_'>, 'complex': <type 'numpy.complex128'>, 'timedelta64': <type 'numpy.timedelta64'>, 'uint16': <type 'numpy.uint16'>, 'c16': <type 'numpy.complex128'>, 'float32': <type 'numpy.float32'>, 'complex256': <type 'numpy.complex256'>, 'D': <type 'numpy.complex128'>, 'H': <type 'numpy.uint16'>, 'void': <type 'numpy.void'>, 'unicode0': <type 'numpy.unicode_'>, 'L': <type 'numpy.uint64'>, 'P': <type 'numpy.uint64'>, 'half': <type 'numpy.float16'>, 'void0': <type 'numpy.void'>, 'd': <type 'numpy.float64'>, 'h': <type 'numpy.int16'>, 'l': <type 'numpy.int64'>, 'p': <type 'numpy.int64'>, 'c32': <type 'numpy.complex256'>, 22: <type 'numpy.timedelta64'>, 'O8': <type 'numpy.object_'>, 'Timedelta64': <type 'numpy.timedelta64'>, 'object0': <type 'numpy.object_'>, 'b1': <type 'numpy.bool_'>, 'float128': <type 'numpy.float128'>, 'M8': <type 'numpy.datetime64'>, 'String0': <type 'numpy.string_'>, 'float16': <type 'numpy.float16'>, 'ulonglong': <type 'numpy.uint64'>, 'i1': <type 'numpy.int8'>, 'uint32': <type 'numpy.uint32'>, '?': <type 'numpy.bool_'>, 'Void0': <type 'numpy.void'>, 'complex64': <type 'numpy.complex64'>, 'G': <type 'numpy.complex256'>, 'O': <type 'numpy.object_'>, 'UInt8': <type 'numpy.uint8'>, 'S': <type 'numpy.string_'>, 'byte': <type 'numpy.int8'>, 'UInt64': <type 'numpy.uint64'>, 'g': <type 'numpy.float128'>, 'float64': <type 'numpy.float64'>, 'ushort': <type 'numpy.uint16'>, 'float_': <type 'numpy.float64'>, 'uint': <type 'numpy.uint64'>, 'object_': <type 'numpy.object_'>, 'Float16': <type 'numpy.float16'>, 'complex_': <type 'numpy.complex128'>, 'Unicode0': <type 'numpy.unicode_'>, 'uintp': <type 'numpy.uint64'>, 'intc': <type 'numpy.int32'>, 'csingle': <type 'numpy.complex64'>, 'datetime64': <type 'numpy.datetime64'>, 'float': <type 'numpy.float64'>, 'bool8': <type 'numpy.bool_'>, 'Bool': <type 'numpy.bool_'>, 'intp': <type 'numpy.int64'>, 'uintc': <type 'numpy.uint32'>, 'bytes_': <type 'numpy.string_'>, 'u8': <type 'numpy.uint64'>, 'u4': <type 'numpy.uint32'>, 'int_': <type 'numpy.int64'>, 'cdouble': <type 'numpy.complex128'>, 'u1': <type 'numpy.uint8'>, 'complex128': <type 'numpy.complex128'>, 'u2': <type 'numpy.uint16'>, 'f8': <type 'numpy.float64'>, 'Datetime64': <type 'numpy.datetime64'>, 'ubyte': <type 'numpy.uint8'>, 'm8': <type 'numpy.timedelta64'>, 'B': <type 'numpy.uint8'>, 'uint0': <type 'numpy.uint64'>, 'F': <type 'numpy.complex64'>, 'bool_': <type 'numpy.bool_'>, 'uint8': <type 'numpy.uint8'>, 'c8': <type 'numpy.complex64'>, 'Int64': <type 'numpy.int64'>, 'Int8': <type 'numpy.int8'>, 'Complex32': <type 'numpy.complex64'>, 'V': <type 'numpy.void'>, 'int8': <type 'numpy.int8'>, 'uint64': <type 'numpy.uint64'>, 'b': <type 'numpy.int8'>, 'f': <type 'numpy.float32'>, 'double': <type 'numpy.float64'>, 'UInt32': <type 'numpy.uint32'>, 'clongdouble': <type 'numpy.complex256'>, 'str': <type 'numpy.string_'>, 'f16': <type 'numpy.float128'>, 'f2': <type 'numpy.float16'>, 'f4': <type 'numpy.float32'>, 'int32': <type 'numpy.int32'>, 'int': <type 'numpy.int64'>, 'longdouble': <type 'numpy.float128'>, 'Complex128': <type 'numpy.complex256'>, 'single': <type 'numpy.float32'>, 'string': <type 'numpy.string_'>, 'q': <type 'numpy.int64'>, 'Int16': <type 'numpy.int16'>, 'Float64': <type 'numpy.float64'>, 'longcomplex': <type 'numpy.complex256'>, 'UInt16': <type 'numpy.uint16'>, 'bool': <type 'numpy.bool_'>, 'Float32': <type 'numpy.float32'>, 'string0': <type 'numpy.string_'>, 'longlong': <type 'numpy.int64'>, 'i8': <type 'numpy.int64'>, 'int16': <type 'numpy.int16'>, 'str_': <type 'numpy.string_'>, 'I': <type 'numpy.uint32'>, 'object': <type 'numpy.object_'>, 'M': <type 'numpy.datetime64'>, 'i4': <type 'numpy.int32'>, 'singlecomplex': <type 'numpy.complex64'>, 'Q': <type 'numpy.uint64'>, 'string_': <type 'numpy.string_'>, 'U': <type 'numpy.unicode_'>, 'a': <type 'numpy.string_'>, 'short': <type 'numpy.int16'>, 'e': <type 'numpy.float16'>, 'i': <type 'numpy.int32'>, 'clongfloat': <type 'numpy.complex256'>, 'm': <type 'numpy.timedelta64'>, 'Object0': <type 'numpy.object_'>, 'int64': <type 'numpy.int64'>, 'Float128': <type 'numpy.float128'>, 'i2': <type 'numpy.int16'>, 'int0': <type 'numpy.int64'>}, '__path__': ['/Users/neil/Library/Enthought/Canopy_64bit/User/lib/python2.7/site-packages/numpy'], 'shape': <function shape at 0x10a6c3410>, 'setbufsize': <function setbufsize at 0x10a6c65f0>, 'cfloat': <type 'numpy.complex128'>, 'Matrix': <class 'numpy.matrixlib.defmatrix.matrix'>, 'isscalar': <function isscalar at 0x10a6c6050>, 'character': <type 'numpy.character'>, 'bench': <bound method NoseTester.bench of <numpy.testing.nosetester.NoseTester object at 0x102d9c6d0>>, 'source': <function source at 0x10a757aa0>, 'add': <ufunc 'add'>, 'uint16': <type 'numpy.uint16'>, 'gp_link': <GPy.likelihoods.link_functions.Identity object at 0x10fd721d0>, 'bool': <type 'bool'>, 'ufunc': <type 'numpy.ufunc'>, 'save': <function save at 0x10a7aad70>, 'nanvar': <function nanvar at 0x10a76ad70>, 'ravel': <function ravel at 0x10a6c3320>, 'float32': <type 'numpy.float32'>, 'real': <function real at 0x10a73fb18>, 'int32': <type 'numpy.int32'>, 'tril_indices': <function tril_indices at 0x10a757050>, 'around': <function around at 0x10a6c3d70>, 'lexsort': <built-in function lexsort>, 'complex_': <type 'numpy.complex128'>, 'ComplexWarning': <class 'numpy.core.numeric.ComplexWarning'>, 'ipmt': <function ipmt at 0x10a7aba28>, '_import_tools': <module 'numpy._import_tools' from '/Users/neil/Library/Enthought/Canopy_64bit/User/lib/python2.7/site-packages/numpy/_import_tools.pyc'>, 'atleast_3d': <function atleast_3d at 0x10a6e3aa0>, 'isneginf': <function isneginf at 0x10a73f9b0>, 'integer': <type 'numpy.integer'>, 'unique': <function unique at 0x10a789848>, 'mod': <ufunc 'remainder'>, 'insert': <function insert at 0x10a7656e0>, 'bitwise_not': <ufunc 'invert'>, 'getbufsize': <function getbufsize at 0x10a6c6668>, 'array_equiv': <function array_equiv at 0x10a6c6488>, 'arange': <built-in function arange>, 'asarray_chkfinite': <function asarray_chkfinite at 0x10a764398>, 'in1d': <function in1d at 0x10a7899b0>, 'interp': <function interp at 0x10a764668>, 'hypot': <ufunc 'hypot'>, 'logical_and': <ufunc 'logical_and'>, 'get_printoptions': <function get_printoptions at 0x10a6c41b8>, 'diagflat': <function diagflat at 0x10a740c80>, 'float128': <type 'numpy.float128'>, 'byte_bounds': <function byte_bounds at 0x10a757848>, 'iinfo': <class 'numpy.core.getlimits.iinfo'>, 'kaiser': <function kaiser at 0x10a765230>, 'ERR_IGNORE': 0, 'polysub': <function polysub at 0x10a788938>, 'fromfile': <built-in function fromfile>, 'prod': <function prod at 0x10a6c3b18>, 'nanmax': <function nanmax at 0x10a76ab18>, 'gammaln': <ufunc 'gammaln'>, 'core': <module 'numpy.core' from '/Users/neil/Library/Enthought/Canopy_64bit/User/lib/python2.7/site-packages/numpy/core/__init__.pyc'>, 'object': <type 'object'>, 'seterrobj': <built-in function seterrobj>, 'power': <ufunc 'power'>, 'nditer': <type 'numpy.nditer'>, 'percentile': <function percentile at 0x10a765410>, 'FPE_DIVIDEBYZERO': 1, '__name__': 'numpy', 'subtract': <ufunc 'subtract'>, 'print_function': _Feature((2, 6, 0, 'alpha', 2), (3, 0, 0, 'alpha', 0), 65536), '_optimizer_copy_': None, 'oo': inf, 'nanmean': <function nanmean at 0x10a76acf8>, 'frombuffer': <built-in function frombuffer>, 'iscomplex': <function iscomplex at 0x10a73fc08>, 'add_docstring': <built-in function add_docstring>, 'argsort': <function argsort at 0x10496aed8>, '_default_constraint_': None, 'fmin': <ufunc 'fmin'>, 'acos': <ufunc 'arccos'>, 'constraints': <GPy.core.parameterization.index_operations.ParameterIndexOperations object at 0x10fd72490>, 'ones_like': <function ones_like at 0x1049616e0>, 'is_busday': <built-in function is_busday>, 'arcsinh': <ufunc 'arcsinh'>, 'intc': <type 'numpy.int32'>, 'float': <type 'float'>, 'poly': <function poly at 0x10a7885f0>, 'ndenumerate': <class 'numpy.lib.index_tricks.ndenumerate'>, 'intp': <type 'numpy.int64'>, '_optimizer_copy_transformed': False, 'unpackbits': <built-in function unpackbits>, 'Infinity': inf, 'log': <ufunc 'log'>, 'disable_rtld_global': <function disable_rtld_global at 0x10473ec08>, 'cdouble': <type 'numpy.complex128'>, 'complex128': <type 'numpy.complex128'>, 'long': <type 'long'>, 'round_': <function round_ at 0x10a6c3de8>, 'broadcast_arrays': <function broadcast_arrays at 0x10a768b90>, 'inner': <built-in function inner>, 'var': <function var at 0x10a6c3f50>, 'int_': <type 'numpy.int64'>, 'log10': <ufunc 'log10'>, 'uintp': <type 'numpy.uint64'>, 'linalg': <module 'numpy.linalg' from '/Users/neil/Library/Enthought/Canopy_64bit/User/lib/python2.7/site-packages/numpy/linalg/__init__.pyc'>, 'histogram': <function histogram at 0x10a764230>, 'issubdtype': <function issubdtype at 0x104960230>, 'int0': <type 'numpy.int64'>, 'squeeze': <function squeeze at 0x10a6c31b8>, 'int8': <type 'numpy.int8'>, 'info': <function info at 0x10a757a28>, 'seterr': <function seterr at 0x10a6c6500>, 'argmin': <function argmin at 0x10a6c3050>, 'genfromtxt': <function genfromtxt at 0x10a7ab230>, 'maximum': <ufunc 'maximum'>, 'record': <class 'numpy.core.records.record'>, 'obj2sctype': <function obj2sctype at 0x1049600c8>, 'clongdouble': <type 'numpy.complex256'>, 'sum': <function sum at 0x10a6c3578>, 'euler_gamma': 0.5772156649015329, 'log1p': <ufunc 'log1p'>, 'delete': <function delete at 0x10a765668>, 'setxor1d': <function setxor1d at 0x10a789938>, 'int': <type 'int'>, 'ediff1d': <function ediff1d at 0x10a788b18>, 'asinh': <ufunc 'arcsinh'>, 'char': <module 'numpy.core.defchararray' from '/Users/neil/Library/Enthought/Canopy_64bit/User/lib/python2.7/site-packages/numpy/core/defchararray.pyc'>, 'single': <type 'numpy.float32'>, 'loadtxt': <function loadtxt at 0x10a7ab050>, 'hsplit': <function hsplit at 0x10a76f488>, 'ScalarType': (<type 'int'>, <type 'float'>, <type 'complex'>, <type 'long'>, <type 'bool'>, <type 'str'>, <type 'unicode'>, <type 'buffer'>, <type 'numpy.int8'>, <type 'numpy.uint8'>, <type 'numpy.float16'>, <type 'numpy.timedelta64'>, <type 'numpy.bool_'>, <type 'numpy.int16'>, <type 'numpy.uint16'>, <type 'numpy.float32'>, <type 'numpy.complex64'>, <type 'numpy.string_'>, <type 'numpy.int32'>, <type 'numpy.uint32'>, <type 'numpy.float64'>, <type 'numpy.complex128'>, <type 'numpy.unicode_'>, <type 'numpy.int64'>, <type 'numpy.uint64'>, <type 'numpy.float128'>, <type 'numpy.complex256'>, <type 'numpy.void'>, <type 'numpy.int64'>, <type 'numpy.uint64'>, <type 'numpy.datetime64'>, <type 'numpy.object_'>), 'triu': <function triu at 0x10a740de8>, 'floating': <type 'numpy.floating'>, 'cacheable_vars': [f_0, y_0], 'expand_dims': <function expand_dims at 0x10a76f1b8>, 'cacheable': ['F', 'Y'], 'Tester': <class 'numpy.testing.nosetester.NoseTester'>, 'polyadd': <function polyadd at 0x10a7888c0>, 'Max': <function amax at 0x10a6c39b0>, 'nan': nan, 'modf': <ufunc 'modf'>, 'emath': <module 'numpy.lib.scimath' from '/Users/neil/Library/Enthought/Canopy_64bit/User/lib/python2.7/site-packages/numpy/lib/scimath.pyc'>, 'arctan': <ufunc 'arctan'>, 'bmat': <function bmat at 0x10a768a28>, 'isclose': <function isclose at 0x10a6c6398>, 'ERR_DEFAULT': 0, 'test': <bound method NoseTester.test of <numpy.testing.nosetester.NoseTester object at 0x102d9c3d0>>, 'enable_rtld_global': <function enable_rtld_global at 0x10473eb90>, 'roll': <function roll at 0x104961ed8>, 'string0': <type 'numpy.string_'>, 'compare_chararrays': <built-in function compare_chararrays>, 'nonzero': <function nonzero at 0x10a6c3398>, 'real_if_close': <function real_if_close at 0x10a73fed8>, 'repeat': <function repeat at 0x10496ab90>, 'E': 2.718281828459045, 'hamming': <function hamming at 0x10a764f50>, 'ALLOW_THREADS': 1, 'ravel_multi_index': <built-in function ravel_multi_index>, 'string_': <type 'numpy.string_'>, 'isinf': <ufunc 'isinf'>, 'ndarray': <type 'numpy.ndarray'>, 'e': 2.718281828459045, 'ERR_CALL': 3, 'datetime_data': <built-in function datetime_data>, 'expression_list': (-(0.5*nu + 0.5)*log(1 + (-f_0 + y_0)**2/(nu*t_scale2)) - 0.5*log(pi*nu*t_scale2) - gammaln(0.5*nu) + gammaln(0.5*nu + 0.5), -(2*f_0 - 2*y_0)*(0.5*nu + 0.5)/(nu*t_scale2*(1 + (-f_0 + y_0)**2/(nu*t_scale2))), -0.5/t_scale2 + (-f_0 + y_0)**2*(0.5*nu + 0.5)/(nu*t_scale2**2*(1 + (-f_0 + y_0)**2/(nu*t_scale2))), -0.5*log(1 + (-f_0 + y_0)**2/(nu*t_scale2)) - 0.5*polygamma(0, 0.5*nu) + 0.5*polygamma(0, 0.5*nu + 0.5) - 0.5/nu + (-f_0 + y_0)**2*(0.5*nu + 0.5)/(nu**2*t_scale2*(1 + (-f_0 + y_0)**2/(nu*t_scale2))), -2*(0.5*nu + 0.5)/(nu*t_scale2*(1 + (-f_0 + y_0)**2/(nu*t_scale2))) + (2*f_0 - 2*y_0)**2*(0.5*nu + 0.5)/(nu**2*t_scale2**2*(1 + (-f_0 + y_0)**2/(nu*t_scale2))**2), (2*f_0 - 2*y_0)*(0.5*nu + 0.5)/(nu*t_scale2**2*(1 + (-f_0 + y_0)**2/(nu*t_scale2))) - (-f_0 + y_0)**2*(2*f_0 - 2*y_0)*(0.5*nu + 0.5)/(nu**2*t_scale2**3*(1 + (-f_0 + y_0)**2/(nu*t_scale2))**2), -0.5*(2*f_0 - 2*y_0)/(nu*t_scale2*(1 + (-f_0 + y_0)**2/(nu*t_scale2))) + (2*f_0 - 2*y_0)*(0.5*nu + 0.5)/(nu**2*t_scale2*(1 + (-f_0 + y_0)**2/(nu*t_scale2))) - (-f_0 + y_0)**2*(2*f_0 - 2*y_0)*(0.5*nu + 0.5)/(nu**3*t_scale2**2*(1 + (-f_0 + y_0)**2/(nu*t_scale2))**2), 2*(2*f_0 - 2*y_0)*(0.5*nu + 0.5)/(nu**2*t_scale2**2*(1 + (-f_0 + y_0)**2/(nu*t_scale2))**2) + (8*f_0 - 8*y_0)*(0.5*nu + 0.5)/(nu**2*t_scale2**2*(1 + (-f_0 + y_0)**2/(nu*t_scale2))**2) - 2*(2*f_0 - 2*y_0)**3*(0.5*nu + 0.5)/(nu**3*t_scale2**3*(1 + (-f_0 + y_0)**2/(nu*t_scale2))**3), 2*(0.5*nu + 0.5)/(nu*t_scale2**2*(1 + (-f_0 + y_0)**2/(nu*t_scale2))) - 2*(-f_0 + y_0)**2*(0.5*nu + 0.5)/(nu**2*t_scale2**3*(1 + (-f_0 + y_0)**2/(nu*t_scale2))**2) - 2*(2*f_0 - 2*y_0)**2*(0.5*nu + 0.5)/(nu**2*t_scale2**3*(1 + (-f_0 + y_0)**2/(nu*t_scale2))**2) + 2*(-f_0 + y_0)**2*(2*f_0 - 2*y_0)**2*(0.5*nu + 0.5)/(nu**3*t_scale2**4*(1 + (-f_0 + y_0)**2/(nu*t_scale2))**3), -1.0/(nu*t_scale2*(1 + (-f_0 + y_0)**2/(nu*t_scale2))) + 2*(0.5*nu + 0.5)/(nu**2*t_scale2*(1 + (-f_0 + y_0)**2/(nu*t_scale2))) + 0.5*(2*f_0 - 2*y_0)**2/(nu**2*t_scale2**2*(1 + (-f_0 + y_0)**2/(nu*t_scale2))**2) - 2*(-f_0 + y_0)**2*(0.5*nu + 0.5)/(nu**3*t_scale2**2*(1 + (-f_0 + y_0)**2/(nu*t_scale2))**2) - 2*(2*f_0 - 2*y_0)**2*(0.5*nu + 0.5)/(nu**3*t_scale2**2*(1 + (-f_0 + y_0)**2/(nu*t_scale2))**2) + 2*(-f_0 + y_0)**2*(2*f_0 - 2*y_0)**2*(0.5*nu + 0.5)/(nu**4*t_scale2**3*(1 + (-f_0 + y_0)**2/(nu*t_scale2))**3)), 'clongfloat': <type 'numpy.complex256'>, 'full_like': <function full_like at 0x1049617d0>, 'result_type': <built-in function result_type>, 'gradient': <function gradient at 0x10a764578>, 'base_repr': <function base_repr at 0x10a6c6140>, 'argwhere': <function argwhere at 0x104961b90>, 'set_string_function': <function set_string_function at 0x10a6c4e60>}\n"
       ]
      },
      {
       "name": "stdout",
       "output_type": "stream",
       "stream": "stdout",
       "text": [
        "ipdb> nu\n"
       ]
      },
      {
       "output_type": "stream",
       "stream": "stdout",
       "text": [
        "*** NameError: name 'nu' is not defined\n"
       ]
      },
      {
       "name": "stdout",
       "output_type": "stream",
       "stream": "stdout",
       "text": [
        "ipdb> self.nu\n"
       ]
      },
      {
       "output_type": "stream",
       "stream": "stdout",
       "text": [
        "\u001b[1mgp.SstudentT.nu\u001b[0;0m:\n",
        "Param([ 5.])\n"
       ]
      },
      {
       "name": "stdout",
       "output_type": "stream",
       "stream": "stdout",
       "text": [
        "ipdb> self.nu\n"
       ]
      },
      {
       "output_type": "stream",
       "stream": "stdout",
       "text": [
        "\u001b[1mgp.SstudentT.nu\u001b[0;0m:\n",
        "Param([ 5.])\n"
       ]
      },
      {
       "name": "stdout",
       "output_type": "stream",
       "stream": "stdout",
       "text": [
        "ipdb> self.nu*3\n"
       ]
      },
      {
       "output_type": "stream",
       "stream": "stdout",
       "text": [
        "array([ 15.])\n"
       ]
      },
      {
       "name": "stdout",
       "output_type": "stream",
       "stream": "stdout",
       "text": [
        "ipdb> q\n"
       ]
      }
     ],
     "prompt_number": 6
    },
    {
     "cell_type": "code",
     "collapsed": false,
     "input": [
      "likelihood1.logpdf(1., 1.)"
     ],
     "language": "python",
     "metadata": {},
     "outputs": [
      {
       "metadata": {},
       "output_type": "pyout",
       "prompt_number": 14,
       "text": [
        "-1.3151931793346967"
       ]
      }
     ],
     "prompt_number": 14
    },
    {
     "cell_type": "code",
     "collapsed": false,
     "input": [
      "likelihood2.logpdf(1., 1.)"
     ],
     "language": "python",
     "metadata": {},
     "outputs": [
      {
       "metadata": {},
       "output_type": "pyout",
       "prompt_number": 15,
       "text": [
        "-1.3151931793346967"
       ]
      }
     ],
     "prompt_number": 15
    },
    {
     "cell_type": "code",
     "collapsed": false,
     "input": [
      "print model1\n",
      "print model2\n",
      "model1.checkgrad(verbose=True)"
     ],
     "language": "python",
     "metadata": {},
     "outputs": [
      {
       "output_type": "stream",
       "stream": "stdout",
       "text": [
        "  gp.                    |  Value  |  Constraint  |  Prior  |  Tied to\n",
        "  \u001b[1madd.trend.variance   \u001b[0;0m  |    4.0  |     +ve      |         |         \n",
        "  \u001b[1madd.trend.lengthscale\u001b[0;0m  |   40.0  |     +ve      |         |         \n",
        "  \u001b[1madd.offset.variance  \u001b[0;0m  |  100.0  |     +ve      |         |         \n",
        "  \u001b[1mStudent_T.t_scale2   \u001b[0;0m  |    2.0  |     +ve      |         |         \n",
        "  \u001b[1mStudent_T.deg_free   \u001b[0;0m  |    5.0  |    fixed     |         |         \n",
        "  gp.                    |  Value  |  Constraint  |  Prior  |  Tied to\n",
        "  \u001b[1madd.trend.variance   \u001b[0;0m  |    4.0  |     +ve      |         |         \n",
        "  \u001b[1madd.trend.lengthscale\u001b[0;0m  |   40.0  |     +ve      |         |         \n",
        "  \u001b[1madd.offset.variance  \u001b[0;0m  |  100.0  |     +ve      |         |         \n",
        "  \u001b[1mSstudentT.nu         \u001b[0;0m  |    5.0  |     +ve      |         |         \n",
        "  \u001b[1mSstudentT.t_scale2   \u001b[0;0m  |    2.0  |     +ve      |         |         \n",
        "              Name              |     Ratio     |  Difference   |  Analytical   |   Numerical   \n",
        "------------------------------------------------------------------------------------------------\n",
        "\u001b[92m gp.add.trend.variance[0] \u001b[0m      |   0.999638    |   0.000097    |   0.268131    |   0.268034    "
       ]
      },
      {
       "output_type": "stream",
       "stream": "stdout",
       "text": [
        "\n",
        "\u001b[92m gp.add.trend.lengthscale[0] \u001b[0m   |   0.995622    |   0.000256    |   -0.058557   |   -0.058301   "
       ]
      },
      {
       "output_type": "stream",
       "stream": "stdout",
       "text": [
        "\n",
        "\u001b[92m gp.add.offset.variance[0] \u001b[0m     |   1.019766    |   0.000084    |   0.004240    |   0.004324    \n",
        "\u001b[92m gp.Student_T.t_scale2[0] \u001b[0m      |   1.000173    |   0.000855    |   4.942476    |   4.943331    "
       ]
      },
      {
       "output_type": "stream",
       "stream": "stdout",
       "text": [
        "\n"
       ]
      },
      {
       "metadata": {},
       "output_type": "pyout",
       "prompt_number": 16,
       "text": [
        "True"
       ]
      }
     ],
     "prompt_number": 16
    },
    {
     "cell_type": "code",
     "collapsed": false,
     "input": [
      "model2.checkgrad(verbose=True)"
     ],
     "language": "python",
     "metadata": {},
     "outputs": [
      {
       "output_type": "stream",
       "stream": "stdout",
       "text": [
        "              Name              |     Ratio     |  Difference   |  Analytical   |   Numerical   \n",
        "------------------------------------------------------------------------------------------------\n",
        "\u001b[92m gp.add.trend.variance[0] \u001b[0m      |   1.000346    |   0.000093    |   0.268131    |   0.268224    "
       ]
      },
      {
       "output_type": "stream",
       "stream": "stdout",
       "text": [
        "\n",
        "\u001b[92m gp.add.trend.lengthscale[0] \u001b[0m   |   0.989978    |   0.000587    |   -0.058557   |   -0.057970   "
       ]
      },
      {
       "output_type": "stream",
       "stream": "stdout",
       "text": [
        "\n",
        "\u001b[92m gp.add.offset.variance[0] \u001b[0m     |   1.011719    |   0.000050    |   0.004240    |   0.004290    "
       ]
      },
      {
       "output_type": "stream",
       "stream": "stdout",
       "text": [
        "\n",
        "\u001b[92m gp.SstudentT.nu[0] \u001b[0m            |   0.999781    |   0.000071    |   -0.325801   |   -0.325730   "
       ]
      },
      {
       "output_type": "stream",
       "stream": "stdout",
       "text": [
        "\n",
        "\u001b[92m gp.SstudentT.t_scale2[0] \u001b[0m      |   1.000178    |   0.000879    |   4.942476    |   4.943355    "
       ]
      },
      {
       "output_type": "stream",
       "stream": "stdout",
       "text": [
        "\n"
       ]
      },
      {
       "metadata": {},
       "output_type": "pyout",
       "prompt_number": 17,
       "text": [
        "True"
       ]
      }
     ],
     "prompt_number": 17
    },
    {
     "cell_type": "code",
     "collapsed": false,
     "input": [
      "model2.optimize(messages=True)"
     ],
     "language": "python",
     "metadata": {},
     "outputs": [
      {
       "output_type": "stream",
       "stream": "stdout",
       "text": [
        " I      F              Scale          |g|        \n",
        "\r"
       ]
      },
      {
       "output_type": "stream",
       "stream": "stdout",
       "text": [
        "0001   7.651703e+00   2.258088e+00   2.460955e+01"
       ]
      },
      {
       "output_type": "stream",
       "stream": "stdout",
       "text": [
        " \r",
        "0002   7.468276e+00   1.129044e+00   2.818293e+01"
       ]
      },
      {
       "output_type": "stream",
       "stream": "stdout",
       "text": [
        " \r",
        "0003   7.414042e+00   5.645221e-01   2.721651e+01"
       ]
      },
      {
       "output_type": "stream",
       "stream": "stdout",
       "text": [
        " \r",
        "0004   7.414042e+00   6.919030e+02   2.693242e+01"
       ]
      },
      {
       "output_type": "stream",
       "stream": "stdout",
       "text": [
        " \r",
        "0005   7.401249e+00   2.767612e+03   2.693242e+01"
       ]
      },
      {
       "output_type": "stream",
       "stream": "stdout",
       "text": [
        " \n",
        "\r"
       ]
      },
      {
       "output_type": "stream",
       "stream": "stdout",
       "text": [
        "0006   7.375779e+00   1.383806e+03   2.686564e+01"
       ]
      },
      {
       "output_type": "stream",
       "stream": "stdout",
       "text": [
        " \r",
        "0007   7.346408e+00   6.919030e+02   2.673283e+01"
       ]
      },
      {
       "output_type": "stream",
       "stream": "stdout",
       "text": [
        " \r",
        "0008   7.270487e+00   3.459515e+02   2.658002e+01"
       ]
      },
      {
       "output_type": "stream",
       "stream": "stdout",
       "text": [
        " \r",
        "0009   6.888667e+00   1.729758e+02   2.837421e+01"
       ]
      },
      {
       "output_type": "stream",
       "stream": "stdout",
       "text": [
        " \r",
        "0010   6.567507e+00   2.860098e+02   2.810185e+01"
       ]
      },
      {
       "output_type": "stream",
       "stream": "stdout",
       "text": [
        " \r",
        "0011   6.464968e+00   1.430049e+02   2.624602e+01"
       ]
      },
      {
       "output_type": "stream",
       "stream": "stdout",
       "text": [
        " \r",
        "0012   6.112469e+00   1.987466e+02   2.563983e+01"
       ]
      },
      {
       "output_type": "stream",
       "stream": "stdout",
       "text": [
        " \r",
        "0013   6.016334e+00   9.937329e+01   2.350825e+01"
       ]
      },
      {
       "output_type": "stream",
       "stream": "stdout",
       "text": [
        " \r",
        "0014   5.568878e+00   3.714750e+02   2.291125e+01"
       ]
      },
      {
       "output_type": "stream",
       "stream": "stdout",
       "text": [
        " \n",
        "\r"
       ]
      },
      {
       "output_type": "stream",
       "stream": "stdout",
       "text": [
        "0015   5.398086e+00   1.857375e+02   2.005564e+01"
       ]
      },
      {
       "output_type": "stream",
       "stream": "stdout",
       "text": [
        " \r",
        "0016   5.235360e+00   9.286874e+01   1.892113e+01"
       ]
      },
      {
       "output_type": "stream",
       "stream": "stdout",
       "text": [
        " \r",
        "0017   4.867945e+00   4.691887e+02   1.781767e+01"
       ]
      },
      {
       "output_type": "stream",
       "stream": "stderr",
       "text": [
        "/Users/neil/SheffieldML/GPy/GPy/inference/latent_function_inference/laplace.py:129: UserWarning: Not perfect f_hat fit difference: 2.35125191021e-05\n",
        "  warnings.warn(\"Not perfect f_hat fit difference: {}\".format(difference))\n",
        "/Users/neil/SheffieldML/GPy/GPy/inference/latent_function_inference/laplace.py:129: UserWarning: Not perfect f_hat fit difference: 4.63400398443e-07\n",
        "  warnings.warn(\"Not perfect f_hat fit difference: {}\".format(difference))\n"
       ]
      },
      {
       "output_type": "stream",
       "stream": "stdout",
       "text": [
        " \r",
        "0018   4.867945e+00   5.229065e+02   1.525827e+01"
       ]
      },
      {
       "output_type": "stream",
       "stream": "stdout",
       "text": [
        " \r",
        "0019   4.867945e+00   2.091626e+03   1.525827e+01"
       ]
      },
      {
       "output_type": "stream",
       "stream": "stdout",
       "text": [
        " \r",
        "0020   4.867945e+00   8.366505e+03   1.525827e+01"
       ]
      },
      {
       "output_type": "stream",
       "stream": "stdout",
       "text": [
        " \r",
        "0021   4.867945e+00   3.346602e+04   1.525827e+01"
       ]
      },
      {
       "output_type": "stream",
       "stream": "stdout",
       "text": [
        " \r",
        "0022   4.867945e+00   1.338641e+05   1.525827e+01"
       ]
      },
      {
       "output_type": "stream",
       "stream": "stdout",
       "text": [
        " \r",
        "0023   4.867945e+00   5.354563e+05   1.525827e+01"
       ]
      },
      {
       "output_type": "stream",
       "stream": "stdout",
       "text": [
        " \r",
        "0024   4.867945e+00   2.141825e+06   1.525827e+01"
       ]
      },
      {
       "output_type": "stream",
       "stream": "stdout",
       "text": [
        " \r",
        "0025   4.867945e+00   8.567301e+06   1.525827e+01"
       ]
      },
      {
       "output_type": "stream",
       "stream": "stdout",
       "text": [
        " \r",
        "0026   4.867945e+00   3.426920e+07   1.525827e+01"
       ]
      },
      {
       "output_type": "stream",
       "stream": "stderr",
       "text": [
        "/Users/neil/SheffieldML/GPy/GPy/inference/latent_function_inference/laplace.py:129: UserWarning: Not perfect f_hat fit difference: 1.2776211038e-05\n",
        "  warnings.warn(\"Not perfect f_hat fit difference: {}\".format(difference))\n",
        "/Users/neil/SheffieldML/GPy/GPy/inference/latent_function_inference/laplace.py:129: UserWarning: Not perfect f_hat fit difference: 5.65170821315e-06\n",
        "  warnings.warn(\"Not perfect f_hat fit difference: {}\".format(difference))\n"
       ]
      },
      {
       "output_type": "stream",
       "stream": "stdout",
       "text": [
        " \r",
        "0027   4.867945e+00   1.370768e+08   1.525827e+01"
       ]
      },
      {
       "output_type": "stream",
       "stream": "stdout",
       "text": [
        " \r",
        "0028   4.867945e+00   5.483073e+08   1.525827e+01"
       ]
      },
      {
       "output_type": "stream",
       "stream": "stdout",
       "text": [
        " \r",
        "0029   4.867945e+00   2.193229e+09   1.525827e+01"
       ]
      },
      {
       "output_type": "stream",
       "stream": "stdout",
       "text": [
        " \r",
        "0030   4.867945e+00   8.772916e+09   1.525827e+01"
       ]
      },
      {
       "output_type": "stream",
       "stream": "stdout",
       "text": [
        " \r",
        "0031   4.867945e+00   3.509166e+10   1.525827e+01"
       ]
      },
      {
       "output_type": "stream",
       "stream": "stderr",
       "text": [
        "/Users/neil/SheffieldML/GPy/GPy/inference/latent_function_inference/laplace.py:129: UserWarning: Not perfect f_hat fit difference: 9.16002396459e-06\n",
        "  warnings.warn(\"Not perfect f_hat fit difference: {}\".format(difference))\n",
        "/Users/neil/SheffieldML/GPy/GPy/inference/latent_function_inference/laplace.py:129: UserWarning: Not perfect f_hat fit difference: 1.35594325245e-05\n",
        "  warnings.warn(\"Not perfect f_hat fit difference: {}\".format(difference))\n"
       ]
      },
      {
       "output_type": "stream",
       "stream": "stdout",
       "text": [
        " \r",
        "0032   4.867945e+00   1.403667e+11   1.525827e+01"
       ]
      },
      {
       "output_type": "stream",
       "stream": "stdout",
       "text": [
        " \r",
        "0033   4.867945e+00   5.614666e+11   1.525827e+01"
       ]
      },
      {
       "output_type": "stream",
       "stream": "stdout",
       "text": [
        " \r",
        "0034   4.867945e+00   2.245867e+12   1.525827e+01"
       ]
      },
      {
       "output_type": "stream",
       "stream": "stdout",
       "text": [
        " \r",
        "0035   4.867945e+00   8.983466e+12   1.525827e+01"
       ]
      },
      {
       "output_type": "stream",
       "stream": "stdout",
       "text": [
        " \r",
        "0036   4.867945e+00   3.593386e+13   1.525827e+01"
       ]
      },
      {
       "output_type": "stream",
       "stream": "stdout",
       "text": [
        " \r",
        "0037   4.867945e+00   1.437355e+14   1.525827e+01"
       ]
      },
      {
       "output_type": "stream",
       "stream": "stdout",
       "text": [
        " \r",
        "0038   4.867945e+00   5.749418e+14   1.525827e+01"
       ]
      },
      {
       "output_type": "stream",
       "stream": "stdout",
       "text": [
        " \r",
        "0039   4.867945e+00   1.000000e+15   1.525827e+01"
       ]
      },
      {
       "output_type": "stream",
       "stream": "stdout",
       "text": [
        " \n",
        "\r"
       ]
      },
      {
       "output_type": "stream",
       "stream": "stdout",
       "text": [
        "0040   4.867945e+00   1.000000e+15   1.525827e+01"
       ]
      },
      {
       "output_type": "stream",
       "stream": "stdout",
       "text": [
        " \r",
        "0041   4.867945e+00   1.000000e+15   1.525827e+01"
       ]
      },
      {
       "output_type": "stream",
       "stream": "stdout",
       "text": [
        " \r",
        "0042   4.867945e+00   1.000000e+15   1.525827e+01"
       ]
      },
      {
       "output_type": "stream",
       "stream": "stdout",
       "text": [
        " \r",
        "0043   4.867945e+00   1.000000e+15   1.525827e+01"
       ]
      },
      {
       "output_type": "stream",
       "stream": "stdout",
       "text": [
        " \r",
        "0044   4.867945e+00   1.000000e+15   1.525827e+01"
       ]
      },
      {
       "output_type": "stream",
       "stream": "stdout",
       "text": [
        " \r",
        "0045   4.867945e+00   1.000000e+15   1.525827e+01"
       ]
      },
      {
       "output_type": "stream",
       "stream": "stdout",
       "text": [
        " \r",
        "0046   4.867945e+00   1.000000e+15   1.525827e+01"
       ]
      },
      {
       "output_type": "stream",
       "stream": "stdout",
       "text": [
        " \r",
        "0047   4.867945e+00   1.000000e+15   1.525827e+01"
       ]
      },
      {
       "output_type": "stream",
       "stream": "stdout",
       "text": [
        " \r",
        "0048   4.867945e+00   1.000000e+15   1.525827e+01"
       ]
      },
      {
       "output_type": "stream",
       "stream": "stdout",
       "text": [
        " \r",
        "0049   4.867945e+00   1.000000e+15   1.525827e+01"
       ]
      },
      {
       "output_type": "stream",
       "stream": "stdout",
       "text": [
        " \r",
        "0050   4.867945e+00   1.000000e+15   1.525827e+01"
       ]
      },
      {
       "output_type": "stream",
       "stream": "stdout",
       "text": [
        " \r",
        "0051   4.867945e+00   1.000000e+15   1.525827e+01"
       ]
      },
      {
       "output_type": "stream",
       "stream": "stdout",
       "text": [
        " \r",
        "0052   4.867945e+00   1.000000e+15   1.525827e+01"
       ]
      },
      {
       "output_type": "stream",
       "stream": "stdout",
       "text": [
        " \r",
        "0053   4.867945e+00   1.000000e+15   1.525827e+01"
       ]
      },
      {
       "output_type": "stream",
       "stream": "stdout",
       "text": [
        " \r",
        "0054   4.867945e+00   1.000000e+15   1.525827e+01"
       ]
      },
      {
       "output_type": "stream",
       "stream": "stdout",
       "text": [
        " \r",
        "0055   4.867945e+00   1.000000e+15   1.525827e+01"
       ]
      },
      {
       "output_type": "stream",
       "stream": "stdout",
       "text": [
        " \r",
        "0056   4.867945e+00   1.000000e+15   1.525827e+01"
       ]
      },
      {
       "output_type": "stream",
       "stream": "stdout",
       "text": [
        " \r",
        "0057   4.867945e+00   1.000000e+15   1.525827e+01"
       ]
      },
      {
       "output_type": "stream",
       "stream": "stdout",
       "text": [
        " \r",
        "0058   4.867945e+00   1.000000e+15   1.525827e+01"
       ]
      },
      {
       "output_type": "stream",
       "stream": "stdout",
       "text": [
        " \r",
        "0059   4.867945e+00   1.000000e+15   1.525827e+01"
       ]
      },
      {
       "output_type": "stream",
       "stream": "stdout",
       "text": [
        " \r",
        "0060   4.867945e+00   1.000000e+15   1.525827e+01"
       ]
      },
      {
       "output_type": "stream",
       "stream": "stdout",
       "text": [
        " \r",
        "0061   4.867945e+00   1.000000e+15   1.525827e+01"
       ]
      },
      {
       "output_type": "stream",
       "stream": "stdout",
       "text": [
        " \r",
        "0062   4.867945e+00   1.000000e+15   1.525827e+01"
       ]
      },
      {
       "output_type": "stream",
       "stream": "stdout",
       "text": [
        " \r",
        "0063   4.867945e+00   1.000000e+15   1.525827e+01"
       ]
      },
      {
       "output_type": "stream",
       "stream": "stdout",
       "text": [
        " \r",
        "0064   4.867945e+00   1.000000e+15   1.525827e+01"
       ]
      },
      {
       "output_type": "stream",
       "stream": "stdout",
       "text": [
        " \r",
        "0065   4.867945e+00   1.000000e+15   1.525827e+01"
       ]
      },
      {
       "output_type": "stream",
       "stream": "stdout",
       "text": [
        " \r",
        "0066   4.867945e+00   1.000000e+15   1.525827e+01"
       ]
      },
      {
       "output_type": "stream",
       "stream": "stdout",
       "text": [
        " \r",
        "0067   4.867945e+00   1.000000e+15   1.525827e+01"
       ]
      },
      {
       "output_type": "stream",
       "stream": "stdout",
       "text": [
        " \r",
        "0068   4.867945e+00   1.000000e+15   1.525827e+01"
       ]
      },
      {
       "output_type": "stream",
       "stream": "stdout",
       "text": [
        " \r",
        "0069   4.867945e+00   1.000000e+15   1.525827e+01"
       ]
      },
      {
       "output_type": "stream",
       "stream": "stdout",
       "text": [
        " \r",
        "0070   4.867945e+00   1.000000e+15   1.525827e+01"
       ]
      },
      {
       "output_type": "stream",
       "stream": "stdout",
       "text": [
        " \r",
        "0071   4.867945e+00   1.000000e+15   1.525827e+01"
       ]
      },
      {
       "output_type": "stream",
       "stream": "stdout",
       "text": [
        " \r",
        "0072   4.867945e+00   1.000000e+15   1.525827e+01"
       ]
      },
      {
       "output_type": "stream",
       "stream": "stdout",
       "text": [
        " \r",
        "0073   4.867945e+00   1.000000e+15   1.525827e+01"
       ]
      },
      {
       "output_type": "stream",
       "stream": "stdout",
       "text": [
        " \r",
        "0074   4.867945e+00   1.000000e+15   1.525827e+01"
       ]
      },
      {
       "output_type": "stream",
       "stream": "stdout",
       "text": [
        " \r",
        "0075   4.867945e+00   1.000000e+15   1.525827e+01"
       ]
      },
      {
       "output_type": "stream",
       "stream": "stdout",
       "text": [
        " \r",
        "0076   4.867945e+00   1.000000e+15   1.525827e+01"
       ]
      },
      {
       "output_type": "stream",
       "stream": "stdout",
       "text": [
        " \r",
        "0077   4.867945e+00   1.000000e+15   1.525827e+01"
       ]
      },
      {
       "output_type": "stream",
       "stream": "stdout",
       "text": [
        " \r",
        "0078   4.867945e+00   1.000000e+15   1.525827e+01"
       ]
      },
      {
       "output_type": "stream",
       "stream": "stdout",
       "text": [
        " \r",
        "0079   4.867945e+00   1.000000e+15   1.525827e+01"
       ]
      },
      {
       "output_type": "stream",
       "stream": "stdout",
       "text": [
        " \r",
        "0080   4.867945e+00   1.000000e+15   1.525827e+01"
       ]
      },
      {
       "output_type": "stream",
       "stream": "stdout",
       "text": [
        " \r",
        "0081   4.867945e+00   1.000000e+15   1.525827e+01"
       ]
      },
      {
       "output_type": "stream",
       "stream": "stdout",
       "text": [
        " \r",
        "0082   4.867945e+00   1.000000e+15   1.525827e+01"
       ]
      },
      {
       "output_type": "stream",
       "stream": "stdout",
       "text": [
        " \r",
        "0083   4.867945e+00   1.000000e+15   1.525827e+01"
       ]
      },
      {
       "output_type": "stream",
       "stream": "stdout",
       "text": [
        " \r",
        "0084   4.867945e+00   1.000000e+15   1.525827e+01"
       ]
      },
      {
       "output_type": "stream",
       "stream": "stdout",
       "text": [
        " \r",
        "0085   4.867945e+00   1.000000e+15   1.525827e+01"
       ]
      },
      {
       "output_type": "stream",
       "stream": "stdout",
       "text": [
        " \r",
        "0086   4.867945e+00   1.000000e+15   1.525827e+01"
       ]
      },
      {
       "output_type": "stream",
       "stream": "stdout",
       "text": [
        " \r",
        "0087   4.867945e+00   1.000000e+15   1.525827e+01"
       ]
      },
      {
       "output_type": "stream",
       "stream": "stdout",
       "text": [
        " \r",
        "0088   4.867945e+00   1.000000e+15   1.525827e+01"
       ]
      },
      {
       "output_type": "stream",
       "stream": "stdout",
       "text": [
        " \r",
        "0089   4.867945e+00   1.000000e+15   1.525827e+01"
       ]
      },
      {
       "output_type": "stream",
       "stream": "stdout",
       "text": [
        " \r",
        "0090   4.867945e+00   1.000000e+15   1.525827e+01"
       ]
      },
      {
       "output_type": "stream",
       "stream": "stdout",
       "text": [
        " \r",
        "0091   4.867945e+00   1.000000e+15   1.525827e+01"
       ]
      },
      {
       "output_type": "stream",
       "stream": "stdout",
       "text": [
        " \r",
        "0092   4.867945e+00   1.000000e+15   1.525827e+01"
       ]
      },
      {
       "output_type": "stream",
       "stream": "stdout",
       "text": [
        " \r",
        "0093   4.867945e+00   1.000000e+15   1.525827e+01"
       ]
      },
      {
       "output_type": "stream",
       "stream": "stdout",
       "text": [
        " \r",
        "0094   4.867945e+00   1.000000e+15   1.525827e+01"
       ]
      },
      {
       "output_type": "stream",
       "stream": "stdout",
       "text": [
        " \r",
        "0095   4.867945e+00   1.000000e+15   1.525827e+01"
       ]
      },
      {
       "output_type": "stream",
       "stream": "stdout",
       "text": [
        " \r",
        "0096   4.867945e+00   1.000000e+15   1.525827e+01"
       ]
      },
      {
       "output_type": "stream",
       "stream": "stdout",
       "text": [
        " \r",
        "0097   4.867945e+00   1.000000e+15   1.525827e+01"
       ]
      },
      {
       "output_type": "stream",
       "stream": "stdout",
       "text": [
        " \r",
        "0098   4.867945e+00   1.000000e+15   1.525827e+01"
       ]
      },
      {
       "output_type": "stream",
       "stream": "stdout",
       "text": [
        " \r",
        "0099   4.867945e+00   1.000000e+15   1.525827e+01"
       ]
      },
      {
       "output_type": "stream",
       "stream": "stdout",
       "text": [
        " \r",
        "0100   4.867945e+00   1.000000e+15   1.525827e+01"
       ]
      },
      {
       "output_type": "stream",
       "stream": "stdout",
       "text": [
        " \r",
        "0101   4.867945e+00   1.000000e+15   1.525827e+01"
       ]
      },
      {
       "output_type": "stream",
       "stream": "stdout",
       "text": [
        " \r",
        "0102   4.867945e+00   1.000000e+15   1.525827e+01"
       ]
      },
      {
       "output_type": "stream",
       "stream": "stdout",
       "text": [
        " \r",
        "0103   4.867945e+00   1.000000e+15   1.525827e+01"
       ]
      },
      {
       "output_type": "stream",
       "stream": "stdout",
       "text": [
        " \r",
        "0104   4.867945e+00   1.000000e+15   1.525827e+01"
       ]
      },
      {
       "output_type": "stream",
       "stream": "stdout",
       "text": [
        " \r",
        "0105   4.867945e+00   1.000000e+15   1.525827e+01"
       ]
      },
      {
       "output_type": "stream",
       "stream": "stdout",
       "text": [
        " \r",
        "0106   4.867945e+00   1.000000e+15   1.525827e+01"
       ]
      },
      {
       "output_type": "stream",
       "stream": "stdout",
       "text": [
        " \r",
        "0107   4.867945e+00   1.000000e+15   1.525827e+01"
       ]
      },
      {
       "output_type": "stream",
       "stream": "stdout",
       "text": [
        " \r",
        "0108   4.867945e+00   1.000000e+15   1.525827e+01"
       ]
      },
      {
       "output_type": "stream",
       "stream": "stdout",
       "text": [
        " \r",
        "0109   4.867945e+00   1.000000e+15   1.525827e+01"
       ]
      },
      {
       "output_type": "stream",
       "stream": "stdout",
       "text": [
        " \n",
        "\r"
       ]
      },
      {
       "output_type": "stream",
       "stream": "stdout",
       "text": [
        "0110   4.867945e+00   1.000000e+15   1.525827e+01"
       ]
      },
      {
       "output_type": "stream",
       "stream": "stdout",
       "text": [
        " \r",
        "0111   4.867945e+00   1.000000e+15   1.525827e+01"
       ]
      },
      {
       "output_type": "stream",
       "stream": "stdout",
       "text": [
        " \r",
        "0112   4.867945e+00   1.000000e+15   1.525827e+01"
       ]
      },
      {
       "output_type": "stream",
       "stream": "stdout",
       "text": [
        " \r",
        "0113   4.867945e+00   1.000000e+15   1.525827e+01"
       ]
      },
      {
       "output_type": "stream",
       "stream": "stdout",
       "text": [
        " \r",
        "0114   4.867945e+00   1.000000e+15   1.525827e+01"
       ]
      },
      {
       "output_type": "stream",
       "stream": "stdout",
       "text": [
        " \r",
        "0115   4.867945e+00   1.000000e+15   1.525827e+01"
       ]
      },
      {
       "output_type": "stream",
       "stream": "stdout",
       "text": [
        " \r",
        "0116   4.867945e+00   1.000000e+15   1.525827e+01"
       ]
      },
      {
       "output_type": "stream",
       "stream": "stdout",
       "text": [
        " \r",
        "0117   4.867945e+00   1.000000e+15   1.525827e+01"
       ]
      },
      {
       "output_type": "stream",
       "stream": "stdout",
       "text": [
        " \r",
        "0118   4.867945e+00   1.000000e+15   1.525827e+01"
       ]
      },
      {
       "output_type": "stream",
       "stream": "stdout",
       "text": [
        " \r",
        "0119   4.867945e+00   1.000000e+15   1.525827e+01"
       ]
      },
      {
       "output_type": "stream",
       "stream": "stdout",
       "text": [
        " \r",
        "0120   4.867945e+00   1.000000e+15   1.525827e+01"
       ]
      },
      {
       "output_type": "stream",
       "stream": "stdout",
       "text": [
        " \r",
        "0121   4.867945e+00   1.000000e+15   1.525827e+01"
       ]
      },
      {
       "output_type": "stream",
       "stream": "stdout",
       "text": [
        " \r",
        "0122   4.867945e+00   1.000000e+15   1.525827e+01"
       ]
      },
      {
       "output_type": "stream",
       "stream": "stdout",
       "text": [
        " \r",
        "0123   4.867945e+00   1.000000e+15   1.525827e+01"
       ]
      },
      {
       "output_type": "stream",
       "stream": "stdout",
       "text": [
        " \r",
        "0124   4.867945e+00   1.000000e+15   1.525827e+01"
       ]
      },
      {
       "output_type": "stream",
       "stream": "stdout",
       "text": [
        " \r",
        "0125   4.867945e+00   1.000000e+15   1.525827e+01"
       ]
      },
      {
       "output_type": "stream",
       "stream": "stdout",
       "text": [
        " \r",
        "0126   4.867945e+00   1.000000e+15   1.525827e+01"
       ]
      },
      {
       "output_type": "stream",
       "stream": "stdout",
       "text": [
        " \r",
        "0127   4.867945e+00   1.000000e+15   1.525827e+01"
       ]
      },
      {
       "output_type": "stream",
       "stream": "stdout",
       "text": [
        " \r",
        "0128   4.867945e+00   1.000000e+15   1.525827e+01"
       ]
      },
      {
       "output_type": "stream",
       "stream": "stdout",
       "text": [
        " \r",
        "0129   4.867945e+00   1.000000e+15   1.525827e+01"
       ]
      },
      {
       "output_type": "stream",
       "stream": "stdout",
       "text": [
        " \r",
        "0130   4.867945e+00   1.000000e+15   1.525827e+01"
       ]
      },
      {
       "output_type": "stream",
       "stream": "stdout",
       "text": [
        " \r",
        "0131   4.867945e+00   1.000000e+15   1.525827e+01"
       ]
      },
      {
       "output_type": "stream",
       "stream": "stdout",
       "text": [
        " \r",
        "0132   4.867945e+00   1.000000e+15   1.525827e+01"
       ]
      },
      {
       "output_type": "stream",
       "stream": "stdout",
       "text": [
        " \r",
        "0133   4.867945e+00   1.000000e+15   1.525827e+01"
       ]
      },
      {
       "output_type": "stream",
       "stream": "stdout",
       "text": [
        " \r",
        "0134   4.867945e+00   1.000000e+15   1.525827e+01"
       ]
      },
      {
       "output_type": "stream",
       "stream": "stdout",
       "text": [
        " \r",
        "0135   4.867945e+00   1.000000e+15   1.525827e+01"
       ]
      },
      {
       "output_type": "stream",
       "stream": "stdout",
       "text": [
        " \r",
        "0136   4.867945e+00   1.000000e+15   1.525827e+01"
       ]
      },
      {
       "output_type": "stream",
       "stream": "stdout",
       "text": [
        " \r",
        "0137   4.867945e+00   1.000000e+15   1.525827e+01"
       ]
      },
      {
       "output_type": "stream",
       "stream": "stdout",
       "text": [
        " \r",
        "0138   4.867945e+00   1.000000e+15   1.525827e+01"
       ]
      },
      {
       "output_type": "stream",
       "stream": "stdout",
       "text": [
        " \r",
        "0139   4.867945e+00   1.000000e+15   1.525827e+01"
       ]
      },
      {
       "output_type": "stream",
       "stream": "stdout",
       "text": [
        " \r",
        "0140   4.867945e+00   1.000000e+15   1.525827e+01"
       ]
      },
      {
       "output_type": "stream",
       "stream": "stdout",
       "text": [
        " \r",
        "0141   4.867945e+00   1.000000e+15   1.525827e+01"
       ]
      },
      {
       "output_type": "stream",
       "stream": "stdout",
       "text": [
        " \r",
        "0142   4.867945e+00   1.000000e+15   1.525827e+01"
       ]
      },
      {
       "output_type": "stream",
       "stream": "stdout",
       "text": [
        " \r",
        "0143   4.867945e+00   1.000000e+15   1.525827e+01"
       ]
      },
      {
       "output_type": "stream",
       "stream": "stdout",
       "text": [
        " \r",
        "0144   4.867945e+00   1.000000e+15   1.525827e+01"
       ]
      },
      {
       "output_type": "stream",
       "stream": "stdout",
       "text": [
        " \r",
        "0145   4.867945e+00   1.000000e+15   1.525827e+01"
       ]
      },
      {
       "output_type": "stream",
       "stream": "stdout",
       "text": [
        " \r",
        "0146   4.867945e+00   1.000000e+15   1.525827e+01"
       ]
      },
      {
       "output_type": "stream",
       "stream": "stdout",
       "text": [
        " \r",
        "0147   4.867945e+00   1.000000e+15   1.525827e+01"
       ]
      },
      {
       "output_type": "stream",
       "stream": "stdout",
       "text": [
        " \r",
        "0148   4.867945e+00   1.000000e+15   1.525827e+01"
       ]
      },
      {
       "output_type": "stream",
       "stream": "stdout",
       "text": [
        " \r",
        "0149   4.867945e+00   1.000000e+15   1.525827e+01"
       ]
      },
      {
       "output_type": "stream",
       "stream": "stdout",
       "text": [
        " \r",
        "0150   4.867945e+00   1.000000e+15   1.525827e+01"
       ]
      },
      {
       "output_type": "stream",
       "stream": "stdout",
       "text": [
        " \r",
        "0151   4.867945e+00   1.000000e+15   1.525827e+01"
       ]
      },
      {
       "output_type": "stream",
       "stream": "stdout",
       "text": [
        " \r",
        "0152   4.867945e+00   1.000000e+15   1.525827e+01"
       ]
      },
      {
       "output_type": "stream",
       "stream": "stdout",
       "text": [
        " \r",
        "0153   4.867945e+00   1.000000e+15   1.525827e+01"
       ]
      },
      {
       "output_type": "stream",
       "stream": "stdout",
       "text": [
        " \r",
        "0154   4.867945e+00   1.000000e+15   1.525827e+01"
       ]
      },
      {
       "output_type": "stream",
       "stream": "stdout",
       "text": [
        " \r",
        "0155   4.867945e+00   1.000000e+15   1.525827e+01"
       ]
      },
      {
       "output_type": "stream",
       "stream": "stdout",
       "text": [
        " \r",
        "0156   4.867945e+00   1.000000e+15   1.525827e+01"
       ]
      },
      {
       "output_type": "stream",
       "stream": "stdout",
       "text": [
        " \r",
        "0157   4.867945e+00   1.000000e+15   1.525827e+01"
       ]
      },
      {
       "output_type": "stream",
       "stream": "stdout",
       "text": [
        " \r",
        "0158   4.867945e+00   1.000000e+15   1.525827e+01"
       ]
      },
      {
       "output_type": "stream",
       "stream": "stdout",
       "text": [
        " \r",
        "0159   4.867945e+00   1.000000e+15   1.525827e+01"
       ]
      },
      {
       "output_type": "stream",
       "stream": "stdout",
       "text": [
        " \r",
        "0160   4.867945e+00   1.000000e+15   1.525827e+01"
       ]
      },
      {
       "output_type": "stream",
       "stream": "stdout",
       "text": [
        " \r",
        "0161   4.867945e+00   1.000000e+15   1.525827e+01"
       ]
      },
      {
       "output_type": "stream",
       "stream": "stdout",
       "text": [
        " \r",
        "0162   4.867945e+00   1.000000e+15   1.525827e+01"
       ]
      },
      {
       "output_type": "stream",
       "stream": "stdout",
       "text": [
        " \r",
        "0163   4.867945e+00   1.000000e+15   1.525827e+01"
       ]
      },
      {
       "output_type": "stream",
       "stream": "stdout",
       "text": [
        " \r",
        "0164   4.867945e+00   1.000000e+15   1.525827e+01"
       ]
      },
      {
       "output_type": "stream",
       "stream": "stdout",
       "text": [
        " \r",
        "0165   4.867945e+00   1.000000e+15   1.525827e+01"
       ]
      },
      {
       "output_type": "stream",
       "stream": "stdout",
       "text": [
        " \r",
        "0166   4.867945e+00   1.000000e+15   1.525827e+01"
       ]
      },
      {
       "output_type": "stream",
       "stream": "stdout",
       "text": [
        " \r",
        "0167   4.867945e+00   1.000000e+15   1.525827e+01"
       ]
      },
      {
       "output_type": "stream",
       "stream": "stdout",
       "text": [
        " \r",
        "0168   4.867945e+00   1.000000e+15   1.525827e+01"
       ]
      },
      {
       "output_type": "stream",
       "stream": "stdout",
       "text": [
        " \r",
        "0169   4.867945e+00   1.000000e+15   1.525827e+01"
       ]
      },
      {
       "output_type": "stream",
       "stream": "stdout",
       "text": [
        " \r",
        "0170   4.867945e+00   1.000000e+15   1.525827e+01"
       ]
      },
      {
       "output_type": "stream",
       "stream": "stdout",
       "text": [
        " \r",
        "0171   4.867945e+00   1.000000e+15   1.525827e+01"
       ]
      },
      {
       "output_type": "stream",
       "stream": "stdout",
       "text": [
        " \r",
        "0172   4.867945e+00   1.000000e+15   1.525827e+01"
       ]
      },
      {
       "output_type": "stream",
       "stream": "stdout",
       "text": [
        " \r",
        "0173   4.867945e+00   1.000000e+15   1.525827e+01"
       ]
      },
      {
       "output_type": "stream",
       "stream": "stdout",
       "text": [
        " \r",
        "0174   4.867945e+00   1.000000e+15   1.525827e+01"
       ]
      },
      {
       "output_type": "stream",
       "stream": "stdout",
       "text": [
        " \r",
        "0175   4.867945e+00   1.000000e+15   1.525827e+01"
       ]
      },
      {
       "output_type": "stream",
       "stream": "stdout",
       "text": [
        " \r",
        "0176   4.867945e+00   1.000000e+15   1.525827e+01"
       ]
      },
      {
       "output_type": "stream",
       "stream": "stdout",
       "text": [
        " \r",
        "0177   4.867945e+00   1.000000e+15   1.525827e+01"
       ]
      },
      {
       "output_type": "stream",
       "stream": "stdout",
       "text": [
        " \r",
        "0178   4.867945e+00   1.000000e+15   1.525827e+01"
       ]
      },
      {
       "output_type": "stream",
       "stream": "stdout",
       "text": [
        " \r",
        "0179   4.867945e+00   1.000000e+15   1.525827e+01"
       ]
      },
      {
       "output_type": "stream",
       "stream": "stdout",
       "text": [
        " \r",
        "0180   4.867945e+00   1.000000e+15   1.525827e+01"
       ]
      },
      {
       "output_type": "stream",
       "stream": "stdout",
       "text": [
        " \r",
        "0181   4.867945e+00   1.000000e+15   1.525827e+01"
       ]
      },
      {
       "output_type": "stream",
       "stream": "stdout",
       "text": [
        " \r",
        "0182   4.867945e+00   1.000000e+15   1.525827e+01"
       ]
      },
      {
       "output_type": "stream",
       "stream": "stdout",
       "text": [
        " \r",
        "0183   4.867945e+00   1.000000e+15   1.525827e+01"
       ]
      },
      {
       "output_type": "stream",
       "stream": "stdout",
       "text": [
        " \r",
        "0184   4.867945e+00   1.000000e+15   1.525827e+01"
       ]
      },
      {
       "output_type": "stream",
       "stream": "stdout",
       "text": [
        " \r",
        "0185   4.867945e+00   1.000000e+15   1.525827e+01"
       ]
      },
      {
       "output_type": "stream",
       "stream": "stdout",
       "text": [
        " \r",
        "0186   4.867945e+00   1.000000e+15   1.525827e+01"
       ]
      },
      {
       "output_type": "stream",
       "stream": "stdout",
       "text": [
        " \r",
        "0187   4.867945e+00   1.000000e+15   1.525827e+01"
       ]
      },
      {
       "output_type": "stream",
       "stream": "stdout",
       "text": [
        " \r",
        "0188   4.867945e+00   1.000000e+15   1.525827e+01"
       ]
      },
      {
       "output_type": "stream",
       "stream": "stdout",
       "text": [
        " \r",
        "0189   4.867945e+00   1.000000e+15   1.525827e+01"
       ]
      },
      {
       "output_type": "stream",
       "stream": "stdout",
       "text": [
        " \r",
        "0190   4.867945e+00   1.000000e+15   1.525827e+01"
       ]
      },
      {
       "output_type": "stream",
       "stream": "stdout",
       "text": [
        " \r",
        "0191   4.867945e+00   1.000000e+15   1.525827e+01"
       ]
      },
      {
       "output_type": "stream",
       "stream": "stdout",
       "text": [
        " \r",
        "0192   4.867945e+00   1.000000e+15   1.525827e+01"
       ]
      },
      {
       "output_type": "stream",
       "stream": "stdout",
       "text": [
        " \r",
        "0193   4.867945e+00   1.000000e+15   1.525827e+01"
       ]
      },
      {
       "output_type": "stream",
       "stream": "stdout",
       "text": [
        " \r",
        "0194   4.867945e+00   1.000000e+15   1.525827e+01"
       ]
      },
      {
       "output_type": "stream",
       "stream": "stdout",
       "text": [
        " \r",
        "0195   4.867945e+00   1.000000e+15   1.525827e+01"
       ]
      },
      {
       "output_type": "stream",
       "stream": "stdout",
       "text": [
        " \r",
        "0196   4.867945e+00   1.000000e+15   1.525827e+01"
       ]
      },
      {
       "output_type": "stream",
       "stream": "stdout",
       "text": [
        " \r",
        "0197   4.867945e+00   1.000000e+15   1.525827e+01"
       ]
      },
      {
       "output_type": "stream",
       "stream": "stdout",
       "text": [
        " \r",
        "0198   4.867945e+00   1.000000e+15   1.525827e+01"
       ]
      },
      {
       "output_type": "stream",
       "stream": "stdout",
       "text": [
        " \r",
        "0199   4.867945e+00   1.000000e+15   1.525827e+01"
       ]
      },
      {
       "output_type": "stream",
       "stream": "stdout",
       "text": [
        " \r",
        "0200   4.867945e+00   1.000000e+15   1.525827e+01"
       ]
      },
      {
       "output_type": "stream",
       "stream": "stdout",
       "text": [
        " \r",
        "0201   4.867945e+00   1.000000e+15   1.525827e+01"
       ]
      },
      {
       "output_type": "stream",
       "stream": "stdout",
       "text": [
        " \r",
        "0202   4.867945e+00   1.000000e+15   1.525827e+01"
       ]
      },
      {
       "output_type": "stream",
       "stream": "stdout",
       "text": [
        " \r",
        "0203   4.867945e+00   1.000000e+15   1.525827e+01"
       ]
      },
      {
       "output_type": "stream",
       "stream": "stdout",
       "text": [
        " \r",
        "0204   4.867945e+00   1.000000e+15   1.525827e+01"
       ]
      },
      {
       "output_type": "stream",
       "stream": "stdout",
       "text": [
        " \r",
        "0205   4.867945e+00   1.000000e+15   1.525827e+01"
       ]
      },
      {
       "output_type": "stream",
       "stream": "stdout",
       "text": [
        " \r",
        "0206   4.867945e+00   1.000000e+15   1.525827e+01"
       ]
      },
      {
       "output_type": "stream",
       "stream": "stdout",
       "text": [
        " \r",
        "0207   4.867945e+00   1.000000e+15   1.525827e+01"
       ]
      },
      {
       "output_type": "stream",
       "stream": "stdout",
       "text": [
        " \r",
        "0208   4.867945e+00   1.000000e+15   1.525827e+01"
       ]
      },
      {
       "output_type": "stream",
       "stream": "stdout",
       "text": [
        " \r",
        "0209   4.867945e+00   1.000000e+15   1.525827e+01"
       ]
      },
      {
       "output_type": "stream",
       "stream": "stdout",
       "text": [
        " \r",
        "0210   4.867945e+00   1.000000e+15   1.525827e+01"
       ]
      },
      {
       "output_type": "stream",
       "stream": "stdout",
       "text": [
        " \r",
        "0211   4.867945e+00   1.000000e+15   1.525827e+01"
       ]
      },
      {
       "output_type": "stream",
       "stream": "stdout",
       "text": [
        " \r",
        "0212   4.867945e+00   1.000000e+15   1.525827e+01"
       ]
      },
      {
       "output_type": "stream",
       "stream": "stdout",
       "text": [
        " \r",
        "0213   4.867945e+00   1.000000e+15   1.525827e+01"
       ]
      },
      {
       "output_type": "stream",
       "stream": "stdout",
       "text": [
        " \r",
        "0214   4.867945e+00   1.000000e+15   1.525827e+01"
       ]
      },
      {
       "output_type": "stream",
       "stream": "stdout",
       "text": [
        " \r",
        "0215   4.867945e+00   1.000000e+15   1.525827e+01"
       ]
      },
      {
       "output_type": "stream",
       "stream": "stdout",
       "text": [
        " \r",
        "0216   4.867945e+00   1.000000e+15   1.525827e+01"
       ]
      },
      {
       "output_type": "stream",
       "stream": "stdout",
       "text": [
        " \r",
        "0217   4.867945e+00   1.000000e+15   1.525827e+01"
       ]
      },
      {
       "output_type": "stream",
       "stream": "stdout",
       "text": [
        " \r",
        "0218   4.867945e+00   1.000000e+15   1.525827e+01"
       ]
      },
      {
       "output_type": "stream",
       "stream": "stdout",
       "text": [
        " \r",
        "0219   4.867945e+00   1.000000e+15   1.525827e+01"
       ]
      },
      {
       "output_type": "stream",
       "stream": "stdout",
       "text": [
        " \r",
        "0220   4.867945e+00   1.000000e+15   1.525827e+01"
       ]
      },
      {
       "output_type": "stream",
       "stream": "stdout",
       "text": [
        " \r",
        "0221   4.867945e+00   1.000000e+15   1.525827e+01"
       ]
      },
      {
       "output_type": "stream",
       "stream": "stdout",
       "text": [
        " \r",
        "0222   4.867945e+00   1.000000e+15   1.525827e+01"
       ]
      },
      {
       "output_type": "stream",
       "stream": "stdout",
       "text": [
        " \r",
        "0223   4.867945e+00   1.000000e+15   1.525827e+01"
       ]
      },
      {
       "output_type": "stream",
       "stream": "stdout",
       "text": [
        " \r",
        "0224   4.867945e+00   1.000000e+15   1.525827e+01"
       ]
      },
      {
       "output_type": "stream",
       "stream": "stdout",
       "text": [
        " \r",
        "0225   4.867945e+00   1.000000e+15   1.525827e+01"
       ]
      },
      {
       "output_type": "stream",
       "stream": "stdout",
       "text": [
        " \r",
        "0226   4.867945e+00   1.000000e+15   1.525827e+01"
       ]
      },
      {
       "output_type": "stream",
       "stream": "stdout",
       "text": [
        " \r",
        "0227   4.867945e+00   1.000000e+15   1.525827e+01"
       ]
      },
      {
       "output_type": "stream",
       "stream": "stdout",
       "text": [
        " \r",
        "0228   4.867945e+00   1.000000e+15   1.525827e+01"
       ]
      },
      {
       "output_type": "stream",
       "stream": "stdout",
       "text": [
        " \r",
        "0229   4.867945e+00   1.000000e+15   1.525827e+01"
       ]
      },
      {
       "output_type": "stream",
       "stream": "stdout",
       "text": [
        " \r",
        "0230   4.867945e+00   1.000000e+15   1.525827e+01"
       ]
      },
      {
       "output_type": "stream",
       "stream": "stdout",
       "text": [
        " \r",
        "0231   4.867945e+00   1.000000e+15   1.525827e+01"
       ]
      },
      {
       "output_type": "stream",
       "stream": "stdout",
       "text": [
        " \r",
        "0232   4.867945e+00   1.000000e+15   1.525827e+01"
       ]
      },
      {
       "output_type": "stream",
       "stream": "stdout",
       "text": [
        " \r",
        "0233   4.867945e+00   1.000000e+15   1.525827e+01"
       ]
      },
      {
       "output_type": "stream",
       "stream": "stdout",
       "text": [
        " \r",
        "0234   4.867945e+00   1.000000e+15   1.525827e+01"
       ]
      },
      {
       "output_type": "stream",
       "stream": "stdout",
       "text": [
        " \r",
        "0235   4.867945e+00   1.000000e+15   1.525827e+01"
       ]
      },
      {
       "output_type": "stream",
       "stream": "stdout",
       "text": [
        " \r",
        "0236   4.867945e+00   1.000000e+15   1.525827e+01"
       ]
      },
      {
       "output_type": "stream",
       "stream": "stdout",
       "text": [
        " \r",
        "0237   4.867945e+00   1.000000e+15   1.525827e+01"
       ]
      },
      {
       "output_type": "stream",
       "stream": "stdout",
       "text": [
        " \r",
        "0238   4.867945e+00   1.000000e+15   1.525827e+01"
       ]
      },
      {
       "output_type": "stream",
       "stream": "stdout",
       "text": [
        " \r",
        "0239   4.867945e+00   1.000000e+15   1.525827e+01"
       ]
      },
      {
       "output_type": "stream",
       "stream": "stdout",
       "text": [
        " \r",
        "0240   4.867945e+00   1.000000e+15   1.525827e+01"
       ]
      },
      {
       "output_type": "stream",
       "stream": "stdout",
       "text": [
        " \r",
        "0241   4.867945e+00   1.000000e+15   1.525827e+01"
       ]
      },
      {
       "output_type": "stream",
       "stream": "stdout",
       "text": [
        " \r",
        "0242   4.867945e+00   1.000000e+15   1.525827e+01"
       ]
      },
      {
       "output_type": "stream",
       "stream": "stdout",
       "text": [
        " \r",
        "0243   4.867945e+00   1.000000e+15   1.525827e+01"
       ]
      },
      {
       "output_type": "stream",
       "stream": "stdout",
       "text": [
        " \r",
        "0244   4.867945e+00   1.000000e+15   1.525827e+01"
       ]
      },
      {
       "output_type": "stream",
       "stream": "stdout",
       "text": [
        " \r",
        "0245   4.867945e+00   1.000000e+15   1.525827e+01"
       ]
      },
      {
       "output_type": "stream",
       "stream": "stdout",
       "text": [
        " \r",
        "0246   4.867945e+00   1.000000e+15   1.525827e+01"
       ]
      },
      {
       "output_type": "stream",
       "stream": "stdout",
       "text": [
        " \r",
        "0247   4.867945e+00   1.000000e+15   1.525827e+01"
       ]
      },
      {
       "output_type": "stream",
       "stream": "stdout",
       "text": [
        " \r",
        "0248   4.867945e+00   1.000000e+15   1.525827e+01"
       ]
      },
      {
       "output_type": "stream",
       "stream": "stdout",
       "text": [
        " \r",
        "0249   4.867945e+00   1.000000e+15   1.525827e+01"
       ]
      },
      {
       "output_type": "stream",
       "stream": "stdout",
       "text": [
        " \r",
        "0250   4.867945e+00   1.000000e+15   1.525827e+01"
       ]
      },
      {
       "output_type": "stream",
       "stream": "stdout",
       "text": [
        " \r",
        "0251   4.867945e+00   1.000000e+15   1.525827e+01"
       ]
      },
      {
       "output_type": "stream",
       "stream": "stdout",
       "text": [
        " \r",
        "0252   4.867945e+00   1.000000e+15   1.525827e+01"
       ]
      },
      {
       "output_type": "stream",
       "stream": "stdout",
       "text": [
        " \r",
        "0253   4.867945e+00   1.000000e+15   1.525827e+01"
       ]
      },
      {
       "output_type": "stream",
       "stream": "stdout",
       "text": [
        " \r",
        "0254   4.867945e+00   1.000000e+15   1.525827e+01"
       ]
      },
      {
       "output_type": "stream",
       "stream": "stdout",
       "text": [
        " \r",
        "0255   4.867945e+00   1.000000e+15   1.525827e+01"
       ]
      },
      {
       "output_type": "stream",
       "stream": "stdout",
       "text": [
        " \r",
        "0256   4.867945e+00   1.000000e+15   1.525827e+01"
       ]
      },
      {
       "output_type": "stream",
       "stream": "stdout",
       "text": [
        " \r",
        "0257   4.867945e+00   1.000000e+15   1.525827e+01"
       ]
      },
      {
       "output_type": "stream",
       "stream": "stdout",
       "text": [
        " \r",
        "0258   4.867945e+00   1.000000e+15   1.525827e+01"
       ]
      },
      {
       "output_type": "stream",
       "stream": "stdout",
       "text": [
        " \r",
        "0259   4.867945e+00   1.000000e+15   1.525827e+01"
       ]
      },
      {
       "output_type": "stream",
       "stream": "stdout",
       "text": [
        " \r",
        "0260   4.867945e+00   1.000000e+15   1.525827e+01"
       ]
      },
      {
       "output_type": "stream",
       "stream": "stdout",
       "text": [
        " \r",
        "0261   4.867945e+00   1.000000e+15   1.525827e+01"
       ]
      },
      {
       "output_type": "stream",
       "stream": "stdout",
       "text": [
        " \r",
        "0262   4.867945e+00   1.000000e+15   1.525827e+01"
       ]
      },
      {
       "output_type": "stream",
       "stream": "stdout",
       "text": [
        " \r",
        "0263   4.867945e+00   1.000000e+15   1.525827e+01"
       ]
      },
      {
       "output_type": "stream",
       "stream": "stdout",
       "text": [
        " \r",
        "0264   4.867945e+00   1.000000e+15   1.525827e+01"
       ]
      },
      {
       "output_type": "stream",
       "stream": "stdout",
       "text": [
        " \r",
        "0265   4.867945e+00   1.000000e+15   1.525827e+01"
       ]
      },
      {
       "output_type": "stream",
       "stream": "stdout",
       "text": [
        " \r",
        "0266   4.867945e+00   1.000000e+15   1.525827e+01"
       ]
      },
      {
       "output_type": "stream",
       "stream": "stdout",
       "text": [
        " \r",
        "0267   4.867945e+00   1.000000e+15   1.525827e+01"
       ]
      },
      {
       "output_type": "stream",
       "stream": "stdout",
       "text": [
        " \r",
        "0268   4.867945e+00   1.000000e+15   1.525827e+01"
       ]
      },
      {
       "output_type": "stream",
       "stream": "stdout",
       "text": [
        " \r",
        "0269   4.867945e+00   1.000000e+15   1.525827e+01"
       ]
      },
      {
       "output_type": "stream",
       "stream": "stdout",
       "text": [
        " \r",
        "0270   4.867945e+00   1.000000e+15   1.525827e+01"
       ]
      },
      {
       "output_type": "stream",
       "stream": "stdout",
       "text": [
        " \r",
        "0271   4.867945e+00   1.000000e+15   1.525827e+01"
       ]
      },
      {
       "output_type": "stream",
       "stream": "stdout",
       "text": [
        " \r",
        "0272   4.867945e+00   1.000000e+15   1.525827e+01"
       ]
      },
      {
       "output_type": "stream",
       "stream": "stdout",
       "text": [
        " \r",
        "0273   4.867945e+00   1.000000e+15   1.525827e+01"
       ]
      },
      {
       "output_type": "stream",
       "stream": "stdout",
       "text": [
        " \r",
        "0274   4.867945e+00   1.000000e+15   1.525827e+01"
       ]
      },
      {
       "output_type": "stream",
       "stream": "stdout",
       "text": [
        " \r",
        "0275   4.867945e+00   1.000000e+15   1.525827e+01"
       ]
      },
      {
       "output_type": "stream",
       "stream": "stdout",
       "text": [
        " \r",
        "0276   4.867945e+00   1.000000e+15   1.525827e+01"
       ]
      },
      {
       "output_type": "stream",
       "stream": "stdout",
       "text": [
        " \r",
        "0277   4.867945e+00   1.000000e+15   1.525827e+01"
       ]
      },
      {
       "output_type": "stream",
       "stream": "stdout",
       "text": [
        " \r",
        "0278   4.867945e+00   1.000000e+15   1.525827e+01"
       ]
      },
      {
       "output_type": "stream",
       "stream": "stdout",
       "text": [
        " \r",
        "0279   4.867945e+00   1.000000e+15   1.525827e+01"
       ]
      },
      {
       "output_type": "stream",
       "stream": "stdout",
       "text": [
        " \r",
        "0280   4.867945e+00   1.000000e+15   1.525827e+01"
       ]
      },
      {
       "output_type": "stream",
       "stream": "stdout",
       "text": [
        " \r",
        "0281   4.867945e+00   1.000000e+15   1.525827e+01"
       ]
      },
      {
       "output_type": "stream",
       "stream": "stdout",
       "text": [
        " \r",
        "0282   4.867945e+00   1.000000e+15   1.525827e+01"
       ]
      },
      {
       "output_type": "stream",
       "stream": "stdout",
       "text": [
        " \r",
        "0283   4.867945e+00   1.000000e+15   1.525827e+01"
       ]
      },
      {
       "output_type": "stream",
       "stream": "stdout",
       "text": [
        " \r",
        "0284   4.867945e+00   1.000000e+15   1.525827e+01"
       ]
      },
      {
       "output_type": "stream",
       "stream": "stdout",
       "text": [
        " \r",
        "0285   4.867945e+00   1.000000e+15   1.525827e+01"
       ]
      },
      {
       "output_type": "stream",
       "stream": "stdout",
       "text": [
        " \r",
        "0286   4.867945e+00   1.000000e+15   1.525827e+01"
       ]
      },
      {
       "output_type": "stream",
       "stream": "stdout",
       "text": [
        " \r",
        "0287   4.867945e+00   1.000000e+15   1.525827e+01"
       ]
      },
      {
       "output_type": "stream",
       "stream": "stdout",
       "text": [
        " \r",
        "0288   4.867945e+00   1.000000e+15   1.525827e+01"
       ]
      },
      {
       "output_type": "stream",
       "stream": "stdout",
       "text": [
        " \r",
        "0289   4.867945e+00   1.000000e+15   1.525827e+01"
       ]
      },
      {
       "output_type": "stream",
       "stream": "stdout",
       "text": [
        " \r",
        "0290   4.867945e+00   1.000000e+15   1.525827e+01"
       ]
      },
      {
       "output_type": "stream",
       "stream": "stdout",
       "text": [
        " \r",
        "0291   4.867945e+00   1.000000e+15   1.525827e+01"
       ]
      },
      {
       "output_type": "stream",
       "stream": "stdout",
       "text": [
        " \r",
        "0292   4.867945e+00   1.000000e+15   1.525827e+01"
       ]
      },
      {
       "output_type": "stream",
       "stream": "stdout",
       "text": [
        " \r",
        "0293   4.867945e+00   1.000000e+15   1.525827e+01"
       ]
      },
      {
       "output_type": "stream",
       "stream": "stdout",
       "text": [
        " \r",
        "0294   4.867945e+00   1.000000e+15   1.525827e+01"
       ]
      },
      {
       "output_type": "stream",
       "stream": "stdout",
       "text": [
        " \r",
        "0295   4.867945e+00   1.000000e+15   1.525827e+01"
       ]
      },
      {
       "output_type": "stream",
       "stream": "stdout",
       "text": [
        " \r",
        "0296   4.867945e+00   1.000000e+15   1.525827e+01"
       ]
      },
      {
       "output_type": "stream",
       "stream": "stdout",
       "text": [
        " \r",
        "0297   4.867945e+00   1.000000e+15   1.525827e+01"
       ]
      },
      {
       "output_type": "stream",
       "stream": "stdout",
       "text": [
        " \r",
        "0298   4.867945e+00   1.000000e+15   1.525827e+01"
       ]
      },
      {
       "output_type": "stream",
       "stream": "stdout",
       "text": [
        " \r",
        "0299   4.867945e+00   1.000000e+15   1.525827e+01"
       ]
      },
      {
       "output_type": "stream",
       "stream": "stdout",
       "text": [
        " \r",
        "0300   4.867945e+00   1.000000e+15   1.525827e+01"
       ]
      },
      {
       "output_type": "stream",
       "stream": "stdout",
       "text": [
        " \r",
        "0301   4.867945e+00   1.000000e+15   1.525827e+01"
       ]
      },
      {
       "output_type": "stream",
       "stream": "stdout",
       "text": [
        " \r",
        "0302   4.867945e+00   1.000000e+15   1.525827e+01"
       ]
      },
      {
       "output_type": "stream",
       "stream": "stdout",
       "text": [
        " \r",
        "0303   4.867945e+00   1.000000e+15   1.525827e+01"
       ]
      },
      {
       "output_type": "stream",
       "stream": "stdout",
       "text": [
        " \r",
        "0304   4.867945e+00   1.000000e+15   1.525827e+01"
       ]
      },
      {
       "output_type": "stream",
       "stream": "stdout",
       "text": [
        " \n",
        "\r"
       ]
      },
      {
       "output_type": "stream",
       "stream": "stdout",
       "text": [
        "0305   4.867945e+00   1.000000e+15   1.525827e+01"
       ]
      },
      {
       "output_type": "stream",
       "stream": "stdout",
       "text": [
        " \r",
        "0306   4.867945e+00   1.000000e+15   1.525827e+01"
       ]
      },
      {
       "output_type": "stream",
       "stream": "stdout",
       "text": [
        " \r",
        "0307   4.867945e+00   1.000000e+15   1.525827e+01"
       ]
      },
      {
       "output_type": "stream",
       "stream": "stdout",
       "text": [
        " \r",
        "0308   4.867945e+00   1.000000e+15   1.525827e+01"
       ]
      },
      {
       "output_type": "stream",
       "stream": "stdout",
       "text": [
        " \r",
        "0309   4.867945e+00   1.000000e+15   1.525827e+01"
       ]
      },
      {
       "output_type": "stream",
       "stream": "stdout",
       "text": [
        " \r",
        "0310   4.867945e+00   1.000000e+15   1.525827e+01"
       ]
      },
      {
       "output_type": "stream",
       "stream": "stdout",
       "text": [
        " \r",
        "0311   4.867945e+00   1.000000e+15   1.525827e+01"
       ]
      },
      {
       "output_type": "stream",
       "stream": "stdout",
       "text": [
        " \r",
        "0312   4.867945e+00   1.000000e+15   1.525827e+01"
       ]
      },
      {
       "output_type": "stream",
       "stream": "stdout",
       "text": [
        " \r",
        "0313   4.867945e+00   1.000000e+15   1.525827e+01"
       ]
      },
      {
       "output_type": "stream",
       "stream": "stdout",
       "text": [
        " \r",
        "0314   4.867945e+00   1.000000e+15   1.525827e+01"
       ]
      },
      {
       "output_type": "stream",
       "stream": "stdout",
       "text": [
        " \r",
        "0315   4.867945e+00   1.000000e+15   1.525827e+01"
       ]
      },
      {
       "output_type": "stream",
       "stream": "stdout",
       "text": [
        " \r",
        "0316   4.867945e+00   1.000000e+15   1.525827e+01"
       ]
      },
      {
       "output_type": "stream",
       "stream": "stdout",
       "text": [
        " \r",
        "0317   4.867945e+00   1.000000e+15   1.525827e+01"
       ]
      },
      {
       "output_type": "stream",
       "stream": "stdout",
       "text": [
        " \r",
        "0318   4.867945e+00   1.000000e+15   1.525827e+01"
       ]
      },
      {
       "output_type": "stream",
       "stream": "stdout",
       "text": [
        " \r",
        "0319   4.867945e+00   1.000000e+15   1.525827e+01"
       ]
      },
      {
       "output_type": "stream",
       "stream": "stdout",
       "text": [
        " \r",
        "0320   4.867945e+00   1.000000e+15   1.525827e+01"
       ]
      },
      {
       "output_type": "stream",
       "stream": "stdout",
       "text": [
        " \r",
        "0321   4.867945e+00   1.000000e+15   1.525827e+01"
       ]
      },
      {
       "output_type": "stream",
       "stream": "stdout",
       "text": [
        " \r",
        "0322   4.867945e+00   1.000000e+15   1.525827e+01"
       ]
      },
      {
       "output_type": "stream",
       "stream": "stdout",
       "text": [
        " \r",
        "0323   4.867945e+00   1.000000e+15   1.525827e+01"
       ]
      },
      {
       "output_type": "stream",
       "stream": "stdout",
       "text": [
        " \r",
        "0324   4.867945e+00   1.000000e+15   1.525827e+01"
       ]
      },
      {
       "output_type": "stream",
       "stream": "stdout",
       "text": [
        " \r",
        "0325   4.867945e+00   1.000000e+15   1.525827e+01"
       ]
      },
      {
       "output_type": "stream",
       "stream": "stdout",
       "text": [
        " \r",
        "0326   4.867945e+00   1.000000e+15   1.525827e+01"
       ]
      },
      {
       "output_type": "stream",
       "stream": "stdout",
       "text": [
        " \r",
        "0327   4.867945e+00   1.000000e+15   1.525827e+01"
       ]
      },
      {
       "output_type": "stream",
       "stream": "stdout",
       "text": [
        " \r",
        "0328   4.867945e+00   1.000000e+15   1.525827e+01"
       ]
      },
      {
       "output_type": "stream",
       "stream": "stdout",
       "text": [
        " \r",
        "0329   4.867945e+00   1.000000e+15   1.525827e+01"
       ]
      },
      {
       "output_type": "stream",
       "stream": "stdout",
       "text": [
        " \r",
        "0330   4.867945e+00   1.000000e+15   1.525827e+01"
       ]
      },
      {
       "output_type": "stream",
       "stream": "stdout",
       "text": [
        " \r",
        "0331   4.867945e+00   1.000000e+15   1.525827e+01"
       ]
      },
      {
       "output_type": "stream",
       "stream": "stdout",
       "text": [
        " \r",
        "0332   4.867945e+00   1.000000e+15   1.525827e+01"
       ]
      },
      {
       "output_type": "stream",
       "stream": "stdout",
       "text": [
        " \r",
        "0333   4.867945e+00   1.000000e+15   1.525827e+01"
       ]
      },
      {
       "output_type": "stream",
       "stream": "stdout",
       "text": [
        " \r",
        "0334   4.867945e+00   1.000000e+15   1.525827e+01"
       ]
      },
      {
       "output_type": "stream",
       "stream": "stdout",
       "text": [
        " \r",
        "0335   4.867945e+00   1.000000e+15   1.525827e+01"
       ]
      },
      {
       "output_type": "stream",
       "stream": "stdout",
       "text": [
        " \r",
        "0336   4.867945e+00   1.000000e+15   1.525827e+01"
       ]
      },
      {
       "output_type": "stream",
       "stream": "stdout",
       "text": [
        " \r",
        "0337   4.867945e+00   1.000000e+15   1.525827e+01"
       ]
      },
      {
       "output_type": "stream",
       "stream": "stdout",
       "text": [
        " \r",
        "0338   4.867945e+00   1.000000e+15   1.525827e+01"
       ]
      },
      {
       "output_type": "stream",
       "stream": "stdout",
       "text": [
        " \r",
        "0339   4.867945e+00   1.000000e+15   1.525827e+01"
       ]
      },
      {
       "output_type": "stream",
       "stream": "stdout",
       "text": [
        " \r",
        "0340   4.867945e+00   1.000000e+15   1.525827e+01"
       ]
      },
      {
       "output_type": "stream",
       "stream": "stdout",
       "text": [
        " \r",
        "0341   4.867945e+00   1.000000e+15   1.525827e+01"
       ]
      },
      {
       "output_type": "stream",
       "stream": "stdout",
       "text": [
        " \r",
        "0342   4.867945e+00   1.000000e+15   1.525827e+01"
       ]
      },
      {
       "output_type": "stream",
       "stream": "stdout",
       "text": [
        " \r",
        "0343   4.867945e+00   1.000000e+15   1.525827e+01"
       ]
      },
      {
       "output_type": "stream",
       "stream": "stdout",
       "text": [
        " \r",
        "0344   4.867945e+00   1.000000e+15   1.525827e+01"
       ]
      },
      {
       "output_type": "stream",
       "stream": "stdout",
       "text": [
        " \r",
        "0345   4.867945e+00   1.000000e+15   1.525827e+01"
       ]
      },
      {
       "output_type": "stream",
       "stream": "stdout",
       "text": [
        " \r",
        "0346   4.867945e+00   1.000000e+15   1.525827e+01"
       ]
      },
      {
       "output_type": "stream",
       "stream": "stdout",
       "text": [
        " \r",
        "0347   4.867945e+00   1.000000e+15   1.525827e+01"
       ]
      },
      {
       "output_type": "stream",
       "stream": "stdout",
       "text": [
        " \r",
        "0348   4.867945e+00   1.000000e+15   1.525827e+01"
       ]
      },
      {
       "output_type": "stream",
       "stream": "stdout",
       "text": [
        " \r",
        "0349   4.867945e+00   1.000000e+15   1.525827e+01"
       ]
      },
      {
       "output_type": "stream",
       "stream": "stdout",
       "text": [
        " \r",
        "0350   4.867945e+00   1.000000e+15   1.525827e+01"
       ]
      },
      {
       "output_type": "stream",
       "stream": "stdout",
       "text": [
        " \r",
        "0351   4.867945e+00   1.000000e+15   1.525827e+01"
       ]
      },
      {
       "output_type": "stream",
       "stream": "stdout",
       "text": [
        " \r",
        "0352   4.867945e+00   1.000000e+15   1.525827e+01"
       ]
      },
      {
       "output_type": "stream",
       "stream": "stdout",
       "text": [
        " \r",
        "0353   4.867945e+00   1.000000e+15   1.525827e+01"
       ]
      },
      {
       "output_type": "stream",
       "stream": "stdout",
       "text": [
        " \r",
        "0354   4.867945e+00   1.000000e+15   1.525827e+01"
       ]
      },
      {
       "output_type": "stream",
       "stream": "stdout",
       "text": [
        " \r",
        "0355   4.867945e+00   1.000000e+15   1.525827e+01"
       ]
      },
      {
       "output_type": "stream",
       "stream": "stdout",
       "text": [
        " \r",
        "0356   4.867945e+00   1.000000e+15   1.525827e+01"
       ]
      },
      {
       "output_type": "stream",
       "stream": "stdout",
       "text": [
        " \r",
        "0357   4.867945e+00   1.000000e+15   1.525827e+01"
       ]
      },
      {
       "output_type": "stream",
       "stream": "stdout",
       "text": [
        " \r",
        "0358   4.867945e+00   1.000000e+15   1.525827e+01"
       ]
      },
      {
       "output_type": "stream",
       "stream": "stdout",
       "text": [
        " \r",
        "0359   4.867945e+00   1.000000e+15   1.525827e+01"
       ]
      },
      {
       "output_type": "stream",
       "stream": "stdout",
       "text": [
        " \r",
        "0360   4.867945e+00   1.000000e+15   1.525827e+01"
       ]
      },
      {
       "output_type": "stream",
       "stream": "stdout",
       "text": [
        " \r",
        "0361   4.867945e+00   1.000000e+15   1.525827e+01"
       ]
      },
      {
       "output_type": "stream",
       "stream": "stdout",
       "text": [
        " \r",
        "0362   4.867945e+00   1.000000e+15   1.525827e+01"
       ]
      },
      {
       "output_type": "stream",
       "stream": "stdout",
       "text": [
        " \r",
        "0363   4.867945e+00   1.000000e+15   1.525827e+01"
       ]
      },
      {
       "output_type": "stream",
       "stream": "stdout",
       "text": [
        " \r",
        "0364   4.867945e+00   1.000000e+15   1.525827e+01"
       ]
      },
      {
       "output_type": "stream",
       "stream": "stdout",
       "text": [
        " \r",
        "0365   4.867945e+00   1.000000e+15   1.525827e+01"
       ]
      },
      {
       "output_type": "stream",
       "stream": "stdout",
       "text": [
        " \r",
        "0366   4.867945e+00   1.000000e+15   1.525827e+01"
       ]
      },
      {
       "output_type": "stream",
       "stream": "stdout",
       "text": [
        " \r",
        "0367   4.867945e+00   1.000000e+15   1.525827e+01"
       ]
      },
      {
       "output_type": "stream",
       "stream": "stdout",
       "text": [
        " \r",
        "0368   4.867945e+00   1.000000e+15   1.525827e+01"
       ]
      },
      {
       "output_type": "stream",
       "stream": "stdout",
       "text": [
        " \r",
        "0369   4.867945e+00   1.000000e+15   1.525827e+01"
       ]
      },
      {
       "output_type": "stream",
       "stream": "stdout",
       "text": [
        " \r",
        "0370   4.867945e+00   1.000000e+15   1.525827e+01"
       ]
      },
      {
       "output_type": "stream",
       "stream": "stdout",
       "text": [
        " \r",
        "0371   4.867945e+00   1.000000e+15   1.525827e+01"
       ]
      },
      {
       "output_type": "stream",
       "stream": "stdout",
       "text": [
        " \r",
        "0372   4.867945e+00   1.000000e+15   1.525827e+01"
       ]
      },
      {
       "output_type": "stream",
       "stream": "stdout",
       "text": [
        " \r",
        "0373   4.867945e+00   1.000000e+15   1.525827e+01"
       ]
      },
      {
       "output_type": "stream",
       "stream": "stdout",
       "text": [
        " \r",
        "0374   4.867945e+00   1.000000e+15   1.525827e+01"
       ]
      },
      {
       "output_type": "stream",
       "stream": "stdout",
       "text": [
        " \r",
        "0375   4.867945e+00   1.000000e+15   1.525827e+01"
       ]
      },
      {
       "output_type": "stream",
       "stream": "stdout",
       "text": [
        " \r",
        "0376   4.867945e+00   1.000000e+15   1.525827e+01"
       ]
      },
      {
       "output_type": "stream",
       "stream": "stdout",
       "text": [
        " \r",
        "0377   4.867945e+00   1.000000e+15   1.525827e+01"
       ]
      },
      {
       "output_type": "stream",
       "stream": "stdout",
       "text": [
        " \r",
        "0378   4.867945e+00   1.000000e+15   1.525827e+01"
       ]
      },
      {
       "output_type": "stream",
       "stream": "stdout",
       "text": [
        " \r",
        "0379   4.867945e+00   1.000000e+15   1.525827e+01"
       ]
      },
      {
       "output_type": "stream",
       "stream": "stdout",
       "text": [
        " \r",
        "0380   4.867945e+00   1.000000e+15   1.525827e+01"
       ]
      },
      {
       "output_type": "stream",
       "stream": "stdout",
       "text": [
        " \r",
        "0381   4.867945e+00   1.000000e+15   1.525827e+01"
       ]
      },
      {
       "output_type": "stream",
       "stream": "stdout",
       "text": [
        " \r",
        "0382   4.867945e+00   1.000000e+15   1.525827e+01"
       ]
      },
      {
       "output_type": "stream",
       "stream": "stdout",
       "text": [
        " \r",
        "0383   4.867945e+00   1.000000e+15   1.525827e+01"
       ]
      },
      {
       "output_type": "stream",
       "stream": "stdout",
       "text": [
        " \r",
        "0384   4.867945e+00   1.000000e+15   1.525827e+01"
       ]
      },
      {
       "output_type": "stream",
       "stream": "stdout",
       "text": [
        " \r",
        "0385   4.867945e+00   1.000000e+15   1.525827e+01"
       ]
      },
      {
       "output_type": "stream",
       "stream": "stdout",
       "text": [
        " \r",
        "0386   4.867945e+00   1.000000e+15   1.525827e+01"
       ]
      },
      {
       "output_type": "stream",
       "stream": "stdout",
       "text": [
        " \r",
        "0387   4.867945e+00   1.000000e+15   1.525827e+01"
       ]
      },
      {
       "output_type": "stream",
       "stream": "stdout",
       "text": [
        " \r",
        "0388   4.867945e+00   1.000000e+15   1.525827e+01"
       ]
      },
      {
       "output_type": "stream",
       "stream": "stdout",
       "text": [
        " \r",
        "0389   4.867945e+00   1.000000e+15   1.525827e+01"
       ]
      },
      {
       "output_type": "stream",
       "stream": "stdout",
       "text": [
        " \r",
        "0390   4.867945e+00   1.000000e+15   1.525827e+01"
       ]
      },
      {
       "output_type": "stream",
       "stream": "stdout",
       "text": [
        " \r",
        "0391   4.867945e+00   1.000000e+15   1.525827e+01"
       ]
      },
      {
       "output_type": "stream",
       "stream": "stdout",
       "text": [
        " \r",
        "0392   4.867945e+00   1.000000e+15   1.525827e+01"
       ]
      },
      {
       "output_type": "stream",
       "stream": "stdout",
       "text": [
        " \r",
        "0393   4.867945e+00   1.000000e+15   1.525827e+01"
       ]
      },
      {
       "output_type": "stream",
       "stream": "stdout",
       "text": [
        " \r",
        "0394   4.867945e+00   1.000000e+15   1.525827e+01"
       ]
      },
      {
       "output_type": "stream",
       "stream": "stdout",
       "text": [
        " \r",
        "0395   4.867945e+00   1.000000e+15   1.525827e+01"
       ]
      },
      {
       "output_type": "stream",
       "stream": "stdout",
       "text": [
        " \r",
        "0396   4.867945e+00   1.000000e+15   1.525827e+01"
       ]
      },
      {
       "output_type": "stream",
       "stream": "stdout",
       "text": [
        " \r",
        "0397   4.867945e+00   1.000000e+15   1.525827e+01"
       ]
      },
      {
       "output_type": "stream",
       "stream": "stdout",
       "text": [
        " \r",
        "0398   4.867945e+00   1.000000e+15   1.525827e+01"
       ]
      },
      {
       "output_type": "stream",
       "stream": "stdout",
       "text": [
        " \r",
        "0399   4.867945e+00   1.000000e+15   1.525827e+01"
       ]
      },
      {
       "output_type": "stream",
       "stream": "stdout",
       "text": [
        " \r",
        "0400   4.867945e+00   1.000000e+15   1.525827e+01"
       ]
      },
      {
       "output_type": "stream",
       "stream": "stdout",
       "text": [
        " \r",
        "0401   4.867945e+00   1.000000e+15   1.525827e+01"
       ]
      },
      {
       "output_type": "stream",
       "stream": "stdout",
       "text": [
        " \r",
        "0402   4.867945e+00   1.000000e+15   1.525827e+01"
       ]
      },
      {
       "output_type": "stream",
       "stream": "stdout",
       "text": [
        " \r",
        "0403   4.867945e+00   1.000000e+15   1.525827e+01"
       ]
      },
      {
       "output_type": "stream",
       "stream": "stdout",
       "text": [
        " \r",
        "0404   4.867945e+00   1.000000e+15   1.525827e+01"
       ]
      },
      {
       "output_type": "stream",
       "stream": "stdout",
       "text": [
        " \r",
        "0405   4.867945e+00   1.000000e+15   1.525827e+01"
       ]
      },
      {
       "output_type": "stream",
       "stream": "stdout",
       "text": [
        " \r",
        "0406   4.867945e+00   1.000000e+15   1.525827e+01"
       ]
      },
      {
       "output_type": "stream",
       "stream": "stdout",
       "text": [
        " \r",
        "0407   4.867945e+00   1.000000e+15   1.525827e+01"
       ]
      },
      {
       "output_type": "stream",
       "stream": "stdout",
       "text": [
        " \r",
        "0408   4.867945e+00   1.000000e+15   1.525827e+01"
       ]
      },
      {
       "output_type": "stream",
       "stream": "stdout",
       "text": [
        " \r",
        "0409   4.867945e+00   1.000000e+15   1.525827e+01"
       ]
      },
      {
       "output_type": "stream",
       "stream": "stdout",
       "text": [
        " \r",
        "0410   4.867945e+00   1.000000e+15   1.525827e+01"
       ]
      },
      {
       "output_type": "stream",
       "stream": "stdout",
       "text": [
        " \r",
        "0411   4.867945e+00   1.000000e+15   1.525827e+01"
       ]
      },
      {
       "output_type": "stream",
       "stream": "stdout",
       "text": [
        " \r",
        "0412   4.867945e+00   1.000000e+15   1.525827e+01"
       ]
      },
      {
       "output_type": "stream",
       "stream": "stdout",
       "text": [
        " \r",
        "0413   4.867945e+00   1.000000e+15   1.525827e+01"
       ]
      },
      {
       "output_type": "stream",
       "stream": "stdout",
       "text": [
        " \r",
        "0414   4.867945e+00   1.000000e+15   1.525827e+01"
       ]
      },
      {
       "output_type": "stream",
       "stream": "stdout",
       "text": [
        " \r",
        "0415   4.867945e+00   1.000000e+15   1.525827e+01"
       ]
      },
      {
       "output_type": "stream",
       "stream": "stdout",
       "text": [
        " \r",
        "0416   4.867945e+00   1.000000e+15   1.525827e+01"
       ]
      },
      {
       "output_type": "stream",
       "stream": "stdout",
       "text": [
        " \r",
        "0417   4.867945e+00   1.000000e+15   1.525827e+01"
       ]
      },
      {
       "output_type": "stream",
       "stream": "stdout",
       "text": [
        " \r",
        "0418   4.867945e+00   1.000000e+15   1.525827e+01"
       ]
      },
      {
       "output_type": "stream",
       "stream": "stdout",
       "text": [
        " \r",
        "0419   4.867945e+00   1.000000e+15   1.525827e+01"
       ]
      },
      {
       "output_type": "stream",
       "stream": "stdout",
       "text": [
        " \r",
        "0420   4.867945e+00   1.000000e+15   1.525827e+01"
       ]
      },
      {
       "output_type": "stream",
       "stream": "stdout",
       "text": [
        " \r",
        "0421   4.867945e+00   1.000000e+15   1.525827e+01"
       ]
      },
      {
       "output_type": "stream",
       "stream": "stdout",
       "text": [
        " \r",
        "0422   4.867945e+00   1.000000e+15   1.525827e+01"
       ]
      },
      {
       "output_type": "stream",
       "stream": "stdout",
       "text": [
        " \r",
        "0423   4.867945e+00   1.000000e+15   1.525827e+01"
       ]
      },
      {
       "output_type": "stream",
       "stream": "stdout",
       "text": [
        " \r",
        "0424   4.867945e+00   1.000000e+15   1.525827e+01"
       ]
      },
      {
       "output_type": "stream",
       "stream": "stdout",
       "text": [
        " \r",
        "0425   4.867945e+00   1.000000e+15   1.525827e+01"
       ]
      },
      {
       "output_type": "stream",
       "stream": "stdout",
       "text": [
        " \r",
        "0426   4.867945e+00   1.000000e+15   1.525827e+01"
       ]
      },
      {
       "output_type": "stream",
       "stream": "stdout",
       "text": [
        " \r",
        "0427   4.867945e+00   1.000000e+15   1.525827e+01"
       ]
      },
      {
       "output_type": "stream",
       "stream": "stdout",
       "text": [
        " \r",
        "0428   4.867945e+00   1.000000e+15   1.525827e+01"
       ]
      },
      {
       "output_type": "stream",
       "stream": "stdout",
       "text": [
        " \r",
        "0429   4.867945e+00   1.000000e+15   1.525827e+01"
       ]
      },
      {
       "output_type": "stream",
       "stream": "stdout",
       "text": [
        " \r",
        "0430   4.867945e+00   1.000000e+15   1.525827e+01"
       ]
      },
      {
       "output_type": "stream",
       "stream": "stdout",
       "text": [
        " \r",
        "0431   4.867945e+00   1.000000e+15   1.525827e+01"
       ]
      },
      {
       "output_type": "stream",
       "stream": "stdout",
       "text": [
        " \r",
        "0432   4.867945e+00   1.000000e+15   1.525827e+01"
       ]
      },
      {
       "output_type": "stream",
       "stream": "stdout",
       "text": [
        " \r",
        "0433   4.867945e+00   1.000000e+15   1.525827e+01"
       ]
      },
      {
       "output_type": "stream",
       "stream": "stdout",
       "text": [
        " \r",
        "0434   4.867945e+00   1.000000e+15   1.525827e+01"
       ]
      },
      {
       "output_type": "stream",
       "stream": "stdout",
       "text": [
        " \r",
        "0435   4.867945e+00   1.000000e+15   1.525827e+01"
       ]
      },
      {
       "output_type": "stream",
       "stream": "stdout",
       "text": [
        " \r",
        "0436   4.867945e+00   1.000000e+15   1.525827e+01"
       ]
      },
      {
       "output_type": "stream",
       "stream": "stdout",
       "text": [
        " \r",
        "0437   4.867945e+00   1.000000e+15   1.525827e+01"
       ]
      },
      {
       "output_type": "stream",
       "stream": "stdout",
       "text": [
        " \r",
        "0438   4.867945e+00   1.000000e+15   1.525827e+01"
       ]
      },
      {
       "output_type": "stream",
       "stream": "stdout",
       "text": [
        " \r",
        "0439   4.867945e+00   1.000000e+15   1.525827e+01"
       ]
      },
      {
       "output_type": "stream",
       "stream": "stdout",
       "text": [
        " \r",
        "0440   4.867945e+00   1.000000e+15   1.525827e+01"
       ]
      },
      {
       "output_type": "stream",
       "stream": "stdout",
       "text": [
        " \r",
        "0441   4.867945e+00   1.000000e+15   1.525827e+01"
       ]
      },
      {
       "output_type": "stream",
       "stream": "stdout",
       "text": [
        " \r",
        "0442   4.867945e+00   1.000000e+15   1.525827e+01"
       ]
      },
      {
       "output_type": "stream",
       "stream": "stdout",
       "text": [
        " \r",
        "0443   4.867945e+00   1.000000e+15   1.525827e+01"
       ]
      },
      {
       "output_type": "stream",
       "stream": "stdout",
       "text": [
        " \r",
        "0444   4.867945e+00   1.000000e+15   1.525827e+01"
       ]
      },
      {
       "output_type": "stream",
       "stream": "stdout",
       "text": [
        " \r",
        "0445   4.867945e+00   1.000000e+15   1.525827e+01"
       ]
      },
      {
       "output_type": "stream",
       "stream": "stdout",
       "text": [
        " \r",
        "0446   4.867945e+00   1.000000e+15   1.525827e+01"
       ]
      },
      {
       "output_type": "stream",
       "stream": "stdout",
       "text": [
        " \r",
        "0447   4.867945e+00   1.000000e+15   1.525827e+01"
       ]
      },
      {
       "output_type": "stream",
       "stream": "stdout",
       "text": [
        " \r",
        "0448   4.867945e+00   1.000000e+15   1.525827e+01"
       ]
      },
      {
       "output_type": "stream",
       "stream": "stdout",
       "text": [
        " \r",
        "0449   4.867945e+00   1.000000e+15   1.525827e+01"
       ]
      },
      {
       "output_type": "stream",
       "stream": "stdout",
       "text": [
        " \r",
        "0450   4.867945e+00   1.000000e+15   1.525827e+01"
       ]
      },
      {
       "output_type": "stream",
       "stream": "stdout",
       "text": [
        " \r",
        "0451   4.867945e+00   1.000000e+15   1.525827e+01"
       ]
      },
      {
       "output_type": "stream",
       "stream": "stdout",
       "text": [
        " \r",
        "0452   4.867945e+00   1.000000e+15   1.525827e+01"
       ]
      },
      {
       "output_type": "stream",
       "stream": "stdout",
       "text": [
        " \r",
        "0453   4.867945e+00   1.000000e+15   1.525827e+01"
       ]
      },
      {
       "output_type": "stream",
       "stream": "stdout",
       "text": [
        " \r",
        "0454   4.867945e+00   1.000000e+15   1.525827e+01"
       ]
      },
      {
       "output_type": "stream",
       "stream": "stdout",
       "text": [
        " \r",
        "0455   4.867945e+00   1.000000e+15   1.525827e+01"
       ]
      },
      {
       "output_type": "stream",
       "stream": "stdout",
       "text": [
        " \r",
        "0456   4.867945e+00   1.000000e+15   1.525827e+01"
       ]
      },
      {
       "output_type": "stream",
       "stream": "stdout",
       "text": [
        " \r",
        "0457   4.867945e+00   1.000000e+15   1.525827e+01"
       ]
      },
      {
       "output_type": "stream",
       "stream": "stdout",
       "text": [
        " \r",
        "0458   4.867945e+00   1.000000e+15   1.525827e+01"
       ]
      },
      {
       "output_type": "stream",
       "stream": "stdout",
       "text": [
        " \r",
        "0459   4.867945e+00   1.000000e+15   1.525827e+01"
       ]
      },
      {
       "output_type": "stream",
       "stream": "stdout",
       "text": [
        " \r",
        "0460   4.867945e+00   1.000000e+15   1.525827e+01"
       ]
      },
      {
       "output_type": "stream",
       "stream": "stdout",
       "text": [
        " \r",
        "0461   4.867945e+00   1.000000e+15   1.525827e+01"
       ]
      },
      {
       "output_type": "stream",
       "stream": "stdout",
       "text": [
        " \r",
        "0462   4.867945e+00   1.000000e+15   1.525827e+01"
       ]
      },
      {
       "output_type": "stream",
       "stream": "stdout",
       "text": [
        " \r",
        "0463   4.867945e+00   1.000000e+15   1.525827e+01"
       ]
      },
      {
       "output_type": "stream",
       "stream": "stdout",
       "text": [
        " \r",
        "0464   4.867945e+00   1.000000e+15   1.525827e+01"
       ]
      },
      {
       "output_type": "stream",
       "stream": "stdout",
       "text": [
        " \r",
        "0465   4.867945e+00   1.000000e+15   1.525827e+01"
       ]
      },
      {
       "output_type": "stream",
       "stream": "stdout",
       "text": [
        " \r",
        "0466   4.867945e+00   1.000000e+15   1.525827e+01"
       ]
      },
      {
       "output_type": "stream",
       "stream": "stdout",
       "text": [
        " \r",
        "0467   4.867945e+00   1.000000e+15   1.525827e+01"
       ]
      },
      {
       "output_type": "stream",
       "stream": "stdout",
       "text": [
        " \r",
        "0468   4.867945e+00   1.000000e+15   1.525827e+01"
       ]
      },
      {
       "output_type": "stream",
       "stream": "stdout",
       "text": [
        " \r",
        "0469   4.867945e+00   1.000000e+15   1.525827e+01"
       ]
      },
      {
       "output_type": "stream",
       "stream": "stdout",
       "text": [
        " \r",
        "0470   4.867945e+00   1.000000e+15   1.525827e+01"
       ]
      },
      {
       "output_type": "stream",
       "stream": "stdout",
       "text": [
        " \r",
        "0471   4.867945e+00   1.000000e+15   1.525827e+01"
       ]
      },
      {
       "output_type": "stream",
       "stream": "stdout",
       "text": [
        " \r",
        "0472   4.867945e+00   1.000000e+15   1.525827e+01"
       ]
      },
      {
       "output_type": "stream",
       "stream": "stdout",
       "text": [
        " \r",
        "0473   4.867945e+00   1.000000e+15   1.525827e+01"
       ]
      },
      {
       "output_type": "stream",
       "stream": "stdout",
       "text": [
        " \r",
        "0474   4.867945e+00   1.000000e+15   1.525827e+01"
       ]
      },
      {
       "output_type": "stream",
       "stream": "stdout",
       "text": [
        " \r",
        "0475   4.867945e+00   1.000000e+15   1.525827e+01"
       ]
      },
      {
       "output_type": "stream",
       "stream": "stdout",
       "text": [
        " \r",
        "0476   4.867945e+00   1.000000e+15   1.525827e+01"
       ]
      },
      {
       "output_type": "stream",
       "stream": "stdout",
       "text": [
        " \r",
        "0477   4.867945e+00   1.000000e+15   1.525827e+01"
       ]
      },
      {
       "output_type": "stream",
       "stream": "stdout",
       "text": [
        " \r",
        "0478   4.867945e+00   1.000000e+15   1.525827e+01"
       ]
      },
      {
       "output_type": "stream",
       "stream": "stdout",
       "text": [
        " \r",
        "0479   4.867945e+00   1.000000e+15   1.525827e+01"
       ]
      },
      {
       "output_type": "stream",
       "stream": "stdout",
       "text": [
        " \r",
        "0480   4.867945e+00   1.000000e+15   1.525827e+01"
       ]
      },
      {
       "output_type": "stream",
       "stream": "stdout",
       "text": [
        " \r",
        "0481   4.867945e+00   1.000000e+15   1.525827e+01"
       ]
      },
      {
       "output_type": "stream",
       "stream": "stdout",
       "text": [
        " \r",
        "0482   4.867945e+00   1.000000e+15   1.525827e+01"
       ]
      },
      {
       "output_type": "stream",
       "stream": "stdout",
       "text": [
        " \r",
        "0483   4.867945e+00   1.000000e+15   1.525827e+01"
       ]
      },
      {
       "output_type": "stream",
       "stream": "stdout",
       "text": [
        " \r",
        "0484   4.867945e+00   1.000000e+15   1.525827e+01"
       ]
      },
      {
       "output_type": "stream",
       "stream": "stdout",
       "text": [
        " \r",
        "0485   4.867945e+00   1.000000e+15   1.525827e+01"
       ]
      },
      {
       "output_type": "stream",
       "stream": "stdout",
       "text": [
        " \r",
        "0486   4.867945e+00   1.000000e+15   1.525827e+01"
       ]
      },
      {
       "output_type": "stream",
       "stream": "stdout",
       "text": [
        " \r",
        "0487   4.867945e+00   1.000000e+15   1.525827e+01"
       ]
      },
      {
       "output_type": "stream",
       "stream": "stdout",
       "text": [
        " \r",
        "0488   4.867945e+00   1.000000e+15   1.525827e+01"
       ]
      },
      {
       "output_type": "stream",
       "stream": "stdout",
       "text": [
        " \r",
        "0489   4.867945e+00   1.000000e+15   1.525827e+01"
       ]
      },
      {
       "output_type": "stream",
       "stream": "stdout",
       "text": [
        " \r",
        "0490   4.867945e+00   1.000000e+15   1.525827e+01"
       ]
      },
      {
       "output_type": "stream",
       "stream": "stdout",
       "text": [
        " \r",
        "0491   4.867945e+00   1.000000e+15   1.525827e+01"
       ]
      },
      {
       "output_type": "stream",
       "stream": "stdout",
       "text": [
        " \r",
        "0492   4.867945e+00   1.000000e+15   1.525827e+01"
       ]
      },
      {
       "output_type": "stream",
       "stream": "stdout",
       "text": [
        " \r",
        "0493   4.867945e+00   1.000000e+15   1.525827e+01"
       ]
      },
      {
       "output_type": "stream",
       "stream": "stdout",
       "text": [
        " \r",
        "0494   4.867945e+00   1.000000e+15   1.525827e+01"
       ]
      },
      {
       "output_type": "stream",
       "stream": "stdout",
       "text": [
        " \r",
        "0495   4.867945e+00   1.000000e+15   1.525827e+01"
       ]
      },
      {
       "output_type": "stream",
       "stream": "stdout",
       "text": [
        " \r",
        "0496   4.867945e+00   1.000000e+15   1.525827e+01"
       ]
      },
      {
       "output_type": "stream",
       "stream": "stdout",
       "text": [
        " \r",
        "0497   4.867945e+00   1.000000e+15   1.525827e+01"
       ]
      },
      {
       "output_type": "stream",
       "stream": "stdout",
       "text": [
        " \r",
        "0498   4.867945e+00   1.000000e+15   1.525827e+01"
       ]
      },
      {
       "output_type": "stream",
       "stream": "stdout",
       "text": [
        " \r",
        "0499   4.867945e+00   1.000000e+15   1.525827e+01"
       ]
      },
      {
       "output_type": "stream",
       "stream": "stdout",
       "text": [
        " \r",
        "0500   4.867945e+00   1.000000e+15   1.525827e+01"
       ]
      },
      {
       "output_type": "stream",
       "stream": "stdout",
       "text": [
        " \r",
        "0501   4.867945e+00   1.000000e+15   1.525827e+01"
       ]
      },
      {
       "output_type": "stream",
       "stream": "stdout",
       "text": [
        " \r",
        "0502   4.867945e+00   1.000000e+15   1.525827e+01"
       ]
      },
      {
       "output_type": "stream",
       "stream": "stdout",
       "text": [
        " \r",
        "0503   4.867945e+00   1.000000e+15   1.525827e+01"
       ]
      },
      {
       "output_type": "stream",
       "stream": "stdout",
       "text": [
        " \r",
        "0504   4.867945e+00   1.000000e+15   1.525827e+01"
       ]
      },
      {
       "output_type": "stream",
       "stream": "stdout",
       "text": [
        " \r",
        "0505   4.867945e+00   1.000000e+15   1.525827e+01"
       ]
      },
      {
       "output_type": "stream",
       "stream": "stdout",
       "text": [
        " \r",
        "0506   4.867945e+00   1.000000e+15   1.525827e+01"
       ]
      },
      {
       "output_type": "stream",
       "stream": "stdout",
       "text": [
        " \r",
        "0507   4.867945e+00   1.000000e+15   1.525827e+01"
       ]
      },
      {
       "output_type": "stream",
       "stream": "stdout",
       "text": [
        " \r",
        "0508   4.867945e+00   1.000000e+15   1.525827e+01"
       ]
      },
      {
       "output_type": "stream",
       "stream": "stdout",
       "text": [
        " \r",
        "0509   4.867945e+00   1.000000e+15   1.525827e+01"
       ]
      },
      {
       "output_type": "stream",
       "stream": "stdout",
       "text": [
        " \r",
        "0510   4.867945e+00   1.000000e+15   1.525827e+01"
       ]
      },
      {
       "output_type": "stream",
       "stream": "stdout",
       "text": [
        " \r",
        "0511   4.867945e+00   1.000000e+15   1.525827e+01"
       ]
      },
      {
       "output_type": "stream",
       "stream": "stdout",
       "text": [
        " \r",
        "0512   4.867945e+00   1.000000e+15   1.525827e+01"
       ]
      },
      {
       "output_type": "stream",
       "stream": "stdout",
       "text": [
        " \r",
        "0513   4.867945e+00   1.000000e+15   1.525827e+01"
       ]
      },
      {
       "output_type": "stream",
       "stream": "stdout",
       "text": [
        " \r",
        "0514   4.867945e+00   1.000000e+15   1.525827e+01"
       ]
      },
      {
       "output_type": "stream",
       "stream": "stdout",
       "text": [
        " \r",
        "0515   4.867945e+00   1.000000e+15   1.525827e+01"
       ]
      },
      {
       "output_type": "stream",
       "stream": "stdout",
       "text": [
        " \r",
        "0516   4.867945e+00   1.000000e+15   1.525827e+01"
       ]
      },
      {
       "output_type": "stream",
       "stream": "stdout",
       "text": [
        " \r",
        "0517   4.867945e+00   1.000000e+15   1.525827e+01"
       ]
      },
      {
       "output_type": "stream",
       "stream": "stdout",
       "text": [
        " \r",
        "0518   4.867945e+00   1.000000e+15   1.525827e+01"
       ]
      },
      {
       "output_type": "stream",
       "stream": "stdout",
       "text": [
        " \r",
        "0519   4.867945e+00   1.000000e+15   1.525827e+01"
       ]
      },
      {
       "output_type": "stream",
       "stream": "stdout",
       "text": [
        " \r",
        "0520   4.867945e+00   1.000000e+15   1.525827e+01"
       ]
      },
      {
       "output_type": "stream",
       "stream": "stdout",
       "text": [
        " \r",
        "0521   4.867945e+00   1.000000e+15   1.525827e+01"
       ]
      },
      {
       "output_type": "stream",
       "stream": "stdout",
       "text": [
        " \r",
        "0522   4.867945e+00   1.000000e+15   1.525827e+01"
       ]
      },
      {
       "output_type": "stream",
       "stream": "stdout",
       "text": [
        " \r",
        "0523   4.867945e+00   1.000000e+15   1.525827e+01"
       ]
      },
      {
       "output_type": "stream",
       "stream": "stdout",
       "text": [
        " \r",
        "0524   4.867945e+00   1.000000e+15   1.525827e+01"
       ]
      },
      {
       "output_type": "stream",
       "stream": "stdout",
       "text": [
        " \r",
        "0525   4.867945e+00   1.000000e+15   1.525827e+01"
       ]
      },
      {
       "output_type": "stream",
       "stream": "stdout",
       "text": [
        " \r",
        "0526   4.867945e+00   1.000000e+15   1.525827e+01"
       ]
      },
      {
       "output_type": "stream",
       "stream": "stdout",
       "text": [
        " \r",
        "0527   4.867945e+00   1.000000e+15   1.525827e+01"
       ]
      },
      {
       "output_type": "stream",
       "stream": "stdout",
       "text": [
        " \r",
        "0528   4.867945e+00   1.000000e+15   1.525827e+01"
       ]
      },
      {
       "output_type": "stream",
       "stream": "stdout",
       "text": [
        " \r",
        "0529   4.867945e+00   1.000000e+15   1.525827e+01"
       ]
      },
      {
       "output_type": "stream",
       "stream": "stdout",
       "text": [
        " \r",
        "0530   4.867945e+00   1.000000e+15   1.525827e+01"
       ]
      },
      {
       "output_type": "stream",
       "stream": "stdout",
       "text": [
        " \r",
        "0531   4.867945e+00   1.000000e+15   1.525827e+01"
       ]
      },
      {
       "output_type": "stream",
       "stream": "stdout",
       "text": [
        " \r",
        "0532   4.867945e+00   1.000000e+15   1.525827e+01"
       ]
      },
      {
       "output_type": "stream",
       "stream": "stdout",
       "text": [
        " \r",
        "0533   4.867945e+00   1.000000e+15   1.525827e+01"
       ]
      },
      {
       "output_type": "stream",
       "stream": "stdout",
       "text": [
        " \r",
        "0534   4.867945e+00   1.000000e+15   1.525827e+01"
       ]
      },
      {
       "output_type": "stream",
       "stream": "stdout",
       "text": [
        " \r",
        "0535   4.867945e+00   1.000000e+15   1.525827e+01"
       ]
      },
      {
       "output_type": "stream",
       "stream": "stdout",
       "text": [
        " \r",
        "0536   4.867945e+00   1.000000e+15   1.525827e+01"
       ]
      },
      {
       "output_type": "stream",
       "stream": "stdout",
       "text": [
        " \r",
        "0537   4.867945e+00   1.000000e+15   1.525827e+01"
       ]
      },
      {
       "output_type": "stream",
       "stream": "stdout",
       "text": [
        " \r",
        "0538   4.867945e+00   1.000000e+15   1.525827e+01"
       ]
      },
      {
       "output_type": "stream",
       "stream": "stdout",
       "text": [
        " \r",
        "0539   4.867945e+00   1.000000e+15   1.525827e+01"
       ]
      },
      {
       "output_type": "stream",
       "stream": "stdout",
       "text": [
        " \r",
        "0540   4.867945e+00   1.000000e+15   1.525827e+01"
       ]
      },
      {
       "output_type": "stream",
       "stream": "stdout",
       "text": [
        " \r",
        "0541   4.867945e+00   1.000000e+15   1.525827e+01"
       ]
      },
      {
       "output_type": "stream",
       "stream": "stdout",
       "text": [
        " \r",
        "0542   4.867945e+00   1.000000e+15   1.525827e+01"
       ]
      },
      {
       "output_type": "stream",
       "stream": "stdout",
       "text": [
        " \r",
        "0543   4.867945e+00   1.000000e+15   1.525827e+01"
       ]
      },
      {
       "output_type": "stream",
       "stream": "stdout",
       "text": [
        " \r",
        "0544   4.867945e+00   1.000000e+15   1.525827e+01"
       ]
      },
      {
       "output_type": "stream",
       "stream": "stdout",
       "text": [
        " \r",
        "0545   4.867945e+00   1.000000e+15   1.525827e+01"
       ]
      },
      {
       "output_type": "stream",
       "stream": "stdout",
       "text": [
        " \r",
        "0546   4.867945e+00   1.000000e+15   1.525827e+01"
       ]
      },
      {
       "output_type": "stream",
       "stream": "stdout",
       "text": [
        " \r",
        "0547   4.867945e+00   1.000000e+15   1.525827e+01"
       ]
      },
      {
       "output_type": "stream",
       "stream": "stdout",
       "text": [
        " \r",
        "0548   4.867945e+00   1.000000e+15   1.525827e+01"
       ]
      },
      {
       "output_type": "stream",
       "stream": "stdout",
       "text": [
        " \r",
        "0549   4.867945e+00   1.000000e+15   1.525827e+01"
       ]
      },
      {
       "output_type": "stream",
       "stream": "stdout",
       "text": [
        " \r",
        "0550   4.867945e+00   1.000000e+15   1.525827e+01"
       ]
      },
      {
       "output_type": "stream",
       "stream": "stdout",
       "text": [
        " \r",
        "0551   4.867945e+00   1.000000e+15   1.525827e+01"
       ]
      },
      {
       "output_type": "stream",
       "stream": "stdout",
       "text": [
        " \r",
        "0552   4.867945e+00   1.000000e+15   1.525827e+01"
       ]
      },
      {
       "output_type": "stream",
       "stream": "stdout",
       "text": [
        " \r",
        "0553   4.867945e+00   1.000000e+15   1.525827e+01"
       ]
      },
      {
       "output_type": "stream",
       "stream": "stdout",
       "text": [
        " \r",
        "0554   4.867945e+00   1.000000e+15   1.525827e+01"
       ]
      },
      {
       "output_type": "stream",
       "stream": "stdout",
       "text": [
        " \r",
        "0555   4.867945e+00   1.000000e+15   1.525827e+01"
       ]
      },
      {
       "output_type": "stream",
       "stream": "stdout",
       "text": [
        " \r",
        "0556   4.867945e+00   1.000000e+15   1.525827e+01"
       ]
      },
      {
       "output_type": "stream",
       "stream": "stdout",
       "text": [
        " \r",
        "0557   4.867945e+00   1.000000e+15   1.525827e+01"
       ]
      },
      {
       "output_type": "stream",
       "stream": "stdout",
       "text": [
        " \r",
        "0558   4.867945e+00   1.000000e+15   1.525827e+01"
       ]
      },
      {
       "output_type": "stream",
       "stream": "stdout",
       "text": [
        " \r",
        "0559   4.867945e+00   1.000000e+15   1.525827e+01"
       ]
      },
      {
       "output_type": "stream",
       "stream": "stdout",
       "text": [
        " \r",
        "0560   4.867945e+00   1.000000e+15   1.525827e+01"
       ]
      },
      {
       "output_type": "stream",
       "stream": "stdout",
       "text": [
        " \r",
        "0561   4.867945e+00   1.000000e+15   1.525827e+01"
       ]
      },
      {
       "output_type": "stream",
       "stream": "stdout",
       "text": [
        " \r",
        "0562   4.867945e+00   1.000000e+15   1.525827e+01"
       ]
      },
      {
       "output_type": "stream",
       "stream": "stdout",
       "text": [
        " \r",
        "0563   4.867945e+00   1.000000e+15   1.525827e+01"
       ]
      },
      {
       "output_type": "stream",
       "stream": "stdout",
       "text": [
        " \r",
        "0564   4.867945e+00   1.000000e+15   1.525827e+01"
       ]
      },
      {
       "output_type": "stream",
       "stream": "stdout",
       "text": [
        " \r",
        "0565   4.867945e+00   1.000000e+15   1.525827e+01"
       ]
      },
      {
       "output_type": "stream",
       "stream": "stdout",
       "text": [
        " \r",
        "0566   4.867945e+00   1.000000e+15   1.525827e+01"
       ]
      },
      {
       "output_type": "stream",
       "stream": "stdout",
       "text": [
        " \r",
        "0567   4.867945e+00   1.000000e+15   1.525827e+01"
       ]
      },
      {
       "output_type": "stream",
       "stream": "stdout",
       "text": [
        " \r",
        "0568   4.867945e+00   1.000000e+15   1.525827e+01"
       ]
      },
      {
       "output_type": "stream",
       "stream": "stdout",
       "text": [
        " \r",
        "0569   4.867945e+00   1.000000e+15   1.525827e+01"
       ]
      },
      {
       "output_type": "stream",
       "stream": "stdout",
       "text": [
        " \r",
        "0570   4.867945e+00   1.000000e+15   1.525827e+01"
       ]
      },
      {
       "output_type": "stream",
       "stream": "stdout",
       "text": [
        " \r",
        "0571   4.867945e+00   1.000000e+15   1.525827e+01"
       ]
      },
      {
       "output_type": "stream",
       "stream": "stdout",
       "text": [
        " \r",
        "0572   4.867945e+00   1.000000e+15   1.525827e+01"
       ]
      },
      {
       "output_type": "stream",
       "stream": "stdout",
       "text": [
        " \r",
        "0573   4.867945e+00   1.000000e+15   1.525827e+01"
       ]
      },
      {
       "output_type": "stream",
       "stream": "stdout",
       "text": [
        " \r",
        "0574   4.867945e+00   1.000000e+15   1.525827e+01"
       ]
      },
      {
       "output_type": "stream",
       "stream": "stdout",
       "text": [
        " \r",
        "0575   4.867945e+00   1.000000e+15   1.525827e+01"
       ]
      },
      {
       "output_type": "stream",
       "stream": "stdout",
       "text": [
        " \r",
        "0576   4.867945e+00   1.000000e+15   1.525827e+01"
       ]
      },
      {
       "output_type": "stream",
       "stream": "stdout",
       "text": [
        " \r",
        "0577   4.867945e+00   1.000000e+15   1.525827e+01"
       ]
      },
      {
       "output_type": "stream",
       "stream": "stdout",
       "text": [
        " \r",
        "0578   4.867945e+00   1.000000e+15   1.525827e+01"
       ]
      },
      {
       "output_type": "stream",
       "stream": "stdout",
       "text": [
        " \r",
        "0579   4.867945e+00   1.000000e+15   1.525827e+01"
       ]
      },
      {
       "output_type": "stream",
       "stream": "stdout",
       "text": [
        " \r",
        "0580   4.867945e+00   1.000000e+15   1.525827e+01"
       ]
      },
      {
       "output_type": "stream",
       "stream": "stdout",
       "text": [
        " \r",
        "0581   4.867945e+00   1.000000e+15   1.525827e+01"
       ]
      },
      {
       "output_type": "stream",
       "stream": "stdout",
       "text": [
        " \r",
        "0582   4.867945e+00   1.000000e+15   1.525827e+01"
       ]
      },
      {
       "output_type": "stream",
       "stream": "stdout",
       "text": [
        " \r",
        "0583   4.867945e+00   1.000000e+15   1.525827e+01"
       ]
      },
      {
       "output_type": "stream",
       "stream": "stdout",
       "text": [
        " \r",
        "0584   4.867945e+00   1.000000e+15   1.525827e+01"
       ]
      },
      {
       "output_type": "stream",
       "stream": "stdout",
       "text": [
        " \r",
        "0585   4.867945e+00   1.000000e+15   1.525827e+01"
       ]
      },
      {
       "output_type": "stream",
       "stream": "stdout",
       "text": [
        " \r",
        "0586   4.867945e+00   1.000000e+15   1.525827e+01"
       ]
      },
      {
       "output_type": "stream",
       "stream": "stdout",
       "text": [
        " \r",
        "0587   4.867945e+00   1.000000e+15   1.525827e+01"
       ]
      },
      {
       "output_type": "stream",
       "stream": "stdout",
       "text": [
        " \r",
        "0588   4.867945e+00   1.000000e+15   1.525827e+01"
       ]
      },
      {
       "output_type": "stream",
       "stream": "stdout",
       "text": [
        " \r",
        "0589   4.867945e+00   1.000000e+15   1.525827e+01"
       ]
      },
      {
       "output_type": "stream",
       "stream": "stdout",
       "text": [
        " \r",
        "0590   4.867945e+00   1.000000e+15   1.525827e+01"
       ]
      },
      {
       "output_type": "stream",
       "stream": "stdout",
       "text": [
        " \r",
        "0591   4.867945e+00   1.000000e+15   1.525827e+01"
       ]
      },
      {
       "output_type": "stream",
       "stream": "stdout",
       "text": [
        " \r",
        "0592   4.867945e+00   1.000000e+15   1.525827e+01"
       ]
      },
      {
       "output_type": "stream",
       "stream": "stdout",
       "text": [
        " \r",
        "0593   4.867945e+00   1.000000e+15   1.525827e+01"
       ]
      },
      {
       "output_type": "stream",
       "stream": "stdout",
       "text": [
        " \r",
        "0594   4.867945e+00   1.000000e+15   1.525827e+01"
       ]
      },
      {
       "output_type": "stream",
       "stream": "stdout",
       "text": [
        " \r",
        "0595   4.867945e+00   1.000000e+15   1.525827e+01"
       ]
      },
      {
       "output_type": "stream",
       "stream": "stdout",
       "text": [
        " \r",
        "0596   4.867945e+00   1.000000e+15   1.525827e+01"
       ]
      },
      {
       "output_type": "stream",
       "stream": "stdout",
       "text": [
        " \r",
        "0597   4.867945e+00   1.000000e+15   1.525827e+01"
       ]
      },
      {
       "output_type": "stream",
       "stream": "stdout",
       "text": [
        " \r",
        "0598   4.867945e+00   1.000000e+15   1.525827e+01"
       ]
      },
      {
       "output_type": "stream",
       "stream": "stdout",
       "text": [
        " \r",
        "0599   4.867945e+00   1.000000e+15   1.525827e+01"
       ]
      },
      {
       "output_type": "stream",
       "stream": "stdout",
       "text": [
        " \r",
        "0600   4.867945e+00   1.000000e+15   1.525827e+01"
       ]
      },
      {
       "output_type": "stream",
       "stream": "stdout",
       "text": [
        " \r",
        "0601   4.867945e+00   1.000000e+15   1.525827e+01"
       ]
      },
      {
       "output_type": "stream",
       "stream": "stdout",
       "text": [
        " \r",
        "0602   4.867945e+00   1.000000e+15   1.525827e+01"
       ]
      },
      {
       "output_type": "stream",
       "stream": "stdout",
       "text": [
        " \r",
        "0603   4.867945e+00   1.000000e+15   1.525827e+01"
       ]
      },
      {
       "output_type": "stream",
       "stream": "stdout",
       "text": [
        " \r",
        "0604   4.867945e+00   1.000000e+15   1.525827e+01"
       ]
      },
      {
       "output_type": "stream",
       "stream": "stdout",
       "text": [
        " \r",
        "0605   4.867945e+00   1.000000e+15   1.525827e+01"
       ]
      },
      {
       "output_type": "stream",
       "stream": "stdout",
       "text": [
        " \r",
        "0606   4.867945e+00   1.000000e+15   1.525827e+01"
       ]
      },
      {
       "output_type": "stream",
       "stream": "stdout",
       "text": [
        " \r",
        "0607   4.867945e+00   1.000000e+15   1.525827e+01"
       ]
      },
      {
       "output_type": "stream",
       "stream": "stdout",
       "text": [
        " \r",
        "0608   4.867945e+00   1.000000e+15   1.525827e+01"
       ]
      },
      {
       "output_type": "stream",
       "stream": "stdout",
       "text": [
        " \r",
        "0609   4.867945e+00   1.000000e+15   1.525827e+01"
       ]
      },
      {
       "output_type": "stream",
       "stream": "stdout",
       "text": [
        " \r",
        "0610   4.867945e+00   1.000000e+15   1.525827e+01"
       ]
      },
      {
       "output_type": "stream",
       "stream": "stdout",
       "text": [
        " \r",
        "0611   4.867945e+00   1.000000e+15   1.525827e+01"
       ]
      },
      {
       "output_type": "stream",
       "stream": "stdout",
       "text": [
        " \r",
        "0612   4.867945e+00   1.000000e+15   1.525827e+01"
       ]
      },
      {
       "output_type": "stream",
       "stream": "stdout",
       "text": [
        " \r",
        "0613   4.867945e+00   1.000000e+15   1.525827e+01"
       ]
      },
      {
       "output_type": "stream",
       "stream": "stdout",
       "text": [
        " \r",
        "0614   4.867945e+00   1.000000e+15   1.525827e+01"
       ]
      },
      {
       "output_type": "stream",
       "stream": "stdout",
       "text": [
        " \r",
        "0615   4.867945e+00   1.000000e+15   1.525827e+01"
       ]
      },
      {
       "output_type": "stream",
       "stream": "stdout",
       "text": [
        " \r",
        "0616   4.867945e+00   1.000000e+15   1.525827e+01"
       ]
      },
      {
       "output_type": "stream",
       "stream": "stdout",
       "text": [
        " \r",
        "0617   4.867945e+00   1.000000e+15   1.525827e+01"
       ]
      },
      {
       "output_type": "stream",
       "stream": "stdout",
       "text": [
        " \r",
        "0618   4.867945e+00   1.000000e+15   1.525827e+01"
       ]
      },
      {
       "output_type": "stream",
       "stream": "stdout",
       "text": [
        " \r",
        "0619   4.867945e+00   1.000000e+15   1.525827e+01"
       ]
      },
      {
       "output_type": "stream",
       "stream": "stdout",
       "text": [
        " \r",
        "0620   4.867945e+00   1.000000e+15   1.525827e+01"
       ]
      },
      {
       "output_type": "stream",
       "stream": "stdout",
       "text": [
        " \r",
        "0621   4.867945e+00   1.000000e+15   1.525827e+01"
       ]
      },
      {
       "output_type": "stream",
       "stream": "stdout",
       "text": [
        " \r",
        "0622   4.867945e+00   1.000000e+15   1.525827e+01"
       ]
      },
      {
       "output_type": "stream",
       "stream": "stdout",
       "text": [
        " \r",
        "0623   4.867945e+00   1.000000e+15   1.525827e+01"
       ]
      },
      {
       "output_type": "stream",
       "stream": "stdout",
       "text": [
        " \r",
        "0624   4.867945e+00   1.000000e+15   1.525827e+01"
       ]
      },
      {
       "output_type": "stream",
       "stream": "stdout",
       "text": [
        " \r",
        "0625   4.867945e+00   1.000000e+15   1.525827e+01"
       ]
      },
      {
       "output_type": "stream",
       "stream": "stdout",
       "text": [
        " \r",
        "0626   4.867945e+00   1.000000e+15   1.525827e+01"
       ]
      },
      {
       "output_type": "stream",
       "stream": "stdout",
       "text": [
        " \r",
        "0627   4.867945e+00   1.000000e+15   1.525827e+01"
       ]
      },
      {
       "output_type": "stream",
       "stream": "stdout",
       "text": [
        " \r",
        "0628   4.867945e+00   1.000000e+15   1.525827e+01"
       ]
      },
      {
       "output_type": "stream",
       "stream": "stdout",
       "text": [
        " \r",
        "0629   4.867945e+00   1.000000e+15   1.525827e+01"
       ]
      },
      {
       "output_type": "stream",
       "stream": "stdout",
       "text": [
        " \r",
        "0630   4.867945e+00   1.000000e+15   1.525827e+01"
       ]
      },
      {
       "output_type": "stream",
       "stream": "stdout",
       "text": [
        " \r",
        "0631   4.867945e+00   1.000000e+15   1.525827e+01"
       ]
      },
      {
       "output_type": "stream",
       "stream": "stdout",
       "text": [
        " \r",
        "0632   4.867945e+00   1.000000e+15   1.525827e+01"
       ]
      },
      {
       "output_type": "stream",
       "stream": "stdout",
       "text": [
        " \r",
        "0633   4.867945e+00   1.000000e+15   1.525827e+01"
       ]
      },
      {
       "output_type": "stream",
       "stream": "stdout",
       "text": [
        " \r",
        "0634   4.867945e+00   1.000000e+15   1.525827e+01"
       ]
      },
      {
       "output_type": "stream",
       "stream": "stdout",
       "text": [
        " \r",
        "0635   4.867945e+00   1.000000e+15   1.525827e+01"
       ]
      },
      {
       "output_type": "stream",
       "stream": "stdout",
       "text": [
        " \r",
        "0636   4.867945e+00   1.000000e+15   1.525827e+01"
       ]
      },
      {
       "output_type": "stream",
       "stream": "stdout",
       "text": [
        " \r",
        "0637   4.867945e+00   1.000000e+15   1.525827e+01"
       ]
      },
      {
       "output_type": "stream",
       "stream": "stdout",
       "text": [
        " \r",
        "0638   4.867945e+00   1.000000e+15   1.525827e+01"
       ]
      },
      {
       "output_type": "stream",
       "stream": "stdout",
       "text": [
        " \r",
        "0639   4.867945e+00   1.000000e+15   1.525827e+01"
       ]
      },
      {
       "output_type": "stream",
       "stream": "stdout",
       "text": [
        " \r",
        "0640   4.867945e+00   1.000000e+15   1.525827e+01"
       ]
      },
      {
       "output_type": "stream",
       "stream": "stdout",
       "text": [
        " \r",
        "0641   4.867945e+00   1.000000e+15   1.525827e+01"
       ]
      },
      {
       "output_type": "stream",
       "stream": "stdout",
       "text": [
        " \r",
        "0642   4.867945e+00   1.000000e+15   1.525827e+01"
       ]
      },
      {
       "output_type": "stream",
       "stream": "stdout",
       "text": [
        " \r",
        "0643   4.867945e+00   1.000000e+15   1.525827e+01"
       ]
      },
      {
       "output_type": "stream",
       "stream": "stdout",
       "text": [
        " \r",
        "0644   4.867945e+00   1.000000e+15   1.525827e+01"
       ]
      },
      {
       "output_type": "stream",
       "stream": "stdout",
       "text": [
        " \r",
        "0645   4.867945e+00   1.000000e+15   1.525827e+01"
       ]
      },
      {
       "output_type": "stream",
       "stream": "stdout",
       "text": [
        " \r",
        "0646   4.867945e+00   1.000000e+15   1.525827e+01"
       ]
      },
      {
       "output_type": "stream",
       "stream": "stdout",
       "text": [
        " \r",
        "0647   4.867945e+00   1.000000e+15   1.525827e+01"
       ]
      },
      {
       "output_type": "stream",
       "stream": "stdout",
       "text": [
        " \r",
        "0648   4.867945e+00   1.000000e+15   1.525827e+01"
       ]
      },
      {
       "output_type": "stream",
       "stream": "stdout",
       "text": [
        " \r",
        "0649   4.867945e+00   1.000000e+15   1.525827e+01"
       ]
      },
      {
       "output_type": "stream",
       "stream": "stdout",
       "text": [
        " \r",
        "0650   4.867945e+00   1.000000e+15   1.525827e+01"
       ]
      },
      {
       "output_type": "stream",
       "stream": "stdout",
       "text": [
        " \r",
        "0651   4.867945e+00   1.000000e+15   1.525827e+01"
       ]
      },
      {
       "output_type": "stream",
       "stream": "stdout",
       "text": [
        " \r",
        "0652   4.867945e+00   1.000000e+15   1.525827e+01"
       ]
      },
      {
       "output_type": "stream",
       "stream": "stdout",
       "text": [
        " \r",
        "0653   4.867945e+00   1.000000e+15   1.525827e+01"
       ]
      },
      {
       "output_type": "stream",
       "stream": "stdout",
       "text": [
        " \r",
        "0654   4.867945e+00   1.000000e+15   1.525827e+01"
       ]
      },
      {
       "output_type": "stream",
       "stream": "stdout",
       "text": [
        " \r",
        "0655   4.867945e+00   1.000000e+15   1.525827e+01"
       ]
      },
      {
       "output_type": "stream",
       "stream": "stdout",
       "text": [
        " \r",
        "0656   4.867945e+00   1.000000e+15   1.525827e+01"
       ]
      },
      {
       "output_type": "stream",
       "stream": "stdout",
       "text": [
        " \r",
        "0657   4.867945e+00   1.000000e+15   1.525827e+01"
       ]
      },
      {
       "output_type": "stream",
       "stream": "stdout",
       "text": [
        " \r",
        "0658   4.867945e+00   1.000000e+15   1.525827e+01"
       ]
      },
      {
       "output_type": "stream",
       "stream": "stdout",
       "text": [
        " \r",
        "0659   4.867945e+00   1.000000e+15   1.525827e+01"
       ]
      },
      {
       "output_type": "stream",
       "stream": "stdout",
       "text": [
        " \r",
        "0660   4.867945e+00   1.000000e+15   1.525827e+01"
       ]
      },
      {
       "output_type": "stream",
       "stream": "stdout",
       "text": [
        " \r",
        "0661   4.867945e+00   1.000000e+15   1.525827e+01"
       ]
      },
      {
       "output_type": "stream",
       "stream": "stdout",
       "text": [
        " \r",
        "0662   4.867945e+00   1.000000e+15   1.525827e+01"
       ]
      },
      {
       "output_type": "stream",
       "stream": "stdout",
       "text": [
        " \r",
        "0663   4.867945e+00   1.000000e+15   1.525827e+01"
       ]
      },
      {
       "output_type": "stream",
       "stream": "stdout",
       "text": [
        " \r",
        "0664   4.867945e+00   1.000000e+15   1.525827e+01"
       ]
      },
      {
       "output_type": "stream",
       "stream": "stdout",
       "text": [
        " \r",
        "0665   4.867945e+00   1.000000e+15   1.525827e+01"
       ]
      },
      {
       "output_type": "stream",
       "stream": "stdout",
       "text": [
        " \r",
        "0666   4.867945e+00   1.000000e+15   1.525827e+01"
       ]
      },
      {
       "output_type": "stream",
       "stream": "stdout",
       "text": [
        " \r",
        "0667   4.867945e+00   1.000000e+15   1.525827e+01"
       ]
      },
      {
       "output_type": "stream",
       "stream": "stdout",
       "text": [
        " \r",
        "0668   4.867945e+00   1.000000e+15   1.525827e+01"
       ]
      },
      {
       "output_type": "stream",
       "stream": "stdout",
       "text": [
        " \r",
        "0669   4.867945e+00   1.000000e+15   1.525827e+01"
       ]
      },
      {
       "output_type": "stream",
       "stream": "stdout",
       "text": [
        " \r",
        "0670   4.867945e+00   1.000000e+15   1.525827e+01"
       ]
      },
      {
       "output_type": "stream",
       "stream": "stdout",
       "text": [
        " \r",
        "0671   4.867945e+00   1.000000e+15   1.525827e+01"
       ]
      },
      {
       "output_type": "stream",
       "stream": "stdout",
       "text": [
        " \r",
        "0672   4.867945e+00   1.000000e+15   1.525827e+01"
       ]
      },
      {
       "output_type": "stream",
       "stream": "stdout",
       "text": [
        " \r",
        "0673   4.867945e+00   1.000000e+15   1.525827e+01"
       ]
      },
      {
       "output_type": "stream",
       "stream": "stdout",
       "text": [
        " \r",
        "0674   4.867945e+00   1.000000e+15   1.525827e+01"
       ]
      },
      {
       "output_type": "stream",
       "stream": "stdout",
       "text": [
        " \r",
        "0675   4.867945e+00   1.000000e+15   1.525827e+01"
       ]
      },
      {
       "output_type": "stream",
       "stream": "stdout",
       "text": [
        " \r",
        "0676   4.867945e+00   1.000000e+15   1.525827e+01"
       ]
      },
      {
       "output_type": "stream",
       "stream": "stdout",
       "text": [
        " \r",
        "0677   4.867945e+00   1.000000e+15   1.525827e+01"
       ]
      },
      {
       "output_type": "stream",
       "stream": "stdout",
       "text": [
        " \r",
        "0678   4.867945e+00   1.000000e+15   1.525827e+01"
       ]
      },
      {
       "output_type": "stream",
       "stream": "stdout",
       "text": [
        " \r",
        "0679   4.867945e+00   1.000000e+15   1.525827e+01"
       ]
      },
      {
       "output_type": "stream",
       "stream": "stdout",
       "text": [
        " \r",
        "0680   4.867945e+00   1.000000e+15   1.525827e+01"
       ]
      },
      {
       "output_type": "stream",
       "stream": "stdout",
       "text": [
        " \r",
        "0681   4.867945e+00   1.000000e+15   1.525827e+01"
       ]
      },
      {
       "output_type": "stream",
       "stream": "stdout",
       "text": [
        " \r",
        "0682   4.867945e+00   1.000000e+15   1.525827e+01"
       ]
      },
      {
       "output_type": "stream",
       "stream": "stdout",
       "text": [
        " \r",
        "0683   4.867945e+00   1.000000e+15   1.525827e+01"
       ]
      },
      {
       "output_type": "stream",
       "stream": "stdout",
       "text": [
        " \r",
        "0684   4.867945e+00   1.000000e+15   1.525827e+01"
       ]
      },
      {
       "output_type": "stream",
       "stream": "stdout",
       "text": [
        " \r",
        "0685   4.867945e+00   1.000000e+15   1.525827e+01"
       ]
      },
      {
       "output_type": "stream",
       "stream": "stdout",
       "text": [
        " \r",
        "0686   4.867945e+00   1.000000e+15   1.525827e+01"
       ]
      },
      {
       "output_type": "stream",
       "stream": "stdout",
       "text": [
        " \r",
        "0687   4.867945e+00   1.000000e+15   1.525827e+01"
       ]
      },
      {
       "output_type": "stream",
       "stream": "stdout",
       "text": [
        " \r",
        "0688   4.867945e+00   1.000000e+15   1.525827e+01"
       ]
      },
      {
       "output_type": "stream",
       "stream": "stdout",
       "text": [
        " \r",
        "0689   4.867945e+00   1.000000e+15   1.525827e+01"
       ]
      },
      {
       "output_type": "stream",
       "stream": "stdout",
       "text": [
        " \r",
        "0690   4.867945e+00   1.000000e+15   1.525827e+01"
       ]
      },
      {
       "output_type": "stream",
       "stream": "stdout",
       "text": [
        " \r",
        "0691   4.867945e+00   1.000000e+15   1.525827e+01"
       ]
      },
      {
       "output_type": "stream",
       "stream": "stdout",
       "text": [
        " \r",
        "0692   4.867945e+00   1.000000e+15   1.525827e+01"
       ]
      },
      {
       "output_type": "stream",
       "stream": "stdout",
       "text": [
        " \r",
        "0693   4.867945e+00   1.000000e+15   1.525827e+01"
       ]
      },
      {
       "output_type": "stream",
       "stream": "stdout",
       "text": [
        " \r",
        "0694   4.867945e+00   1.000000e+15   1.525827e+01"
       ]
      },
      {
       "output_type": "stream",
       "stream": "stdout",
       "text": [
        " \r",
        "0695   4.867945e+00   1.000000e+15   1.525827e+01"
       ]
      },
      {
       "output_type": "stream",
       "stream": "stdout",
       "text": [
        " \r",
        "0696   4.867945e+00   1.000000e+15   1.525827e+01"
       ]
      },
      {
       "output_type": "stream",
       "stream": "stdout",
       "text": [
        " \r",
        "0697   4.867945e+00   1.000000e+15   1.525827e+01"
       ]
      },
      {
       "output_type": "stream",
       "stream": "stdout",
       "text": [
        " \r",
        "0698   4.867945e+00   1.000000e+15   1.525827e+01"
       ]
      },
      {
       "output_type": "stream",
       "stream": "stdout",
       "text": [
        " \r",
        "0699   4.867945e+00   1.000000e+15   1.525827e+01"
       ]
      },
      {
       "output_type": "stream",
       "stream": "stdout",
       "text": [
        " \r",
        "0700   4.867945e+00   1.000000e+15   1.525827e+01"
       ]
      },
      {
       "output_type": "stream",
       "stream": "stdout",
       "text": [
        " \r",
        "0701   4.867945e+00   1.000000e+15   1.525827e+01"
       ]
      },
      {
       "output_type": "stream",
       "stream": "stdout",
       "text": [
        " \r",
        "0702   4.867945e+00   1.000000e+15   1.525827e+01"
       ]
      },
      {
       "output_type": "stream",
       "stream": "stdout",
       "text": [
        " \r",
        "0703   4.867945e+00   1.000000e+15   1.525827e+01"
       ]
      },
      {
       "output_type": "stream",
       "stream": "stdout",
       "text": [
        " \r",
        "0704   4.867945e+00   1.000000e+15   1.525827e+01"
       ]
      },
      {
       "output_type": "stream",
       "stream": "stdout",
       "text": [
        " \r",
        "0705   4.867945e+00   1.000000e+15   1.525827e+01"
       ]
      },
      {
       "output_type": "stream",
       "stream": "stdout",
       "text": [
        " \r",
        "0706   4.867945e+00   1.000000e+15   1.525827e+01"
       ]
      },
      {
       "output_type": "stream",
       "stream": "stdout",
       "text": [
        " \r",
        "0707   4.867945e+00   1.000000e+15   1.525827e+01"
       ]
      },
      {
       "output_type": "stream",
       "stream": "stdout",
       "text": [
        " \r",
        "0708   4.867945e+00   1.000000e+15   1.525827e+01"
       ]
      },
      {
       "output_type": "stream",
       "stream": "stdout",
       "text": [
        " \r",
        "0709   4.867945e+00   1.000000e+15   1.525827e+01"
       ]
      },
      {
       "output_type": "stream",
       "stream": "stdout",
       "text": [
        " \r",
        "0710   4.867945e+00   1.000000e+15   1.525827e+01"
       ]
      },
      {
       "output_type": "stream",
       "stream": "stdout",
       "text": [
        " \r",
        "0711   4.867945e+00   1.000000e+15   1.525827e+01"
       ]
      },
      {
       "output_type": "stream",
       "stream": "stdout",
       "text": [
        " \r",
        "0712   4.867945e+00   1.000000e+15   1.525827e+01"
       ]
      },
      {
       "output_type": "stream",
       "stream": "stdout",
       "text": [
        " \r",
        "0713   4.867945e+00   1.000000e+15   1.525827e+01"
       ]
      },
      {
       "output_type": "stream",
       "stream": "stdout",
       "text": [
        " \r",
        "0714   4.867945e+00   1.000000e+15   1.525827e+01"
       ]
      },
      {
       "output_type": "stream",
       "stream": "stdout",
       "text": [
        " \r",
        "0715   4.867945e+00   1.000000e+15   1.525827e+01"
       ]
      },
      {
       "output_type": "stream",
       "stream": "stdout",
       "text": [
        " \r",
        "0716   4.867945e+00   1.000000e+15   1.525827e+01"
       ]
      },
      {
       "output_type": "stream",
       "stream": "stdout",
       "text": [
        " \r",
        "0717   4.867945e+00   1.000000e+15   1.525827e+01"
       ]
      },
      {
       "output_type": "stream",
       "stream": "stdout",
       "text": [
        " \r",
        "0718   4.867945e+00   1.000000e+15   1.525827e+01"
       ]
      },
      {
       "output_type": "stream",
       "stream": "stdout",
       "text": [
        " \r",
        "0719   4.867945e+00   1.000000e+15   1.525827e+01"
       ]
      },
      {
       "output_type": "stream",
       "stream": "stdout",
       "text": [
        " \r",
        "0720   4.867945e+00   1.000000e+15   1.525827e+01"
       ]
      },
      {
       "output_type": "stream",
       "stream": "stdout",
       "text": [
        " \r",
        "0721   4.867945e+00   1.000000e+15   1.525827e+01"
       ]
      },
      {
       "output_type": "stream",
       "stream": "stdout",
       "text": [
        " \r",
        "0722   4.867945e+00   1.000000e+15   1.525827e+01"
       ]
      },
      {
       "output_type": "stream",
       "stream": "stdout",
       "text": [
        " \r",
        "0723   4.867945e+00   1.000000e+15   1.525827e+01"
       ]
      },
      {
       "output_type": "stream",
       "stream": "stdout",
       "text": [
        " \r",
        "0724   4.867945e+00   1.000000e+15   1.525827e+01"
       ]
      },
      {
       "output_type": "stream",
       "stream": "stdout",
       "text": [
        " \r",
        "0725   4.867945e+00   1.000000e+15   1.525827e+01"
       ]
      },
      {
       "output_type": "stream",
       "stream": "stdout",
       "text": [
        " \r",
        "0726   4.867945e+00   1.000000e+15   1.525827e+01"
       ]
      },
      {
       "output_type": "stream",
       "stream": "stdout",
       "text": [
        " \r",
        "0727   4.867945e+00   1.000000e+15   1.525827e+01"
       ]
      },
      {
       "output_type": "stream",
       "stream": "stdout",
       "text": [
        " \r",
        "0728   4.867945e+00   1.000000e+15   1.525827e+01"
       ]
      },
      {
       "output_type": "stream",
       "stream": "stdout",
       "text": [
        " \r",
        "0729   4.867945e+00   1.000000e+15   1.525827e+01"
       ]
      },
      {
       "output_type": "stream",
       "stream": "stdout",
       "text": [
        " \r",
        "0730   4.867945e+00   1.000000e+15   1.525827e+01"
       ]
      },
      {
       "output_type": "stream",
       "stream": "stdout",
       "text": [
        " \r",
        "0731   4.867945e+00   1.000000e+15   1.525827e+01"
       ]
      },
      {
       "output_type": "stream",
       "stream": "stdout",
       "text": [
        " \r",
        "0732   4.867945e+00   1.000000e+15   1.525827e+01"
       ]
      },
      {
       "output_type": "stream",
       "stream": "stdout",
       "text": [
        " \r",
        "0733   4.867945e+00   1.000000e+15   1.525827e+01"
       ]
      },
      {
       "output_type": "stream",
       "stream": "stdout",
       "text": [
        " \r",
        "0734   4.867945e+00   1.000000e+15   1.525827e+01"
       ]
      },
      {
       "output_type": "stream",
       "stream": "stdout",
       "text": [
        " \r",
        "0735   4.867945e+00   1.000000e+15   1.525827e+01"
       ]
      },
      {
       "output_type": "stream",
       "stream": "stdout",
       "text": [
        " \r",
        "0736   4.867945e+00   1.000000e+15   1.525827e+01"
       ]
      },
      {
       "output_type": "stream",
       "stream": "stdout",
       "text": [
        " \r",
        "0737   4.867945e+00   1.000000e+15   1.525827e+01"
       ]
      },
      {
       "output_type": "stream",
       "stream": "stdout",
       "text": [
        " \r",
        "0738   4.867945e+00   1.000000e+15   1.525827e+01"
       ]
      },
      {
       "output_type": "stream",
       "stream": "stdout",
       "text": [
        " \r",
        "0739   4.867945e+00   1.000000e+15   1.525827e+01"
       ]
      },
      {
       "output_type": "stream",
       "stream": "stdout",
       "text": [
        " \r",
        "0740   4.867945e+00   1.000000e+15   1.525827e+01"
       ]
      },
      {
       "output_type": "stream",
       "stream": "stdout",
       "text": [
        " \r",
        "0741   4.867945e+00   1.000000e+15   1.525827e+01"
       ]
      },
      {
       "output_type": "stream",
       "stream": "stdout",
       "text": [
        " \r",
        "0742   4.867945e+00   1.000000e+15   1.525827e+01"
       ]
      },
      {
       "output_type": "stream",
       "stream": "stdout",
       "text": [
        " \r",
        "0743   4.867945e+00   1.000000e+15   1.525827e+01"
       ]
      },
      {
       "output_type": "stream",
       "stream": "stdout",
       "text": [
        " \r",
        "0744   4.867945e+00   1.000000e+15   1.525827e+01"
       ]
      },
      {
       "output_type": "stream",
       "stream": "stdout",
       "text": [
        " \r",
        "0745   4.867945e+00   1.000000e+15   1.525827e+01"
       ]
      },
      {
       "output_type": "stream",
       "stream": "stdout",
       "text": [
        " \r",
        "0746   4.867945e+00   1.000000e+15   1.525827e+01"
       ]
      },
      {
       "output_type": "stream",
       "stream": "stdout",
       "text": [
        " \r",
        "0747   4.867945e+00   1.000000e+15   1.525827e+01"
       ]
      },
      {
       "output_type": "stream",
       "stream": "stdout",
       "text": [
        " \r",
        "0748   4.867945e+00   1.000000e+15   1.525827e+01"
       ]
      },
      {
       "output_type": "stream",
       "stream": "stdout",
       "text": [
        " \r",
        "0749   4.867945e+00   1.000000e+15   1.525827e+01"
       ]
      },
      {
       "output_type": "stream",
       "stream": "stdout",
       "text": [
        " \r",
        "0750   4.867945e+00   1.000000e+15   1.525827e+01"
       ]
      },
      {
       "output_type": "stream",
       "stream": "stdout",
       "text": [
        " \r",
        "0751   4.867945e+00   1.000000e+15   1.525827e+01"
       ]
      },
      {
       "output_type": "stream",
       "stream": "stdout",
       "text": [
        " \r",
        "0752   4.867945e+00   1.000000e+15   1.525827e+01"
       ]
      },
      {
       "output_type": "stream",
       "stream": "stdout",
       "text": [
        " \r",
        "0753   4.867945e+00   1.000000e+15   1.525827e+01"
       ]
      },
      {
       "output_type": "stream",
       "stream": "stdout",
       "text": [
        " \r",
        "0754   4.867945e+00   1.000000e+15   1.525827e+01"
       ]
      },
      {
       "output_type": "stream",
       "stream": "stdout",
       "text": [
        " \r",
        "0755   4.867945e+00   1.000000e+15   1.525827e+01"
       ]
      },
      {
       "output_type": "stream",
       "stream": "stdout",
       "text": [
        " \r",
        "0756   4.867945e+00   1.000000e+15   1.525827e+01"
       ]
      },
      {
       "output_type": "stream",
       "stream": "stdout",
       "text": [
        " \r",
        "0757   4.867945e+00   1.000000e+15   1.525827e+01"
       ]
      },
      {
       "output_type": "stream",
       "stream": "stdout",
       "text": [
        " \r",
        "0758   4.867945e+00   1.000000e+15   1.525827e+01"
       ]
      },
      {
       "output_type": "stream",
       "stream": "stdout",
       "text": [
        " \r",
        "0759   4.867945e+00   1.000000e+15   1.525827e+01"
       ]
      },
      {
       "output_type": "stream",
       "stream": "stdout",
       "text": [
        " \r",
        "0760   4.867945e+00   1.000000e+15   1.525827e+01"
       ]
      },
      {
       "output_type": "stream",
       "stream": "stdout",
       "text": [
        " \r",
        "0761   4.867945e+00   1.000000e+15   1.525827e+01"
       ]
      },
      {
       "output_type": "stream",
       "stream": "stdout",
       "text": [
        " \r",
        "0762   4.867945e+00   1.000000e+15   1.525827e+01"
       ]
      },
      {
       "output_type": "stream",
       "stream": "stdout",
       "text": [
        " \r",
        "0763   4.867945e+00   1.000000e+15   1.525827e+01"
       ]
      },
      {
       "output_type": "stream",
       "stream": "stdout",
       "text": [
        " \r",
        "0764   4.867945e+00   1.000000e+15   1.525827e+01"
       ]
      },
      {
       "output_type": "stream",
       "stream": "stdout",
       "text": [
        " \r",
        "0765   4.867945e+00   1.000000e+15   1.525827e+01"
       ]
      },
      {
       "output_type": "stream",
       "stream": "stdout",
       "text": [
        " \r",
        "0766   4.867945e+00   1.000000e+15   1.525827e+01"
       ]
      },
      {
       "output_type": "stream",
       "stream": "stdout",
       "text": [
        " \r",
        "0767   4.867945e+00   1.000000e+15   1.525827e+01"
       ]
      },
      {
       "output_type": "stream",
       "stream": "stdout",
       "text": [
        " \r",
        "0768   4.867945e+00   1.000000e+15   1.525827e+01"
       ]
      },
      {
       "output_type": "stream",
       "stream": "stdout",
       "text": [
        " \r",
        "0769   4.867945e+00   1.000000e+15   1.525827e+01"
       ]
      },
      {
       "output_type": "stream",
       "stream": "stdout",
       "text": [
        " \r",
        "0770   4.867945e+00   1.000000e+15   1.525827e+01"
       ]
      },
      {
       "output_type": "stream",
       "stream": "stdout",
       "text": [
        " \r",
        "0771   4.867945e+00   1.000000e+15   1.525827e+01"
       ]
      },
      {
       "output_type": "stream",
       "stream": "stdout",
       "text": [
        " \r",
        "0772   4.867945e+00   1.000000e+15   1.525827e+01"
       ]
      },
      {
       "output_type": "stream",
       "stream": "stdout",
       "text": [
        " \r",
        "0773   4.867945e+00   1.000000e+15   1.525827e+01"
       ]
      },
      {
       "output_type": "stream",
       "stream": "stdout",
       "text": [
        " \r",
        "0774   4.867945e+00   1.000000e+15   1.525827e+01"
       ]
      },
      {
       "output_type": "stream",
       "stream": "stdout",
       "text": [
        " \r",
        "0775   4.867945e+00   1.000000e+15   1.525827e+01"
       ]
      },
      {
       "output_type": "stream",
       "stream": "stdout",
       "text": [
        " \r",
        "0776   4.867945e+00   1.000000e+15   1.525827e+01"
       ]
      },
      {
       "output_type": "stream",
       "stream": "stdout",
       "text": [
        " \r",
        "0777   4.867945e+00   1.000000e+15   1.525827e+01"
       ]
      },
      {
       "output_type": "stream",
       "stream": "stdout",
       "text": [
        " \r",
        "0778   4.867945e+00   1.000000e+15   1.525827e+01"
       ]
      },
      {
       "output_type": "stream",
       "stream": "stdout",
       "text": [
        " \r",
        "0779   4.867945e+00   1.000000e+15   1.525827e+01"
       ]
      },
      {
       "output_type": "stream",
       "stream": "stdout",
       "text": [
        " \r",
        "0780   4.867945e+00   1.000000e+15   1.525827e+01"
       ]
      },
      {
       "output_type": "stream",
       "stream": "stdout",
       "text": [
        " \r",
        "0781   4.867945e+00   1.000000e+15   1.525827e+01"
       ]
      },
      {
       "output_type": "stream",
       "stream": "stdout",
       "text": [
        " \r",
        "0782   4.867945e+00   1.000000e+15   1.525827e+01"
       ]
      },
      {
       "output_type": "stream",
       "stream": "stdout",
       "text": [
        " \r",
        "0783   4.867945e+00   1.000000e+15   1.525827e+01"
       ]
      },
      {
       "output_type": "stream",
       "stream": "stdout",
       "text": [
        " \r",
        "0784   4.867945e+00   1.000000e+15   1.525827e+01"
       ]
      },
      {
       "output_type": "stream",
       "stream": "stdout",
       "text": [
        " \r",
        "0785   4.867945e+00   1.000000e+15   1.525827e+01"
       ]
      },
      {
       "output_type": "stream",
       "stream": "stdout",
       "text": [
        " \r",
        "0786   4.867945e+00   1.000000e+15   1.525827e+01"
       ]
      },
      {
       "output_type": "stream",
       "stream": "stdout",
       "text": [
        " \r",
        "0787   4.867945e+00   1.000000e+15   1.525827e+01"
       ]
      },
      {
       "output_type": "stream",
       "stream": "stdout",
       "text": [
        " \r",
        "0788   4.867945e+00   1.000000e+15   1.525827e+01"
       ]
      },
      {
       "output_type": "stream",
       "stream": "stdout",
       "text": [
        " \r",
        "0789   4.867945e+00   1.000000e+15   1.525827e+01"
       ]
      },
      {
       "output_type": "stream",
       "stream": "stdout",
       "text": [
        " \r",
        "0790   4.867945e+00   1.000000e+15   1.525827e+01"
       ]
      },
      {
       "output_type": "stream",
       "stream": "stdout",
       "text": [
        " \r",
        "0791   4.867945e+00   1.000000e+15   1.525827e+01"
       ]
      },
      {
       "output_type": "stream",
       "stream": "stdout",
       "text": [
        " \r",
        "0792   4.867945e+00   1.000000e+15   1.525827e+01"
       ]
      },
      {
       "output_type": "stream",
       "stream": "stdout",
       "text": [
        " \r",
        "0793   4.867945e+00   1.000000e+15   1.525827e+01"
       ]
      },
      {
       "output_type": "stream",
       "stream": "stdout",
       "text": [
        " \r",
        "0794   4.867945e+00   1.000000e+15   1.525827e+01"
       ]
      },
      {
       "output_type": "stream",
       "stream": "stdout",
       "text": [
        " \r",
        "0795   4.867945e+00   1.000000e+15   1.525827e+01"
       ]
      },
      {
       "output_type": "stream",
       "stream": "stdout",
       "text": [
        " \r",
        "0796   4.867945e+00   1.000000e+15   1.525827e+01"
       ]
      },
      {
       "output_type": "stream",
       "stream": "stdout",
       "text": [
        " \r",
        "0797   4.867945e+00   1.000000e+15   1.525827e+01"
       ]
      },
      {
       "output_type": "stream",
       "stream": "stdout",
       "text": [
        " \r",
        "0798   4.867945e+00   1.000000e+15   1.525827e+01"
       ]
      },
      {
       "output_type": "stream",
       "stream": "stdout",
       "text": [
        " \r",
        "0799   4.867945e+00   1.000000e+15   1.525827e+01"
       ]
      },
      {
       "output_type": "stream",
       "stream": "stdout",
       "text": [
        " \r",
        "0800   4.867945e+00   1.000000e+15   1.525827e+01"
       ]
      },
      {
       "output_type": "stream",
       "stream": "stdout",
       "text": [
        " \r",
        "0801   4.867945e+00   1.000000e+15   1.525827e+01"
       ]
      },
      {
       "output_type": "stream",
       "stream": "stdout",
       "text": [
        " \r",
        "0802   4.867945e+00   1.000000e+15   1.525827e+01"
       ]
      },
      {
       "output_type": "stream",
       "stream": "stdout",
       "text": [
        " \r",
        "0803   4.867945e+00   1.000000e+15   1.525827e+01"
       ]
      },
      {
       "output_type": "stream",
       "stream": "stdout",
       "text": [
        " \r",
        "0804   4.867945e+00   1.000000e+15   1.525827e+01"
       ]
      },
      {
       "output_type": "stream",
       "stream": "stdout",
       "text": [
        " \r",
        "0805   4.867945e+00   1.000000e+15   1.525827e+01"
       ]
      },
      {
       "output_type": "stream",
       "stream": "stdout",
       "text": [
        " \r",
        "0806   4.867945e+00   1.000000e+15   1.525827e+01"
       ]
      },
      {
       "output_type": "stream",
       "stream": "stdout",
       "text": [
        " \r",
        "0807   4.867945e+00   1.000000e+15   1.525827e+01"
       ]
      },
      {
       "output_type": "stream",
       "stream": "stdout",
       "text": [
        " \r",
        "0808   4.867945e+00   1.000000e+15   1.525827e+01"
       ]
      },
      {
       "output_type": "stream",
       "stream": "stdout",
       "text": [
        " \r",
        "0809   4.867945e+00   1.000000e+15   1.525827e+01"
       ]
      },
      {
       "output_type": "stream",
       "stream": "stdout",
       "text": [
        " \r",
        "0810   4.867945e+00   1.000000e+15   1.525827e+01"
       ]
      },
      {
       "output_type": "stream",
       "stream": "stdout",
       "text": [
        " \r",
        "0811   4.867945e+00   1.000000e+15   1.525827e+01"
       ]
      },
      {
       "output_type": "stream",
       "stream": "stdout",
       "text": [
        " \r",
        "0812   4.867945e+00   1.000000e+15   1.525827e+01"
       ]
      },
      {
       "output_type": "stream",
       "stream": "stdout",
       "text": [
        " \r",
        "0813   4.867945e+00   1.000000e+15   1.525827e+01"
       ]
      },
      {
       "output_type": "stream",
       "stream": "stdout",
       "text": [
        " \r",
        "0814   4.867945e+00   1.000000e+15   1.525827e+01"
       ]
      },
      {
       "output_type": "stream",
       "stream": "stdout",
       "text": [
        " \r",
        "0815   4.867945e+00   1.000000e+15   1.525827e+01"
       ]
      },
      {
       "output_type": "stream",
       "stream": "stdout",
       "text": [
        " \r",
        "0816   4.867945e+00   1.000000e+15   1.525827e+01"
       ]
      },
      {
       "output_type": "stream",
       "stream": "stdout",
       "text": [
        " \r",
        "0817   4.867945e+00   1.000000e+15   1.525827e+01"
       ]
      },
      {
       "output_type": "stream",
       "stream": "stdout",
       "text": [
        " \r",
        "0818   4.867945e+00   1.000000e+15   1.525827e+01"
       ]
      },
      {
       "output_type": "stream",
       "stream": "stdout",
       "text": [
        " \r",
        "0819   4.867945e+00   1.000000e+15   1.525827e+01"
       ]
      },
      {
       "output_type": "stream",
       "stream": "stdout",
       "text": [
        " \r",
        "0820   4.867945e+00   1.000000e+15   1.525827e+01"
       ]
      },
      {
       "output_type": "stream",
       "stream": "stdout",
       "text": [
        " \r",
        "0821   4.867945e+00   1.000000e+15   1.525827e+01"
       ]
      },
      {
       "output_type": "stream",
       "stream": "stdout",
       "text": [
        " \r",
        "0822   4.867945e+00   1.000000e+15   1.525827e+01"
       ]
      },
      {
       "output_type": "stream",
       "stream": "stdout",
       "text": [
        " \r",
        "0823   4.867945e+00   1.000000e+15   1.525827e+01"
       ]
      },
      {
       "output_type": "stream",
       "stream": "stdout",
       "text": [
        " \r",
        "0824   4.867945e+00   1.000000e+15   1.525827e+01"
       ]
      },
      {
       "output_type": "stream",
       "stream": "stdout",
       "text": [
        " \r",
        "0825   4.867945e+00   1.000000e+15   1.525827e+01"
       ]
      },
      {
       "output_type": "stream",
       "stream": "stdout",
       "text": [
        " \r",
        "0826   4.867945e+00   1.000000e+15   1.525827e+01"
       ]
      },
      {
       "output_type": "stream",
       "stream": "stdout",
       "text": [
        " \r",
        "0827   4.867945e+00   1.000000e+15   1.525827e+01"
       ]
      },
      {
       "output_type": "stream",
       "stream": "stdout",
       "text": [
        " \r",
        "0828   4.867945e+00   1.000000e+15   1.525827e+01"
       ]
      },
      {
       "output_type": "stream",
       "stream": "stdout",
       "text": [
        " \r",
        "0829   4.867945e+00   1.000000e+15   1.525827e+01"
       ]
      },
      {
       "output_type": "stream",
       "stream": "stdout",
       "text": [
        " \r",
        "0830   4.867945e+00   1.000000e+15   1.525827e+01"
       ]
      },
      {
       "output_type": "stream",
       "stream": "stdout",
       "text": [
        " \r",
        "0831   4.867945e+00   1.000000e+15   1.525827e+01"
       ]
      },
      {
       "output_type": "stream",
       "stream": "stdout",
       "text": [
        " \r",
        "0832   4.867945e+00   1.000000e+15   1.525827e+01"
       ]
      },
      {
       "output_type": "stream",
       "stream": "stdout",
       "text": [
        " \r",
        "0833   4.867945e+00   1.000000e+15   1.525827e+01"
       ]
      },
      {
       "output_type": "stream",
       "stream": "stdout",
       "text": [
        " \r",
        "0834   4.867945e+00   1.000000e+15   1.525827e+01"
       ]
      },
      {
       "output_type": "stream",
       "stream": "stdout",
       "text": [
        " \r",
        "0835   4.867945e+00   1.000000e+15   1.525827e+01"
       ]
      },
      {
       "output_type": "stream",
       "stream": "stdout",
       "text": [
        " \r",
        "0836   4.867945e+00   1.000000e+15   1.525827e+01"
       ]
      },
      {
       "output_type": "stream",
       "stream": "stdout",
       "text": [
        " \r",
        "0837   4.867945e+00   1.000000e+15   1.525827e+01"
       ]
      },
      {
       "output_type": "stream",
       "stream": "stdout",
       "text": [
        " \r",
        "0838   4.867945e+00   1.000000e+15   1.525827e+01"
       ]
      },
      {
       "output_type": "stream",
       "stream": "stdout",
       "text": [
        " \r",
        "0839   4.867945e+00   1.000000e+15   1.525827e+01"
       ]
      },
      {
       "output_type": "stream",
       "stream": "stdout",
       "text": [
        " \r",
        "0840   4.867945e+00   1.000000e+15   1.525827e+01"
       ]
      },
      {
       "output_type": "stream",
       "stream": "stdout",
       "text": [
        " \r",
        "0841   4.867945e+00   1.000000e+15   1.525827e+01"
       ]
      },
      {
       "output_type": "stream",
       "stream": "stdout",
       "text": [
        " \r",
        "0842   4.867945e+00   1.000000e+15   1.525827e+01"
       ]
      },
      {
       "output_type": "stream",
       "stream": "stdout",
       "text": [
        " \r",
        "0843   4.867945e+00   1.000000e+15   1.525827e+01"
       ]
      },
      {
       "output_type": "stream",
       "stream": "stdout",
       "text": [
        " \r",
        "0844   4.867945e+00   1.000000e+15   1.525827e+01"
       ]
      },
      {
       "output_type": "stream",
       "stream": "stdout",
       "text": [
        " \r",
        "0845   4.867945e+00   1.000000e+15   1.525827e+01"
       ]
      },
      {
       "output_type": "stream",
       "stream": "stdout",
       "text": [
        " \r",
        "0846   4.867945e+00   1.000000e+15   1.525827e+01"
       ]
      },
      {
       "output_type": "stream",
       "stream": "stdout",
       "text": [
        " \n",
        "\r"
       ]
      },
      {
       "output_type": "stream",
       "stream": "stdout",
       "text": [
        "0847   4.867945e+00   1.000000e+15   1.525827e+01"
       ]
      },
      {
       "output_type": "stream",
       "stream": "stdout",
       "text": [
        " \r",
        "0848   4.867945e+00   1.000000e+15   1.525827e+01"
       ]
      },
      {
       "output_type": "stream",
       "stream": "stdout",
       "text": [
        " \r",
        "0849   4.867945e+00   1.000000e+15   1.525827e+01"
       ]
      },
      {
       "output_type": "stream",
       "stream": "stdout",
       "text": [
        " \r",
        "0850   4.867945e+00   1.000000e+15   1.525827e+01"
       ]
      },
      {
       "output_type": "stream",
       "stream": "stdout",
       "text": [
        " \r",
        "0851   4.867945e+00   1.000000e+15   1.525827e+01"
       ]
      },
      {
       "output_type": "stream",
       "stream": "stdout",
       "text": [
        " \r",
        "0852   4.867945e+00   1.000000e+15   1.525827e+01"
       ]
      },
      {
       "output_type": "stream",
       "stream": "stdout",
       "text": [
        " \r",
        "0853   4.867945e+00   1.000000e+15   1.525827e+01"
       ]
      },
      {
       "output_type": "stream",
       "stream": "stdout",
       "text": [
        " \r",
        "0854   4.867945e+00   1.000000e+15   1.525827e+01"
       ]
      },
      {
       "output_type": "stream",
       "stream": "stdout",
       "text": [
        " \r",
        "0855   4.867945e+00   1.000000e+15   1.525827e+01"
       ]
      },
      {
       "output_type": "stream",
       "stream": "stdout",
       "text": [
        " \r",
        "0856   4.867945e+00   1.000000e+15   1.525827e+01"
       ]
      },
      {
       "output_type": "stream",
       "stream": "stdout",
       "text": [
        " \r",
        "0857   4.867945e+00   1.000000e+15   1.525827e+01"
       ]
      },
      {
       "output_type": "stream",
       "stream": "stdout",
       "text": [
        " \r",
        "0858   4.867945e+00   1.000000e+15   1.525827e+01"
       ]
      },
      {
       "output_type": "stream",
       "stream": "stdout",
       "text": [
        " \r",
        "0859   4.867945e+00   1.000000e+15   1.525827e+01"
       ]
      },
      {
       "output_type": "stream",
       "stream": "stdout",
       "text": [
        " \r",
        "0860   4.867945e+00   1.000000e+15   1.525827e+01"
       ]
      },
      {
       "output_type": "stream",
       "stream": "stdout",
       "text": [
        " \r",
        "0861   4.867945e+00   1.000000e+15   1.525827e+01"
       ]
      },
      {
       "output_type": "stream",
       "stream": "stdout",
       "text": [
        " \r",
        "0862   4.867945e+00   1.000000e+15   1.525827e+01"
       ]
      },
      {
       "output_type": "stream",
       "stream": "stdout",
       "text": [
        " \r",
        "0863   4.867945e+00   1.000000e+15   1.525827e+01"
       ]
      },
      {
       "output_type": "stream",
       "stream": "stdout",
       "text": [
        " \r",
        "0864   4.867945e+00   1.000000e+15   1.525827e+01"
       ]
      },
      {
       "output_type": "stream",
       "stream": "stdout",
       "text": [
        " \r",
        "0865   4.867945e+00   1.000000e+15   1.525827e+01"
       ]
      },
      {
       "output_type": "stream",
       "stream": "stdout",
       "text": [
        " \r",
        "0866   4.867945e+00   1.000000e+15   1.525827e+01"
       ]
      },
      {
       "output_type": "stream",
       "stream": "stdout",
       "text": [
        " \r",
        "0867   4.867945e+00   1.000000e+15   1.525827e+01"
       ]
      },
      {
       "output_type": "stream",
       "stream": "stdout",
       "text": [
        " \r",
        "0868   4.867945e+00   1.000000e+15   1.525827e+01"
       ]
      },
      {
       "output_type": "stream",
       "stream": "stdout",
       "text": [
        " \r",
        "0869   4.867945e+00   1.000000e+15   1.525827e+01"
       ]
      },
      {
       "output_type": "stream",
       "stream": "stdout",
       "text": [
        " \r",
        "0870   4.867945e+00   1.000000e+15   1.525827e+01"
       ]
      },
      {
       "output_type": "stream",
       "stream": "stdout",
       "text": [
        " \r",
        "0871   4.867945e+00   1.000000e+15   1.525827e+01"
       ]
      },
      {
       "output_type": "stream",
       "stream": "stdout",
       "text": [
        " \r",
        "0872   4.867945e+00   1.000000e+15   1.525827e+01"
       ]
      },
      {
       "output_type": "stream",
       "stream": "stdout",
       "text": [
        " \r",
        "0873   4.867945e+00   1.000000e+15   1.525827e+01"
       ]
      },
      {
       "output_type": "stream",
       "stream": "stdout",
       "text": [
        " \r",
        "0874   4.867945e+00   1.000000e+15   1.525827e+01"
       ]
      },
      {
       "output_type": "stream",
       "stream": "stdout",
       "text": [
        " \r",
        "0875   4.867945e+00   1.000000e+15   1.525827e+01"
       ]
      },
      {
       "output_type": "stream",
       "stream": "stdout",
       "text": [
        " \r",
        "0876   4.867945e+00   1.000000e+15   1.525827e+01"
       ]
      },
      {
       "output_type": "stream",
       "stream": "stdout",
       "text": [
        " \r",
        "0877   4.867945e+00   1.000000e+15   1.525827e+01"
       ]
      },
      {
       "output_type": "stream",
       "stream": "stdout",
       "text": [
        " \r",
        "0878   4.867945e+00   1.000000e+15   1.525827e+01"
       ]
      },
      {
       "output_type": "stream",
       "stream": "stdout",
       "text": [
        " \r",
        "0879   4.867945e+00   1.000000e+15   1.525827e+01"
       ]
      },
      {
       "output_type": "stream",
       "stream": "stdout",
       "text": [
        " \r",
        "0880   4.867945e+00   1.000000e+15   1.525827e+01"
       ]
      },
      {
       "output_type": "stream",
       "stream": "stdout",
       "text": [
        " \r",
        "0881   4.867945e+00   1.000000e+15   1.525827e+01"
       ]
      },
      {
       "output_type": "stream",
       "stream": "stdout",
       "text": [
        " \r",
        "0882   4.867945e+00   1.000000e+15   1.525827e+01"
       ]
      },
      {
       "output_type": "stream",
       "stream": "stdout",
       "text": [
        " \r",
        "0883   4.867945e+00   1.000000e+15   1.525827e+01"
       ]
      },
      {
       "output_type": "stream",
       "stream": "stdout",
       "text": [
        " \r",
        "0884   4.867945e+00   1.000000e+15   1.525827e+01"
       ]
      },
      {
       "output_type": "stream",
       "stream": "stdout",
       "text": [
        " \r",
        "0885   4.867945e+00   1.000000e+15   1.525827e+01"
       ]
      },
      {
       "output_type": "stream",
       "stream": "stdout",
       "text": [
        " \r",
        "0886   4.867945e+00   1.000000e+15   1.525827e+01"
       ]
      },
      {
       "output_type": "stream",
       "stream": "stdout",
       "text": [
        " \r",
        "0887   4.867945e+00   1.000000e+15   1.525827e+01"
       ]
      },
      {
       "output_type": "stream",
       "stream": "stdout",
       "text": [
        " \r",
        "0888   4.867945e+00   1.000000e+15   1.525827e+01"
       ]
      },
      {
       "output_type": "stream",
       "stream": "stdout",
       "text": [
        " \r",
        "0889   4.867945e+00   1.000000e+15   1.525827e+01"
       ]
      },
      {
       "output_type": "stream",
       "stream": "stdout",
       "text": [
        " \r",
        "0890   4.867945e+00   1.000000e+15   1.525827e+01"
       ]
      },
      {
       "output_type": "stream",
       "stream": "stdout",
       "text": [
        " \r",
        "0891   4.867945e+00   1.000000e+15   1.525827e+01"
       ]
      },
      {
       "output_type": "stream",
       "stream": "stdout",
       "text": [
        " \r",
        "0892   4.867945e+00   1.000000e+15   1.525827e+01"
       ]
      },
      {
       "output_type": "stream",
       "stream": "stdout",
       "text": [
        " \r",
        "0893   4.867945e+00   1.000000e+15   1.525827e+01"
       ]
      },
      {
       "output_type": "stream",
       "stream": "stdout",
       "text": [
        " \r",
        "0894   4.867945e+00   1.000000e+15   1.525827e+01"
       ]
      },
      {
       "output_type": "stream",
       "stream": "stdout",
       "text": [
        " \r",
        "0895   4.867945e+00   1.000000e+15   1.525827e+01"
       ]
      },
      {
       "output_type": "stream",
       "stream": "stdout",
       "text": [
        " \r",
        "0896   4.867945e+00   1.000000e+15   1.525827e+01"
       ]
      },
      {
       "output_type": "stream",
       "stream": "stdout",
       "text": [
        " \r",
        "0897   4.867945e+00   1.000000e+15   1.525827e+01"
       ]
      },
      {
       "output_type": "stream",
       "stream": "stdout",
       "text": [
        " \r",
        "0898   4.867945e+00   1.000000e+15   1.525827e+01"
       ]
      },
      {
       "output_type": "stream",
       "stream": "stdout",
       "text": [
        " \r",
        "0899   4.867945e+00   1.000000e+15   1.525827e+01"
       ]
      },
      {
       "output_type": "stream",
       "stream": "stdout",
       "text": [
        " \r",
        "0900   4.867945e+00   1.000000e+15   1.525827e+01"
       ]
      },
      {
       "output_type": "stream",
       "stream": "stdout",
       "text": [
        " \r",
        "0901   4.867945e+00   1.000000e+15   1.525827e+01"
       ]
      },
      {
       "output_type": "stream",
       "stream": "stdout",
       "text": [
        " \r",
        "0902   4.867945e+00   1.000000e+15   1.525827e+01"
       ]
      },
      {
       "output_type": "stream",
       "stream": "stdout",
       "text": [
        " \r",
        "0903   4.867945e+00   1.000000e+15   1.525827e+01"
       ]
      },
      {
       "output_type": "stream",
       "stream": "stdout",
       "text": [
        " \r",
        "0904   4.867945e+00   1.000000e+15   1.525827e+01"
       ]
      },
      {
       "output_type": "stream",
       "stream": "stdout",
       "text": [
        " \r",
        "0905   4.867945e+00   1.000000e+15   1.525827e+01"
       ]
      },
      {
       "output_type": "stream",
       "stream": "stdout",
       "text": [
        " \r",
        "0906   4.867945e+00   1.000000e+15   1.525827e+01"
       ]
      },
      {
       "output_type": "stream",
       "stream": "stdout",
       "text": [
        " \r",
        "0907   4.867945e+00   1.000000e+15   1.525827e+01"
       ]
      },
      {
       "output_type": "stream",
       "stream": "stdout",
       "text": [
        " \r",
        "0908   4.867945e+00   1.000000e+15   1.525827e+01"
       ]
      },
      {
       "output_type": "stream",
       "stream": "stdout",
       "text": [
        " \r",
        "0909   4.867945e+00   1.000000e+15   1.525827e+01"
       ]
      },
      {
       "output_type": "stream",
       "stream": "stdout",
       "text": [
        " \r",
        "0910   4.867945e+00   1.000000e+15   1.525827e+01"
       ]
      },
      {
       "output_type": "stream",
       "stream": "stdout",
       "text": [
        " \r",
        "0911   4.867945e+00   1.000000e+15   1.525827e+01"
       ]
      },
      {
       "output_type": "stream",
       "stream": "stdout",
       "text": [
        " \r",
        "0912   4.867945e+00   1.000000e+15   1.525827e+01"
       ]
      },
      {
       "output_type": "stream",
       "stream": "stdout",
       "text": [
        " \r",
        "0913   4.867945e+00   1.000000e+15   1.525827e+01"
       ]
      },
      {
       "output_type": "stream",
       "stream": "stdout",
       "text": [
        " \r",
        "0914   4.867945e+00   1.000000e+15   1.525827e+01"
       ]
      },
      {
       "output_type": "stream",
       "stream": "stdout",
       "text": [
        " \r",
        "0915   4.867945e+00   1.000000e+15   1.525827e+01"
       ]
      },
      {
       "output_type": "stream",
       "stream": "stdout",
       "text": [
        " \r",
        "0916   4.867945e+00   1.000000e+15   1.525827e+01"
       ]
      },
      {
       "output_type": "stream",
       "stream": "stdout",
       "text": [
        " \r",
        "0917   4.867945e+00   1.000000e+15   1.525827e+01"
       ]
      },
      {
       "output_type": "stream",
       "stream": "stdout",
       "text": [
        " \r",
        "0918   4.867945e+00   1.000000e+15   1.525827e+01"
       ]
      },
      {
       "output_type": "stream",
       "stream": "stdout",
       "text": [
        " \r",
        "0919   4.867945e+00   1.000000e+15   1.525827e+01"
       ]
      },
      {
       "output_type": "stream",
       "stream": "stdout",
       "text": [
        " \r",
        "0920   4.867945e+00   1.000000e+15   1.525827e+01"
       ]
      },
      {
       "output_type": "stream",
       "stream": "stdout",
       "text": [
        " \r",
        "0921   4.867945e+00   1.000000e+15   1.525827e+01"
       ]
      },
      {
       "output_type": "stream",
       "stream": "stdout",
       "text": [
        " \r",
        "0922   4.867945e+00   1.000000e+15   1.525827e+01"
       ]
      },
      {
       "output_type": "stream",
       "stream": "stdout",
       "text": [
        " \r",
        "0923   4.867945e+00   1.000000e+15   1.525827e+01"
       ]
      },
      {
       "output_type": "stream",
       "stream": "stdout",
       "text": [
        " \r",
        "0924   4.867945e+00   1.000000e+15   1.525827e+01"
       ]
      },
      {
       "output_type": "stream",
       "stream": "stdout",
       "text": [
        " \r",
        "0925   4.867945e+00   1.000000e+15   1.525827e+01"
       ]
      },
      {
       "output_type": "stream",
       "stream": "stdout",
       "text": [
        " \r",
        "0926   4.867945e+00   1.000000e+15   1.525827e+01"
       ]
      },
      {
       "output_type": "stream",
       "stream": "stdout",
       "text": [
        " \r",
        "0927   4.867945e+00   1.000000e+15   1.525827e+01"
       ]
      },
      {
       "output_type": "stream",
       "stream": "stdout",
       "text": [
        " \r",
        "0928   4.867945e+00   1.000000e+15   1.525827e+01"
       ]
      },
      {
       "output_type": "stream",
       "stream": "stdout",
       "text": [
        " \r",
        "0929   4.867945e+00   1.000000e+15   1.525827e+01"
       ]
      },
      {
       "output_type": "stream",
       "stream": "stdout",
       "text": [
        " \r",
        "0930   4.867945e+00   1.000000e+15   1.525827e+01"
       ]
      },
      {
       "output_type": "stream",
       "stream": "stdout",
       "text": [
        " \r",
        "0931   4.867945e+00   1.000000e+15   1.525827e+01"
       ]
      },
      {
       "output_type": "stream",
       "stream": "stdout",
       "text": [
        " \r",
        "0932   4.867945e+00   1.000000e+15   1.525827e+01"
       ]
      },
      {
       "output_type": "stream",
       "stream": "stdout",
       "text": [
        " \r",
        "0933   4.867945e+00   1.000000e+15   1.525827e+01"
       ]
      },
      {
       "output_type": "stream",
       "stream": "stdout",
       "text": [
        " \r",
        "0934   4.867945e+00   1.000000e+15   1.525827e+01"
       ]
      },
      {
       "output_type": "stream",
       "stream": "stdout",
       "text": [
        " \r",
        "0935   4.867945e+00   1.000000e+15   1.525827e+01"
       ]
      },
      {
       "output_type": "stream",
       "stream": "stdout",
       "text": [
        " \r",
        "0936   4.867945e+00   1.000000e+15   1.525827e+01"
       ]
      },
      {
       "output_type": "stream",
       "stream": "stdout",
       "text": [
        " \r",
        "0937   4.867945e+00   1.000000e+15   1.525827e+01"
       ]
      },
      {
       "output_type": "stream",
       "stream": "stdout",
       "text": [
        " \r",
        "0938   4.867945e+00   1.000000e+15   1.525827e+01"
       ]
      },
      {
       "output_type": "stream",
       "stream": "stdout",
       "text": [
        " \r",
        "0939   4.867945e+00   1.000000e+15   1.525827e+01"
       ]
      },
      {
       "output_type": "stream",
       "stream": "stdout",
       "text": [
        " \r",
        "0940   4.867945e+00   1.000000e+15   1.525827e+01"
       ]
      },
      {
       "output_type": "stream",
       "stream": "stdout",
       "text": [
        " \r",
        "0941   4.867945e+00   1.000000e+15   1.525827e+01"
       ]
      },
      {
       "output_type": "stream",
       "stream": "stdout",
       "text": [
        " \r",
        "0942   4.867945e+00   1.000000e+15   1.525827e+01"
       ]
      },
      {
       "output_type": "stream",
       "stream": "stdout",
       "text": [
        " \r",
        "0943   4.867945e+00   1.000000e+15   1.525827e+01"
       ]
      },
      {
       "output_type": "stream",
       "stream": "stdout",
       "text": [
        " \r",
        "0944   4.867945e+00   1.000000e+15   1.525827e+01"
       ]
      },
      {
       "output_type": "stream",
       "stream": "stdout",
       "text": [
        " \r",
        "0945   4.867945e+00   1.000000e+15   1.525827e+01"
       ]
      },
      {
       "output_type": "stream",
       "stream": "stdout",
       "text": [
        " \r",
        "0946   4.867945e+00   1.000000e+15   1.525827e+01"
       ]
      },
      {
       "output_type": "stream",
       "stream": "stdout",
       "text": [
        " \r",
        "0947   4.867945e+00   1.000000e+15   1.525827e+01"
       ]
      },
      {
       "output_type": "stream",
       "stream": "stdout",
       "text": [
        " \r",
        "0948   4.867945e+00   1.000000e+15   1.525827e+01"
       ]
      },
      {
       "output_type": "stream",
       "stream": "stdout",
       "text": [
        " \r",
        "0949   4.867945e+00   1.000000e+15   1.525827e+01"
       ]
      },
      {
       "output_type": "stream",
       "stream": "stdout",
       "text": [
        " \r",
        "0950   4.867945e+00   1.000000e+15   1.525827e+01"
       ]
      },
      {
       "output_type": "stream",
       "stream": "stdout",
       "text": [
        " \r",
        "0951   4.867945e+00   1.000000e+15   1.525827e+01"
       ]
      },
      {
       "output_type": "stream",
       "stream": "stdout",
       "text": [
        " \r",
        "0952   4.867945e+00   1.000000e+15   1.525827e+01"
       ]
      },
      {
       "output_type": "stream",
       "stream": "stdout",
       "text": [
        " \r",
        "0953   4.867945e+00   1.000000e+15   1.525827e+01"
       ]
      },
      {
       "output_type": "stream",
       "stream": "stdout",
       "text": [
        " \r",
        "0954   4.867945e+00   1.000000e+15   1.525827e+01"
       ]
      },
      {
       "output_type": "stream",
       "stream": "stdout",
       "text": [
        " \r",
        "0955   4.867945e+00   1.000000e+15   1.525827e+01"
       ]
      },
      {
       "output_type": "stream",
       "stream": "stdout",
       "text": [
        " \r",
        "0956   4.867945e+00   1.000000e+15   1.525827e+01"
       ]
      },
      {
       "output_type": "stream",
       "stream": "stdout",
       "text": [
        " \r",
        "0957   4.867945e+00   1.000000e+15   1.525827e+01"
       ]
      },
      {
       "output_type": "stream",
       "stream": "stdout",
       "text": [
        " \r",
        "0958   4.867945e+00   1.000000e+15   1.525827e+01"
       ]
      },
      {
       "output_type": "stream",
       "stream": "stdout",
       "text": [
        " \r",
        "0959   4.867945e+00   1.000000e+15   1.525827e+01"
       ]
      },
      {
       "output_type": "stream",
       "stream": "stdout",
       "text": [
        " \r",
        "0960   4.867945e+00   1.000000e+15   1.525827e+01"
       ]
      },
      {
       "output_type": "stream",
       "stream": "stdout",
       "text": [
        " \r",
        "0961   4.867945e+00   1.000000e+15   1.525827e+01"
       ]
      },
      {
       "output_type": "stream",
       "stream": "stdout",
       "text": [
        " \r",
        "0962   4.867945e+00   1.000000e+15   1.525827e+01"
       ]
      },
      {
       "output_type": "stream",
       "stream": "stdout",
       "text": [
        " \r",
        "0963   4.867945e+00   1.000000e+15   1.525827e+01"
       ]
      },
      {
       "output_type": "stream",
       "stream": "stdout",
       "text": [
        " \r",
        "0964   4.867945e+00   1.000000e+15   1.525827e+01"
       ]
      },
      {
       "output_type": "stream",
       "stream": "stdout",
       "text": [
        " \r",
        "0965   4.867945e+00   1.000000e+15   1.525827e+01"
       ]
      },
      {
       "output_type": "stream",
       "stream": "stdout",
       "text": [
        " \r",
        "0966   4.867945e+00   1.000000e+15   1.525827e+01"
       ]
      },
      {
       "output_type": "stream",
       "stream": "stdout",
       "text": [
        " \r",
        "0967   4.867945e+00   1.000000e+15   1.525827e+01"
       ]
      },
      {
       "output_type": "stream",
       "stream": "stdout",
       "text": [
        " \r",
        "0968   4.867945e+00   1.000000e+15   1.525827e+01"
       ]
      },
      {
       "output_type": "stream",
       "stream": "stdout",
       "text": [
        " \r",
        "0969   4.867945e+00   1.000000e+15   1.525827e+01"
       ]
      },
      {
       "output_type": "stream",
       "stream": "stdout",
       "text": [
        " \r",
        "0970   4.867945e+00   1.000000e+15   1.525827e+01"
       ]
      },
      {
       "output_type": "stream",
       "stream": "stdout",
       "text": [
        " \r",
        "0971   4.867945e+00   1.000000e+15   1.525827e+01"
       ]
      },
      {
       "output_type": "stream",
       "stream": "stdout",
       "text": [
        " \r",
        "0972   4.867945e+00   1.000000e+15   1.525827e+01"
       ]
      },
      {
       "output_type": "stream",
       "stream": "stdout",
       "text": [
        " \r",
        "0973   4.867945e+00   1.000000e+15   1.525827e+01"
       ]
      },
      {
       "output_type": "stream",
       "stream": "stdout",
       "text": [
        " \r",
        "0974   4.867945e+00   1.000000e+15   1.525827e+01"
       ]
      },
      {
       "output_type": "stream",
       "stream": "stdout",
       "text": [
        " \r",
        "0975   4.867945e+00   1.000000e+15   1.525827e+01"
       ]
      },
      {
       "output_type": "stream",
       "stream": "stdout",
       "text": [
        " \r",
        "0976   4.867945e+00   1.000000e+15   1.525827e+01"
       ]
      },
      {
       "output_type": "stream",
       "stream": "stdout",
       "text": [
        " \r",
        "0977   4.867945e+00   1.000000e+15   1.525827e+01"
       ]
      },
      {
       "output_type": "stream",
       "stream": "stdout",
       "text": [
        " \r",
        "0978   4.867945e+00   1.000000e+15   1.525827e+01"
       ]
      },
      {
       "output_type": "stream",
       "stream": "stdout",
       "text": [
        " \r",
        "0979   4.867945e+00   1.000000e+15   1.525827e+01"
       ]
      },
      {
       "output_type": "stream",
       "stream": "stdout",
       "text": [
        " \r",
        "0980   4.867945e+00   1.000000e+15   1.525827e+01"
       ]
      },
      {
       "output_type": "stream",
       "stream": "stdout",
       "text": [
        " \r",
        "0981   4.867945e+00   1.000000e+15   1.525827e+01"
       ]
      },
      {
       "output_type": "stream",
       "stream": "stdout",
       "text": [
        " \r",
        "0982   4.867945e+00   1.000000e+15   1.525827e+01"
       ]
      },
      {
       "output_type": "stream",
       "stream": "stdout",
       "text": [
        " \r",
        "0983   4.867945e+00   1.000000e+15   1.525827e+01"
       ]
      },
      {
       "output_type": "stream",
       "stream": "stdout",
       "text": [
        " \r",
        "0984   4.867945e+00   1.000000e+15   1.525827e+01"
       ]
      },
      {
       "output_type": "stream",
       "stream": "stdout",
       "text": [
        " \r",
        "0985   4.867945e+00   1.000000e+15   1.525827e+01"
       ]
      },
      {
       "output_type": "stream",
       "stream": "stdout",
       "text": [
        " \r",
        "0986   4.867945e+00   1.000000e+15   1.525827e+01"
       ]
      },
      {
       "output_type": "stream",
       "stream": "stdout",
       "text": [
        " \r",
        "0987   4.867945e+00   1.000000e+15   1.525827e+01"
       ]
      },
      {
       "output_type": "stream",
       "stream": "stdout",
       "text": [
        " \r",
        "0988   4.867945e+00   1.000000e+15   1.525827e+01"
       ]
      },
      {
       "output_type": "stream",
       "stream": "stdout",
       "text": [
        " \r",
        "0989   4.867945e+00   1.000000e+15   1.525827e+01"
       ]
      },
      {
       "output_type": "stream",
       "stream": "stdout",
       "text": [
        " \r",
        "0990   4.867945e+00   1.000000e+15   1.525827e+01"
       ]
      },
      {
       "output_type": "stream",
       "stream": "stdout",
       "text": [
        " \r",
        "0991   4.867945e+00   1.000000e+15   1.525827e+01"
       ]
      },
      {
       "output_type": "stream",
       "stream": "stdout",
       "text": [
        " \r",
        "0992   4.867945e+00   1.000000e+15   1.525827e+01"
       ]
      },
      {
       "output_type": "stream",
       "stream": "stdout",
       "text": [
        " \r",
        "0993   4.867945e+00   1.000000e+15   1.525827e+01"
       ]
      },
      {
       "output_type": "stream",
       "stream": "stdout",
       "text": [
        " \r",
        "0994   4.867945e+00   1.000000e+15   1.525827e+01"
       ]
      },
      {
       "output_type": "stream",
       "stream": "stdout",
       "text": [
        " \r",
        "0995   4.867945e+00   1.000000e+15   1.525827e+01"
       ]
      },
      {
       "output_type": "stream",
       "stream": "stdout",
       "text": [
        " \r",
        "0996   4.867945e+00   1.000000e+15   1.525827e+01"
       ]
      },
      {
       "output_type": "stream",
       "stream": "stdout",
       "text": [
        " \r",
        "0997   4.867945e+00   1.000000e+15   1.525827e+01"
       ]
      },
      {
       "output_type": "stream",
       "stream": "stdout",
       "text": [
        " \r",
        "0998   4.867945e+00   1.000000e+15   1.525827e+01"
       ]
      },
      {
       "output_type": "stream",
       "stream": "stdout",
       "text": [
        " \r",
        "0999   4.867945e+00   1.000000e+15   1.525827e+01"
       ]
      },
      {
       "output_type": "stream",
       "stream": "stdout",
       "text": [
        " \r",
        "1000   4.867945e+00   1.000000e+15   1.525827e+01"
       ]
      },
      {
       "output_type": "stream",
       "stream": "stdout",
       "text": [
        " \r",
        "1000   4.867945e+00   1.000000e+15   1.525827e+01"
       ]
      },
      {
       "output_type": "stream",
       "stream": "stderr",
       "text": [
        "/Users/neil/SheffieldML/GPy/GPy/inference/latent_function_inference/laplace.py:129: UserWarning: Not perfect f_hat fit difference: 3.22316557988e-06\n",
        "  warnings.warn(\"Not perfect f_hat fit difference: {}\".format(difference))\n",
        "/Users/neil/SheffieldML/GPy/GPy/inference/latent_function_inference/laplace.py:129: UserWarning: Not perfect f_hat fit difference: 5.78411888114e-06\n",
        "  warnings.warn(\"Not perfect f_hat fit difference: {}\".format(difference))\n"
       ]
      },
      {
       "output_type": "stream",
       "stream": "stdout",
       "text": [
        " \n",
        "maxiter exceeded\n"
       ]
      }
     ],
     "prompt_number": 18
    },
    {
     "cell_type": "code",
     "collapsed": false,
     "input": [
      "model2.plot_f()"
     ],
     "language": "python",
     "metadata": {},
     "outputs": [
      {
       "metadata": {},
       "output_type": "display_data",
       "png": "[encoded data removed]",
       "text": [
        "<matplotlib.figure.Figure at 0x10ebbd5d0>"
       ]
      }
     ],
     "prompt_number": 19
    },
    {
     "cell_type": "code",
     "collapsed": false,
     "input": [
      "print model2"
     ],
     "language": "python",
     "metadata": {},
     "outputs": [
      {
       "output_type": "stream",
       "stream": "stdout",
       "text": [
        "  gp.                    |       Value       |  Constraint  |  Prior  |  Tied to\n",
        "  \u001b[1madd.trend.variance   \u001b[0;0m  |    3.68879609382  |     +ve      |         |         \n",
        "  \u001b[1madd.trend.lengthscale\u001b[0;0m  |    40.0758404361  |     +ve      |         |         \n",
        "  \u001b[1madd.offset.variance  \u001b[0;0m  |    99.9953026238  |     +ve      |         |         \n",
        "  \u001b[1mSstudentT.nu         \u001b[0;0m  |    5.31093137934  |     +ve      |         |         \n",
        "  \u001b[1mSstudentT.t_scale2   \u001b[0;0m  |  0.0268506994152  |     +ve      |         |         \n"
       ]
      }
     ],
     "prompt_number": 20
    },
    {
     "cell_type": "code",
     "collapsed": false,
     "input": [
      "model1.optimize(messages=True)"
     ],
     "language": "python",
     "metadata": {},
     "outputs": [
      {
       "output_type": "stream",
       "stream": "stdout",
       "text": [
        " I      F              Scale          |g|        \n",
        "\r"
       ]
      },
      {
       "output_type": "stream",
       "stream": "stdout",
       "text": [
        "0001   2.804696e+00   1.000000e+00   2.710762e+00"
       ]
      },
      {
       "output_type": "stream",
       "stream": "stdout",
       "text": [
        " \r",
        "0002   2.804696e+00   1.550712e+03   2.700590e+00"
       ]
      },
      {
       "output_type": "stream",
       "stream": "stderr",
       "text": [
        "/Users/neil/SheffieldML/GPy/GPy/inference/latent_function_inference/laplace.py:129: UserWarning: Not perfect f_hat fit difference: 5.8412802352e-05\n",
        "  warnings.warn(\"Not perfect f_hat fit difference: {}\".format(difference))\n",
        "/Users/neil/SheffieldML/GPy/GPy/inference/latent_function_inference/laplace.py:129: UserWarning: Not perfect f_hat fit difference: 1.29740689724e-05\n",
        "  warnings.warn(\"Not perfect f_hat fit difference: {}\".format(difference))\n"
       ]
      },
      {
       "output_type": "stream",
       "stream": "stdout",
       "text": [
        " \r",
        "0003   2.804696e+00   6.202849e+03   2.700590e+00"
       ]
      },
      {
       "output_type": "stream",
       "stream": "stdout",
       "text": [
        " \r",
        "0004   2.804561e+00   2.481139e+04   2.700590e+00"
       ]
      },
      {
       "output_type": "stream",
       "stream": "stdout",
       "text": [
        " \r",
        "0005   2.804279e+00   1.240570e+04   2.699290e+00"
       ]
      },
      {
       "output_type": "stream",
       "stream": "stdout",
       "text": [
        " \n",
        "\r"
       ]
      },
      {
       "output_type": "stream",
       "stream": "stdout",
       "text": [
        "0006   2.803992e+00   6.202849e+03   2.697375e+00"
       ]
      },
      {
       "output_type": "stream",
       "stream": "stdout",
       "text": [
        " \r",
        "0007   2.803001e+00   3.101424e+03   2.695133e+00"
       ]
      },
      {
       "output_type": "stream",
       "stream": "stdout",
       "text": [
        " \r",
        "0008   2.802407e+00   4.226417e+03   2.688698e+00"
       ]
      },
      {
       "output_type": "stream",
       "stream": "stderr",
       "text": [
        "/Users/neil/SheffieldML/GPy/GPy/inference/latent_function_inference/laplace.py:129: UserWarning: Not perfect f_hat fit difference: 1.12762288069e-05\n",
        "  warnings.warn(\"Not perfect f_hat fit difference: {}\".format(difference))\n",
        "/Users/neil/SheffieldML/GPy/GPy/inference/latent_function_inference/laplace.py:129: UserWarning: Not perfect f_hat fit difference: 5.81165671911e-05\n",
        "  warnings.warn(\"Not perfect f_hat fit difference: {}\".format(difference))\n"
       ]
      },
      {
       "output_type": "stream",
       "stream": "stdout",
       "text": [
        " \r",
        "0009   2.798161e+00   4.226417e+03   2.672416e+00"
       ]
      },
      {
       "output_type": "stream",
       "stream": "stdout",
       "text": [
        " \r",
        "0010   2.796230e+00   5.394155e+03   2.654540e+00"
       ]
      },
      {
       "output_type": "stream",
       "stream": "stdout",
       "text": [
        " \r",
        "0011   2.794639e+00   2.697078e+03   2.641478e+00"
       ]
      },
      {
       "output_type": "stream",
       "stream": "stdout",
       "text": [
        " \r",
        "0012   2.794006e+00   1.423287e+04   2.630648e+00"
       ]
      },
      {
       "output_type": "stream",
       "stream": "stderr",
       "text": [
        "/Users/neil/SheffieldML/GPy/GPy/inference/latent_function_inference/laplace.py:129: UserWarning: Not perfect f_hat fit difference: 2.3275458543e-05\n",
        "  warnings.warn(\"Not perfect f_hat fit difference: {}\".format(difference))\n",
        "/Users/neil/SheffieldML/GPy/GPy/inference/latent_function_inference/laplace.py:129: UserWarning: Not perfect f_hat fit difference: 3.09323999846e-05\n",
        "  warnings.warn(\"Not perfect f_hat fit difference: {}\".format(difference))\n"
       ]
      },
      {
       "output_type": "stream",
       "stream": "stdout",
       "text": [
        " \r",
        "0013   2.791380e+00   1.423287e+04   2.612680e+00"
       ]
      },
      {
       "output_type": "stream",
       "stream": "stdout",
       "text": [
        " \r",
        "0014   2.790828e+00   7.116437e+03   2.608382e+00"
       ]
      },
      {
       "output_type": "stream",
       "stream": "stderr",
       "text": [
        "/Users/neil/SheffieldML/GPy/GPy/inference/latent_function_inference/laplace.py:129: UserWarning: Not perfect f_hat fit difference: 2.04754897151e-05\n",
        "  warnings.warn(\"Not perfect f_hat fit difference: {}\".format(difference))\n",
        "/Users/neil/SheffieldML/GPy/GPy/inference/latent_function_inference/laplace.py:129: UserWarning: Not perfect f_hat fit difference: 4.5929257399e-05\n",
        "  warnings.warn(\"Not perfect f_hat fit difference: {}\".format(difference))\n"
       ]
      },
      {
       "output_type": "stream",
       "stream": "stdout",
       "text": [
        " \r",
        "0015   2.789679e+00   7.377841e+03   2.604884e+00"
       ]
      },
      {
       "output_type": "stream",
       "stream": "stdout",
       "text": [
        " \r",
        "0016   2.789490e+00   1.647861e+04   2.596993e+00"
       ]
      },
      {
       "output_type": "stream",
       "stream": "stdout",
       "text": [
        " \r",
        "0017   2.789421e+00   1.647861e+04   2.590776e+00"
       ]
      },
      {
       "output_type": "stream",
       "stream": "stderr",
       "text": [
        "/Users/neil/SheffieldML/GPy/GPy/inference/latent_function_inference/laplace.py:129: UserWarning: Not perfect f_hat fit difference: 0.000104153986213\n",
        "  warnings.warn(\"Not perfect f_hat fit difference: {}\".format(difference))\n",
        "/Users/neil/SheffieldML/GPy/GPy/inference/latent_function_inference/laplace.py:129: UserWarning: Not perfect f_hat fit difference: 6.63195848082e-05\n",
        "  warnings.warn(\"Not perfect f_hat fit difference: {}\".format(difference))\n"
       ]
      },
      {
       "output_type": "stream",
       "stream": "stdout",
       "text": [
        " \r",
        "0018   2.787949e+00   8.239304e+03   2.589189e+00"
       ]
      },
      {
       "output_type": "stream",
       "stream": "stdout",
       "text": [
        " \n",
        "\r"
       ]
      },
      {
       "output_type": "stream",
       "stream": "stdout",
       "text": [
        "0019   2.786988e+00   1.887708e+04   2.585462e+00"
       ]
      },
      {
       "output_type": "stream",
       "stream": "stdout",
       "text": [
        " \r",
        "0020   2.786942e+00   9.438539e+03   2.579154e+00"
       ]
      },
      {
       "output_type": "stream",
       "stream": "stdout",
       "text": [
        " \r",
        "0021   2.786620e+00   9.438539e+03   2.577248e+00"
       ]
      },
      {
       "output_type": "stream",
       "stream": "stderr",
       "text": [
        "/Users/neil/SheffieldML/GPy/GPy/inference/latent_function_inference/laplace.py:129: UserWarning: Not perfect f_hat fit difference: 0.000100955416668\n",
        "  warnings.warn(\"Not perfect f_hat fit difference: {}\".format(difference))\n",
        "/Users/neil/SheffieldML/GPy/GPy/inference/latent_function_inference/laplace.py:129: UserWarning: Not perfect f_hat fit difference: 2.66935115754e-05\n",
        "  warnings.warn(\"Not perfect f_hat fit difference: {}\".format(difference))\n"
       ]
      },
      {
       "output_type": "stream",
       "stream": "stdout",
       "text": [
        " \r",
        "0022   2.786433e+00   4.719269e+03   2.574422e+00"
       ]
      },
      {
       "output_type": "stream",
       "stream": "stdout",
       "text": [
        " \r",
        "0023   2.784930e+00   4.719269e+03   2.568499e+00"
       ]
      },
      {
       "output_type": "stream",
       "stream": "stderr",
       "text": [
        "/Users/neil/SheffieldML/GPy/GPy/inference/latent_function_inference/laplace.py:129: UserWarning: Not perfect f_hat fit difference: 6.08687632093e-05\n",
        "  warnings.warn(\"Not perfect f_hat fit difference: {}\".format(difference))\n",
        "/Users/neil/SheffieldML/GPy/GPy/inference/latent_function_inference/laplace.py:129: UserWarning: Not perfect f_hat fit difference: 6.57419992571e-05\n",
        "  warnings.warn(\"Not perfect f_hat fit difference: {}\".format(difference))\n"
       ]
      },
      {
       "output_type": "stream",
       "stream": "stdout",
       "text": [
        " \r",
        "0024   2.782364e+00   2.359635e+03   2.554022e+00"
       ]
      },
      {
       "output_type": "stream",
       "stream": "stdout",
       "text": [
        " \r",
        "0025   2.778881e+00   3.893402e+03   2.548211e+00"
       ]
      },
      {
       "output_type": "stream",
       "stream": "stdout",
       "text": [
        " \r",
        "0026   2.776876e+00   6.225824e+03   2.525650e+00"
       ]
      },
      {
       "output_type": "stream",
       "stream": "stdout",
       "text": [
        " \r",
        "0027   2.775944e+00   3.112912e+03   2.512593e+00"
       ]
      },
      {
       "output_type": "stream",
       "stream": "stdout",
       "text": [
        " \r",
        "0028   2.772316e+00   3.112912e+03   2.486683e+00"
       ]
      },
      {
       "output_type": "stream",
       "stream": "stdout",
       "text": [
        " \r",
        "0029   2.771995e+00   1.556456e+03   2.483232e+00"
       ]
      },
      {
       "output_type": "stream",
       "stream": "stderr",
       "text": [
        "/Users/neil/SheffieldML/GPy/GPy/inference/latent_function_inference/laplace.py:129: UserWarning: Not perfect f_hat fit difference: 2.63255678862e-05\n",
        "  warnings.warn(\"Not perfect f_hat fit difference: {}\".format(difference))\n",
        "/Users/neil/SheffieldML/GPy/GPy/inference/latent_function_inference/laplace.py:129: UserWarning: Not perfect f_hat fit difference: 4.79908830253e-06\n",
        "  warnings.warn(\"Not perfect f_hat fit difference: {}\".format(difference))\n"
       ]
      },
      {
       "output_type": "stream",
       "stream": "stdout",
       "text": [
        " \r",
        "0030   2.765781e+00   1.640939e+03   2.475570e+00"
       ]
      },
      {
       "output_type": "stream",
       "stream": "stdout",
       "text": [
        " \r",
        "0031   2.760884e+00   4.719386e+03   2.442208e+00"
       ]
      },
      {
       "output_type": "stream",
       "stream": "stdout",
       "text": [
        " \r",
        "0032   2.760137e+00   2.359693e+03   2.411853e+00"
       ]
      },
      {
       "output_type": "stream",
       "stream": "stdout",
       "text": [
        " \r",
        "0033   2.755921e+00   2.359693e+03   2.388323e+00"
       ]
      },
      {
       "output_type": "stream",
       "stream": "stdout",
       "text": [
        " \r",
        "0034   2.755357e+00   4.024311e+03   2.381461e+00"
       ]
      },
      {
       "output_type": "stream",
       "stream": "stdout",
       "text": [
        " \r",
        "0035   2.755264e+00   4.024311e+03   2.363044e+00"
       ]
      },
      {
       "output_type": "stream",
       "stream": "stdout",
       "text": [
        " \r",
        "0036   2.755109e+00   4.024311e+03   2.359889e+00"
       ]
      },
      {
       "output_type": "stream",
       "stream": "stderr",
       "text": [
        "/Users/neil/SheffieldML/GPy/GPy/inference/latent_function_inference/laplace.py:129: UserWarning: Not perfect f_hat fit difference: 4.44899828785e-05\n",
        "  warnings.warn(\"Not perfect f_hat fit difference: {}\".format(difference))\n",
        "/Users/neil/SheffieldML/GPy/GPy/inference/latent_function_inference/laplace.py:129: UserWarning: Not perfect f_hat fit difference: 1.43400098521e-05\n",
        "  warnings.warn(\"Not perfect f_hat fit difference: {}\".format(difference))\n"
       ]
      },
      {
       "output_type": "stream",
       "stream": "stdout",
       "text": [
        " \r",
        "0037   2.750426e+00   4.024311e+03   2.354708e+00"
       ]
      },
      {
       "output_type": "stream",
       "stream": "stdout",
       "text": [
        " \r",
        "0038   2.712840e+00   2.012156e+03   2.348048e+00"
       ]
      },
      {
       "output_type": "stream",
       "stream": "stdout",
       "text": [
        " \r",
        "0039   2.712840e+00   1.006078e+03   1.930196e+00"
       ]
      },
      {
       "output_type": "stream",
       "stream": "stdout",
       "text": [
        " \r",
        "0040   2.712840e+00   4.024311e+03   1.930196e+00"
       ]
      },
      {
       "output_type": "stream",
       "stream": "stderr",
       "text": [
        "/Users/neil/SheffieldML/GPy/GPy/inference/latent_function_inference/laplace.py:129: UserWarning: Not perfect f_hat fit difference: 1.9296691137e-05\n",
        "  warnings.warn(\"Not perfect f_hat fit difference: {}\".format(difference))\n",
        "/Users/neil/SheffieldML/GPy/GPy/inference/latent_function_inference/laplace.py:129: UserWarning: Not perfect f_hat fit difference: 6.45182542802e-06\n",
        "  warnings.warn(\"Not perfect f_hat fit difference: {}\".format(difference))\n"
       ]
      },
      {
       "output_type": "stream",
       "stream": "stdout",
       "text": [
        " \r",
        "0041   2.712840e+00   1.609724e+04   1.930196e+00"
       ]
      },
      {
       "output_type": "stream",
       "stream": "stdout",
       "text": [
        " \r",
        "0042   2.712840e+00   6.438898e+04   1.930196e+00"
       ]
      },
      {
       "output_type": "stream",
       "stream": "stdout",
       "text": [
        " \r",
        "0043   2.712840e+00   2.575559e+05   1.930196e+00"
       ]
      },
      {
       "output_type": "stream",
       "stream": "stdout",
       "text": [
        " \r",
        "0044   2.712784e+00   1.030224e+06   1.930196e+00"
       ]
      },
      {
       "output_type": "stream",
       "stream": "stdout",
       "text": [
        " \r",
        "0045   2.712784e+00   5.151118e+05   1.930184e+00"
       ]
      },
      {
       "output_type": "stream",
       "stream": "stdout",
       "text": [
        " \r",
        "0046   2.712784e+00   2.060447e+06   1.930184e+00"
       ]
      },
      {
       "output_type": "stream",
       "stream": "stdout",
       "text": [
        " \r",
        "0047   2.712784e+00   8.241789e+06   1.930184e+00"
       ]
      },
      {
       "output_type": "stream",
       "stream": "stdout",
       "text": [
        " \r",
        "0048   2.712784e+00   3.296716e+07   1.930184e+00"
       ]
      },
      {
       "output_type": "stream",
       "stream": "stdout",
       "text": [
        " \r",
        "0049   2.712784e+00   1.318686e+08   1.930184e+00"
       ]
      },
      {
       "output_type": "stream",
       "stream": "stdout",
       "text": [
        " \r",
        "0050   2.712784e+00   5.274745e+08   1.930184e+00"
       ]
      },
      {
       "output_type": "stream",
       "stream": "stdout",
       "text": [
        " \r",
        "0051   2.712784e+00   2.109898e+09   1.930184e+00"
       ]
      },
      {
       "output_type": "stream",
       "stream": "stdout",
       "text": [
        " \n",
        "\r"
       ]
      },
      {
       "output_type": "stream",
       "stream": "stdout",
       "text": [
        "0052   2.712784e+00   8.439592e+09   1.930184e+00"
       ]
      },
      {
       "output_type": "stream",
       "stream": "stdout",
       "text": [
        " \r",
        "0053   2.712784e+00   3.375837e+10   1.930184e+00"
       ]
      },
      {
       "output_type": "stream",
       "stream": "stderr",
       "text": [
        "/Users/neil/SheffieldML/GPy/GPy/inference/latent_function_inference/laplace.py:129: UserWarning: Not perfect f_hat fit difference: 3.28133071147e-05\n",
        "  warnings.warn(\"Not perfect f_hat fit difference: {}\".format(difference))\n",
        "/Users/neil/SheffieldML/GPy/GPy/inference/latent_function_inference/laplace.py:129: UserWarning: Not perfect f_hat fit difference: 1.1270098541e-05\n",
        "  warnings.warn(\"Not perfect f_hat fit difference: {}\".format(difference))\n"
       ]
      },
      {
       "output_type": "stream",
       "stream": "stdout",
       "text": [
        " \r",
        "0054   2.712784e+00   1.350335e+11   1.930184e+00"
       ]
      },
      {
       "output_type": "stream",
       "stream": "stdout",
       "text": [
        " \r",
        "0055   2.712784e+00   5.401339e+11   1.930184e+00"
       ]
      },
      {
       "output_type": "stream",
       "stream": "stdout",
       "text": [
        " \r",
        "0056   2.712784e+00   2.160536e+12   1.930184e+00"
       ]
      },
      {
       "output_type": "stream",
       "stream": "stdout",
       "text": [
        " \r",
        "0057   2.712784e+00   8.642142e+12   1.930184e+00"
       ]
      },
      {
       "output_type": "stream",
       "stream": "stdout",
       "text": [
        " \r",
        "0058   2.712784e+00   3.456857e+13   1.930184e+00"
       ]
      },
      {
       "output_type": "stream",
       "stream": "stdout",
       "text": [
        " \r",
        "0059   2.712784e+00   1.382743e+14   1.930184e+00"
       ]
      },
      {
       "output_type": "stream",
       "stream": "stdout",
       "text": [
        " \r",
        "0060   2.712784e+00   5.530971e+14   1.930184e+00"
       ]
      },
      {
       "output_type": "stream",
       "stream": "stdout",
       "text": [
        " \r",
        "0061   2.712784e+00   1.000000e+15   1.930184e+00"
       ]
      },
      {
       "output_type": "stream",
       "stream": "stdout",
       "text": [
        " \r",
        "0062   2.712784e+00   1.000000e+15   1.930184e+00"
       ]
      },
      {
       "output_type": "stream",
       "stream": "stdout",
       "text": [
        " \r",
        "0063   2.712784e+00   1.000000e+15   1.930184e+00"
       ]
      },
      {
       "output_type": "stream",
       "stream": "stdout",
       "text": [
        " \r",
        "0064   2.712784e+00   1.000000e+15   1.930184e+00"
       ]
      },
      {
       "output_type": "stream",
       "stream": "stdout",
       "text": [
        " \r",
        "0065   2.712784e+00   1.000000e+15   1.930184e+00"
       ]
      },
      {
       "output_type": "stream",
       "stream": "stdout",
       "text": [
        " \r",
        "0066   2.712784e+00   1.000000e+15   1.930184e+00"
       ]
      },
      {
       "output_type": "stream",
       "stream": "stdout",
       "text": [
        " \r",
        "0067   2.712784e+00   1.000000e+15   1.930184e+00"
       ]
      },
      {
       "output_type": "stream",
       "stream": "stdout",
       "text": [
        " \r",
        "0068   2.712784e+00   1.000000e+15   1.930184e+00"
       ]
      },
      {
       "output_type": "stream",
       "stream": "stdout",
       "text": [
        " \r",
        "0069   2.712784e+00   1.000000e+15   1.930184e+00"
       ]
      },
      {
       "output_type": "stream",
       "stream": "stdout",
       "text": [
        " \r",
        "0070   2.712784e+00   1.000000e+15   1.930184e+00"
       ]
      },
      {
       "output_type": "stream",
       "stream": "stdout",
       "text": [
        " \r",
        "0071   2.712784e+00   1.000000e+15   1.930184e+00"
       ]
      },
      {
       "output_type": "stream",
       "stream": "stdout",
       "text": [
        " \r",
        "0072   2.712784e+00   1.000000e+15   1.930184e+00"
       ]
      },
      {
       "output_type": "stream",
       "stream": "stdout",
       "text": [
        " \r",
        "0073   2.712784e+00   1.000000e+15   1.930184e+00"
       ]
      },
      {
       "output_type": "stream",
       "stream": "stdout",
       "text": [
        " \r",
        "0074   2.712784e+00   1.000000e+15   1.930184e+00"
       ]
      },
      {
       "output_type": "stream",
       "stream": "stdout",
       "text": [
        " \r",
        "0075   2.712784e+00   1.000000e+15   1.930184e+00"
       ]
      },
      {
       "output_type": "stream",
       "stream": "stdout",
       "text": [
        " \r",
        "0076   2.712784e+00   1.000000e+15   1.930184e+00"
       ]
      },
      {
       "output_type": "stream",
       "stream": "stdout",
       "text": [
        " \r",
        "0077   2.712784e+00   1.000000e+15   1.930184e+00"
       ]
      },
      {
       "output_type": "stream",
       "stream": "stdout",
       "text": [
        " \r",
        "0078   2.712784e+00   1.000000e+15   1.930184e+00"
       ]
      },
      {
       "output_type": "stream",
       "stream": "stdout",
       "text": [
        " \r",
        "0079   2.712784e+00   1.000000e+15   1.930184e+00"
       ]
      },
      {
       "output_type": "stream",
       "stream": "stdout",
       "text": [
        " \r",
        "0080   2.712784e+00   1.000000e+15   1.930184e+00"
       ]
      },
      {
       "output_type": "stream",
       "stream": "stdout",
       "text": [
        " \r",
        "0081   2.712784e+00   1.000000e+15   1.930184e+00"
       ]
      },
      {
       "output_type": "stream",
       "stream": "stdout",
       "text": [
        " \r",
        "0082   2.712784e+00   1.000000e+15   1.930184e+00"
       ]
      },
      {
       "output_type": "stream",
       "stream": "stdout",
       "text": [
        " \r",
        "0083   2.712784e+00   1.000000e+15   1.930184e+00"
       ]
      },
      {
       "output_type": "stream",
       "stream": "stdout",
       "text": [
        " \r",
        "0084   2.712784e+00   1.000000e+15   1.930184e+00"
       ]
      },
      {
       "output_type": "stream",
       "stream": "stdout",
       "text": [
        " \r",
        "0085   2.712784e+00   1.000000e+15   1.930184e+00"
       ]
      },
      {
       "output_type": "stream",
       "stream": "stdout",
       "text": [
        " \r",
        "0086   2.712784e+00   1.000000e+15   1.930184e+00"
       ]
      },
      {
       "output_type": "stream",
       "stream": "stdout",
       "text": [
        " \r",
        "0087   2.712784e+00   1.000000e+15   1.930184e+00"
       ]
      },
      {
       "output_type": "stream",
       "stream": "stdout",
       "text": [
        " \r",
        "0088   2.712784e+00   1.000000e+15   1.930184e+00"
       ]
      },
      {
       "output_type": "stream",
       "stream": "stdout",
       "text": [
        " \r",
        "0089   2.712784e+00   1.000000e+15   1.930184e+00"
       ]
      },
      {
       "output_type": "stream",
       "stream": "stdout",
       "text": [
        " \r",
        "0090   2.712784e+00   1.000000e+15   1.930184e+00"
       ]
      },
      {
       "output_type": "stream",
       "stream": "stdout",
       "text": [
        " \r",
        "0091   2.712784e+00   1.000000e+15   1.930184e+00"
       ]
      },
      {
       "output_type": "stream",
       "stream": "stdout",
       "text": [
        " \r",
        "0092   2.712784e+00   1.000000e+15   1.930184e+00"
       ]
      },
      {
       "output_type": "stream",
       "stream": "stdout",
       "text": [
        " \r",
        "0093   2.712784e+00   1.000000e+15   1.930184e+00"
       ]
      },
      {
       "output_type": "stream",
       "stream": "stdout",
       "text": [
        " \r",
        "0094   2.712784e+00   1.000000e+15   1.930184e+00"
       ]
      },
      {
       "output_type": "stream",
       "stream": "stdout",
       "text": [
        " \r",
        "0095   2.712784e+00   1.000000e+15   1.930184e+00"
       ]
      },
      {
       "output_type": "stream",
       "stream": "stdout",
       "text": [
        " \r",
        "0096   2.712784e+00   1.000000e+15   1.930184e+00"
       ]
      },
      {
       "output_type": "stream",
       "stream": "stdout",
       "text": [
        " \r",
        "0097   2.712784e+00   1.000000e+15   1.930184e+00"
       ]
      },
      {
       "output_type": "stream",
       "stream": "stdout",
       "text": [
        " \r",
        "0098   2.712784e+00   1.000000e+15   1.930184e+00"
       ]
      },
      {
       "output_type": "stream",
       "stream": "stdout",
       "text": [
        " \r",
        "0099   2.712784e+00   1.000000e+15   1.930184e+00"
       ]
      },
      {
       "output_type": "stream",
       "stream": "stdout",
       "text": [
        " \r",
        "0100   2.712784e+00   1.000000e+15   1.930184e+00"
       ]
      },
      {
       "output_type": "stream",
       "stream": "stdout",
       "text": [
        " \r",
        "0101   2.712784e+00   1.000000e+15   1.930184e+00"
       ]
      },
      {
       "output_type": "stream",
       "stream": "stdout",
       "text": [
        " \r",
        "0102   2.712784e+00   1.000000e+15   1.930184e+00"
       ]
      },
      {
       "output_type": "stream",
       "stream": "stdout",
       "text": [
        " \r",
        "0103   2.712784e+00   1.000000e+15   1.930184e+00"
       ]
      },
      {
       "output_type": "stream",
       "stream": "stdout",
       "text": [
        " \r",
        "0104   2.712784e+00   1.000000e+15   1.930184e+00"
       ]
      },
      {
       "output_type": "stream",
       "stream": "stdout",
       "text": [
        " \r",
        "0105   2.712784e+00   1.000000e+15   1.930184e+00"
       ]
      },
      {
       "output_type": "stream",
       "stream": "stdout",
       "text": [
        " \r",
        "0106   2.712784e+00   1.000000e+15   1.930184e+00"
       ]
      },
      {
       "output_type": "stream",
       "stream": "stdout",
       "text": [
        " \r",
        "0107   2.712784e+00   1.000000e+15   1.930184e+00"
       ]
      },
      {
       "output_type": "stream",
       "stream": "stdout",
       "text": [
        " \r",
        "0108   2.712784e+00   1.000000e+15   1.930184e+00"
       ]
      },
      {
       "output_type": "stream",
       "stream": "stdout",
       "text": [
        " \r",
        "0109   2.712784e+00   1.000000e+15   1.930184e+00"
       ]
      },
      {
       "output_type": "stream",
       "stream": "stdout",
       "text": [
        " \r",
        "0110   2.712784e+00   1.000000e+15   1.930184e+00"
       ]
      },
      {
       "output_type": "stream",
       "stream": "stdout",
       "text": [
        " \r",
        "0111   2.712784e+00   1.000000e+15   1.930184e+00"
       ]
      },
      {
       "output_type": "stream",
       "stream": "stdout",
       "text": [
        " \r",
        "0112   2.712784e+00   1.000000e+15   1.930184e+00"
       ]
      },
      {
       "output_type": "stream",
       "stream": "stdout",
       "text": [
        " \r",
        "0113   2.712784e+00   1.000000e+15   1.930184e+00"
       ]
      },
      {
       "output_type": "stream",
       "stream": "stdout",
       "text": [
        " \r",
        "0114   2.712784e+00   1.000000e+15   1.930184e+00"
       ]
      },
      {
       "output_type": "stream",
       "stream": "stdout",
       "text": [
        " \r",
        "0115   2.712784e+00   1.000000e+15   1.930184e+00"
       ]
      },
      {
       "output_type": "stream",
       "stream": "stdout",
       "text": [
        " \r",
        "0116   2.712784e+00   1.000000e+15   1.930184e+00"
       ]
      },
      {
       "output_type": "stream",
       "stream": "stdout",
       "text": [
        " \r",
        "0117   2.712784e+00   1.000000e+15   1.930184e+00"
       ]
      },
      {
       "output_type": "stream",
       "stream": "stdout",
       "text": [
        " \r",
        "0118   2.712784e+00   1.000000e+15   1.930184e+00"
       ]
      },
      {
       "output_type": "stream",
       "stream": "stdout",
       "text": [
        " \r",
        "0119   2.712784e+00   1.000000e+15   1.930184e+00"
       ]
      },
      {
       "output_type": "stream",
       "stream": "stdout",
       "text": [
        " \r",
        "0120   2.712784e+00   1.000000e+15   1.930184e+00"
       ]
      },
      {
       "output_type": "stream",
       "stream": "stdout",
       "text": [
        " \r",
        "0121   2.712784e+00   1.000000e+15   1.930184e+00"
       ]
      },
      {
       "output_type": "stream",
       "stream": "stdout",
       "text": [
        " \r",
        "0122   2.712784e+00   1.000000e+15   1.930184e+00"
       ]
      },
      {
       "output_type": "stream",
       "stream": "stdout",
       "text": [
        " \r",
        "0123   2.712784e+00   1.000000e+15   1.930184e+00"
       ]
      },
      {
       "output_type": "stream",
       "stream": "stdout",
       "text": [
        " \r",
        "0124   2.712784e+00   1.000000e+15   1.930184e+00"
       ]
      },
      {
       "output_type": "stream",
       "stream": "stdout",
       "text": [
        " \r",
        "0125   2.712784e+00   1.000000e+15   1.930184e+00"
       ]
      },
      {
       "output_type": "stream",
       "stream": "stdout",
       "text": [
        " \r",
        "0126   2.712784e+00   1.000000e+15   1.930184e+00"
       ]
      },
      {
       "output_type": "stream",
       "stream": "stdout",
       "text": [
        " \r",
        "0127   2.712784e+00   1.000000e+15   1.930184e+00"
       ]
      },
      {
       "output_type": "stream",
       "stream": "stdout",
       "text": [
        " \r",
        "0128   2.712784e+00   1.000000e+15   1.930184e+00"
       ]
      },
      {
       "output_type": "stream",
       "stream": "stdout",
       "text": [
        " \r",
        "0129   2.712784e+00   1.000000e+15   1.930184e+00"
       ]
      },
      {
       "output_type": "stream",
       "stream": "stdout",
       "text": [
        " \r",
        "0130   2.712784e+00   1.000000e+15   1.930184e+00"
       ]
      },
      {
       "output_type": "stream",
       "stream": "stdout",
       "text": [
        " \r",
        "0131   2.712784e+00   1.000000e+15   1.930184e+00"
       ]
      },
      {
       "output_type": "stream",
       "stream": "stdout",
       "text": [
        " \r",
        "0132   2.712784e+00   1.000000e+15   1.930184e+00"
       ]
      },
      {
       "output_type": "stream",
       "stream": "stdout",
       "text": [
        " \r",
        "0133   2.712784e+00   1.000000e+15   1.930184e+00"
       ]
      },
      {
       "output_type": "stream",
       "stream": "stdout",
       "text": [
        " \r",
        "0134   2.712784e+00   1.000000e+15   1.930184e+00"
       ]
      },
      {
       "output_type": "stream",
       "stream": "stdout",
       "text": [
        " \r",
        "0135   2.712784e+00   1.000000e+15   1.930184e+00"
       ]
      },
      {
       "output_type": "stream",
       "stream": "stdout",
       "text": [
        " \r",
        "0136   2.712784e+00   1.000000e+15   1.930184e+00"
       ]
      },
      {
       "output_type": "stream",
       "stream": "stdout",
       "text": [
        " \r",
        "0137   2.712784e+00   1.000000e+15   1.930184e+00"
       ]
      },
      {
       "output_type": "stream",
       "stream": "stdout",
       "text": [
        " \r",
        "0138   2.712784e+00   1.000000e+15   1.930184e+00"
       ]
      },
      {
       "output_type": "stream",
       "stream": "stdout",
       "text": [
        " \r",
        "0139   2.712784e+00   1.000000e+15   1.930184e+00"
       ]
      },
      {
       "output_type": "stream",
       "stream": "stdout",
       "text": [
        " \r",
        "0140   2.712784e+00   1.000000e+15   1.930184e+00"
       ]
      },
      {
       "output_type": "stream",
       "stream": "stdout",
       "text": [
        " \r",
        "0141   2.712784e+00   1.000000e+15   1.930184e+00"
       ]
      },
      {
       "output_type": "stream",
       "stream": "stdout",
       "text": [
        " \r",
        "0142   2.712784e+00   1.000000e+15   1.930184e+00"
       ]
      },
      {
       "output_type": "stream",
       "stream": "stdout",
       "text": [
        " \n",
        "\r",
        "0143   2.712784e+00   1.000000e+15   1.930184e+00"
       ]
      },
      {
       "output_type": "stream",
       "stream": "stdout",
       "text": [
        " \r",
        "0144   2.712784e+00   1.000000e+15   1.930184e+00"
       ]
      },
      {
       "output_type": "stream",
       "stream": "stdout",
       "text": [
        " \r",
        "0145   2.712784e+00   1.000000e+15   1.930184e+00"
       ]
      },
      {
       "output_type": "stream",
       "stream": "stdout",
       "text": [
        " \r",
        "0146   2.712784e+00   1.000000e+15   1.930184e+00"
       ]
      },
      {
       "output_type": "stream",
       "stream": "stdout",
       "text": [
        " \r",
        "0147   2.712784e+00   1.000000e+15   1.930184e+00"
       ]
      },
      {
       "output_type": "stream",
       "stream": "stdout",
       "text": [
        " \r",
        "0148   2.712784e+00   1.000000e+15   1.930184e+00"
       ]
      },
      {
       "output_type": "stream",
       "stream": "stdout",
       "text": [
        " \r",
        "0149   2.712784e+00   1.000000e+15   1.930184e+00"
       ]
      },
      {
       "output_type": "stream",
       "stream": "stdout",
       "text": [
        " \r",
        "0150   2.712784e+00   1.000000e+15   1.930184e+00"
       ]
      },
      {
       "output_type": "stream",
       "stream": "stdout",
       "text": [
        " \r",
        "0151   2.712784e+00   1.000000e+15   1.930184e+00"
       ]
      },
      {
       "output_type": "stream",
       "stream": "stdout",
       "text": [
        " \r",
        "0152   2.712784e+00   1.000000e+15   1.930184e+00"
       ]
      },
      {
       "output_type": "stream",
       "stream": "stdout",
       "text": [
        " \r",
        "0153   2.712784e+00   1.000000e+15   1.930184e+00"
       ]
      },
      {
       "output_type": "stream",
       "stream": "stdout",
       "text": [
        " \r",
        "0154   2.712784e+00   1.000000e+15   1.930184e+00"
       ]
      },
      {
       "output_type": "stream",
       "stream": "stdout",
       "text": [
        " \r",
        "0155   2.712784e+00   1.000000e+15   1.930184e+00"
       ]
      },
      {
       "output_type": "stream",
       "stream": "stdout",
       "text": [
        " \r",
        "0156   2.712784e+00   1.000000e+15   1.930184e+00"
       ]
      },
      {
       "output_type": "stream",
       "stream": "stdout",
       "text": [
        " \r",
        "0157   2.712784e+00   1.000000e+15   1.930184e+00"
       ]
      },
      {
       "output_type": "stream",
       "stream": "stdout",
       "text": [
        " \r",
        "0158   2.712784e+00   1.000000e+15   1.930184e+00"
       ]
      },
      {
       "output_type": "stream",
       "stream": "stdout",
       "text": [
        " \r",
        "0159   2.712784e+00   1.000000e+15   1.930184e+00"
       ]
      },
      {
       "output_type": "stream",
       "stream": "stdout",
       "text": [
        " \r",
        "0160   2.712784e+00   1.000000e+15   1.930184e+00"
       ]
      },
      {
       "output_type": "stream",
       "stream": "stdout",
       "text": [
        " \r",
        "0161   2.712784e+00   1.000000e+15   1.930184e+00"
       ]
      },
      {
       "output_type": "stream",
       "stream": "stdout",
       "text": [
        " \r",
        "0162   2.712784e+00   1.000000e+15   1.930184e+00"
       ]
      },
      {
       "output_type": "stream",
       "stream": "stdout",
       "text": [
        " \r",
        "0163   2.712784e+00   1.000000e+15   1.930184e+00"
       ]
      },
      {
       "output_type": "stream",
       "stream": "stdout",
       "text": [
        " \r",
        "0164   2.712784e+00   1.000000e+15   1.930184e+00"
       ]
      },
      {
       "output_type": "stream",
       "stream": "stdout",
       "text": [
        " \r",
        "0165   2.712784e+00   1.000000e+15   1.930184e+00"
       ]
      },
      {
       "output_type": "stream",
       "stream": "stdout",
       "text": [
        " \r",
        "0166   2.712784e+00   1.000000e+15   1.930184e+00"
       ]
      },
      {
       "output_type": "stream",
       "stream": "stdout",
       "text": [
        " \r",
        "0167   2.712784e+00   1.000000e+15   1.930184e+00"
       ]
      },
      {
       "output_type": "stream",
       "stream": "stdout",
       "text": [
        " \r",
        "0168   2.712784e+00   1.000000e+15   1.930184e+00"
       ]
      },
      {
       "output_type": "stream",
       "stream": "stdout",
       "text": [
        " \r",
        "0169   2.712784e+00   1.000000e+15   1.930184e+00"
       ]
      },
      {
       "output_type": "stream",
       "stream": "stdout",
       "text": [
        " \r",
        "0170   2.712784e+00   1.000000e+15   1.930184e+00"
       ]
      },
      {
       "output_type": "stream",
       "stream": "stdout",
       "text": [
        " \r",
        "0171   2.712784e+00   1.000000e+15   1.930184e+00"
       ]
      },
      {
       "output_type": "stream",
       "stream": "stdout",
       "text": [
        " \r",
        "0172   2.712784e+00   1.000000e+15   1.930184e+00"
       ]
      },
      {
       "output_type": "stream",
       "stream": "stdout",
       "text": [
        " \r",
        "0173   2.712784e+00   1.000000e+15   1.930184e+00"
       ]
      },
      {
       "output_type": "stream",
       "stream": "stdout",
       "text": [
        " \r",
        "0174   2.712784e+00   1.000000e+15   1.930184e+00"
       ]
      },
      {
       "output_type": "stream",
       "stream": "stdout",
       "text": [
        " \r",
        "0175   2.712784e+00   1.000000e+15   1.930184e+00"
       ]
      },
      {
       "output_type": "stream",
       "stream": "stdout",
       "text": [
        " \r",
        "0176   2.712784e+00   1.000000e+15   1.930184e+00"
       ]
      },
      {
       "output_type": "stream",
       "stream": "stdout",
       "text": [
        " \r",
        "0177   2.712784e+00   1.000000e+15   1.930184e+00"
       ]
      },
      {
       "output_type": "stream",
       "stream": "stdout",
       "text": [
        " \r",
        "0178   2.712784e+00   1.000000e+15   1.930184e+00"
       ]
      },
      {
       "output_type": "stream",
       "stream": "stdout",
       "text": [
        " \r",
        "0179   2.712784e+00   1.000000e+15   1.930184e+00"
       ]
      },
      {
       "output_type": "stream",
       "stream": "stdout",
       "text": [
        " \r",
        "0180   2.712784e+00   1.000000e+15   1.930184e+00"
       ]
      },
      {
       "output_type": "stream",
       "stream": "stdout",
       "text": [
        " \r",
        "0181   2.712784e+00   1.000000e+15   1.930184e+00"
       ]
      },
      {
       "output_type": "stream",
       "stream": "stdout",
       "text": [
        " \r",
        "0182   2.712784e+00   1.000000e+15   1.930184e+00"
       ]
      },
      {
       "output_type": "stream",
       "stream": "stdout",
       "text": [
        " \r",
        "0183   2.712784e+00   1.000000e+15   1.930184e+00"
       ]
      },
      {
       "output_type": "stream",
       "stream": "stdout",
       "text": [
        " \r",
        "0184   2.712784e+00   1.000000e+15   1.930184e+00"
       ]
      },
      {
       "output_type": "stream",
       "stream": "stdout",
       "text": [
        " \r",
        "0185   2.712784e+00   1.000000e+15   1.930184e+00"
       ]
      },
      {
       "output_type": "stream",
       "stream": "stdout",
       "text": [
        " \r",
        "0186   2.712784e+00   1.000000e+15   1.930184e+00"
       ]
      },
      {
       "output_type": "stream",
       "stream": "stdout",
       "text": [
        " \r",
        "0187   2.712784e+00   1.000000e+15   1.930184e+00"
       ]
      },
      {
       "output_type": "stream",
       "stream": "stdout",
       "text": [
        " \r",
        "0188   2.712784e+00   1.000000e+15   1.930184e+00"
       ]
      },
      {
       "output_type": "stream",
       "stream": "stdout",
       "text": [
        " \r",
        "0189   2.712784e+00   1.000000e+15   1.930184e+00"
       ]
      },
      {
       "output_type": "stream",
       "stream": "stdout",
       "text": [
        " \r",
        "0190   2.712784e+00   1.000000e+15   1.930184e+00"
       ]
      },
      {
       "output_type": "stream",
       "stream": "stdout",
       "text": [
        " \r",
        "0191   2.712784e+00   1.000000e+15   1.930184e+00"
       ]
      },
      {
       "output_type": "stream",
       "stream": "stdout",
       "text": [
        " \r",
        "0192   2.712784e+00   1.000000e+15   1.930184e+00"
       ]
      },
      {
       "output_type": "stream",
       "stream": "stdout",
       "text": [
        " \r",
        "0193   2.712784e+00   1.000000e+15   1.930184e+00"
       ]
      },
      {
       "output_type": "stream",
       "stream": "stdout",
       "text": [
        " \r",
        "0194   2.712784e+00   1.000000e+15   1.930184e+00"
       ]
      },
      {
       "output_type": "stream",
       "stream": "stdout",
       "text": [
        " \r",
        "0195   2.712784e+00   1.000000e+15   1.930184e+00"
       ]
      },
      {
       "output_type": "stream",
       "stream": "stdout",
       "text": [
        " \r",
        "0196   2.712784e+00   1.000000e+15   1.930184e+00"
       ]
      },
      {
       "output_type": "stream",
       "stream": "stdout",
       "text": [
        " \r",
        "0197   2.712784e+00   1.000000e+15   1.930184e+00"
       ]
      },
      {
       "output_type": "stream",
       "stream": "stdout",
       "text": [
        " \r",
        "0198   2.712784e+00   1.000000e+15   1.930184e+00"
       ]
      },
      {
       "output_type": "stream",
       "stream": "stdout",
       "text": [
        " \r",
        "0199   2.712784e+00   1.000000e+15   1.930184e+00"
       ]
      },
      {
       "output_type": "stream",
       "stream": "stdout",
       "text": [
        " \r",
        "0200   2.712784e+00   1.000000e+15   1.930184e+00"
       ]
      },
      {
       "output_type": "stream",
       "stream": "stdout",
       "text": [
        " \r",
        "0201   2.712784e+00   1.000000e+15   1.930184e+00"
       ]
      },
      {
       "output_type": "stream",
       "stream": "stdout",
       "text": [
        " \r",
        "0202   2.712784e+00   1.000000e+15   1.930184e+00"
       ]
      },
      {
       "output_type": "stream",
       "stream": "stdout",
       "text": [
        " \r",
        "0203   2.712784e+00   1.000000e+15   1.930184e+00"
       ]
      },
      {
       "output_type": "stream",
       "stream": "stdout",
       "text": [
        " \r",
        "0204   2.712784e+00   1.000000e+15   1.930184e+00"
       ]
      },
      {
       "output_type": "stream",
       "stream": "stdout",
       "text": [
        " \r",
        "0205   2.712784e+00   1.000000e+15   1.930184e+00"
       ]
      },
      {
       "output_type": "stream",
       "stream": "stdout",
       "text": [
        " \r",
        "0206   2.712784e+00   1.000000e+15   1.930184e+00"
       ]
      },
      {
       "output_type": "stream",
       "stream": "stdout",
       "text": [
        " \r",
        "0207   2.712784e+00   1.000000e+15   1.930184e+00"
       ]
      },
      {
       "output_type": "stream",
       "stream": "stdout",
       "text": [
        " \r",
        "0208   2.712784e+00   1.000000e+15   1.930184e+00"
       ]
      },
      {
       "output_type": "stream",
       "stream": "stdout",
       "text": [
        " \r",
        "0209   2.712784e+00   1.000000e+15   1.930184e+00"
       ]
      },
      {
       "output_type": "stream",
       "stream": "stdout",
       "text": [
        " \r",
        "0210   2.712784e+00   1.000000e+15   1.930184e+00"
       ]
      },
      {
       "output_type": "stream",
       "stream": "stdout",
       "text": [
        " \r",
        "0211   2.712784e+00   1.000000e+15   1.930184e+00"
       ]
      },
      {
       "output_type": "stream",
       "stream": "stdout",
       "text": [
        " \r",
        "0212   2.712784e+00   1.000000e+15   1.930184e+00"
       ]
      },
      {
       "output_type": "stream",
       "stream": "stdout",
       "text": [
        " \r",
        "0213   2.712784e+00   1.000000e+15   1.930184e+00"
       ]
      },
      {
       "output_type": "stream",
       "stream": "stdout",
       "text": [
        " \r",
        "0214   2.712784e+00   1.000000e+15   1.930184e+00"
       ]
      },
      {
       "output_type": "stream",
       "stream": "stdout",
       "text": [
        " \r",
        "0215   2.712784e+00   1.000000e+15   1.930184e+00"
       ]
      },
      {
       "output_type": "stream",
       "stream": "stdout",
       "text": [
        " \r",
        "0216   2.712784e+00   1.000000e+15   1.930184e+00"
       ]
      },
      {
       "output_type": "stream",
       "stream": "stdout",
       "text": [
        " \r",
        "0217   2.712784e+00   1.000000e+15   1.930184e+00"
       ]
      },
      {
       "output_type": "stream",
       "stream": "stdout",
       "text": [
        " \r",
        "0218   2.712784e+00   1.000000e+15   1.930184e+00"
       ]
      },
      {
       "output_type": "stream",
       "stream": "stdout",
       "text": [
        " \r",
        "0219   2.712784e+00   1.000000e+15   1.930184e+00"
       ]
      },
      {
       "output_type": "stream",
       "stream": "stdout",
       "text": [
        " \r",
        "0220   2.712784e+00   1.000000e+15   1.930184e+00"
       ]
      },
      {
       "output_type": "stream",
       "stream": "stdout",
       "text": [
        " \r",
        "0221   2.712784e+00   1.000000e+15   1.930184e+00"
       ]
      },
      {
       "output_type": "stream",
       "stream": "stdout",
       "text": [
        " \r",
        "0222   2.712784e+00   1.000000e+15   1.930184e+00"
       ]
      },
      {
       "output_type": "stream",
       "stream": "stdout",
       "text": [
        " \r",
        "0223   2.712784e+00   1.000000e+15   1.930184e+00"
       ]
      },
      {
       "output_type": "stream",
       "stream": "stdout",
       "text": [
        " \r",
        "0224   2.712784e+00   1.000000e+15   1.930184e+00"
       ]
      },
      {
       "output_type": "stream",
       "stream": "stdout",
       "text": [
        " \r",
        "0225   2.712784e+00   1.000000e+15   1.930184e+00"
       ]
      },
      {
       "output_type": "stream",
       "stream": "stdout",
       "text": [
        " \r",
        "0226   2.712784e+00   1.000000e+15   1.930184e+00"
       ]
      },
      {
       "output_type": "stream",
       "stream": "stdout",
       "text": [
        " \r",
        "0227   2.712784e+00   1.000000e+15   1.930184e+00"
       ]
      },
      {
       "output_type": "stream",
       "stream": "stdout",
       "text": [
        " \r",
        "0228   2.712784e+00   1.000000e+15   1.930184e+00"
       ]
      },
      {
       "output_type": "stream",
       "stream": "stdout",
       "text": [
        " \r",
        "0229   2.712784e+00   1.000000e+15   1.930184e+00"
       ]
      },
      {
       "output_type": "stream",
       "stream": "stdout",
       "text": [
        " \r",
        "0230   2.712784e+00   1.000000e+15   1.930184e+00"
       ]
      },
      {
       "output_type": "stream",
       "stream": "stdout",
       "text": [
        " \r",
        "0231   2.712784e+00   1.000000e+15   1.930184e+00"
       ]
      },
      {
       "output_type": "stream",
       "stream": "stdout",
       "text": [
        " \r",
        "0232   2.712784e+00   1.000000e+15   1.930184e+00"
       ]
      },
      {
       "output_type": "stream",
       "stream": "stdout",
       "text": [
        " \r",
        "0233   2.712784e+00   1.000000e+15   1.930184e+00"
       ]
      },
      {
       "output_type": "stream",
       "stream": "stdout",
       "text": [
        " \r",
        "0234   2.712784e+00   1.000000e+15   1.930184e+00"
       ]
      },
      {
       "output_type": "stream",
       "stream": "stdout",
       "text": [
        " \r",
        "0235   2.712784e+00   1.000000e+15   1.930184e+00"
       ]
      },
      {
       "output_type": "stream",
       "stream": "stdout",
       "text": [
        " \r",
        "0236   2.712784e+00   1.000000e+15   1.930184e+00"
       ]
      },
      {
       "output_type": "stream",
       "stream": "stdout",
       "text": [
        " \r",
        "0237   2.712784e+00   1.000000e+15   1.930184e+00"
       ]
      },
      {
       "output_type": "stream",
       "stream": "stdout",
       "text": [
        " \r",
        "0238   2.712784e+00   1.000000e+15   1.930184e+00"
       ]
      },
      {
       "output_type": "stream",
       "stream": "stdout",
       "text": [
        " \r",
        "0239   2.712784e+00   1.000000e+15   1.930184e+00"
       ]
      },
      {
       "output_type": "stream",
       "stream": "stdout",
       "text": [
        " \r",
        "0240   2.712784e+00   1.000000e+15   1.930184e+00"
       ]
      },
      {
       "output_type": "stream",
       "stream": "stdout",
       "text": [
        " \r",
        "0241   2.712784e+00   1.000000e+15   1.930184e+00"
       ]
      },
      {
       "output_type": "stream",
       "stream": "stdout",
       "text": [
        " \r",
        "0242   2.712784e+00   1.000000e+15   1.930184e+00"
       ]
      },
      {
       "output_type": "stream",
       "stream": "stdout",
       "text": [
        " \r",
        "0243   2.712784e+00   1.000000e+15   1.930184e+00"
       ]
      },
      {
       "output_type": "stream",
       "stream": "stdout",
       "text": [
        " \r",
        "0244   2.712784e+00   1.000000e+15   1.930184e+00"
       ]
      },
      {
       "output_type": "stream",
       "stream": "stdout",
       "text": [
        " \r",
        "0245   2.712784e+00   1.000000e+15   1.930184e+00"
       ]
      },
      {
       "output_type": "stream",
       "stream": "stdout",
       "text": [
        " \r",
        "0246   2.712784e+00   1.000000e+15   1.930184e+00"
       ]
      },
      {
       "output_type": "stream",
       "stream": "stdout",
       "text": [
        " \r",
        "0247   2.712784e+00   1.000000e+15   1.930184e+00"
       ]
      },
      {
       "output_type": "stream",
       "stream": "stdout",
       "text": [
        " \r",
        "0248   2.712784e+00   1.000000e+15   1.930184e+00"
       ]
      },
      {
       "output_type": "stream",
       "stream": "stdout",
       "text": [
        " \r",
        "0249   2.712784e+00   1.000000e+15   1.930184e+00"
       ]
      },
      {
       "output_type": "stream",
       "stream": "stdout",
       "text": [
        " \r",
        "0250   2.712784e+00   1.000000e+15   1.930184e+00"
       ]
      },
      {
       "output_type": "stream",
       "stream": "stdout",
       "text": [
        " \r",
        "0251   2.712784e+00   1.000000e+15   1.930184e+00"
       ]
      },
      {
       "output_type": "stream",
       "stream": "stdout",
       "text": [
        " \r",
        "0252   2.712784e+00   1.000000e+15   1.930184e+00"
       ]
      },
      {
       "output_type": "stream",
       "stream": "stdout",
       "text": [
        " \r",
        "0253   2.712784e+00   1.000000e+15   1.930184e+00"
       ]
      },
      {
       "output_type": "stream",
       "stream": "stdout",
       "text": [
        " \r",
        "0254   2.712784e+00   1.000000e+15   1.930184e+00"
       ]
      },
      {
       "output_type": "stream",
       "stream": "stdout",
       "text": [
        " \r",
        "0255   2.712784e+00   1.000000e+15   1.930184e+00"
       ]
      },
      {
       "output_type": "stream",
       "stream": "stdout",
       "text": [
        " \r",
        "0256   2.712784e+00   1.000000e+15   1.930184e+00"
       ]
      },
      {
       "output_type": "stream",
       "stream": "stdout",
       "text": [
        " \r",
        "0257   2.712784e+00   1.000000e+15   1.930184e+00"
       ]
      },
      {
       "output_type": "stream",
       "stream": "stdout",
       "text": [
        " \r",
        "0258   2.712784e+00   1.000000e+15   1.930184e+00"
       ]
      },
      {
       "output_type": "stream",
       "stream": "stdout",
       "text": [
        " \r",
        "0259   2.712784e+00   1.000000e+15   1.930184e+00"
       ]
      },
      {
       "output_type": "stream",
       "stream": "stdout",
       "text": [
        " \r",
        "0260   2.712784e+00   1.000000e+15   1.930184e+00"
       ]
      },
      {
       "output_type": "stream",
       "stream": "stdout",
       "text": [
        " \r",
        "0261   2.712784e+00   1.000000e+15   1.930184e+00"
       ]
      },
      {
       "output_type": "stream",
       "stream": "stdout",
       "text": [
        " \r",
        "0262   2.712784e+00   1.000000e+15   1.930184e+00"
       ]
      },
      {
       "output_type": "stream",
       "stream": "stdout",
       "text": [
        " \r",
        "0263   2.712784e+00   1.000000e+15   1.930184e+00"
       ]
      },
      {
       "output_type": "stream",
       "stream": "stdout",
       "text": [
        " \r",
        "0264   2.712784e+00   1.000000e+15   1.930184e+00"
       ]
      },
      {
       "output_type": "stream",
       "stream": "stdout",
       "text": [
        " \r",
        "0265   2.712784e+00   1.000000e+15   1.930184e+00"
       ]
      },
      {
       "output_type": "stream",
       "stream": "stdout",
       "text": [
        " \r",
        "0266   2.712784e+00   1.000000e+15   1.930184e+00"
       ]
      },
      {
       "output_type": "stream",
       "stream": "stdout",
       "text": [
        " \r",
        "0267   2.712784e+00   1.000000e+15   1.930184e+00"
       ]
      },
      {
       "output_type": "stream",
       "stream": "stdout",
       "text": [
        " \r",
        "0268   2.712784e+00   1.000000e+15   1.930184e+00"
       ]
      },
      {
       "output_type": "stream",
       "stream": "stdout",
       "text": [
        " \r",
        "0269   2.712784e+00   1.000000e+15   1.930184e+00"
       ]
      },
      {
       "output_type": "stream",
       "stream": "stdout",
       "text": [
        " \r",
        "0270   2.712784e+00   1.000000e+15   1.930184e+00"
       ]
      },
      {
       "output_type": "stream",
       "stream": "stdout",
       "text": [
        " \r",
        "0271   2.712784e+00   1.000000e+15   1.930184e+00"
       ]
      },
      {
       "output_type": "stream",
       "stream": "stdout",
       "text": [
        " \r",
        "0272   2.712784e+00   1.000000e+15   1.930184e+00"
       ]
      },
      {
       "output_type": "stream",
       "stream": "stdout",
       "text": [
        " \r",
        "0273   2.712784e+00   1.000000e+15   1.930184e+00"
       ]
      },
      {
       "output_type": "stream",
       "stream": "stdout",
       "text": [
        " \r",
        "0274   2.712784e+00   1.000000e+15   1.930184e+00"
       ]
      },
      {
       "output_type": "stream",
       "stream": "stdout",
       "text": [
        " \r",
        "0275   2.712784e+00   1.000000e+15   1.930184e+00"
       ]
      },
      {
       "output_type": "stream",
       "stream": "stdout",
       "text": [
        " \r",
        "0276   2.712784e+00   1.000000e+15   1.930184e+00"
       ]
      },
      {
       "output_type": "stream",
       "stream": "stdout",
       "text": [
        " \r",
        "0277   2.712784e+00   1.000000e+15   1.930184e+00"
       ]
      },
      {
       "output_type": "stream",
       "stream": "stdout",
       "text": [
        " \r",
        "0278   2.712784e+00   1.000000e+15   1.930184e+00"
       ]
      },
      {
       "output_type": "stream",
       "stream": "stdout",
       "text": [
        " \r",
        "0279   2.712784e+00   1.000000e+15   1.930184e+00"
       ]
      },
      {
       "output_type": "stream",
       "stream": "stdout",
       "text": [
        " \r",
        "0280   2.712784e+00   1.000000e+15   1.930184e+00"
       ]
      },
      {
       "output_type": "stream",
       "stream": "stdout",
       "text": [
        " \r",
        "0281   2.712784e+00   1.000000e+15   1.930184e+00"
       ]
      },
      {
       "output_type": "stream",
       "stream": "stdout",
       "text": [
        " \r",
        "0282   2.712784e+00   1.000000e+15   1.930184e+00"
       ]
      },
      {
       "output_type": "stream",
       "stream": "stdout",
       "text": [
        " \r",
        "0283   2.712784e+00   1.000000e+15   1.930184e+00"
       ]
      },
      {
       "output_type": "stream",
       "stream": "stdout",
       "text": [
        " \r",
        "0284   2.712784e+00   1.000000e+15   1.930184e+00"
       ]
      },
      {
       "output_type": "stream",
       "stream": "stdout",
       "text": [
        " \r",
        "0285   2.712784e+00   1.000000e+15   1.930184e+00"
       ]
      },
      {
       "output_type": "stream",
       "stream": "stdout",
       "text": [
        " \r",
        "0286   2.712784e+00   1.000000e+15   1.930184e+00"
       ]
      },
      {
       "output_type": "stream",
       "stream": "stdout",
       "text": [
        " \r",
        "0287   2.712784e+00   1.000000e+15   1.930184e+00"
       ]
      },
      {
       "output_type": "stream",
       "stream": "stdout",
       "text": [
        " \r",
        "0288   2.712784e+00   1.000000e+15   1.930184e+00"
       ]
      },
      {
       "output_type": "stream",
       "stream": "stdout",
       "text": [
        " \r",
        "0289   2.712784e+00   1.000000e+15   1.930184e+00"
       ]
      },
      {
       "output_type": "stream",
       "stream": "stdout",
       "text": [
        " \r",
        "0290   2.712784e+00   1.000000e+15   1.930184e+00"
       ]
      },
      {
       "output_type": "stream",
       "stream": "stdout",
       "text": [
        " \r",
        "0291   2.712784e+00   1.000000e+15   1.930184e+00"
       ]
      },
      {
       "output_type": "stream",
       "stream": "stdout",
       "text": [
        " \r",
        "0292   2.712784e+00   1.000000e+15   1.930184e+00"
       ]
      },
      {
       "output_type": "stream",
       "stream": "stdout",
       "text": [
        " \r",
        "0293   2.712784e+00   1.000000e+15   1.930184e+00"
       ]
      },
      {
       "output_type": "stream",
       "stream": "stdout",
       "text": [
        " \r",
        "0294   2.712784e+00   1.000000e+15   1.930184e+00"
       ]
      },
      {
       "output_type": "stream",
       "stream": "stdout",
       "text": [
        " \r",
        "0295   2.712784e+00   1.000000e+15   1.930184e+00"
       ]
      },
      {
       "output_type": "stream",
       "stream": "stdout",
       "text": [
        " \r",
        "0296   2.712784e+00   1.000000e+15   1.930184e+00"
       ]
      },
      {
       "output_type": "stream",
       "stream": "stdout",
       "text": [
        " \r",
        "0297   2.712784e+00   1.000000e+15   1.930184e+00"
       ]
      },
      {
       "output_type": "stream",
       "stream": "stdout",
       "text": [
        " \r",
        "0298   2.712784e+00   1.000000e+15   1.930184e+00"
       ]
      },
      {
       "output_type": "stream",
       "stream": "stdout",
       "text": [
        " \r",
        "0299   2.712784e+00   1.000000e+15   1.930184e+00"
       ]
      },
      {
       "output_type": "stream",
       "stream": "stdout",
       "text": [
        " \r",
        "0300   2.712784e+00   1.000000e+15   1.930184e+00"
       ]
      },
      {
       "output_type": "stream",
       "stream": "stdout",
       "text": [
        " \r",
        "0301   2.712784e+00   1.000000e+15   1.930184e+00"
       ]
      },
      {
       "output_type": "stream",
       "stream": "stdout",
       "text": [
        " \r",
        "0302   2.712784e+00   1.000000e+15   1.930184e+00"
       ]
      },
      {
       "output_type": "stream",
       "stream": "stdout",
       "text": [
        " \r",
        "0303   2.712784e+00   1.000000e+15   1.930184e+00"
       ]
      },
      {
       "output_type": "stream",
       "stream": "stdout",
       "text": [
        " \r",
        "0304   2.712784e+00   1.000000e+15   1.930184e+00"
       ]
      },
      {
       "output_type": "stream",
       "stream": "stdout",
       "text": [
        " \r",
        "0305   2.712784e+00   1.000000e+15   1.930184e+00"
       ]
      },
      {
       "output_type": "stream",
       "stream": "stdout",
       "text": [
        " \r",
        "0306   2.712784e+00   1.000000e+15   1.930184e+00"
       ]
      },
      {
       "output_type": "stream",
       "stream": "stdout",
       "text": [
        " \r",
        "0307   2.712784e+00   1.000000e+15   1.930184e+00"
       ]
      },
      {
       "output_type": "stream",
       "stream": "stdout",
       "text": [
        " \r",
        "0308   2.712784e+00   1.000000e+15   1.930184e+00"
       ]
      },
      {
       "output_type": "stream",
       "stream": "stdout",
       "text": [
        " \r",
        "0309   2.712784e+00   1.000000e+15   1.930184e+00"
       ]
      },
      {
       "output_type": "stream",
       "stream": "stdout",
       "text": [
        " \r",
        "0310   2.712784e+00   1.000000e+15   1.930184e+00"
       ]
      },
      {
       "output_type": "stream",
       "stream": "stdout",
       "text": [
        " \r",
        "0311   2.712784e+00   1.000000e+15   1.930184e+00"
       ]
      },
      {
       "output_type": "stream",
       "stream": "stdout",
       "text": [
        " \r",
        "0312   2.712784e+00   1.000000e+15   1.930184e+00"
       ]
      },
      {
       "output_type": "stream",
       "stream": "stdout",
       "text": [
        " \r",
        "0313   2.712784e+00   1.000000e+15   1.930184e+00"
       ]
      },
      {
       "output_type": "stream",
       "stream": "stdout",
       "text": [
        " \r",
        "0314   2.712784e+00   1.000000e+15   1.930184e+00"
       ]
      },
      {
       "output_type": "stream",
       "stream": "stdout",
       "text": [
        " \r",
        "0315   2.712784e+00   1.000000e+15   1.930184e+00"
       ]
      },
      {
       "output_type": "stream",
       "stream": "stdout",
       "text": [
        " \r",
        "0316   2.712784e+00   1.000000e+15   1.930184e+00"
       ]
      },
      {
       "output_type": "stream",
       "stream": "stdout",
       "text": [
        " \r",
        "0317   2.712784e+00   1.000000e+15   1.930184e+00"
       ]
      },
      {
       "output_type": "stream",
       "stream": "stdout",
       "text": [
        " \r",
        "0318   2.712784e+00   1.000000e+15   1.930184e+00"
       ]
      },
      {
       "output_type": "stream",
       "stream": "stdout",
       "text": [
        " \r",
        "0319   2.712784e+00   1.000000e+15   1.930184e+00"
       ]
      },
      {
       "output_type": "stream",
       "stream": "stdout",
       "text": [
        " \r",
        "0320   2.712784e+00   1.000000e+15   1.930184e+00"
       ]
      },
      {
       "output_type": "stream",
       "stream": "stdout",
       "text": [
        " \r",
        "0321   2.712784e+00   1.000000e+15   1.930184e+00"
       ]
      },
      {
       "output_type": "stream",
       "stream": "stdout",
       "text": [
        " \r",
        "0322   2.712784e+00   1.000000e+15   1.930184e+00"
       ]
      },
      {
       "output_type": "stream",
       "stream": "stdout",
       "text": [
        " \r",
        "0323   2.712784e+00   1.000000e+15   1.930184e+00"
       ]
      },
      {
       "output_type": "stream",
       "stream": "stdout",
       "text": [
        " \r",
        "0324   2.712784e+00   1.000000e+15   1.930184e+00"
       ]
      },
      {
       "output_type": "stream",
       "stream": "stdout",
       "text": [
        " \r",
        "0325   2.712784e+00   1.000000e+15   1.930184e+00"
       ]
      },
      {
       "output_type": "stream",
       "stream": "stdout",
       "text": [
        " \r",
        "0326   2.712784e+00   1.000000e+15   1.930184e+00"
       ]
      },
      {
       "output_type": "stream",
       "stream": "stdout",
       "text": [
        " \r",
        "0327   2.712784e+00   1.000000e+15   1.930184e+00"
       ]
      },
      {
       "output_type": "stream",
       "stream": "stdout",
       "text": [
        " \r",
        "0328   2.712784e+00   1.000000e+15   1.930184e+00"
       ]
      },
      {
       "output_type": "stream",
       "stream": "stdout",
       "text": [
        " \r",
        "0329   2.712784e+00   1.000000e+15   1.930184e+00"
       ]
      },
      {
       "output_type": "stream",
       "stream": "stdout",
       "text": [
        " \r",
        "0330   2.712784e+00   1.000000e+15   1.930184e+00"
       ]
      },
      {
       "output_type": "stream",
       "stream": "stdout",
       "text": [
        " \r",
        "0331   2.712784e+00   1.000000e+15   1.930184e+00"
       ]
      },
      {
       "output_type": "stream",
       "stream": "stdout",
       "text": [
        " \r",
        "0332   2.712784e+00   1.000000e+15   1.930184e+00"
       ]
      },
      {
       "output_type": "stream",
       "stream": "stdout",
       "text": [
        " \r",
        "0333   2.712784e+00   1.000000e+15   1.930184e+00"
       ]
      },
      {
       "output_type": "stream",
       "stream": "stdout",
       "text": [
        " \r",
        "0334   2.712784e+00   1.000000e+15   1.930184e+00"
       ]
      },
      {
       "output_type": "stream",
       "stream": "stdout",
       "text": [
        " \r",
        "0335   2.712784e+00   1.000000e+15   1.930184e+00"
       ]
      },
      {
       "output_type": "stream",
       "stream": "stdout",
       "text": [
        " \r",
        "0336   2.712784e+00   1.000000e+15   1.930184e+00"
       ]
      },
      {
       "output_type": "stream",
       "stream": "stdout",
       "text": [
        " \r",
        "0337   2.712784e+00   1.000000e+15   1.930184e+00"
       ]
      },
      {
       "output_type": "stream",
       "stream": "stdout",
       "text": [
        " \r",
        "0338   2.712784e+00   1.000000e+15   1.930184e+00"
       ]
      },
      {
       "output_type": "stream",
       "stream": "stdout",
       "text": [
        " \r",
        "0339   2.712784e+00   1.000000e+15   1.930184e+00"
       ]
      },
      {
       "output_type": "stream",
       "stream": "stdout",
       "text": [
        " \r",
        "0340   2.712784e+00   1.000000e+15   1.930184e+00"
       ]
      },
      {
       "output_type": "stream",
       "stream": "stdout",
       "text": [
        " \r",
        "0341   2.712784e+00   1.000000e+15   1.930184e+00"
       ]
      },
      {
       "output_type": "stream",
       "stream": "stdout",
       "text": [
        " \r",
        "0342   2.712784e+00   1.000000e+15   1.930184e+00"
       ]
      },
      {
       "output_type": "stream",
       "stream": "stdout",
       "text": [
        " \r",
        "0343   2.712784e+00   1.000000e+15   1.930184e+00"
       ]
      },
      {
       "output_type": "stream",
       "stream": "stdout",
       "text": [
        " \r",
        "0344   2.712784e+00   1.000000e+15   1.930184e+00"
       ]
      },
      {
       "output_type": "stream",
       "stream": "stdout",
       "text": [
        " \r",
        "0345   2.712784e+00   1.000000e+15   1.930184e+00"
       ]
      },
      {
       "output_type": "stream",
       "stream": "stdout",
       "text": [
        " \r",
        "0346   2.712784e+00   1.000000e+15   1.930184e+00"
       ]
      },
      {
       "output_type": "stream",
       "stream": "stdout",
       "text": [
        " \r",
        "0347   2.712784e+00   1.000000e+15   1.930184e+00"
       ]
      },
      {
       "output_type": "stream",
       "stream": "stdout",
       "text": [
        " \r",
        "0348   2.712784e+00   1.000000e+15   1.930184e+00"
       ]
      },
      {
       "output_type": "stream",
       "stream": "stdout",
       "text": [
        " \r",
        "0349   2.712784e+00   1.000000e+15   1.930184e+00"
       ]
      },
      {
       "output_type": "stream",
       "stream": "stdout",
       "text": [
        " \r",
        "0350   2.712784e+00   1.000000e+15   1.930184e+00"
       ]
      },
      {
       "output_type": "stream",
       "stream": "stdout",
       "text": [
        " \r",
        "0351   2.712784e+00   1.000000e+15   1.930184e+00"
       ]
      },
      {
       "output_type": "stream",
       "stream": "stdout",
       "text": [
        " \r",
        "0352   2.712784e+00   1.000000e+15   1.930184e+00"
       ]
      },
      {
       "output_type": "stream",
       "stream": "stdout",
       "text": [
        " \r",
        "0353   2.712784e+00   1.000000e+15   1.930184e+00"
       ]
      },
      {
       "output_type": "stream",
       "stream": "stdout",
       "text": [
        " \r",
        "0354   2.712784e+00   1.000000e+15   1.930184e+00"
       ]
      },
      {
       "output_type": "stream",
       "stream": "stdout",
       "text": [
        " \r",
        "0355   2.712784e+00   1.000000e+15   1.930184e+00"
       ]
      },
      {
       "output_type": "stream",
       "stream": "stdout",
       "text": [
        " \r",
        "0356   2.712784e+00   1.000000e+15   1.930184e+00"
       ]
      },
      {
       "output_type": "stream",
       "stream": "stdout",
       "text": [
        " \r",
        "0357   2.712784e+00   1.000000e+15   1.930184e+00"
       ]
      },
      {
       "output_type": "stream",
       "stream": "stdout",
       "text": [
        " \r",
        "0358   2.712784e+00   1.000000e+15   1.930184e+00"
       ]
      },
      {
       "output_type": "stream",
       "stream": "stdout",
       "text": [
        " \r",
        "0359   2.712784e+00   1.000000e+15   1.930184e+00"
       ]
      },
      {
       "output_type": "stream",
       "stream": "stdout",
       "text": [
        " \r",
        "0360   2.712784e+00   1.000000e+15   1.930184e+00"
       ]
      },
      {
       "output_type": "stream",
       "stream": "stdout",
       "text": [
        " \r",
        "0361   2.712784e+00   1.000000e+15   1.930184e+00"
       ]
      },
      {
       "output_type": "stream",
       "stream": "stdout",
       "text": [
        " \r",
        "0362   2.712784e+00   1.000000e+15   1.930184e+00"
       ]
      },
      {
       "output_type": "stream",
       "stream": "stdout",
       "text": [
        " \r",
        "0363   2.712784e+00   1.000000e+15   1.930184e+00"
       ]
      },
      {
       "output_type": "stream",
       "stream": "stdout",
       "text": [
        " \r",
        "0364   2.712784e+00   1.000000e+15   1.930184e+00"
       ]
      },
      {
       "output_type": "stream",
       "stream": "stdout",
       "text": [
        " \r",
        "0365   2.712784e+00   1.000000e+15   1.930184e+00"
       ]
      },
      {
       "output_type": "stream",
       "stream": "stdout",
       "text": [
        " \r",
        "0366   2.712784e+00   1.000000e+15   1.930184e+00"
       ]
      },
      {
       "output_type": "stream",
       "stream": "stdout",
       "text": [
        " \r",
        "0367   2.712784e+00   1.000000e+15   1.930184e+00"
       ]
      },
      {
       "output_type": "stream",
       "stream": "stdout",
       "text": [
        " \r",
        "0368   2.712784e+00   1.000000e+15   1.930184e+00"
       ]
      },
      {
       "output_type": "stream",
       "stream": "stdout",
       "text": [
        " \r",
        "0369   2.712784e+00   1.000000e+15   1.930184e+00"
       ]
      },
      {
       "output_type": "stream",
       "stream": "stdout",
       "text": [
        " \r",
        "0370   2.712784e+00   1.000000e+15   1.930184e+00"
       ]
      },
      {
       "output_type": "stream",
       "stream": "stdout",
       "text": [
        " \r",
        "0371   2.712784e+00   1.000000e+15   1.930184e+00"
       ]
      },
      {
       "output_type": "stream",
       "stream": "stdout",
       "text": [
        " \r",
        "0372   2.712784e+00   1.000000e+15   1.930184e+00"
       ]
      },
      {
       "output_type": "stream",
       "stream": "stdout",
       "text": [
        " \r",
        "0373   2.712784e+00   1.000000e+15   1.930184e+00"
       ]
      },
      {
       "output_type": "stream",
       "stream": "stdout",
       "text": [
        " \r",
        "0374   2.712784e+00   1.000000e+15   1.930184e+00"
       ]
      },
      {
       "output_type": "stream",
       "stream": "stdout",
       "text": [
        " \r",
        "0375   2.712784e+00   1.000000e+15   1.930184e+00"
       ]
      },
      {
       "output_type": "stream",
       "stream": "stdout",
       "text": [
        " \r",
        "0376   2.712784e+00   1.000000e+15   1.930184e+00"
       ]
      },
      {
       "output_type": "stream",
       "stream": "stdout",
       "text": [
        " \r",
        "0377   2.712784e+00   1.000000e+15   1.930184e+00"
       ]
      },
      {
       "output_type": "stream",
       "stream": "stdout",
       "text": [
        " \r",
        "0378   2.712784e+00   1.000000e+15   1.930184e+00"
       ]
      },
      {
       "output_type": "stream",
       "stream": "stdout",
       "text": [
        " \r",
        "0379   2.712784e+00   1.000000e+15   1.930184e+00"
       ]
      },
      {
       "output_type": "stream",
       "stream": "stdout",
       "text": [
        " \r",
        "0380   2.712784e+00   1.000000e+15   1.930184e+00"
       ]
      },
      {
       "output_type": "stream",
       "stream": "stdout",
       "text": [
        " \r",
        "0381   2.712784e+00   1.000000e+15   1.930184e+00"
       ]
      },
      {
       "output_type": "stream",
       "stream": "stdout",
       "text": [
        " \r",
        "0382   2.712784e+00   1.000000e+15   1.930184e+00"
       ]
      },
      {
       "output_type": "stream",
       "stream": "stdout",
       "text": [
        " \r",
        "0383   2.712784e+00   1.000000e+15   1.930184e+00"
       ]
      },
      {
       "output_type": "stream",
       "stream": "stdout",
       "text": [
        " \r",
        "0384   2.712784e+00   1.000000e+15   1.930184e+00"
       ]
      },
      {
       "output_type": "stream",
       "stream": "stdout",
       "text": [
        " \r",
        "0385   2.712784e+00   1.000000e+15   1.930184e+00"
       ]
      },
      {
       "output_type": "stream",
       "stream": "stdout",
       "text": [
        " \r",
        "0386   2.712784e+00   1.000000e+15   1.930184e+00"
       ]
      },
      {
       "output_type": "stream",
       "stream": "stdout",
       "text": [
        " \r",
        "0387   2.712784e+00   1.000000e+15   1.930184e+00"
       ]
      },
      {
       "output_type": "stream",
       "stream": "stdout",
       "text": [
        " \r",
        "0388   2.712784e+00   1.000000e+15   1.930184e+00"
       ]
      },
      {
       "output_type": "stream",
       "stream": "stdout",
       "text": [
        " \r",
        "0389   2.712784e+00   1.000000e+15   1.930184e+00"
       ]
      },
      {
       "output_type": "stream",
       "stream": "stdout",
       "text": [
        " \r",
        "0390   2.712784e+00   1.000000e+15   1.930184e+00"
       ]
      },
      {
       "output_type": "stream",
       "stream": "stdout",
       "text": [
        " \r",
        "0391   2.712784e+00   1.000000e+15   1.930184e+00"
       ]
      },
      {
       "output_type": "stream",
       "stream": "stdout",
       "text": [
        " \r",
        "0392   2.712784e+00   1.000000e+15   1.930184e+00"
       ]
      },
      {
       "output_type": "stream",
       "stream": "stdout",
       "text": [
        " \r",
        "0393   2.712784e+00   1.000000e+15   1.930184e+00"
       ]
      },
      {
       "output_type": "stream",
       "stream": "stdout",
       "text": [
        " \r",
        "0394   2.712784e+00   1.000000e+15   1.930184e+00"
       ]
      },
      {
       "output_type": "stream",
       "stream": "stdout",
       "text": [
        " \r",
        "0395   2.712784e+00   1.000000e+15   1.930184e+00"
       ]
      },
      {
       "output_type": "stream",
       "stream": "stdout",
       "text": [
        " \n",
        "\r",
        "0396   2.712784e+00   1.000000e+15   1.930184e+00"
       ]
      },
      {
       "output_type": "stream",
       "stream": "stdout",
       "text": [
        " \r",
        "0397   2.712784e+00   1.000000e+15   1.930184e+00"
       ]
      },
      {
       "output_type": "stream",
       "stream": "stdout",
       "text": [
        " \r",
        "0398   2.712784e+00   1.000000e+15   1.930184e+00"
       ]
      },
      {
       "output_type": "stream",
       "stream": "stdout",
       "text": [
        " \r",
        "0399   2.712784e+00   1.000000e+15   1.930184e+00"
       ]
      },
      {
       "output_type": "stream",
       "stream": "stdout",
       "text": [
        " \r",
        "0400   2.712784e+00   1.000000e+15   1.930184e+00"
       ]
      },
      {
       "output_type": "stream",
       "stream": "stdout",
       "text": [
        " \r",
        "0401   2.712784e+00   1.000000e+15   1.930184e+00"
       ]
      },
      {
       "output_type": "stream",
       "stream": "stdout",
       "text": [
        " \r",
        "0402   2.712784e+00   1.000000e+15   1.930184e+00"
       ]
      },
      {
       "output_type": "stream",
       "stream": "stdout",
       "text": [
        " \r",
        "0403   2.712784e+00   1.000000e+15   1.930184e+00"
       ]
      },
      {
       "output_type": "stream",
       "stream": "stdout",
       "text": [
        " \r",
        "0404   2.712784e+00   1.000000e+15   1.930184e+00"
       ]
      },
      {
       "output_type": "stream",
       "stream": "stdout",
       "text": [
        " \r",
        "0405   2.712784e+00   1.000000e+15   1.930184e+00"
       ]
      },
      {
       "output_type": "stream",
       "stream": "stdout",
       "text": [
        " \r",
        "0406   2.712784e+00   1.000000e+15   1.930184e+00"
       ]
      },
      {
       "output_type": "stream",
       "stream": "stdout",
       "text": [
        " \r",
        "0407   2.712784e+00   1.000000e+15   1.930184e+00"
       ]
      },
      {
       "output_type": "stream",
       "stream": "stdout",
       "text": [
        " \r",
        "0408   2.712784e+00   1.000000e+15   1.930184e+00"
       ]
      },
      {
       "output_type": "stream",
       "stream": "stdout",
       "text": [
        " \r",
        "0409   2.712784e+00   1.000000e+15   1.930184e+00"
       ]
      },
      {
       "output_type": "stream",
       "stream": "stdout",
       "text": [
        " \r",
        "0410   2.712784e+00   1.000000e+15   1.930184e+00"
       ]
      },
      {
       "output_type": "stream",
       "stream": "stdout",
       "text": [
        " \r",
        "0411   2.712784e+00   1.000000e+15   1.930184e+00"
       ]
      },
      {
       "output_type": "stream",
       "stream": "stdout",
       "text": [
        " \r",
        "0412   2.712784e+00   1.000000e+15   1.930184e+00"
       ]
      },
      {
       "output_type": "stream",
       "stream": "stdout",
       "text": [
        " \r",
        "0413   2.712784e+00   1.000000e+15   1.930184e+00"
       ]
      },
      {
       "output_type": "stream",
       "stream": "stdout",
       "text": [
        " \r",
        "0414   2.712784e+00   1.000000e+15   1.930184e+00"
       ]
      },
      {
       "output_type": "stream",
       "stream": "stdout",
       "text": [
        " \r",
        "0415   2.712784e+00   1.000000e+15   1.930184e+00"
       ]
      },
      {
       "output_type": "stream",
       "stream": "stdout",
       "text": [
        " \r",
        "0416   2.712784e+00   1.000000e+15   1.930184e+00"
       ]
      },
      {
       "output_type": "stream",
       "stream": "stdout",
       "text": [
        " \r",
        "0417   2.712784e+00   1.000000e+15   1.930184e+00"
       ]
      },
      {
       "output_type": "stream",
       "stream": "stdout",
       "text": [
        " \r",
        "0418   2.712784e+00   1.000000e+15   1.930184e+00"
       ]
      },
      {
       "output_type": "stream",
       "stream": "stdout",
       "text": [
        " \r",
        "0419   2.712784e+00   1.000000e+15   1.930184e+00"
       ]
      },
      {
       "output_type": "stream",
       "stream": "stdout",
       "text": [
        " \r",
        "0420   2.712784e+00   1.000000e+15   1.930184e+00"
       ]
      },
      {
       "output_type": "stream",
       "stream": "stdout",
       "text": [
        " \r",
        "0421   2.712784e+00   1.000000e+15   1.930184e+00"
       ]
      },
      {
       "output_type": "stream",
       "stream": "stdout",
       "text": [
        " \r",
        "0422   2.712784e+00   1.000000e+15   1.930184e+00"
       ]
      },
      {
       "output_type": "stream",
       "stream": "stdout",
       "text": [
        " \r",
        "0423   2.712784e+00   1.000000e+15   1.930184e+00"
       ]
      },
      {
       "output_type": "stream",
       "stream": "stdout",
       "text": [
        " \r",
        "0424   2.712784e+00   1.000000e+15   1.930184e+00"
       ]
      },
      {
       "output_type": "stream",
       "stream": "stdout",
       "text": [
        " \r",
        "0425   2.712784e+00   1.000000e+15   1.930184e+00"
       ]
      },
      {
       "output_type": "stream",
       "stream": "stdout",
       "text": [
        " \r",
        "0426   2.712784e+00   1.000000e+15   1.930184e+00"
       ]
      },
      {
       "output_type": "stream",
       "stream": "stdout",
       "text": [
        " \r",
        "0427   2.712784e+00   1.000000e+15   1.930184e+00"
       ]
      },
      {
       "output_type": "stream",
       "stream": "stdout",
       "text": [
        " \r",
        "0428   2.712784e+00   1.000000e+15   1.930184e+00"
       ]
      },
      {
       "output_type": "stream",
       "stream": "stdout",
       "text": [
        " \r",
        "0429   2.712784e+00   1.000000e+15   1.930184e+00"
       ]
      },
      {
       "output_type": "stream",
       "stream": "stdout",
       "text": [
        " \r",
        "0430   2.712784e+00   1.000000e+15   1.930184e+00"
       ]
      },
      {
       "output_type": "stream",
       "stream": "stdout",
       "text": [
        " \r",
        "0431   2.712784e+00   1.000000e+15   1.930184e+00"
       ]
      },
      {
       "output_type": "stream",
       "stream": "stdout",
       "text": [
        " \r",
        "0432   2.712784e+00   1.000000e+15   1.930184e+00"
       ]
      },
      {
       "output_type": "stream",
       "stream": "stdout",
       "text": [
        " \r",
        "0433   2.712784e+00   1.000000e+15   1.930184e+00"
       ]
      },
      {
       "output_type": "stream",
       "stream": "stdout",
       "text": [
        " \r",
        "0434   2.712784e+00   1.000000e+15   1.930184e+00"
       ]
      },
      {
       "output_type": "stream",
       "stream": "stdout",
       "text": [
        " \r",
        "0435   2.712784e+00   1.000000e+15   1.930184e+00"
       ]
      },
      {
       "output_type": "stream",
       "stream": "stdout",
       "text": [
        " \r",
        "0436   2.712784e+00   1.000000e+15   1.930184e+00"
       ]
      },
      {
       "output_type": "stream",
       "stream": "stdout",
       "text": [
        " \r",
        "0437   2.712784e+00   1.000000e+15   1.930184e+00"
       ]
      },
      {
       "output_type": "stream",
       "stream": "stdout",
       "text": [
        " \r",
        "0438   2.712784e+00   1.000000e+15   1.930184e+00"
       ]
      },
      {
       "output_type": "stream",
       "stream": "stdout",
       "text": [
        " \r",
        "0439   2.712784e+00   1.000000e+15   1.930184e+00"
       ]
      },
      {
       "output_type": "stream",
       "stream": "stdout",
       "text": [
        " \r",
        "0440   2.712784e+00   1.000000e+15   1.930184e+00"
       ]
      },
      {
       "output_type": "stream",
       "stream": "stdout",
       "text": [
        " \r",
        "0441   2.712784e+00   1.000000e+15   1.930184e+00"
       ]
      },
      {
       "output_type": "stream",
       "stream": "stdout",
       "text": [
        " \r",
        "0442   2.712784e+00   1.000000e+15   1.930184e+00"
       ]
      },
      {
       "output_type": "stream",
       "stream": "stdout",
       "text": [
        " \r",
        "0443   2.712784e+00   1.000000e+15   1.930184e+00"
       ]
      },
      {
       "output_type": "stream",
       "stream": "stdout",
       "text": [
        " \r",
        "0444   2.712784e+00   1.000000e+15   1.930184e+00"
       ]
      },
      {
       "output_type": "stream",
       "stream": "stdout",
       "text": [
        " \r",
        "0445   2.712784e+00   1.000000e+15   1.930184e+00"
       ]
      },
      {
       "output_type": "stream",
       "stream": "stdout",
       "text": [
        " \r",
        "0446   2.712784e+00   1.000000e+15   1.930184e+00"
       ]
      },
      {
       "output_type": "stream",
       "stream": "stdout",
       "text": [
        " \r",
        "0447   2.712784e+00   1.000000e+15   1.930184e+00"
       ]
      },
      {
       "output_type": "stream",
       "stream": "stdout",
       "text": [
        " \r",
        "0448   2.712784e+00   1.000000e+15   1.930184e+00"
       ]
      },
      {
       "output_type": "stream",
       "stream": "stdout",
       "text": [
        " \r",
        "0449   2.712784e+00   1.000000e+15   1.930184e+00"
       ]
      },
      {
       "output_type": "stream",
       "stream": "stdout",
       "text": [
        " \r",
        "0450   2.712784e+00   1.000000e+15   1.930184e+00"
       ]
      },
      {
       "output_type": "stream",
       "stream": "stdout",
       "text": [
        " \r",
        "0451   2.712784e+00   1.000000e+15   1.930184e+00"
       ]
      },
      {
       "output_type": "stream",
       "stream": "stdout",
       "text": [
        " \r",
        "0452   2.712784e+00   1.000000e+15   1.930184e+00"
       ]
      },
      {
       "output_type": "stream",
       "stream": "stdout",
       "text": [
        " \r",
        "0453   2.712784e+00   1.000000e+15   1.930184e+00"
       ]
      },
      {
       "output_type": "stream",
       "stream": "stdout",
       "text": [
        " \r",
        "0454   2.712784e+00   1.000000e+15   1.930184e+00"
       ]
      },
      {
       "output_type": "stream",
       "stream": "stdout",
       "text": [
        " \r",
        "0455   2.712784e+00   1.000000e+15   1.930184e+00"
       ]
      },
      {
       "output_type": "stream",
       "stream": "stdout",
       "text": [
        " \r",
        "0456   2.712784e+00   1.000000e+15   1.930184e+00"
       ]
      },
      {
       "output_type": "stream",
       "stream": "stdout",
       "text": [
        " \r",
        "0457   2.712784e+00   1.000000e+15   1.930184e+00"
       ]
      },
      {
       "output_type": "stream",
       "stream": "stdout",
       "text": [
        " \r",
        "0458   2.712784e+00   1.000000e+15   1.930184e+00"
       ]
      },
      {
       "output_type": "stream",
       "stream": "stdout",
       "text": [
        " \r",
        "0459   2.712784e+00   1.000000e+15   1.930184e+00"
       ]
      },
      {
       "output_type": "stream",
       "stream": "stdout",
       "text": [
        " \r",
        "0460   2.712784e+00   1.000000e+15   1.930184e+00"
       ]
      },
      {
       "output_type": "stream",
       "stream": "stdout",
       "text": [
        " \r",
        "0461   2.712784e+00   1.000000e+15   1.930184e+00"
       ]
      },
      {
       "output_type": "stream",
       "stream": "stdout",
       "text": [
        " \r",
        "0462   2.712784e+00   1.000000e+15   1.930184e+00"
       ]
      },
      {
       "output_type": "stream",
       "stream": "stdout",
       "text": [
        " \r",
        "0463   2.712784e+00   1.000000e+15   1.930184e+00"
       ]
      },
      {
       "output_type": "stream",
       "stream": "stdout",
       "text": [
        " \r",
        "0464   2.712784e+00   1.000000e+15   1.930184e+00"
       ]
      },
      {
       "output_type": "stream",
       "stream": "stdout",
       "text": [
        " \r",
        "0465   2.712784e+00   1.000000e+15   1.930184e+00"
       ]
      },
      {
       "output_type": "stream",
       "stream": "stdout",
       "text": [
        " \r",
        "0466   2.712784e+00   1.000000e+15   1.930184e+00"
       ]
      },
      {
       "output_type": "stream",
       "stream": "stdout",
       "text": [
        " \r",
        "0467   2.712784e+00   1.000000e+15   1.930184e+00"
       ]
      },
      {
       "output_type": "stream",
       "stream": "stdout",
       "text": [
        " \r",
        "0468   2.712784e+00   1.000000e+15   1.930184e+00"
       ]
      },
      {
       "output_type": "stream",
       "stream": "stdout",
       "text": [
        " \r",
        "0469   2.712784e+00   1.000000e+15   1.930184e+00"
       ]
      },
      {
       "output_type": "stream",
       "stream": "stdout",
       "text": [
        " \r",
        "0470   2.712784e+00   1.000000e+15   1.930184e+00"
       ]
      },
      {
       "output_type": "stream",
       "stream": "stdout",
       "text": [
        " \r",
        "0471   2.712784e+00   1.000000e+15   1.930184e+00"
       ]
      },
      {
       "output_type": "stream",
       "stream": "stdout",
       "text": [
        " \r",
        "0472   2.712784e+00   1.000000e+15   1.930184e+00"
       ]
      },
      {
       "output_type": "stream",
       "stream": "stdout",
       "text": [
        " \r",
        "0473   2.712784e+00   1.000000e+15   1.930184e+00"
       ]
      },
      {
       "output_type": "stream",
       "stream": "stdout",
       "text": [
        " \r",
        "0474   2.712784e+00   1.000000e+15   1.930184e+00"
       ]
      },
      {
       "output_type": "stream",
       "stream": "stdout",
       "text": [
        " \r",
        "0475   2.712784e+00   1.000000e+15   1.930184e+00"
       ]
      },
      {
       "output_type": "stream",
       "stream": "stdout",
       "text": [
        " \r",
        "0476   2.712784e+00   1.000000e+15   1.930184e+00"
       ]
      },
      {
       "output_type": "stream",
       "stream": "stdout",
       "text": [
        " \r",
        "0477   2.712784e+00   1.000000e+15   1.930184e+00"
       ]
      },
      {
       "output_type": "stream",
       "stream": "stdout",
       "text": [
        " \r",
        "0478   2.712784e+00   1.000000e+15   1.930184e+00"
       ]
      },
      {
       "output_type": "stream",
       "stream": "stdout",
       "text": [
        " \r",
        "0479   2.712784e+00   1.000000e+15   1.930184e+00"
       ]
      },
      {
       "output_type": "stream",
       "stream": "stdout",
       "text": [
        " \r",
        "0480   2.712784e+00   1.000000e+15   1.930184e+00"
       ]
      },
      {
       "output_type": "stream",
       "stream": "stdout",
       "text": [
        " \r",
        "0481   2.712784e+00   1.000000e+15   1.930184e+00"
       ]
      },
      {
       "output_type": "stream",
       "stream": "stdout",
       "text": [
        " \r",
        "0482   2.712784e+00   1.000000e+15   1.930184e+00"
       ]
      },
      {
       "output_type": "stream",
       "stream": "stdout",
       "text": [
        " \r",
        "0483   2.712784e+00   1.000000e+15   1.930184e+00"
       ]
      },
      {
       "output_type": "stream",
       "stream": "stdout",
       "text": [
        " \r",
        "0484   2.712784e+00   1.000000e+15   1.930184e+00"
       ]
      },
      {
       "output_type": "stream",
       "stream": "stdout",
       "text": [
        " \r",
        "0485   2.712784e+00   1.000000e+15   1.930184e+00"
       ]
      },
      {
       "output_type": "stream",
       "stream": "stdout",
       "text": [
        " \r",
        "0486   2.712784e+00   1.000000e+15   1.930184e+00"
       ]
      },
      {
       "output_type": "stream",
       "stream": "stdout",
       "text": [
        " \r",
        "0487   2.712784e+00   1.000000e+15   1.930184e+00"
       ]
      },
      {
       "output_type": "stream",
       "stream": "stdout",
       "text": [
        " \r",
        "0488   2.712784e+00   1.000000e+15   1.930184e+00"
       ]
      },
      {
       "output_type": "stream",
       "stream": "stdout",
       "text": [
        " \r",
        "0489   2.712784e+00   1.000000e+15   1.930184e+00"
       ]
      },
      {
       "output_type": "stream",
       "stream": "stdout",
       "text": [
        " \r",
        "0490   2.712784e+00   1.000000e+15   1.930184e+00"
       ]
      },
      {
       "output_type": "stream",
       "stream": "stdout",
       "text": [
        " \r",
        "0491   2.712784e+00   1.000000e+15   1.930184e+00"
       ]
      },
      {
       "output_type": "stream",
       "stream": "stdout",
       "text": [
        " \r",
        "0492   2.712784e+00   1.000000e+15   1.930184e+00"
       ]
      },
      {
       "output_type": "stream",
       "stream": "stdout",
       "text": [
        " \r",
        "0493   2.712784e+00   1.000000e+15   1.930184e+00"
       ]
      },
      {
       "output_type": "stream",
       "stream": "stdout",
       "text": [
        " \r",
        "0494   2.712784e+00   1.000000e+15   1.930184e+00"
       ]
      },
      {
       "output_type": "stream",
       "stream": "stdout",
       "text": [
        " \r",
        "0495   2.712784e+00   1.000000e+15   1.930184e+00"
       ]
      },
      {
       "output_type": "stream",
       "stream": "stdout",
       "text": [
        " \r",
        "0496   2.712784e+00   1.000000e+15   1.930184e+00"
       ]
      },
      {
       "output_type": "stream",
       "stream": "stdout",
       "text": [
        " \r",
        "0497   2.712784e+00   1.000000e+15   1.930184e+00"
       ]
      },
      {
       "output_type": "stream",
       "stream": "stdout",
       "text": [
        " \r",
        "0498   2.712784e+00   1.000000e+15   1.930184e+00"
       ]
      },
      {
       "output_type": "stream",
       "stream": "stdout",
       "text": [
        " \r",
        "0499   2.712784e+00   1.000000e+15   1.930184e+00"
       ]
      },
      {
       "output_type": "stream",
       "stream": "stdout",
       "text": [
        " \r",
        "0500   2.712784e+00   1.000000e+15   1.930184e+00"
       ]
      },
      {
       "output_type": "stream",
       "stream": "stdout",
       "text": [
        " \r",
        "0501   2.712784e+00   1.000000e+15   1.930184e+00"
       ]
      },
      {
       "output_type": "stream",
       "stream": "stdout",
       "text": [
        " \r",
        "0502   2.712784e+00   1.000000e+15   1.930184e+00"
       ]
      },
      {
       "output_type": "stream",
       "stream": "stdout",
       "text": [
        " \r",
        "0503   2.712784e+00   1.000000e+15   1.930184e+00"
       ]
      },
      {
       "output_type": "stream",
       "stream": "stdout",
       "text": [
        " \r",
        "0504   2.712784e+00   1.000000e+15   1.930184e+00"
       ]
      },
      {
       "output_type": "stream",
       "stream": "stdout",
       "text": [
        " \r",
        "0505   2.712784e+00   1.000000e+15   1.930184e+00"
       ]
      },
      {
       "output_type": "stream",
       "stream": "stdout",
       "text": [
        " \r",
        "0506   2.712784e+00   1.000000e+15   1.930184e+00"
       ]
      },
      {
       "output_type": "stream",
       "stream": "stdout",
       "text": [
        " \r",
        "0507   2.712784e+00   1.000000e+15   1.930184e+00"
       ]
      },
      {
       "output_type": "stream",
       "stream": "stdout",
       "text": [
        " \r",
        "0508   2.712784e+00   1.000000e+15   1.930184e+00"
       ]
      },
      {
       "output_type": "stream",
       "stream": "stdout",
       "text": [
        " \r",
        "0509   2.712784e+00   1.000000e+15   1.930184e+00"
       ]
      },
      {
       "output_type": "stream",
       "stream": "stdout",
       "text": [
        " \r",
        "0510   2.712784e+00   1.000000e+15   1.930184e+00"
       ]
      },
      {
       "output_type": "stream",
       "stream": "stdout",
       "text": [
        " \r",
        "0511   2.712784e+00   1.000000e+15   1.930184e+00"
       ]
      },
      {
       "output_type": "stream",
       "stream": "stdout",
       "text": [
        " \r",
        "0512   2.712784e+00   1.000000e+15   1.930184e+00"
       ]
      },
      {
       "output_type": "stream",
       "stream": "stdout",
       "text": [
        " \r",
        "0513   2.712784e+00   1.000000e+15   1.930184e+00"
       ]
      },
      {
       "output_type": "stream",
       "stream": "stdout",
       "text": [
        " \r",
        "0514   2.712784e+00   1.000000e+15   1.930184e+00"
       ]
      },
      {
       "output_type": "stream",
       "stream": "stdout",
       "text": [
        " \r",
        "0515   2.712784e+00   1.000000e+15   1.930184e+00"
       ]
      },
      {
       "output_type": "stream",
       "stream": "stdout",
       "text": [
        " \r",
        "0516   2.712784e+00   1.000000e+15   1.930184e+00"
       ]
      },
      {
       "output_type": "stream",
       "stream": "stdout",
       "text": [
        " \r",
        "0517   2.712784e+00   1.000000e+15   1.930184e+00"
       ]
      },
      {
       "output_type": "stream",
       "stream": "stdout",
       "text": [
        " \r",
        "0518   2.712784e+00   1.000000e+15   1.930184e+00"
       ]
      },
      {
       "output_type": "stream",
       "stream": "stdout",
       "text": [
        " \r",
        "0519   2.712784e+00   1.000000e+15   1.930184e+00"
       ]
      },
      {
       "output_type": "stream",
       "stream": "stdout",
       "text": [
        " \r",
        "0520   2.712784e+00   1.000000e+15   1.930184e+00"
       ]
      },
      {
       "output_type": "stream",
       "stream": "stdout",
       "text": [
        " \r",
        "0521   2.712784e+00   1.000000e+15   1.930184e+00"
       ]
      },
      {
       "output_type": "stream",
       "stream": "stdout",
       "text": [
        " \r",
        "0522   2.712784e+00   1.000000e+15   1.930184e+00"
       ]
      },
      {
       "output_type": "stream",
       "stream": "stdout",
       "text": [
        " \r",
        "0523   2.712784e+00   1.000000e+15   1.930184e+00"
       ]
      },
      {
       "output_type": "stream",
       "stream": "stdout",
       "text": [
        " \r",
        "0524   2.712784e+00   1.000000e+15   1.930184e+00"
       ]
      },
      {
       "output_type": "stream",
       "stream": "stdout",
       "text": [
        " \r",
        "0525   2.712784e+00   1.000000e+15   1.930184e+00"
       ]
      },
      {
       "output_type": "stream",
       "stream": "stdout",
       "text": [
        " \r",
        "0526   2.712784e+00   1.000000e+15   1.930184e+00"
       ]
      },
      {
       "output_type": "stream",
       "stream": "stdout",
       "text": [
        " \r",
        "0527   2.712784e+00   1.000000e+15   1.930184e+00"
       ]
      },
      {
       "output_type": "stream",
       "stream": "stdout",
       "text": [
        " \r",
        "0528   2.712784e+00   1.000000e+15   1.930184e+00"
       ]
      },
      {
       "output_type": "stream",
       "stream": "stdout",
       "text": [
        " \r",
        "0529   2.712784e+00   1.000000e+15   1.930184e+00"
       ]
      },
      {
       "output_type": "stream",
       "stream": "stdout",
       "text": [
        " \r",
        "0530   2.712784e+00   1.000000e+15   1.930184e+00"
       ]
      },
      {
       "output_type": "stream",
       "stream": "stdout",
       "text": [
        " \r",
        "0531   2.712784e+00   1.000000e+15   1.930184e+00"
       ]
      },
      {
       "output_type": "stream",
       "stream": "stdout",
       "text": [
        " \r",
        "0532   2.712784e+00   1.000000e+15   1.930184e+00"
       ]
      },
      {
       "output_type": "stream",
       "stream": "stdout",
       "text": [
        " \r",
        "0533   2.712784e+00   1.000000e+15   1.930184e+00"
       ]
      },
      {
       "output_type": "stream",
       "stream": "stdout",
       "text": [
        " \r",
        "0534   2.712784e+00   1.000000e+15   1.930184e+00"
       ]
      },
      {
       "output_type": "stream",
       "stream": "stdout",
       "text": [
        " \r",
        "0535   2.712784e+00   1.000000e+15   1.930184e+00"
       ]
      },
      {
       "output_type": "stream",
       "stream": "stdout",
       "text": [
        " \r",
        "0536   2.712784e+00   1.000000e+15   1.930184e+00"
       ]
      },
      {
       "output_type": "stream",
       "stream": "stdout",
       "text": [
        " \r",
        "0537   2.712784e+00   1.000000e+15   1.930184e+00"
       ]
      },
      {
       "output_type": "stream",
       "stream": "stdout",
       "text": [
        " \r",
        "0538   2.712784e+00   1.000000e+15   1.930184e+00"
       ]
      },
      {
       "output_type": "stream",
       "stream": "stdout",
       "text": [
        " \r",
        "0539   2.712784e+00   1.000000e+15   1.930184e+00"
       ]
      },
      {
       "output_type": "stream",
       "stream": "stdout",
       "text": [
        " \r",
        "0540   2.712784e+00   1.000000e+15   1.930184e+00"
       ]
      },
      {
       "output_type": "stream",
       "stream": "stdout",
       "text": [
        " \r",
        "0541   2.712784e+00   1.000000e+15   1.930184e+00"
       ]
      },
      {
       "output_type": "stream",
       "stream": "stdout",
       "text": [
        " \r",
        "0542   2.712784e+00   1.000000e+15   1.930184e+00"
       ]
      },
      {
       "output_type": "stream",
       "stream": "stdout",
       "text": [
        " \r",
        "0543   2.712784e+00   1.000000e+15   1.930184e+00"
       ]
      },
      {
       "output_type": "stream",
       "stream": "stdout",
       "text": [
        " \r",
        "0544   2.712784e+00   1.000000e+15   1.930184e+00"
       ]
      },
      {
       "output_type": "stream",
       "stream": "stdout",
       "text": [
        " \r",
        "0545   2.712784e+00   1.000000e+15   1.930184e+00"
       ]
      },
      {
       "output_type": "stream",
       "stream": "stdout",
       "text": [
        " \r",
        "0546   2.712784e+00   1.000000e+15   1.930184e+00"
       ]
      },
      {
       "output_type": "stream",
       "stream": "stdout",
       "text": [
        " \r",
        "0547   2.712784e+00   1.000000e+15   1.930184e+00"
       ]
      },
      {
       "output_type": "stream",
       "stream": "stdout",
       "text": [
        " \r",
        "0548   2.712784e+00   1.000000e+15   1.930184e+00"
       ]
      },
      {
       "output_type": "stream",
       "stream": "stdout",
       "text": [
        " \r",
        "0549   2.712784e+00   1.000000e+15   1.930184e+00"
       ]
      },
      {
       "output_type": "stream",
       "stream": "stdout",
       "text": [
        " \r",
        "0550   2.712784e+00   1.000000e+15   1.930184e+00"
       ]
      },
      {
       "output_type": "stream",
       "stream": "stdout",
       "text": [
        " \r",
        "0551   2.712784e+00   1.000000e+15   1.930184e+00"
       ]
      },
      {
       "output_type": "stream",
       "stream": "stdout",
       "text": [
        " \r",
        "0552   2.712784e+00   1.000000e+15   1.930184e+00"
       ]
      },
      {
       "output_type": "stream",
       "stream": "stdout",
       "text": [
        " \r",
        "0553   2.712784e+00   1.000000e+15   1.930184e+00"
       ]
      },
      {
       "output_type": "stream",
       "stream": "stdout",
       "text": [
        " \r",
        "0554   2.712784e+00   1.000000e+15   1.930184e+00"
       ]
      },
      {
       "output_type": "stream",
       "stream": "stdout",
       "text": [
        " \r",
        "0555   2.712784e+00   1.000000e+15   1.930184e+00"
       ]
      },
      {
       "output_type": "stream",
       "stream": "stdout",
       "text": [
        " \r",
        "0556   2.712784e+00   1.000000e+15   1.930184e+00"
       ]
      },
      {
       "output_type": "stream",
       "stream": "stdout",
       "text": [
        " \r",
        "0557   2.712784e+00   1.000000e+15   1.930184e+00"
       ]
      },
      {
       "output_type": "stream",
       "stream": "stdout",
       "text": [
        " \r",
        "0558   2.712784e+00   1.000000e+15   1.930184e+00"
       ]
      },
      {
       "output_type": "stream",
       "stream": "stdout",
       "text": [
        " \r",
        "0559   2.712784e+00   1.000000e+15   1.930184e+00"
       ]
      },
      {
       "output_type": "stream",
       "stream": "stdout",
       "text": [
        " \r",
        "0560   2.712784e+00   1.000000e+15   1.930184e+00"
       ]
      },
      {
       "output_type": "stream",
       "stream": "stdout",
       "text": [
        " \r",
        "0561   2.712784e+00   1.000000e+15   1.930184e+00"
       ]
      },
      {
       "output_type": "stream",
       "stream": "stdout",
       "text": [
        " \r",
        "0562   2.712784e+00   1.000000e+15   1.930184e+00"
       ]
      },
      {
       "output_type": "stream",
       "stream": "stdout",
       "text": [
        " \r",
        "0563   2.712784e+00   1.000000e+15   1.930184e+00"
       ]
      },
      {
       "output_type": "stream",
       "stream": "stdout",
       "text": [
        " \r",
        "0564   2.712784e+00   1.000000e+15   1.930184e+00"
       ]
      },
      {
       "output_type": "stream",
       "stream": "stdout",
       "text": [
        " \r",
        "0565   2.712784e+00   1.000000e+15   1.930184e+00"
       ]
      },
      {
       "output_type": "stream",
       "stream": "stdout",
       "text": [
        " \r",
        "0566   2.712784e+00   1.000000e+15   1.930184e+00"
       ]
      },
      {
       "output_type": "stream",
       "stream": "stdout",
       "text": [
        " \r",
        "0567   2.712784e+00   1.000000e+15   1.930184e+00"
       ]
      },
      {
       "output_type": "stream",
       "stream": "stdout",
       "text": [
        " \r",
        "0568   2.712784e+00   1.000000e+15   1.930184e+00"
       ]
      },
      {
       "output_type": "stream",
       "stream": "stdout",
       "text": [
        " \r",
        "0569   2.712784e+00   1.000000e+15   1.930184e+00"
       ]
      },
      {
       "output_type": "stream",
       "stream": "stdout",
       "text": [
        " \r",
        "0570   2.712784e+00   1.000000e+15   1.930184e+00"
       ]
      },
      {
       "output_type": "stream",
       "stream": "stdout",
       "text": [
        " \r",
        "0571   2.712784e+00   1.000000e+15   1.930184e+00"
       ]
      },
      {
       "output_type": "stream",
       "stream": "stdout",
       "text": [
        " \r",
        "0572   2.712784e+00   1.000000e+15   1.930184e+00"
       ]
      },
      {
       "output_type": "stream",
       "stream": "stdout",
       "text": [
        " \r",
        "0573   2.712784e+00   1.000000e+15   1.930184e+00"
       ]
      },
      {
       "output_type": "stream",
       "stream": "stdout",
       "text": [
        " \r",
        "0574   2.712784e+00   1.000000e+15   1.930184e+00"
       ]
      },
      {
       "output_type": "stream",
       "stream": "stdout",
       "text": [
        " \r",
        "0575   2.712784e+00   1.000000e+15   1.930184e+00"
       ]
      },
      {
       "output_type": "stream",
       "stream": "stdout",
       "text": [
        " \r",
        "0576   2.712784e+00   1.000000e+15   1.930184e+00"
       ]
      },
      {
       "output_type": "stream",
       "stream": "stdout",
       "text": [
        " \r",
        "0577   2.712784e+00   1.000000e+15   1.930184e+00"
       ]
      },
      {
       "output_type": "stream",
       "stream": "stdout",
       "text": [
        " \r",
        "0578   2.712784e+00   1.000000e+15   1.930184e+00"
       ]
      },
      {
       "output_type": "stream",
       "stream": "stdout",
       "text": [
        " \r",
        "0579   2.712784e+00   1.000000e+15   1.930184e+00"
       ]
      },
      {
       "output_type": "stream",
       "stream": "stdout",
       "text": [
        " \r",
        "0580   2.712784e+00   1.000000e+15   1.930184e+00"
       ]
      },
      {
       "output_type": "stream",
       "stream": "stdout",
       "text": [
        " \r",
        "0581   2.712784e+00   1.000000e+15   1.930184e+00"
       ]
      },
      {
       "output_type": "stream",
       "stream": "stdout",
       "text": [
        " \r",
        "0582   2.712784e+00   1.000000e+15   1.930184e+00"
       ]
      },
      {
       "output_type": "stream",
       "stream": "stdout",
       "text": [
        " \r",
        "0583   2.712784e+00   1.000000e+15   1.930184e+00"
       ]
      },
      {
       "output_type": "stream",
       "stream": "stdout",
       "text": [
        " \r",
        "0584   2.712784e+00   1.000000e+15   1.930184e+00"
       ]
      },
      {
       "output_type": "stream",
       "stream": "stdout",
       "text": [
        " \r",
        "0585   2.712784e+00   1.000000e+15   1.930184e+00"
       ]
      },
      {
       "output_type": "stream",
       "stream": "stdout",
       "text": [
        " \r",
        "0586   2.712784e+00   1.000000e+15   1.930184e+00"
       ]
      },
      {
       "output_type": "stream",
       "stream": "stdout",
       "text": [
        " \r",
        "0587   2.712784e+00   1.000000e+15   1.930184e+00"
       ]
      },
      {
       "output_type": "stream",
       "stream": "stdout",
       "text": [
        " \r",
        "0588   2.712784e+00   1.000000e+15   1.930184e+00"
       ]
      },
      {
       "output_type": "stream",
       "stream": "stdout",
       "text": [
        " \r",
        "0589   2.712784e+00   1.000000e+15   1.930184e+00"
       ]
      },
      {
       "output_type": "stream",
       "stream": "stdout",
       "text": [
        " \r",
        "0590   2.712784e+00   1.000000e+15   1.930184e+00"
       ]
      },
      {
       "output_type": "stream",
       "stream": "stdout",
       "text": [
        " \r",
        "0591   2.712784e+00   1.000000e+15   1.930184e+00"
       ]
      },
      {
       "output_type": "stream",
       "stream": "stdout",
       "text": [
        " \r",
        "0592   2.712784e+00   1.000000e+15   1.930184e+00"
       ]
      },
      {
       "output_type": "stream",
       "stream": "stdout",
       "text": [
        " \r",
        "0593   2.712784e+00   1.000000e+15   1.930184e+00"
       ]
      },
      {
       "output_type": "stream",
       "stream": "stdout",
       "text": [
        " \r",
        "0594   2.712784e+00   1.000000e+15   1.930184e+00"
       ]
      },
      {
       "output_type": "stream",
       "stream": "stdout",
       "text": [
        " \r",
        "0595   2.712784e+00   1.000000e+15   1.930184e+00"
       ]
      },
      {
       "output_type": "stream",
       "stream": "stdout",
       "text": [
        " \r",
        "0596   2.712784e+00   1.000000e+15   1.930184e+00"
       ]
      },
      {
       "output_type": "stream",
       "stream": "stdout",
       "text": [
        " \r",
        "0597   2.712784e+00   1.000000e+15   1.930184e+00"
       ]
      },
      {
       "output_type": "stream",
       "stream": "stdout",
       "text": [
        " \r",
        "0598   2.712784e+00   1.000000e+15   1.930184e+00"
       ]
      },
      {
       "output_type": "stream",
       "stream": "stdout",
       "text": [
        " \r",
        "0599   2.712784e+00   1.000000e+15   1.930184e+00"
       ]
      },
      {
       "output_type": "stream",
       "stream": "stdout",
       "text": [
        " \r",
        "0600   2.712784e+00   1.000000e+15   1.930184e+00"
       ]
      },
      {
       "output_type": "stream",
       "stream": "stdout",
       "text": [
        " \r",
        "0601   2.712784e+00   1.000000e+15   1.930184e+00"
       ]
      },
      {
       "output_type": "stream",
       "stream": "stdout",
       "text": [
        " \r",
        "0602   2.712784e+00   1.000000e+15   1.930184e+00"
       ]
      },
      {
       "output_type": "stream",
       "stream": "stdout",
       "text": [
        " \r",
        "0603   2.712784e+00   1.000000e+15   1.930184e+00"
       ]
      },
      {
       "output_type": "stream",
       "stream": "stdout",
       "text": [
        " \r",
        "0604   2.712784e+00   1.000000e+15   1.930184e+00"
       ]
      },
      {
       "output_type": "stream",
       "stream": "stdout",
       "text": [
        " \r",
        "0605   2.712784e+00   1.000000e+15   1.930184e+00"
       ]
      },
      {
       "output_type": "stream",
       "stream": "stdout",
       "text": [
        " \r",
        "0606   2.712784e+00   1.000000e+15   1.930184e+00"
       ]
      },
      {
       "output_type": "stream",
       "stream": "stdout",
       "text": [
        " \r",
        "0607   2.712784e+00   1.000000e+15   1.930184e+00"
       ]
      },
      {
       "output_type": "stream",
       "stream": "stdout",
       "text": [
        " \r",
        "0608   2.712784e+00   1.000000e+15   1.930184e+00"
       ]
      },
      {
       "output_type": "stream",
       "stream": "stdout",
       "text": [
        " \r",
        "0609   2.712784e+00   1.000000e+15   1.930184e+00"
       ]
      },
      {
       "output_type": "stream",
       "stream": "stdout",
       "text": [
        " \r",
        "0610   2.712784e+00   1.000000e+15   1.930184e+00"
       ]
      },
      {
       "output_type": "stream",
       "stream": "stdout",
       "text": [
        " \r",
        "0611   2.712784e+00   1.000000e+15   1.930184e+00"
       ]
      },
      {
       "output_type": "stream",
       "stream": "stdout",
       "text": [
        " \r",
        "0612   2.712784e+00   1.000000e+15   1.930184e+00"
       ]
      },
      {
       "output_type": "stream",
       "stream": "stdout",
       "text": [
        " \r",
        "0613   2.712784e+00   1.000000e+15   1.930184e+00"
       ]
      },
      {
       "output_type": "stream",
       "stream": "stdout",
       "text": [
        " \r",
        "0614   2.712784e+00   1.000000e+15   1.930184e+00"
       ]
      },
      {
       "output_type": "stream",
       "stream": "stdout",
       "text": [
        " \r",
        "0615   2.712784e+00   1.000000e+15   1.930184e+00"
       ]
      },
      {
       "output_type": "stream",
       "stream": "stdout",
       "text": [
        " \r",
        "0616   2.712784e+00   1.000000e+15   1.930184e+00"
       ]
      },
      {
       "output_type": "stream",
       "stream": "stdout",
       "text": [
        " \r",
        "0617   2.712784e+00   1.000000e+15   1.930184e+00"
       ]
      },
      {
       "output_type": "stream",
       "stream": "stdout",
       "text": [
        " \r",
        "0618   2.712784e+00   1.000000e+15   1.930184e+00"
       ]
      },
      {
       "output_type": "stream",
       "stream": "stdout",
       "text": [
        " \r",
        "0619   2.712784e+00   1.000000e+15   1.930184e+00"
       ]
      },
      {
       "output_type": "stream",
       "stream": "stdout",
       "text": [
        " \r",
        "0620   2.712784e+00   1.000000e+15   1.930184e+00"
       ]
      },
      {
       "output_type": "stream",
       "stream": "stdout",
       "text": [
        " \r",
        "0621   2.712784e+00   1.000000e+15   1.930184e+00"
       ]
      },
      {
       "output_type": "stream",
       "stream": "stdout",
       "text": [
        " \r",
        "0622   2.712784e+00   1.000000e+15   1.930184e+00"
       ]
      },
      {
       "output_type": "stream",
       "stream": "stdout",
       "text": [
        " \r",
        "0623   2.712784e+00   1.000000e+15   1.930184e+00"
       ]
      },
      {
       "output_type": "stream",
       "stream": "stdout",
       "text": [
        " \r",
        "0624   2.712784e+00   1.000000e+15   1.930184e+00"
       ]
      },
      {
       "output_type": "stream",
       "stream": "stdout",
       "text": [
        " \r",
        "0625   2.712784e+00   1.000000e+15   1.930184e+00"
       ]
      },
      {
       "output_type": "stream",
       "stream": "stdout",
       "text": [
        " \r",
        "0626   2.712784e+00   1.000000e+15   1.930184e+00"
       ]
      },
      {
       "output_type": "stream",
       "stream": "stdout",
       "text": [
        " \r",
        "0627   2.712784e+00   1.000000e+15   1.930184e+00"
       ]
      },
      {
       "output_type": "stream",
       "stream": "stdout",
       "text": [
        " \r",
        "0628   2.712784e+00   1.000000e+15   1.930184e+00"
       ]
      },
      {
       "output_type": "stream",
       "stream": "stdout",
       "text": [
        " \r",
        "0629   2.712784e+00   1.000000e+15   1.930184e+00"
       ]
      },
      {
       "output_type": "stream",
       "stream": "stdout",
       "text": [
        " \r",
        "0630   2.712784e+00   1.000000e+15   1.930184e+00"
       ]
      },
      {
       "output_type": "stream",
       "stream": "stdout",
       "text": [
        " \r",
        "0631   2.712784e+00   1.000000e+15   1.930184e+00"
       ]
      },
      {
       "output_type": "stream",
       "stream": "stdout",
       "text": [
        " \r",
        "0632   2.712784e+00   1.000000e+15   1.930184e+00"
       ]
      },
      {
       "output_type": "stream",
       "stream": "stdout",
       "text": [
        " \r",
        "0633   2.712784e+00   1.000000e+15   1.930184e+00"
       ]
      },
      {
       "output_type": "stream",
       "stream": "stdout",
       "text": [
        " \r",
        "0634   2.712784e+00   1.000000e+15   1.930184e+00"
       ]
      },
      {
       "output_type": "stream",
       "stream": "stdout",
       "text": [
        " \r",
        "0635   2.712784e+00   1.000000e+15   1.930184e+00"
       ]
      },
      {
       "output_type": "stream",
       "stream": "stdout",
       "text": [
        " \r",
        "0636   2.712784e+00   1.000000e+15   1.930184e+00"
       ]
      },
      {
       "output_type": "stream",
       "stream": "stdout",
       "text": [
        " \r",
        "0637   2.712784e+00   1.000000e+15   1.930184e+00"
       ]
      },
      {
       "output_type": "stream",
       "stream": "stdout",
       "text": [
        " \r",
        "0638   2.712784e+00   1.000000e+15   1.930184e+00"
       ]
      },
      {
       "output_type": "stream",
       "stream": "stdout",
       "text": [
        " \r",
        "0639   2.712784e+00   1.000000e+15   1.930184e+00"
       ]
      },
      {
       "output_type": "stream",
       "stream": "stdout",
       "text": [
        " \r",
        "0640   2.712784e+00   1.000000e+15   1.930184e+00"
       ]
      },
      {
       "output_type": "stream",
       "stream": "stdout",
       "text": [
        " \r",
        "0641   2.712784e+00   1.000000e+15   1.930184e+00"
       ]
      },
      {
       "output_type": "stream",
       "stream": "stdout",
       "text": [
        " \r",
        "0642   2.712784e+00   1.000000e+15   1.930184e+00"
       ]
      },
      {
       "output_type": "stream",
       "stream": "stdout",
       "text": [
        " \r",
        "0643   2.712784e+00   1.000000e+15   1.930184e+00"
       ]
      },
      {
       "output_type": "stream",
       "stream": "stdout",
       "text": [
        " \r",
        "0644   2.712784e+00   1.000000e+15   1.930184e+00"
       ]
      },
      {
       "output_type": "stream",
       "stream": "stdout",
       "text": [
        " \r",
        "0645   2.712784e+00   1.000000e+15   1.930184e+00"
       ]
      },
      {
       "output_type": "stream",
       "stream": "stdout",
       "text": [
        " \r",
        "0646   2.712784e+00   1.000000e+15   1.930184e+00"
       ]
      },
      {
       "output_type": "stream",
       "stream": "stdout",
       "text": [
        " \r",
        "0647   2.712784e+00   1.000000e+15   1.930184e+00"
       ]
      },
      {
       "output_type": "stream",
       "stream": "stdout",
       "text": [
        " \r",
        "0648   2.712784e+00   1.000000e+15   1.930184e+00"
       ]
      },
      {
       "output_type": "stream",
       "stream": "stdout",
       "text": [
        " \r",
        "0649   2.712784e+00   1.000000e+15   1.930184e+00"
       ]
      },
      {
       "output_type": "stream",
       "stream": "stdout",
       "text": [
        " \r",
        "0650   2.712784e+00   1.000000e+15   1.930184e+00"
       ]
      },
      {
       "output_type": "stream",
       "stream": "stdout",
       "text": [
        " \r",
        "0651   2.712784e+00   1.000000e+15   1.930184e+00"
       ]
      },
      {
       "output_type": "stream",
       "stream": "stdout",
       "text": [
        " \r",
        "0652   2.712784e+00   1.000000e+15   1.930184e+00"
       ]
      },
      {
       "output_type": "stream",
       "stream": "stdout",
       "text": [
        " \r",
        "0653   2.712784e+00   1.000000e+15   1.930184e+00"
       ]
      },
      {
       "output_type": "stream",
       "stream": "stdout",
       "text": [
        " \r",
        "0654   2.712784e+00   1.000000e+15   1.930184e+00"
       ]
      },
      {
       "output_type": "stream",
       "stream": "stdout",
       "text": [
        " \r",
        "0655   2.712784e+00   1.000000e+15   1.930184e+00"
       ]
      },
      {
       "output_type": "stream",
       "stream": "stdout",
       "text": [
        " \r",
        "0656   2.712784e+00   1.000000e+15   1.930184e+00"
       ]
      },
      {
       "output_type": "stream",
       "stream": "stdout",
       "text": [
        " \r",
        "0657   2.712784e+00   1.000000e+15   1.930184e+00"
       ]
      },
      {
       "output_type": "stream",
       "stream": "stdout",
       "text": [
        " \r",
        "0658   2.712784e+00   1.000000e+15   1.930184e+00"
       ]
      },
      {
       "output_type": "stream",
       "stream": "stdout",
       "text": [
        " \r",
        "0659   2.712784e+00   1.000000e+15   1.930184e+00"
       ]
      },
      {
       "output_type": "stream",
       "stream": "stdout",
       "text": [
        " \r",
        "0660   2.712784e+00   1.000000e+15   1.930184e+00"
       ]
      },
      {
       "output_type": "stream",
       "stream": "stdout",
       "text": [
        " \r",
        "0661   2.712784e+00   1.000000e+15   1.930184e+00"
       ]
      },
      {
       "output_type": "stream",
       "stream": "stdout",
       "text": [
        " \r",
        "0662   2.712784e+00   1.000000e+15   1.930184e+00"
       ]
      },
      {
       "output_type": "stream",
       "stream": "stdout",
       "text": [
        " \r",
        "0663   2.712784e+00   1.000000e+15   1.930184e+00"
       ]
      },
      {
       "output_type": "stream",
       "stream": "stdout",
       "text": [
        " \r",
        "0664   2.712784e+00   1.000000e+15   1.930184e+00"
       ]
      },
      {
       "output_type": "stream",
       "stream": "stdout",
       "text": [
        " \r",
        "0665   2.712784e+00   1.000000e+15   1.930184e+00"
       ]
      },
      {
       "output_type": "stream",
       "stream": "stdout",
       "text": [
        " \r",
        "0666   2.712784e+00   1.000000e+15   1.930184e+00"
       ]
      },
      {
       "output_type": "stream",
       "stream": "stdout",
       "text": [
        " \r",
        "0667   2.712784e+00   1.000000e+15   1.930184e+00"
       ]
      },
      {
       "output_type": "stream",
       "stream": "stdout",
       "text": [
        " \r",
        "0668   2.712784e+00   1.000000e+15   1.930184e+00"
       ]
      },
      {
       "output_type": "stream",
       "stream": "stdout",
       "text": [
        " \r",
        "0669   2.712784e+00   1.000000e+15   1.930184e+00"
       ]
      },
      {
       "output_type": "stream",
       "stream": "stdout",
       "text": [
        " \r",
        "0670   2.712784e+00   1.000000e+15   1.930184e+00"
       ]
      },
      {
       "output_type": "stream",
       "stream": "stdout",
       "text": [
        " \r",
        "0671   2.712784e+00   1.000000e+15   1.930184e+00"
       ]
      },
      {
       "output_type": "stream",
       "stream": "stdout",
       "text": [
        " \r",
        "0672   2.712784e+00   1.000000e+15   1.930184e+00"
       ]
      },
      {
       "output_type": "stream",
       "stream": "stdout",
       "text": [
        " \r",
        "0673   2.712784e+00   1.000000e+15   1.930184e+00"
       ]
      },
      {
       "output_type": "stream",
       "stream": "stdout",
       "text": [
        " \r",
        "0674   2.712784e+00   1.000000e+15   1.930184e+00"
       ]
      },
      {
       "output_type": "stream",
       "stream": "stdout",
       "text": [
        " \r",
        "0675   2.712784e+00   1.000000e+15   1.930184e+00"
       ]
      },
      {
       "output_type": "stream",
       "stream": "stdout",
       "text": [
        " \r",
        "0676   2.712784e+00   1.000000e+15   1.930184e+00"
       ]
      },
      {
       "output_type": "stream",
       "stream": "stdout",
       "text": [
        " \r",
        "0677   2.712784e+00   1.000000e+15   1.930184e+00"
       ]
      },
      {
       "output_type": "stream",
       "stream": "stdout",
       "text": [
        " \r",
        "0678   2.712784e+00   1.000000e+15   1.930184e+00"
       ]
      },
      {
       "output_type": "stream",
       "stream": "stdout",
       "text": [
        " \r",
        "0679   2.712784e+00   1.000000e+15   1.930184e+00"
       ]
      },
      {
       "output_type": "stream",
       "stream": "stdout",
       "text": [
        " \r",
        "0680   2.712784e+00   1.000000e+15   1.930184e+00"
       ]
      },
      {
       "output_type": "stream",
       "stream": "stdout",
       "text": [
        " \r",
        "0681   2.712784e+00   1.000000e+15   1.930184e+00"
       ]
      },
      {
       "output_type": "stream",
       "stream": "stdout",
       "text": [
        " \r",
        "0682   2.712784e+00   1.000000e+15   1.930184e+00"
       ]
      },
      {
       "output_type": "stream",
       "stream": "stdout",
       "text": [
        " \r",
        "0683   2.712784e+00   1.000000e+15   1.930184e+00"
       ]
      },
      {
       "output_type": "stream",
       "stream": "stdout",
       "text": [
        " \r",
        "0684   2.712784e+00   1.000000e+15   1.930184e+00"
       ]
      },
      {
       "output_type": "stream",
       "stream": "stdout",
       "text": [
        " \r",
        "0685   2.712784e+00   1.000000e+15   1.930184e+00"
       ]
      },
      {
       "output_type": "stream",
       "stream": "stdout",
       "text": [
        " \r",
        "0686   2.712784e+00   1.000000e+15   1.930184e+00"
       ]
      },
      {
       "output_type": "stream",
       "stream": "stdout",
       "text": [
        " \r",
        "0687   2.712784e+00   1.000000e+15   1.930184e+00"
       ]
      },
      {
       "output_type": "stream",
       "stream": "stdout",
       "text": [
        " \r",
        "0688   2.712784e+00   1.000000e+15   1.930184e+00"
       ]
      },
      {
       "output_type": "stream",
       "stream": "stdout",
       "text": [
        " \r",
        "0689   2.712784e+00   1.000000e+15   1.930184e+00"
       ]
      },
      {
       "output_type": "stream",
       "stream": "stdout",
       "text": [
        " \r",
        "0690   2.712784e+00   1.000000e+15   1.930184e+00"
       ]
      },
      {
       "output_type": "stream",
       "stream": "stdout",
       "text": [
        " \r",
        "0691   2.712784e+00   1.000000e+15   1.930184e+00"
       ]
      },
      {
       "output_type": "stream",
       "stream": "stdout",
       "text": [
        " \r",
        "0692   2.712784e+00   1.000000e+15   1.930184e+00"
       ]
      },
      {
       "output_type": "stream",
       "stream": "stdout",
       "text": [
        " \r",
        "0693   2.712784e+00   1.000000e+15   1.930184e+00"
       ]
      },
      {
       "output_type": "stream",
       "stream": "stdout",
       "text": [
        " \r",
        "0694   2.712784e+00   1.000000e+15   1.930184e+00"
       ]
      },
      {
       "output_type": "stream",
       "stream": "stdout",
       "text": [
        " \r",
        "0695   2.712784e+00   1.000000e+15   1.930184e+00"
       ]
      },
      {
       "output_type": "stream",
       "stream": "stdout",
       "text": [
        " \r",
        "0696   2.712784e+00   1.000000e+15   1.930184e+00"
       ]
      },
      {
       "output_type": "stream",
       "stream": "stdout",
       "text": [
        " \r",
        "0697   2.712784e+00   1.000000e+15   1.930184e+00"
       ]
      },
      {
       "output_type": "stream",
       "stream": "stdout",
       "text": [
        " \r",
        "0698   2.712784e+00   1.000000e+15   1.930184e+00"
       ]
      },
      {
       "output_type": "stream",
       "stream": "stdout",
       "text": [
        " \r",
        "0699   2.712784e+00   1.000000e+15   1.930184e+00"
       ]
      },
      {
       "output_type": "stream",
       "stream": "stdout",
       "text": [
        " \r",
        "0700   2.712784e+00   1.000000e+15   1.930184e+00"
       ]
      },
      {
       "output_type": "stream",
       "stream": "stdout",
       "text": [
        " \r",
        "0701   2.712784e+00   1.000000e+15   1.930184e+00"
       ]
      },
      {
       "output_type": "stream",
       "stream": "stdout",
       "text": [
        " \r",
        "0702   2.712784e+00   1.000000e+15   1.930184e+00"
       ]
      },
      {
       "output_type": "stream",
       "stream": "stdout",
       "text": [
        " \r",
        "0703   2.712784e+00   1.000000e+15   1.930184e+00"
       ]
      },
      {
       "output_type": "stream",
       "stream": "stdout",
       "text": [
        " \r",
        "0704   2.712784e+00   1.000000e+15   1.930184e+00"
       ]
      },
      {
       "output_type": "stream",
       "stream": "stdout",
       "text": [
        " \r",
        "0705   2.712784e+00   1.000000e+15   1.930184e+00"
       ]
      },
      {
       "output_type": "stream",
       "stream": "stdout",
       "text": [
        " \r",
        "0706   2.712784e+00   1.000000e+15   1.930184e+00"
       ]
      },
      {
       "output_type": "stream",
       "stream": "stdout",
       "text": [
        " \r",
        "0707   2.712784e+00   1.000000e+15   1.930184e+00"
       ]
      },
      {
       "output_type": "stream",
       "stream": "stdout",
       "text": [
        " \r",
        "0708   2.712784e+00   1.000000e+15   1.930184e+00"
       ]
      },
      {
       "output_type": "stream",
       "stream": "stdout",
       "text": [
        " \r",
        "0709   2.712784e+00   1.000000e+15   1.930184e+00"
       ]
      },
      {
       "output_type": "stream",
       "stream": "stdout",
       "text": [
        " \r",
        "0710   2.712784e+00   1.000000e+15   1.930184e+00"
       ]
      },
      {
       "output_type": "stream",
       "stream": "stdout",
       "text": [
        " \r",
        "0711   2.712784e+00   1.000000e+15   1.930184e+00"
       ]
      },
      {
       "output_type": "stream",
       "stream": "stdout",
       "text": [
        " \r",
        "0712   2.712784e+00   1.000000e+15   1.930184e+00"
       ]
      },
      {
       "output_type": "stream",
       "stream": "stdout",
       "text": [
        " \r",
        "0713   2.712784e+00   1.000000e+15   1.930184e+00"
       ]
      },
      {
       "output_type": "stream",
       "stream": "stdout",
       "text": [
        " \r",
        "0714   2.712784e+00   1.000000e+15   1.930184e+00"
       ]
      },
      {
       "output_type": "stream",
       "stream": "stdout",
       "text": [
        " \r",
        "0715   2.712784e+00   1.000000e+15   1.930184e+00"
       ]
      },
      {
       "output_type": "stream",
       "stream": "stdout",
       "text": [
        " \r",
        "0716   2.712784e+00   1.000000e+15   1.930184e+00"
       ]
      },
      {
       "output_type": "stream",
       "stream": "stdout",
       "text": [
        " \r",
        "0717   2.712784e+00   1.000000e+15   1.930184e+00"
       ]
      },
      {
       "output_type": "stream",
       "stream": "stdout",
       "text": [
        " \r",
        "0718   2.712784e+00   1.000000e+15   1.930184e+00"
       ]
      },
      {
       "output_type": "stream",
       "stream": "stdout",
       "text": [
        " \r",
        "0719   2.712784e+00   1.000000e+15   1.930184e+00"
       ]
      },
      {
       "output_type": "stream",
       "stream": "stdout",
       "text": [
        " \r",
        "0720   2.712784e+00   1.000000e+15   1.930184e+00"
       ]
      },
      {
       "output_type": "stream",
       "stream": "stdout",
       "text": [
        " \r",
        "0721   2.712784e+00   1.000000e+15   1.930184e+00"
       ]
      },
      {
       "output_type": "stream",
       "stream": "stdout",
       "text": [
        " \r",
        "0722   2.712784e+00   1.000000e+15   1.930184e+00"
       ]
      },
      {
       "output_type": "stream",
       "stream": "stdout",
       "text": [
        " \r",
        "0723   2.712784e+00   1.000000e+15   1.930184e+00"
       ]
      },
      {
       "output_type": "stream",
       "stream": "stdout",
       "text": [
        " \r",
        "0724   2.712784e+00   1.000000e+15   1.930184e+00"
       ]
      },
      {
       "output_type": "stream",
       "stream": "stdout",
       "text": [
        " \r",
        "0725   2.712784e+00   1.000000e+15   1.930184e+00"
       ]
      },
      {
       "output_type": "stream",
       "stream": "stdout",
       "text": [
        " \r",
        "0726   2.712784e+00   1.000000e+15   1.930184e+00"
       ]
      },
      {
       "output_type": "stream",
       "stream": "stdout",
       "text": [
        " \r",
        "0727   2.712784e+00   1.000000e+15   1.930184e+00"
       ]
      },
      {
       "output_type": "stream",
       "stream": "stdout",
       "text": [
        " \r",
        "0728   2.712784e+00   1.000000e+15   1.930184e+00"
       ]
      },
      {
       "output_type": "stream",
       "stream": "stdout",
       "text": [
        " \r",
        "0729   2.712784e+00   1.000000e+15   1.930184e+00"
       ]
      },
      {
       "output_type": "stream",
       "stream": "stdout",
       "text": [
        " \r",
        "0730   2.712784e+00   1.000000e+15   1.930184e+00"
       ]
      },
      {
       "output_type": "stream",
       "stream": "stdout",
       "text": [
        " \r",
        "0731   2.712784e+00   1.000000e+15   1.930184e+00"
       ]
      },
      {
       "output_type": "stream",
       "stream": "stdout",
       "text": [
        " \r",
        "0732   2.712784e+00   1.000000e+15   1.930184e+00"
       ]
      },
      {
       "output_type": "stream",
       "stream": "stdout",
       "text": [
        " \r",
        "0733   2.712784e+00   1.000000e+15   1.930184e+00"
       ]
      },
      {
       "output_type": "stream",
       "stream": "stdout",
       "text": [
        " \r",
        "0734   2.712784e+00   1.000000e+15   1.930184e+00"
       ]
      },
      {
       "output_type": "stream",
       "stream": "stdout",
       "text": [
        " \r",
        "0735   2.712784e+00   1.000000e+15   1.930184e+00"
       ]
      },
      {
       "output_type": "stream",
       "stream": "stdout",
       "text": [
        " \r",
        "0736   2.712784e+00   1.000000e+15   1.930184e+00"
       ]
      },
      {
       "output_type": "stream",
       "stream": "stdout",
       "text": [
        " \r",
        "0737   2.712784e+00   1.000000e+15   1.930184e+00"
       ]
      },
      {
       "output_type": "stream",
       "stream": "stdout",
       "text": [
        " \r",
        "0738   2.712784e+00   1.000000e+15   1.930184e+00"
       ]
      },
      {
       "output_type": "stream",
       "stream": "stdout",
       "text": [
        " \r",
        "0739   2.712784e+00   1.000000e+15   1.930184e+00"
       ]
      },
      {
       "output_type": "stream",
       "stream": "stdout",
       "text": [
        " \r",
        "0740   2.712784e+00   1.000000e+15   1.930184e+00"
       ]
      },
      {
       "output_type": "stream",
       "stream": "stdout",
       "text": [
        " \r",
        "0741   2.712784e+00   1.000000e+15   1.930184e+00"
       ]
      },
      {
       "output_type": "stream",
       "stream": "stdout",
       "text": [
        " \r",
        "0742   2.712784e+00   1.000000e+15   1.930184e+00"
       ]
      },
      {
       "output_type": "stream",
       "stream": "stdout",
       "text": [
        " \r",
        "0743   2.712784e+00   1.000000e+15   1.930184e+00"
       ]
      },
      {
       "output_type": "stream",
       "stream": "stdout",
       "text": [
        " \r",
        "0744   2.712784e+00   1.000000e+15   1.930184e+00"
       ]
      },
      {
       "output_type": "stream",
       "stream": "stdout",
       "text": [
        " \r",
        "0745   2.712784e+00   1.000000e+15   1.930184e+00"
       ]
      },
      {
       "output_type": "stream",
       "stream": "stdout",
       "text": [
        " \r",
        "0746   2.712784e+00   1.000000e+15   1.930184e+00"
       ]
      },
      {
       "output_type": "stream",
       "stream": "stdout",
       "text": [
        " \r",
        "0747   2.712784e+00   1.000000e+15   1.930184e+00"
       ]
      },
      {
       "output_type": "stream",
       "stream": "stdout",
       "text": [
        " \r",
        "0748   2.712784e+00   1.000000e+15   1.930184e+00"
       ]
      },
      {
       "output_type": "stream",
       "stream": "stdout",
       "text": [
        " \r",
        "0749   2.712784e+00   1.000000e+15   1.930184e+00"
       ]
      },
      {
       "output_type": "stream",
       "stream": "stdout",
       "text": [
        " \r",
        "0750   2.712784e+00   1.000000e+15   1.930184e+00"
       ]
      },
      {
       "output_type": "stream",
       "stream": "stdout",
       "text": [
        " \r",
        "0751   2.712784e+00   1.000000e+15   1.930184e+00"
       ]
      },
      {
       "output_type": "stream",
       "stream": "stdout",
       "text": [
        " \r",
        "0752   2.712784e+00   1.000000e+15   1.930184e+00"
       ]
      },
      {
       "output_type": "stream",
       "stream": "stdout",
       "text": [
        " \r",
        "0753   2.712784e+00   1.000000e+15   1.930184e+00"
       ]
      },
      {
       "output_type": "stream",
       "stream": "stdout",
       "text": [
        " \r",
        "0754   2.712784e+00   1.000000e+15   1.930184e+00"
       ]
      },
      {
       "output_type": "stream",
       "stream": "stdout",
       "text": [
        " \r",
        "0755   2.712784e+00   1.000000e+15   1.930184e+00"
       ]
      },
      {
       "output_type": "stream",
       "stream": "stdout",
       "text": [
        " \r",
        "0756   2.712784e+00   1.000000e+15   1.930184e+00"
       ]
      },
      {
       "output_type": "stream",
       "stream": "stdout",
       "text": [
        " \r",
        "0757   2.712784e+00   1.000000e+15   1.930184e+00"
       ]
      },
      {
       "output_type": "stream",
       "stream": "stdout",
       "text": [
        " \r",
        "0758   2.712784e+00   1.000000e+15   1.930184e+00"
       ]
      },
      {
       "output_type": "stream",
       "stream": "stdout",
       "text": [
        " \r",
        "0759   2.712784e+00   1.000000e+15   1.930184e+00"
       ]
      },
      {
       "output_type": "stream",
       "stream": "stdout",
       "text": [
        " \r",
        "0760   2.712784e+00   1.000000e+15   1.930184e+00"
       ]
      },
      {
       "output_type": "stream",
       "stream": "stdout",
       "text": [
        " \r",
        "0761   2.712784e+00   1.000000e+15   1.930184e+00"
       ]
      },
      {
       "output_type": "stream",
       "stream": "stdout",
       "text": [
        " \r",
        "0762   2.712784e+00   1.000000e+15   1.930184e+00"
       ]
      },
      {
       "output_type": "stream",
       "stream": "stdout",
       "text": [
        " \r",
        "0763   2.712784e+00   1.000000e+15   1.930184e+00"
       ]
      },
      {
       "output_type": "stream",
       "stream": "stdout",
       "text": [
        " \r",
        "0764   2.712784e+00   1.000000e+15   1.930184e+00"
       ]
      },
      {
       "output_type": "stream",
       "stream": "stdout",
       "text": [
        " \r",
        "0765   2.712784e+00   1.000000e+15   1.930184e+00"
       ]
      },
      {
       "output_type": "stream",
       "stream": "stdout",
       "text": [
        " \r",
        "0766   2.712784e+00   1.000000e+15   1.930184e+00"
       ]
      },
      {
       "output_type": "stream",
       "stream": "stdout",
       "text": [
        " \r",
        "0767   2.712784e+00   1.000000e+15   1.930184e+00"
       ]
      },
      {
       "output_type": "stream",
       "stream": "stdout",
       "text": [
        " \r",
        "0768   2.712784e+00   1.000000e+15   1.930184e+00"
       ]
      },
      {
       "output_type": "stream",
       "stream": "stdout",
       "text": [
        " \r",
        "0769   2.712784e+00   1.000000e+15   1.930184e+00"
       ]
      },
      {
       "output_type": "stream",
       "stream": "stdout",
       "text": [
        " \r",
        "0770   2.712784e+00   1.000000e+15   1.930184e+00"
       ]
      },
      {
       "output_type": "stream",
       "stream": "stdout",
       "text": [
        " \r",
        "0771   2.712784e+00   1.000000e+15   1.930184e+00"
       ]
      },
      {
       "output_type": "stream",
       "stream": "stdout",
       "text": [
        " \r",
        "0772   2.712784e+00   1.000000e+15   1.930184e+00"
       ]
      },
      {
       "output_type": "stream",
       "stream": "stdout",
       "text": [
        " \r",
        "0773   2.712784e+00   1.000000e+15   1.930184e+00"
       ]
      },
      {
       "output_type": "stream",
       "stream": "stdout",
       "text": [
        " \r",
        "0774   2.712784e+00   1.000000e+15   1.930184e+00"
       ]
      },
      {
       "output_type": "stream",
       "stream": "stdout",
       "text": [
        " \r",
        "0775   2.712784e+00   1.000000e+15   1.930184e+00"
       ]
      },
      {
       "output_type": "stream",
       "stream": "stdout",
       "text": [
        " \r",
        "0776   2.712784e+00   1.000000e+15   1.930184e+00"
       ]
      },
      {
       "output_type": "stream",
       "stream": "stdout",
       "text": [
        " \r",
        "0777   2.712784e+00   1.000000e+15   1.930184e+00"
       ]
      },
      {
       "output_type": "stream",
       "stream": "stdout",
       "text": [
        " \r",
        "0778   2.712784e+00   1.000000e+15   1.930184e+00"
       ]
      },
      {
       "output_type": "stream",
       "stream": "stdout",
       "text": [
        " \r",
        "0779   2.712784e+00   1.000000e+15   1.930184e+00"
       ]
      },
      {
       "output_type": "stream",
       "stream": "stdout",
       "text": [
        " \r",
        "0780   2.712784e+00   1.000000e+15   1.930184e+00"
       ]
      },
      {
       "output_type": "stream",
       "stream": "stdout",
       "text": [
        " \r",
        "0781   2.712784e+00   1.000000e+15   1.930184e+00"
       ]
      },
      {
       "output_type": "stream",
       "stream": "stdout",
       "text": [
        " \r",
        "0782   2.712784e+00   1.000000e+15   1.930184e+00"
       ]
      },
      {
       "output_type": "stream",
       "stream": "stdout",
       "text": [
        " \r",
        "0783   2.712784e+00   1.000000e+15   1.930184e+00"
       ]
      },
      {
       "output_type": "stream",
       "stream": "stdout",
       "text": [
        " \r",
        "0784   2.712784e+00   1.000000e+15   1.930184e+00"
       ]
      },
      {
       "output_type": "stream",
       "stream": "stdout",
       "text": [
        " \r",
        "0785   2.712784e+00   1.000000e+15   1.930184e+00"
       ]
      },
      {
       "output_type": "stream",
       "stream": "stdout",
       "text": [
        " \r",
        "0786   2.712784e+00   1.000000e+15   1.930184e+00"
       ]
      },
      {
       "output_type": "stream",
       "stream": "stdout",
       "text": [
        " \r",
        "0787   2.712784e+00   1.000000e+15   1.930184e+00"
       ]
      },
      {
       "output_type": "stream",
       "stream": "stdout",
       "text": [
        " \r",
        "0788   2.712784e+00   1.000000e+15   1.930184e+00"
       ]
      },
      {
       "output_type": "stream",
       "stream": "stdout",
       "text": [
        " \r",
        "0789   2.712784e+00   1.000000e+15   1.930184e+00"
       ]
      },
      {
       "output_type": "stream",
       "stream": "stdout",
       "text": [
        " \r",
        "0790   2.712784e+00   1.000000e+15   1.930184e+00"
       ]
      },
      {
       "output_type": "stream",
       "stream": "stdout",
       "text": [
        " \r",
        "0791   2.712784e+00   1.000000e+15   1.930184e+00"
       ]
      },
      {
       "output_type": "stream",
       "stream": "stdout",
       "text": [
        " \r",
        "0792   2.712784e+00   1.000000e+15   1.930184e+00"
       ]
      },
      {
       "output_type": "stream",
       "stream": "stdout",
       "text": [
        " \r",
        "0793   2.712784e+00   1.000000e+15   1.930184e+00"
       ]
      },
      {
       "output_type": "stream",
       "stream": "stdout",
       "text": [
        " \r",
        "0794   2.712784e+00   1.000000e+15   1.930184e+00"
       ]
      },
      {
       "output_type": "stream",
       "stream": "stdout",
       "text": [
        " \r",
        "0795   2.712784e+00   1.000000e+15   1.930184e+00"
       ]
      },
      {
       "output_type": "stream",
       "stream": "stdout",
       "text": [
        " \r",
        "0796   2.712784e+00   1.000000e+15   1.930184e+00"
       ]
      },
      {
       "output_type": "stream",
       "stream": "stdout",
       "text": [
        " \r",
        "0797   2.712784e+00   1.000000e+15   1.930184e+00"
       ]
      },
      {
       "output_type": "stream",
       "stream": "stdout",
       "text": [
        " \r",
        "0798   2.712784e+00   1.000000e+15   1.930184e+00"
       ]
      },
      {
       "output_type": "stream",
       "stream": "stdout",
       "text": [
        " \r",
        "0799   2.712784e+00   1.000000e+15   1.930184e+00"
       ]
      },
      {
       "output_type": "stream",
       "stream": "stdout",
       "text": [
        " \r",
        "0800   2.712784e+00   1.000000e+15   1.930184e+00"
       ]
      },
      {
       "output_type": "stream",
       "stream": "stdout",
       "text": [
        " \r",
        "0801   2.712784e+00   1.000000e+15   1.930184e+00"
       ]
      },
      {
       "output_type": "stream",
       "stream": "stdout",
       "text": [
        " \r",
        "0802   2.712784e+00   1.000000e+15   1.930184e+00"
       ]
      },
      {
       "output_type": "stream",
       "stream": "stdout",
       "text": [
        " \r",
        "0803   2.712784e+00   1.000000e+15   1.930184e+00"
       ]
      },
      {
       "output_type": "stream",
       "stream": "stdout",
       "text": [
        " \r",
        "0804   2.712784e+00   1.000000e+15   1.930184e+00"
       ]
      },
      {
       "output_type": "stream",
       "stream": "stdout",
       "text": [
        " \r",
        "0805   2.712784e+00   1.000000e+15   1.930184e+00"
       ]
      },
      {
       "output_type": "stream",
       "stream": "stdout",
       "text": [
        " \r",
        "0806   2.712784e+00   1.000000e+15   1.930184e+00"
       ]
      },
      {
       "output_type": "stream",
       "stream": "stdout",
       "text": [
        " \r",
        "0807   2.712784e+00   1.000000e+15   1.930184e+00"
       ]
      },
      {
       "output_type": "stream",
       "stream": "stdout",
       "text": [
        " \r",
        "0808   2.712784e+00   1.000000e+15   1.930184e+00"
       ]
      },
      {
       "output_type": "stream",
       "stream": "stdout",
       "text": [
        " \r",
        "0809   2.712784e+00   1.000000e+15   1.930184e+00"
       ]
      },
      {
       "output_type": "stream",
       "stream": "stdout",
       "text": [
        " \r",
        "0810   2.712784e+00   1.000000e+15   1.930184e+00"
       ]
      },
      {
       "output_type": "stream",
       "stream": "stdout",
       "text": [
        " \r",
        "0811   2.712784e+00   1.000000e+15   1.930184e+00"
       ]
      },
      {
       "output_type": "stream",
       "stream": "stdout",
       "text": [
        " \r",
        "0812   2.712784e+00   1.000000e+15   1.930184e+00"
       ]
      },
      {
       "output_type": "stream",
       "stream": "stdout",
       "text": [
        " \r",
        "0813   2.712784e+00   1.000000e+15   1.930184e+00"
       ]
      },
      {
       "output_type": "stream",
       "stream": "stdout",
       "text": [
        " \r",
        "0814   2.712784e+00   1.000000e+15   1.930184e+00"
       ]
      },
      {
       "output_type": "stream",
       "stream": "stdout",
       "text": [
        " \r",
        "0815   2.712784e+00   1.000000e+15   1.930184e+00"
       ]
      },
      {
       "output_type": "stream",
       "stream": "stdout",
       "text": [
        " \r",
        "0816   2.712784e+00   1.000000e+15   1.930184e+00"
       ]
      },
      {
       "output_type": "stream",
       "stream": "stdout",
       "text": [
        " \r",
        "0817   2.712784e+00   1.000000e+15   1.930184e+00"
       ]
      },
      {
       "output_type": "stream",
       "stream": "stdout",
       "text": [
        " \r",
        "0818   2.712784e+00   1.000000e+15   1.930184e+00"
       ]
      },
      {
       "output_type": "stream",
       "stream": "stdout",
       "text": [
        " \r",
        "0819   2.712784e+00   1.000000e+15   1.930184e+00"
       ]
      },
      {
       "output_type": "stream",
       "stream": "stdout",
       "text": [
        " \r",
        "0820   2.712784e+00   1.000000e+15   1.930184e+00"
       ]
      },
      {
       "output_type": "stream",
       "stream": "stdout",
       "text": [
        " \r",
        "0821   2.712784e+00   1.000000e+15   1.930184e+00"
       ]
      },
      {
       "output_type": "stream",
       "stream": "stdout",
       "text": [
        " \r",
        "0822   2.712784e+00   1.000000e+15   1.930184e+00"
       ]
      },
      {
       "output_type": "stream",
       "stream": "stdout",
       "text": [
        " \r",
        "0823   2.712784e+00   1.000000e+15   1.930184e+00"
       ]
      },
      {
       "output_type": "stream",
       "stream": "stdout",
       "text": [
        " \r",
        "0824   2.712784e+00   1.000000e+15   1.930184e+00"
       ]
      },
      {
       "output_type": "stream",
       "stream": "stdout",
       "text": [
        " \r",
        "0825   2.712784e+00   1.000000e+15   1.930184e+00"
       ]
      },
      {
       "output_type": "stream",
       "stream": "stdout",
       "text": [
        " \r",
        "0826   2.712784e+00   1.000000e+15   1.930184e+00"
       ]
      },
      {
       "output_type": "stream",
       "stream": "stdout",
       "text": [
        " \r",
        "0827   2.712784e+00   1.000000e+15   1.930184e+00"
       ]
      },
      {
       "output_type": "stream",
       "stream": "stdout",
       "text": [
        " \r",
        "0828   2.712784e+00   1.000000e+15   1.930184e+00"
       ]
      },
      {
       "output_type": "stream",
       "stream": "stdout",
       "text": [
        " \r",
        "0829   2.712784e+00   1.000000e+15   1.930184e+00"
       ]
      },
      {
       "output_type": "stream",
       "stream": "stdout",
       "text": [
        " \r",
        "0830   2.712784e+00   1.000000e+15   1.930184e+00"
       ]
      },
      {
       "output_type": "stream",
       "stream": "stdout",
       "text": [
        " \r",
        "0831   2.712784e+00   1.000000e+15   1.930184e+00"
       ]
      },
      {
       "output_type": "stream",
       "stream": "stdout",
       "text": [
        " \r",
        "0832   2.712784e+00   1.000000e+15   1.930184e+00"
       ]
      },
      {
       "output_type": "stream",
       "stream": "stdout",
       "text": [
        " \r",
        "0833   2.712784e+00   1.000000e+15   1.930184e+00"
       ]
      },
      {
       "output_type": "stream",
       "stream": "stdout",
       "text": [
        " \r",
        "0834   2.712784e+00   1.000000e+15   1.930184e+00"
       ]
      },
      {
       "output_type": "stream",
       "stream": "stdout",
       "text": [
        " \r",
        "0835   2.712784e+00   1.000000e+15   1.930184e+00"
       ]
      },
      {
       "output_type": "stream",
       "stream": "stdout",
       "text": [
        " \r",
        "0836   2.712784e+00   1.000000e+15   1.930184e+00"
       ]
      },
      {
       "output_type": "stream",
       "stream": "stdout",
       "text": [
        " \r",
        "0837   2.712784e+00   1.000000e+15   1.930184e+00"
       ]
      },
      {
       "output_type": "stream",
       "stream": "stdout",
       "text": [
        " \r",
        "0838   2.712784e+00   1.000000e+15   1.930184e+00"
       ]
      },
      {
       "output_type": "stream",
       "stream": "stdout",
       "text": [
        " \r",
        "0839   2.712784e+00   1.000000e+15   1.930184e+00"
       ]
      },
      {
       "output_type": "stream",
       "stream": "stdout",
       "text": [
        " \r",
        "0840   2.712784e+00   1.000000e+15   1.930184e+00"
       ]
      },
      {
       "output_type": "stream",
       "stream": "stdout",
       "text": [
        " \r",
        "0841   2.712784e+00   1.000000e+15   1.930184e+00"
       ]
      },
      {
       "output_type": "stream",
       "stream": "stdout",
       "text": [
        " \r",
        "0842   2.712784e+00   1.000000e+15   1.930184e+00"
       ]
      },
      {
       "output_type": "stream",
       "stream": "stdout",
       "text": [
        " \r",
        "0843   2.712784e+00   1.000000e+15   1.930184e+00"
       ]
      },
      {
       "output_type": "stream",
       "stream": "stdout",
       "text": [
        " \r",
        "0844   2.712784e+00   1.000000e+15   1.930184e+00"
       ]
      },
      {
       "output_type": "stream",
       "stream": "stdout",
       "text": [
        " \r",
        "0845   2.712784e+00   1.000000e+15   1.930184e+00"
       ]
      },
      {
       "output_type": "stream",
       "stream": "stdout",
       "text": [
        " \r",
        "0846   2.712784e+00   1.000000e+15   1.930184e+00"
       ]
      },
      {
       "output_type": "stream",
       "stream": "stdout",
       "text": [
        " \r",
        "0847   2.712784e+00   1.000000e+15   1.930184e+00"
       ]
      },
      {
       "output_type": "stream",
       "stream": "stdout",
       "text": [
        " \r",
        "0848   2.712784e+00   1.000000e+15   1.930184e+00"
       ]
      },
      {
       "output_type": "stream",
       "stream": "stdout",
       "text": [
        " \r",
        "0849   2.712784e+00   1.000000e+15   1.930184e+00"
       ]
      },
      {
       "output_type": "stream",
       "stream": "stdout",
       "text": [
        " \r",
        "0850   2.712784e+00   1.000000e+15   1.930184e+00"
       ]
      },
      {
       "output_type": "stream",
       "stream": "stdout",
       "text": [
        " \r",
        "0851   2.712784e+00   1.000000e+15   1.930184e+00"
       ]
      },
      {
       "output_type": "stream",
       "stream": "stdout",
       "text": [
        " \r",
        "0852   2.712784e+00   1.000000e+15   1.930184e+00"
       ]
      },
      {
       "output_type": "stream",
       "stream": "stdout",
       "text": [
        " \r",
        "0853   2.712784e+00   1.000000e+15   1.930184e+00"
       ]
      },
      {
       "output_type": "stream",
       "stream": "stdout",
       "text": [
        " \r",
        "0854   2.712784e+00   1.000000e+15   1.930184e+00"
       ]
      },
      {
       "output_type": "stream",
       "stream": "stdout",
       "text": [
        " \r",
        "0855   2.712784e+00   1.000000e+15   1.930184e+00"
       ]
      },
      {
       "output_type": "stream",
       "stream": "stdout",
       "text": [
        " \r",
        "0856   2.712784e+00   1.000000e+15   1.930184e+00"
       ]
      },
      {
       "output_type": "stream",
       "stream": "stdout",
       "text": [
        " \r",
        "0857   2.712784e+00   1.000000e+15   1.930184e+00"
       ]
      },
      {
       "output_type": "stream",
       "stream": "stdout",
       "text": [
        " \r",
        "0858   2.712784e+00   1.000000e+15   1.930184e+00"
       ]
      },
      {
       "output_type": "stream",
       "stream": "stdout",
       "text": [
        " \r",
        "0859   2.712784e+00   1.000000e+15   1.930184e+00"
       ]
      },
      {
       "output_type": "stream",
       "stream": "stdout",
       "text": [
        " \r",
        "0860   2.712784e+00   1.000000e+15   1.930184e+00"
       ]
      },
      {
       "output_type": "stream",
       "stream": "stdout",
       "text": [
        " \r",
        "0861   2.712784e+00   1.000000e+15   1.930184e+00"
       ]
      },
      {
       "output_type": "stream",
       "stream": "stdout",
       "text": [
        " \r",
        "0862   2.712784e+00   1.000000e+15   1.930184e+00"
       ]
      },
      {
       "output_type": "stream",
       "stream": "stdout",
       "text": [
        " \r",
        "0863   2.712784e+00   1.000000e+15   1.930184e+00"
       ]
      },
      {
       "output_type": "stream",
       "stream": "stdout",
       "text": [
        " \r",
        "0864   2.712784e+00   1.000000e+15   1.930184e+00"
       ]
      },
      {
       "output_type": "stream",
       "stream": "stdout",
       "text": [
        " \r",
        "0865   2.712784e+00   1.000000e+15   1.930184e+00"
       ]
      },
      {
       "output_type": "stream",
       "stream": "stdout",
       "text": [
        " \r",
        "0866   2.712784e+00   1.000000e+15   1.930184e+00"
       ]
      },
      {
       "output_type": "stream",
       "stream": "stdout",
       "text": [
        " \r",
        "0867   2.712784e+00   1.000000e+15   1.930184e+00"
       ]
      },
      {
       "output_type": "stream",
       "stream": "stdout",
       "text": [
        " \r",
        "0868   2.712784e+00   1.000000e+15   1.930184e+00"
       ]
      },
      {
       "output_type": "stream",
       "stream": "stdout",
       "text": [
        " \r",
        "0869   2.712784e+00   1.000000e+15   1.930184e+00"
       ]
      },
      {
       "output_type": "stream",
       "stream": "stdout",
       "text": [
        " \r",
        "0870   2.712784e+00   1.000000e+15   1.930184e+00"
       ]
      },
      {
       "output_type": "stream",
       "stream": "stdout",
       "text": [
        " \r",
        "0871   2.712784e+00   1.000000e+15   1.930184e+00"
       ]
      },
      {
       "output_type": "stream",
       "stream": "stdout",
       "text": [
        " \r",
        "0872   2.712784e+00   1.000000e+15   1.930184e+00"
       ]
      },
      {
       "output_type": "stream",
       "stream": "stdout",
       "text": [
        " \r",
        "0873   2.712784e+00   1.000000e+15   1.930184e+00"
       ]
      },
      {
       "output_type": "stream",
       "stream": "stdout",
       "text": [
        " \r",
        "0874   2.712784e+00   1.000000e+15   1.930184e+00"
       ]
      },
      {
       "output_type": "stream",
       "stream": "stdout",
       "text": [
        " \r",
        "0875   2.712784e+00   1.000000e+15   1.930184e+00"
       ]
      },
      {
       "output_type": "stream",
       "stream": "stdout",
       "text": [
        " \r",
        "0876   2.712784e+00   1.000000e+15   1.930184e+00"
       ]
      },
      {
       "output_type": "stream",
       "stream": "stdout",
       "text": [
        " \r",
        "0877   2.712784e+00   1.000000e+15   1.930184e+00"
       ]
      },
      {
       "output_type": "stream",
       "stream": "stdout",
       "text": [
        " \r",
        "0878   2.712784e+00   1.000000e+15   1.930184e+00"
       ]
      },
      {
       "output_type": "stream",
       "stream": "stdout",
       "text": [
        " \r",
        "0879   2.712784e+00   1.000000e+15   1.930184e+00"
       ]
      },
      {
       "output_type": "stream",
       "stream": "stdout",
       "text": [
        " \r",
        "0880   2.712784e+00   1.000000e+15   1.930184e+00"
       ]
      },
      {
       "output_type": "stream",
       "stream": "stdout",
       "text": [
        " \r",
        "0881   2.712784e+00   1.000000e+15   1.930184e+00"
       ]
      },
      {
       "output_type": "stream",
       "stream": "stdout",
       "text": [
        " \r",
        "0882   2.712784e+00   1.000000e+15   1.930184e+00"
       ]
      },
      {
       "output_type": "stream",
       "stream": "stdout",
       "text": [
        " \r",
        "0883   2.712784e+00   1.000000e+15   1.930184e+00"
       ]
      },
      {
       "output_type": "stream",
       "stream": "stdout",
       "text": [
        " \r",
        "0884   2.712784e+00   1.000000e+15   1.930184e+00"
       ]
      },
      {
       "output_type": "stream",
       "stream": "stdout",
       "text": [
        " \r",
        "0885   2.712784e+00   1.000000e+15   1.930184e+00"
       ]
      },
      {
       "output_type": "stream",
       "stream": "stdout",
       "text": [
        " \r",
        "0886   2.712784e+00   1.000000e+15   1.930184e+00"
       ]
      },
      {
       "output_type": "stream",
       "stream": "stdout",
       "text": [
        " \r",
        "0887   2.712784e+00   1.000000e+15   1.930184e+00"
       ]
      },
      {
       "output_type": "stream",
       "stream": "stdout",
       "text": [
        " \r",
        "0888   2.712784e+00   1.000000e+15   1.930184e+00"
       ]
      },
      {
       "output_type": "stream",
       "stream": "stdout",
       "text": [
        " \r",
        "0889   2.712784e+00   1.000000e+15   1.930184e+00"
       ]
      },
      {
       "output_type": "stream",
       "stream": "stdout",
       "text": [
        " \r",
        "0890   2.712784e+00   1.000000e+15   1.930184e+00"
       ]
      },
      {
       "output_type": "stream",
       "stream": "stdout",
       "text": [
        " \r",
        "0891   2.712784e+00   1.000000e+15   1.930184e+00"
       ]
      },
      {
       "output_type": "stream",
       "stream": "stdout",
       "text": [
        " \r",
        "0892   2.712784e+00   1.000000e+15   1.930184e+00"
       ]
      },
      {
       "output_type": "stream",
       "stream": "stdout",
       "text": [
        " \r",
        "0893   2.712784e+00   1.000000e+15   1.930184e+00"
       ]
      },
      {
       "output_type": "stream",
       "stream": "stdout",
       "text": [
        " \r",
        "0894   2.712784e+00   1.000000e+15   1.930184e+00"
       ]
      },
      {
       "output_type": "stream",
       "stream": "stdout",
       "text": [
        " \r",
        "0895   2.712784e+00   1.000000e+15   1.930184e+00"
       ]
      },
      {
       "output_type": "stream",
       "stream": "stdout",
       "text": [
        " \r",
        "0896   2.712784e+00   1.000000e+15   1.930184e+00"
       ]
      },
      {
       "output_type": "stream",
       "stream": "stdout",
       "text": [
        " \r",
        "0897   2.712784e+00   1.000000e+15   1.930184e+00"
       ]
      },
      {
       "output_type": "stream",
       "stream": "stdout",
       "text": [
        " \r",
        "0898   2.712784e+00   1.000000e+15   1.930184e+00"
       ]
      },
      {
       "output_type": "stream",
       "stream": "stdout",
       "text": [
        " \r",
        "0899   2.712784e+00   1.000000e+15   1.930184e+00"
       ]
      },
      {
       "output_type": "stream",
       "stream": "stdout",
       "text": [
        " \r",
        "0900   2.712784e+00   1.000000e+15   1.930184e+00"
       ]
      },
      {
       "output_type": "stream",
       "stream": "stdout",
       "text": [
        " \r",
        "0901   2.712784e+00   1.000000e+15   1.930184e+00"
       ]
      },
      {
       "output_type": "stream",
       "stream": "stdout",
       "text": [
        " \r",
        "0902   2.712784e+00   1.000000e+15   1.930184e+00"
       ]
      },
      {
       "output_type": "stream",
       "stream": "stdout",
       "text": [
        " \r",
        "0903   2.712784e+00   1.000000e+15   1.930184e+00"
       ]
      },
      {
       "output_type": "stream",
       "stream": "stdout",
       "text": [
        " \r",
        "0904   2.712784e+00   1.000000e+15   1.930184e+00"
       ]
      },
      {
       "output_type": "stream",
       "stream": "stdout",
       "text": [
        " \r",
        "0905   2.712784e+00   1.000000e+15   1.930184e+00"
       ]
      },
      {
       "output_type": "stream",
       "stream": "stdout",
       "text": [
        " \r",
        "0906   2.712784e+00   1.000000e+15   1.930184e+00"
       ]
      },
      {
       "output_type": "stream",
       "stream": "stdout",
       "text": [
        " \r",
        "0907   2.712784e+00   1.000000e+15   1.930184e+00"
       ]
      },
      {
       "output_type": "stream",
       "stream": "stdout",
       "text": [
        " \r",
        "0908   2.712784e+00   1.000000e+15   1.930184e+00"
       ]
      },
      {
       "output_type": "stream",
       "stream": "stdout",
       "text": [
        " \r",
        "0909   2.712784e+00   1.000000e+15   1.930184e+00"
       ]
      },
      {
       "output_type": "stream",
       "stream": "stdout",
       "text": [
        " \r",
        "0910   2.712784e+00   1.000000e+15   1.930184e+00"
       ]
      },
      {
       "output_type": "stream",
       "stream": "stdout",
       "text": [
        " \r",
        "0911   2.712784e+00   1.000000e+15   1.930184e+00"
       ]
      },
      {
       "output_type": "stream",
       "stream": "stdout",
       "text": [
        " \r",
        "0912   2.712784e+00   1.000000e+15   1.930184e+00"
       ]
      },
      {
       "output_type": "stream",
       "stream": "stdout",
       "text": [
        " \r",
        "0913   2.712784e+00   1.000000e+15   1.930184e+00"
       ]
      },
      {
       "output_type": "stream",
       "stream": "stdout",
       "text": [
        " \r",
        "0914   2.712784e+00   1.000000e+15   1.930184e+00"
       ]
      },
      {
       "output_type": "stream",
       "stream": "stdout",
       "text": [
        " \r",
        "0915   2.712784e+00   1.000000e+15   1.930184e+00"
       ]
      },
      {
       "output_type": "stream",
       "stream": "stdout",
       "text": [
        " \r",
        "0916   2.712784e+00   1.000000e+15   1.930184e+00"
       ]
      },
      {
       "output_type": "stream",
       "stream": "stdout",
       "text": [
        " \r",
        "0917   2.712784e+00   1.000000e+15   1.930184e+00"
       ]
      },
      {
       "output_type": "stream",
       "stream": "stdout",
       "text": [
        " \r",
        "0918   2.712784e+00   1.000000e+15   1.930184e+00"
       ]
      },
      {
       "output_type": "stream",
       "stream": "stdout",
       "text": [
        " \r",
        "0919   2.712784e+00   1.000000e+15   1.930184e+00"
       ]
      },
      {
       "output_type": "stream",
       "stream": "stdout",
       "text": [
        " \r",
        "0920   2.712784e+00   1.000000e+15   1.930184e+00"
       ]
      },
      {
       "output_type": "stream",
       "stream": "stdout",
       "text": [
        " \r",
        "0921   2.712784e+00   1.000000e+15   1.930184e+00"
       ]
      },
      {
       "output_type": "stream",
       "stream": "stdout",
       "text": [
        " \r",
        "0922   2.712784e+00   1.000000e+15   1.930184e+00"
       ]
      },
      {
       "output_type": "stream",
       "stream": "stdout",
       "text": [
        " \r",
        "0923   2.712784e+00   1.000000e+15   1.930184e+00"
       ]
      },
      {
       "output_type": "stream",
       "stream": "stdout",
       "text": [
        " \r",
        "0924   2.712784e+00   1.000000e+15   1.930184e+00"
       ]
      },
      {
       "output_type": "stream",
       "stream": "stdout",
       "text": [
        " \r",
        "0925   2.712784e+00   1.000000e+15   1.930184e+00"
       ]
      },
      {
       "output_type": "stream",
       "stream": "stdout",
       "text": [
        " \r",
        "0926   2.712784e+00   1.000000e+15   1.930184e+00"
       ]
      },
      {
       "output_type": "stream",
       "stream": "stdout",
       "text": [
        " \r",
        "0927   2.712784e+00   1.000000e+15   1.930184e+00"
       ]
      },
      {
       "output_type": "stream",
       "stream": "stdout",
       "text": [
        " \r",
        "0928   2.712784e+00   1.000000e+15   1.930184e+00"
       ]
      },
      {
       "output_type": "stream",
       "stream": "stdout",
       "text": [
        " \r",
        "0929   2.712784e+00   1.000000e+15   1.930184e+00"
       ]
      },
      {
       "output_type": "stream",
       "stream": "stdout",
       "text": [
        " \r",
        "0930   2.712784e+00   1.000000e+15   1.930184e+00"
       ]
      },
      {
       "output_type": "stream",
       "stream": "stdout",
       "text": [
        " \r",
        "0931   2.712784e+00   1.000000e+15   1.930184e+00"
       ]
      },
      {
       "output_type": "stream",
       "stream": "stdout",
       "text": [
        " \r",
        "0932   2.712784e+00   1.000000e+15   1.930184e+00"
       ]
      },
      {
       "output_type": "stream",
       "stream": "stdout",
       "text": [
        " \r",
        "0933   2.712784e+00   1.000000e+15   1.930184e+00"
       ]
      },
      {
       "output_type": "stream",
       "stream": "stdout",
       "text": [
        " \r",
        "0934   2.712784e+00   1.000000e+15   1.930184e+00"
       ]
      },
      {
       "output_type": "stream",
       "stream": "stdout",
       "text": [
        " \r",
        "0935   2.712784e+00   1.000000e+15   1.930184e+00"
       ]
      },
      {
       "output_type": "stream",
       "stream": "stdout",
       "text": [
        " \r",
        "0936   2.712784e+00   1.000000e+15   1.930184e+00"
       ]
      },
      {
       "output_type": "stream",
       "stream": "stdout",
       "text": [
        " \r",
        "0937   2.712784e+00   1.000000e+15   1.930184e+00"
       ]
      },
      {
       "output_type": "stream",
       "stream": "stdout",
       "text": [
        " \r",
        "0938   2.712784e+00   1.000000e+15   1.930184e+00"
       ]
      },
      {
       "output_type": "stream",
       "stream": "stdout",
       "text": [
        " \r",
        "0939   2.712784e+00   1.000000e+15   1.930184e+00"
       ]
      },
      {
       "output_type": "stream",
       "stream": "stdout",
       "text": [
        " \r",
        "0940   2.712784e+00   1.000000e+15   1.930184e+00"
       ]
      },
      {
       "output_type": "stream",
       "stream": "stdout",
       "text": [
        " \r",
        "0941   2.712784e+00   1.000000e+15   1.930184e+00"
       ]
      },
      {
       "output_type": "stream",
       "stream": "stdout",
       "text": [
        " \r",
        "0942   2.712784e+00   1.000000e+15   1.930184e+00"
       ]
      },
      {
       "output_type": "stream",
       "stream": "stdout",
       "text": [
        " \r",
        "0943   2.712784e+00   1.000000e+15   1.930184e+00"
       ]
      },
      {
       "output_type": "stream",
       "stream": "stdout",
       "text": [
        " \r",
        "0944   2.712784e+00   1.000000e+15   1.930184e+00"
       ]
      },
      {
       "output_type": "stream",
       "stream": "stdout",
       "text": [
        " \r",
        "0945   2.712784e+00   1.000000e+15   1.930184e+00"
       ]
      },
      {
       "output_type": "stream",
       "stream": "stdout",
       "text": [
        " \r",
        "0946   2.712784e+00   1.000000e+15   1.930184e+00"
       ]
      },
      {
       "output_type": "stream",
       "stream": "stdout",
       "text": [
        " \r",
        "0947   2.712784e+00   1.000000e+15   1.930184e+00"
       ]
      },
      {
       "output_type": "stream",
       "stream": "stdout",
       "text": [
        " \r",
        "0948   2.712784e+00   1.000000e+15   1.930184e+00"
       ]
      },
      {
       "output_type": "stream",
       "stream": "stdout",
       "text": [
        " \r",
        "0949   2.712784e+00   1.000000e+15   1.930184e+00"
       ]
      },
      {
       "output_type": "stream",
       "stream": "stdout",
       "text": [
        " \r",
        "0950   2.712784e+00   1.000000e+15   1.930184e+00"
       ]
      },
      {
       "output_type": "stream",
       "stream": "stdout",
       "text": [
        " \r",
        "0951   2.712784e+00   1.000000e+15   1.930184e+00"
       ]
      },
      {
       "output_type": "stream",
       "stream": "stdout",
       "text": [
        " \r",
        "0952   2.712784e+00   1.000000e+15   1.930184e+00"
       ]
      },
      {
       "output_type": "stream",
       "stream": "stdout",
       "text": [
        " \r",
        "0953   2.712784e+00   1.000000e+15   1.930184e+00"
       ]
      },
      {
       "output_type": "stream",
       "stream": "stdout",
       "text": [
        " \r",
        "0954   2.712784e+00   1.000000e+15   1.930184e+00"
       ]
      },
      {
       "output_type": "stream",
       "stream": "stdout",
       "text": [
        " \r",
        "0955   2.712784e+00   1.000000e+15   1.930184e+00"
       ]
      },
      {
       "output_type": "stream",
       "stream": "stdout",
       "text": [
        " \r",
        "0956   2.712784e+00   1.000000e+15   1.930184e+00"
       ]
      },
      {
       "output_type": "stream",
       "stream": "stdout",
       "text": [
        " \r",
        "0957   2.712784e+00   1.000000e+15   1.930184e+00"
       ]
      },
      {
       "output_type": "stream",
       "stream": "stdout",
       "text": [
        " \r",
        "0958   2.712784e+00   1.000000e+15   1.930184e+00"
       ]
      },
      {
       "output_type": "stream",
       "stream": "stdout",
       "text": [
        " \r",
        "0959   2.712784e+00   1.000000e+15   1.930184e+00"
       ]
      },
      {
       "output_type": "stream",
       "stream": "stdout",
       "text": [
        " \r",
        "0960   2.712784e+00   1.000000e+15   1.930184e+00"
       ]
      },
      {
       "output_type": "stream",
       "stream": "stdout",
       "text": [
        " \r",
        "0961   2.712784e+00   1.000000e+15   1.930184e+00"
       ]
      },
      {
       "output_type": "stream",
       "stream": "stdout",
       "text": [
        " \r",
        "0962   2.712784e+00   1.000000e+15   1.930184e+00"
       ]
      },
      {
       "output_type": "stream",
       "stream": "stdout",
       "text": [
        " \r",
        "0963   2.712784e+00   1.000000e+15   1.930184e+00"
       ]
      },
      {
       "output_type": "stream",
       "stream": "stdout",
       "text": [
        " \r",
        "0964   2.712784e+00   1.000000e+15   1.930184e+00"
       ]
      },
      {
       "output_type": "stream",
       "stream": "stdout",
       "text": [
        " \r",
        "0965   2.712784e+00   1.000000e+15   1.930184e+00"
       ]
      },
      {
       "output_type": "stream",
       "stream": "stdout",
       "text": [
        " \r",
        "0966   2.712784e+00   1.000000e+15   1.930184e+00"
       ]
      },
      {
       "output_type": "stream",
       "stream": "stdout",
       "text": [
        " \r",
        "0967   2.712784e+00   1.000000e+15   1.930184e+00"
       ]
      },
      {
       "output_type": "stream",
       "stream": "stdout",
       "text": [
        " \r",
        "0968   2.712784e+00   1.000000e+15   1.930184e+00"
       ]
      },
      {
       "output_type": "stream",
       "stream": "stdout",
       "text": [
        " \r",
        "0969   2.712784e+00   1.000000e+15   1.930184e+00"
       ]
      },
      {
       "output_type": "stream",
       "stream": "stdout",
       "text": [
        " \r",
        "0970   2.712784e+00   1.000000e+15   1.930184e+00"
       ]
      },
      {
       "output_type": "stream",
       "stream": "stdout",
       "text": [
        " \r",
        "0971   2.712784e+00   1.000000e+15   1.930184e+00"
       ]
      },
      {
       "output_type": "stream",
       "stream": "stdout",
       "text": [
        " \r",
        "0972   2.712784e+00   1.000000e+15   1.930184e+00"
       ]
      },
      {
       "output_type": "stream",
       "stream": "stdout",
       "text": [
        " \r",
        "0973   2.712784e+00   1.000000e+15   1.930184e+00"
       ]
      },
      {
       "output_type": "stream",
       "stream": "stdout",
       "text": [
        " \r",
        "0974   2.712784e+00   1.000000e+15   1.930184e+00"
       ]
      },
      {
       "output_type": "stream",
       "stream": "stdout",
       "text": [
        " \r",
        "0975   2.712784e+00   1.000000e+15   1.930184e+00"
       ]
      },
      {
       "output_type": "stream",
       "stream": "stdout",
       "text": [
        " \r",
        "0976   2.712784e+00   1.000000e+15   1.930184e+00"
       ]
      },
      {
       "output_type": "stream",
       "stream": "stdout",
       "text": [
        " \r",
        "0977   2.712784e+00   1.000000e+15   1.930184e+00"
       ]
      },
      {
       "output_type": "stream",
       "stream": "stdout",
       "text": [
        " \r",
        "0978   2.712784e+00   1.000000e+15   1.930184e+00"
       ]
      },
      {
       "output_type": "stream",
       "stream": "stdout",
       "text": [
        " \r",
        "0979   2.712784e+00   1.000000e+15   1.930184e+00"
       ]
      },
      {
       "output_type": "stream",
       "stream": "stdout",
       "text": [
        " \r",
        "0980   2.712784e+00   1.000000e+15   1.930184e+00"
       ]
      },
      {
       "output_type": "stream",
       "stream": "stdout",
       "text": [
        " \r",
        "0981   2.712784e+00   1.000000e+15   1.930184e+00"
       ]
      },
      {
       "output_type": "stream",
       "stream": "stdout",
       "text": [
        " \r",
        "0982   2.712784e+00   1.000000e+15   1.930184e+00"
       ]
      },
      {
       "output_type": "stream",
       "stream": "stdout",
       "text": [
        " \r",
        "0983   2.712784e+00   1.000000e+15   1.930184e+00"
       ]
      },
      {
       "output_type": "stream",
       "stream": "stdout",
       "text": [
        " \r",
        "0984   2.712784e+00   1.000000e+15   1.930184e+00"
       ]
      },
      {
       "output_type": "stream",
       "stream": "stdout",
       "text": [
        " \r",
        "0985   2.712784e+00   1.000000e+15   1.930184e+00"
       ]
      },
      {
       "output_type": "stream",
       "stream": "stdout",
       "text": [
        " \r",
        "0986   2.712784e+00   1.000000e+15   1.930184e+00"
       ]
      },
      {
       "output_type": "stream",
       "stream": "stdout",
       "text": [
        " \r",
        "0987   2.712784e+00   1.000000e+15   1.930184e+00"
       ]
      },
      {
       "output_type": "stream",
       "stream": "stdout",
       "text": [
        " \r",
        "0988   2.712784e+00   1.000000e+15   1.930184e+00"
       ]
      },
      {
       "output_type": "stream",
       "stream": "stdout",
       "text": [
        " \r",
        "0989   2.712784e+00   1.000000e+15   1.930184e+00"
       ]
      },
      {
       "output_type": "stream",
       "stream": "stdout",
       "text": [
        " \r",
        "0990   2.712784e+00   1.000000e+15   1.930184e+00"
       ]
      },
      {
       "output_type": "stream",
       "stream": "stdout",
       "text": [
        " \r",
        "0991   2.712784e+00   1.000000e+15   1.930184e+00"
       ]
      },
      {
       "output_type": "stream",
       "stream": "stdout",
       "text": [
        " \r",
        "0992   2.712784e+00   1.000000e+15   1.930184e+00"
       ]
      },
      {
       "output_type": "stream",
       "stream": "stdout",
       "text": [
        " \r",
        "0993   2.712784e+00   1.000000e+15   1.930184e+00"
       ]
      },
      {
       "output_type": "stream",
       "stream": "stdout",
       "text": [
        " \r",
        "0994   2.712784e+00   1.000000e+15   1.930184e+00"
       ]
      },
      {
       "output_type": "stream",
       "stream": "stdout",
       "text": [
        " \r",
        "0995   2.712784e+00   1.000000e+15   1.930184e+00"
       ]
      },
      {
       "output_type": "stream",
       "stream": "stdout",
       "text": [
        " \r",
        "0996   2.712784e+00   1.000000e+15   1.930184e+00"
       ]
      },
      {
       "output_type": "stream",
       "stream": "stdout",
       "text": [
        " \r",
        "0997   2.712784e+00   1.000000e+15   1.930184e+00"
       ]
      },
      {
       "output_type": "stream",
       "stream": "stdout",
       "text": [
        " \r",
        "0998   2.712784e+00   1.000000e+15   1.930184e+00"
       ]
      },
      {
       "output_type": "stream",
       "stream": "stdout",
       "text": [
        " \r",
        "0999   2.712784e+00   1.000000e+15   1.930184e+00"
       ]
      },
      {
       "output_type": "stream",
       "stream": "stdout",
       "text": [
        " \r",
        "1000   2.712784e+00   1.000000e+15   1.930184e+00"
       ]
      },
      {
       "output_type": "stream",
       "stream": "stdout",
       "text": [
        " \r",
        "1000   2.712784e+00   1.000000e+15   1.930184e+00"
       ]
      },
      {
       "output_type": "stream",
       "stream": "stdout",
       "text": [
        " \n",
        "maxiter exceeded\n"
       ]
      },
      {
       "output_type": "stream",
       "stream": "stderr",
       "text": [
        "/Users/neil/SheffieldML/GPy/GPy/inference/latent_function_inference/laplace.py:129: UserWarning: Not perfect f_hat fit difference: 1.13790869726e-05\n",
        "  warnings.warn(\"Not perfect f_hat fit difference: {}\".format(difference))\n"
       ]
      }
     ],
     "prompt_number": 22
    },
    {
     "cell_type": "code",
     "collapsed": false,
     "input": [
      "model1.plot_f()"
     ],
     "language": "python",
     "metadata": {},
     "outputs": [
      {
       "metadata": {},
       "output_type": "display_data",
       "png": "[encoded data removed]",
       "text": [
        "<matplotlib.figure.Figure at 0x10f27d2d0>"
       ]
      }
     ],
     "prompt_number": 24
    },
    {
     "cell_type": "code",
     "collapsed": false,
     "input": [
      "print model1\n",
      "print model2"
     ],
     "language": "python",
     "metadata": {},
     "outputs": [
      {
       "output_type": "stream",
       "stream": "stdout",
       "text": [
        "  gp.                    |       Value        |  Constraint  |  Prior  |  Tied to\n",
        "  \u001b[1madd.trend.variance   \u001b[0;0m  |     3.57570534033  |     +ve      |         |         \n",
        "  \u001b[1madd.trend.lengthscale\u001b[0;0m  |     40.1093043177  |     +ve      |         |         \n",
        "  \u001b[1madd.offset.variance  \u001b[0;0m  |     99.9940115821  |     +ve      |         |         \n",
        "  \u001b[1mStudent_T.t_scale2   \u001b[0;0m  |  0.00852152161471  |     +ve      |         |         \n",
        "  \u001b[1mStudent_T.deg_free   \u001b[0;0m  |               5.0  |    fixed     |         |         \n",
        "  gp.                    |       Value       |  Constraint  |  Prior  |  Tied to\n",
        "  \u001b[1madd.trend.variance   \u001b[0;0m  |    3.68879609382  |     +ve      |         |         \n",
        "  \u001b[1madd.trend.lengthscale\u001b[0;0m  |    40.0758404361  |     +ve      |         |         \n",
        "  \u001b[1madd.offset.variance  \u001b[0;0m  |    99.9953026238  |     +ve      |         |         \n",
        "  \u001b[1mSstudentT.nu         \u001b[0;0m  |    5.31093137934  |     +ve      |         |         \n",
        "  \u001b[1mSstudentT.t_scale2   \u001b[0;0m  |  0.0268506994152  |     +ve      |         |         \n"
       ]
      }
     ],
     "prompt_number": 25
    },
    {
     "cell_type": "code",
     "collapsed": false,
     "input": [
      "model2.checkgrad(verbose=True)"
     ],
     "language": "python",
     "metadata": {},
     "outputs": [
      {
       "output_type": "stream",
       "stream": "stdout",
       "text": [
        "              Name              |     Ratio     |  Difference   |  Analytical   |   Numerical   \n",
        "------------------------------------------------------------------------------------------------\n",
        "\u001b[91m gp.add.trend.variance[0] \u001b[0m      |   -0.845693   |   0.789118    |   0.427546    |   -0.361572   "
       ]
      },
      {
       "output_type": "stream",
       "stream": "stdout",
       "text": [
        "\n",
        "\u001b[91m gp.add.trend.lengthscale[0] \u001b[0m   |  -117.342017  |   16.160052   |   -0.136554   |   16.023498   "
       ]
      },
      {
       "output_type": "stream",
       "stream": "stdout",
       "text": [
        "\n",
        "\u001b[91m gp.add.offset.variance[0] \u001b[0m     |  -577.469379  |   2.440387    |   0.004219    |   -2.436168   "
       ]
      },
      {
       "output_type": "stream",
       "stream": "stderr",
       "text": [
        "/Users/neil/SheffieldML/GPy/GPy/inference/latent_function_inference/laplace.py:129: UserWarning: Not perfect f_hat fit difference: 9.48838633549e-06\n",
        "  warnings.warn(\"Not perfect f_hat fit difference: {}\".format(difference))\n",
        "/Users/neil/SheffieldML/GPy/GPy/inference/latent_function_inference/laplace.py:129: UserWarning: Not perfect f_hat fit difference: 2.73060073677e-06\n",
        "  warnings.warn(\"Not perfect f_hat fit difference: {}\".format(difference))\n"
       ]
      },
      {
       "output_type": "stream",
       "stream": "stdout",
       "text": [
        "\n",
        "\u001b[91m gp.SstudentT.nu[0] \u001b[0m            |   -1.283420   |   0.581245    |   0.254550    |   -0.326695   "
       ]
      },
      {
       "output_type": "stream",
       "stream": "stdout",
       "text": [
        "\n",
        "\u001b[91m gp.SstudentT.t_scale2[0] \u001b[0m      |   -0.729597   |   6.685488    |   3.865345    |   -2.820143   "
       ]
      },
      {
       "output_type": "stream",
       "stream": "stdout",
       "text": [
        "\n"
       ]
      },
      {
       "metadata": {},
       "output_type": "pyout",
       "prompt_number": 26,
       "text": [
        "False"
       ]
      }
     ],
     "prompt_number": 26
    },
    {
     "cell_type": "code",
     "collapsed": false,
     "input": [
      "model1.checkgrad(verbose=True)"
     ],
     "language": "python",
     "metadata": {},
     "outputs": [
      {
       "output_type": "stream",
       "stream": "stdout",
       "text": [
        "              Name              |     Ratio     |  Difference   |  Analytical   |   Numerical   \n",
        "------------------------------------------------------------------------------------------------\n",
        "\u001b[91m gp.add.trend.variance[0] \u001b[0m      |   -4.291667   |   2.288959    |   0.432559    |   -1.856400   "
       ]
      },
      {
       "output_type": "stream",
       "stream": "stderr",
       "text": [
        "/Users/neil/SheffieldML/GPy/GPy/inference/latent_function_inference/laplace.py:129: UserWarning: Not perfect f_hat fit difference: 4.79680360875e-05\n",
        "  warnings.warn(\"Not perfect f_hat fit difference: {}\".format(difference))\n",
        "/Users/neil/SheffieldML/GPy/GPy/inference/latent_function_inference/laplace.py:129: UserWarning: Not perfect f_hat fit difference: 4.11869321802e-05\n",
        "  warnings.warn(\"Not perfect f_hat fit difference: {}\".format(difference))\n"
       ]
      },
      {
       "output_type": "stream",
       "stream": "stdout",
       "text": [
        "\n",
        "\u001b[91m gp.add.trend.lengthscale[0] \u001b[0m   |   12.215969   |   1.394088    |   -0.124295   |   -1.518382   "
       ]
      },
      {
       "output_type": "stream",
       "stream": "stdout",
       "text": [
        "\n",
        "\u001b[91m gp.add.offset.variance[0] \u001b[0m     | -5849.816649  |   25.098513   |   0.004290    |  -25.094223   "
       ]
      },
      {
       "output_type": "stream",
       "stream": "stdout",
       "text": [
        "\n",
        "\u001b[91m gp.Student_T.t_scale2[0] \u001b[0m      |  -24.602668   |   33.652056   |   -1.314396   |   32.337659   "
       ]
      },
      {
       "output_type": "stream",
       "stream": "stdout",
       "text": [
        "\n"
       ]
      },
      {
       "output_type": "stream",
       "stream": "stderr",
       "text": [
        "/Users/neil/SheffieldML/GPy/GPy/inference/latent_function_inference/laplace.py:129: UserWarning: Not perfect f_hat fit difference: 8.08146443257e-05\n",
        "  warnings.warn(\"Not perfect f_hat fit difference: {}\".format(difference))\n"
       ]
      },
      {
       "metadata": {},
       "output_type": "pyout",
       "prompt_number": 27,
       "text": [
        "False"
       ]
      }
     ],
     "prompt_number": 27
    },
    {
     "cell_type": "code",
     "collapsed": false,
     "input": [],
     "language": "python",
     "metadata": {},
     "outputs": [],
     "prompt_number": 16
    },
    {
     "cell_type": "code",
     "collapsed": false,
     "input": [],
     "language": "python",
     "metadata": {},
     "outputs": []
    }
   ],
   "metadata": {}
  }
 ]
}