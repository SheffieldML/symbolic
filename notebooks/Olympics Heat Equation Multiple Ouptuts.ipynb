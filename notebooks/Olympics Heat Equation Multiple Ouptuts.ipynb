{
 "metadata": {
  "name": ""
 },
 "nbformat": 3,
 "nbformat_minor": 0,
 "worksheets": [
  {
   "cells": [
    {
     "cell_type": "markdown",
     "metadata": {},
     "source": [
      "# Olympics Heat Equation Multiple Outputs\n",
      "\n",
      "### April 2014, Neil D. Lawrence"
     ]
    },
    {
     "cell_type": "code",
     "collapsed": false,
     "input": [
      "%pylab inline\n",
      "import GPy.likelihoods\n",
      "import pods\n",
      "import symbolic\n",
      "import sympy as sym\n",
      "sym.init_printing()"
     ],
     "language": "python",
     "metadata": {},
     "outputs": [
      {
       "output_type": "stream",
       "stream": "stdout",
       "text": [
        "Populating the interactive namespace from numpy and matplotlib\n"
       ]
      }
     ],
     "prompt_number": 1
    },
    {
     "cell_type": "code",
     "collapsed": false,
     "input": [
      "def stabilise(expr):\n",
      "    return expr"
     ],
     "language": "python",
     "metadata": {},
     "outputs": [],
     "prompt_number": 2
    },
    {
     "cell_type": "code",
     "collapsed": false,
     "input": [
      "data = pods.datasets.olympic_sprints()\n",
      "X = data['X']\n",
      "y = data['Y']\n",
      "np.zeros((10, 1))\n",
      "plt.plot(y)\n"
     ],
     "language": "python",
     "metadata": {},
     "outputs": [
      {
       "metadata": {},
       "output_type": "pyout",
       "prompt_number": 3,
       "text": [
        "[<matplotlib.lines.Line2D at 0x10ffffd10>]"
       ]
      },
      {
       "metadata": {},
       "output_type": "display_data",
       "png": "[encoded data removed]",
       "text": [
        "<matplotlib.figure.Figure at 0x10ffb9bd0>"
       ]
      }
     ],
     "prompt_number": 3
    },
    {
     "cell_type": "code",
     "collapsed": false,
     "input": [
      "from GPy.util.functions import clip_exp\n",
      "input_dim = 1\n",
      "x = sym.symbols('x_:' + str(input_dim))\n",
      "z = sym.symbols('z_:' + str(input_dim))\n",
      "scale = sym.var('scale_i scale_j',positive=True)\n",
      "lengthscale = sym.var('lengthscale_i lengthscale_j', positive=True)\n",
      "shared_lengthscale = sym.var('shared_lengthscale', positive=True)\n",
      "dist_string = ' + '.join(['(x_%i - z_%i)**2' %(i, i) for i in range(input_dim)])\n",
      "from sympy.parsing.sympy_parser import parse_expr\n",
      "dist = parse_expr(dist_string)\n",
      "f = scale_i*scale_j*sym.exp(-dist/(2*(shared_lengthscale**2 + lengthscale_i*lengthscale_j)))\n",
      "#kern = GPy.kern.Symbolic(input_dim+1, k=f, output_dim=6, name='eq_sympy', func_modules=[])\n",
      "kern = symbolic.kern.Heat_eqinit(input_dim, output_dim=6)"
     ],
     "language": "python",
     "metadata": {},
     "outputs": [],
     "prompt_number": 4
    },
    {
     "cell_type": "code",
     "collapsed": false,
     "input": [
      "print kern\n",
      "kern.K(X)"
     ],
     "language": "python",
     "metadata": {},
     "outputs": [
      {
       "output_type": "stream",
       "stream": "stdout",
       "text": [
        "  Heat_eqinit.        |  Value  |  Constraint  |  Prior  |  Tied to\n",
        "  \u001b[1mlengthscale_i     \u001b[0;0m  |    1.0  |              |         |         \n",
        "  \u001b[1mlengthscale_j     \u001b[0;0m  |    1.0  |              |         |         \n",
        "  \u001b[1mscale_i           \u001b[0;0m  |    1.0  |              |         |         \n",
        "  \u001b[1mscale_j           \u001b[0;0m  |    1.0  |              |         |         \n",
        "  \u001b[1mshared_lengthscale\u001b[0;0m  |    1.0  |              |         |         \n"
       ]
      },
      {
       "ename": "NameError",
       "evalue": "name 'lengthscale_i' is not defined",
       "output_type": "pyerr",
       "traceback": [
        "\u001b[0;31m---------------------------------------------------------------------------\u001b[0m\n\u001b[0;31mNameError\u001b[0m                                 Traceback (most recent call last)",
        "\u001b[0;32m<ipython-input-6-d4c67799b272>\u001b[0m in \u001b[0;36m<module>\u001b[0;34m()\u001b[0m\n\u001b[1;32m      1\u001b[0m \u001b[0;32mprint\u001b[0m \u001b[0mkern\u001b[0m\u001b[0;34m\u001b[0m\u001b[0m\n\u001b[0;32m----> 2\u001b[0;31m \u001b[0mkern\u001b[0m\u001b[0;34m.\u001b[0m\u001b[0mK\u001b[0m\u001b[0;34m(\u001b[0m\u001b[0mX\u001b[0m\u001b[0;34m)\u001b[0m\u001b[0;34m\u001b[0m\u001b[0m\n\u001b[0m",
        "\u001b[0;32m/Users/neil/SheffieldML/GPy/GPy/kern/_src/kernel_slice_operations.pyc\u001b[0m in \u001b[0;36mwrap\u001b[0;34m(self, X, X2, *a, **kw)\u001b[0m\n\u001b[1;32m     63\u001b[0m     \u001b[0;32mdef\u001b[0m \u001b[0mwrap\u001b[0m\u001b[0;34m(\u001b[0m\u001b[0mself\u001b[0m\u001b[0;34m,\u001b[0m \u001b[0mX\u001b[0m\u001b[0;34m,\u001b[0m \u001b[0mX2\u001b[0m \u001b[0;34m=\u001b[0m \u001b[0mNone\u001b[0m\u001b[0;34m,\u001b[0m \u001b[0;34m*\u001b[0m\u001b[0ma\u001b[0m\u001b[0;34m,\u001b[0m \u001b[0;34m**\u001b[0m\u001b[0mkw\u001b[0m\u001b[0;34m)\u001b[0m\u001b[0;34m:\u001b[0m\u001b[0;34m\u001b[0m\u001b[0m\n\u001b[1;32m     64\u001b[0m         \u001b[0;32mwith\u001b[0m \u001b[0m_Slice_wrap\u001b[0m\u001b[0;34m(\u001b[0m\u001b[0mself\u001b[0m\u001b[0;34m,\u001b[0m \u001b[0mX\u001b[0m\u001b[0;34m,\u001b[0m \u001b[0mX2\u001b[0m\u001b[0;34m)\u001b[0m \u001b[0;32mas\u001b[0m \u001b[0ms\u001b[0m\u001b[0;34m:\u001b[0m\u001b[0;34m\u001b[0m\u001b[0m\n\u001b[0;32m---> 65\u001b[0;31m             \u001b[0mret\u001b[0m \u001b[0;34m=\u001b[0m \u001b[0mf\u001b[0m\u001b[0;34m(\u001b[0m\u001b[0mself\u001b[0m\u001b[0;34m,\u001b[0m \u001b[0ms\u001b[0m\u001b[0;34m.\u001b[0m\u001b[0mX\u001b[0m\u001b[0;34m,\u001b[0m \u001b[0ms\u001b[0m\u001b[0;34m.\u001b[0m\u001b[0mX2\u001b[0m\u001b[0;34m,\u001b[0m \u001b[0;34m*\u001b[0m\u001b[0ma\u001b[0m\u001b[0;34m,\u001b[0m \u001b[0;34m**\u001b[0m\u001b[0mkw\u001b[0m\u001b[0;34m)\u001b[0m\u001b[0;34m\u001b[0m\u001b[0m\n\u001b[0m\u001b[1;32m     66\u001b[0m         \u001b[0;32mreturn\u001b[0m \u001b[0mret\u001b[0m\u001b[0;34m\u001b[0m\u001b[0m\n\u001b[1;32m     67\u001b[0m     \u001b[0;32mreturn\u001b[0m \u001b[0mwrap\u001b[0m\u001b[0;34m\u001b[0m\u001b[0m\n",
        "\u001b[0;32m/Users/neil/SheffieldML/symbolic/kern/_src/symbolic.py\u001b[0m in \u001b[0;36mK\u001b[0;34m(self, X, X2)\u001b[0m\n\u001b[1;32m     35\u001b[0m     \u001b[0;32mdef\u001b[0m \u001b[0mK\u001b[0m\u001b[0;34m(\u001b[0m\u001b[0mself\u001b[0m\u001b[0;34m,\u001b[0m\u001b[0mX\u001b[0m\u001b[0;34m,\u001b[0m\u001b[0mX2\u001b[0m\u001b[0;34m=\u001b[0m\u001b[0mNone\u001b[0m\u001b[0;34m)\u001b[0m\u001b[0;34m:\u001b[0m\u001b[0;34m\u001b[0m\u001b[0m\n\u001b[1;32m     36\u001b[0m         \u001b[0;32mif\u001b[0m \u001b[0mX2\u001b[0m \u001b[0;32mis\u001b[0m \u001b[0mNone\u001b[0m\u001b[0;34m:\u001b[0m\u001b[0;34m\u001b[0m\u001b[0m\n\u001b[0;32m---> 37\u001b[0;31m             \u001b[0;32mreturn\u001b[0m \u001b[0mself\u001b[0m\u001b[0;34m.\u001b[0m\u001b[0meval_function\u001b[0m\u001b[0;34m(\u001b[0m\u001b[0;34m'k'\u001b[0m\u001b[0;34m,\u001b[0m \u001b[0mX\u001b[0m\u001b[0;34m=\u001b[0m\u001b[0mX\u001b[0m\u001b[0;34m,\u001b[0m \u001b[0mZ\u001b[0m\u001b[0;34m=\u001b[0m\u001b[0mX\u001b[0m\u001b[0;34m)\u001b[0m\u001b[0;34m\u001b[0m\u001b[0m\n\u001b[0m\u001b[1;32m     38\u001b[0m         \u001b[0;32melse\u001b[0m\u001b[0;34m:\u001b[0m\u001b[0;34m\u001b[0m\u001b[0m\n\u001b[1;32m     39\u001b[0m             \u001b[0;32mreturn\u001b[0m \u001b[0mself\u001b[0m\u001b[0;34m.\u001b[0m\u001b[0meval_function\u001b[0m\u001b[0;34m(\u001b[0m\u001b[0;34m'k'\u001b[0m\u001b[0;34m,\u001b[0m \u001b[0mX\u001b[0m\u001b[0;34m=\u001b[0m\u001b[0mX\u001b[0m\u001b[0;34m,\u001b[0m \u001b[0mZ\u001b[0m\u001b[0;34m=\u001b[0m\u001b[0mX2\u001b[0m\u001b[0;34m)\u001b[0m\u001b[0;34m\u001b[0m\u001b[0m\n",
        "\u001b[0;32m/Users/neil/SheffieldML/symbolic/core/symbolic.pyc\u001b[0m in \u001b[0;36meval_function\u001b[0;34m(self, function, **kwargs)\u001b[0m\n\u001b[1;32m    186\u001b[0m \u001b[0;34m\u001b[0m\u001b[0m\n\u001b[1;32m    187\u001b[0m     \u001b[0;32mdef\u001b[0m \u001b[0meval_function\u001b[0m\u001b[0;34m(\u001b[0m\u001b[0mself\u001b[0m\u001b[0;34m,\u001b[0m \u001b[0mfunction\u001b[0m\u001b[0;34m,\u001b[0m \u001b[0;34m**\u001b[0m\u001b[0mkwargs\u001b[0m\u001b[0;34m)\u001b[0m\u001b[0;34m:\u001b[0m\u001b[0;34m\u001b[0m\u001b[0m\n\u001b[0;32m--> 188\u001b[0;31m         \u001b[0mself\u001b[0m\u001b[0;34m.\u001b[0m\u001b[0meval_update_cache\u001b[0m\u001b[0;34m(\u001b[0m\u001b[0;34m**\u001b[0m\u001b[0mkwargs\u001b[0m\u001b[0;34m)\u001b[0m\u001b[0;34m\u001b[0m\u001b[0m\n\u001b[0m\u001b[1;32m    189\u001b[0m         \u001b[0;32mreturn\u001b[0m \u001b[0meval\u001b[0m\u001b[0;34m(\u001b[0m\u001b[0mself\u001b[0m\u001b[0;34m.\u001b[0m\u001b[0mcode\u001b[0m\u001b[0;34m[\u001b[0m\u001b[0mfunction\u001b[0m\u001b[0;34m]\u001b[0m\u001b[0;34m[\u001b[0m\u001b[0;34m'function'\u001b[0m\u001b[0;34m]\u001b[0m\u001b[0;34m,\u001b[0m \u001b[0mself\u001b[0m\u001b[0;34m.\u001b[0m\u001b[0mnamespace\u001b[0m\u001b[0;34m)\u001b[0m\u001b[0;34m\u001b[0m\u001b[0m\n\u001b[1;32m    190\u001b[0m \u001b[0;34m\u001b[0m\u001b[0m\n",
        "\u001b[0;32m/Users/neil/SheffieldML/symbolic/core/symbolic.pyc\u001b[0m in \u001b[0;36meval_update_cache\u001b[0;34m(self, **kwargs)\u001b[0m\n\u001b[1;32m    141\u001b[0m \u001b[0;34m\u001b[0m\u001b[0m\n\u001b[1;32m    142\u001b[0m         \u001b[0;32mfor\u001b[0m \u001b[0mvar\u001b[0m\u001b[0;34m,\u001b[0m \u001b[0mcode\u001b[0m \u001b[0;32min\u001b[0m \u001b[0mself\u001b[0m\u001b[0;34m.\u001b[0m\u001b[0mvariable_sort\u001b[0m\u001b[0;34m(\u001b[0m\u001b[0mself\u001b[0m\u001b[0;34m.\u001b[0m\u001b[0mcode\u001b[0m\u001b[0;34m[\u001b[0m\u001b[0;34m'parameters_changed'\u001b[0m\u001b[0;34m]\u001b[0m\u001b[0;34m)\u001b[0m\u001b[0;34m:\u001b[0m\u001b[0;34m\u001b[0m\u001b[0m\n\u001b[0;32m--> 143\u001b[0;31m             \u001b[0mself\u001b[0m\u001b[0;34m.\u001b[0m\u001b[0m_set_attribute\u001b[0m\u001b[0;34m(\u001b[0m\u001b[0mvar\u001b[0m\u001b[0;34m,\u001b[0m \u001b[0meval\u001b[0m\u001b[0;34m(\u001b[0m\u001b[0mcode\u001b[0m\u001b[0;34m,\u001b[0m \u001b[0mself\u001b[0m\u001b[0;34m.\u001b[0m\u001b[0mnamespace\u001b[0m\u001b[0;34m)\u001b[0m\u001b[0;34m)\u001b[0m\u001b[0;34m\u001b[0m\u001b[0m\n\u001b[0m\u001b[1;32m    144\u001b[0m \u001b[0;34m\u001b[0m\u001b[0m\n\u001b[1;32m    145\u001b[0m         \u001b[0;32mfor\u001b[0m \u001b[0mvar\u001b[0m\u001b[0;34m,\u001b[0m \u001b[0mvalue\u001b[0m \u001b[0;32min\u001b[0m \u001b[0mkwargs\u001b[0m\u001b[0;34m.\u001b[0m\u001b[0mitems\u001b[0m\u001b[0;34m(\u001b[0m\u001b[0;34m)\u001b[0m\u001b[0;34m:\u001b[0m\u001b[0;34m\u001b[0m\u001b[0m\n",
        "\u001b[0;32m/Users/neil/Library/Enthought/Canopy_64bit/User/lib/python2.7/site-packages/numpy/__init__.pyc\u001b[0m in \u001b[0;36m<module>\u001b[0;34m()\u001b[0m\n",
        "\u001b[0;31mNameError\u001b[0m: name 'lengthscale_i' is not defined"
       ]
      }
     ],
     "prompt_number": 6
    },
    {
     "cell_type": "code",
     "collapsed": false,
     "input": [
      "#kern.K_computations(X)\n",
      "#kern.K(np.random.randn(10, 1))\n",
      "\n",
      "kern.K(X)\n",
      "kern.Kdiag(X)\n",
      "dX = kern.gradients_X(np.ones((X.shape[0], X.shape[0])), X)\n",
      "kern.update_gradients_diag(np.ones(X.shape[0]), X)\n",
      "kern.update_gradients_full(np.ones((X.shape[0], X.shape[0])), X)"
     ],
     "language": "python",
     "metadata": {},
     "outputs": [
      {
       "ename": "NameError",
       "evalue": "name 'lengthscale_i' is not defined",
       "output_type": "pyerr",
       "traceback": [
        "\u001b[0;31m---------------------------------------------------------------------------\u001b[0m\n\u001b[0;31mNameError\u001b[0m                                 Traceback (most recent call last)",
        "\u001b[0;32m<ipython-input-11-ff182f8979ef>\u001b[0m in \u001b[0;36m<module>\u001b[0;34m()\u001b[0m\n\u001b[1;32m      2\u001b[0m \u001b[0;31m#kern.K(np.random.randn(10, 1))\u001b[0m\u001b[0;34m\u001b[0m\u001b[0;34m\u001b[0m\u001b[0m\n\u001b[1;32m      3\u001b[0m \u001b[0;34m\u001b[0m\u001b[0m\n\u001b[0;32m----> 4\u001b[0;31m \u001b[0mkern\u001b[0m\u001b[0;34m.\u001b[0m\u001b[0mK\u001b[0m\u001b[0;34m(\u001b[0m\u001b[0mX\u001b[0m\u001b[0;34m)\u001b[0m\u001b[0;34m\u001b[0m\u001b[0m\n\u001b[0m\u001b[1;32m      5\u001b[0m \u001b[0mkern\u001b[0m\u001b[0;34m.\u001b[0m\u001b[0mKdiag\u001b[0m\u001b[0;34m(\u001b[0m\u001b[0mX\u001b[0m\u001b[0;34m)\u001b[0m\u001b[0;34m\u001b[0m\u001b[0m\n\u001b[1;32m      6\u001b[0m \u001b[0mdX\u001b[0m \u001b[0;34m=\u001b[0m \u001b[0mkern\u001b[0m\u001b[0;34m.\u001b[0m\u001b[0mgradients_X\u001b[0m\u001b[0;34m(\u001b[0m\u001b[0mnp\u001b[0m\u001b[0;34m.\u001b[0m\u001b[0mones\u001b[0m\u001b[0;34m(\u001b[0m\u001b[0;34m(\u001b[0m\u001b[0mX\u001b[0m\u001b[0;34m.\u001b[0m\u001b[0mshape\u001b[0m\u001b[0;34m[\u001b[0m\u001b[0;36m0\u001b[0m\u001b[0;34m]\u001b[0m\u001b[0;34m,\u001b[0m \u001b[0mX\u001b[0m\u001b[0;34m.\u001b[0m\u001b[0mshape\u001b[0m\u001b[0;34m[\u001b[0m\u001b[0;36m0\u001b[0m\u001b[0;34m]\u001b[0m\u001b[0;34m)\u001b[0m\u001b[0;34m)\u001b[0m\u001b[0;34m,\u001b[0m \u001b[0mX\u001b[0m\u001b[0;34m)\u001b[0m\u001b[0;34m\u001b[0m\u001b[0m\n",
        "\u001b[0;32m/Users/neil/SheffieldML/GPy/GPy/kern/_src/kernel_slice_operations.pyc\u001b[0m in \u001b[0;36mwrap\u001b[0;34m(self, X, X2, *a, **kw)\u001b[0m\n\u001b[1;32m     63\u001b[0m     \u001b[0;32mdef\u001b[0m \u001b[0mwrap\u001b[0m\u001b[0;34m(\u001b[0m\u001b[0mself\u001b[0m\u001b[0;34m,\u001b[0m \u001b[0mX\u001b[0m\u001b[0;34m,\u001b[0m \u001b[0mX2\u001b[0m \u001b[0;34m=\u001b[0m \u001b[0mNone\u001b[0m\u001b[0;34m,\u001b[0m \u001b[0;34m*\u001b[0m\u001b[0ma\u001b[0m\u001b[0;34m,\u001b[0m \u001b[0;34m**\u001b[0m\u001b[0mkw\u001b[0m\u001b[0;34m)\u001b[0m\u001b[0;34m:\u001b[0m\u001b[0;34m\u001b[0m\u001b[0m\n\u001b[1;32m     64\u001b[0m         \u001b[0;32mwith\u001b[0m \u001b[0m_Slice_wrap\u001b[0m\u001b[0;34m(\u001b[0m\u001b[0mself\u001b[0m\u001b[0;34m,\u001b[0m \u001b[0mX\u001b[0m\u001b[0;34m,\u001b[0m \u001b[0mX2\u001b[0m\u001b[0;34m)\u001b[0m \u001b[0;32mas\u001b[0m \u001b[0ms\u001b[0m\u001b[0;34m:\u001b[0m\u001b[0;34m\u001b[0m\u001b[0m\n\u001b[0;32m---> 65\u001b[0;31m             \u001b[0mret\u001b[0m \u001b[0;34m=\u001b[0m \u001b[0mf\u001b[0m\u001b[0;34m(\u001b[0m\u001b[0mself\u001b[0m\u001b[0;34m,\u001b[0m \u001b[0ms\u001b[0m\u001b[0;34m.\u001b[0m\u001b[0mX\u001b[0m\u001b[0;34m,\u001b[0m \u001b[0ms\u001b[0m\u001b[0;34m.\u001b[0m\u001b[0mX2\u001b[0m\u001b[0;34m,\u001b[0m \u001b[0;34m*\u001b[0m\u001b[0ma\u001b[0m\u001b[0;34m,\u001b[0m \u001b[0;34m**\u001b[0m\u001b[0mkw\u001b[0m\u001b[0;34m)\u001b[0m\u001b[0;34m\u001b[0m\u001b[0m\n\u001b[0m\u001b[1;32m     66\u001b[0m         \u001b[0;32mreturn\u001b[0m \u001b[0mret\u001b[0m\u001b[0;34m\u001b[0m\u001b[0m\n\u001b[1;32m     67\u001b[0m     \u001b[0;32mreturn\u001b[0m \u001b[0mwrap\u001b[0m\u001b[0;34m\u001b[0m\u001b[0m\n",
        "\u001b[0;32m/Users/neil/SheffieldML/GPy/GPy/kern/_src/symbolic.pyc\u001b[0m in \u001b[0;36mK\u001b[0;34m(self, X, X2)\u001b[0m\n\u001b[1;32m     35\u001b[0m     \u001b[0;32mdef\u001b[0m \u001b[0mK\u001b[0m\u001b[0;34m(\u001b[0m\u001b[0mself\u001b[0m\u001b[0;34m,\u001b[0m\u001b[0mX\u001b[0m\u001b[0;34m,\u001b[0m\u001b[0mX2\u001b[0m\u001b[0;34m=\u001b[0m\u001b[0mNone\u001b[0m\u001b[0;34m)\u001b[0m\u001b[0;34m:\u001b[0m\u001b[0;34m\u001b[0m\u001b[0m\n\u001b[1;32m     36\u001b[0m         \u001b[0;32mif\u001b[0m \u001b[0mX2\u001b[0m \u001b[0;32mis\u001b[0m \u001b[0mNone\u001b[0m\u001b[0;34m:\u001b[0m\u001b[0;34m\u001b[0m\u001b[0m\n\u001b[0;32m---> 37\u001b[0;31m             \u001b[0;32mreturn\u001b[0m \u001b[0mself\u001b[0m\u001b[0;34m.\u001b[0m\u001b[0meval_function\u001b[0m\u001b[0;34m(\u001b[0m\u001b[0;34m'k'\u001b[0m\u001b[0;34m,\u001b[0m \u001b[0mX\u001b[0m\u001b[0;34m=\u001b[0m\u001b[0mX\u001b[0m\u001b[0;34m,\u001b[0m \u001b[0mZ\u001b[0m\u001b[0;34m=\u001b[0m\u001b[0mX\u001b[0m\u001b[0;34m)\u001b[0m\u001b[0;34m\u001b[0m\u001b[0m\n\u001b[0m\u001b[1;32m     38\u001b[0m         \u001b[0;32melse\u001b[0m\u001b[0;34m:\u001b[0m\u001b[0;34m\u001b[0m\u001b[0m\n\u001b[1;32m     39\u001b[0m             \u001b[0;32mreturn\u001b[0m \u001b[0mself\u001b[0m\u001b[0;34m.\u001b[0m\u001b[0meval_function\u001b[0m\u001b[0;34m(\u001b[0m\u001b[0;34m'k'\u001b[0m\u001b[0;34m,\u001b[0m \u001b[0mX\u001b[0m\u001b[0;34m=\u001b[0m\u001b[0mX\u001b[0m\u001b[0;34m,\u001b[0m \u001b[0mZ\u001b[0m\u001b[0;34m=\u001b[0m\u001b[0mX2\u001b[0m\u001b[0;34m)\u001b[0m\u001b[0;34m\u001b[0m\u001b[0m\n",
        "\u001b[0;32m/Users/neil/SheffieldML/GPy/GPy/core/symbolic.pyc\u001b[0m in \u001b[0;36meval_function\u001b[0;34m(self, function, **kwargs)\u001b[0m\n\u001b[1;32m    186\u001b[0m \u001b[0;34m\u001b[0m\u001b[0m\n\u001b[1;32m    187\u001b[0m     \u001b[0;32mdef\u001b[0m \u001b[0meval_function\u001b[0m\u001b[0;34m(\u001b[0m\u001b[0mself\u001b[0m\u001b[0;34m,\u001b[0m \u001b[0mfunction\u001b[0m\u001b[0;34m,\u001b[0m \u001b[0;34m**\u001b[0m\u001b[0mkwargs\u001b[0m\u001b[0;34m)\u001b[0m\u001b[0;34m:\u001b[0m\u001b[0;34m\u001b[0m\u001b[0m\n\u001b[0;32m--> 188\u001b[0;31m         \u001b[0mself\u001b[0m\u001b[0;34m.\u001b[0m\u001b[0meval_update_cache\u001b[0m\u001b[0;34m(\u001b[0m\u001b[0;34m**\u001b[0m\u001b[0mkwargs\u001b[0m\u001b[0;34m)\u001b[0m\u001b[0;34m\u001b[0m\u001b[0m\n\u001b[0m\u001b[1;32m    189\u001b[0m         \u001b[0;32mreturn\u001b[0m \u001b[0meval\u001b[0m\u001b[0;34m(\u001b[0m\u001b[0mself\u001b[0m\u001b[0;34m.\u001b[0m\u001b[0mcode\u001b[0m\u001b[0;34m[\u001b[0m\u001b[0mfunction\u001b[0m\u001b[0;34m]\u001b[0m\u001b[0;34m[\u001b[0m\u001b[0;34m'function'\u001b[0m\u001b[0;34m]\u001b[0m\u001b[0;34m,\u001b[0m \u001b[0mself\u001b[0m\u001b[0;34m.\u001b[0m\u001b[0mnamespace\u001b[0m\u001b[0;34m)\u001b[0m\u001b[0;34m\u001b[0m\u001b[0m\n\u001b[1;32m    190\u001b[0m \u001b[0;34m\u001b[0m\u001b[0m\n",
        "\u001b[0;32m/Users/neil/SheffieldML/GPy/GPy/core/symbolic.pyc\u001b[0m in \u001b[0;36meval_update_cache\u001b[0;34m(self, **kwargs)\u001b[0m\n\u001b[1;32m    141\u001b[0m \u001b[0;34m\u001b[0m\u001b[0m\n\u001b[1;32m    142\u001b[0m         \u001b[0;32mfor\u001b[0m \u001b[0mvar\u001b[0m\u001b[0;34m,\u001b[0m \u001b[0mcode\u001b[0m \u001b[0;32min\u001b[0m \u001b[0mself\u001b[0m\u001b[0;34m.\u001b[0m\u001b[0mvariable_sort\u001b[0m\u001b[0;34m(\u001b[0m\u001b[0mself\u001b[0m\u001b[0;34m.\u001b[0m\u001b[0mcode\u001b[0m\u001b[0;34m[\u001b[0m\u001b[0;34m'parameters_changed'\u001b[0m\u001b[0;34m]\u001b[0m\u001b[0;34m)\u001b[0m\u001b[0;34m:\u001b[0m\u001b[0;34m\u001b[0m\u001b[0m\n\u001b[0;32m--> 143\u001b[0;31m             \u001b[0mself\u001b[0m\u001b[0;34m.\u001b[0m\u001b[0m_set_attribute\u001b[0m\u001b[0;34m(\u001b[0m\u001b[0mvar\u001b[0m\u001b[0;34m,\u001b[0m \u001b[0meval\u001b[0m\u001b[0;34m(\u001b[0m\u001b[0mcode\u001b[0m\u001b[0;34m,\u001b[0m \u001b[0mself\u001b[0m\u001b[0;34m.\u001b[0m\u001b[0mnamespace\u001b[0m\u001b[0;34m)\u001b[0m\u001b[0;34m)\u001b[0m\u001b[0;34m\u001b[0m\u001b[0m\n\u001b[0m\u001b[1;32m    144\u001b[0m \u001b[0;34m\u001b[0m\u001b[0m\n\u001b[1;32m    145\u001b[0m         \u001b[0;32mfor\u001b[0m \u001b[0mvar\u001b[0m\u001b[0;34m,\u001b[0m \u001b[0mvalue\u001b[0m \u001b[0;32min\u001b[0m \u001b[0mkwargs\u001b[0m\u001b[0;34m.\u001b[0m\u001b[0mitems\u001b[0m\u001b[0;34m(\u001b[0m\u001b[0;34m)\u001b[0m\u001b[0;34m:\u001b[0m\u001b[0;34m\u001b[0m\u001b[0m\n",
        "\u001b[0;32m/Users/neil/Library/Enthought/Canopy_64bit/User/lib/python2.7/site-packages/numpy/__init__.pyc\u001b[0m in \u001b[0;36m<module>\u001b[0;34m()\u001b[0m\n",
        "\u001b[0;31mNameError\u001b[0m: name 'lengthscale_i' is not defined"
       ]
      }
     ],
     "prompt_number": 11
    },
    {
     "cell_type": "code",
     "collapsed": false,
     "input": [
      "import GPy.testing.kernel_tests as kernel_tests"
     ],
     "language": "python",
     "metadata": {},
     "outputs": [],
     "prompt_number": 10
    },
    {
     "cell_type": "code",
     "collapsed": false,
     "input": [
      "#kernel_tests.kern_test(kern, X, X2=None, verbose=True)"
     ],
     "language": "python",
     "metadata": {},
     "outputs": [],
     "prompt_number": 11
    },
    {
     "cell_type": "code",
     "collapsed": false,
     "input": [
      "model = GPy.models.GPRegression(X, y, kern)"
     ],
     "language": "python",
     "metadata": {},
     "outputs": [],
     "prompt_number": 12
    },
    {
     "cell_type": "code",
     "collapsed": false,
     "input": [
      "print model.Heat_eqinit.lengthscale"
     ],
     "language": "python",
     "metadata": {},
     "outputs": [
      {
       "output_type": "stream",
       "stream": "stdout",
       "text": [
        "  Index  |  \u001b[1mGP_regression.Heat_eqinit.lengthscale\u001b[0;0m  |  Constraint  |   Prior   |  Tied to\n",
        "    0    |                                      1  |              |           |    N/A    \n",
        "    1    |                                      1  |              |           |    N/A    \n",
        "    2    |                                      1  |              |           |    N/A    \n",
        "    3    |                                      1  |              |           |    N/A    \n",
        "    4    |                                      1  |              |           |    N/A    \n",
        "    5    |                                      1  |              |           |    N/A    \n"
       ]
      }
     ],
     "prompt_number": 14
    },
    {
     "cell_type": "code",
     "collapsed": false,
     "input": [
      "model.plot_f(fixed_inputs=[(1, 0)])"
     ],
     "language": "python",
     "metadata": {},
     "outputs": [
      {
       "ename": "ValueError",
       "evalue": "operands could not be broadcast together with shapes (126,1) (25200,1) ",
       "output_type": "pyerr",
       "traceback": [
        "\u001b[0;31m---------------------------------------------------------------------------\u001b[0m\n\u001b[0;31mValueError\u001b[0m                                Traceback (most recent call last)",
        "\u001b[0;32m<ipython-input-15-99612375c00b>\u001b[0m in \u001b[0;36m<module>\u001b[0;34m()\u001b[0m\n\u001b[0;32m----> 1\u001b[0;31m \u001b[0mmodel\u001b[0m\u001b[0;34m.\u001b[0m\u001b[0mplot_f\u001b[0m\u001b[0;34m(\u001b[0m\u001b[0mfixed_inputs\u001b[0m\u001b[0;34m=\u001b[0m\u001b[0;34m[\u001b[0m\u001b[0;34m(\u001b[0m\u001b[0;36m1\u001b[0m\u001b[0;34m,\u001b[0m \u001b[0;36m0\u001b[0m\u001b[0;34m)\u001b[0m\u001b[0;34m]\u001b[0m\u001b[0;34m)\u001b[0m\u001b[0;34m\u001b[0m\u001b[0m\n\u001b[0m",
        "\u001b[0;32m/Users/neil/SheffieldML/GPy/GPy/core/gp.pyc\u001b[0m in \u001b[0;36mplot_f\u001b[0;34m(self, *args, **kwargs)\u001b[0m\n\u001b[1;32m    186\u001b[0m         \u001b[0;32massert\u001b[0m \u001b[0;34m\"matplotlib\"\u001b[0m \u001b[0;32min\u001b[0m \u001b[0msys\u001b[0m\u001b[0;34m.\u001b[0m\u001b[0mmodules\u001b[0m\u001b[0;34m,\u001b[0m \u001b[0;34m\"matplotlib package has not been imported.\"\u001b[0m\u001b[0;34m\u001b[0m\u001b[0m\n\u001b[1;32m    187\u001b[0m         \u001b[0;32mfrom\u001b[0m \u001b[0;34m.\u001b[0m\u001b[0;34m.\u001b[0m\u001b[0mplotting\u001b[0m\u001b[0;34m.\u001b[0m\u001b[0mmatplot_dep\u001b[0m \u001b[0;32mimport\u001b[0m \u001b[0mmodels_plots\u001b[0m\u001b[0;34m\u001b[0m\u001b[0m\n\u001b[0;32m--> 188\u001b[0;31m         \u001b[0;32mreturn\u001b[0m \u001b[0mmodels_plots\u001b[0m\u001b[0;34m.\u001b[0m\u001b[0mplot_fit_f\u001b[0m\u001b[0;34m(\u001b[0m\u001b[0mself\u001b[0m\u001b[0;34m,\u001b[0m\u001b[0;34m*\u001b[0m\u001b[0margs\u001b[0m\u001b[0;34m,\u001b[0m\u001b[0;34m**\u001b[0m\u001b[0mkwargs\u001b[0m\u001b[0;34m)\u001b[0m\u001b[0;34m\u001b[0m\u001b[0m\n\u001b[0m\u001b[1;32m    189\u001b[0m \u001b[0;34m\u001b[0m\u001b[0m\n\u001b[1;32m    190\u001b[0m     \u001b[0;32mdef\u001b[0m \u001b[0mplot\u001b[0m\u001b[0;34m(\u001b[0m\u001b[0mself\u001b[0m\u001b[0;34m,\u001b[0m \u001b[0;34m*\u001b[0m\u001b[0margs\u001b[0m\u001b[0;34m,\u001b[0m \u001b[0;34m**\u001b[0m\u001b[0mkwargs\u001b[0m\u001b[0;34m)\u001b[0m\u001b[0;34m:\u001b[0m\u001b[0;34m\u001b[0m\u001b[0m\n",
        "\u001b[0;32m/Users/neil/SheffieldML/GPy/GPy/plotting/matplot_dep/models_plots.pyc\u001b[0m in \u001b[0;36mplot_fit_f\u001b[0;34m(model, *args, **kwargs)\u001b[0m\n\u001b[1;32m    178\u001b[0m     \"\"\"\n\u001b[1;32m    179\u001b[0m     \u001b[0mkwargs\u001b[0m\u001b[0;34m[\u001b[0m\u001b[0;34m'plot_raw'\u001b[0m\u001b[0;34m]\u001b[0m \u001b[0;34m=\u001b[0m \u001b[0mTrue\u001b[0m\u001b[0;34m\u001b[0m\u001b[0m\n\u001b[0;32m--> 180\u001b[0;31m     \u001b[0mplot_fit\u001b[0m\u001b[0;34m(\u001b[0m\u001b[0mmodel\u001b[0m\u001b[0;34m,\u001b[0m\u001b[0;34m*\u001b[0m\u001b[0margs\u001b[0m\u001b[0;34m,\u001b[0m \u001b[0;34m**\u001b[0m\u001b[0mkwargs\u001b[0m\u001b[0;34m)\u001b[0m\u001b[0;34m\u001b[0m\u001b[0m\n\u001b[0m",
        "\u001b[0;32m/Users/neil/SheffieldML/GPy/GPy/plotting/matplot_dep/models_plots.pyc\u001b[0m in \u001b[0;36mplot_fit\u001b[0;34m(model, plot_limits, which_data_rows, which_data_ycols, fixed_inputs, levels, samples, fignum, ax, resolution, plot_raw, linecol, fillcol, Y_metadata)\u001b[0m\n\u001b[1;32m     85\u001b[0m         \u001b[0;32mif\u001b[0m \u001b[0mplot_raw\u001b[0m\u001b[0;34m:\u001b[0m\u001b[0;34m\u001b[0m\u001b[0m\n\u001b[1;32m     86\u001b[0m             \u001b[0mm\u001b[0m\u001b[0;34m,\u001b[0m \u001b[0mv\u001b[0m \u001b[0;34m=\u001b[0m \u001b[0mmodel\u001b[0m\u001b[0;34m.\u001b[0m\u001b[0m_raw_predict\u001b[0m\u001b[0;34m(\u001b[0m\u001b[0mXgrid\u001b[0m\u001b[0;34m)\u001b[0m\u001b[0;34m\u001b[0m\u001b[0m\n\u001b[0;32m---> 87\u001b[0;31m             \u001b[0mlower\u001b[0m \u001b[0;34m=\u001b[0m \u001b[0mm\u001b[0m \u001b[0;34m-\u001b[0m \u001b[0;36m2\u001b[0m\u001b[0;34m*\u001b[0m\u001b[0mnp\u001b[0m\u001b[0;34m.\u001b[0m\u001b[0msqrt\u001b[0m\u001b[0;34m(\u001b[0m\u001b[0mv\u001b[0m\u001b[0;34m)\u001b[0m\u001b[0;34m\u001b[0m\u001b[0m\n\u001b[0m\u001b[1;32m     88\u001b[0m             \u001b[0mupper\u001b[0m \u001b[0;34m=\u001b[0m \u001b[0mm\u001b[0m \u001b[0;34m+\u001b[0m \u001b[0;36m2\u001b[0m\u001b[0;34m*\u001b[0m\u001b[0mnp\u001b[0m\u001b[0;34m.\u001b[0m\u001b[0msqrt\u001b[0m\u001b[0;34m(\u001b[0m\u001b[0mv\u001b[0m\u001b[0;34m)\u001b[0m\u001b[0;34m\u001b[0m\u001b[0m\n\u001b[1;32m     89\u001b[0m         \u001b[0;32melse\u001b[0m\u001b[0;34m:\u001b[0m\u001b[0;34m\u001b[0m\u001b[0m\n",
        "\u001b[0;31mValueError\u001b[0m: operands could not be broadcast together with shapes (126,1) (25200,1) "
       ]
      },
      {
       "metadata": {},
       "output_type": "display_data",
       "png": "[encoded data removed]",
       "text": [
        "<matplotlib.figure.Figure at 0x10e55f450>"
       ]
      }
     ],
     "prompt_number": 15
    },
    {
     "cell_type": "code",
     "collapsed": false,
     "input": [
      "model.optimize(messages=True)"
     ],
     "language": "python",
     "metadata": {},
     "outputs": [
      {
       "output_type": "stream",
       "stream": "stdout",
       "text": [
        " I      F              Scale          |g|        \n",
        "\r",
        "0001   8.828305e+03   1.000000e+00   4.196955e+08"
       ]
      },
      {
       "output_type": "stream",
       "stream": "stdout",
       "text": [
        " \r",
        "0002   4.279905e+03   5.000000e-01   4.079246e+07"
       ]
      },
      {
       "output_type": "stream",
       "stream": "stdout",
       "text": [
        " \r",
        "0003   3.026318e+03   2.500000e-01   5.312271e+06"
       ]
      },
      {
       "output_type": "stream",
       "stream": "stdout",
       "text": [
        " \r",
        "0004   1.941039e+03   1.250000e-01   2.738284e+06"
       ]
      },
      {
       "output_type": "stream",
       "stream": "stdout",
       "text": [
        " \r",
        "0005   1.464650e+03   6.250000e-02   7.647182e+05"
       ]
      },
      {
       "output_type": "stream",
       "stream": "stdout",
       "text": [
        " \r",
        "0006   1.089775e+03   3.125000e-02   4.696769e+05"
       ]
      },
      {
       "output_type": "stream",
       "stream": "stdout",
       "text": [
        " \r",
        "0007   8.810950e+02   1.562500e-02   1.936576e+05"
       ]
      },
      {
       "output_type": "stream",
       "stream": "stdout",
       "text": [
        " \r",
        "0008   6.686901e+02   7.812500e-03   1.289828e+05"
       ]
      },
      {
       "output_type": "stream",
       "stream": "stdout",
       "text": [
        " \r",
        "0009   5.559334e+02   3.906250e-03   4.738104e+04"
       ]
      },
      {
       "output_type": "stream",
       "stream": "stdout",
       "text": [
        " \r",
        "0010   4.523343e+02   1.953125e-03   3.411036e+04"
       ]
      },
      {
       "output_type": "stream",
       "stream": "stdout",
       "text": [
        " \n",
        "\r",
        "0011   3.874174e+02   9.765625e-04   1.770351e+04"
       ]
      },
      {
       "output_type": "stream",
       "stream": "stdout",
       "text": [
        " \r",
        "0012   3.301711e+02   4.882812e-04   1.255128e+04"
       ]
      },
      {
       "output_type": "stream",
       "stream": "stdout",
       "text": [
        " \r",
        "0013   2.893342e+02   2.441406e-04   1.168452e+04"
       ]
      },
      {
       "output_type": "stream",
       "stream": "stdout",
       "text": [
        " Warning: adding jitter of 4.0679717778e-05\n",
        "Warning: adding jitter of 4.0679717778e-04\n",
        "Warning: adding jitter of 4.0679717778e-03\n",
        "Warning: adding jitter of 4.0679717778e-02\n",
        "Warning: adding jitter of 4.0679717778e-01\n",
        "\r",
        "0014   2.893342e+02   1.220703e-04   9.732582e+03"
       ]
      },
      {
       "output_type": "stream",
       "stream": "stdout",
       "text": [
        " Warning: adding jitter of 4.0679291370e-05\n",
        "Warning: adding jitter of 4.0679291370e-04\n",
        "Warning: adding jitter of 4.0679291370e-03\n",
        "Warning: adding jitter of 4.0679291370e-02\n",
        "Warning: adding jitter of 4.0679291370e-01\n",
        "\r",
        "0015   2.893342e+02   4.882812e-04   9.732582e+03"
       ]
      },
      {
       "output_type": "stream",
       "stream": "stdout",
       "text": [
        " Warning: adding jitter of 4.0677586081e-05\n",
        "Warning: adding jitter of 4.0677586081e-04\n",
        "Warning: adding jitter of 4.0677586081e-03\n",
        "Warning: adding jitter of 4.0677586081e-02\n",
        "Warning: adding jitter of 4.0677586081e-01\n",
        "\r",
        "0016   2.893342e+02   1.953125e-03   9.732582e+03"
       ]
      },
      {
       "output_type": "stream",
       "stream": "stdout",
       "text": [
        " Warning: adding jitter of 4.0670770441e-05\n",
        "Warning: adding jitter of 4.0670770441e-04\n",
        "Warning: adding jitter of 4.0670770441e-03\n",
        "Warning: adding jitter of 4.0670770441e-02\n",
        "Warning: adding jitter of 4.0670770441e-01\n",
        "\r",
        "0017   2.893342e+02   7.812500e-03   9.732582e+03"
       ]
      },
      {
       "output_type": "stream",
       "stream": "stdout",
       "text": [
        " \n",
        "Warning: adding jitter of 4.0643595840e-05\n",
        "Warning: adding jitter of 4.0643595840e-04\n",
        "Warning: adding jitter of 4.0643595840e-03\n",
        "Warning: adding jitter of 4.0643595840e-02\n",
        "Warning: adding jitter of 4.0643595840e-01\n",
        "\r",
        "0018   2.893342e+02   3.125000e-02   9.732582e+03"
       ]
      },
      {
       "output_type": "stream",
       "stream": "stdout",
       "text": [
        " Warning: adding jitter of 4.0536286000e-05\n",
        "Warning: adding jitter of 4.0536286000e-04\n",
        "Warning: adding jitter of 4.0536286000e-03\n",
        "Warning: adding jitter of 4.0536286000e-02\n",
        "Warning: adding jitter of 4.0536286000e-01\n",
        "\r",
        "0019   2.893342e+02   1.250000e-01   9.732582e+03"
       ]
      },
      {
       "output_type": "stream",
       "stream": "stdout",
       "text": [
        " Warning: adding jitter of 4.0128124259e-05\n",
        "Warning: adding jitter of 4.0128124259e-04\n",
        "Warning: adding jitter of 4.0128124259e-03\n",
        "Warning: adding jitter of 4.0128124259e-02\n",
        "Warning: adding jitter of 4.0128124259e-01\n",
        "\r",
        "0020   2.893342e+02   5.000000e-01   9.732582e+03"
       ]
      },
      {
       "output_type": "stream",
       "stream": "stdout",
       "text": [
        " Warning: adding jitter of 3.8772843403e-05\n",
        "Warning: adding jitter of 3.8772843403e-04\n",
        "Warning: adding jitter of 3.8772843403e-03\n",
        "Warning: adding jitter of 3.8772843403e-02\n",
        "Warning: adding jitter of 3.8772843403e-01\n",
        "\r",
        "0021   2.893342e+02   2.000000e+00   9.732582e+03"
       ]
      },
      {
       "output_type": "stream",
       "stream": "stdout",
       "text": [
        " Warning: adding jitter of 3.5741784078e-05\n",
        "Warning: adding jitter of 3.5741784078e-04\n",
        "Warning: adding jitter of 3.5741784078e-03\n",
        "Warning: adding jitter of 3.5741784078e-02\n",
        "Warning: adding jitter of 3.5741784078e-01\n",
        "\r",
        "0022   2.623819e+02   8.000000e+00   9.732582e+03"
       ]
      },
      {
       "output_type": "stream",
       "stream": "stdout",
       "text": [
        " Warning: adding jitter of 3.5741784078e-05\n",
        "Warning: adding jitter of 3.5741784078e-04\n",
        "Warning: adding jitter of 3.5741784078e-03\n",
        "Warning: adding jitter of 3.5741784078e-02\n",
        "Warning: adding jitter of 3.5741784078e-01\n",
        "Warning: adding jitter of 3.5741784086e-05\n",
        "Warning: adding jitter of 3.5741784086e-04\n",
        "Warning: adding jitter of 3.5741784086e-03\n",
        "Warning: adding jitter of 3.5741784086e-02\n",
        "Warning: adding jitter of 3.5741784086e-01\n",
        "Warning: adding jitter of 3.5862375362e-05\n",
        "Warning: adding jitter of 3.5862375362e-04\n",
        "Warning: adding jitter of 3.5862375362e-03\n",
        "Warning: adding jitter of 3.5862375362e-02\n",
        "Warning: adding jitter of 3.5862375362e-01\n",
        "\r",
        "0023   2.599441e+02   4.000000e+00   1.192749e+03"
       ]
      },
      {
       "output_type": "stream",
       "stream": "stdout",
       "text": [
        " Warning: adding jitter of 3.5862375362e-05\n",
        "Warning: adding jitter of 3.5862375362e-04\n",
        "Warning: adding jitter of 3.5862375362e-03\n",
        "Warning: adding jitter of 3.5862375362e-02\n",
        "Warning: adding jitter of 3.5862375362e-01\n",
        "Warning: adding jitter of 3.5862375374e-05\n",
        "Warning: adding jitter of 3.5862375374e-04\n",
        "Warning: adding jitter of 3.5862375374e-03\n",
        "Warning: adding jitter of 3.5862375374e-02\n",
        "Warning: adding jitter of 3.5862375374e-01\n",
        "Warning: adding jitter of 3.8303240728e-05\n",
        "Warning: adding jitter of 3.8303240728e-04\n",
        "Warning: adding jitter of 3.8303240728e-03\n",
        "Warning: adding jitter of 3.8303240728e-02\n",
        "Warning: adding jitter of 3.8303240728e-01\n",
        "\r",
        "0024   2.599441e+02   2.000000e+00   8.299341e+02"
       ]
      },
      {
       "output_type": "stream",
       "stream": "stdout",
       "text": [
        " Warning: adding jitter of 3.7460685585e-05\n",
        "Warning: adding jitter of 3.7460685585e-04\n",
        "Warning: adding jitter of 3.7460685585e-03\n",
        "Warning: adding jitter of 3.7460685585e-02\n",
        "Warning: adding jitter of 3.7460685585e-01\n",
        "\r",
        "0025   2.599441e+02   8.000000e+00   8.299341e+02"
       ]
      },
      {
       "output_type": "stream",
       "stream": "stdout",
       "text": [
        " Warning: adding jitter of 3.6531093601e-05\n",
        "Warning: adding jitter of 3.6531093601e-04\n",
        "Warning: adding jitter of 3.6531093601e-03\n",
        "Warning: adding jitter of 3.6531093601e-02\n",
        "Warning: adding jitter of 3.6531093601e-01\n",
        "\r",
        "0026   2.508390e+02   3.200000e+01   8.299341e+02"
       ]
      },
      {
       "output_type": "stream",
       "stream": "stdout",
       "text": [
        " \n",
        "Warning: adding jitter of 3.6531093601e-05\n",
        "Warning: adding jitter of 3.6531093601e-04\n",
        "Warning: adding jitter of 3.6531093601e-03\n",
        "Warning: adding jitter of 3.6531093601e-02\n",
        "Warning: adding jitter of 3.6531093601e-01\n",
        "Warning: adding jitter of 3.6531093613e-05\n",
        "Warning: adding jitter of 3.6531093613e-04\n",
        "Warning: adding jitter of 3.6531093613e-03\n",
        "Warning: adding jitter of 3.6531093613e-02\n",
        "Warning: adding jitter of 3.6531093613e-01\n",
        "Warning: adding jitter of 3.7175049548e-05\n",
        "Warning: adding jitter of 3.7175049548e-04\n",
        "Warning: adding jitter of 3.7175049548e-03\n",
        "Warning: adding jitter of 3.7175049548e-02\n",
        "Warning: adding jitter of 3.7175049548e-01\n",
        "\r",
        "0027   2.444129e+02   1.600000e+01   2.016710e+03"
       ]
      },
      {
       "output_type": "stream",
       "stream": "stdout",
       "text": [
        " Warning: adding jitter of 3.7175049548e-05\n",
        "Warning: adding jitter of 3.7175049548e-04\n",
        "Warning: adding jitter of 3.7175049548e-03\n",
        "Warning: adding jitter of 3.7175049548e-02\n",
        "Warning: adding jitter of 3.7175049548e-01\n",
        "Warning: adding jitter of 3.7175049544e-05\n",
        "Warning: adding jitter of 3.7175049544e-04\n",
        "Warning: adding jitter of 3.7175049544e-03\n",
        "Warning: adding jitter of 3.7175049544e-02\n",
        "Warning: adding jitter of 3.7175049544e-01\n",
        "Warning: adding jitter of 3.7173801398e-05\n",
        "Warning: adding jitter of 3.7173801398e-04\n",
        "Warning: adding jitter of 3.7173801398e-03\n",
        "Warning: adding jitter of 3.7173801398e-02\n",
        "Warning: adding jitter of 3.7173801398e-01\n",
        "\r",
        "0028   2.431504e+02   8.000000e+00   3.134860e+05"
       ]
      },
      {
       "output_type": "stream",
       "stream": "stdout",
       "text": [
        " Warning: adding jitter of 3.7173801398e-05\n",
        "Warning: adding jitter of 3.7173801398e-04\n",
        "Warning: adding jitter of 3.7173801398e-03\n",
        "Warning: adding jitter of 3.7173801398e-02\n",
        "Warning: adding jitter of 3.7173801398e-01\n",
        "Warning: adding jitter of 3.7173801396e-05\n",
        "Warning: adding jitter of 3.7173801396e-04\n",
        "Warning: adding jitter of 3.7173801396e-03\n",
        "Warning: adding jitter of 3.7173801396e-02\n",
        "Warning: adding jitter of 3.7173801396e-01\n",
        "Warning: adding jitter of 3.7172682869e-05\n",
        "Warning: adding jitter of 3.7172682869e-04\n",
        "Warning: adding jitter of 3.7172682869e-03\n",
        "Warning: adding jitter of 3.7172682869e-02\n",
        "Warning: adding jitter of 3.7172682869e-01\n",
        "\r",
        "0029   2.423113e+02   4.000000e+00   5.885993e+04"
       ]
      },
      {
       "output_type": "stream",
       "stream": "stdout",
       "text": [
        " Warning: adding jitter of 3.7172682869e-05\n",
        "Warning: adding jitter of 3.7172682869e-04\n",
        "Warning: adding jitter of 3.7172682869e-03\n",
        "Warning: adding jitter of 3.7172682869e-02\n",
        "Warning: adding jitter of 3.7172682869e-01\n",
        "Warning: adding jitter of 3.7172682870e-05\n",
        "Warning: adding jitter of 3.7172682870e-04\n",
        "Warning: adding jitter of 3.7172682870e-03\n",
        "Warning: adding jitter of 3.7172682870e-02\n",
        "Warning: adding jitter of 3.7172682870e-01\n",
        "Warning: adding jitter of 3.7173359008e-05\n",
        "Warning: adding jitter of 3.7173359008e-04\n",
        "Warning: adding jitter of 3.7173359008e-03\n",
        "Warning: adding jitter of 3.7173359008e-02\n",
        "Warning: adding jitter of 3.7173359008e-01\n",
        "\r",
        "0030   2.416394e+02   2.000000e+00   1.088215e+04"
       ]
      },
      {
       "output_type": "stream",
       "stream": "stdout",
       "text": [
        " Warning: adding jitter of 3.7173359008e-05\n",
        "Warning: adding jitter of 3.7173359008e-04\n",
        "Warning: adding jitter of 3.7173359008e-03\n",
        "Warning: adding jitter of 3.7173359008e-02\n",
        "Warning: adding jitter of 3.7173359008e-01\n",
        "Warning: adding jitter of 3.7173359014e-05\n",
        "Warning: adding jitter of 3.7173359014e-04\n",
        "Warning: adding jitter of 3.7173359014e-03\n",
        "Warning: adding jitter of 3.7173359014e-02\n",
        "Warning: adding jitter of 3.7173359014e-01\n",
        "Warning: adding jitter of 3.7215854062e-05\n",
        "Warning: adding jitter of 3.7215854062e-04\n",
        "Warning: adding jitter of 3.7215854062e-03\n",
        "Warning: adding jitter of 3.7215854062e-02\n",
        "Warning: adding jitter of 3.7215854062e-01\n",
        "\r",
        "0031   2.395846e+02   1.000000e+00   2.669307e+03"
       ]
      },
      {
       "output_type": "stream",
       "stream": "stdout",
       "text": [
        " Warning: adding jitter of 3.7215854062e-05\n",
        "Warning: adding jitter of 3.7215854062e-04\n",
        "Warning: adding jitter of 3.7215854062e-03\n",
        "Warning: adding jitter of 3.7215854062e-02\n",
        "Warning: adding jitter of 3.7215854062e-01\n",
        "Warning: adding jitter of 3.7215854079e-05\n",
        "Warning: adding jitter of 3.7215854079e-04\n",
        "Warning: adding jitter of 3.7215854079e-03\n",
        "Warning: adding jitter of 3.7215854079e-02\n",
        "Warning: adding jitter of 3.7215854079e-01\n",
        "Warning: adding jitter of 3.7482077473e-05\n",
        "Warning: adding jitter of 3.7482077473e-04\n",
        "Warning: adding jitter of 3.7482077473e-03\n",
        "Warning: adding jitter of 3.7482077473e-02\n",
        "Warning: adding jitter of 3.7482077473e-01\n",
        "\r",
        "0032   2.395846e+02   5.000000e-01   6.815298e+02"
       ]
      },
      {
       "output_type": "stream",
       "stream": "stdout",
       "text": [
        " Warning: adding jitter of 3.7479689075e-05\n",
        "Warning: adding jitter of 3.7479689075e-04\n",
        "Warning: adding jitter of 3.7479689075e-03\n",
        "Warning: adding jitter of 3.7479689075e-02\n",
        "Warning: adding jitter of 3.7479689075e-01\n",
        "\r",
        "0033   2.395846e+02   2.000000e+00   6.815298e+02"
       ]
      },
      {
       "output_type": "stream",
       "stream": "stdout",
       "text": [
        " Warning: adding jitter of 3.7470549128e-05\n",
        "Warning: adding jitter of 3.7470549128e-04\n",
        "Warning: adding jitter of 3.7470549128e-03\n",
        "Warning: adding jitter of 3.7470549128e-02\n",
        "Warning: adding jitter of 3.7470549128e-01\n",
        "\r",
        "0034   2.395846e+02   8.000000e+00   6.815298e+02"
       ]
      },
      {
       "output_type": "stream",
       "stream": "stdout",
       "text": [
        " Warning: adding jitter of 3.7439550718e-05\n",
        "Warning: adding jitter of 3.7439550718e-04\n",
        "Warning: adding jitter of 3.7439550718e-03\n",
        "Warning: adding jitter of 3.7439550718e-02\n",
        "Warning: adding jitter of 3.7439550718e-01\n",
        "\r",
        "0035   2.395846e+02   3.200000e+01   6.815298e+02"
       ]
      },
      {
       "output_type": "stream",
       "stream": "stdout",
       "text": [
        " Warning: adding jitter of 3.7366303691e-05\n",
        "Warning: adding jitter of 3.7366303691e-04\n",
        "Warning: adding jitter of 3.7366303691e-03\n",
        "Warning: adding jitter of 3.7366303691e-02\n",
        "Warning: adding jitter of 3.7366303691e-01\n",
        "\r",
        "0036   2.386201e+02   1.280000e+02   6.815298e+02"
       ]
      },
      {
       "output_type": "stream",
       "stream": "stdout",
       "text": [
        " Warning: adding jitter of 3.7366303691e-05\n",
        "Warning: adding jitter of 3.7366303691e-04\n",
        "Warning: adding jitter of 3.7366303691e-03\n",
        "Warning: adding jitter of 3.7366303691e-02\n",
        "Warning: adding jitter of 3.7366303691e-01\n",
        "Warning: adding jitter of 3.7366303688e-05\n",
        "Warning: adding jitter of 3.7366303688e-04\n",
        "Warning: adding jitter of 3.7366303688e-03\n",
        "Warning: adding jitter of 3.7366303688e-02\n",
        "Warning: adding jitter of 3.7366303688e-01\n",
        "Warning: adding jitter of 3.7364941105e-05\n",
        "Warning: adding jitter of 3.7364941105e-04\n",
        "Warning: adding jitter of 3.7364941105e-03\n",
        "Warning: adding jitter of 3.7364941105e-02\n",
        "Warning: adding jitter of 3.7364941105e-01\n",
        "\r",
        "0037   2.381868e+02   6.400000e+01   1.655643e+04"
       ]
      },
      {
       "output_type": "stream",
       "stream": "stdout",
       "text": [
        " Warning: adding jitter of 3.7364941105e-05\n",
        "Warning: adding jitter of 3.7364941105e-04\n",
        "Warning: adding jitter of 3.7364941105e-03\n",
        "Warning: adding jitter of 3.7364941105e-02\n",
        "Warning: adding jitter of 3.7364941105e-01\n",
        "Warning: adding jitter of 3.7364941108e-05\n",
        "Warning: adding jitter of 3.7364941108e-04\n",
        "Warning: adding jitter of 3.7364941108e-03\n",
        "Warning: adding jitter of 3.7364941108e-02\n",
        "Warning: adding jitter of 3.7364941108e-01\n",
        "Warning: adding jitter of 3.7369000104e-05\n",
        "Warning: adding jitter of 3.7369000104e-04\n",
        "Warning: adding jitter of 3.7369000104e-03\n",
        "Warning: adding jitter of 3.7369000104e-02\n",
        "Warning: adding jitter of 3.7369000104e-01\n",
        "\r",
        "0038   2.378269e+02   3.200000e+01   2.921298e+03"
       ]
      },
      {
       "output_type": "stream",
       "stream": "stdout",
       "text": [
        " Warning: adding jitter of 3.7369000104e-05\n",
        "Warning: adding jitter of 3.7369000104e-04\n",
        "Warning: adding jitter of 3.7369000104e-03\n",
        "Warning: adding jitter of 3.7369000104e-02\n",
        "Warning: adding jitter of 3.7369000104e-01\n",
        "Warning: adding jitter of 3.7369000116e-05\n",
        "Warning: adding jitter of 3.7369000116e-04\n",
        "Warning: adding jitter of 3.7369000116e-03\n",
        "Warning: adding jitter of 3.7369000116e-02\n",
        "Warning: adding jitter of 3.7369000116e-01\n",
        "Warning: adding jitter of 3.7498768749e-05\n",
        "Warning: adding jitter of 3.7498768749e-04\n",
        "Warning: adding jitter of 3.7498768749e-03\n",
        "Warning: adding jitter of 3.7498768749e-02\n",
        "Warning: adding jitter of 3.7498768749e-01\n",
        "\r",
        "0039   2.360374e+02   1.600000e+01   5.819245e+02"
       ]
      },
      {
       "output_type": "stream",
       "stream": "stdout",
       "text": [
        " Warning: adding jitter of 3.7498768749e-05\n",
        "Warning: adding jitter of 3.7498768749e-04\n",
        "Warning: adding jitter of 3.7498768749e-03\n",
        "Warning: adding jitter of 3.7498768749e-02\n",
        "Warning: adding jitter of 3.7498768749e-01\n",
        "Warning: adding jitter of 3.7498768766e-05\n",
        "Warning: adding jitter of 3.7498768766e-04\n",
        "Warning: adding jitter of 3.7498768766e-03\n",
        "Warning: adding jitter of 3.7498768766e-02\n",
        "Warning: adding jitter of 3.7498768766e-01\n",
        "Warning: adding jitter of 4.6046978996e-05\n",
        "Warning: adding jitter of 4.6046978996e-04\n",
        "Warning: adding jitter of 4.6046978996e-03\n",
        "Warning: adding jitter of 4.6046978996e-02\n",
        "Warning: adding jitter of 4.6046978996e-01\n",
        "\r",
        "0040   2.360374e+02   8.000000e+00   7.764834e+02"
       ]
      },
      {
       "output_type": "stream",
       "stream": "stdout",
       "text": [
        " Warning: adding jitter of 3.8897718865e-05\n",
        "Warning: adding jitter of 3.8897718865e-04\n",
        "Warning: adding jitter of 3.8897718865e-03\n",
        "Warning: adding jitter of 3.8897718865e-02\n",
        "Warning: adding jitter of 3.8897718865e-01\n",
        "\r",
        "0041   2.360374e+02   3.200000e+01   7.764834e+02"
       ]
      },
      {
       "output_type": "stream",
       "stream": "stdout",
       "text": [
        " Warning: adding jitter of 3.7816729685e-05\n",
        "Warning: adding jitter of 3.7816729685e-04\n",
        "Warning: adding jitter of 3.7816729685e-03\n",
        "Warning: adding jitter of 3.7816729685e-02\n",
        "Warning: adding jitter of 3.7816729685e-01\n",
        "\r",
        "0042   2.360374e+02   1.280000e+02   7.764834e+02"
       ]
      },
      {
       "output_type": "stream",
       "stream": "stdout",
       "text": [
        " Warning: adding jitter of 3.7576447779e-05\n",
        "Warning: adding jitter of 3.7576447779e-04\n",
        "Warning: adding jitter of 3.7576447779e-03\n",
        "Warning: adding jitter of 3.7576447779e-02\n",
        "Warning: adding jitter of 3.7576447779e-01\n",
        "\r",
        "0043   2.349202e+02   5.120000e+02   7.764834e+02"
       ]
      },
      {
       "output_type": "stream",
       "stream": "stdout",
       "text": [
        " Warning: adding jitter of 3.7576447779e-05\n",
        "Warning: adding jitter of 3.7576447779e-04\n",
        "Warning: adding jitter of 3.7576447779e-03\n",
        "Warning: adding jitter of 3.7576447779e-02\n",
        "Warning: adding jitter of 3.7576447779e-01\n",
        "Warning: adding jitter of 3.7576447793e-05\n",
        "Warning: adding jitter of 3.7576447793e-04\n",
        "Warning: adding jitter of 3.7576447793e-03\n",
        "Warning: adding jitter of 3.7576447793e-02\n",
        "Warning: adding jitter of 3.7576447793e-01\n",
        "Warning: adding jitter of 3.7691510574e-05\n",
        "Warning: adding jitter of 3.7691510574e-04\n",
        "Warning: adding jitter of 3.7691510574e-03\n",
        "Warning: adding jitter of 3.7691510574e-02\n",
        "Warning: adding jitter of 3.7691510574e-01\n",
        "\r",
        "0044   2.349202e+02   2.560000e+02   7.563185e+02"
       ]
      },
      {
       "output_type": "stream",
       "stream": "stdout",
       "text": [
        " Warning: adding jitter of 3.7612094504e-05\n",
        "Warning: adding jitter of 3.7612094504e-04\n",
        "Warning: adding jitter of 3.7612094504e-03\n",
        "Warning: adding jitter of 3.7612094504e-02\n",
        "Warning: adding jitter of 3.7612094504e-01\n",
        "\r",
        "0045   2.343674e+02   1.024000e+03   7.563185e+02"
       ]
      },
      {
       "output_type": "stream",
       "stream": "stdout",
       "text": [
        " Warning: adding jitter of 3.7612094504e-05\n",
        "Warning: adding jitter of 3.7612094504e-04\n",
        "Warning: adding jitter of 3.7612094504e-03\n",
        "Warning: adding jitter of 3.7612094504e-02\n",
        "Warning: adding jitter of 3.7612094504e-01\n",
        "Warning: adding jitter of 3.7612094516e-05\n",
        "Warning: adding jitter of 3.7612094516e-04\n",
        "Warning: adding jitter of 3.7612094516e-03\n",
        "Warning: adding jitter of 3.7612094516e-02\n",
        "Warning: adding jitter of 3.7612094516e-01\n",
        "Warning: adding jitter of 3.7660912854e-05\n",
        "Warning: adding jitter of 3.7660912854e-04\n",
        "Warning: adding jitter of 3.7660912854e-03\n",
        "Warning: adding jitter of 3.7660912854e-02\n",
        "Warning: adding jitter of 3.7660912854e-01\n",
        "\r",
        "0046   2.335120e+02   5.120000e+02   6.972677e+02"
       ]
      },
      {
       "output_type": "stream",
       "stream": "stdout",
       "text": [
        " Warning: adding jitter of 3.7660912854e-05\n",
        "Warning: adding jitter of 3.7660912854e-04\n",
        "Warning: adding jitter of 3.7660912854e-03\n",
        "Warning: adding jitter of 3.7660912854e-02\n",
        "Warning: adding jitter of 3.7660912854e-01\n",
        "Warning: adding jitter of 3.7660912866e-05\n",
        "Warning: adding jitter of 3.7660912866e-04\n",
        "Warning: adding jitter of 3.7660912866e-03\n",
        "Warning: adding jitter of 3.7660912866e-02\n",
        "Warning: adding jitter of 3.7660912866e-01\n",
        "Warning: adding jitter of 3.7696732845e-05\n",
        "Warning: adding jitter of 3.7696732845e-04\n",
        "Warning: adding jitter of 3.7696732845e-03\n",
        "Warning: adding jitter of 3.7696732845e-02\n",
        "Warning: adding jitter of 3.7696732845e-01\n",
        "\r",
        "0047   2.335120e+02   2.560000e+02   7.759047e+02"
       ]
      },
      {
       "output_type": "stream",
       "stream": "stdout",
       "text": [
        " Warning: adding jitter of 3.7681017512e-05\n",
        "Warning: adding jitter of 3.7681017512e-04\n",
        "Warning: adding jitter of 3.7681017512e-03\n",
        "Warning: adding jitter of 3.7681017512e-02\n",
        "Warning: adding jitter of 3.7681017512e-01\n",
        "\r",
        "0048   2.335120e+02   1.024000e+03   7.759047e+02"
       ]
      },
      {
       "output_type": "stream",
       "stream": "stdout",
       "text": [
        " Warning: adding jitter of 3.7668210566e-05\n",
        "Warning: adding jitter of 3.7668210566e-04\n",
        "Warning: adding jitter of 3.7668210566e-03\n",
        "Warning: adding jitter of 3.7668210566e-02\n",
        "Warning: adding jitter of 3.7668210566e-01\n",
        "\r",
        "0049   2.333800e+02   4.096000e+03   7.759047e+02"
       ]
      },
      {
       "output_type": "stream",
       "stream": "stdout",
       "text": [
        " Warning: adding jitter of 3.7668210566e-05\n",
        "Warning: adding jitter of 3.7668210566e-04\n",
        "Warning: adding jitter of 3.7668210566e-03\n",
        "Warning: adding jitter of 3.7668210566e-02\n",
        "Warning: adding jitter of 3.7668210566e-01\n",
        "Warning: adding jitter of 3.7668210576e-05\n",
        "Warning: adding jitter of 3.7668210576e-04\n",
        "Warning: adding jitter of 3.7668210576e-03\n",
        "Warning: adding jitter of 3.7668210576e-02\n",
        "Warning: adding jitter of 3.7668210576e-01\n",
        "Warning: adding jitter of 3.7680092530e-05\n",
        "Warning: adding jitter of 3.7680092530e-04\n",
        "Warning: adding jitter of 3.7680092530e-03\n",
        "Warning: adding jitter of 3.7680092530e-02\n",
        "Warning: adding jitter of 3.7680092530e-01\n",
        "\r",
        "0050   2.331021e+02   2.048000e+03   6.805161e+02"
       ]
      },
      {
       "output_type": "stream",
       "stream": "stdout",
       "text": [
        " Warning: adding jitter of 3.7680092530e-05\n",
        "Warning: adding jitter of 3.7680092530e-04\n",
        "Warning: adding jitter of 3.7680092530e-03\n",
        "Warning: adding jitter of 3.7680092530e-02\n",
        "Warning: adding jitter of 3.7680092530e-01\n",
        "Warning: adding jitter of 3.7680092541e-05\n",
        "Warning: adding jitter of 3.7680092541e-04\n",
        "Warning: adding jitter of 3.7680092541e-03\n",
        "Warning: adding jitter of 3.7680092541e-02\n",
        "Warning: adding jitter of 3.7680092541e-01\n",
        "Warning: adding jitter of 3.7702023973e-05\n",
        "Warning: adding jitter of 3.7702023973e-04\n",
        "Warning: adding jitter of 3.7702023973e-03\n",
        "Warning: adding jitter of 3.7702023973e-02\n",
        "Warning: adding jitter of 3.7702023973e-01\n",
        "\r",
        "0051   2.331021e+02   1.024000e+03   8.145013e+02"
       ]
      },
      {
       "output_type": "stream",
       "stream": "stdout",
       "text": [
        " Warning: adding jitter of 3.7687160677e-05\n",
        "Warning: adding jitter of 3.7687160677e-04\n",
        "Warning: adding jitter of 3.7687160677e-03\n",
        "Warning: adding jitter of 3.7687160677e-02\n",
        "Warning: adding jitter of 3.7687160677e-01\n",
        "\r",
        "0052   2.329541e+02   4.096000e+03   8.145013e+02"
       ]
      },
      {
       "output_type": "stream",
       "stream": "stdout",
       "text": [
        " Warning: adding jitter of 3.7687160677e-05\n",
        "Warning: adding jitter of 3.7687160677e-04\n",
        "Warning: adding jitter of 3.7687160677e-03\n",
        "Warning: adding jitter of 3.7687160677e-02\n",
        "Warning: adding jitter of 3.7687160677e-01\n",
        "Warning: adding jitter of 3.7687160686e-05\n",
        "Warning: adding jitter of 3.7687160686e-04\n",
        "Warning: adding jitter of 3.7687160686e-03\n",
        "Warning: adding jitter of 3.7687160686e-02\n",
        "Warning: adding jitter of 3.7687160686e-01\n",
        "Warning: adding jitter of 3.7695070498e-05\n",
        "Warning: adding jitter of 3.7695070498e-04\n",
        "Warning: adding jitter of 3.7695070498e-03\n",
        "Warning: adding jitter of 3.7695070498e-02\n",
        "Warning: adding jitter of 3.7695070498e-01\n",
        "\r",
        "0053   2.327197e+02   2.048000e+03   1.611666e+03"
       ]
      },
      {
       "output_type": "stream",
       "stream": "stdout",
       "text": [
        " Warning: adding jitter of 3.7695070498e-05\n",
        "Warning: adding jitter of 3.7695070498e-04\n",
        "Warning: adding jitter of 3.7695070498e-03\n",
        "Warning: adding jitter of 3.7695070498e-02\n",
        "Warning: adding jitter of 3.7695070498e-01\n",
        "Warning: adding jitter of 3.7695070509e-05\n",
        "Warning: adding jitter of 3.7695070509e-04\n",
        "Warning: adding jitter of 3.7695070509e-03\n",
        "Warning: adding jitter of 3.7695070509e-02\n",
        "Warning: adding jitter of 3.7695070509e-01\n",
        "Warning: adding jitter of 3.7737331373e-05\n",
        "Warning: adding jitter of 3.7737331373e-04\n",
        "Warning: adding jitter of 3.7737331373e-03\n",
        "Warning: adding jitter of 3.7737331373e-02\n",
        "Warning: adding jitter of 3.7737331373e-01\n",
        "\r",
        "0054   2.327197e+02   1.024000e+03   1.575726e+03"
       ]
      },
      {
       "output_type": "stream",
       "stream": "stdout",
       "text": [
        " Warning: adding jitter of 3.7703974949e-05\n",
        "Warning: adding jitter of 3.7703974949e-04\n",
        "Warning: adding jitter of 3.7703974949e-03\n",
        "Warning: adding jitter of 3.7703974949e-02\n",
        "Warning: adding jitter of 3.7703974949e-01\n",
        "\r",
        "0055   2.324888e+02   4.096000e+03   1.575726e+03"
       ]
      },
      {
       "output_type": "stream",
       "stream": "stdout",
       "text": [
        " Warning: adding jitter of 3.7703974949e-05\n",
        "Warning: adding jitter of 3.7703974949e-04\n",
        "Warning: adding jitter of 3.7703974949e-03\n",
        "Warning: adding jitter of 3.7703974949e-02\n",
        "Warning: adding jitter of 3.7703974949e-01\n",
        "Warning: adding jitter of 3.7703974958e-05\n",
        "Warning: adding jitter of 3.7703974958e-04\n",
        "Warning: adding jitter of 3.7703974958e-03\n",
        "Warning: adding jitter of 3.7703974958e-02\n",
        "Warning: adding jitter of 3.7703974958e-01\n",
        "Warning: adding jitter of 3.7710838768e-05\n",
        "Warning: adding jitter of 3.7710838768e-04\n",
        "Warning: adding jitter of 3.7710838768e-03\n",
        "Warning: adding jitter of 3.7710838768e-02\n",
        "Warning: adding jitter of 3.7710838768e-01\n",
        "\r",
        "0056   2.324125e+02   2.048000e+03   1.720737e+04"
       ]
      },
      {
       "output_type": "stream",
       "stream": "stdout",
       "text": [
        " Warning: adding jitter of 3.7710838768e-05\n",
        "Warning: adding jitter of 3.7710838768e-04\n",
        "Warning: adding jitter of 3.7710838768e-03\n",
        "Warning: adding jitter of 3.7710838768e-02\n",
        "Warning: adding jitter of 3.7710838768e-01\n",
        "Warning: adding jitter of 3.7710838764e-05\n",
        "Warning: adding jitter of 3.7710838764e-04\n",
        "Warning: adding jitter of 3.7710838764e-03\n",
        "Warning: adding jitter of 3.7710838764e-02\n",
        "Warning: adding jitter of 3.7710838764e-01\n",
        "Warning: adding jitter of 3.7710721043e-05\n",
        "Warning: adding jitter of 3.7710721043e-04\n",
        "Warning: adding jitter of 3.7710721043e-03\n",
        "Warning: adding jitter of 3.7710721043e-02\n",
        "Warning: adding jitter of 3.7710721043e-01\n",
        "\r",
        "0057   2.322759e+02   1.024000e+03   4.812473e+05"
       ]
      },
      {
       "output_type": "stream",
       "stream": "stdout",
       "text": [
        " Warning: adding jitter of 3.7710721043e-05\n",
        "Warning: adding jitter of 3.7710721043e-04\n",
        "Warning: adding jitter of 3.7710721043e-03\n",
        "Warning: adding jitter of 3.7710721043e-02\n",
        "Warning: adding jitter of 3.7710721043e-01\n",
        "Warning: adding jitter of 3.7710721040e-05\n",
        "Warning: adding jitter of 3.7710721040e-04\n",
        "Warning: adding jitter of 3.7710721040e-03\n",
        "Warning: adding jitter of 3.7710721040e-02\n",
        "Warning: adding jitter of 3.7710721040e-01\n",
        "Warning: adding jitter of 3.7710616572e-05\n",
        "Warning: adding jitter of 3.7710616572e-04\n",
        "Warning: adding jitter of 3.7710616572e-03\n",
        "Warning: adding jitter of 3.7710616572e-02\n",
        "Warning: adding jitter of 3.7710616572e-01\n",
        "\r",
        "0058   2.322173e+02   5.120000e+02   7.170856e+04"
       ]
      },
      {
       "output_type": "stream",
       "stream": "stdout",
       "text": [
        " Warning: adding jitter of 3.7710616572e-05\n",
        "Warning: adding jitter of 3.7710616572e-04\n",
        "Warning: adding jitter of 3.7710616572e-03\n",
        "Warning: adding jitter of 3.7710616572e-02\n",
        "Warning: adding jitter of 3.7710616572e-01\n",
        "Warning: adding jitter of 3.7710616572e-05\n",
        "Warning: adding jitter of 3.7710616572e-04\n",
        "Warning: adding jitter of 3.7710616572e-03\n",
        "Warning: adding jitter of 3.7710616572e-02\n",
        "Warning: adding jitter of 3.7710616572e-01\n",
        "Warning: adding jitter of 3.7710601658e-05\n",
        "Warning: adding jitter of 3.7710601658e-04\n",
        "Warning: adding jitter of 3.7710601658e-03\n",
        "Warning: adding jitter of 3.7710601658e-02\n",
        "Warning: adding jitter of 3.7710601658e-01\n",
        "\r",
        "0059   2.321947e+02   2.560000e+02   8.304087e+03"
       ]
      },
      {
       "output_type": "stream",
       "stream": "stdout",
       "text": [
        " Warning: adding jitter of 3.7710601658e-05\n",
        "Warning: adding jitter of 3.7710601658e-04\n",
        "Warning: adding jitter of 3.7710601658e-03\n",
        "Warning: adding jitter of 3.7710601658e-02\n",
        "Warning: adding jitter of 3.7710601658e-01\n",
        "Warning: adding jitter of 3.7710601663e-05\n",
        "Warning: adding jitter of 3.7710601663e-04\n",
        "Warning: adding jitter of 3.7710601663e-03\n",
        "Warning: adding jitter of 3.7710601663e-02"
       ]
      },
      {
       "output_type": "stream",
       "stream": "stdout",
       "text": [
        "\n",
        "Warning: adding jitter of 3.7710601663e-01\n",
        "Warning: adding jitter of 3.7851208951e-05"
       ]
      },
      {
       "output_type": "stream",
       "stream": "stdout",
       "text": [
        "\n",
        "Warning: adding jitter of 3.7851208951e-04\n",
        "Warning: adding jitter of 3.7851208951e-03\n",
        "Warning: adding jitter of 3.7851208951e-02\n",
        "Warning: adding jitter of 3.7851208951e-01\n",
        "\r",
        "0060   2.321947e+02   8.529445e+02   1.442597e+03"
       ]
      },
      {
       "output_type": "stream",
       "stream": "stdout",
       "text": [
        " Warning: adding jitter of 3.7717173993e-05\n",
        "Warning: adding jitter of 3.7717173993e-04\n",
        "Warning: adding jitter of 3.7717173993e-03\n",
        "Warning: adding jitter of 3.7717173993e-02\n",
        "Warning: adding jitter of 3.7717173993e-01\n",
        "\r",
        "0061   2.315239e+02   3.411778e+03   1.442597e+03"
       ]
      },
      {
       "output_type": "stream",
       "stream": "stdout",
       "text": [
        " Warning: adding jitter of 3.7717173993e-05\n",
        "Warning: adding jitter of 3.7717173993e-04\n",
        "Warning: adding jitter of 3.7717173993e-03\n",
        "Warning: adding jitter of 3.7717173993e-02\n",
        "Warning: adding jitter of 3.7717173993e-01\n",
        "Warning: adding jitter of 3.7717173998e-05\n",
        "Warning: adding jitter of 3.7717173998e-04\n",
        "Warning: adding jitter of 3.7717173998e-03\n",
        "Warning: adding jitter of 3.7717173998e-02\n",
        "Warning: adding jitter of 3.7717173998e-01\n",
        "Warning: adding jitter of 3.7732201289e-05\n",
        "Warning: adding jitter of 3.7732201289e-04\n",
        "Warning: adding jitter of 3.7732201289e-03\n",
        "Warning: adding jitter of 3.7732201289e-02\n",
        "Warning: adding jitter of 3.7732201289e-01\n",
        "\r",
        "0062   2.315239e+02   1.705889e+03   4.075124e+04"
       ]
      },
      {
       "output_type": "stream",
       "stream": "stdout",
       "text": [
        " Warning: adding jitter of 3.7723096162e-05\n",
        "Warning: adding jitter of 3.7723096162e-04\n",
        "Warning: adding jitter of 3.7723096162e-03\n",
        "Warning: adding jitter of 3.7723096162e-02\n",
        "Warning: adding jitter of 3.7723096162e-01\n",
        "\r",
        "0063   2.315239e+02   6.823556e+03   4.075124e+04"
       ]
      },
      {
       "output_type": "stream",
       "stream": "stdout",
       "text": [
        " Warning: adding jitter of 3.7718903787e-05\n",
        "Warning: adding jitter of 3.7718903787e-04\n",
        "Warning: adding jitter of 3.7718903787e-03\n",
        "Warning: adding jitter of 3.7718903787e-02\n",
        "Warning: adding jitter of 3.7718903787e-01\n",
        "\r",
        "0064   2.315239e+02   2.729422e+04   4.075124e+04"
       ]
      },
      {
       "output_type": "stream",
       "stream": "stdout",
       "text": [
        " Warning: adding jitter of 3.7717625442e-05\n",
        "Warning: adding jitter of 3.7717625442e-04\n",
        "Warning: adding jitter of 3.7717625442e-03\n",
        "Warning: adding jitter of 3.7717625442e-02\n",
        "Warning: adding jitter of 3.7717625442e-01\n",
        "\r",
        "0065   2.314426e+02   1.091769e+05   4.075124e+04"
       ]
      },
      {
       "output_type": "stream",
       "stream": "stdout",
       "text": [
        " Warning: adding jitter of 3.7717625442e-05\n",
        "Warning: adding jitter of 3.7717625442e-04\n",
        "Warning: adding jitter of 3.7717625442e-03\n",
        "Warning: adding jitter of 3.7717625442e-02\n",
        "Warning: adding jitter of 3.7717625442e-01\n",
        "Warning: adding jitter of 3.7717625440e-05\n",
        "Warning: adding jitter of 3.7717625440e-04\n",
        "Warning: adding jitter of 3.7717625440e-03\n",
        "Warning: adding jitter of 3.7717625440e-02\n",
        "Warning: adding jitter of 3.7717625440e-01\n",
        "Warning: adding jitter of 3.7717588976e-05\n",
        "Warning: adding jitter of 3.7717588976e-04\n",
        "Warning: adding jitter of 3.7717588976e-03\n",
        "Warning: adding jitter of 3.7717588976e-02\n",
        "Warning: adding jitter of 3.7717588976e-01\n",
        "\r",
        "0066   2.314358e+02   5.458845e+04   5.840524e+03"
       ]
      },
      {
       "output_type": "stream",
       "stream": "stdout",
       "text": [
        " Warning: adding jitter of 3.7717588976e-05\n",
        "Warning: adding jitter of 3.7717588976e-04\n",
        "Warning: adding jitter of 3.7717588976e-03\n",
        "Warning: adding jitter of 3.7717588976e-02\n",
        "Warning: adding jitter of 3.7717588976e-01\n",
        "Warning: adding jitter of 3.7717588973e-05\n",
        "Warning: adding jitter of 3.7717588973e-04\n",
        "Warning: adding jitter of 3.7717588973e-03\n",
        "Warning: adding jitter of 3.7717588973e-02\n",
        "Warning: adding jitter of 3.7717588973e-01\n",
        "Warning: adding jitter of 3.7717454086e-05\n",
        "Warning: adding jitter of 3.7717454086e-04\n",
        "Warning: adding jitter of 3.7717454086e-03\n",
        "Warning: adding jitter of 3.7717454086e-02\n",
        "Warning: adding jitter of 3.7717454086e-01\n",
        "\r",
        "0067   2.314256e+02   2.729422e+04   6.972076e+04"
       ]
      },
      {
       "output_type": "stream",
       "stream": "stdout",
       "text": [
        " Warning: adding jitter of 3.7717454086e-05\n",
        "Warning: adding jitter of 3.7717454086e-04\n",
        "Warning: adding jitter of 3.7717454086e-03\n",
        "Warning: adding jitter of 3.7717454086e-02\n",
        "Warning: adding jitter of 3.7717454086e-01\n",
        "Warning: adding jitter of 3.7717454083e-05\n",
        "Warning: adding jitter of 3.7717454083e-04\n",
        "Warning: adding jitter of 3.7717454083e-03\n",
        "Warning: adding jitter of 3.7717454083e-02\n",
        "Warning: adding jitter of 3.7717454083e-01\n",
        "Warning: adding jitter of 3.7716641259e-05\n",
        "Warning: adding jitter of 3.7716641259e-04\n",
        "Warning: adding jitter of 3.7716641259e-03\n",
        "Warning: adding jitter of 3.7716641259e-02\n",
        "Warning: adding jitter of 3.7716641259e-01\n",
        "\r",
        "0068   2.314256e+02   1.364711e+04   5.155081e+05"
       ]
      },
      {
       "output_type": "stream",
       "stream": "stdout",
       "text": [
        " Warning: adding jitter of 3.7717162832e-05\n",
        "Warning: adding jitter of 3.7717162832e-04\n",
        "Warning: adding jitter of 3.7717162832e-03\n",
        "Warning: adding jitter of 3.7717162832e-02\n",
        "Warning: adding jitter of 3.7717162832e-01\n",
        "\r",
        "0069   2.313794e+02   5.458845e+04   5.155081e+05"
       ]
      },
      {
       "output_type": "stream",
       "stream": "stdout",
       "text": [
        " Warning: adding jitter of 3.7717162832e-05\n",
        "Warning: adding jitter of 3.7717162832e-04\n",
        "Warning: adding jitter of 3.7717162832e-03\n",
        "Warning: adding jitter of 3.7717162832e-02\n",
        "Warning: adding jitter of 3.7717162832e-01\n",
        "Warning: adding jitter of 3.7717162828e-05\n",
        "Warning: adding jitter of 3.7717162828e-04\n",
        "Warning: adding jitter of 3.7717162828e-03\n",
        "Warning: adding jitter of 3.7717162828e-02\n",
        "Warning: adding jitter of 3.7717162828e-01\n",
        "Warning: adding jitter of 3.7717138913e-05\n",
        "Warning: adding jitter of 3.7717138913e-04\n",
        "Warning: adding jitter of 3.7717138913e-03\n",
        "Warning: adding jitter of 3.7717138913e-02\n",
        "Warning: adding jitter of 3.7717138913e-01\n",
        "\r",
        "0070   2.313306e+02   2.729422e+04   1.711779e+06"
       ]
      },
      {
       "output_type": "stream",
       "stream": "stdout",
       "text": [
        " Warning: adding jitter of 3.7717138913e-05\n",
        "Warning: adding jitter of 3.7717138913e-04\n",
        "Warning: adding jitter of 3.7717138913e-03\n",
        "Warning: adding jitter of 3.7717138913e-02\n",
        "Warning: adding jitter of 3.7717138913e-01\n",
        "Warning: adding jitter of 3.7717138909e-05\n",
        "Warning: adding jitter of 3.7717138909e-04\n",
        "Warning: adding jitter of 3.7717138909e-03\n",
        "Warning: adding jitter of 3.7717138909e-02\n",
        "Warning: adding jitter of 3.7717138909e-01\n",
        "Warning: adding jitter of 3.7717116248e-05\n",
        "Warning: adding jitter of 3.7717116248e-04\n",
        "Warning: adding jitter of 3.7717116248e-03\n",
        "Warning: adding jitter of 3.7717116248e-02\n",
        "Warning: adding jitter of 3.7717116248e-01\n",
        "\r",
        "0071   2.313165e+02   1.364711e+04   1.947313e+05"
       ]
      },
      {
       "output_type": "stream",
       "stream": "stdout",
       "text": [
        " Warning: adding jitter of 3.7717116248e-05\n",
        "Warning: adding jitter of 3.7717116248e-04\n",
        "Warning: adding jitter of 3.7717116248e-03\n",
        "Warning: adding jitter of 3.7717116248e-02\n",
        "Warning: adding jitter of 3.7717116248e-01\n",
        "Warning: adding jitter of 3.7717116246e-05\n",
        "Warning: adding jitter of 3.7717116246e-04\n",
        "Warning: adding jitter of 3.7717116246e-03\n",
        "Warning: adding jitter of 3.7717116246e-02\n",
        "Warning: adding jitter of 3.7717116246e-01\n",
        "Warning: adding jitter of 3.7717079739e-05\n",
        "Warning: adding jitter of 3.7717079739e-04\n",
        "Warning: adding jitter of 3.7717079739e-03\n",
        "Warning: adding jitter of 3.7717079739e-02\n",
        "Warning: adding jitter of 3.7717079739e-01\n",
        "\r",
        "0072   2.313057e+02   6.823556e+03   1.361450e+04"
       ]
      },
      {
       "output_type": "stream",
       "stream": "stdout",
       "text": [
        " Warning: adding jitter of 3.7717079739e-05\n",
        "Warning: adding jitter of 3.7717079739e-04\n",
        "Warning: adding jitter of 3.7717079739e-03\n",
        "Warning: adding jitter of 3.7717079739e-02\n",
        "Warning: adding jitter of 3.7717079739e-01\n",
        "Warning: adding jitter of 3.7717079738e-05\n",
        "Warning: adding jitter of 3.7717079738e-04\n",
        "Warning: adding jitter of 3.7717079738e-03\n",
        "Warning: adding jitter of 3.7717079738e-02\n",
        "Warning: adding jitter of 3.7717079738e-01\n",
        "Warning: adding jitter of 3.7716696809e-05\n",
        "Warning: adding jitter of 3.7716696809e-04\n",
        "Warning: adding jitter of 3.7716696809e-03\n",
        "Warning: adding jitter of 3.7716696809e-02\n",
        "Warning: adding jitter of 3.7716696809e-01\n",
        "\r",
        "0073   2.313057e+02   3.411778e+03   2.901870e+04"
       ]
      },
      {
       "output_type": "stream",
       "stream": "stdout",
       "text": [
        " \n",
        "Warning: adding jitter of 3.7716896303e-05\n",
        "Warning: adding jitter of 3.7716896303e-04\n",
        "Warning: adding jitter of 3.7716896303e-03\n",
        "Warning: adding jitter of 3.7716896303e-02\n",
        "Warning: adding jitter of 3.7716896303e-01\n",
        "\r",
        "0074   2.313057e+02   1.364711e+04   2.901870e+04"
       ]
      },
      {
       "output_type": "stream",
       "stream": "stdout",
       "text": [
        " Warning: adding jitter of 3.7717020258e-05\n",
        "Warning: adding jitter of 3.7717020258e-04\n",
        "Warning: adding jitter of 3.7717020258e-03\n",
        "Warning: adding jitter of 3.7717020258e-02\n",
        "Warning: adding jitter of 3.7717020258e-01\n",
        "\r",
        "0075   2.312602e+02   5.458845e+04   2.901870e+04"
       ]
      },
      {
       "output_type": "stream",
       "stream": "stdout",
       "text": [
        " Warning: adding jitter of 3.7717020258e-05\n",
        "Warning: adding jitter of 3.7717020258e-04\n",
        "Warning: adding jitter of 3.7717020258e-03\n",
        "Warning: adding jitter of 3.7717020258e-02\n",
        "Warning: adding jitter of 3.7717020258e-01\n",
        "Warning: adding jitter of 3.7717020254e-05\n",
        "Warning: adding jitter of 3.7717020254e-04\n",
        "Warning: adding jitter of 3.7717020254e-03\n",
        "Warning: adding jitter of 3.7717020254e-02\n",
        "Warning: adding jitter of 3.7717020254e-01\n",
        "Warning: adding jitter of 3.7717003290e-05\n",
        "Warning: adding jitter of 3.7717003290e-04\n",
        "Warning: adding jitter of 3.7717003290e-03\n",
        "Warning: adding jitter of 3.7717003290e-02\n",
        "Warning: adding jitter of 3.7717003290e-01\n",
        "\r",
        "0076   2.311840e+02   5.458845e+04   7.847017e+06"
       ]
      },
      {
       "output_type": "stream",
       "stream": "stdout",
       "text": [
        " Warning: adding jitter of 3.7717003290e-05\n",
        "Warning: adding jitter of 3.7717003290e-04\n",
        "Warning: adding jitter of 3.7717003290e-03\n",
        "Warning: adding jitter of 3.7717003290e-02\n",
        "Warning: adding jitter of 3.7717003290e-01\n",
        "Warning: adding jitter of 3.7717003286e-05\n",
        "Warning: adding jitter of 3.7717003286e-04\n",
        "Warning: adding jitter of 3.7717003286e-03\n",
        "Warning: adding jitter of 3.7717003286e-02\n",
        "Warning: adding jitter of 3.7717003286e-01\n",
        "Warning: adding jitter of 3.7716985936e-05\n",
        "Warning: adding jitter of 3.7716985936e-04\n",
        "Warning: adding jitter of 3.7716985936e-03\n",
        "Warning: adding jitter of 3.7716985936e-02\n",
        "Warning: adding jitter of 3.7716985936e-01\n",
        "\r",
        "0077   2.311593e+02   2.729422e+04   1.015550e+06"
       ]
      },
      {
       "output_type": "stream",
       "stream": "stdout",
       "text": [
        " Warning: adding jitter of 3.7716985936e-05\n",
        "Warning: adding jitter of 3.7716985936e-04\n",
        "Warning: adding jitter of 3.7716985936e-03\n",
        "Warning: adding jitter of 3.7716985936e-02\n",
        "Warning: adding jitter of 3.7716985936e-01\n",
        "Warning: adding jitter of 3.7716985932e-05\n",
        "Warning: adding jitter of 3.7716985932e-04\n",
        "Warning: adding jitter of 3.7716985932e-03\n",
        "Warning: adding jitter of 3.7716985932e-02\n",
        "Warning: adding jitter of 3.7716985932e-01\n",
        "Warning: adding jitter of 3.7716972183e-05\n",
        "Warning: adding jitter of 3.7716972183e-04\n",
        "Warning: adding jitter of 3.7716972183e-03\n",
        "Warning: adding jitter of 3.7716972183e-02\n",
        "Warning: adding jitter of 3.7716972183e-01\n",
        "\r",
        "0078   2.311538e+02   1.364711e+04   8.652324e+04"
       ]
      },
      {
       "output_type": "stream",
       "stream": "stdout",
       "text": [
        " Warning: adding jitter of 3.7716972183e-05\n",
        "Warning: adding jitter of 3.7716972183e-04\n",
        "Warning: adding jitter of 3.7716972183e-03\n",
        "Warning: adding jitter of 3.7716972183e-02\n",
        "Warning: adding jitter of 3.7716972183e-01\n",
        "Warning: adding jitter of 3.7716972181e-05\n",
        "Warning: adding jitter of 3.7716972181e-04\n",
        "Warning: adding jitter of 3.7716972181e-03\n",
        "Warning: adding jitter of 3.7716972181e-02\n",
        "Warning: adding jitter of 3.7716972181e-01\n",
        "Warning: adding jitter of 3.7714778488e-05\n",
        "Warning: adding jitter of 3.7714778488e-04\n",
        "Warning: adding jitter of 3.7714778488e-03\n",
        "Warning: adding jitter of 3.7714778488e-02\n",
        "Warning: adding jitter of 3.7714778488e-01\n",
        "\r",
        "0079   2.311538e+02   1.734938e+04   9.837403e+03"
       ]
      },
      {
       "output_type": "stream",
       "stream": "stdout",
       "text": [
        " Warning: adding jitter of 3.7716717144e-05\n",
        "Warning: adding jitter of 3.7716717144e-04\n",
        "Warning: adding jitter of 3.7716717144e-03\n",
        "Warning: adding jitter of 3.7716717144e-02\n",
        "Warning: adding jitter of 3.7716717144e-01\n",
        "\r",
        "0080   2.309703e+02   6.939752e+04   9.837403e+03"
       ]
      },
      {
       "output_type": "stream",
       "stream": "stdout",
       "text": [
        " Warning: adding jitter of 3.7716717144e-05\n",
        "Warning: adding jitter of 3.7716717144e-04\n",
        "Warning: adding jitter of 3.7716717144e-03\n",
        "Warning: adding jitter of 3.7716717144e-02\n",
        "Warning: adding jitter of 3.7716717144e-01\n",
        "Warning: adding jitter of 3.7716717141e-05\n",
        "Warning: adding jitter of 3.7716717141e-04\n",
        "Warning: adding jitter of 3.7716717141e-03\n",
        "Warning: adding jitter of 3.7716717141e-02\n",
        "Warning: adding jitter of 3.7716717141e-01\n",
        "Warning: adding jitter of 3.7716698498e-05\n",
        "Warning: adding jitter of 3.7716698498e-04\n",
        "Warning: adding jitter of 3.7716698498e-03\n",
        "Warning: adding jitter of 3.7716698498e-02\n",
        "Warning: adding jitter of 3.7716698498e-01\n",
        "\r",
        "0081   2.309646e+02   3.469876e+04   3.540617e+04"
       ]
      },
      {
       "output_type": "stream",
       "stream": "stdout",
       "text": [
        " Warning: adding jitter of 3.7716698498e-05\n",
        "Warning: adding jitter of 3.7716698498e-04\n",
        "Warning: adding jitter of 3.7716698498e-03\n",
        "Warning: adding jitter of 3.7716698498e-02\n",
        "Warning: adding jitter of 3.7716698498e-01\n",
        "Warning: adding jitter of 3.7716698496e-05\n",
        "Warning: adding jitter of 3.7716698496e-04\n",
        "Warning: adding jitter of 3.7716698496e-03\n",
        "Warning: adding jitter of 3.7716698496e-02\n",
        "Warning: adding jitter of 3.7716698496e-01\n",
        "Warning: adding jitter of 3.7716348014e-05\n",
        "Warning: adding jitter of 3.7716348014e-04\n",
        "Warning: adding jitter of 3.7716348014e-03\n",
        "Warning: adding jitter of 3.7716348014e-02\n",
        "Warning: adding jitter of 3.7716348014e-01\n",
        "\r",
        "0082   2.309646e+02   1.734938e+04   6.132040e+04"
       ]
      },
      {
       "output_type": "stream",
       "stream": "stdout",
       "text": [
        " Warning: adding jitter of 3.7716509829e-05\n",
        "Warning: adding jitter of 3.7716509829e-04\n",
        "Warning: adding jitter of 3.7716509829e-03\n",
        "Warning: adding jitter of 3.7716509829e-02\n",
        "Warning: adding jitter of 3.7716509829e-01\n",
        "\r",
        "0083   2.309646e+02   6.939752e+04   6.132040e+04"
       ]
      },
      {
       "output_type": "stream",
       "stream": "stdout",
       "text": [
        " Warning: adding jitter of 3.7716632223e-05\n",
        "Warning: adding jitter of 3.7716632223e-04\n",
        "Warning: adding jitter of 3.7716632223e-03\n",
        "Warning: adding jitter of 3.7716632223e-02\n",
        "Warning: adding jitter of 3.7716632223e-01\n",
        "\r",
        "0084   2.309147e+02   2.775901e+05   6.132040e+04"
       ]
      },
      {
       "output_type": "stream",
       "stream": "stdout",
       "text": [
        " Warning: adding jitter of 3.7716632223e-05\n",
        "Warning: adding jitter of 3.7716632223e-04\n",
        "Warning: adding jitter of 3.7716632223e-03\n",
        "Warning: adding jitter of 3.7716632223e-02\n",
        "Warning: adding jitter of 3.7716632223e-01\n",
        "Warning: adding jitter of 3.7716632221e-05\n",
        "Warning: adding jitter of 3.7716632221e-04\n",
        "Warning: adding jitter of 3.7716632221e-03\n",
        "Warning: adding jitter of 3.7716632221e-02\n",
        "Warning: adding jitter of 3.7716632221e-01\n",
        "Warning: adding jitter of 3.7716528112e-05\n",
        "Warning: adding jitter of 3.7716528112e-04\n",
        "Warning: adding jitter of 3.7716528112e-03\n",
        "Warning: adding jitter of 3.7716528112e-02\n",
        "Warning: adding jitter of 3.7716528112e-01\n",
        "\r",
        "0085   2.308540e+02   1.387950e+05   3.314214e+05"
       ]
      },
      {
       "output_type": "stream",
       "stream": "stdout",
       "text": [
        " Warning: adding jitter of 3.7716528112e-05\n",
        "Warning: adding jitter of 3.7716528112e-04\n",
        "Warning: adding jitter of 3.7716528112e-03\n",
        "Warning: adding jitter of 3.7716528112e-02\n",
        "Warning: adding jitter of 3.7716528112e-01\n",
        "Warning: adding jitter of 3.7716528111e-05\n",
        "Warning: adding jitter of 3.7716528111e-04\n",
        "Warning: adding jitter of 3.7716528111e-03\n",
        "Warning: adding jitter of 3.7716528111e-02\n",
        "Warning: adding jitter of 3.7716528111e-01\n",
        "Warning: adding jitter of 3.7716267882e-05\n",
        "Warning: adding jitter of 3.7716267882e-04\n",
        "Warning: adding jitter of 3.7716267882e-03\n",
        "Warning: adding jitter of 3.7716267882e-02\n",
        "Warning: adding jitter of 3.7716267882e-01\n",
        "\r",
        "0086   2.308540e+02   6.939752e+04   2.355459e+05"
       ]
      },
      {
       "output_type": "stream",
       "stream": "stdout",
       "text": [
        " Warning: adding jitter of 3.7716440370e-05\n",
        "Warning: adding jitter of 3.7716440370e-04\n",
        "Warning: adding jitter of 3.7716440370e-03\n",
        "Warning: adding jitter of 3.7716440370e-02\n",
        "Warning: adding jitter of 3.7716440370e-01\n",
        "\r",
        "0087   2.307832e+02   2.775901e+05   2.355459e+05"
       ]
      },
      {
       "output_type": "stream",
       "stream": "stdout",
       "text": [
        " Warning: adding jitter of 3.7716440370e-05\n",
        "Warning: adding jitter of 3.7716440370e-04\n",
        "Warning: adding jitter of 3.7716440370e-03\n",
        "Warning: adding jitter of 3.7716440370e-02\n",
        "Warning: adding jitter of 3.7716440370e-01\n",
        "Warning: adding jitter of 3.7716440368e-05\n",
        "Warning: adding jitter of 3.7716440368e-04\n",
        "Warning: adding jitter of 3.7716440368e-03\n",
        "Warning: adding jitter of 3.7716440368e-02\n",
        "Warning: adding jitter of 3.7716440368e-01\n",
        "Warning: adding jitter of 3.7716178902e-05\n",
        "Warning: adding jitter of 3.7716178902e-04\n",
        "Warning: adding jitter of 3.7716178902e-03\n",
        "Warning: adding jitter of 3.7716178902e-02\n",
        "Warning: adding jitter of 3.7716178902e-01\n",
        "\r",
        "0088   2.305610e+02   1.387950e+05   1.778635e+06"
       ]
      },
      {
       "output_type": "stream",
       "stream": "stdout",
       "text": [
        " Warning: adding jitter of 3.7716178902e-05\n",
        "Warning: adding jitter of 3.7716178902e-04\n",
        "Warning: adding jitter of 3.7716178902e-03\n",
        "Warning: adding jitter of 3.7716178902e-02\n",
        "Warning: adding jitter of 3.7716178902e-01\n",
        "Warning: adding jitter of 3.7716178899e-05\n",
        "Warning: adding jitter of 3.7716178899e-04\n",
        "Warning: adding jitter of 3.7716178899e-03\n",
        "Warning: adding jitter of 3.7716178899e-02\n",
        "Warning: adding jitter of 3.7716178899e-01\n",
        "Warning: adding jitter of 3.7716168638e-05\n",
        "Warning: adding jitter of 3.7716168638e-04\n",
        "Warning: adding jitter of 3.7716168638e-03\n",
        "Warning: adding jitter of 3.7716168638e-02\n",
        "Warning: adding jitter of 3.7716168638e-01\n",
        "\r",
        "0089   2.305464e+02   6.939752e+04   2.940529e+06"
       ]
      },
      {
       "output_type": "stream",
       "stream": "stdout",
       "text": [
        " Warning: adding jitter of 3.7716168638e-05\n",
        "Warning: adding jitter of 3.7716168638e-04\n",
        "Warning: adding jitter of 3.7716168638e-03\n",
        "Warning: adding jitter of 3.7716168638e-02\n",
        "Warning: adding jitter of 3.7716168638e-01\n",
        "Warning: adding jitter of 3.7716168634e-05\n",
        "Warning: adding jitter of 3.7716168634e-04\n",
        "Warning: adding jitter of 3.7716168634e-03\n",
        "Warning: adding jitter of 3.7716168634e-02\n",
        "Warning: adding jitter of 3.7716168634e-01\n",
        "Warning: adding jitter of 3.7716162578e-05\n",
        "Warning: adding jitter of 3.7716162578e-04\n",
        "Warning: adding jitter of 3.7716162578e-03\n",
        "Warning: adding jitter of 3.7716162578e-02\n",
        "Warning: adding jitter of 3.7716162578e-01\n",
        "\r",
        "0090   2.305450e+02   3.469876e+04   4.238484e+04"
       ]
      },
      {
       "output_type": "stream",
       "stream": "stdout",
       "text": [
        " Warning: adding jitter of 3.7716162578e-05\n",
        "Warning: adding jitter of 3.7716162578e-04\n",
        "Warning: adding jitter of 3.7716162578e-03\n",
        "Warning: adding jitter of 3.7716162578e-02\n",
        "Warning: adding jitter of 3.7716162578e-01\n",
        "Warning: adding jitter of 3.7716162575e-05\n",
        "Warning: adding jitter of 3.7716162575e-04\n",
        "Warning: adding jitter of 3.7716162575e-03\n",
        "Warning: adding jitter of 3.7716162575e-02\n",
        "Warning: adding jitter of 3.7716162575e-01\n",
        "Warning: adding jitter of 3.7715674095e-05\n",
        "Warning: adding jitter of 3.7715674095e-04\n",
        "Warning: adding jitter of 3.7715674095e-03\n",
        "Warning: adding jitter of 3.7715674095e-02\n",
        "Warning: adding jitter of 3.7715674095e-01\n",
        "\r",
        "0091   2.305450e+02   1.734938e+04   1.826352e+05"
       ]
      },
      {
       "output_type": "stream",
       "stream": "stdout",
       "text": [
        " Warning: adding jitter of 3.7715810805e-05\n",
        "Warning: adding jitter of 3.7715810805e-04\n",
        "Warning: adding jitter of 3.7715810805e-03\n",
        "Warning: adding jitter of 3.7715810805e-02\n",
        "Warning: adding jitter of 3.7715810805e-01\n",
        "\r",
        "0092   2.305450e+02   6.939752e+04   1.826352e+05"
       ]
      },
      {
       "output_type": "stream",
       "stream": "stdout",
       "text": [
        " Warning: adding jitter of 3.7715996606e-05\n",
        "Warning: adding jitter of 3.7715996606e-04\n",
        "Warning: adding jitter of 3.7715996606e-03\n",
        "Warning: adding jitter of 3.7715996606e-02\n",
        "Warning: adding jitter of 3.7715996606e-01\n",
        "\r",
        "0093   2.305155e+02   2.775901e+05   1.826352e+05"
       ]
      },
      {
       "output_type": "stream",
       "stream": "stdout",
       "text": [
        " Warning: adding jitter of 3.7715996606e-05\n",
        "Warning: adding jitter of 3.7715996606e-04\n",
        "Warning: adding jitter of 3.7715996606e-03\n",
        "Warning: adding jitter of 3.7715996606e-02\n",
        "Warning: adding jitter of 3.7715996606e-01\n",
        "Warning: adding jitter of 3.7715996602e-05\n",
        "Warning: adding jitter of 3.7715996602e-04\n",
        "Warning: adding jitter of 3.7715996602e-03\n",
        "Warning: adding jitter of 3.7715996602e-02\n",
        "Warning: adding jitter of 3.7715996602e-01\n",
        "Warning: adding jitter of 3.7715992818e-05\n",
        "Warning: adding jitter of 3.7715992818e-04\n",
        "Warning: adding jitter of 3.7715992818e-03\n",
        "Warning: adding jitter of 3.7715992818e-02\n",
        "Warning: adding jitter of 3.7715992818e-01\n",
        "\r",
        "0094   2.304566e+02   2.775901e+05   9.325700e+07"
       ]
      },
      {
       "output_type": "stream",
       "stream": "stdout",
       "text": [
        " Warning: adding jitter of 3.7715992818e-05\n",
        "Warning: adding jitter of 3.7715992818e-04\n",
        "Warning: adding jitter of 3.7715992818e-03\n",
        "Warning: adding jitter of 3.7715992818e-02\n",
        "Warning: adding jitter of 3.7715992818e-01\n",
        "Warning: adding jitter of 3.7715992814e-05\n",
        "Warning: adding jitter of 3.7715992814e-04\n",
        "Warning: adding jitter of 3.7715992814e-03\n",
        "Warning: adding jitter of 3.7715992814e-02\n",
        "Warning: adding jitter of 3.7715992814e-01\n",
        "Warning: adding jitter of 3.7715989216e-05\n",
        "Warning: adding jitter of 3.7715989216e-04\n",
        "Warning: adding jitter of 3.7715989216e-03\n",
        "Warning: adding jitter of 3.7715989216e-02\n",
        "Warning: adding jitter of 3.7715989216e-01\n",
        "\r",
        "0095   2.304402e+02   1.387950e+05   1.112056e+07"
       ]
      },
      {
       "output_type": "stream",
       "stream": "stdout",
       "text": [
        " Warning: adding jitter of 3.7715989216e-05\n",
        "Warning: adding jitter of 3.7715989216e-04\n",
        "Warning: adding jitter of 3.7715989216e-03\n",
        "Warning: adding jitter of 3.7715989216e-02\n",
        "Warning: adding jitter of 3.7715989216e-01\n",
        "Warning: adding jitter of 3.7715989211e-05\n",
        "Warning: adding jitter of 3.7715989211e-04\n",
        "Warning: adding jitter of 3.7715989211e-03\n",
        "Warning: adding jitter of 3.7715989211e-02\n",
        "Warning: adding jitter of 3.7715989211e-01\n",
        "Warning: adding jitter of 3.7715986652e-05\n",
        "Warning: adding jitter of 3.7715986652e-04\n",
        "Warning: adding jitter of 3.7715986652e-03\n",
        "Warning: adding jitter of 3.7715986652e-02\n",
        "Warning: adding jitter of 3.7715986652e-01\n",
        "\r",
        "0096   2.304378e+02   6.939752e+04   7.793772e+05"
       ]
      },
      {
       "output_type": "stream",
       "stream": "stdout",
       "text": [
        " Warning: adding jitter of 3.7715986652e-05\n",
        "Warning: adding jitter of 3.7715986652e-04\n",
        "Warning: adding jitter of 3.7715986652e-03\n",
        "Warning: adding jitter of 3.7715986652e-02\n",
        "Warning: adding jitter of 3.7715986652e-01\n",
        "Warning: adding jitter of 3.7715986648e-05\n",
        "Warning: adding jitter of 3.7715986648e-04\n",
        "Warning: adding jitter of 3.7715986648e-03\n",
        "Warning: adding jitter of 3.7715986648e-02\n",
        "Warning: adding jitter of 3.7715986648e-01\n",
        "Warning: adding jitter of 3.7714509360e-05\n",
        "Warning: adding jitter of 3.7714509360e-04\n",
        "Warning: adding jitter of 3.7714509360e-03\n",
        "Warning: adding jitter of 3.7714509360e-02\n",
        "Warning: adding jitter of 3.7714509360e-01\n",
        "\r",
        "0097   2.295909e+02   3.469876e+04   4.606207e+04"
       ]
      },
      {
       "output_type": "stream",
       "stream": "stdout",
       "text": [
        " Warning: adding jitter of 3.7714509360e-05\n",
        "Warning: adding jitter of 3.7714509360e-04\n",
        "Warning: adding jitter of 3.7714509360e-03\n",
        "Warning: adding jitter of 3.7714509360e-02\n",
        "Warning: adding jitter of 3.7714509360e-01\n",
        "Warning: adding jitter of 3.7714509356e-05\n",
        "Warning: adding jitter of 3.7714509356e-04\n",
        "Warning: adding jitter of 3.7714509356e-03\n",
        "Warning: adding jitter of 3.7714509356e-02\n",
        "Warning: adding jitter of 3.7714509356e-01\n",
        "Warning: adding jitter of 3.7706567286e-05\n",
        "Warning: adding jitter of 3.7706567286e-04\n",
        "Warning: adding jitter of 3.7706567286e-03\n",
        "Warning: adding jitter of 3.7706567286e-02\n",
        "Warning: adding jitter of 3.7706567286e-01\n",
        "\r",
        "0098   2.295909e+02   2.715593e+05   3.491402e+08"
       ]
      },
      {
       "output_type": "stream",
       "stream": "stdout",
       "text": [
        " Warning: adding jitter of 3.7714343319e-05\n",
        "Warning: adding jitter of 3.7714343319e-04\n",
        "Warning: adding jitter of 3.7714343319e-03\n",
        "Warning: adding jitter of 3.7714343319e-02\n",
        "Warning: adding jitter of 3.7714343319e-01\n",
        "\r",
        "0099   2.293486e+02   1.086237e+06   3.491402e+08"
       ]
      },
      {
       "output_type": "stream",
       "stream": "stdout",
       "text": [
        " Warning: adding jitter of 3.7714343319e-05\n",
        "Warning: adding jitter of 3.7714343319e-04\n",
        "Warning: adding jitter of 3.7714343319e-03\n",
        "Warning: adding jitter of 3.7714343319e-02\n",
        "Warning: adding jitter of 3.7714343319e-01\n",
        "Warning: adding jitter of 3.7714343315e-05\n",
        "Warning: adding jitter of 3.7714343315e-04\n",
        "Warning: adding jitter of 3.7714343315e-03\n",
        "Warning: adding jitter of 3.7714343315e-02\n",
        "Warning: adding jitter of 3.7714343315e-01\n",
        "Warning: adding jitter of 3.7713350149e-05\n",
        "Warning: adding jitter of 3.7713350149e-04\n",
        "Warning: adding jitter of 3.7713350149e-03\n",
        "Warning: adding jitter of 3.7713350149e-02\n",
        "Warning: adding jitter of 3.7713350149e-01\n",
        "\r",
        "0100   2.293486e+02   5.515908e+06   9.334904e+08"
       ]
      },
      {
       "output_type": "stream",
       "stream": "stdout",
       "text": [
        " Warning: adding jitter of 3.7714311747e-05\n",
        "Warning: adding jitter of 3.7714311747e-04\n",
        "Warning: adding jitter of 3.7714311747e-03\n",
        "Warning: adding jitter of 3.7714311747e-02\n",
        "Warning: adding jitter of 3.7714311747e-01\n",
        "\r",
        "0101   2.291735e+02   2.206363e+07   9.334904e+08"
       ]
      },
      {
       "output_type": "stream",
       "stream": "stdout",
       "text": [
        " Warning: adding jitter of 3.7714311747e-05\n",
        "Warning: adding jitter of 3.7714311747e-04\n",
        "Warning: adding jitter of 3.7714311747e-03\n",
        "Warning: adding jitter of 3.7714311747e-02\n",
        "Warning: adding jitter of 3.7714311747e-01\n",
        "Warning: adding jitter of 3.7714311744e-05\n",
        "Warning: adding jitter of 3.7714311744e-04\n",
        "Warning: adding jitter of 3.7714311744e-03\n",
        "Warning: adding jitter of 3.7714311744e-02\n",
        "Warning: adding jitter of 3.7714311744e-01\n",
        "Warning: adding jitter of 3.7714113154e-05\n",
        "Warning: adding jitter of 3.7714113154e-04\n",
        "Warning: adding jitter of 3.7714113154e-03\n",
        "Warning: adding jitter of 3.7714113154e-02\n",
        "Warning: adding jitter of 3.7714113154e-01\n",
        "\r",
        "0102   2.291735e+02   1.199212e+08   1.885803e+09"
       ]
      },
      {
       "output_type": "stream",
       "stream": "stdout",
       "text": [
        " Warning: adding jitter of 3.7714305838e-05\n",
        "Warning: adding jitter of 3.7714305838e-04\n",
        "Warning: adding jitter of 3.7714305838e-03\n",
        "Warning: adding jitter of 3.7714305838e-02\n",
        "Warning: adding jitter of 3.7714305838e-01\n",
        "\r",
        "0103   2.289997e+02   4.796848e+08   1.885803e+09"
       ]
      },
      {
       "output_type": "stream",
       "stream": "stdout",
       "text": [
        " Warning: adding jitter of 3.7714305838e-05\n",
        "Warning: adding jitter of 3.7714305838e-04\n",
        "Warning: adding jitter of 3.7714305838e-03\n",
        "Warning: adding jitter of 3.7714305838e-02\n",
        "Warning: adding jitter of 3.7714305838e-01\n",
        "Warning: adding jitter of 3.7714305836e-05\n",
        "Warning: adding jitter of 3.7714305836e-04\n",
        "Warning: adding jitter of 3.7714305836e-03\n",
        "Warning: adding jitter of 3.7714305836e-02\n",
        "Warning: adding jitter of 3.7714305836e-01\n",
        "Warning: adding jitter of 3.7714289058e-05\n",
        "Warning: adding jitter of 3.7714289058e-04\n",
        "Warning: adding jitter of 3.7714289058e-03\n",
        "Warning: adding jitter of 3.7714289058e-02\n",
        "Warning: adding jitter of 3.7714289058e-01\n",
        "\r",
        "0104   2.289997e+02   2.162613e+09   3.780937e+09"
       ]
      },
      {
       "output_type": "stream",
       "stream": "stdout",
       "text": [
        " Warning: adding jitter of 3.7714305239e-05\n",
        "Warning: adding jitter of 3.7714305239e-04\n",
        "Warning: adding jitter of 3.7714305239e-03\n",
        "Warning: adding jitter of 3.7714305239e-02\n",
        "Warning: adding jitter of 3.7714305239e-01\n",
        "\r",
        "0105   2.288315e+02   8.650451e+09   3.780937e+09"
       ]
      },
      {
       "output_type": "stream",
       "stream": "stdout",
       "text": [
        " Warning: adding jitter of 3.7714305239e-05\n",
        "Warning: adding jitter of 3.7714305239e-04\n",
        "Warning: adding jitter of 3.7714305239e-03\n",
        "Warning: adding jitter of 3.7714305239e-02\n",
        "Warning: adding jitter of 3.7714305239e-01\n",
        "Warning: adding jitter of 3.7714305241e-05\n",
        "Warning: adding jitter of 3.7714305241e-04\n",
        "Warning: adding jitter of 3.7714305241e-03\n",
        "Warning: adding jitter of 3.7714305241e-02\n",
        "Warning: adding jitter of 3.7714305241e-01\n",
        "Warning: adding jitter of 3.7714308310e-05\n",
        "Warning: adding jitter of 3.7714308310e-04\n",
        "Warning: adding jitter of 3.7714308310e-03\n",
        "Warning: adding jitter of 3.7714308310e-02\n",
        "Warning: adding jitter of 3.7714308310e-01\n",
        "\r",
        "0106   2.288315e+02   1.627362e+10   7.408186e+09"
       ]
      },
      {
       "output_type": "stream",
       "stream": "stdout",
       "text": [
        " Warning: adding jitter of 3.7714305489e-05\n",
        "Warning: adding jitter of 3.7714305489e-04\n",
        "Warning: adding jitter of 3.7714305489e-03\n",
        "Warning: adding jitter of 3.7714305489e-02\n",
        "Warning: adding jitter of 3.7714305489e-01\n",
        "\r",
        "0107   2.287044e+02   6.509447e+10   7.408186e+09"
       ]
      },
      {
       "output_type": "stream",
       "stream": "stdout",
       "text": [
        " Warning: adding jitter of 3.7714305489e-05\n",
        "Warning: adding jitter of 3.7714305489e-04\n",
        "Warning: adding jitter of 3.7714305489e-03\n",
        "Warning: adding jitter of 3.7714305489e-02\n",
        "Warning: adding jitter of 3.7714305489e-01\n",
        "Warning: adding jitter of 3.7714305493e-05\n",
        "Warning: adding jitter of 3.7714305493e-04\n",
        "Warning: adding jitter of 3.7714305493e-03\n",
        "Warning: adding jitter of 3.7714305493e-02\n",
        "Warning: adding jitter of 3.7714305493e-01\n",
        "Warning: adding jitter of 3.7714309901e-05\n",
        "Warning: adding jitter of 3.7714309901e-04\n",
        "Warning: adding jitter of 3.7714309901e-03\n",
        "Warning: adding jitter of 3.7714309901e-02\n",
        "Warning: adding jitter of 3.7714309901e-01\n",
        "\r",
        "0108   2.287044e+02   3.254723e+10   1.231728e+10"
       ]
      },
      {
       "output_type": "stream",
       "stream": "stdout",
       "text": [
        " Warning: adding jitter of 3.7714305832e-05\n",
        "Warning: adding jitter of 3.7714305832e-04\n",
        "Warning: adding jitter of 3.7714305832e-03\n",
        "Warning: adding jitter of 3.7714305832e-02\n",
        "Warning: adding jitter of 3.7714305832e-01\n",
        "\r",
        "0109   2.285741e+02   1.301889e+11   1.231728e+10"
       ]
      },
      {
       "output_type": "stream",
       "stream": "stdout",
       "text": [
        " \r",
        "0109   2.285741e+02   1.301889e+11   1.231728e+10"
       ]
      },
      {
       "output_type": "stream",
       "stream": "stdout",
       "text": [
        " \n",
        "converged - relative stepsize\n",
        "Warning: adding jitter of 3.7714305832e-05\n",
        "Warning: adding jitter of 3.7714305832e-04\n",
        "Warning: adding jitter of 3.7714305832e-03\n",
        "Warning: adding jitter of 3.7714305832e-02\n",
        "Warning: adding jitter of 3.7714305832e-01\n"
       ]
      }
     ],
     "prompt_number": 16
    },
    {
     "cell_type": "code",
     "collapsed": false,
     "input": [
      "print model.Heat_eqinit.lengthscale"
     ],
     "language": "python",
     "metadata": {},
     "outputs": [
      {
       "output_type": "stream",
       "stream": "stdout",
       "text": [
        "  Index  |  \u001b[1mGP_regression.Heat_eqinit.lengthscale\u001b[0;0m  |  Constraint  |   Prior   |  Tied to\n",
        "    0    |                               1.049035  |              |           |    N/A    \n",
        "    1    |                              1.0546842  |              |           |    N/A    \n",
        "    2    |                              1.2916365  |              |           |    N/A    \n",
        "    3    |                              1.5718853  |              |           |    N/A    \n",
        "    4    |                              2.8346026  |              |           |    N/A    \n",
        "    5    |                               2.471973  |              |           |    N/A    \n"
       ]
      }
     ],
     "prompt_number": 18
    },
    {
     "cell_type": "code",
     "collapsed": false,
     "input": [
      "print model.Heat_eqinit.scale"
     ],
     "language": "python",
     "metadata": {},
     "outputs": [
      {
       "output_type": "stream",
       "stream": "stdout",
       "text": [
        "  Index  |  \u001b[1mGP_regression.Heat_eqinit.scale\u001b[0;0m  |  Constraint  |   Prior   |  Tied to\n",
        "    0    |                        2.1032464  |              |           |    N/A    \n",
        "    1    |                        2.3334666  |              |           |    N/A    \n",
        "    2    |                         4.212288  |              |           |    N/A    \n",
        "    3    |                         4.752409  |              |           |    N/A    \n",
        "    4    |                        9.2926983  |              |           |    N/A    \n",
        "    5    |                         10.51631  |              |           |    N/A    \n"
       ]
      }
     ],
     "prompt_number": 19
    },
    {
     "cell_type": "code",
     "collapsed": false,
     "input": [
      "print model"
     ],
     "language": "python",
     "metadata": {},
     "outputs": [
      {
       "output_type": "stream",
       "stream": "stdout",
       "text": [
        "  GP_regression.                  |      Value       |  Constraint  |  Prior  |  Tied to\n",
        "  \u001b[1mHeat_eqinit.lengthscale       \u001b[0;0m  |            (6,)  |              |         |         \n",
        "  \u001b[1mHeat_eqinit.scale             \u001b[0;0m  |            (6,)  |              |         |         \n",
        "  \u001b[1mHeat_eqinit.shared_lengthscale\u001b[0;0m  |   9.65644383925  |              |         |         \n",
        "  \u001b[1mGaussian_noise.variance       \u001b[0;0m  |  0.519677942342  |     +ve      |         |         \n"
       ]
      }
     ],
     "prompt_number": 20
    },
    {
     "cell_type": "code",
     "collapsed": false,
     "input": [
      "#GPy.kern.kern_test(kern, X=data['X'], X2 = data['X'])"
     ],
     "language": "python",
     "metadata": {},
     "outputs": [],
     "prompt_number": 11
    },
    {
     "cell_type": "code",
     "collapsed": false,
     "input": [
      "kern.lengthscale[0]\n",
      "print kern.lengthscale\n"
     ],
     "language": "python",
     "metadata": {},
     "outputs": [
      {
       "output_type": "stream",
       "stream": "stdout",
       "text": [
        "  Index  |  \u001b[1mGP_regression.Heat_eqinit.lengthscale\u001b[0;0m  |  Constraint  |   Prior   |  Tied to\n",
        "    0    |                               1.049035  |              |           |    N/A    \n",
        "    1    |                              1.0546842  |              |           |    N/A    \n",
        "    2    |                              1.2916365  |              |           |    N/A    \n",
        "    3    |                              1.5718853  |              |           |    N/A    \n",
        "    4    |                              2.8346026  |              |           |    N/A    \n",
        "    5    |                               2.471973  |              |           |    N/A    \n"
       ]
      }
     ],
     "prompt_number": 21
    },
    {
     "cell_type": "code",
     "collapsed": false,
     "input": [
      "import pylab as pylab\n",
      "kern._K_derivatives_code['lengthscale_i'](**kern._arguments).shape"
     ],
     "language": "python",
     "metadata": {},
     "outputs": [
      {
       "latex": [
        "$$\\begin{pmatrix}126, & 126\\end{pmatrix}$$"
       ],
       "metadata": {},
       "output_type": "pyout",
       "png": "[encoded data removed]",
       "prompt_number": 22,
       "text": [
        "(126, 126)"
       ]
      }
     ],
     "prompt_number": 22
    },
    {
     "cell_type": "code",
     "collapsed": false,
     "input": [
      "model.checkgrad(verbose=1)"
     ],
     "language": "python",
     "metadata": {},
     "outputs": [
      {
       "output_type": "stream",
       "stream": "stdout",
       "text": [
        "                        Name                        |     Ratio     |  Difference   |  Analytical   |   Numerical   \n",
        "--------------------------------------------------------------------------------------------------------------------\n",
        "Warning: adding jitter of 3.7714305832e-05\n",
        "Warning: adding jitter of 3.7714305832e-04\n",
        "Warning: adding jitter of 3.7714305832e-03\n",
        "Warning: adding jitter of 3.7714305832e-02\n",
        "Warning: adding jitter of 3.7714305832e-01\n",
        "Warning: adding jitter of 3.7714305832e-05\n",
        "Warning: adding jitter of 3.7714305832e-04\n",
        "Warning: adding jitter of 3.7714305832e-03\n",
        "Warning: adding jitter of 3.7714305832e-02\n",
        "Warning: adding jitter of 3.7714305832e-01\n",
        "Warning: adding jitter of 3.7714305832e-05\n",
        "Warning: adding jitter of 3.7714305832e-04\n",
        "Warning: adding jitter of 3.7714305832e-03\n",
        "Warning: adding jitter of 3.7714305832e-02\n",
        "Warning: adding jitter of 3.7714305832e-01\n",
        "\u001b[92m GP_regression.Heat_eqinit.lengthscale[0] \u001b[0m          |   1.000352    |   5.727992    | 16253.222744  | 16258.950736  \n",
        "Warning: adding jitter of 3.7714305832e-05\n",
        "Warning: adding jitter of 3.7714305832e-04\n",
        "Warning: adding jitter of 3.7714305832e-03\n",
        "Warning: adding jitter of 3.7714305832e-02\n",
        "Warning: adding jitter of 3.7714305832e-01\n",
        "Warning: adding jitter of 3.7714305832e-05\n",
        "Warning: adding jitter of 3.7714305832e-04\n",
        "Warning: adding jitter of 3.7714305832e-03"
       ]
      },
      {
       "output_type": "stream",
       "stream": "stdout",
       "text": [
        "\n",
        "Warning: adding jitter of 3.7714305832e-02\n",
        "Warning: adding jitter of 3.7714305832e-01\n",
        "\u001b[92m GP_regression.Heat_eqinit.lengthscale[1] \u001b[0m          |   1.000519    |   10.238512   | 19722.954012  | 19733.192524  \n",
        "Warning: adding jitter of 3.7714305832e-05\n",
        "Warning: adding jitter of 3.7714305832e-04\n",
        "Warning: adding jitter of 3.7714305832e-03\n",
        "Warning: adding jitter of 3.7714305832e-02\n",
        "Warning: adding jitter of 3.7714305832e-01\n",
        "Warning: adding jitter of 3.7714305832e-05\n",
        "Warning: adding jitter of 3.7714305832e-04\n",
        "Warning: adding jitter of 3.7714305832e-03\n",
        "Warning: adding jitter of 3.7714305832e-02\n",
        "Warning: adding jitter of 3.7714305832e-01\n",
        "\u001b[91m GP_regression.Heat_eqinit.lengthscale[2] \u001b[0m          |   1.003715    |  195.473697   | 52613.353846  | 52808.827543  \n",
        "Warning: adding jitter of 3.7714305832e-05\n",
        "Warning: adding jitter of 3.7714305832e-04\n",
        "Warning: adding jitter of 3.7714305832e-03\n",
        "Warning: adding jitter of 3.7714305832e-02\n",
        "Warning: adding jitter of 3.7714305832e-01\n",
        "Warning: adding jitter of 3.7714305832e-05\n"
       ]
      },
      {
       "output_type": "stream",
       "stream": "stdout",
       "text": [
        "Warning: adding jitter of 3.7714305832e-04\n",
        "Warning: adding jitter of 3.7714305832e-03\n",
        "Warning: adding jitter of 3.7714305832e-02\n",
        "Warning: adding jitter of 3.7714305832e-01\n",
        "\u001b[91m GP_regression.Heat_eqinit.lengthscale[3] \u001b[0m          |   1.002695    |  120.865151   | 44849.279509  | 44970.144660  \n",
        "Warning: adding jitter of 3.7714305832e-05\n",
        "Warning: adding jitter of 3.7714305832e-04\n",
        "Warning: adding jitter of 3.7714305832e-03\n",
        "Warning: adding jitter of 3.7714305832e-02\n",
        "Warning: adding jitter of 3.7714305832e-01\n",
        "Warning: adding jitter of 3.7714305832e-05\n",
        "Warning: adding jitter of 3.7714305832e-04\n",
        "Warning: adding jitter of 3.7714305832e-03\n",
        "Warning: adding jitter of 3.7714305832e-02\n",
        "Warning: adding jitter of 3.7714305832e-01\n",
        "\u001b[91m GP_regression.Heat_eqinit.lengthscale[4] \u001b[0m          |   1.016871    |  1869.489196  |-110811.930225 |-112681.419420 \n",
        "Warning: adding jitter of 3.7714305832e-05\n",
        "Warning: adding jitter of 3.7714305832e-04\n",
        "Warning: adding jitter of 3.7714305832e-03\n",
        "Warning: adding jitter of 3.7714305832e-02\n",
        "Warning: adding jitter of 3.7714305832e-01\n",
        "Warning: adding jitter of 3.7714305832e-05\n",
        "Warning: adding jitter of 3.7714305832e-04\n",
        "Warning: adding jitter of 3.7714305832e-03\n",
        "Warning: adding jitter of 3.7714305832e-02\n",
        "Warning: adding jitter of 3.7714305832e-01\n",
        "\u001b[92m GP_regression.Heat_eqinit.lengthscale[5] \u001b[0m          |   1.000730    |   17.082924   | -23393.378533 | -23410.461457 "
       ]
      },
      {
       "output_type": "stream",
       "stream": "stdout",
       "text": [
        "\n",
        "Warning: adding jitter of 3.7714306733e-05\n",
        "Warning: adding jitter of 3.7714306733e-04\n",
        "Warning: adding jitter of 3.7714306733e-03\n",
        "Warning: adding jitter of 3.7714306733e-02\n",
        "Warning: adding jitter of 3.7714306733e-01\n",
        "Warning: adding jitter of 3.7714304930e-05\n",
        "Warning: adding jitter of 3.7714304930e-04\n",
        "Warning: adding jitter of 3.7714304930e-03\n",
        "Warning: adding jitter of 3.7714304930e-02\n",
        "Warning: adding jitter of 3.7714304930e-01\n",
        "\u001b[91m GP_regression.Heat_eqinit.scale[0] \u001b[0m                |   0.902829    |  967.464358   | -9956.266223  | -8988.801865  \n",
        "Warning: adding jitter of 3.7714306536e-05\n",
        "Warning: adding jitter of 3.7714306536e-04\n",
        "Warning: adding jitter of 3.7714306536e-03\n",
        "Warning: adding jitter of 3.7714306536e-02\n",
        "Warning: adding jitter of 3.7714306536e-01\n",
        "Warning: adding jitter of 3.7714305128e-05\n",
        "Warning: adding jitter of 3.7714305128e-04\n",
        "Warning: adding jitter of 3.7714305128e-03\n",
        "Warning: adding jitter of 3.7714305128e-02\n",
        "Warning: adding jitter of 3.7714305128e-01\n",
        "\u001b[91m GP_regression.Heat_eqinit.scale[1] \u001b[0m                |   0.930393    |  754.719077   | -10842.565873 | -10087.846795 \n",
        "Warning: adding jitter of 3.7714307503e-05\n",
        "Warning: adding jitter of 3.7714307503e-04\n",
        "Warning: adding jitter of 3.7714307503e-03"
       ]
      },
      {
       "output_type": "stream",
       "stream": "stdout",
       "text": [
        "\n",
        "Warning: adding jitter of 3.7714307503e-02\n",
        "Warning: adding jitter of 3.7714307503e-01\n",
        "Warning: adding jitter of 3.7714304160e-05\n",
        "Warning: adding jitter of 3.7714304160e-04\n",
        "Warning: adding jitter of 3.7714304160e-03\n",
        "Warning: adding jitter of 3.7714304160e-02\n",
        "Warning: adding jitter of 3.7714304160e-01\n",
        "\u001b[91m GP_regression.Heat_eqinit.scale[2] \u001b[0m                |   0.863440    |  1793.920833  | -13136.526050 | -11342.605217 \n",
        "Warning: adding jitter of 3.7714307039e-05\n",
        "Warning: adding jitter of 3.7714307039e-04\n",
        "Warning: adding jitter of 3.7714307039e-03\n",
        "Warning: adding jitter of 3.7714307039e-02\n",
        "Warning: adding jitter of 3.7714307039e-01\n",
        "Warning: adding jitter of 3.7714304625e-05\n",
        "Warning: adding jitter of 3.7714304625e-04\n",
        "Warning: adding jitter of 3.7714304625e-03\n",
        "Warning: adding jitter of 3.7714304625e-02\n",
        "Warning: adding jitter of 3.7714304625e-01\n",
        "\u001b[91m GP_regression.Heat_eqinit.scale[3] \u001b[0m                |   0.821177    |  1296.444576  | -7249.875103  | -5953.430527  \n",
        "Warning: adding jitter of 3.7714309814e-05\n",
        "Warning: adding jitter of 3.7714309814e-04\n",
        "Warning: adding jitter of 3.7714309814e-03\n",
        "Warning: adding jitter of 3.7714309814e-02\n",
        "Warning: adding jitter of 3.7714309814e-01\n",
        "Warning: adding jitter of 3.7714301849e-05"
       ]
      },
      {
       "output_type": "stream",
       "stream": "stdout",
       "text": [
        "\n",
        "Warning: adding jitter of 3.7714301849e-04\n",
        "Warning: adding jitter of 3.7714301849e-03\n",
        "Warning: adding jitter of 3.7714301849e-02\n",
        "Warning: adding jitter of 3.7714301849e-01\n",
        "\u001b[91m GP_regression.Heat_eqinit.scale[4] \u001b[0m                |   0.267823    |  4278.776318  | -5843.910544  | -1565.134226  \n",
        "Warning: adding jitter of 3.7714307835e-05\n",
        "Warning: adding jitter of 3.7714307835e-04\n",
        "Warning: adding jitter of 3.7714307835e-03\n",
        "Warning: adding jitter of 3.7714307835e-02\n",
        "Warning: adding jitter of 3.7714307835e-01\n",
        "Warning: adding jitter of 3.7714303829e-05\n",
        "Warning: adding jitter of 3.7714303829e-04\n",
        "Warning: adding jitter of 3.7714303829e-03\n",
        "Warning: adding jitter of 3.7714303829e-02\n",
        "Warning: adding jitter of 3.7714303829e-01\n",
        "\u001b[91m GP_regression.Heat_eqinit.scale[5] \u001b[0m                |   -8.322518   |  2152.092410  |  -230.848839  |  1921.243571  \n",
        "Warning: adding jitter of 3.7714305832e-05\n",
        "Warning: adding jitter of 3.7714305832e-04\n",
        "Warning: adding jitter of 3.7714305832e-03\n",
        "Warning: adding jitter of 3.7714305832e-02\n",
        "Warning: adding jitter of 3.7714305832e-01\n",
        "Warning: adding jitter of 3.7714305832e-05\n",
        "Warning: adding jitter of 3.7714305832e-04\n",
        "Warning: adding jitter of 3.7714305832e-03\n",
        "Warning: adding jitter of 3.7714305832e-02\n",
        "Warning: adding jitter of 3.7714305832e-01\n",
        "\u001b[92m GP_regression.Heat_eqinit.shared_lengthscale[0] \u001b[0m   |   1.000144    |   1.487478    | 10364.600094  | 10366.087571  "
       ]
      },
      {
       "output_type": "stream",
       "stream": "stdout",
       "text": [
        "\n",
        "Warning: adding jitter of 3.7714306237e-05\n",
        "Warning: adding jitter of 3.7714306237e-04\n",
        "Warning: adding jitter of 3.7714306237e-03\n",
        "Warning: adding jitter of 3.7714306237e-02\n",
        "Warning: adding jitter of 3.7714306237e-01\n",
        "Warning: adding jitter of 3.7714305427e-05\n",
        "Warning: adding jitter of 3.7714305427e-04\n",
        "Warning: adding jitter of 3.7714305427e-03\n",
        "Warning: adding jitter of 3.7714305427e-02\n",
        "Warning: adding jitter of 3.7714305427e-01\n",
        "\u001b[91m GP_regression.Gaussian_noise.variance[0] \u001b[0m          |   1.012614    |  549.239243   | 43543.031765  | 44092.271008  \n",
        "Warning: adding jitter of 3.7714305832e-05\n",
        "Warning: adding jitter of 3.7714305832e-04\n",
        "Warning: adding jitter of 3.7714305832e-03\n",
        "Warning: adding jitter of 3.7714305832e-02\n",
        "Warning: adding jitter of 3.7714305832e-01\n"
       ]
      },
      {
       "metadata": {},
       "output_type": "pyout",
       "prompt_number": 23,
       "text": [
        "False"
       ]
      }
     ],
     "prompt_number": 23
    },
    {
     "cell_type": "code",
     "collapsed": false,
     "input": [
      "model.kern.K(X, X)[np.where(model.kern._output_ind==0)].T[np.where(model.kern._output_ind==0)].shape"
     ],
     "language": "python",
     "metadata": {},
     "outputs": [
      {
       "latex": [
        "$$\\begin{pmatrix}27, & 27\\end{pmatrix}$$"
       ],
       "metadata": {},
       "output_type": "pyout",
       "png": "[encoded data removed]",
       "prompt_number": 24,
       "text": [
        "(27, 27)"
       ]
      }
     ],
     "prompt_number": 24
    },
    {
     "cell_type": "code",
     "collapsed": false,
     "input": [
      "print X"
     ],
     "language": "python",
     "metadata": {},
     "outputs": [
      {
       "output_type": "stream",
       "stream": "stdout",
       "text": [
        "[[  1.89600000e+03   0.00000000e+00]\n",
        " [  1.90000000e+03   0.00000000e+00]\n",
        " [  1.90400000e+03   0.00000000e+00]\n",
        " [  1.90600000e+03   0.00000000e+00]\n",
        " [  1.90800000e+03   0.00000000e+00]\n",
        " [  1.91200000e+03   0.00000000e+00]\n",
        " [  1.92000000e+03   0.00000000e+00]\n",
        " [  1.92400000e+03   0.00000000e+00]\n",
        " [  1.92800000e+03   0.00000000e+00]\n",
        " [  1.93200000e+03   0.00000000e+00]\n",
        " [  1.93600000e+03   0.00000000e+00]\n",
        " [  1.94800000e+03   0.00000000e+00]\n",
        " [  1.95200000e+03   0.00000000e+00]\n",
        " [  1.95600000e+03   0.00000000e+00]\n",
        " [  1.96000000e+03   0.00000000e+00]\n",
        " [  1.96400000e+03   0.00000000e+00]\n",
        " [  1.96800000e+03   0.00000000e+00]\n",
        " [  1.97200000e+03   0.00000000e+00]\n",
        " [  1.97600000e+03   0.00000000e+00]\n",
        " [  1.98000000e+03   0.00000000e+00]\n",
        " [  1.98400000e+03   0.00000000e+00]\n",
        " [  1.98800000e+03   0.00000000e+00]\n",
        " [  1.99200000e+03   0.00000000e+00]\n",
        " [  1.99600000e+03   0.00000000e+00]\n",
        " [  2.00000000e+03   0.00000000e+00]\n",
        " [  2.00400000e+03   0.00000000e+00]\n",
        " [  2.00800000e+03   0.00000000e+00]\n",
        " [  1.92800000e+03   1.00000000e+00]\n",
        " [  1.93200000e+03   1.00000000e+00]\n",
        " [  1.93600000e+03   1.00000000e+00]\n",
        " [  1.94800000e+03   1.00000000e+00]\n",
        " [  1.95200000e+03   1.00000000e+00]\n",
        " [  1.95600000e+03   1.00000000e+00]\n",
        " [  1.96000000e+03   1.00000000e+00]\n",
        " [  1.96400000e+03   1.00000000e+00]\n",
        " [  1.96800000e+03   1.00000000e+00]\n",
        " [  1.97200000e+03   1.00000000e+00]\n",
        " [  1.97600000e+03   1.00000000e+00]\n",
        " [  1.98000000e+03   1.00000000e+00]\n",
        " [  1.98400000e+03   1.00000000e+00]\n",
        " [  1.98800000e+03   1.00000000e+00]\n",
        " [  1.99200000e+03   1.00000000e+00]\n",
        " [  1.99600000e+03   1.00000000e+00]\n",
        " [  2.00000000e+03   1.00000000e+00]\n",
        " [  2.00400000e+03   1.00000000e+00]\n",
        " [  2.00800000e+03   1.00000000e+00]\n",
        " [  1.90000000e+03   2.00000000e+00]\n",
        " [  1.90400000e+03   2.00000000e+00]\n",
        " [  1.90800000e+03   2.00000000e+00]\n",
        " [  1.91200000e+03   2.00000000e+00]\n",
        " [  1.92000000e+03   2.00000000e+00]\n",
        " [  1.92400000e+03   2.00000000e+00]\n",
        " [  1.92800000e+03   2.00000000e+00]\n",
        " [  1.93200000e+03   2.00000000e+00]\n",
        " [  1.93600000e+03   2.00000000e+00]\n",
        " [  1.94800000e+03   2.00000000e+00]\n",
        " [  1.95200000e+03   2.00000000e+00]\n",
        " [  1.95600000e+03   2.00000000e+00]\n",
        " [  1.96000000e+03   2.00000000e+00]\n",
        " [  1.96400000e+03   2.00000000e+00]\n",
        " [  1.96800000e+03   2.00000000e+00]\n",
        " [  1.97200000e+03   2.00000000e+00]\n",
        " [  1.97600000e+03   2.00000000e+00]\n",
        " [  1.98000000e+03   2.00000000e+00]\n",
        " [  1.98400000e+03   2.00000000e+00]\n",
        " [  1.98800000e+03   2.00000000e+00]\n",
        " [  1.99200000e+03   2.00000000e+00]\n",
        " [  1.99600000e+03   2.00000000e+00]\n",
        " [  2.00000000e+03   2.00000000e+00]\n",
        " [  2.00400000e+03   2.00000000e+00]\n",
        " [  2.00800000e+03   2.00000000e+00]\n",
        " [  1.94800000e+03   3.00000000e+00]\n",
        " [  1.95200000e+03   3.00000000e+00]\n",
        " [  1.95600000e+03   3.00000000e+00]\n",
        " [  1.96000000e+03   3.00000000e+00]\n",
        " [  1.96400000e+03   3.00000000e+00]\n",
        " [  1.96800000e+03   3.00000000e+00]\n",
        " [  1.97200000e+03   3.00000000e+00]\n",
        " [  1.97600000e+03   3.00000000e+00]\n",
        " [  1.98000000e+03   3.00000000e+00]\n",
        " [  1.98400000e+03   3.00000000e+00]\n",
        " [  1.98800000e+03   3.00000000e+00]\n",
        " [  1.99200000e+03   3.00000000e+00]\n",
        " [  1.99600000e+03   3.00000000e+00]\n",
        " [  2.00000000e+03   3.00000000e+00]\n",
        " [  2.00400000e+03   3.00000000e+00]\n",
        " [  2.00800000e+03   3.00000000e+00]\n",
        " [  1.89600000e+03   4.00000000e+00]\n",
        " [  1.90000000e+03   4.00000000e+00]\n",
        " [  1.90400000e+03   4.00000000e+00]\n",
        " [  1.90600000e+03   4.00000000e+00]\n",
        " [  1.90800000e+03   4.00000000e+00]\n",
        " [  1.91200000e+03   4.00000000e+00]\n",
        " [  1.92000000e+03   4.00000000e+00]\n",
        " [  1.92400000e+03   4.00000000e+00]\n",
        " [  1.92800000e+03   4.00000000e+00]\n",
        " [  1.93200000e+03   4.00000000e+00]\n",
        " [  1.93600000e+03   4.00000000e+00]\n",
        " [  1.94800000e+03   4.00000000e+00]\n",
        " [  1.95200000e+03   4.00000000e+00]\n",
        " [  1.95600000e+03   4.00000000e+00]\n",
        " [  1.96000000e+03   4.00000000e+00]\n",
        " [  1.96400000e+03   4.00000000e+00]\n",
        " [  1.96800000e+03   4.00000000e+00]\n",
        " [  1.97200000e+03   4.00000000e+00]\n",
        " [  1.97600000e+03   4.00000000e+00]\n",
        " [  1.98000000e+03   4.00000000e+00]\n",
        " [  1.98400000e+03   4.00000000e+00]\n",
        " [  1.98800000e+03   4.00000000e+00]\n",
        " [  1.99200000e+03   4.00000000e+00]\n",
        " [  1.99600000e+03   4.00000000e+00]\n",
        " [  2.00000000e+03   4.00000000e+00]\n",
        " [  2.00400000e+03   4.00000000e+00]\n",
        " [  2.00800000e+03   4.00000000e+00]\n",
        " [  1.96400000e+03   5.00000000e+00]\n",
        " [  1.96800000e+03   5.00000000e+00]\n",
        " [  1.97200000e+03   5.00000000e+00]\n",
        " [  1.97600000e+03   5.00000000e+00]\n",
        " [  1.98000000e+03   5.00000000e+00]\n",
        " [  1.98400000e+03   5.00000000e+00]\n",
        " [  1.98800000e+03   5.00000000e+00]\n",
        " [  1.99200000e+03   5.00000000e+00]\n",
        " [  1.99600000e+03   5.00000000e+00]\n",
        " [  2.00000000e+03   5.00000000e+00]\n",
        " [  2.00400000e+03   5.00000000e+00]\n",
        " [  2.00800000e+03   5.00000000e+00]]\n"
       ]
      }
     ],
     "prompt_number": 25
    },
    {
     "cell_type": "code",
     "collapsed": false,
     "input": [
      "model.optimize(optimizer='scg', messages=True)"
     ],
     "language": "python",
     "metadata": {},
     "outputs": [
      {
       "output_type": "stream",
       "stream": "stdout",
       "text": [
        "Warning: adding jitter of 3.7714305832e-05\n",
        "Warning: adding jitter of 3.7714305832e-04\n",
        "Warning: adding jitter of 3.7714305832e-03\n",
        "Warning: adding jitter of 3.7714305832e-02\n",
        "Warning: adding jitter of 3.7714305832e-01\n",
        "Warning: adding jitter of 3.7714305832e-05\n",
        "Warning: adding jitter of 3.7714305832e-04\n",
        "Warning: adding jitter of 3.7714305832e-03\n",
        "Warning: adding jitter of 3.7714305832e-02\n",
        "Warning: adding jitter of 3.7714305832e-01\n",
        " I      F              Scale          |g|        \n",
        "Warning: adding jitter of 3.7714305836e-05\n",
        "Warning: adding jitter of 3.7714305836e-04\n",
        "Warning: adding jitter of 3.7714305836e-03\n",
        "Warning: adding jitter of 3.7714305836e-02\n",
        "Warning: adding jitter of 3.7714305836e-01\n",
        "Warning: adding jitter of 8.7277453142e+01\n",
        "Warning: adding jitter of 8.7277453142e+02\n",
        "Warning: adding jitter of 8.7277453142e+03\n",
        "\r",
        "0001   2.285741e+02   4.147671e+10   2.073876e+10"
       ]
      },
      {
       "output_type": "stream",
       "stream": "stdout",
       "text": [
        " Warning: adding jitter of 3.7714306261e-05\n",
        "Warning: adding jitter of 3.7714306261e-04\n",
        "Warning: adding jitter of 3.7714306261e-03\n",
        "Warning: adding jitter of 3.7714306261e-02\n",
        "Warning: adding jitter of 3.7714306261e-01\n",
        "\r",
        "0002   2.283721e+02   1.659068e+11   2.073876e+10"
       ]
      },
      {
       "output_type": "stream",
       "stream": "stdout",
       "text": [
        " \r",
        "0002   2.283721e+02   1.659068e+11   2.073876e+10"
       ]
      },
      {
       "output_type": "stream",
       "stream": "stdout",
       "text": [
        " \n",
        "converged - relative stepsize\n",
        "Warning: adding jitter of 3.7714306261e-05\n",
        "Warning: adding jitter of 3.7714306261e-04\n",
        "Warning: adding jitter of 3.7714306261e-03\n",
        "Warning: adding jitter of 3.7714306261e-02\n",
        "Warning: adding jitter of 3.7714306261e-01\n"
       ]
      }
     ],
     "prompt_number": 26
    },
    {
     "cell_type": "code",
     "collapsed": false,
     "input": [
      "print model"
     ],
     "language": "python",
     "metadata": {},
     "outputs": [
      {
       "output_type": "stream",
       "stream": "stdout",
       "text": [
        "  GP_regression.                  |      Value       |  Constraint  |  Prior  |  Tied to\n",
        "  \u001b[1mHeat_eqinit.lengthscale       \u001b[0;0m  |            (6,)  |              |         |         \n",
        "  \u001b[1mHeat_eqinit.scale             \u001b[0;0m  |            (6,)  |              |         |         \n",
        "  \u001b[1mHeat_eqinit.shared_lengthscale\u001b[0;0m  |   9.65644375595  |              |         |         \n",
        "  \u001b[1mGaussian_noise.variance       \u001b[0;0m  |  0.519677800515  |     +ve      |         |         \n"
       ]
      }
     ],
     "prompt_number": 27
    },
    {
     "cell_type": "code",
     "collapsed": false,
     "input": [
      "kern.scale"
     ],
     "language": "python",
     "metadata": {},
     "outputs": [
      {
       "metadata": {},
       "output_type": "pyout",
       "prompt_number": 28,
       "text": [
        "\u001b[1mGP_regression.Heat_eqinit.scale\u001b[0;0m:\n",
        "Param([  2.10324646,   2.33346668,   4.2122881 ,   4.75240909,\n",
        "         9.29269832,  10.51631034])"
       ]
      }
     ],
     "prompt_number": 28
    },
    {
     "cell_type": "code",
     "collapsed": false,
     "input": [
      "years_test = np.linspace(1880, 2012)[:, None]\n",
      "for i in range(6):\n",
      "    x_test = np.hstack((years_test, np.ones_like(years_test)*i))\n",
      "    f_test = model.predict(x_test)[0]\n",
      "    plt.plot(years_test, f_test)\n",
      "    plt.plot(X[X[:, 1]==i], y[X[:, 1]==i], 'rx')\n",
      "ax = gca()\n",
      "ax.set_xlim(1880, 2012)"
     ],
     "language": "python",
     "metadata": {},
     "outputs": [
      {
       "ename": "ValueError",
       "evalue": "x and y must have same first dimension",
       "output_type": "pyerr",
       "traceback": [
        "\u001b[0;31m---------------------------------------------------------------------------\u001b[0m\n\u001b[0;31mValueError\u001b[0m                                Traceback (most recent call last)",
        "\u001b[0;32m<ipython-input-29-0d568a748d84>\u001b[0m in \u001b[0;36m<module>\u001b[0;34m()\u001b[0m\n\u001b[1;32m      3\u001b[0m     \u001b[0mx_test\u001b[0m \u001b[0;34m=\u001b[0m \u001b[0mnp\u001b[0m\u001b[0;34m.\u001b[0m\u001b[0mhstack\u001b[0m\u001b[0;34m(\u001b[0m\u001b[0;34m(\u001b[0m\u001b[0myears_test\u001b[0m\u001b[0;34m,\u001b[0m \u001b[0mnp\u001b[0m\u001b[0;34m.\u001b[0m\u001b[0mones_like\u001b[0m\u001b[0;34m(\u001b[0m\u001b[0myears_test\u001b[0m\u001b[0;34m)\u001b[0m\u001b[0;34m*\u001b[0m\u001b[0mi\u001b[0m\u001b[0;34m)\u001b[0m\u001b[0;34m)\u001b[0m\u001b[0;34m\u001b[0m\u001b[0m\n\u001b[1;32m      4\u001b[0m     \u001b[0mf_test\u001b[0m \u001b[0;34m=\u001b[0m \u001b[0mmodel\u001b[0m\u001b[0;34m.\u001b[0m\u001b[0mpredict\u001b[0m\u001b[0;34m(\u001b[0m\u001b[0mx_test\u001b[0m\u001b[0;34m)\u001b[0m\u001b[0;34m[\u001b[0m\u001b[0;36m0\u001b[0m\u001b[0;34m]\u001b[0m\u001b[0;34m\u001b[0m\u001b[0m\n\u001b[0;32m----> 5\u001b[0;31m     \u001b[0mplt\u001b[0m\u001b[0;34m.\u001b[0m\u001b[0mplot\u001b[0m\u001b[0;34m(\u001b[0m\u001b[0myears_test\u001b[0m\u001b[0;34m,\u001b[0m \u001b[0mf_test\u001b[0m\u001b[0;34m)\u001b[0m\u001b[0;34m\u001b[0m\u001b[0m\n\u001b[0m\u001b[1;32m      6\u001b[0m     \u001b[0mplt\u001b[0m\u001b[0;34m.\u001b[0m\u001b[0mplot\u001b[0m\u001b[0;34m(\u001b[0m\u001b[0mX\u001b[0m\u001b[0;34m[\u001b[0m\u001b[0mX\u001b[0m\u001b[0;34m[\u001b[0m\u001b[0;34m:\u001b[0m\u001b[0;34m,\u001b[0m \u001b[0;36m1\u001b[0m\u001b[0;34m]\u001b[0m\u001b[0;34m==\u001b[0m\u001b[0mi\u001b[0m\u001b[0;34m]\u001b[0m\u001b[0;34m,\u001b[0m \u001b[0my\u001b[0m\u001b[0;34m[\u001b[0m\u001b[0mX\u001b[0m\u001b[0;34m[\u001b[0m\u001b[0;34m:\u001b[0m\u001b[0;34m,\u001b[0m \u001b[0;36m1\u001b[0m\u001b[0;34m]\u001b[0m\u001b[0;34m==\u001b[0m\u001b[0mi\u001b[0m\u001b[0;34m]\u001b[0m\u001b[0;34m,\u001b[0m \u001b[0;34m'rx'\u001b[0m\u001b[0;34m)\u001b[0m\u001b[0;34m\u001b[0m\u001b[0m\n\u001b[1;32m      7\u001b[0m \u001b[0max\u001b[0m \u001b[0;34m=\u001b[0m \u001b[0mgca\u001b[0m\u001b[0;34m(\u001b[0m\u001b[0;34m)\u001b[0m\u001b[0;34m\u001b[0m\u001b[0m\n",
        "\u001b[0;32m/Users/neil/Library/Enthought/Canopy_64bit/User/lib/python2.7/site-packages/matplotlib/pyplot.pyc\u001b[0m in \u001b[0;36mplot\u001b[0;34m(*args, **kwargs)\u001b[0m\n\u001b[1;32m   2985\u001b[0m         \u001b[0max\u001b[0m\u001b[0;34m.\u001b[0m\u001b[0mhold\u001b[0m\u001b[0;34m(\u001b[0m\u001b[0mhold\u001b[0m\u001b[0;34m)\u001b[0m\u001b[0;34m\u001b[0m\u001b[0m\n\u001b[1;32m   2986\u001b[0m     \u001b[0;32mtry\u001b[0m\u001b[0;34m:\u001b[0m\u001b[0;34m\u001b[0m\u001b[0m\n\u001b[0;32m-> 2987\u001b[0;31m         \u001b[0mret\u001b[0m \u001b[0;34m=\u001b[0m \u001b[0max\u001b[0m\u001b[0;34m.\u001b[0m\u001b[0mplot\u001b[0m\u001b[0;34m(\u001b[0m\u001b[0;34m*\u001b[0m\u001b[0margs\u001b[0m\u001b[0;34m,\u001b[0m \u001b[0;34m**\u001b[0m\u001b[0mkwargs\u001b[0m\u001b[0;34m)\u001b[0m\u001b[0;34m\u001b[0m\u001b[0m\n\u001b[0m\u001b[1;32m   2988\u001b[0m         \u001b[0mdraw_if_interactive\u001b[0m\u001b[0;34m(\u001b[0m\u001b[0;34m)\u001b[0m\u001b[0;34m\u001b[0m\u001b[0m\n\u001b[1;32m   2989\u001b[0m     \u001b[0;32mfinally\u001b[0m\u001b[0;34m:\u001b[0m\u001b[0;34m\u001b[0m\u001b[0m\n",
        "\u001b[0;32m/Users/neil/Library/Enthought/Canopy_64bit/User/lib/python2.7/site-packages/matplotlib/axes.pyc\u001b[0m in \u001b[0;36mplot\u001b[0;34m(self, *args, **kwargs)\u001b[0m\n\u001b[1;32m   4135\u001b[0m         \u001b[0mlines\u001b[0m \u001b[0;34m=\u001b[0m \u001b[0;34m[\u001b[0m\u001b[0;34m]\u001b[0m\u001b[0;34m\u001b[0m\u001b[0m\n\u001b[1;32m   4136\u001b[0m \u001b[0;34m\u001b[0m\u001b[0m\n\u001b[0;32m-> 4137\u001b[0;31m         \u001b[0;32mfor\u001b[0m \u001b[0mline\u001b[0m \u001b[0;32min\u001b[0m \u001b[0mself\u001b[0m\u001b[0;34m.\u001b[0m\u001b[0m_get_lines\u001b[0m\u001b[0;34m(\u001b[0m\u001b[0;34m*\u001b[0m\u001b[0margs\u001b[0m\u001b[0;34m,\u001b[0m \u001b[0;34m**\u001b[0m\u001b[0mkwargs\u001b[0m\u001b[0;34m)\u001b[0m\u001b[0;34m:\u001b[0m\u001b[0;34m\u001b[0m\u001b[0m\n\u001b[0m\u001b[1;32m   4138\u001b[0m             \u001b[0mself\u001b[0m\u001b[0;34m.\u001b[0m\u001b[0madd_line\u001b[0m\u001b[0;34m(\u001b[0m\u001b[0mline\u001b[0m\u001b[0;34m)\u001b[0m\u001b[0;34m\u001b[0m\u001b[0m\n\u001b[1;32m   4139\u001b[0m             \u001b[0mlines\u001b[0m\u001b[0;34m.\u001b[0m\u001b[0mappend\u001b[0m\u001b[0;34m(\u001b[0m\u001b[0mline\u001b[0m\u001b[0;34m)\u001b[0m\u001b[0;34m\u001b[0m\u001b[0m\n",
        "\u001b[0;32m/Users/neil/Library/Enthought/Canopy_64bit/User/lib/python2.7/site-packages/matplotlib/axes.pyc\u001b[0m in \u001b[0;36m_grab_next_args\u001b[0;34m(self, *args, **kwargs)\u001b[0m\n\u001b[1;32m    315\u001b[0m                 \u001b[0;32mreturn\u001b[0m\u001b[0;34m\u001b[0m\u001b[0m\n\u001b[1;32m    316\u001b[0m             \u001b[0;32mif\u001b[0m \u001b[0mlen\u001b[0m\u001b[0;34m(\u001b[0m\u001b[0mremaining\u001b[0m\u001b[0;34m)\u001b[0m \u001b[0;34m<=\u001b[0m \u001b[0;36m3\u001b[0m\u001b[0;34m:\u001b[0m\u001b[0;34m\u001b[0m\u001b[0m\n\u001b[0;32m--> 317\u001b[0;31m                 \u001b[0;32mfor\u001b[0m \u001b[0mseg\u001b[0m \u001b[0;32min\u001b[0m \u001b[0mself\u001b[0m\u001b[0;34m.\u001b[0m\u001b[0m_plot_args\u001b[0m\u001b[0;34m(\u001b[0m\u001b[0mremaining\u001b[0m\u001b[0;34m,\u001b[0m \u001b[0mkwargs\u001b[0m\u001b[0;34m)\u001b[0m\u001b[0;34m:\u001b[0m\u001b[0;34m\u001b[0m\u001b[0m\n\u001b[0m\u001b[1;32m    318\u001b[0m                     \u001b[0;32myield\u001b[0m \u001b[0mseg\u001b[0m\u001b[0;34m\u001b[0m\u001b[0m\n\u001b[1;32m    319\u001b[0m                 \u001b[0;32mreturn\u001b[0m\u001b[0;34m\u001b[0m\u001b[0m\n",
        "\u001b[0;32m/Users/neil/Library/Enthought/Canopy_64bit/User/lib/python2.7/site-packages/matplotlib/axes.pyc\u001b[0m in \u001b[0;36m_plot_args\u001b[0;34m(self, tup, kwargs)\u001b[0m\n\u001b[1;32m    293\u001b[0m             \u001b[0mx\u001b[0m \u001b[0;34m=\u001b[0m \u001b[0mnp\u001b[0m\u001b[0;34m.\u001b[0m\u001b[0marange\u001b[0m\u001b[0;34m(\u001b[0m\u001b[0my\u001b[0m\u001b[0;34m.\u001b[0m\u001b[0mshape\u001b[0m\u001b[0;34m[\u001b[0m\u001b[0;36m0\u001b[0m\u001b[0;34m]\u001b[0m\u001b[0;34m,\u001b[0m \u001b[0mdtype\u001b[0m\u001b[0;34m=\u001b[0m\u001b[0mfloat\u001b[0m\u001b[0;34m)\u001b[0m\u001b[0;34m\u001b[0m\u001b[0m\n\u001b[1;32m    294\u001b[0m \u001b[0;34m\u001b[0m\u001b[0m\n\u001b[0;32m--> 295\u001b[0;31m         \u001b[0mx\u001b[0m\u001b[0;34m,\u001b[0m \u001b[0my\u001b[0m \u001b[0;34m=\u001b[0m \u001b[0mself\u001b[0m\u001b[0;34m.\u001b[0m\u001b[0m_xy_from_xy\u001b[0m\u001b[0;34m(\u001b[0m\u001b[0mx\u001b[0m\u001b[0;34m,\u001b[0m \u001b[0my\u001b[0m\u001b[0;34m)\u001b[0m\u001b[0;34m\u001b[0m\u001b[0m\n\u001b[0m\u001b[1;32m    296\u001b[0m \u001b[0;34m\u001b[0m\u001b[0m\n\u001b[1;32m    297\u001b[0m         \u001b[0;32mif\u001b[0m \u001b[0mself\u001b[0m\u001b[0;34m.\u001b[0m\u001b[0mcommand\u001b[0m \u001b[0;34m==\u001b[0m \u001b[0;34m'plot'\u001b[0m\u001b[0;34m:\u001b[0m\u001b[0;34m\u001b[0m\u001b[0m\n",
        "\u001b[0;32m/Users/neil/Library/Enthought/Canopy_64bit/User/lib/python2.7/site-packages/matplotlib/axes.pyc\u001b[0m in \u001b[0;36m_xy_from_xy\u001b[0;34m(self, x, y)\u001b[0m\n\u001b[1;32m    235\u001b[0m         \u001b[0my\u001b[0m \u001b[0;34m=\u001b[0m \u001b[0mnp\u001b[0m\u001b[0;34m.\u001b[0m\u001b[0matleast_1d\u001b[0m\u001b[0;34m(\u001b[0m\u001b[0my\u001b[0m\u001b[0;34m)\u001b[0m\u001b[0;34m\u001b[0m\u001b[0m\n\u001b[1;32m    236\u001b[0m         \u001b[0;32mif\u001b[0m \u001b[0mx\u001b[0m\u001b[0;34m.\u001b[0m\u001b[0mshape\u001b[0m\u001b[0;34m[\u001b[0m\u001b[0;36m0\u001b[0m\u001b[0;34m]\u001b[0m \u001b[0;34m!=\u001b[0m \u001b[0my\u001b[0m\u001b[0;34m.\u001b[0m\u001b[0mshape\u001b[0m\u001b[0;34m[\u001b[0m\u001b[0;36m0\u001b[0m\u001b[0;34m]\u001b[0m\u001b[0;34m:\u001b[0m\u001b[0;34m\u001b[0m\u001b[0m\n\u001b[0;32m--> 237\u001b[0;31m             \u001b[0;32mraise\u001b[0m \u001b[0mValueError\u001b[0m\u001b[0;34m(\u001b[0m\u001b[0;34m\"x and y must have same first dimension\"\u001b[0m\u001b[0;34m)\u001b[0m\u001b[0;34m\u001b[0m\u001b[0m\n\u001b[0m\u001b[1;32m    238\u001b[0m         \u001b[0;32mif\u001b[0m \u001b[0mx\u001b[0m\u001b[0;34m.\u001b[0m\u001b[0mndim\u001b[0m \u001b[0;34m>\u001b[0m \u001b[0;36m2\u001b[0m \u001b[0;32mor\u001b[0m \u001b[0my\u001b[0m\u001b[0;34m.\u001b[0m\u001b[0mndim\u001b[0m \u001b[0;34m>\u001b[0m \u001b[0;36m2\u001b[0m\u001b[0;34m:\u001b[0m\u001b[0;34m\u001b[0m\u001b[0m\n\u001b[1;32m    239\u001b[0m             \u001b[0;32mraise\u001b[0m \u001b[0mValueError\u001b[0m\u001b[0;34m(\u001b[0m\u001b[0;34m\"x and y can be no greater than 2-D\"\u001b[0m\u001b[0;34m)\u001b[0m\u001b[0;34m\u001b[0m\u001b[0m\n",
        "\u001b[0;31mValueError\u001b[0m: x and y must have same first dimension"
       ]
      },
      {
       "metadata": {},
       "output_type": "display_data",
       "png": "[encoded data removed]",
       "text": [
        "<matplotlib.figure.Figure at 0x10e57bf50>"
       ]
      }
     ],
     "prompt_number": 29
    },
    {
     "cell_type": "code",
     "collapsed": false,
     "input": [
      "K = kern.K(X, X)\n",
      "plt.imshow(K, interpolation='none')"
     ],
     "language": "python",
     "metadata": {},
     "outputs": [
      {
       "metadata": {},
       "output_type": "pyout",
       "prompt_number": 30,
       "text": [
        "<matplotlib.image.AxesImage at 0x10e5bc310>"
       ]
      },
      {
       "metadata": {},
       "output_type": "display_data",
       "png": "[encoded data removed]",
       "text": [
        "<matplotlib.figure.Figure at 0x10e37ff50>"
       ]
      }
     ],
     "prompt_number": 30
    },
    {
     "cell_type": "code",
     "collapsed": false,
     "input": [
      "model.checkgrad(verbose=True)"
     ],
     "language": "python",
     "metadata": {},
     "outputs": [
      {
       "output_type": "stream",
       "stream": "stdout",
       "text": [
        "                        Name                        |     Ratio     |  Difference   |  Analytical   |   Numerical   \n",
        "--------------------------------------------------------------------------------------------------------------------\n",
        "Warning: adding jitter of 3.7714306261e-05\n",
        "Warning: adding jitter of 3.7714306261e-04\n",
        "Warning: adding jitter of 3.7714306261e-03\n",
        "Warning: adding jitter of 3.7714306261e-02\n",
        "Warning: adding jitter of 3.7714306261e-01\n",
        "Warning: adding jitter of 3.7714306261e-05\n",
        "Warning: adding jitter of 3.7714306261e-04\n",
        "Warning: adding jitter of 3.7714306261e-03\n",
        "Warning: adding jitter of 3.7714306261e-02\n",
        "Warning: adding jitter of 3.7714306261e-01\n",
        "Warning: adding jitter of 3.7714306261e-05\n",
        "Warning: adding jitter of 3.7714306261e-04\n",
        "Warning: adding jitter of 3.7714306261e-03\n",
        "Warning: adding jitter of 3.7714306261e-02\n",
        "Warning: adding jitter of 3.7714306261e-01\n",
        "\u001b[92m GP_regression.Heat_eqinit.lengthscale[0] \u001b[0m          |   1.000791    |   19.263771   | 24345.279272  | 24364.543043  \n",
        "Warning: adding jitter of 3.7714306261e-05\n",
        "Warning: adding jitter of 3.7714306261e-04\n",
        "Warning: adding jitter of 3.7714306261e-03\n",
        "Warning: adding jitter of 3.7714306261e-02\n",
        "Warning: adding jitter of 3.7714306261e-01\n",
        "Warning: adding jitter of 3.7714306261e-05"
       ]
      },
      {
       "output_type": "stream",
       "stream": "stdout",
       "text": [
        "\n",
        "Warning: adding jitter of 3.7714306261e-04\n",
        "Warning: adding jitter of 3.7714306261e-03\n",
        "Warning: adding jitter of 3.7714306261e-02\n",
        "Warning: adding jitter of 3.7714306261e-01\n",
        "\u001b[91m GP_regression.Heat_eqinit.lengthscale[1] \u001b[0m          |   1.001166    |   34.446293   | 29542.590802  | 29577.037096  \n",
        "Warning: adding jitter of 3.7714306261e-05\n",
        "Warning: adding jitter of 3.7714306261e-04\n",
        "Warning: adding jitter of 3.7714306261e-03\n",
        "Warning: adding jitter of 3.7714306261e-02\n",
        "Warning: adding jitter of 3.7714306261e-01\n",
        "Warning: adding jitter of 3.7714306261e-05\n",
        "Warning: adding jitter of 3.7714306261e-04\n",
        "Warning: adding jitter of 3.7714306261e-03\n",
        "Warning: adding jitter of 3.7714306261e-02\n",
        "Warning: adding jitter of 3.7714306261e-01\n",
        "\u001b[91m GP_regression.Heat_eqinit.lengthscale[2] \u001b[0m          |   1.008405    |  662.417772   | 78808.299616  | 79470.717389  \n",
        "Warning: adding jitter of 3.7714306261e-05\n",
        "Warning: adding jitter of 3.7714306261e-04\n",
        "Warning: adding jitter of 3.7714306261e-03\n",
        "Warning: adding jitter of 3.7714306261e-02\n",
        "Warning: adding jitter of 3.7714306261e-01\n",
        "Warning: adding jitter of 3.7714306261e-05"
       ]
      },
      {
       "output_type": "stream",
       "stream": "stdout",
       "text": [
        "\n",
        "Warning: adding jitter of 3.7714306261e-04\n",
        "Warning: adding jitter of 3.7714306261e-03\n",
        "Warning: adding jitter of 3.7714306261e-02\n",
        "Warning: adding jitter of 3.7714306261e-01\n",
        "\u001b[91m GP_regression.Heat_eqinit.lengthscale[3] \u001b[0m          |   1.006083    |  408.638171   | 67179.146650  | 67587.784822  \n",
        "Warning: adding jitter of 3.7714306261e-05\n",
        "Warning: adding jitter of 3.7714306261e-04\n",
        "Warning: adding jitter of 3.7714306261e-03\n",
        "Warning: adding jitter of 3.7714306261e-02\n",
        "Warning: adding jitter of 3.7714306261e-01\n",
        "Warning: adding jitter of 3.7714306261e-05\n",
        "Warning: adding jitter of 3.7714306261e-04\n",
        "Warning: adding jitter of 3.7714306261e-03\n",
        "Warning: adding jitter of 3.7714306261e-02\n",
        "Warning: adding jitter of 3.7714306261e-01\n",
        "\u001b[91m GP_regression.Heat_eqinit.lengthscale[4] \u001b[0m          |   1.039365    |  6533.849185  |-165982.689103 |-172516.538287 \n",
        "Warning: adding jitter of 3.7714306261e-05\n",
        "Warning: adding jitter of 3.7714306261e-04\n",
        "Warning: adding jitter of 3.7714306261e-03\n",
        "Warning: adding jitter of 3.7714306261e-02\n",
        "Warning: adding jitter of 3.7714306261e-01\n",
        "Warning: adding jitter of 3.7714306261e-05\n",
        "Warning: adding jitter of 3.7714306261e-04\n",
        "Warning: adding jitter of 3.7714306261e-03\n",
        "Warning: adding jitter of 3.7714306261e-02\n",
        "Warning: adding jitter of 3.7714306261e-01"
       ]
      },
      {
       "output_type": "stream",
       "stream": "stdout",
       "text": [
        "\n",
        "\u001b[91m GP_regression.Heat_eqinit.lengthscale[5] \u001b[0m          |   1.001641    |   57.510111   | -35040.146495 | -35097.656607 \n",
        "Warning: adding jitter of 3.7714307162e-05\n",
        "Warning: adding jitter of 3.7714307162e-04\n",
        "Warning: adding jitter of 3.7714307162e-03\n",
        "Warning: adding jitter of 3.7714307162e-02\n",
        "Warning: adding jitter of 3.7714307162e-01\n",
        "Warning: adding jitter of 3.7714305360e-05\n",
        "Warning: adding jitter of 3.7714305360e-04\n",
        "Warning: adding jitter of 3.7714305360e-03\n",
        "Warning: adding jitter of 3.7714305360e-02\n",
        "Warning: adding jitter of 3.7714305360e-01\n",
        "\u001b[91m GP_regression.Heat_eqinit.scale[0] \u001b[0m                |   0.902939    |  1447.171920  | -14909.990997 | -13462.819077 \n",
        "Warning: adding jitter of 3.7714306965e-05\n",
        "Warning: adding jitter of 3.7714306965e-04\n",
        "Warning: adding jitter of 3.7714306965e-03\n",
        "Warning: adding jitter of 3.7714306965e-02\n",
        "Warning: adding jitter of 3.7714306965e-01\n",
        "Warning: adding jitter of 3.7714305557e-05\n",
        "Warning: adding jitter of 3.7714305557e-04\n",
        "Warning: adding jitter of 3.7714305557e-03\n",
        "Warning: adding jitter of 3.7714305557e-02\n",
        "Warning: adding jitter of 3.7714305557e-01\n",
        "\u001b[91m GP_regression.Heat_eqinit.scale[1] \u001b[0m                |   0.930538    |  1127.799654  | -16236.194139 | -15108.394485 "
       ]
      },
      {
       "output_type": "stream",
       "stream": "stdout",
       "text": [
        "\n",
        "Warning: adding jitter of 3.7714307933e-05\n",
        "Warning: adding jitter of 3.7714307933e-04\n",
        "Warning: adding jitter of 3.7714307933e-03\n",
        "Warning: adding jitter of 3.7714307933e-02\n",
        "Warning: adding jitter of 3.7714307933e-01\n",
        "Warning: adding jitter of 3.7714304589e-05\n",
        "Warning: adding jitter of 3.7714304589e-04\n",
        "Warning: adding jitter of 3.7714304589e-03\n",
        "Warning: adding jitter of 3.7714304589e-02\n",
        "Warning: adding jitter of 3.7714304589e-01\n",
        "\u001b[91m GP_regression.Heat_eqinit.scale[2] \u001b[0m                |   0.863604    |  2683.140702  | -19671.722203 | -16988.581501 \n",
        "Warning: adding jitter of 3.7714307468e-05\n",
        "Warning: adding jitter of 3.7714307468e-04\n",
        "Warning: adding jitter of 3.7714307468e-03\n",
        "Warning: adding jitter of 3.7714307468e-02\n",
        "Warning: adding jitter of 3.7714307468e-01\n",
        "Warning: adding jitter of 3.7714305054e-05\n",
        "Warning: adding jitter of 3.7714305054e-04\n",
        "Warning: adding jitter of 3.7714305054e-03\n",
        "Warning: adding jitter of 3.7714305054e-02\n",
        "Warning: adding jitter of 3.7714305054e-01\n",
        "\u001b[91m GP_regression.Heat_eqinit.scale[3] \u001b[0m                |   0.821249    |  1941.161844  | -10859.570671 | -8918.408826  \n",
        "Warning: adding jitter of 3.7714310244e-05\n",
        "Warning: adding jitter of 3.7714310244e-04\n",
        "Warning: adding jitter of 3.7714310244e-03"
       ]
      },
      {
       "output_type": "stream",
       "stream": "stdout",
       "text": [
        "\n",
        "Warning: adding jitter of 3.7714310244e-02\n",
        "Warning: adding jitter of 3.7714310244e-01\n",
        "Warning: adding jitter of 3.7714302278e-05\n",
        "Warning: adding jitter of 3.7714302278e-04\n",
        "Warning: adding jitter of 3.7714302278e-03\n",
        "Warning: adding jitter of 3.7714302278e-02\n",
        "Warning: adding jitter of 3.7714302278e-01\n",
        "\u001b[91m GP_regression.Heat_eqinit.scale[4] \u001b[0m                |   0.267689    |  6408.316811  | -8750.811800  | -2342.494989  \n",
        "Warning: adding jitter of 3.7714308264e-05\n",
        "Warning: adding jitter of 3.7714308264e-04\n",
        "Warning: adding jitter of 3.7714308264e-03\n",
        "Warning: adding jitter of 3.7714308264e-02\n",
        "Warning: adding jitter of 3.7714308264e-01\n",
        "Warning: adding jitter of 3.7714304258e-05\n",
        "Warning: adding jitter of 3.7714304258e-04\n",
        "Warning: adding jitter of 3.7714304258e-03\n",
        "Warning: adding jitter of 3.7714304258e-02\n",
        "Warning: adding jitter of 3.7714304258e-01\n",
        "\u001b[91m GP_regression.Heat_eqinit.scale[5] \u001b[0m                |   -8.322430   |  3223.208745  |  -345.747687  |  2877.461058  \n",
        "Warning: adding jitter of 3.7714306261e-05\n",
        "Warning: adding jitter of 3.7714306261e-04\n",
        "Warning: adding jitter of 3.7714306261e-03\n",
        "Warning: adding jitter of 3.7714306261e-02\n",
        "Warning: adding jitter of 3.7714306261e-01\n",
        "Warning: adding jitter of 3.7714306261e-05"
       ]
      },
      {
       "output_type": "stream",
       "stream": "stdout",
       "text": [
        "\n",
        "Warning: adding jitter of 3.7714306261e-04\n",
        "Warning: adding jitter of 3.7714306261e-03\n",
        "Warning: adding jitter of 3.7714306261e-02\n",
        "Warning: adding jitter of 3.7714306261e-01\n",
        "\u001b[92m GP_regression.Heat_eqinit.shared_lengthscale[0] \u001b[0m   |   1.000322    |   5.000570    | 15528.343916  | 15533.344486  \n",
        "Warning: adding jitter of 3.7714306666e-05\n",
        "Warning: adding jitter of 3.7714306666e-04\n",
        "Warning: adding jitter of 3.7714306666e-03\n",
        "Warning: adding jitter of 3.7714306666e-02\n",
        "Warning: adding jitter of 3.7714306666e-01\n",
        "Warning: adding jitter of 3.7714305856e-05\n",
        "Warning: adding jitter of 3.7714305856e-04\n",
        "Warning: adding jitter of 3.7714305856e-03\n",
        "Warning: adding jitter of 3.7714305856e-02\n",
        "Warning: adding jitter of 3.7714305856e-01\n",
        "\u001b[91m GP_regression.Gaussian_noise.variance[0] \u001b[0m          |   1.015899    |  1036.835574  | 65214.422806  | 66251.258380  \n",
        "Warning: adding jitter of 3.7714306261e-05\n",
        "Warning: adding jitter of 3.7714306261e-04\n",
        "Warning: adding jitter of 3.7714306261e-03\n",
        "Warning: adding jitter of 3.7714306261e-02\n",
        "Warning: adding jitter of 3.7714306261e-01\n"
       ]
      },
      {
       "metadata": {},
       "output_type": "pyout",
       "prompt_number": 31,
       "text": [
        "False"
       ]
      }
     ],
     "prompt_number": 31
    },
    {
     "cell_type": "code",
     "collapsed": false,
     "input": [
      "GPy.kern.kern_test(kern, X=data['X'], X2 = data['X'])"
     ],
     "language": "python",
     "metadata": {},
     "outputs": [
      {
       "ename": "AttributeError",
       "evalue": "'module' object has no attribute 'kern_test'",
       "output_type": "pyerr",
       "traceback": [
        "\u001b[0;31m---------------------------------------------------------------------------\u001b[0m\n\u001b[0;31mAttributeError\u001b[0m                            Traceback (most recent call last)",
        "\u001b[0;32m<ipython-input-32-f7f283b772fa>\u001b[0m in \u001b[0;36m<module>\u001b[0;34m()\u001b[0m\n\u001b[0;32m----> 1\u001b[0;31m \u001b[0mGPy\u001b[0m\u001b[0;34m.\u001b[0m\u001b[0mkern\u001b[0m\u001b[0;34m.\u001b[0m\u001b[0mkern_test\u001b[0m\u001b[0;34m(\u001b[0m\u001b[0mkern\u001b[0m\u001b[0;34m,\u001b[0m \u001b[0mX\u001b[0m\u001b[0;34m=\u001b[0m\u001b[0mdata\u001b[0m\u001b[0;34m[\u001b[0m\u001b[0;34m'X'\u001b[0m\u001b[0;34m]\u001b[0m\u001b[0;34m,\u001b[0m \u001b[0mX2\u001b[0m \u001b[0;34m=\u001b[0m \u001b[0mdata\u001b[0m\u001b[0;34m[\u001b[0m\u001b[0;34m'X'\u001b[0m\u001b[0;34m]\u001b[0m\u001b[0;34m)\u001b[0m\u001b[0;34m\u001b[0m\u001b[0m\n\u001b[0m",
        "\u001b[0;31mAttributeError\u001b[0m: 'module' object has no attribute 'kern_test'"
       ]
      }
     ],
     "prompt_number": 32
    },
    {
     "cell_type": "code",
     "collapsed": false,
     "input": [
      "K = kern.K(X)\n",
      "plt.imshow(K, interpolation='none')"
     ],
     "language": "python",
     "metadata": {},
     "outputs": [
      {
       "metadata": {},
       "output_type": "pyout",
       "prompt_number": 33,
       "text": [
        "<matplotlib.image.AxesImage at 0x10e523750>"
       ]
      },
      {
       "metadata": {},
       "output_type": "display_data",
       "png": "[encoded data removed]",
       "text": [
        "<matplotlib.figure.Figure at 0x10e3e10d0>"
       ]
      }
     ],
     "prompt_number": 33
    },
    {
     "cell_type": "code",
     "collapsed": false,
     "input": [
      "u, v = np.linalg.eig(K)"
     ],
     "language": "python",
     "metadata": {},
     "outputs": [],
     "prompt_number": 34
    },
    {
     "cell_type": "code",
     "collapsed": false,
     "input": [
      "print u"
     ],
     "language": "python",
     "metadata": {},
     "outputs": [
      {
       "output_type": "stream",
       "stream": "stdout",
       "text": [
        "[  1.36571479e+03 +0.00000000e+00j   9.66857854e+02 +0.00000000e+00j\n",
        "   5.91141773e+02 +0.00000000e+00j   5.58869900e+02 +0.00000000e+00j\n",
        "   4.08665054e+02 +0.00000000e+00j   3.23810947e+02 +0.00000000e+00j\n",
        "   1.74740428e+02 +0.00000000e+00j   1.28837921e+02 +0.00000000e+00j\n",
        "   7.15415486e+01 +0.00000000e+00j   5.13530384e+01 +0.00000000e+00j\n",
        "   2.25265121e+01 +0.00000000e+00j   1.18272640e+01 +0.00000000e+00j\n",
        "   6.23437767e+00 +0.00000000e+00j   2.74331122e+00 +0.00000000e+00j\n",
        "   1.73655426e+00 +0.00000000e+00j   1.35821114e+00 +0.00000000e+00j\n",
        "   9.71281043e-01 +0.00000000e+00j  -8.96817775e-01 +0.00000000e+00j\n",
        "  -8.29133060e-01 +0.00000000e+00j   6.13027344e-01 +0.00000000e+00j\n",
        "  -5.50238997e-01 +0.00000000e+00j   4.24348058e-01 +0.00000000e+00j\n",
        "  -4.67121459e-01 +0.00000000e+00j  -3.92604324e-01 +0.00000000e+00j\n",
        "  -3.06358215e-01 +0.00000000e+00j   2.32882434e-01 +0.00000000e+00j\n",
        "  -1.84744395e-01 +0.00000000e+00j   1.23960192e-01 +0.00000000e+00j\n",
        "  -1.19567314e-01 +0.00000000e+00j  -7.51491669e-02 +0.00000000e+00j\n",
        "   6.72471024e-02 +0.00000000e+00j  -5.01221041e-02 +0.00000000e+00j\n",
        "   2.82373817e-02 +0.00000000e+00j  -2.13093531e-02 +0.00000000e+00j\n",
        "  -8.71262530e-03 +0.00000000e+00j   7.88591602e-03 +0.00000000e+00j\n",
        "  -3.84766719e-03 +0.00000000e+00j   2.14139511e-03 +0.00000000e+00j\n",
        "  -2.11752932e-03 +0.00000000e+00j  -1.21354740e-03 +0.00000000e+00j\n",
        "  -1.08249307e-03 +0.00000000e+00j   1.05428806e-03 +0.00000000e+00j\n",
        "   1.00144197e-03 +0.00000000e+00j  -7.85927570e-04 +0.00000000e+00j\n",
        "   8.50425494e-04 +0.00000000e+00j   4.27139054e-04 +0.00000000e+00j\n",
        "   3.94550775e-04 +0.00000000e+00j  -2.74866442e-04 +0.00000000e+00j\n",
        "  -2.22278258e-04 +0.00000000e+00j   1.57588057e-04 +0.00000000e+00j\n",
        "   1.30459741e-04 +0.00000000e+00j   9.55340348e-05 +0.00000000e+00j\n",
        "  -6.56961236e-05 +0.00000000e+00j  -4.56386748e-05 +0.00000000e+00j\n",
        "   5.05344317e-05 +0.00000000e+00j   4.66747405e-05 +0.00000000e+00j\n",
        "   3.73806942e-05 +0.00000000e+00j  -3.46236852e-05 +0.00000000e+00j\n",
        "  -2.90299949e-05 +0.00000000e+00j   2.43091474e-05 +0.00000000e+00j\n",
        "   1.18563480e-05 +0.00000000e+00j  -7.23731256e-06 +0.00000000e+00j\n",
        "   6.89105170e-06 +0.00000000e+00j   6.75133342e-06 +0.00000000e+00j\n",
        "   4.59911997e-06 +0.00000000e+00j  -3.41716918e-06 +0.00000000e+00j\n",
        "   2.66528790e-06 +0.00000000e+00j  -2.69169913e-06 +0.00000000e+00j\n",
        "  -2.47447514e-06 +0.00000000e+00j  -2.50963999e-06 +0.00000000e+00j\n",
        "   2.12613869e-06 +0.00000000e+00j   1.52489063e-06 +0.00000000e+00j\n",
        "   1.10934549e-06 +0.00000000e+00j   9.04930965e-07 +0.00000000e+00j\n",
        "  -1.03851279e-06 +0.00000000e+00j  -8.30489733e-07 +0.00000000e+00j\n",
        "   3.57010671e-07 +0.00000000e+00j   2.83210434e-07 +0.00000000e+00j\n",
        "  -1.96824410e-07 +0.00000000e+00j  -1.51562955e-07 +0.00000000e+00j\n",
        "   1.37911367e-07 +0.00000000e+00j   6.30233236e-08 +0.00000000e+00j\n",
        "  -7.54890726e-08 +0.00000000e+00j   4.21787055e-08 +0.00000000e+00j\n",
        "  -2.09715088e-08 +0.00000000e+00j  -1.65039208e-08 +0.00000000e+00j\n",
        "  -7.66096083e-09 +0.00000000e+00j   8.51008708e-09 +0.00000000e+00j\n",
        "   4.11342722e-09 +0.00000000e+00j  -1.67028839e-09 +0.00000000e+00j\n",
        "  -7.35240704e-10 +0.00000000e+00j   5.96246684e-10 +0.00000000e+00j\n",
        "   9.16479032e-10 +0.00000000e+00j   8.63054910e-10 +0.00000000e+00j\n",
        "  -5.45436295e-10 +0.00000000e+00j  -4.46442482e-10 +0.00000000e+00j\n",
        "   3.85599354e-10 +0.00000000e+00j  -3.53964598e-10 +0.00000000e+00j\n",
        "   2.70500435e-10 +0.00000000e+00j  -1.29127026e-10 +0.00000000e+00j\n",
        "   9.01953242e-11 +0.00000000e+00j   4.94687201e-11 +0.00000000e+00j\n",
        "  -2.93564389e-11 +0.00000000e+00j   1.74967469e-11 +0.00000000e+00j\n",
        "   9.04736762e-12 +0.00000000e+00j  -3.30190194e-12 +0.00000000e+00j\n",
        "   1.60174998e-12 +0.00000000e+00j  -1.60654411e-12 +0.00000000e+00j\n",
        "  -2.17527233e-13 +0.00000000e+00j   2.16141539e-14 +0.00000000e+00j\n",
        "  -1.38210682e-14 +0.00000000e+00j  -1.02940462e-14 +0.00000000e+00j\n",
        "   1.07725808e-14 +1.22319310e-15j   1.07725808e-14 -1.22319310e-15j\n",
        "  -6.34651219e-15 +3.11128130e-15j  -6.34651219e-15 -3.11128130e-15j\n",
        "  -3.27622678e-15 +3.33401766e-15j  -3.27622678e-15 -3.33401766e-15j\n",
        "  -5.87040432e-16 +5.32872102e-15j  -5.87040432e-16 -5.32872102e-15j\n",
        "  -1.87526087e-15 +0.00000000e+00j   5.70049062e-15 +3.91718383e-15j\n",
        "   5.70049062e-15 -3.91718383e-15j   1.54084816e-15 +0.00000000e+00j\n",
        "   4.85809431e-15 +0.00000000e+00j   5.69815058e-15 +0.00000000e+00j]\n"
       ]
      }
     ],
     "prompt_number": 35
    },
    {
     "cell_type": "code",
     "collapsed": false,
     "input": [
      "print kern"
     ],
     "language": "python",
     "metadata": {},
     "outputs": [
      {
       "output_type": "stream",
       "stream": "stdout",
       "text": [
        "  Heat_eqinit.        |      Value      |  Constraint  |  Prior  |  Tied to\n",
        "  \u001b[1mlengthscale       \u001b[0;0m  |           (6,)  |              |         |         \n",
        "  \u001b[1mscale             \u001b[0;0m  |           (6,)  |              |         |         \n",
        "  \u001b[1mshared_lengthscale\u001b[0;0m  |  9.65644375595  |              |         |         \n"
       ]
      }
     ],
     "prompt_number": 36
    },
    {
     "cell_type": "code",
     "collapsed": false,
     "input": [
      "kern.shared_lengthscale"
     ],
     "language": "python",
     "metadata": {},
     "outputs": [
      {
       "metadata": {},
       "output_type": "pyout",
       "prompt_number": 37,
       "text": [
        "\u001b[1mGP_regression.Heat_eqinit.shared_lengthscale\u001b[0;0m:\n",
        "Param([ 9.65644376])"
       ]
      }
     ],
     "prompt_number": 37
    },
    {
     "cell_type": "code",
     "collapsed": false,
     "input": [],
     "language": "python",
     "metadata": {},
     "outputs": [],
     "prompt_number": 37
    },
    {
     "cell_type": "code",
     "collapsed": false,
     "input": [
      "kern.scale\n"
     ],
     "language": "python",
     "metadata": {},
     "outputs": [
      {
       "metadata": {},
       "output_type": "pyout",
       "prompt_number": 38,
       "text": [
        "\u001b[1mGP_regression.Heat_eqinit.scale\u001b[0;0m:\n",
        "Param([  2.10324646,   2.33346668,   4.2122881 ,   4.75240909,\n",
        "         9.29269832,  10.51631034])"
       ]
      }
     ],
     "prompt_number": 38
    },
    {
     "cell_type": "code",
     "collapsed": false,
     "input": [
      "x_0, x_1, z_0, z_1, a = sym.symbols('x_0, x_1, z_0, z_1, a')"
     ],
     "language": "python",
     "metadata": {},
     "outputs": [],
     "prompt_number": 39
    },
    {
     "cell_type": "code",
     "collapsed": false,
     "input": [
      "arg = [model.Heat_eqinit._sym_k] + model.Heat_eqinit.diag_arg_list\n",
      "print arg"
     ],
     "language": "python",
     "metadata": {},
     "outputs": [
      {
       "output_type": "stream",
       "stream": "stdout",
       "text": [
        "[scale_i*scale_j*exp(-(x_0 - z_0)**2/(2*lengthscale_i*lengthscale_j + 2*shared_lengthscale**2)), x_0, shared_lengthscale, lengthscale_i, scale_i]\n"
       ]
      }
     ],
     "prompt_number": 41
    },
    {
     "cell_type": "code",
     "collapsed": false,
     "input": [
      "model.Heat_eqinit.diag_arg_list"
     ],
     "language": "python",
     "metadata": {},
     "outputs": [
      {
       "latex": [
        "$$\\begin{bmatrix}x_{0}, & shared_{lengthscale}, & lengthscale_{i}, & scale_{i}\\end{bmatrix}$$"
       ],
       "metadata": {},
       "output_type": "pyout",
       "png": "[encoded data removed]",
       "prompt_number": 42,
       "text": [
        "[x\u2080, shared_lengthscale, lengthscale\u1d62, scale\u1d62]"
       ]
      }
     ],
     "prompt_number": 42
    },
    {
     "cell_type": "code",
     "collapsed": false,
     "input": [
      "from sympy import Function, S, oo, I, diff, integrate\n",
      "\n",
      "\n",
      "class operator(Function):\n",
      "    nargs = 6\n",
      "    @classmethod\n",
      "    def eval(cls, f, x_0, lengthscale, lengthscale_i, scale_i, a):\n",
      "        return diff(f, x_0) +a*f\n"
     ],
     "language": "python",
     "metadata": {},
     "outputs": [],
     "prompt_number": 43
    },
    {
     "cell_type": "code",
     "collapsed": false,
     "input": [
      "arg = [model.Heat_eqinit._sym_k] + model.Heat_eqinit.diag_arg_list + [a]\n",
      "sym.simplify(operator(*arg))"
     ],
     "language": "python",
     "metadata": {},
     "outputs": [
      {
       "latex": [
        "$$\\frac{scale_{i} scale_{j}}{lengthscale_{i} lengthscale_{j} + shared_{lengthscale}^{2}} \\left(a \\left(lengthscale_{i} lengthscale_{j} + shared_{lengthscale}^{2}\\right) - x_{0} + z_{0}\\right) e^{- \\frac{\\left(x_{0} - z_{0}\\right)^{2}}{2 lengthscale_{i} lengthscale_{j} + 2 shared_{lengthscale}^{2}}}$$"
       ],
       "metadata": {},
       "output_type": "pyout",
       "png": "[encoded data removed]",
       "prompt_number": 44,
       "text": [
        "                                                                              \n",
        "                                                                              \n",
        "                                                                              \n",
        "                                                                              \n",
        "               \u239b  \u239b                                               2\u239e          \n",
        "scale\u1d62\u22c5scale_j\u22c5\u239da\u22c5\u239dlengthscale\u1d62\u22c5lengthscale_j + shared_lengthscale \u23a0 - x\u2080 + z\u2080\n",
        "\u2500\u2500\u2500\u2500\u2500\u2500\u2500\u2500\u2500\u2500\u2500\u2500\u2500\u2500\u2500\u2500\u2500\u2500\u2500\u2500\u2500\u2500\u2500\u2500\u2500\u2500\u2500\u2500\u2500\u2500\u2500\u2500\u2500\u2500\u2500\u2500\u2500\u2500\u2500\u2500\u2500\u2500\u2500\u2500\u2500\u2500\u2500\u2500\u2500\u2500\u2500\u2500\u2500\u2500\u2500\u2500\u2500\u2500\u2500\u2500\u2500\u2500\u2500\u2500\u2500\u2500\u2500\u2500\u2500\u2500\u2500\u2500\u2500\u2500\u2500\u2500\u2500\u2500\n",
        "                                                                              \n",
        "                                           lengthscale\u1d62\u22c5lengthscale_j + shared\n",
        "\n",
        "                                 2                     \n",
        "                       -(x\u2080 - z\u2080)                      \n",
        "   \u2500\u2500\u2500\u2500\u2500\u2500\u2500\u2500\u2500\u2500\u2500\u2500\u2500\u2500\u2500\u2500\u2500\u2500\u2500\u2500\u2500\u2500\u2500\u2500\u2500\u2500\u2500\u2500\u2500\u2500\u2500\u2500\u2500\u2500\u2500\u2500\u2500\u2500\u2500\u2500\u2500\u2500\u2500\u2500\u2500\u2500\u2500\u2500\u2500\u2500\u2500\u2500\n",
        "                                                      2\n",
        "\u239e  2\u22c5lengthscale\u1d62\u22c5lengthscale_j + 2\u22c5shared_lengthscale \n",
        "\u23a0\u22c5\u212f                                                    \n",
        "\u2500\u2500\u2500\u2500\u2500\u2500\u2500\u2500\u2500\u2500\u2500\u2500\u2500\u2500\u2500\u2500\u2500\u2500\u2500\u2500\u2500\u2500\u2500\u2500\u2500\u2500\u2500\u2500\u2500\u2500\u2500\u2500\u2500\u2500\u2500\u2500\u2500\u2500\u2500\u2500\u2500\u2500\u2500\u2500\u2500\u2500\u2500\u2500\u2500\u2500\u2500\u2500\u2500\u2500\u2500\n",
        "            2                                          \n",
        "_lengthscale                                           "
       ]
      }
     ],
     "prompt_number": 44
    },
    {
     "cell_type": "code",
     "collapsed": false,
     "input": [
      "kern.derivatives['lengthscale_i'].simplify()"
     ],
     "language": "python",
     "metadata": {},
     "outputs": [
      {
       "latex": [
        "$$\\frac{lengthscale_{j} scale_{i} scale_{j} \\left(x_{0} - z_{0}\\right)^{2}}{2 \\left(lengthscale_{i} lengthscale_{j} + shared_{lengthscale}^{2}\\right)^{2}} e^{- \\frac{\\left(x_{0} - z_{0}\\right)^{2}}{2 lengthscale_{i} lengthscale_{j} + 2 shared_{lengthscale}^{2}}}$$"
       ],
       "metadata": {},
       "output_type": "pyout",
       "png": "[encoded data removed]",
       "prompt_number": 45,
       "text": [
        "                                                                       2      \n",
        "                                                             -(x\u2080 - z\u2080)       \n",
        "                                         \u2500\u2500\u2500\u2500\u2500\u2500\u2500\u2500\u2500\u2500\u2500\u2500\u2500\u2500\u2500\u2500\u2500\u2500\u2500\u2500\u2500\u2500\u2500\u2500\u2500\u2500\u2500\u2500\u2500\u2500\u2500\u2500\u2500\u2500\u2500\u2500\u2500\n",
        "                                                                              \n",
        "                                      2  2\u22c5lengthscale\u1d62\u22c5lengthscale_j + 2\u22c5shar\n",
        "lengthscale_j\u22c5scale\u1d62\u22c5scale_j\u22c5(x\u2080 - z\u2080) \u22c5\u212f                                     \n",
        "\u2500\u2500\u2500\u2500\u2500\u2500\u2500\u2500\u2500\u2500\u2500\u2500\u2500\u2500\u2500\u2500\u2500\u2500\u2500\u2500\u2500\u2500\u2500\u2500\u2500\u2500\u2500\u2500\u2500\u2500\u2500\u2500\u2500\u2500\u2500\u2500\u2500\u2500\u2500\u2500\u2500\u2500\u2500\u2500\u2500\u2500\u2500\u2500\u2500\u2500\u2500\u2500\u2500\u2500\u2500\u2500\u2500\u2500\u2500\u2500\u2500\u2500\u2500\u2500\u2500\u2500\u2500\u2500\u2500\u2500\u2500\u2500\u2500\u2500\u2500\u2500\u2500\u2500\n",
        "                                                                        2     \n",
        "                      \u239b                                               2\u239e      \n",
        "                    2\u22c5\u239dlengthscale\u1d62\u22c5lengthscale_j + shared_lengthscale \u23a0      \n",
        "\n",
        "               \n",
        "               \n",
        "\u2500\u2500\u2500\u2500\u2500\u2500\u2500\u2500\u2500\u2500\u2500\u2500\u2500\u2500\u2500\n",
        "              2\n",
        "ed_lengthscale \n",
        "               \n",
        "\u2500\u2500\u2500\u2500\u2500\u2500\u2500\u2500\u2500\u2500\u2500\u2500\u2500\u2500\u2500\n",
        "               \n",
        "               \n",
        "               "
       ]
      }
     ],
     "prompt_number": 45
    },
    {
     "cell_type": "code",
     "collapsed": false,
     "input": [
      "sub_expressions = sym.cse([stabilise(kern._sym_k), \n",
      "         stabilise(kern.derivatives['shared_lengthscale']),\n",
      "         stabilise(kern.derivatives['lengthscale_i']),\n",
      "         stabilise(kern.derivatives['scale_i']),])"
     ],
     "language": "python",
     "metadata": {},
     "outputs": [],
     "prompt_number": 46
    },
    {
     "cell_type": "code",
     "collapsed": false,
     "input": [
      "e = sub_expressions[0][0][1]"
     ],
     "language": "python",
     "metadata": {},
     "outputs": [],
     "prompt_number": 47
    },
    {
     "cell_type": "code",
     "collapsed": false,
     "input": [
      "e.is_Real"
     ],
     "language": "python",
     "metadata": {},
     "outputs": [
      {
       "metadata": {},
       "output_type": "pyout",
       "prompt_number": 48,
       "text": [
        "False"
       ]
      }
     ],
     "prompt_number": 48
    },
    {
     "cell_type": "code",
     "collapsed": false,
     "input": [
      "e"
     ],
     "language": "python",
     "metadata": {},
     "outputs": [
      {
       "latex": [
        "$$\\left(x_{0} - z_{0}\\right)^{2}$$"
       ],
       "metadata": {},
       "output_type": "pyout",
       "png": "[encoded data removed]",
       "prompt_number": 49,
       "text": [
        "         2\n",
        "(x\u2080 - z\u2080) "
       ]
      }
     ],
     "prompt_number": 49
    },
    {
     "cell_type": "code",
     "collapsed": false,
     "input": [],
     "language": "python",
     "metadata": {},
     "outputs": []
    }
   ],
   "metadata": {}
  }
 ]
}