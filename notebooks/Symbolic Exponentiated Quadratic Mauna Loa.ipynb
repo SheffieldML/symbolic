{
 "metadata": {
  "name": "",
  "signature": "sha256:2275debcec999d1231e715671763f4a28b6c936d9caa2e0551635b466ef1476e"
 },
 "nbformat": 3,
 "nbformat_minor": 0,
 "worksheets": [
  {
   "cells": [
    {
     "cell_type": "markdown",
     "metadata": {},
     "source": [
      "# Mauna Loa Data with Symbolic Exponentiated Quadratic Covariance\n",
      "\n",
      "### 21st April 2014 Neil D. Lawrence"
     ]
    },
    {
     "cell_type": "code",
     "collapsed": false,
     "input": [
      "%pylab inline\n",
      "import sympy as sym; sym.init_printing()\n",
      "import GPy\n",
      "import pods\n",
      "import symbolic"
     ],
     "language": "python",
     "metadata": {},
     "outputs": []
    },
    {
     "cell_type": "code",
     "collapsed": false,
     "input": [
      "data = pods.datasets.mauna_loa(refresh_data=False)\n",
      "X = data['X'][:100, :]\n",
      "y = data['Y'][:100, :]\n",
      "kern = symbolic.kern.Eq(1)"
     ],
     "language": "python",
     "metadata": {},
     "outputs": [
      {
       "output_type": "stream",
       "stream": "stdout",
       "text": [
        "Populating the interactive namespace from numpy and matplotlib\n",
        "Using cached version of the data set, to use latest version set refresh_data to True"
       ]
      },
      {
       "output_type": "stream",
       "stream": "stdout",
       "text": [
        "\n",
        "Most recent data observation from month  3.0  in year  2014.0\n"
       ]
      }
     ],
     "prompt_number": 1
    },
    {
     "cell_type": "code",
     "collapsed": false,
     "input": [
      "kern._display_expression(['k', 'function'])"
     ],
     "language": "python",
     "metadata": {},
     "outputs": [
      {
       "latex": [
        "$$\\sigma^{2} e^{- \\frac{\\left(x_{0} - z_{0}\\right)^{2}}{2 \\ell^{2}}}$$"
       ],
       "metadata": {},
       "output_type": "pyout",
       "png": "[encoded data removed]",
       "prompt_number": 2,
       "text": [
        "                   2 \n",
        "         -(x\u2080 - z\u2080)  \n",
        "         \u2500\u2500\u2500\u2500\u2500\u2500\u2500\u2500\u2500\u2500\u2500\u2500\n",
        "                 2   \n",
        "           2\u22c5\\ell    \n",
        "\\sigma\u00b2\u22c5\u212f            "
       ]
      }
     ],
     "prompt_number": 2
    },
    {
     "cell_type": "code",
     "collapsed": false,
     "input": [
      "kern.variables"
     ],
     "language": "python",
     "metadata": {},
     "outputs": [
      {
       "latex": [
        "$$\\begin{Bmatrix}X : \\begin{bmatrix}x_{0}\\end{bmatrix}, & Z : \\begin{bmatrix}z_{0}\\end{bmatrix}, & cache : \\begin{bmatrix}cache_{0}, & cache_{1}, & cache_{2}, & cache_{3}\\end{bmatrix}, & sub : \\begin{bmatrix}sub_{0}\\end{bmatrix}, & theta : \\begin{bmatrix}lengthscale, & variance\\end{bmatrix}\\end{Bmatrix}$$"
       ],
       "metadata": {},
       "output_type": "pyout",
       "png": "[encoded data removed]",
       "prompt_number": 12,
       "text": [
        "{X: [x\u2080], Z: [z\u2080], cache: [cache\u2080, cache\u2081, cache\u2082, cache\u2083], sub: [sub\u2080], theta\n",
        ": [lengthscale, variance]}"
       ]
      }
     ],
     "prompt_number": 12
    },
    {
     "cell_type": "code",
     "collapsed": false,
     "input": [
      "kern.variable_sort(kern.expressions['update_cache'], reverse=True)"
     ],
     "language": "python",
     "metadata": {},
     "outputs": [
      {
       "metadata": {},
       "output_type": "pyout",
       "prompt_number": 3,
       "text": [
        "[('cache3', cache2*variance),\n",
        " ('cache2', exp(-cache1/(2*sub0))),\n",
        " ('cache1', cache0**2),\n",
        " ('cache0', x_0 - z_0)]"
       ]
      }
     ],
     "prompt_number": 3
    },
    {
     "cell_type": "code",
     "collapsed": false,
     "input": [
      "print kern.code_update_cache()"
     ],
     "language": "python",
     "metadata": {},
     "outputs": [
      {
       "output_type": "stream",
       "stream": "stdout",
       "text": [
        "if X is not None:\n",
        "\tX= np.atleast_2d(X)\n",
        "\tself.x_0 = X[:, 0][:, None]\n",
        "if Z is not None:\n",
        "\tZ= np.atleast_2d(Z)\n",
        "\tself.z_0 = Z[:, 0][None, :]\n",
        "self.cache0 = (self.x_0 - self.z_0)\n",
        "self.cache1 = (self.cache0**2)\n",
        "self.cache2 = (exp(-self.cache1/(2*self.sub0)))\n",
        "self.cache3 = (self.cache2*self.variance)\n",
        "\n"
       ]
      }
     ],
     "prompt_number": 4
    },
    {
     "cell_type": "code",
     "collapsed": false,
     "input": [
      "print kern.code_function('k')\n",
      "print kern.code_function('kdiag')"
     ],
     "language": "python",
     "metadata": {},
     "outputs": [
      {
       "output_type": "stream",
       "stream": "stdout",
       "text": [
        "self.update_cache(X, Z)\n",
        "return (self.cache3)\n",
        "self.update_cache(X, Z)\n",
        "return (self.variance)\n"
       ]
      }
     ],
     "prompt_number": 5
    },
    {
     "cell_type": "code",
     "collapsed": false,
     "input": [
      "print kern.code_gradients_cacheable('kdiag', 'X')"
     ],
     "language": "python",
     "metadata": {},
     "outputs": [
      {
       "output_type": "stream",
       "stream": "stdout",
       "text": [
        "gradients_X = np.zeros_like(X)\n",
        "self.update_cache(X, Z)\n",
        "gradients_X[:, 0:0+1] = partial*(0)\n",
        "return gradients_X\n",
        "\n"
       ]
      }
     ],
     "prompt_number": 6
    },
    {
     "cell_type": "code",
     "collapsed": false,
     "input": [
      "m = GPy.models.GPRegression(X,y, kern)"
     ],
     "language": "python",
     "metadata": {},
     "outputs": [],
     "prompt_number": 7
    },
    {
     "cell_type": "code",
     "collapsed": false,
     "input": [
      "m.optimize()\n",
      "print m"
     ],
     "language": "python",
     "metadata": {},
     "outputs": [
      {
       "output_type": "stream",
       "stream": "stdout",
       "text": [
        "  GP_regression.           |      Value      |  Constraint  |  Prior  |  Tied to\n",
        "  \u001b[1mEq.lengthscale         \u001b[0;0m  |  116.872339847  |              |         |         \n",
        "  \u001b[1mEq.variance            \u001b[0;0m  |  5997.18311911  |              |         |         \n",
        "  \u001b[1mGaussian_noise.variance\u001b[0;0m  |  3.75552629545  |     +ve      |         |         \n"
       ]
      }
     ],
     "prompt_number": 8
    },
    {
     "cell_type": "code",
     "collapsed": false,
     "input": [
      "m.checkgrad(verbose=True)"
     ],
     "language": "python",
     "metadata": {},
     "outputs": [
      {
       "output_type": "stream",
       "stream": "stdout",
       "text": [
        "                    Name                     |     Ratio     |  Difference   |  Analytical   |   Numerical   \n",
        "-------------------------------------------------------------------------------------------------------------\n",
        "\u001b[92m GP_regression.Eq.lengthscale[0] \u001b[0m            |   0.997535    |   0.000005    |   -0.002021   |   -0.002016   \n",
        "\u001b[92m GP_regression.Eq.variance[0] \u001b[0m               |   1.014502    |   0.000019    |   -0.001322   |   -0.001341   \n",
        "\u001b[92m GP_regression.Gaussian_noise.variance[0] \u001b[0m   |   1.007182    |   0.000002    |   -0.000271   |   -0.000273   \n"
       ]
      },
      {
       "metadata": {},
       "output_type": "pyout",
       "prompt_number": 9,
       "text": [
        "True"
       ]
      }
     ],
     "prompt_number": 9
    },
    {
     "cell_type": "code",
     "collapsed": false,
     "input": [
      "sorted?"
     ],
     "language": "python",
     "metadata": {},
     "outputs": [],
     "prompt_number": 10
    },
    {
     "cell_type": "code",
     "collapsed": false,
     "input": [
      "sorted([(3, 2), (2, 2)], key = lambda x : -x[0])"
     ],
     "language": "python",
     "metadata": {},
     "outputs": [
      {
       "latex": [
        "$$\\begin{bmatrix}\\begin{pmatrix}3, & 2\\end{pmatrix}, & \\begin{pmatrix}2, & 2\\end{pmatrix}\\end{bmatrix}$$"
       ],
       "metadata": {},
       "output_type": "pyout",
       "png": "[encoded data removed]",
       "prompt_number": 11,
       "text": [
        "[(3, 2), (2, 2)]"
       ]
      }
     ],
     "prompt_number": 11
    },
    {
     "cell_type": "code",
     "collapsed": false,
     "input": [],
     "language": "python",
     "metadata": {},
     "outputs": [],
     "prompt_number": 11
    }
   ],
   "metadata": {}
  }
 ]
}