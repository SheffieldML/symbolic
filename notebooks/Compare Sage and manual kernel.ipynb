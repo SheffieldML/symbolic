{
 "metadata": {
  "name": ""
 },
 "nbformat": 3,
 "nbformat_minor": 0,
 "worksheets": [
  {
   "cells": [
    {
     "cell_type": "code",
     "collapsed": false,
     "input": [
      "%matplotlib inline\n",
      "import numpy as np\n",
      "import sympy as sym\n",
      "import GPy\n",
      "import symbolic"
     ],
     "language": "python",
     "metadata": {},
     "outputs": [],
     "prompt_number": 1
    },
    {
     "cell_type": "code",
     "collapsed": false,
     "input": [
      "k1 = symbolic.kern.Ode1_eq_lfm(1, lengthscale=0.5, decay=0.01, cse=False)\n",
      "print k1"
     ],
     "language": "python",
     "metadata": {},
     "outputs": [
      {
       "output_type": "stream",
       "stream": "stdout",
       "text": [
        "  Ode1_eq_lfm.  |  Value  |  Constraint  |  Prior  |  Tied to\n",
        "  \u001b[1mdecay       \u001b[0;0m  |   0.01  |              |         |         \n",
        "  \u001b[1mlengthscale \u001b[0;0m  |    0.5  |              |         |         \n",
        "  \u001b[1mscale       \u001b[0;0m  |    1.0  |              |         |         \n",
        "  \u001b[1mvariance    \u001b[0;0m  |    1.0  |              |         |         \n"
       ]
      }
     ],
     "prompt_number": 2
    },
    {
     "cell_type": "code",
     "collapsed": false,
     "input": [
      "k2 = symbolic.kern.Sage_Ode1_eq_lfm(1, lengthscale=0.5, decay=0.01, cse=False)\n",
      "print k2"
     ],
     "language": "python",
     "metadata": {},
     "outputs": [
      {
       "output_type": "stream",
       "stream": "stdout",
       "text": [
        "  Ode1_eq_lfm.  |  Value  |  Constraint  |  Prior  |  Tied to\n",
        "  \u001b[1mdecay       \u001b[0;0m  |   0.01  |              |         |         \n",
        "  \u001b[1mlengthscale \u001b[0;0m  |    0.5  |              |         |         \n",
        "  \u001b[1mscale       \u001b[0;0m  |    1.0  |              |         |         \n",
        "  \u001b[1mvariance    \u001b[0;0m  |    1.0  |              |         |         \n"
       ]
      }
     ],
     "prompt_number": 3
    },
    {
     "cell_type": "code",
     "collapsed": false,
     "input": [
      "n = 3\n",
      "times = np.linspace(0.,1.,n)\n",
      "labels = [0,1]\n",
      "X = np.dstack(np.meshgrid(times, labels)).reshape(len(labels)*n, 2)\n",
      "X"
     ],
     "language": "python",
     "metadata": {},
     "outputs": [
      {
       "metadata": {},
       "output_type": "pyout",
       "prompt_number": 4,
       "text": [
        "array([[ 0. ,  0. ],\n",
        "       [ 0.5,  0. ],\n",
        "       [ 1. ,  0. ],\n",
        "       [ 0. ,  1. ],\n",
        "       [ 0.5,  1. ],\n",
        "       [ 1. ,  1. ]])"
       ]
      }
     ],
     "prompt_number": 4
    },
    {
     "cell_type": "code",
     "collapsed": false,
     "input": [
      "K2 = k2.K(X,X)\n",
      "K1 = k1.K(X,X)\n",
      "print np.diag(K2)\n",
      "print np.diag(K1)\n",
      "np.diag(K2-K1)"
     ],
     "language": "python",
     "metadata": {},
     "outputs": [
      {
       "output_type": "stream",
       "stream": "stdout",
       "text": [
        "[ 1.          1.          1.         -0.          0.21430819  0.63033213]\n",
        "[ 1.          1.          1.          0.          0.21430819  0.63033213]\n"
       ]
      },
      {
       "output_type": "stream",
       "stream": "stderr",
       "text": [
        "/usr/local/lib/python2.7/dist-packages/GPy-0.4.6-py2.7.egg/GPy/util/functions.py:25: RuntimeWarning: divide by zero encountered in log\n",
        "  return np.where(x0>x1, -x1*x1 + np.log(erfcx(x1)-np.exp(-x0**2+x1**2)*erfcx(x0)), -x0*x0 + np.log(np.exp(-x1**2+x0**2)*erfcx(x1) - erfcx(x0)))\n"
       ]
      },
      {
       "metadata": {},
       "output_type": "pyout",
       "prompt_number": 5,
       "text": [
        "array([  0.00000000e+00,   0.00000000e+00,   0.00000000e+00,\n",
        "        -0.00000000e+00,   4.27990976e-14,   3.67483821e-14])"
       ]
      }
     ],
     "prompt_number": 5
    },
    {
     "cell_type": "code",
     "collapsed": false,
     "input": [
      "k1.code['k']['function']"
     ],
     "language": "python",
     "metadata": {},
     "outputs": [
      {
       "metadata": {},
       "output_type": "pyout",
       "prompt_number": 6,
       "text": [
        "'(Piecewise((sqrt(pi)*lengthscale*scale**2*variance*(exp(0.25*decay**2*lengthscale**2 - decay*(-x_0 + z_0) + differfln(0.5*decay*lengthscale + x_0/lengthscale, 0.5*decay*lengthscale - (-x_0 + z_0)/lengthscale))/(2*decay) + exp(0.25*decay**2*lengthscale**2 - decay*(x_0 - z_0) + differfln(0.5*decay*lengthscale + z_0/lengthscale, 0.5*decay*lengthscale - (x_0 - z_0)/lengthscale))/(2*decay) - exp(0.25*decay**2*lengthscale**2 - decay*x_0 - decay*z_0 + differfln(0.5*decay*lengthscale, 0.5*decay*lengthscale - x_0/lengthscale))/(2*decay) - exp(0.25*decay**2*lengthscale**2 - decay*x_0 - decay*z_0 + differfln(0.5*decay*lengthscale, 0.5*decay*lengthscale - z_0/lengthscale))/(2*decay))/2,((x_1 == 1) & (z_1 == 1))),(sqrt(pi)*lengthscale*scale*variance*(erf(decay*lengthscale/2 + z_0/lengthscale) - erf(decay*lengthscale/2 - (x_0 - z_0)/lengthscale))*exp(decay**2*lengthscale**2/4 + decay*(-x_0 + z_0))/2,((x_1 == 0) & (z_1 == 1))),(sqrt(pi)*lengthscale*scale*variance*(erf(decay*lengthscale/2 + x_0/lengthscale) - erf(decay*lengthscale/2 - (-x_0 + z_0)/lengthscale))*exp(decay**2*lengthscale**2/4 + decay*(x_0 - z_0))/2,((x_1 == 1) & (z_1 == 0))),(variance*exp(-(x_0 - z_0)**2/lengthscale**2),True)))'"
       ]
      }
     ],
     "prompt_number": 6
    },
    {
     "cell_type": "code",
     "collapsed": false,
     "input": [
      "np.min(np.linalg.eigvals(K1))"
     ],
     "language": "python",
     "metadata": {},
     "outputs": [
      {
       "metadata": {},
       "output_type": "pyout",
       "prompt_number": 7,
       "text": [
        "-0.4529309619999291"
       ]
      }
     ],
     "prompt_number": 7
    },
    {
     "cell_type": "code",
     "collapsed": false,
     "input": [
      "np.min(np.linalg.eigvals(K2))"
     ],
     "language": "python",
     "metadata": {},
     "outputs": [
      {
       "metadata": {},
       "output_type": "pyout",
       "prompt_number": 8,
       "text": [
        "-0.45293096199991273"
       ]
      }
     ],
     "prompt_number": 8
    },
    {
     "cell_type": "code",
     "collapsed": false,
     "input": [
      "print K1[:n,:n]\n",
      "print K2[:n,:n]\n",
      "K2[:n,:n] - K1[:n,:n]"
     ],
     "language": "python",
     "metadata": {},
     "outputs": [
      {
       "output_type": "stream",
       "stream": "stdout",
       "text": [
        "[[ 1.          0.36787944  0.01831564]\n",
        " [ 0.36787944  1.          0.36787944]\n",
        " [ 0.01831564  0.36787944  1.        ]]\n",
        "[[ 1.          0.36787944  0.01831564]\n",
        " [ 0.36787944  1.          0.36787944]\n",
        " [ 0.01831564  0.36787944  1.        ]]\n"
       ]
      },
      {
       "metadata": {},
       "output_type": "pyout",
       "prompt_number": 9,
       "text": [
        "array([[ 0.,  0.,  0.],\n",
        "       [ 0.,  0.,  0.],\n",
        "       [ 0.,  0.,  0.]])"
       ]
      }
     ],
     "prompt_number": 9
    },
    {
     "cell_type": "code",
     "collapsed": false,
     "input": [
      "print K1[:n,n:]\n",
      "print K2[:n,n:]\n",
      "K2[:n,n:] - K1[:n,n:]"
     ],
     "language": "python",
     "metadata": {},
     "outputs": [
      {
       "output_type": "stream",
       "stream": "stdout",
       "text": [
        "[[ 0.          0.          0.        ]\n",
        " [ 0.37233706  0.3726231   0.06752994]\n",
        " [ 0.43786978  0.74310169  0.43981623]]\n",
        "[[-0.         -0.         -0.        ]\n",
        " [ 0.37233706  0.3726231   0.06752994]\n",
        " [ 0.43786978  0.74310169  0.43981623]]\n"
       ]
      },
      {
       "metadata": {},
       "output_type": "pyout",
       "prompt_number": 10,
       "text": [
        "array([[ -0.00000000e+00,  -0.00000000e+00,  -0.00000000e+00],\n",
        "       [  0.00000000e+00,   5.55111512e-17,   0.00000000e+00],\n",
        "       [  0.00000000e+00,   2.22044605e-16,   5.55111512e-17]])"
       ]
      }
     ],
     "prompt_number": 10
    },
    {
     "cell_type": "code",
     "collapsed": false,
     "input": [
      "print K1[n:,n:]\n",
      "print K2[n:,n:]\n",
      "K2[n:,n:] - K1[n:,n:]"
     ],
     "language": "python",
     "metadata": {},
     "outputs": [
      {
       "output_type": "stream",
       "stream": "stdout",
       "text": [
        "[[ 0.          0.          0.        ]\n",
        " [ 0.          0.21430819  0.31567429]\n",
        " [ 0.          0.31567429  0.63033213]]\n",
        "[[-0.         -0.         -0.        ]\n",
        " [-0.          0.21430819  0.31567429]\n",
        " [-0.          0.31567429  0.63033213]]\n"
       ]
      },
      {
       "metadata": {},
       "output_type": "pyout",
       "prompt_number": 11,
       "text": [
        "array([[ -0.00000000e+00,  -0.00000000e+00,  -0.00000000e+00],\n",
        "       [ -0.00000000e+00,   4.27990976e-14,   1.22679644e-14],\n",
        "       [ -0.00000000e+00,   1.22679644e-14,   3.67483821e-14]])"
       ]
      }
     ],
     "prompt_number": 11
    }
   ],
   "metadata": {}
  }
 ]
}