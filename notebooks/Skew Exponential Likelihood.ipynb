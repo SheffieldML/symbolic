{
 "metadata": {
  "name": "",
  "signature": "sha256:a3040e4a36a9099c39791357f764b3499c5c02317836dd64d6e86fb50a91e528"
 },
 "nbformat": 3,
 "nbformat_minor": 0,
 "worksheets": [
  {
   "cells": [
    {
     "cell_type": "markdown",
     "metadata": {},
     "source": [
      "# Skew Exponential Likelihood for Olympic Marathon Data\n",
      "\n",
      "### April 21st 2014, Neil Lawrence"
     ]
    },
    {
     "cell_type": "markdown",
     "metadata": {},
     "source": [
      "In this notebook we demonstrate the skew *exponential* likelihood on the olympic marathon data. This is a symbolic based likelihood. The skew exponential distribution is inspired by the skew normal. It is the combination of a (one-sided) exponential distribution and the cdf of the normal distribution. The aim is to give heavier tails than the skew *normal* distribution. It is also parameterized by a scale and a shape parameter."
     ]
    },
    {
     "cell_type": "code",
     "collapsed": false,
     "input": [
      "%pylab inline\n",
      "import sympy as sym\n",
      "import numpy as np\n",
      "import pylab as pb\n",
      "import GPy\n",
      "import symbolic\n",
      "import pods\n",
      "sym.init_printing()"
     ],
     "language": "python",
     "metadata": {},
     "outputs": [
      {
       "output_type": "stream",
       "stream": "stdout",
       "text": [
        "Populating the interactive namespace from numpy and matplotlib\n"
       ]
      }
     ],
     "prompt_number": 1
    },
    {
     "cell_type": "markdown",
     "metadata": {},
     "source": [
      "Now we set up the skew normal likelihood. This distribution is dependent on a scale parameter and a skew parameter. Here we are initializing the scale parameter to 1 and the skew parameter to 1 (slight positive skew). The scale parameter needs to be constrained positive, the skew parameter can go negative if a negative skew is possible. "
     ]
    },
    {
     "cell_type": "code",
     "collapsed": false,
     "input": [
      "likelihood = symbolic.likelihoods.Skew_exponential()\n",
      "likelihood.scale = 1.\n",
      "likelihood.scale.constrain_positive()\n",
      "likelihood.skew = 1.\n"
     ],
     "language": "python",
     "metadata": {},
     "outputs": [],
     "prompt_number": 2
    },
    {
     "cell_type": "markdown",
     "metadata": {},
     "source": [
      "For all the symbolic likelihoods we implement a log pdf this can be visualized from the model as follows"
     ]
    },
    {
     "cell_type": "code",
     "collapsed": false,
     "input": [
      "likelihood.expressions['log_pdf']['function']"
     ],
     "language": "python",
     "metadata": {},
     "outputs": [
      {
       "latex": [
        "$$cache_{5} - \\log{\\left (scale \\right )} + \\log{\\left (shape \\right )} + \\operatorname{normcdfln}{\\left (cache_{5} sub_{6} \\right )}$$"
       ],
       "metadata": {},
       "output_type": "pyout",
       "png": "[encoded data removed]",
       "prompt_number": 3,
       "text": [
        "cache\u2085 - log(scale) + log(shape) + normcdfln(cache\u2085\u22c5sub\u2086)"
       ]
      }
     ],
     "prompt_number": 3
    },
    {
     "cell_type": "code",
     "collapsed": false,
     "input": [
      "a = sym.exp(likelihood._display_expression(['log_pdf', 'derivative', 'f_0']))"
     ],
     "language": "python",
     "metadata": {},
     "outputs": [],
     "prompt_number": 4
    },
    {
     "cell_type": "code",
     "collapsed": false,
     "input": [
      "a"
     ],
     "language": "python",
     "metadata": {},
     "outputs": [
      {
       "output_type": "stream",
       "stream": "stderr",
       "text": [
        "/Users/neil/Library/Enthought/Canopy_64bit/User/lib/python2.7/site-packages/IPython/core/formatters.py:239: FormatterWarning: Exception in image/png formatter: 'latex' exited abnormally with the following output:\n",
        "This is pdfTeX, Version 3.1415926-2.5-1.40.14 (TeX Live 2013)\n",
        " restricted \\write18 enabled.\n",
        "entering extended mode\n",
        "(./texput.tex\n",
        "LaTeX2e <2011/06/27>\n",
        "Babel <3.9f> and hyphenation patterns for 78 languages loaded.\n",
        "(/usr/local/texlive/2013/texmf-dist/tex/latex/base/article.cls\n",
        "Document Class: article 2007/10/19 v1.4h Standard LaTeX document class\n",
        "(/usr/local/texlive/2013/texmf-dist/tex/latex/base/size10.clo))\n",
        "(/usr/local/texlive/2013/texmf-dist/tex/latex/amsmath/amsmath.sty\n",
        "For additional information on amsmath, use the `?' option.\n",
        "(/usr/local/texlive/2013/texmf-dist/tex/latex/amsmath/amstext.sty\n",
        "(/usr/local/texlive/2013/texmf-dist/tex/latex/amsmath/amsgen.sty))\n",
        "(/usr/local/texlive/2013/texmf-dist/tex/latex/amsmath/amsbsy.sty)\n",
        "(/usr/local/texlive/2013/texmf-dist/tex/latex/amsmath/amsopn.sty))\n",
        "(/usr/local/texlive/2013/texmf-dist/tex/latex/amsfonts/amsfonts.sty)\n",
        "No file texput.aux.\n",
        "(/usr/local/texlive/2013/texmf-dist/tex/latex/amsfonts/umsa.fd)\n",
        "(/usr/local/texlive/2013/texmf-dist/tex/latex/amsfonts/umsb.fd)\n",
        "! Text line contains an invalid character.\n",
        "l.4 \\begin{equation*}e^{- \\frac{\\sqrt{2} ^^G\n",
        "                                            lpha}{\\sqrt{\\pi} \\sigma \\operato...\n",
        "No pages of output.\n",
        "Transcript written on texput.log.\n",
        "\n",
        "  FormatterWarning,\n"
       ]
      },
      {
       "latex": [
        "$$e^{- \\frac{\\sqrt{2} \u0007lpha}{\\sqrt{\\pi} \\sigma \\operatorname{erfcx}{\\left (\\frac{\\sqrt{2} \u0007lpha f_{0}}{2 \\sigma} - \\frac{\\sqrt{2} \u0007lpha y_{0}}{2 \\sigma} \\right )}} + \\frac{1}{\\sigma}}$$"
       ],
       "metadata": {},
       "output_type": "pyout",
       "prompt_number": 5,
       "text": [
        "                         ___                                   \n",
        "                       \u2572\u2571 2 \u22c5\u0007lpha                         1   \n",
        " - \u2500\u2500\u2500\u2500\u2500\u2500\u2500\u2500\u2500\u2500\u2500\u2500\u2500\u2500\u2500\u2500\u2500\u2500\u2500\u2500\u2500\u2500\u2500\u2500\u2500\u2500\u2500\u2500\u2500\u2500\u2500\u2500\u2500\u2500\u2500\u2500\u2500\u2500\u2500\u2500\u2500\u2500\u2500\u2500\u2500\u2500\u2500\u2500\u2500\u2500\u2500 + \u2500\u2500\u2500\u2500\u2500\u2500\n",
        "                     \u239b  ___              ___         \u239e   \\sigma\n",
        "     ___             \u239c\u2572\u2571 2 \u22c5\u0007lpha\u22c5f\u2080   \u2572\u2571 2 \u22c5\u0007lpha\u22c5y\u2080\u239f         \n",
        "   \u2572\u2571 \u03c0 \u22c5\\sigma\u22c5erfcx\u239c\u2500\u2500\u2500\u2500\u2500\u2500\u2500\u2500\u2500\u2500\u2500\u2500\u2500\u2500 - \u2500\u2500\u2500\u2500\u2500\u2500\u2500\u2500\u2500\u2500\u2500\u2500\u2500\u2500\u239f         \n",
        "                     \u239d   2\u22c5\\sigma         2\u22c5\\sigma   \u23a0         \n",
        "\u212f                                                              "
       ]
      }
     ],
     "prompt_number": 5
    },
    {
     "cell_type": "markdown",
     "metadata": {},
     "source": [
      "Here the log pdf is written in the form of a special function: the log cdf of the normal distribution. This is a more numerically stable way to compute the log pdf than by calling log(normcdf(x)) directly because it makes use of the scaled complementry error function (erfcx(x)). This also ensures that the second derivatives are computed in terms of this funciton which helps retain some numerical stability. "
     ]
    },
    {
     "cell_type": "code",
     "collapsed": false,
     "input": [
      "likelihood.expressions['log_pdf']['second_derivative']"
     ],
     "language": "python",
     "metadata": {},
     "outputs": [
      {
       "latex": [
        "$$\\begin{Bmatrix}f_0 : \\frac{cache_{10} sub_{0}}{sub_{3}}, & scale : - \\frac{sub_{0}}{sub_{3}} \\left(cache_{10} cache_{5} + 2 cache_{7} sub_{6} sub_{7} - 2\\right), & shape : \\frac{cache_{7} sub_{0}}{scale} \\left(sub_{8} + \\frac{cache_{3} cache_{5}}{cache_{1}} shape\\right)\\end{Bmatrix}$$"
       ],
       "metadata": {},
       "output_type": "pyout",
       "png": "[encoded data removed]",
       "prompt_number": 6,
       "text": [
        "\u23a7                                                                             \n",
        "\u23aa                                                                             \n",
        "\u23a8     cache\u2081\u2080\u22c5sub\u2080         -sub\u2080\u22c5(cache\u2081\u2080\u22c5cache\u2085 + 2\u22c5cache\u2087\u22c5sub\u2086\u22c5sub\u2087 - 2)    \n",
        "\u23aaf_0: \u2500\u2500\u2500\u2500\u2500\u2500\u2500\u2500\u2500\u2500\u2500\u2500, scale: \u2500\u2500\u2500\u2500\u2500\u2500\u2500\u2500\u2500\u2500\u2500\u2500\u2500\u2500\u2500\u2500\u2500\u2500\u2500\u2500\u2500\u2500\u2500\u2500\u2500\u2500\u2500\u2500\u2500\u2500\u2500\u2500\u2500\u2500\u2500\u2500\u2500\u2500\u2500\u2500\u2500\u2500\u2500\u2500\u2500\u2500\u2500\u2500, s\n",
        "\u23a9         sub\u2083                                   sub\u2083                         \n",
        "\n",
        "                  \u239b       cache\u2083\u22c5cache\u2085\u22c5shape\u239e\u23ab\n",
        "      cache\u2087\u22c5sub\u2080\u22c5\u239csub\u2088 + \u2500\u2500\u2500\u2500\u2500\u2500\u2500\u2500\u2500\u2500\u2500\u2500\u2500\u2500\u2500\u2500\u2500\u2500\u2500\u239f\u23aa\n",
        "                  \u239d              cache\u2081      \u23a0\u23ac\n",
        "hape: \u2500\u2500\u2500\u2500\u2500\u2500\u2500\u2500\u2500\u2500\u2500\u2500\u2500\u2500\u2500\u2500\u2500\u2500\u2500\u2500\u2500\u2500\u2500\u2500\u2500\u2500\u2500\u2500\u2500\u2500\u2500\u2500\u2500\u2500\u2500\u2500\u2500\u2500\u2500\u2500\u23aa\n",
        "                       scale                  \u23ad"
       ]
      }
     ],
     "prompt_number": 6
    },
    {
     "cell_type": "markdown",
     "metadata": {},
     "source": [
      "We can also print the likelihood to check the parameters."
     ]
    },
    {
     "cell_type": "code",
     "collapsed": false,
     "input": [
      "print likelihood"
     ],
     "language": "python",
     "metadata": {},
     "outputs": [
      {
       "output_type": "stream",
       "stream": "stdout",
       "text": [
        "  Skew_exponential.  |  Value  |  Constraint  |  Prior  |  Tied to\n",
        "  \u001b[1mscale            \u001b[0;0m  |    1.0  |     +ve      |         |         \n",
        "  \u001b[1mshape            \u001b[0;0m  |    1.0  |              |         |         \n"
       ]
      }
     ],
     "prompt_number": 7
    },
    {
     "cell_type": "markdown",
     "metadata": {},
     "source": [
      "And finally we can plot the likelihoood to see it's skewed form."
     ]
    },
    {
     "cell_type": "code",
     "collapsed": false,
     "input": [
      "xs = linspace(-4, 4, 100)\n",
      "ys = []\n",
      "for x in xs: \n",
      "    ys.append(likelihood.pdf(0, x))\n",
      "plt.plot(np.asarray(xs), np.asarray(ys))"
     ],
     "language": "python",
     "metadata": {},
     "outputs": [
      {
       "metadata": {},
       "output_type": "pyout",
       "prompt_number": 8,
       "text": [
        "[<matplotlib.lines.Line2D at 0x1101acd10>]"
       ]
      },
      {
       "metadata": {},
       "output_type": "display_data",
       "png": "[encoded data removed]",
       "text": [
        "<matplotlib.figure.Figure at 0x110183e10>"
       ]
      }
     ],
     "prompt_number": 8
    },
    {
     "cell_type": "markdown",
     "metadata": {},
     "source": [
      "Now we load in the olympic marathon data. We will aim to predict *log* times. By using a skew likelihood we are acknowledging the fact that while it's quite possible for a runner to go slower (due to weather or difficult courses) it is harder for a runner to go faster than the limits of human ability. "
     ]
    },
    {
     "cell_type": "code",
     "collapsed": false,
     "input": [
      "data = pods.datasets.olympic_marathon_men()\n",
      "X = data['X']\n",
      "y = np.log(data['Y'])\n",
      "# Build a covariance function which allows for a non-zero mean.\n",
      "kern = GPy.kern.RBF(1, name='trend', lengthscale=10., variance=4.) + GPy.kern.Bias(1, name='offset', variance=4) \n",
      "inference = GPy.inference.latent_function_inference.laplace.Laplace()\n",
      "model = GPy.core.GP(X, y, likelihood=likelihood, kernel=kern, inference_method=inference)\n"
     ],
     "language": "python",
     "metadata": {},
     "outputs": [
      {
       "output_type": "stream",
       "stream": "stderr",
       "text": [
        "/Users/neil/SheffieldML/GPy/GPy/inference/latent_function_inference/laplace.py:134: UserWarning: f_hat now fine again\n",
        "  warnings.warn(\"f_hat now fine again\")\n"
       ]
      }
     ],
     "prompt_number": 9
    },
    {
     "cell_type": "markdown",
     "metadata": {},
     "source": [
      "We can now print the model and check its gradients."
     ]
    },
    {
     "cell_type": "code",
     "collapsed": false,
     "input": [
      "print model\n",
      "model.checkgrad(verbose=True)"
     ],
     "language": "python",
     "metadata": {},
     "outputs": [
      {
       "output_type": "stream",
       "stream": "stdout",
       "text": [
        "\n",
        "Name                 : gp\n",
        "Log-likelihood       : -29.8697765716\n",
        "Number of Parameters : 5\n",
        "Parameters:\n",
        "  gp.                     |  Value  |  Constraint  |  Prior  |  Tied to\n",
        "  \u001b[1madd.trend.variance    \u001b[0;0m  |    4.0  |     +ve      |         |         \n",
        "  \u001b[1madd.trend.lengthscale \u001b[0;0m  |   10.0  |     +ve      |         |         \n",
        "  \u001b[1madd.offset.variance   \u001b[0;0m  |    4.0  |     +ve      |         |         \n",
        "  \u001b[1mSkew_exponential.scale\u001b[0;0m  |    1.0  |     +ve      |         |         \n",
        "  \u001b[1mSkew_exponential.shape\u001b[0;0m  |    1.0  |              |         |         \n",
        "               Name                |     Ratio     |  Difference   |  Analytical   |   Numerical   \n",
        "---------------------------------------------------------------------------------------------------\n",
        "\u001b[91m gp.add.trend.variance[[0]] \u001b[0m       |   1.328573    |   0.334153    |   1.016982    |   1.351135    "
       ]
      },
      {
       "output_type": "stream",
       "stream": "stdout",
       "text": [
        "\n",
        "\u001b[91m gp.add.trend.lengthscale[[0]] \u001b[0m    |   0.719014    |   0.166371    |   -0.592097   |   -0.425727   "
       ]
      },
      {
       "output_type": "stream",
       "stream": "stdout",
       "text": [
        "\n",
        "\u001b[91m gp.add.offset.variance[[0]] \u001b[0m      |   38.552680   |   2.088096    |   0.055604    |   2.143701    "
       ]
      },
      {
       "output_type": "stream",
       "stream": "stdout",
       "text": [
        "\n",
        "\u001b[91m gp.Skew_exponential.scale[[0]] \u001b[0m   |   0.741854    |   3.585200    |   13.888252   |   10.303051   "
       ]
      },
      {
       "output_type": "stream",
       "stream": "stdout",
       "text": [
        "\n",
        "\u001b[91m gp.Skew_exponential.shape[[0]] \u001b[0m   |   1.117791    |   2.031492    |  -17.246531   |  -19.278023   "
       ]
      },
      {
       "output_type": "stream",
       "stream": "stdout",
       "text": [
        "\n"
       ]
      },
      {
       "metadata": {},
       "output_type": "pyout",
       "prompt_number": 10,
       "text": [
        "False"
       ]
      }
     ],
     "prompt_number": 10
    },
    {
     "cell_type": "markdown",
     "metadata": {},
     "source": [
      "And make a plot of the predictions with the initial model."
     ]
    },
    {
     "cell_type": "code",
     "collapsed": false,
     "input": [
      "model.plot_f()"
     ],
     "language": "python",
     "metadata": {},
     "outputs": [
      {
       "metadata": {},
       "output_type": "pyout",
       "prompt_number": 11,
       "text": [
        "{'gpplot': [[<matplotlib.lines.Line2D at 0x110305bd0>],\n",
        "  [<matplotlib.patches.Polygon at 0x110305e10>],\n",
        "  [<matplotlib.lines.Line2D at 0x11030a490>],\n",
        "  [<matplotlib.lines.Line2D at 0x11030a9d0>]]}"
       ]
      },
      {
       "metadata": {},
       "output_type": "display_data",
       "png": "[encoded data removed]",
       "text": [
        "<matplotlib.figure.Figure at 0x103fee850>"
       ]
      }
     ],
     "prompt_number": 11
    },
    {
     "cell_type": "markdown",
     "metadata": {},
     "source": [
      "Now we will optimize the model for 100 iterations of scaled conjugate gradients."
     ]
    },
    {
     "cell_type": "code",
     "collapsed": false,
     "input": [
      "model.optimize(messages=True, max_iters=100)"
     ],
     "language": "python",
     "metadata": {},
     "outputs": [],
     "prompt_number": 12
    },
    {
     "cell_type": "heading",
     "level": 1,
     "metadata": {},
     "source": [
      "And of course we can plot the updated model and the new form of the likleihood."
     ]
    },
    {
     "cell_type": "code",
     "collapsed": false,
     "input": [
      "print likelihood\n",
      "xs = linspace(-0.5, 0.5, 100)\n",
      "ys = []\n",
      "for x in xs: \n",
      "    ys.append(likelihood.pdf(0, x))\n",
      "plt.plot(np.asarray(xs), np.asarray(ys))"
     ],
     "language": "python",
     "metadata": {},
     "outputs": [
      {
       "output_type": "stream",
       "stream": "stdout",
       "text": [
        "  Skew_exponential.  |      Value       |  Constraint  |  Prior  |  Tied to\n",
        "  \u001b[1mscale            \u001b[0;0m  |  0.651555892265  |     +ve      |         |         \n",
        "  \u001b[1mshape            \u001b[0;0m  |    1.7777595262  |              |         |         \n"
       ]
      },
      {
       "metadata": {},
       "output_type": "pyout",
       "prompt_number": 13,
       "text": [
        "[<matplotlib.lines.Line2D at 0x110c69390>]"
       ]
      },
      {
       "metadata": {},
       "output_type": "display_data",
       "png": "[encoded data removed]",
       "text": [
        "<matplotlib.figure.Figure at 0x1106aa050>"
       ]
      }
     ],
     "prompt_number": 13
    },
    {
     "cell_type": "markdown",
     "metadata": {},
     "source": [
      "This is now more skewed than the original and has a smaller scale. The updated predictions can also be shown."
     ]
    },
    {
     "cell_type": "code",
     "collapsed": false,
     "input": [
      "model.plot_f()\n",
      "print model"
     ],
     "language": "python",
     "metadata": {},
     "outputs": [
      {
       "output_type": "stream",
       "stream": "stdout",
       "text": [
        "\n",
        "Name                 : gp\n",
        "Log-likelihood       : -2.96465124357\n",
        "Number of Parameters : 5\n",
        "Parameters:\n",
        "  gp.                     |      Value       |  Constraint  |  Prior  |  Tied to\n",
        "  \u001b[1madd.trend.variance    \u001b[0;0m  |    3.9549967638  |     +ve      |         |         \n",
        "  \u001b[1madd.trend.lengthscale \u001b[0;0m  |   10.0267003738  |     +ve      |         |         \n",
        "  \u001b[1madd.offset.variance   \u001b[0;0m  |   3.99753841377  |     +ve      |         |         \n",
        "  \u001b[1mSkew_exponential.scale\u001b[0;0m  |  0.651555892265  |     +ve      |         |         \n",
        "  \u001b[1mSkew_exponential.shape\u001b[0;0m  |    1.7777595262  |              |         |         \n"
       ]
      },
      {
       "metadata": {},
       "output_type": "display_data",
       "png": "[encoded data removed]",
       "text": [
        "<matplotlib.figure.Figure at 0x110314e10>"
       ]
      }
     ],
     "prompt_number": 14
    },
    {
     "cell_type": "markdown",
     "metadata": {},
     "source": [
      "Finally, as a sanity check we look at the final model gradient."
     ]
    },
    {
     "cell_type": "code",
     "collapsed": false,
     "input": [
      "model.checkgrad(verbose=True)\n"
     ],
     "language": "python",
     "metadata": {},
     "outputs": [
      {
       "output_type": "stream",
       "stream": "stdout",
       "text": [
        "               Name                |     Ratio     |  Difference   |  Analytical   |   Numerical   \n",
        "---------------------------------------------------------------------------------------------------\n",
        "\u001b[91m gp.add.trend.variance[[0]] \u001b[0m       |   1.413921    |   0.433459    |   1.047203    |   1.480662    "
       ]
      },
      {
       "output_type": "stream",
       "stream": "stdout",
       "text": [
        "\n",
        "\u001b[91m gp.add.trend.lengthscale[[0]] \u001b[0m    |   1.073573    |   0.046482    |   -0.631788   |   -0.678270   "
       ]
      },
      {
       "output_type": "stream",
       "stream": "stdout",
       "text": [
        "\n",
        "\u001b[91m gp.add.offset.variance[[0]] \u001b[0m      |   54.942122   |   3.608751    |   0.066900    |   3.675652    "
       ]
      },
      {
       "output_type": "stream",
       "stream": "stdout",
       "text": [
        "\n",
        "\u001b[91m gp.Skew_exponential.scale[[0]] \u001b[0m   |   0.671080    |   6.551550    |   19.918349   |   13.366800   "
       ]
      },
      {
       "output_type": "stream",
       "stream": "stdout",
       "text": [
        "\n",
        "\u001b[91m gp.Skew_exponential.shape[[0]] \u001b[0m   |   1.878205    |   9.377686    |  -10.678243   |  -20.055930   "
       ]
      },
      {
       "output_type": "stream",
       "stream": "stdout",
       "text": [
        "\n"
       ]
      },
      {
       "metadata": {},
       "output_type": "pyout",
       "prompt_number": 15,
       "text": [
        "False"
       ]
      }
     ],
     "prompt_number": 15
    },
    {
     "cell_type": "markdown",
     "metadata": {},
     "source": [
      "A little worringly the final model gradient's do not check numerically. We need to do further investigation to check where this problem is arising."
     ]
    }
   ],
   "metadata": {}
  }
 ]
}